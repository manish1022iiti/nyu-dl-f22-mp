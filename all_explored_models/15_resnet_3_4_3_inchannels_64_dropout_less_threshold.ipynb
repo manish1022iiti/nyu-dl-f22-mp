{
  "cells": [
    {
      "cell_type": "markdown",
      "source": [
        "https://www.kaggle.com/code/greatcodes/pytorch-cnn-resnet18-cifar10/notebook\n",
        "\n",
        "https://pytorch-tutorial.readthedocs.io/en/latest/tutorial/chapter03_intermediate/3_2_2_cnn_resnet_cifar10/"
      ],
      "metadata": {
        "id": "TS3R6-AKKuSD"
      }
    },
    {
      "cell_type": "code",
      "execution_count": 28,
      "metadata": {
        "execution": {
          "iopub.execute_input": "2020-09-18T14:06:23.323276Z",
          "iopub.status.busy": "2020-09-18T14:06:23.322403Z",
          "iopub.status.idle": "2020-09-18T14:06:33.073785Z",
          "shell.execute_reply": "2020-09-18T14:06:33.073171Z"
        },
        "papermill": {
          "duration": 9.766997,
          "end_time": "2020-09-18T14:06:33.073915",
          "exception": false,
          "start_time": "2020-09-18T14:06:23.306918",
          "status": "completed"
        },
        "tags": [],
        "colab": {
          "base_uri": "https://localhost:8080/"
        },
        "id": "40qwzP9AKs_c",
        "outputId": "2a0c5c36-f3b2-4eb5-c1ad-9c57179c05e4"
      },
      "outputs": [
        {
          "output_type": "stream",
          "name": "stdout",
          "text": [
            "Looking in indexes: https://pypi.org/simple, https://us-python.pkg.dev/colab-wheels/public/simple/\n",
            "Requirement already satisfied: torchsummary in /usr/local/lib/python3.7/dist-packages (1.5.1)\n"
          ]
        }
      ],
      "source": [
        "!pip install torchsummary"
      ]
    },
    {
      "cell_type": "code",
      "execution_count": 29,
      "metadata": {
        "_cell_guid": "79c7e3d0-c299-4dcb-8224-4455121ee9b0",
        "_uuid": "d629ff2d2480ee46fbb7e2d37f6b5fab8052498a",
        "execution": {
          "iopub.execute_input": "2020-09-18T14:06:33.110540Z",
          "iopub.status.busy": "2020-09-18T14:06:33.109616Z",
          "iopub.status.idle": "2020-09-18T14:06:34.741497Z",
          "shell.execute_reply": "2020-09-18T14:06:34.742236Z"
        },
        "papermill": {
          "duration": 1.655486,
          "end_time": "2020-09-18T14:06:34.742433",
          "exception": false,
          "start_time": "2020-09-18T14:06:33.086947",
          "status": "completed"
        },
        "tags": [],
        "colab": {
          "base_uri": "https://localhost:8080/"
        },
        "id": "1L1ayeUjKs_d",
        "outputId": "ed344cbb-56ca-47df-98de-28e4228425f1"
      },
      "outputs": [
        {
          "output_type": "stream",
          "name": "stdout",
          "text": [
            "cuda\n"
          ]
        }
      ],
      "source": [
        "# Importing Libraries\n",
        "import os\n",
        "import copy\n",
        "import random\n",
        "import numpy as np\n",
        "import pandas as pd\n",
        "import torch\n",
        "import torchvision\n",
        "import torchvision.transforms as transforms\n",
        "from torchsummary import summary\n",
        "import torch.utils.data as data\n",
        "import torch.nn as nn\n",
        "import torch.nn.functional as F\n",
        "import torch.optim as optim\n",
        "from torch.optim.lr_scheduler import StepLR, ReduceLROnPlateau\n",
        "\n",
        "import matplotlib.pyplot as plt\n",
        "%matplotlib inline\n",
        "\n",
        "SEED = 1234\n",
        "\n",
        "device = \"cuda\" if torch.cuda.is_available else \"cpu\"\n",
        "print(device)"
      ]
    },
    {
      "cell_type": "code",
      "execution_count": 30,
      "metadata": {
        "execution": {
          "iopub.execute_input": "2020-09-18T14:06:34.781123Z",
          "iopub.status.busy": "2020-09-18T14:06:34.780293Z",
          "iopub.status.idle": "2020-09-18T14:06:34.784939Z",
          "shell.execute_reply": "2020-09-18T14:06:34.784333Z"
        },
        "papermill": {
          "duration": 0.028551,
          "end_time": "2020-09-18T14:06:34.785089",
          "exception": false,
          "start_time": "2020-09-18T14:06:34.756538",
          "status": "completed"
        },
        "tags": [],
        "id": "s_5gkccjKs_e"
      },
      "outputs": [],
      "source": [
        "from torchvision import transforms\n",
        "import numpy as np\n",
        "import torch\n",
        "\n",
        "# Returns a list of transformations when called\n",
        "\n",
        "class GetTransforms():\n",
        "    '''Returns a list of transformations when type as requested amongst train/test\n",
        "       Transforms('train') = list of transforms to apply on training data\n",
        "       Transforms('test') = list of transforms to apply on testing data'''\n",
        "\n",
        "    def __init__(self):\n",
        "        pass\n",
        "\n",
        "    def trainparams(self):\n",
        "        train_transformations = [ #resises the image so it can be perfect for our model.\n",
        "            transforms.RandomHorizontalFlip(), # FLips the image w.r.t horizontal axis\n",
        "            transforms.RandomRotation((-7,7)),     #Rotates the image to a specified angel\n",
        "            transforms.RandomAffine(0, shear=10, scale=(0.8,1.2)), #Performs actions like zooms, change shear angles.\n",
        "            transforms.ColorJitter(brightness=0.2, contrast=0.2, saturation=0.2), # Set the color params\n",
        "            transforms.ToTensor(), # comvert the image to tensor so that it can work with torch\n",
        "            transforms.Normalize((0.491, 0.482, 0.446), (0.247, 0.243, 0.261)) #Normalize all the images\n",
        "            ]\n",
        "\n",
        "        return train_transformations\n",
        "\n",
        "    def testparams(self):\n",
        "        test_transforms = [\n",
        "            transforms.ToTensor(),\n",
        "            transforms.Normalize((0.491, 0.482, 0.446), (0.247, 0.243, 0.261))\n",
        "        ]\n",
        "        return test_transforms"
      ]
    },
    {
      "cell_type": "code",
      "execution_count": 31,
      "metadata": {
        "execution": {
          "iopub.execute_input": "2020-09-18T14:06:34.822176Z",
          "iopub.status.busy": "2020-09-18T14:06:34.821389Z",
          "iopub.status.idle": "2020-09-18T14:06:34.824928Z",
          "shell.execute_reply": "2020-09-18T14:06:34.825448Z"
        },
        "papermill": {
          "duration": 0.026239,
          "end_time": "2020-09-18T14:06:34.825574",
          "exception": false,
          "start_time": "2020-09-18T14:06:34.799335",
          "status": "completed"
        },
        "tags": [],
        "id": "TUmYFrWSKs_g"
      },
      "outputs": [],
      "source": [
        "from torchvision import datasets\n",
        "from torchvision import transforms\n",
        "\n",
        "\n",
        "transformations = GetTransforms()\n",
        "train_transforms = transforms.Compose(transformations.trainparams())\n",
        "test_transforms = transforms.Compose(transformations.testparams())\n",
        "\n",
        "\n",
        "class GetCIFAR10_TrainData():\n",
        "    def __init__(self, dir_name:str):\n",
        "        self.dirname = dir_name\n",
        "\n",
        "    def download_train_data(self):\n",
        "        return datasets.CIFAR10('./data', train=True, download=True, transform=train_transforms)\n",
        "\n",
        "    def download_test_data(self):\n",
        "        return datasets.CIFAR10('./data', train=False, download=True, transform=test_transforms)\n"
      ]
    },
    {
      "cell_type": "code",
      "execution_count": 32,
      "metadata": {
        "execution": {
          "iopub.execute_input": "2020-09-18T14:06:34.859536Z",
          "iopub.status.busy": "2020-09-18T14:06:34.858878Z",
          "iopub.status.idle": "2020-09-18T14:06:42.631720Z",
          "shell.execute_reply": "2020-09-18T14:06:42.631008Z"
        },
        "papermill": {
          "duration": 7.792606,
          "end_time": "2020-09-18T14:06:42.631847",
          "exception": false,
          "start_time": "2020-09-18T14:06:34.839241",
          "status": "completed"
        },
        "tags": [],
        "colab": {
          "base_uri": "https://localhost:8080/"
        },
        "id": "U8mSINXnKs_i",
        "outputId": "28a8942a-5950-4c79-b6ef-dc563a832bf4"
      },
      "outputs": [
        {
          "output_type": "stream",
          "name": "stdout",
          "text": [
            "Files already downloaded and verified\n",
            "Files already downloaded and verified\n"
          ]
        }
      ],
      "source": [
        "cdata = GetCIFAR10_TrainData(os.chdir(\"..\"))\n",
        "trainset = cdata.download_train_data()\n",
        "testset = cdata.download_test_data()\n",
        "\n",
        "VALID_RATIO = 0.9\n",
        "n_train_examples = int(len(trainset) * VALID_RATIO)\n",
        "n_valid_examples = len(trainset) - n_train_examples\n",
        "\n",
        "trainset, validset = data.random_split(trainset, \n",
        "                                           [n_train_examples, n_valid_examples])\n",
        "\n",
        "validset = copy.deepcopy(validset)\n",
        "validset.dataset.transform = test_transforms"
      ]
    },
    {
      "cell_type": "code",
      "source": [
        "len(trainset), len(validset), len(testset)"
      ],
      "metadata": {
        "colab": {
          "base_uri": "https://localhost:8080/"
        },
        "id": "W_h-ul9MYUPZ",
        "outputId": "e284124c-d543-495f-9f7d-57b59ca381ce"
      },
      "execution_count": 33,
      "outputs": [
        {
          "output_type": "execute_result",
          "data": {
            "text/plain": [
              "(45000, 5000, 10000)"
            ]
          },
          "metadata": {},
          "execution_count": 33
        }
      ]
    },
    {
      "cell_type": "code",
      "source": [
        "BATCH_SIZE = 512\n",
        "\n",
        "trainloader = torch.utils.data.DataLoader(trainset, batch_size=BATCH_SIZE,\n",
        "                                          shuffle=True, num_workers=2)\n",
        "validloader = torch.utils.data.DataLoader(validset, batch_size=BATCH_SIZE,\n",
        "                                          shuffle=False, num_workers=2)\n",
        "testloader = torch.utils.data.DataLoader(testset, batch_size=BATCH_SIZE,\n",
        "                                         shuffle=False, num_workers=2)"
      ],
      "metadata": {
        "id": "uybGoOcRQA6S"
      },
      "execution_count": 34,
      "outputs": []
    },
    {
      "cell_type": "markdown",
      "metadata": {
        "papermill": {
          "duration": 0.01586,
          "end_time": "2020-09-18T14:06:42.663889",
          "exception": false,
          "start_time": "2020-09-18T14:06:42.648029",
          "status": "completed"
        },
        "tags": [],
        "id": "H6YIObpwKs_j"
      },
      "source": [
        "# The Model - RESNET18\n"
      ]
    },
    {
      "cell_type": "code",
      "source": [
        "# 3x3 convolution\n",
        "def conv3x3(in_channels, out_channels, stride=1):\n",
        "    return nn.Conv2d(in_channels, out_channels, kernel_size=3, \n",
        "                     stride=stride, padding=1, bias=False)"
      ],
      "metadata": {
        "id": "G9TNZ9fONNbW"
      },
      "execution_count": 35,
      "outputs": []
    },
    {
      "cell_type": "code",
      "execution_count": 36,
      "metadata": {
        "execution": {
          "iopub.execute_input": "2020-09-18T14:06:42.726092Z",
          "iopub.status.busy": "2020-09-18T14:06:42.719704Z",
          "iopub.status.idle": "2020-09-18T14:06:42.729169Z",
          "shell.execute_reply": "2020-09-18T14:06:42.728568Z"
        },
        "papermill": {
          "duration": 0.048555,
          "end_time": "2020-09-18T14:06:42.729267",
          "exception": false,
          "start_time": "2020-09-18T14:06:42.680712",
          "status": "completed"
        },
        "tags": [],
        "id": "yJJ0Idu8Ks_j"
      },
      "outputs": [],
      "source": [
        "# Residual block\n",
        "class ResidualBlock(nn.Module):\n",
        "    def __init__(self, in_channels, out_channels, stride=1, downsample=None):\n",
        "        super(ResidualBlock, self).__init__()\n",
        "        \n",
        "        self.conv1 = conv3x3(in_channels, out_channels, stride)\n",
        "        self.bn1 = nn.BatchNorm2d(out_channels)\n",
        "        self.dropout1 = nn.Dropout(0.1)\n",
        "        \n",
        "        self.relu = nn.ReLU(inplace=True)\n",
        "        \n",
        "        self.conv2 = conv3x3(out_channels, out_channels)\n",
        "        self.bn2 = nn.BatchNorm2d(out_channels)\n",
        "        self.dropout2 = nn.Dropout(0.1)\n",
        "        \n",
        "        self.downsample = downsample\n",
        "\n",
        "    def forward(self, x):\n",
        "        residual = x\n",
        "\n",
        "        out = self.conv1(x)\n",
        "        out = self.bn1(out)\n",
        "        out = self.dropout1(out)\n",
        "        out = self.relu(out)\n",
        "        \n",
        "        out = self.conv2(out)\n",
        "        out = self.bn2(out)\n",
        "        out = self.dropout2(out)\n",
        "        if self.downsample:\n",
        "            residual = self.downsample(x)\n",
        "        out += residual\n",
        "        out = self.relu(out)\n",
        "        \n",
        "        return out\n",
        "\n",
        "# ResNet\n",
        "class ResNet(nn.Module):\n",
        "    def __init__(self, block, layers, num_classes=10):\n",
        "        super(ResNet, self).__init__()\n",
        "        \n",
        "        self.in_channels = 64\n",
        "        \n",
        "        self.conv = conv3x3(in_channels=3, out_channels=64)\n",
        "        self.bn = nn.BatchNorm2d(64)\n",
        "        self.relu = nn.ReLU(inplace=True)\n",
        "\n",
        "        self.layer1 = self.make_layer(block=block, out_channels=64, blocks=layers[0], stride=1)\n",
        "        self.layer2 = self.make_layer(block=block, out_channels=128, blocks=layers[1], stride=2)\n",
        "        self.layer3 = self.make_layer(block=block, out_channels=256, blocks=layers[2], stride=2)\n",
        "        # self.layer4 = self.make_layer(block=block, out_channels=512, blocks=layers[3], stride=2)\n",
        "\n",
        "        self.avg_pool = nn.AvgPool2d(4)\n",
        "        # self.fc = nn.Linear(256, num_classes)\n",
        "        self.fc = nn.Linear(1024, num_classes)\n",
        "\n",
        "    def make_layer(self, block, out_channels, blocks, stride=1):\n",
        "        downsample = None\n",
        "        if (stride != 1) or (self.in_channels != out_channels):\n",
        "            downsample = nn.Sequential(\n",
        "                conv3x3(self.in_channels, out_channels, stride=stride),\n",
        "                nn.BatchNorm2d(out_channels))\n",
        "        layers = []\n",
        "        layers.append(block(self.in_channels, out_channels, stride, downsample))\n",
        "        self.in_channels = out_channels\n",
        "        for i in range(1, blocks):\n",
        "            layers.append(block(out_channels, out_channels))\n",
        "        return nn.Sequential(*layers)\n",
        "\n",
        "    def forward(self, x):\n",
        "        out = self.conv(x)\n",
        "        out = self.bn(out)\n",
        "        out = self.relu(out)\n",
        "        out = self.layer1(out)\n",
        "        out = self.layer2(out)\n",
        "        out = self.layer3(out)\n",
        "        # out = self.layer4(out)\n",
        "        out = self.avg_pool(out)\n",
        "        out = out.view(out.size(0), -1)\n",
        "        out = self.fc(out)\n",
        "        return F.log_softmax(out, dim=-1)\n",
        "\n",
        "def ResNet18():\n",
        "    # return ResNet(ResidualBlock, [2, 2, 2, 2])\n",
        "    return ResNet(ResidualBlock, [3, 4, 3])"
      ]
    },
    {
      "cell_type": "code",
      "execution_count": 37,
      "metadata": {
        "execution": {
          "iopub.execute_input": "2020-09-18T14:06:42.764813Z",
          "iopub.status.busy": "2020-09-18T14:06:42.764098Z",
          "iopub.status.idle": "2020-09-18T14:06:48.527600Z",
          "shell.execute_reply": "2020-09-18T14:06:48.528219Z"
        },
        "papermill": {
          "duration": 5.783641,
          "end_time": "2020-09-18T14:06:48.528379",
          "exception": false,
          "start_time": "2020-09-18T14:06:42.744738",
          "status": "completed"
        },
        "tags": [],
        "colab": {
          "base_uri": "https://localhost:8080/"
        },
        "id": "INT7cGhKKs_k",
        "outputId": "44aff15a-0867-42f8-cf5f-67b8e2a6e60b"
      },
      "outputs": [
        {
          "output_type": "stream",
          "name": "stdout",
          "text": [
            "----------------------------------------------------------------\n",
            "        Layer (type)               Output Shape         Param #\n",
            "================================================================\n",
            "            Conv2d-1           [-1, 64, 32, 32]           1,728\n",
            "       BatchNorm2d-2           [-1, 64, 32, 32]             128\n",
            "              ReLU-3           [-1, 64, 32, 32]               0\n",
            "            Conv2d-4           [-1, 64, 32, 32]          36,864\n",
            "       BatchNorm2d-5           [-1, 64, 32, 32]             128\n",
            "           Dropout-6           [-1, 64, 32, 32]               0\n",
            "              ReLU-7           [-1, 64, 32, 32]               0\n",
            "            Conv2d-8           [-1, 64, 32, 32]          36,864\n",
            "       BatchNorm2d-9           [-1, 64, 32, 32]             128\n",
            "          Dropout-10           [-1, 64, 32, 32]               0\n",
            "             ReLU-11           [-1, 64, 32, 32]               0\n",
            "    ResidualBlock-12           [-1, 64, 32, 32]               0\n",
            "           Conv2d-13           [-1, 64, 32, 32]          36,864\n",
            "      BatchNorm2d-14           [-1, 64, 32, 32]             128\n",
            "          Dropout-15           [-1, 64, 32, 32]               0\n",
            "             ReLU-16           [-1, 64, 32, 32]               0\n",
            "           Conv2d-17           [-1, 64, 32, 32]          36,864\n",
            "      BatchNorm2d-18           [-1, 64, 32, 32]             128\n",
            "          Dropout-19           [-1, 64, 32, 32]               0\n",
            "             ReLU-20           [-1, 64, 32, 32]               0\n",
            "    ResidualBlock-21           [-1, 64, 32, 32]               0\n",
            "           Conv2d-22           [-1, 64, 32, 32]          36,864\n",
            "      BatchNorm2d-23           [-1, 64, 32, 32]             128\n",
            "          Dropout-24           [-1, 64, 32, 32]               0\n",
            "             ReLU-25           [-1, 64, 32, 32]               0\n",
            "           Conv2d-26           [-1, 64, 32, 32]          36,864\n",
            "      BatchNorm2d-27           [-1, 64, 32, 32]             128\n",
            "          Dropout-28           [-1, 64, 32, 32]               0\n",
            "             ReLU-29           [-1, 64, 32, 32]               0\n",
            "    ResidualBlock-30           [-1, 64, 32, 32]               0\n",
            "           Conv2d-31          [-1, 128, 16, 16]          73,728\n",
            "      BatchNorm2d-32          [-1, 128, 16, 16]             256\n",
            "          Dropout-33          [-1, 128, 16, 16]               0\n",
            "             ReLU-34          [-1, 128, 16, 16]               0\n",
            "           Conv2d-35          [-1, 128, 16, 16]         147,456\n",
            "      BatchNorm2d-36          [-1, 128, 16, 16]             256\n",
            "          Dropout-37          [-1, 128, 16, 16]               0\n",
            "           Conv2d-38          [-1, 128, 16, 16]          73,728\n",
            "      BatchNorm2d-39          [-1, 128, 16, 16]             256\n",
            "             ReLU-40          [-1, 128, 16, 16]               0\n",
            "    ResidualBlock-41          [-1, 128, 16, 16]               0\n",
            "           Conv2d-42          [-1, 128, 16, 16]         147,456\n",
            "      BatchNorm2d-43          [-1, 128, 16, 16]             256\n",
            "          Dropout-44          [-1, 128, 16, 16]               0\n",
            "             ReLU-45          [-1, 128, 16, 16]               0\n",
            "           Conv2d-46          [-1, 128, 16, 16]         147,456\n",
            "      BatchNorm2d-47          [-1, 128, 16, 16]             256\n",
            "          Dropout-48          [-1, 128, 16, 16]               0\n",
            "             ReLU-49          [-1, 128, 16, 16]               0\n",
            "    ResidualBlock-50          [-1, 128, 16, 16]               0\n",
            "           Conv2d-51          [-1, 128, 16, 16]         147,456\n",
            "      BatchNorm2d-52          [-1, 128, 16, 16]             256\n",
            "          Dropout-53          [-1, 128, 16, 16]               0\n",
            "             ReLU-54          [-1, 128, 16, 16]               0\n",
            "           Conv2d-55          [-1, 128, 16, 16]         147,456\n",
            "      BatchNorm2d-56          [-1, 128, 16, 16]             256\n",
            "          Dropout-57          [-1, 128, 16, 16]               0\n",
            "             ReLU-58          [-1, 128, 16, 16]               0\n",
            "    ResidualBlock-59          [-1, 128, 16, 16]               0\n",
            "           Conv2d-60          [-1, 128, 16, 16]         147,456\n",
            "      BatchNorm2d-61          [-1, 128, 16, 16]             256\n",
            "          Dropout-62          [-1, 128, 16, 16]               0\n",
            "             ReLU-63          [-1, 128, 16, 16]               0\n",
            "           Conv2d-64          [-1, 128, 16, 16]         147,456\n",
            "      BatchNorm2d-65          [-1, 128, 16, 16]             256\n",
            "          Dropout-66          [-1, 128, 16, 16]               0\n",
            "             ReLU-67          [-1, 128, 16, 16]               0\n",
            "    ResidualBlock-68          [-1, 128, 16, 16]               0\n",
            "           Conv2d-69            [-1, 256, 8, 8]         294,912\n",
            "      BatchNorm2d-70            [-1, 256, 8, 8]             512\n",
            "          Dropout-71            [-1, 256, 8, 8]               0\n",
            "             ReLU-72            [-1, 256, 8, 8]               0\n",
            "           Conv2d-73            [-1, 256, 8, 8]         589,824\n",
            "      BatchNorm2d-74            [-1, 256, 8, 8]             512\n",
            "          Dropout-75            [-1, 256, 8, 8]               0\n",
            "           Conv2d-76            [-1, 256, 8, 8]         294,912\n",
            "      BatchNorm2d-77            [-1, 256, 8, 8]             512\n",
            "             ReLU-78            [-1, 256, 8, 8]               0\n",
            "    ResidualBlock-79            [-1, 256, 8, 8]               0\n",
            "           Conv2d-80            [-1, 256, 8, 8]         589,824\n",
            "      BatchNorm2d-81            [-1, 256, 8, 8]             512\n",
            "          Dropout-82            [-1, 256, 8, 8]               0\n",
            "             ReLU-83            [-1, 256, 8, 8]               0\n",
            "           Conv2d-84            [-1, 256, 8, 8]         589,824\n",
            "      BatchNorm2d-85            [-1, 256, 8, 8]             512\n",
            "          Dropout-86            [-1, 256, 8, 8]               0\n",
            "             ReLU-87            [-1, 256, 8, 8]               0\n",
            "    ResidualBlock-88            [-1, 256, 8, 8]               0\n",
            "           Conv2d-89            [-1, 256, 8, 8]         589,824\n",
            "      BatchNorm2d-90            [-1, 256, 8, 8]             512\n",
            "          Dropout-91            [-1, 256, 8, 8]               0\n",
            "             ReLU-92            [-1, 256, 8, 8]               0\n",
            "           Conv2d-93            [-1, 256, 8, 8]         589,824\n",
            "      BatchNorm2d-94            [-1, 256, 8, 8]             512\n",
            "          Dropout-95            [-1, 256, 8, 8]               0\n",
            "             ReLU-96            [-1, 256, 8, 8]               0\n",
            "    ResidualBlock-97            [-1, 256, 8, 8]               0\n",
            "        AvgPool2d-98            [-1, 256, 2, 2]               0\n",
            "           Linear-99                   [-1, 10]          10,250\n",
            "================================================================\n",
            "Total params: 4,958,538\n",
            "Trainable params: 4,958,538\n",
            "Non-trainable params: 0\n",
            "----------------------------------------------------------------\n",
            "Input size (MB): 0.01\n",
            "Forward/backward pass size (MB): 28.13\n",
            "Params size (MB): 18.92\n",
            "Estimated Total Size (MB): 47.06\n",
            "----------------------------------------------------------------\n"
          ]
        }
      ],
      "source": [
        "# Importing Model and printing Summary\n",
        "model = ResNet18().to(device)\n",
        "summary(model, input_size=(3,32,32))"
      ]
    },
    {
      "cell_type": "code",
      "execution_count": 38,
      "metadata": {
        "execution": {
          "iopub.execute_input": "2020-09-18T14:06:48.577693Z",
          "iopub.status.busy": "2020-09-18T14:06:48.576994Z",
          "iopub.status.idle": "2020-09-18T14:06:48.581591Z",
          "shell.execute_reply": "2020-09-18T14:06:48.581094Z"
        },
        "papermill": {
          "duration": 0.03332,
          "end_time": "2020-09-18T14:06:48.581710",
          "exception": false,
          "start_time": "2020-09-18T14:06:48.548390",
          "status": "completed"
        },
        "tags": [],
        "id": "-53UyTmsKs_m"
      },
      "outputs": [],
      "source": [
        "from tqdm import tqdm\n",
        "from torch import nn\n",
        "import torch.nn\n",
        "from torch.functional import F\n",
        "import os\n",
        "\n",
        "\n",
        "def model_training(model, device, train_dataloader, optimizer, train_acc, train_losses):\n",
        "            \n",
        "    model.train()\n",
        "    pbar = tqdm(train_dataloader)\n",
        "    correct = 0\n",
        "    processed = 0\n",
        "    running_loss = 0.0\n",
        "\n",
        "    for batch_idx, (data, target) in enumerate(pbar):\n",
        "        data, target = data.to(device), target.to(device)\n",
        "        optimizer.zero_grad()\n",
        "        y_pred = model(data)\n",
        "        loss = F.nll_loss(y_pred, target)\n",
        "        \n",
        "\n",
        "        # train_losses.append(loss.item())\n",
        "        loss.backward()\n",
        "        optimizer.step()\n",
        "\n",
        "        pred = y_pred.argmax(dim=1, keepdim=True)\n",
        "        correct += pred.eq(target.view_as(pred)).sum().item()\n",
        "        processed += len(data)\n",
        "        \n",
        "        # print statistics\n",
        "        \n",
        "        running_loss += loss.item()\n",
        "        pbar.set_description(desc=f'Batch_id={batch_idx} Batch Loss={loss.item()} Running Loss={running_loss} Running Accuracy={100*correct/processed:0.2f}')\n",
        "        # train_acc.append(100*correct/processed)\n",
        "    \n",
        "    train_losses.append(running_loss)\n",
        "    train_acc.append(100*correct/processed)"
      ]
    },
    {
      "cell_type": "code",
      "execution_count": 39,
      "metadata": {
        "execution": {
          "iopub.execute_input": "2020-09-18T14:06:48.629732Z",
          "iopub.status.busy": "2020-09-18T14:06:48.628793Z",
          "iopub.status.idle": "2020-09-18T14:06:48.631384Z",
          "shell.execute_reply": "2020-09-18T14:06:48.631909Z"
        },
        "papermill": {
          "duration": 0.03462,
          "end_time": "2020-09-18T14:06:48.632026",
          "exception": false,
          "start_time": "2020-09-18T14:06:48.597406",
          "status": "completed"
        },
        "tags": [],
        "id": "E4BrK-0EKs_n"
      },
      "outputs": [],
      "source": [
        "import torch\n",
        "import os\n",
        "from torch.functional import F\n",
        "\n",
        "cwd = os.getcwd()\n",
        "\n",
        "def model_testing(model, device, test_dataloader, test_acc, test_losses, misclassified = []):\n",
        "    \n",
        "    model.eval()\n",
        "    test_loss = 0\n",
        "    correct = 0\n",
        "    class_correct = list(0. for i in range(10))\n",
        "    class_total = list(0. for i in range(10))\n",
        "    # label = 0\n",
        "    classes = ('plane', 'car', 'bird', 'cat',\n",
        "           'deer', 'dog', 'frog', 'horse', 'ship', 'truck')\n",
        "    \n",
        "    with torch.no_grad():\n",
        "\n",
        "        for index, (data, target) in enumerate(test_dataloader):\n",
        "            data, target = data.to(device), target.to(device)\n",
        "            output = model(data)\n",
        "            pred = output.argmax(dim=1, keepdim=True)\n",
        "            \n",
        "            for d,i,j in zip(data, pred, target):\n",
        "                if i != j:\n",
        "                    misclassified.append([d.cpu(),i[0].cpu(),j.cpu()])\n",
        "\n",
        "            test_loss += F.nll_loss(output, target, reduction='sum').item()\n",
        "            correct += pred.eq(target.view_as(pred)).sum().item()\n",
        "    test_loss /= len(test_dataloader.dataset)\n",
        "    test_losses.append(test_loss)\n",
        "    \n",
        "    print('\\nTest set: Average loss: {:.4f}, Accuracy: {}/{} ({:.2f}%)\\n'.format(\n",
        "        test_loss, correct, len(test_dataloader.dataset),\n",
        "        100. * correct / len(test_dataloader.dataset)))\n",
        "    \n",
        "    test_acc.append(100. * correct / len(test_dataloader.dataset))\n",
        "    return misclassified, correct / len(test_dataloader.dataset)"
      ]
    },
    {
      "cell_type": "code",
      "source": [
        "def model_evaluation(model, device, loader):\n",
        "    \n",
        "    epoch_loss = 0\n",
        "    epoch_acc = 0\n",
        "    \n",
        "    model.eval()\n",
        "    \n",
        "    with torch.no_grad():\n",
        "        \n",
        "        for (x, y) in loader:\n",
        "\n",
        "            x = x.to(device)\n",
        "            y = y.to(device)\n",
        "\n",
        "            y_pred = model(x)\n",
        "            loss = F.nll_loss(y_pred, y)\n",
        "        \n",
        "            pred = y_pred.argmax(dim=1, keepdim=True)\n",
        "            acc = pred.eq(y.view_as(pred)).sum()\n",
        "\n",
        "            epoch_loss += loss.item()\n",
        "            epoch_acc += acc.item()\n",
        "        \n",
        "    print('\\nValidation set: Average loss: {:.4f}, Accuracy: {}/{} ({:.2f}%)\\n'.format(\n",
        "    epoch_loss / len(loader.dataset), epoch_acc, len(loader.dataset),\n",
        "    100. * epoch_acc / len(loader.dataset)))\n",
        "\n",
        "    return epoch_loss, epoch_acc / len(loader.dataset)"
      ],
      "metadata": {
        "id": "ysDy3WkqUGb-"
      },
      "execution_count": 40,
      "outputs": []
    },
    {
      "cell_type": "code",
      "source": [
        "# Defining parameters\n",
        "\n",
        "criterion = nn.CrossEntropyLoss()\n",
        "\n",
        "# optimizer = optim.SGD(model.parameters(), lr=0.05, momentum=0.9)\n",
        "optimizer = optim.SGD(model.parameters(), lr=0.01, momentum=0.9)\n",
        "\n",
        "scheduler = ReduceLROnPlateau(optimizer, mode='min', factor=0.1, patience=4, threshold=0.000001, threshold_mode='rel', cooldown=0, min_lr=0, eps=1e-08, verbose=True)\n",
        "# scheduler = ReduceLROnPlateau(optimizer, mode='min', factor=0.1, patience=2, threshold=0.001, threshold_mode='rel', cooldown=0, min_lr=0, eps=1e-08, verbose=True)\n",
        "# scheduler = StepLR(optimizer, step_size=15, gamma=0.1)"
      ],
      "metadata": {
        "id": "L7LSCkvhAdb0"
      },
      "execution_count": 41,
      "outputs": []
    },
    {
      "cell_type": "code",
      "source": [
        "import pandas\n",
        "\n",
        "def save_to_csv(train_losses, train_accs, test_losses, test_accs):\n",
        "  df = pandas.DataFrame()\n",
        "  df[\"epoch\"] = [i+1 for i in range(len(train_losses))]\n",
        "  df[\"train_loss\"] = train_losses\n",
        "  df[\"test_loss\"] = test_losses\n",
        "  df[\"train_acc\"] = train_accs\n",
        "  df[\"test_acc\"] = test_accs\n",
        "  df.to_csv(\"15_resnet_3_4_3_inchannels_64_dropout_less_threshold.csv\")"
      ],
      "metadata": {
        "id": "zx_8WzZmX2ok"
      },
      "execution_count": 42,
      "outputs": []
    },
    {
      "cell_type": "code",
      "execution_count": 43,
      "metadata": {
        "execution": {
          "iopub.execute_input": "2020-09-18T14:06:48.676683Z",
          "iopub.status.busy": "2020-09-18T14:06:48.675972Z",
          "iopub.status.idle": "2020-09-18T14:33:04.548416Z",
          "shell.execute_reply": "2020-09-18T14:33:04.549364Z"
        },
        "papermill": {
          "duration": 1575.900797,
          "end_time": "2020-09-18T14:33:04.549700",
          "exception": false,
          "start_time": "2020-09-18T14:06:48.648903",
          "status": "completed"
        },
        "tags": [],
        "colab": {
          "base_uri": "https://localhost:8080/"
        },
        "id": "rtrFA-RCKs_o",
        "outputId": "7f48d302-586f-4525-ffae-577f29b02176"
      },
      "outputs": [
        {
          "output_type": "stream",
          "name": "stdout",
          "text": [
            "EPOCHS : 0\n"
          ]
        },
        {
          "output_type": "stream",
          "name": "stderr",
          "text": [
            "Batch_id=87 Batch Loss=1.394409418106079 Running Loss=153.83130073547363 Running Accuracy=35.43: 100%|██████████| 88/88 [00:19<00:00,  4.62it/s]\n"
          ]
        },
        {
          "output_type": "stream",
          "name": "stdout",
          "text": [
            "\n",
            "Validation set: Average loss: 0.0032, Accuracy: 2277/5000 (45.54%)\n",
            "\n",
            "\n",
            "Test set: Average loss: 1.5787, Accuracy: 4449/10000 (44.49%)\n",
            "\n",
            "EPOCHS : 1\n"
          ]
        },
        {
          "output_type": "stream",
          "name": "stderr",
          "text": [
            "Batch_id=87 Batch Loss=1.0621992349624634 Running Loss=113.21879601478577 Running Accuracy=53.42: 100%|██████████| 88/88 [00:19<00:00,  4.47it/s]\n"
          ]
        },
        {
          "output_type": "stream",
          "name": "stdout",
          "text": [
            "\n",
            "Validation set: Average loss: 0.0026, Accuracy: 2934/5000 (58.68%)\n",
            "\n",
            "\n",
            "Test set: Average loss: 1.3010, Accuracy: 5867/10000 (58.67%)\n",
            "\n",
            "EPOCHS : 2\n"
          ]
        },
        {
          "output_type": "stream",
          "name": "stderr",
          "text": [
            "Batch_id=87 Batch Loss=1.091835618019104 Running Loss=92.95577090978622 Running Accuracy=62.32: 100%|██████████| 88/88 [00:18<00:00,  4.74it/s]\n"
          ]
        },
        {
          "output_type": "stream",
          "name": "stdout",
          "text": [
            "\n",
            "Validation set: Average loss: 0.0017, Accuracy: 3504/5000 (70.08%)\n",
            "\n",
            "\n",
            "Test set: Average loss: 0.8807, Accuracy: 6942/10000 (69.42%)\n",
            "\n",
            "EPOCHS : 3\n"
          ]
        },
        {
          "output_type": "stream",
          "name": "stderr",
          "text": [
            "Batch_id=87 Batch Loss=0.9130333065986633 Running Loss=79.93937581777573 Running Accuracy=67.74: 100%|██████████| 88/88 [00:18<00:00,  4.79it/s]\n"
          ]
        },
        {
          "output_type": "stream",
          "name": "stdout",
          "text": [
            "\n",
            "Validation set: Average loss: 0.0020, Accuracy: 3443/5000 (68.86%)\n",
            "\n",
            "\n",
            "Test set: Average loss: 0.9961, Accuracy: 6879/10000 (68.79%)\n",
            "\n",
            "EPOCHS : 4\n"
          ]
        },
        {
          "output_type": "stream",
          "name": "stderr",
          "text": [
            "Batch_id=87 Batch Loss=0.7643350958824158 Running Loss=71.24460542201996 Running Accuracy=71.45: 100%|██████████| 88/88 [00:18<00:00,  4.81it/s]\n"
          ]
        },
        {
          "output_type": "stream",
          "name": "stdout",
          "text": [
            "\n",
            "Validation set: Average loss: 0.0016, Accuracy: 3586/5000 (71.72%)\n",
            "\n",
            "\n",
            "Test set: Average loss: 0.8321, Accuracy: 7104/10000 (71.04%)\n",
            "\n",
            "EPOCHS : 5\n"
          ]
        },
        {
          "output_type": "stream",
          "name": "stderr",
          "text": [
            "Batch_id=87 Batch Loss=0.7250975966453552 Running Loss=64.98948776721954 Running Accuracy=74.06: 100%|██████████| 88/88 [00:18<00:00,  4.82it/s]\n"
          ]
        },
        {
          "output_type": "stream",
          "name": "stdout",
          "text": [
            "\n",
            "Validation set: Average loss: 0.0014, Accuracy: 3804/5000 (76.08%)\n",
            "\n",
            "\n",
            "Test set: Average loss: 0.7252, Accuracy: 7628/10000 (76.28%)\n",
            "\n",
            "EPOCHS : 6\n"
          ]
        },
        {
          "output_type": "stream",
          "name": "stderr",
          "text": [
            "Batch_id=87 Batch Loss=0.7538983821868896 Running Loss=60.12780547142029 Running Accuracy=76.16: 100%|██████████| 88/88 [00:18<00:00,  4.82it/s]\n"
          ]
        },
        {
          "output_type": "stream",
          "name": "stdout",
          "text": [
            "\n",
            "Validation set: Average loss: 0.0012, Accuracy: 3953/5000 (79.06%)\n",
            "\n",
            "\n",
            "Test set: Average loss: 0.6249, Accuracy: 7898/10000 (78.98%)\n",
            "\n",
            "EPOCHS : 7\n"
          ]
        },
        {
          "output_type": "stream",
          "name": "stderr",
          "text": [
            "Batch_id=87 Batch Loss=0.5530636310577393 Running Loss=56.00776672363281 Running Accuracy=77.61: 100%|██████████| 88/88 [00:18<00:00,  4.83it/s]\n"
          ]
        },
        {
          "output_type": "stream",
          "name": "stdout",
          "text": [
            "\n",
            "Validation set: Average loss: 0.0011, Accuracy: 4039/5000 (80.78%)\n",
            "\n",
            "\n",
            "Test set: Average loss: 0.5793, Accuracy: 8105/10000 (81.05%)\n",
            "\n",
            "EPOCHS : 8\n"
          ]
        },
        {
          "output_type": "stream",
          "name": "stderr",
          "text": [
            "Batch_id=87 Batch Loss=0.6178332567214966 Running Loss=53.035459369421005 Running Accuracy=79.00: 100%|██████████| 88/88 [00:18<00:00,  4.78it/s]\n"
          ]
        },
        {
          "output_type": "stream",
          "name": "stdout",
          "text": [
            "\n",
            "Validation set: Average loss: 0.0012, Accuracy: 4001/5000 (80.02%)\n",
            "\n",
            "\n",
            "Test set: Average loss: 0.6243, Accuracy: 8021/10000 (80.21%)\n",
            "\n",
            "EPOCHS : 9\n"
          ]
        },
        {
          "output_type": "stream",
          "name": "stderr",
          "text": [
            "Batch_id=87 Batch Loss=0.46059882640838623 Running Loss=49.52492159605026 Running Accuracy=80.42: 100%|██████████| 88/88 [00:18<00:00,  4.84it/s]\n"
          ]
        },
        {
          "output_type": "stream",
          "name": "stdout",
          "text": [
            "\n",
            "Validation set: Average loss: 0.0012, Accuracy: 4009/5000 (80.18%)\n",
            "\n",
            "\n",
            "Test set: Average loss: 0.6013, Accuracy: 7991/10000 (79.91%)\n",
            "\n",
            "EPOCHS : 10\n"
          ]
        },
        {
          "output_type": "stream",
          "name": "stderr",
          "text": [
            "Batch_id=87 Batch Loss=0.6064427495002747 Running Loss=47.23144271969795 Running Accuracy=81.30: 100%|██████████| 88/88 [00:18<00:00,  4.73it/s]\n"
          ]
        },
        {
          "output_type": "stream",
          "name": "stdout",
          "text": [
            "\n",
            "Validation set: Average loss: 0.0015, Accuracy: 3808/5000 (76.16%)\n",
            "\n",
            "\n",
            "Test set: Average loss: 0.7813, Accuracy: 7574/10000 (75.74%)\n",
            "\n",
            "EPOCHS : 11\n"
          ]
        },
        {
          "output_type": "stream",
          "name": "stderr",
          "text": [
            "Batch_id=87 Batch Loss=0.5092248916625977 Running Loss=45.25657653808594 Running Accuracy=81.99: 100%|██████████| 88/88 [00:18<00:00,  4.77it/s]\n"
          ]
        },
        {
          "output_type": "stream",
          "name": "stdout",
          "text": [
            "\n",
            "Validation set: Average loss: 0.0011, Accuracy: 4083/5000 (81.66%)\n",
            "\n",
            "\n",
            "Test set: Average loss: 0.5551, Accuracy: 8151/10000 (81.51%)\n",
            "\n",
            "EPOCHS : 12\n"
          ]
        },
        {
          "output_type": "stream",
          "name": "stderr",
          "text": [
            "Batch_id=87 Batch Loss=0.44105264544487 Running Loss=43.3693765103817 Running Accuracy=82.59: 100%|██████████| 88/88 [00:18<00:00,  4.70it/s]\n"
          ]
        },
        {
          "output_type": "stream",
          "name": "stdout",
          "text": [
            "\n",
            "Validation set: Average loss: 0.0010, Accuracy: 4178/5000 (83.56%)\n",
            "\n",
            "\n",
            "Test set: Average loss: 0.4885, Accuracy: 8322/10000 (83.22%)\n",
            "\n",
            "EPOCHS : 13\n"
          ]
        },
        {
          "output_type": "stream",
          "name": "stderr",
          "text": [
            "Batch_id=87 Batch Loss=0.496237576007843 Running Loss=40.93591606616974 Running Accuracy=83.88: 100%|██████████| 88/88 [00:18<00:00,  4.80it/s]\n"
          ]
        },
        {
          "output_type": "stream",
          "name": "stdout",
          "text": [
            "\n",
            "Validation set: Average loss: 0.0010, Accuracy: 4173/5000 (83.46%)\n",
            "\n",
            "\n",
            "Test set: Average loss: 0.5381, Accuracy: 8259/10000 (82.59%)\n",
            "\n",
            "EPOCHS : 14\n"
          ]
        },
        {
          "output_type": "stream",
          "name": "stderr",
          "text": [
            "Batch_id=87 Batch Loss=0.5100923776626587 Running Loss=39.01284509897232 Running Accuracy=84.54: 100%|██████████| 88/88 [00:18<00:00,  4.74it/s]\n"
          ]
        },
        {
          "output_type": "stream",
          "name": "stdout",
          "text": [
            "\n",
            "Validation set: Average loss: 0.0009, Accuracy: 4244/5000 (84.88%)\n",
            "\n",
            "\n",
            "Test set: Average loss: 0.4628, Accuracy: 8422/10000 (84.22%)\n",
            "\n",
            "EPOCHS : 15\n"
          ]
        },
        {
          "output_type": "stream",
          "name": "stderr",
          "text": [
            "Batch_id=87 Batch Loss=0.41033536195755005 Running Loss=37.32903391122818 Running Accuracy=85.22: 100%|██████████| 88/88 [00:18<00:00,  4.73it/s]\n"
          ]
        },
        {
          "output_type": "stream",
          "name": "stdout",
          "text": [
            "\n",
            "Validation set: Average loss: 0.0010, Accuracy: 4189/5000 (83.78%)\n",
            "\n",
            "\n",
            "Test set: Average loss: 0.5072, Accuracy: 8306/10000 (83.06%)\n",
            "\n",
            "EPOCHS : 16\n"
          ]
        },
        {
          "output_type": "stream",
          "name": "stderr",
          "text": [
            "Batch_id=87 Batch Loss=0.3606109917163849 Running Loss=36.89750996232033 Running Accuracy=85.09: 100%|██████████| 88/88 [00:18<00:00,  4.83it/s]\n"
          ]
        },
        {
          "output_type": "stream",
          "name": "stdout",
          "text": [
            "\n",
            "Validation set: Average loss: 0.0009, Accuracy: 4286/5000 (85.72%)\n",
            "\n",
            "\n",
            "Test set: Average loss: 0.4373, Accuracy: 8537/10000 (85.37%)\n",
            "\n",
            "EPOCHS : 17\n"
          ]
        },
        {
          "output_type": "stream",
          "name": "stderr",
          "text": [
            "Batch_id=87 Batch Loss=0.41053763031959534 Running Loss=35.27106401324272 Running Accuracy=86.04: 100%|██████████| 88/88 [00:18<00:00,  4.82it/s]\n"
          ]
        },
        {
          "output_type": "stream",
          "name": "stdout",
          "text": [
            "\n",
            "Validation set: Average loss: 0.0009, Accuracy: 4297/5000 (85.94%)\n",
            "\n",
            "\n",
            "Test set: Average loss: 0.4469, Accuracy: 8579/10000 (85.79%)\n",
            "\n",
            "EPOCHS : 18\n"
          ]
        },
        {
          "output_type": "stream",
          "name": "stderr",
          "text": [
            "Batch_id=87 Batch Loss=0.45922160148620605 Running Loss=34.07129317522049 Running Accuracy=86.47: 100%|██████████| 88/88 [00:18<00:00,  4.81it/s]\n"
          ]
        },
        {
          "output_type": "stream",
          "name": "stdout",
          "text": [
            "\n",
            "Validation set: Average loss: 0.0009, Accuracy: 4287/5000 (85.74%)\n",
            "\n",
            "\n",
            "Test set: Average loss: 0.4426, Accuracy: 8580/10000 (85.80%)\n",
            "\n",
            "EPOCHS : 19\n"
          ]
        },
        {
          "output_type": "stream",
          "name": "stderr",
          "text": [
            "Batch_id=87 Batch Loss=0.3226478695869446 Running Loss=32.77491453289986 Running Accuracy=86.79: 100%|██████████| 88/88 [00:18<00:00,  4.76it/s]\n"
          ]
        },
        {
          "output_type": "stream",
          "name": "stdout",
          "text": [
            "\n",
            "Validation set: Average loss: 0.0008, Accuracy: 4349/5000 (86.98%)\n",
            "\n",
            "\n",
            "Test set: Average loss: 0.4070, Accuracy: 8631/10000 (86.31%)\n",
            "\n",
            "EPOCHS : 20\n"
          ]
        },
        {
          "output_type": "stream",
          "name": "stderr",
          "text": [
            "Batch_id=87 Batch Loss=0.37144896388053894 Running Loss=32.52258601784706 Running Accuracy=86.96: 100%|██████████| 88/88 [00:18<00:00,  4.71it/s]\n"
          ]
        },
        {
          "output_type": "stream",
          "name": "stdout",
          "text": [
            "\n",
            "Validation set: Average loss: 0.0010, Accuracy: 4155/5000 (83.10%)\n",
            "\n",
            "\n",
            "Test set: Average loss: 0.5184, Accuracy: 8323/10000 (83.23%)\n",
            "\n",
            "EPOCHS : 21\n"
          ]
        },
        {
          "output_type": "stream",
          "name": "stderr",
          "text": [
            "Batch_id=87 Batch Loss=0.34801989793777466 Running Loss=31.694481313228607 Running Accuracy=87.33: 100%|██████████| 88/88 [00:18<00:00,  4.83it/s]\n"
          ]
        },
        {
          "output_type": "stream",
          "name": "stdout",
          "text": [
            "\n",
            "Validation set: Average loss: 0.0008, Accuracy: 4329/5000 (86.58%)\n",
            "\n",
            "\n",
            "Test set: Average loss: 0.4062, Accuracy: 8666/10000 (86.66%)\n",
            "\n",
            "EPOCHS : 22\n"
          ]
        },
        {
          "output_type": "stream",
          "name": "stderr",
          "text": [
            "Batch_id=87 Batch Loss=0.34280210733413696 Running Loss=29.955935537815094 Running Accuracy=87.98: 100%|██████████| 88/88 [00:18<00:00,  4.82it/s]\n"
          ]
        },
        {
          "output_type": "stream",
          "name": "stdout",
          "text": [
            "\n",
            "Validation set: Average loss: 0.0007, Accuracy: 4378/5000 (87.56%)\n",
            "\n",
            "\n",
            "Test set: Average loss: 0.3911, Accuracy: 8715/10000 (87.15%)\n",
            "\n",
            "EPOCHS : 23\n"
          ]
        },
        {
          "output_type": "stream",
          "name": "stderr",
          "text": [
            "Batch_id=87 Batch Loss=0.4308488070964813 Running Loss=29.62902331352234 Running Accuracy=87.99: 100%|██████████| 88/88 [00:18<00:00,  4.80it/s]\n"
          ]
        },
        {
          "output_type": "stream",
          "name": "stdout",
          "text": [
            "\n",
            "Validation set: Average loss: 0.0007, Accuracy: 4414/5000 (88.28%)\n",
            "\n",
            "\n",
            "Test set: Average loss: 0.3715, Accuracy: 8787/10000 (87.87%)\n",
            "\n",
            "EPOCHS : 24\n"
          ]
        },
        {
          "output_type": "stream",
          "name": "stderr",
          "text": [
            "Batch_id=87 Batch Loss=0.3036689758300781 Running Loss=28.660184383392334 Running Accuracy=88.43: 100%|██████████| 88/88 [00:18<00:00,  4.78it/s]\n"
          ]
        },
        {
          "output_type": "stream",
          "name": "stdout",
          "text": [
            "\n",
            "Validation set: Average loss: 0.0008, Accuracy: 4367/5000 (87.34%)\n",
            "\n",
            "\n",
            "Test set: Average loss: 0.4114, Accuracy: 8690/10000 (86.90%)\n",
            "\n",
            "EPOCHS : 25\n"
          ]
        },
        {
          "output_type": "stream",
          "name": "stderr",
          "text": [
            "Batch_id=87 Batch Loss=0.3103092610836029 Running Loss=27.290302082896233 Running Accuracy=88.98: 100%|██████████| 88/88 [00:18<00:00,  4.71it/s]\n"
          ]
        },
        {
          "output_type": "stream",
          "name": "stdout",
          "text": [
            "\n",
            "Validation set: Average loss: 0.0008, Accuracy: 4390/5000 (87.80%)\n",
            "\n",
            "\n",
            "Test set: Average loss: 0.3800, Accuracy: 8795/10000 (87.95%)\n",
            "\n",
            "EPOCHS : 26\n"
          ]
        },
        {
          "output_type": "stream",
          "name": "stderr",
          "text": [
            "Batch_id=87 Batch Loss=0.30807894468307495 Running Loss=27.015054285526276 Running Accuracy=89.14: 100%|██████████| 88/88 [00:18<00:00,  4.76it/s]\n"
          ]
        },
        {
          "output_type": "stream",
          "name": "stdout",
          "text": [
            "\n",
            "Validation set: Average loss: 0.0008, Accuracy: 4400/5000 (88.00%)\n",
            "\n",
            "\n",
            "Test set: Average loss: 0.4229, Accuracy: 8739/10000 (87.39%)\n",
            "\n",
            "EPOCHS : 27\n"
          ]
        },
        {
          "output_type": "stream",
          "name": "stderr",
          "text": [
            "Batch_id=87 Batch Loss=0.27131155133247375 Running Loss=25.6864295899868 Running Accuracy=89.59: 100%|██████████| 88/88 [00:18<00:00,  4.82it/s]\n"
          ]
        },
        {
          "output_type": "stream",
          "name": "stdout",
          "text": [
            "\n",
            "Validation set: Average loss: 0.0007, Accuracy: 4426/5000 (88.52%)\n",
            "\n",
            "\n",
            "Test set: Average loss: 0.3808, Accuracy: 8776/10000 (87.76%)\n",
            "\n",
            "EPOCHS : 28\n"
          ]
        },
        {
          "output_type": "stream",
          "name": "stderr",
          "text": [
            "Batch_id=87 Batch Loss=0.37055814266204834 Running Loss=24.930638417601585 Running Accuracy=89.94: 100%|██████████| 88/88 [00:18<00:00,  4.85it/s]\n"
          ]
        },
        {
          "output_type": "stream",
          "name": "stdout",
          "text": [
            "\n",
            "Validation set: Average loss: 0.0007, Accuracy: 4448/5000 (88.96%)\n",
            "\n",
            "\n",
            "Test set: Average loss: 0.3844, Accuracy: 8824/10000 (88.24%)\n",
            "\n",
            "EPOCHS : 29\n"
          ]
        },
        {
          "output_type": "stream",
          "name": "stderr",
          "text": [
            "Batch_id=87 Batch Loss=0.2705937325954437 Running Loss=24.296891659498215 Running Accuracy=90.21: 100%|██████████| 88/88 [00:18<00:00,  4.81it/s]\n"
          ]
        },
        {
          "output_type": "stream",
          "name": "stdout",
          "text": [
            "\n",
            "Validation set: Average loss: 0.0008, Accuracy: 4407/5000 (88.14%)\n",
            "\n",
            "\n",
            "Test set: Average loss: 0.3988, Accuracy: 8776/10000 (87.76%)\n",
            "\n",
            "EPOCHS : 30\n"
          ]
        },
        {
          "output_type": "stream",
          "name": "stderr",
          "text": [
            "Batch_id=87 Batch Loss=0.25241586565971375 Running Loss=23.742034316062927 Running Accuracy=90.28: 100%|██████████| 88/88 [00:18<00:00,  4.82it/s]\n"
          ]
        },
        {
          "output_type": "stream",
          "name": "stdout",
          "text": [
            "\n",
            "Validation set: Average loss: 0.0008, Accuracy: 4396/5000 (87.92%)\n",
            "\n",
            "\n",
            "Test set: Average loss: 0.4029, Accuracy: 8731/10000 (87.31%)\n",
            "\n",
            "EPOCHS : 31\n"
          ]
        },
        {
          "output_type": "stream",
          "name": "stderr",
          "text": [
            "Batch_id=87 Batch Loss=0.23201274871826172 Running Loss=22.507474720478058 Running Accuracy=91.05: 100%|██████████| 88/88 [00:18<00:00,  4.82it/s]\n"
          ]
        },
        {
          "output_type": "stream",
          "name": "stdout",
          "text": [
            "\n",
            "Validation set: Average loss: 0.0008, Accuracy: 4418/5000 (88.36%)\n",
            "\n",
            "\n",
            "Test set: Average loss: 0.3702, Accuracy: 8849/10000 (88.49%)\n",
            "\n",
            "EPOCHS : 32\n"
          ]
        },
        {
          "output_type": "stream",
          "name": "stderr",
          "text": [
            "Batch_id=87 Batch Loss=0.29201364517211914 Running Loss=22.104596719145775 Running Accuracy=91.10: 100%|██████████| 88/88 [00:18<00:00,  4.84it/s]\n"
          ]
        },
        {
          "output_type": "stream",
          "name": "stdout",
          "text": [
            "\n",
            "Validation set: Average loss: 0.0007, Accuracy: 4434/5000 (88.68%)\n",
            "\n",
            "\n",
            "Test set: Average loss: 0.3678, Accuracy: 8838/10000 (88.38%)\n",
            "\n",
            "EPOCHS : 33\n"
          ]
        },
        {
          "output_type": "stream",
          "name": "stderr",
          "text": [
            "Batch_id=87 Batch Loss=0.295394629240036 Running Loss=22.327120378613472 Running Accuracy=91.02: 100%|██████████| 88/88 [00:18<00:00,  4.81it/s]\n"
          ]
        },
        {
          "output_type": "stream",
          "name": "stdout",
          "text": [
            "\n",
            "Validation set: Average loss: 0.0009, Accuracy: 4331/5000 (86.62%)\n",
            "\n",
            "\n",
            "Test set: Average loss: 0.4437, Accuracy: 8637/10000 (86.37%)\n",
            "\n",
            "EPOCHS : 34\n"
          ]
        },
        {
          "output_type": "stream",
          "name": "stderr",
          "text": [
            "Batch_id=87 Batch Loss=0.1889123022556305 Running Loss=21.72629414498806 Running Accuracy=91.16: 100%|██████████| 88/88 [00:18<00:00,  4.79it/s]\n"
          ]
        },
        {
          "output_type": "stream",
          "name": "stdout",
          "text": [
            "\n",
            "Validation set: Average loss: 0.0007, Accuracy: 4448/5000 (88.96%)\n",
            "\n",
            "\n",
            "Test set: Average loss: 0.3766, Accuracy: 8823/10000 (88.23%)\n",
            "\n",
            "EPOCHS : 35\n"
          ]
        },
        {
          "output_type": "stream",
          "name": "stderr",
          "text": [
            "Batch_id=87 Batch Loss=0.28585559129714966 Running Loss=20.910774618387222 Running Accuracy=91.52: 100%|██████████| 88/88 [00:18<00:00,  4.81it/s]\n"
          ]
        },
        {
          "output_type": "stream",
          "name": "stdout",
          "text": [
            "\n",
            "Validation set: Average loss: 0.0008, Accuracy: 4413/5000 (88.26%)\n",
            "\n",
            "\n",
            "Test set: Average loss: 0.4004, Accuracy: 8767/10000 (87.67%)\n",
            "\n",
            "EPOCHS : 36\n"
          ]
        },
        {
          "output_type": "stream",
          "name": "stderr",
          "text": [
            "Batch_id=87 Batch Loss=0.2934291958808899 Running Loss=20.17097383737564 Running Accuracy=91.84: 100%|██████████| 88/88 [00:18<00:00,  4.79it/s]\n"
          ]
        },
        {
          "output_type": "stream",
          "name": "stdout",
          "text": [
            "\n",
            "Validation set: Average loss: 0.0007, Accuracy: 4463/5000 (89.26%)\n",
            "\n",
            "\n",
            "Test set: Average loss: 0.3619, Accuracy: 8858/10000 (88.58%)\n",
            "\n",
            "EPOCHS : 37\n"
          ]
        },
        {
          "output_type": "stream",
          "name": "stderr",
          "text": [
            "Batch_id=87 Batch Loss=0.23183439671993256 Running Loss=19.499872535467148 Running Accuracy=92.06: 100%|██████████| 88/88 [00:18<00:00,  4.75it/s]\n"
          ]
        },
        {
          "output_type": "stream",
          "name": "stdout",
          "text": [
            "\n",
            "Validation set: Average loss: 0.0007, Accuracy: 4484/5000 (89.68%)\n",
            "\n",
            "\n",
            "Test set: Average loss: 0.3397, Accuracy: 8935/10000 (89.35%)\n",
            "\n",
            "EPOCHS : 38\n"
          ]
        },
        {
          "output_type": "stream",
          "name": "stderr",
          "text": [
            "Batch_id=87 Batch Loss=0.19924360513687134 Running Loss=19.59136226773262 Running Accuracy=92.10: 100%|██████████| 88/88 [00:18<00:00,  4.81it/s]\n"
          ]
        },
        {
          "output_type": "stream",
          "name": "stdout",
          "text": [
            "\n",
            "Validation set: Average loss: 0.0008, Accuracy: 4425/5000 (88.50%)\n",
            "\n",
            "\n",
            "Test set: Average loss: 0.3834, Accuracy: 8896/10000 (88.96%)\n",
            "\n",
            "EPOCHS : 39\n"
          ]
        },
        {
          "output_type": "stream",
          "name": "stderr",
          "text": [
            "Batch_id=87 Batch Loss=0.23978467285633087 Running Loss=19.136166751384735 Running Accuracy=92.25: 100%|██████████| 88/88 [00:18<00:00,  4.81it/s]\n"
          ]
        },
        {
          "output_type": "stream",
          "name": "stdout",
          "text": [
            "\n",
            "Validation set: Average loss: 0.0007, Accuracy: 4477/5000 (89.54%)\n",
            "\n",
            "\n",
            "Test set: Average loss: 0.3567, Accuracy: 8933/10000 (89.33%)\n",
            "\n",
            "EPOCHS : 40\n"
          ]
        },
        {
          "output_type": "stream",
          "name": "stderr",
          "text": [
            "Batch_id=87 Batch Loss=0.2238294631242752 Running Loss=18.352607920765877 Running Accuracy=92.52: 100%|██████████| 88/88 [00:18<00:00,  4.74it/s]\n"
          ]
        },
        {
          "output_type": "stream",
          "name": "stdout",
          "text": [
            "\n",
            "Validation set: Average loss: 0.0008, Accuracy: 4426/5000 (88.52%)\n",
            "\n",
            "\n",
            "Test set: Average loss: 0.3938, Accuracy: 8820/10000 (88.20%)\n",
            "\n",
            "EPOCHS : 41\n"
          ]
        },
        {
          "output_type": "stream",
          "name": "stderr",
          "text": [
            "Batch_id=87 Batch Loss=0.1831735074520111 Running Loss=17.84854218363762 Running Accuracy=92.75: 100%|██████████| 88/88 [00:18<00:00,  4.85it/s]\n"
          ]
        },
        {
          "output_type": "stream",
          "name": "stdout",
          "text": [
            "\n",
            "Validation set: Average loss: 0.0007, Accuracy: 4466/5000 (89.32%)\n",
            "\n",
            "\n",
            "Test set: Average loss: 0.3681, Accuracy: 8895/10000 (88.95%)\n",
            "\n",
            "EPOCHS : 42\n"
          ]
        },
        {
          "output_type": "stream",
          "name": "stderr",
          "text": [
            "Batch_id=87 Batch Loss=0.22576241195201874 Running Loss=18.03648369014263 Running Accuracy=92.73: 100%|██████████| 88/88 [00:18<00:00,  4.83it/s]\n"
          ]
        },
        {
          "output_type": "stream",
          "name": "stdout",
          "text": [
            "\n",
            "Validation set: Average loss: 0.0008, Accuracy: 4443/5000 (88.86%)\n",
            "\n",
            "Epoch 00043: reducing learning rate of group 0 to 1.0000e-03.\n",
            "\n",
            "Test set: Average loss: 0.3623, Accuracy: 8941/10000 (89.41%)\n",
            "\n",
            "EPOCHS : 43\n"
          ]
        },
        {
          "output_type": "stream",
          "name": "stderr",
          "text": [
            "Batch_id=87 Batch Loss=0.15141379833221436 Running Loss=13.41411778330803 Running Accuracy=94.66: 100%|██████████| 88/88 [00:18<00:00,  4.79it/s]\n"
          ]
        },
        {
          "output_type": "stream",
          "name": "stdout",
          "text": [
            "\n",
            "Validation set: Average loss: 0.0006, Accuracy: 4550/5000 (91.00%)\n",
            "\n",
            "\n",
            "Test set: Average loss: 0.2895, Accuracy: 9107/10000 (91.07%)\n",
            "\n",
            "EPOCHS : 44\n"
          ]
        },
        {
          "output_type": "stream",
          "name": "stderr",
          "text": [
            "Batch_id=87 Batch Loss=0.16070842742919922 Running Loss=11.888747848570347 Running Accuracy=95.45: 100%|██████████| 88/88 [00:18<00:00,  4.75it/s]\n"
          ]
        },
        {
          "output_type": "stream",
          "name": "stdout",
          "text": [
            "\n",
            "Validation set: Average loss: 0.0006, Accuracy: 4552/5000 (91.04%)\n",
            "\n",
            "\n",
            "Test set: Average loss: 0.2836, Accuracy: 9137/10000 (91.37%)\n",
            "\n",
            "EPOCHS : 45\n"
          ]
        },
        {
          "output_type": "stream",
          "name": "stderr",
          "text": [
            "Batch_id=87 Batch Loss=0.1112913116812706 Running Loss=11.320376887917519 Running Accuracy=95.64: 100%|██████████| 88/88 [00:18<00:00,  4.78it/s]\n"
          ]
        },
        {
          "output_type": "stream",
          "name": "stdout",
          "text": [
            "\n",
            "Validation set: Average loss: 0.0006, Accuracy: 4583/5000 (91.66%)\n",
            "\n",
            "\n",
            "Test set: Average loss: 0.2802, Accuracy: 9140/10000 (91.40%)\n",
            "\n",
            "EPOCHS : 46\n"
          ]
        },
        {
          "output_type": "stream",
          "name": "stderr",
          "text": [
            "Batch_id=87 Batch Loss=0.11348772794008255 Running Loss=11.214193537831306 Running Accuracy=95.72: 100%|██████████| 88/88 [00:18<00:00,  4.77it/s]\n"
          ]
        },
        {
          "output_type": "stream",
          "name": "stdout",
          "text": [
            "\n",
            "Validation set: Average loss: 0.0006, Accuracy: 4576/5000 (91.52%)\n",
            "\n",
            "\n",
            "Test set: Average loss: 0.2800, Accuracy: 9142/10000 (91.42%)\n",
            "\n",
            "EPOCHS : 47\n"
          ]
        },
        {
          "output_type": "stream",
          "name": "stderr",
          "text": [
            "Batch_id=87 Batch Loss=0.11446337401866913 Running Loss=10.610692374408245 Running Accuracy=95.90: 100%|██████████| 88/88 [00:18<00:00,  4.70it/s]\n"
          ]
        },
        {
          "output_type": "stream",
          "name": "stdout",
          "text": [
            "\n",
            "Validation set: Average loss: 0.0006, Accuracy: 4575/5000 (91.50%)\n",
            "\n",
            "\n",
            "Test set: Average loss: 0.2852, Accuracy: 9131/10000 (91.31%)\n",
            "\n",
            "EPOCHS : 48\n"
          ]
        },
        {
          "output_type": "stream",
          "name": "stderr",
          "text": [
            "Batch_id=87 Batch Loss=0.10052555799484253 Running Loss=10.516863085329533 Running Accuracy=95.93: 100%|██████████| 88/88 [00:18<00:00,  4.80it/s]\n"
          ]
        },
        {
          "output_type": "stream",
          "name": "stdout",
          "text": [
            "\n",
            "Validation set: Average loss: 0.0006, Accuracy: 4562/5000 (91.24%)\n",
            "\n",
            "\n",
            "Test set: Average loss: 0.2838, Accuracy: 9121/10000 (91.21%)\n",
            "\n",
            "EPOCHS : 49\n"
          ]
        },
        {
          "output_type": "stream",
          "name": "stderr",
          "text": [
            "Batch_id=87 Batch Loss=0.15729612112045288 Running Loss=10.411546140909195 Running Accuracy=95.97: 100%|██████████| 88/88 [00:18<00:00,  4.70it/s]\n"
          ]
        },
        {
          "output_type": "stream",
          "name": "stdout",
          "text": [
            "\n",
            "Validation set: Average loss: 0.0006, Accuracy: 4576/5000 (91.52%)\n",
            "\n",
            "\n",
            "Test set: Average loss: 0.2831, Accuracy: 9124/10000 (91.24%)\n",
            "\n",
            "EPOCHS : 50\n"
          ]
        },
        {
          "output_type": "stream",
          "name": "stderr",
          "text": [
            "Batch_id=87 Batch Loss=0.11942309886217117 Running Loss=10.311774402856827 Running Accuracy=95.92: 100%|██████████| 88/88 [00:18<00:00,  4.79it/s]\n"
          ]
        },
        {
          "output_type": "stream",
          "name": "stdout",
          "text": [
            "\n",
            "Validation set: Average loss: 0.0006, Accuracy: 4574/5000 (91.48%)\n",
            "\n",
            "\n",
            "Test set: Average loss: 0.2830, Accuracy: 9149/10000 (91.49%)\n",
            "\n",
            "EPOCHS : 51\n"
          ]
        },
        {
          "output_type": "stream",
          "name": "stderr",
          "text": [
            "Batch_id=87 Batch Loss=0.1093527153134346 Running Loss=10.367651224136353 Running Accuracy=96.00: 100%|██████████| 88/88 [00:18<00:00,  4.77it/s]\n"
          ]
        },
        {
          "output_type": "stream",
          "name": "stdout",
          "text": [
            "\n",
            "Validation set: Average loss: 0.0006, Accuracy: 4582/5000 (91.64%)\n",
            "\n",
            "Epoch 00052: reducing learning rate of group 0 to 1.0000e-04.\n",
            "\n",
            "Test set: Average loss: 0.2820, Accuracy: 9146/10000 (91.46%)\n",
            "\n",
            "EPOCHS : 52\n"
          ]
        },
        {
          "output_type": "stream",
          "name": "stderr",
          "text": [
            "Batch_id=87 Batch Loss=0.09822874516248703 Running Loss=9.986820317804813 Running Accuracy=96.08: 100%|██████████| 88/88 [00:18<00:00,  4.67it/s]\n"
          ]
        },
        {
          "output_type": "stream",
          "name": "stdout",
          "text": [
            "\n",
            "Validation set: Average loss: 0.0006, Accuracy: 4578/5000 (91.56%)\n",
            "\n",
            "\n",
            "Test set: Average loss: 0.2810, Accuracy: 9153/10000 (91.53%)\n",
            "\n",
            "EPOCHS : 53\n"
          ]
        },
        {
          "output_type": "stream",
          "name": "stderr",
          "text": [
            "Batch_id=87 Batch Loss=0.12863624095916748 Running Loss=9.605998560786247 Running Accuracy=96.33: 100%|██████████| 88/88 [00:18<00:00,  4.75it/s]\n"
          ]
        },
        {
          "output_type": "stream",
          "name": "stdout",
          "text": [
            "\n",
            "Validation set: Average loss: 0.0006, Accuracy: 4575/5000 (91.50%)\n",
            "\n",
            "\n",
            "Test set: Average loss: 0.2807, Accuracy: 9153/10000 (91.53%)\n",
            "\n",
            "EPOCHS : 54\n"
          ]
        },
        {
          "output_type": "stream",
          "name": "stderr",
          "text": [
            "Batch_id=87 Batch Loss=0.100103460252285 Running Loss=9.846237726509571 Running Accuracy=96.09: 100%|██████████| 88/88 [00:18<00:00,  4.78it/s]\n"
          ]
        },
        {
          "output_type": "stream",
          "name": "stdout",
          "text": [
            "\n",
            "Validation set: Average loss: 0.0006, Accuracy: 4579/5000 (91.58%)\n",
            "\n",
            "\n",
            "Test set: Average loss: 0.2796, Accuracy: 9162/10000 (91.62%)\n",
            "\n",
            "EPOCHS : 55\n"
          ]
        },
        {
          "output_type": "stream",
          "name": "stderr",
          "text": [
            "Batch_id=87 Batch Loss=0.11577990651130676 Running Loss=10.001863069832325 Running Accuracy=96.20: 100%|██████████| 88/88 [00:18<00:00,  4.77it/s]\n"
          ]
        },
        {
          "output_type": "stream",
          "name": "stdout",
          "text": [
            "\n",
            "Validation set: Average loss: 0.0006, Accuracy: 4577/5000 (91.54%)\n",
            "\n",
            "\n",
            "Test set: Average loss: 0.2797, Accuracy: 9150/10000 (91.50%)\n",
            "\n",
            "EPOCHS : 56\n"
          ]
        },
        {
          "output_type": "stream",
          "name": "stderr",
          "text": [
            "Batch_id=87 Batch Loss=0.09426179528236389 Running Loss=9.674910143017769 Running Accuracy=96.28: 100%|██████████| 88/88 [00:18<00:00,  4.75it/s]\n"
          ]
        },
        {
          "output_type": "stream",
          "name": "stdout",
          "text": [
            "\n",
            "Validation set: Average loss: 0.0006, Accuracy: 4570/5000 (91.40%)\n",
            "\n",
            "\n",
            "Test set: Average loss: 0.2807, Accuracy: 9145/10000 (91.45%)\n",
            "\n",
            "EPOCHS : 57\n"
          ]
        },
        {
          "output_type": "stream",
          "name": "stderr",
          "text": [
            "Batch_id=87 Batch Loss=0.10294383764266968 Running Loss=9.661841429769993 Running Accuracy=96.31: 100%|██████████| 88/88 [00:18<00:00,  4.80it/s]\n"
          ]
        },
        {
          "output_type": "stream",
          "name": "stdout",
          "text": [
            "\n",
            "Validation set: Average loss: 0.0006, Accuracy: 4571/5000 (91.42%)\n",
            "\n",
            "\n",
            "Test set: Average loss: 0.2792, Accuracy: 9154/10000 (91.54%)\n",
            "\n",
            "EPOCHS : 58\n"
          ]
        },
        {
          "output_type": "stream",
          "name": "stderr",
          "text": [
            "Batch_id=87 Batch Loss=0.11219101399183273 Running Loss=9.800084881484509 Running Accuracy=96.28: 100%|██████████| 88/88 [00:18<00:00,  4.81it/s]\n"
          ]
        },
        {
          "output_type": "stream",
          "name": "stdout",
          "text": [
            "\n",
            "Validation set: Average loss: 0.0006, Accuracy: 4571/5000 (91.42%)\n",
            "\n",
            "\n",
            "Test set: Average loss: 0.2791, Accuracy: 9156/10000 (91.56%)\n",
            "\n",
            "EPOCHS : 59\n"
          ]
        },
        {
          "output_type": "stream",
          "name": "stderr",
          "text": [
            "Batch_id=87 Batch Loss=0.12249601632356644 Running Loss=9.61799294501543 Running Accuracy=96.35: 100%|██████████| 88/88 [00:18<00:00,  4.82it/s]\n"
          ]
        },
        {
          "output_type": "stream",
          "name": "stdout",
          "text": [
            "\n",
            "Validation set: Average loss: 0.0006, Accuracy: 4577/5000 (91.54%)\n",
            "\n",
            "\n",
            "Test set: Average loss: 0.2796, Accuracy: 9144/10000 (91.44%)\n",
            "\n",
            "EPOCHS : 60\n"
          ]
        },
        {
          "output_type": "stream",
          "name": "stderr",
          "text": [
            "Batch_id=87 Batch Loss=0.11057442426681519 Running Loss=9.624811805784702 Running Accuracy=96.37: 100%|██████████| 88/88 [00:18<00:00,  4.82it/s]\n"
          ]
        },
        {
          "output_type": "stream",
          "name": "stdout",
          "text": [
            "\n",
            "Validation set: Average loss: 0.0006, Accuracy: 4577/5000 (91.54%)\n",
            "\n",
            "\n",
            "Test set: Average loss: 0.2791, Accuracy: 9159/10000 (91.59%)\n",
            "\n",
            "EPOCHS : 61\n"
          ]
        },
        {
          "output_type": "stream",
          "name": "stderr",
          "text": [
            "Batch_id=87 Batch Loss=0.12381040304899216 Running Loss=9.709017671644688 Running Accuracy=96.19: 100%|██████████| 88/88 [00:18<00:00,  4.82it/s]\n"
          ]
        },
        {
          "output_type": "stream",
          "name": "stdout",
          "text": [
            "\n",
            "Validation set: Average loss: 0.0006, Accuracy: 4572/5000 (91.44%)\n",
            "\n",
            "\n",
            "Test set: Average loss: 0.2808, Accuracy: 9138/10000 (91.38%)\n",
            "\n",
            "EPOCHS : 62\n"
          ]
        },
        {
          "output_type": "stream",
          "name": "stderr",
          "text": [
            "Batch_id=87 Batch Loss=0.09990214556455612 Running Loss=9.819026969373226 Running Accuracy=96.21: 100%|██████████| 88/88 [00:18<00:00,  4.76it/s]\n"
          ]
        },
        {
          "output_type": "stream",
          "name": "stdout",
          "text": [
            "\n",
            "Validation set: Average loss: 0.0006, Accuracy: 4577/5000 (91.54%)\n",
            "\n",
            "\n",
            "Test set: Average loss: 0.2798, Accuracy: 9153/10000 (91.53%)\n",
            "\n",
            "EPOCHS : 63\n"
          ]
        },
        {
          "output_type": "stream",
          "name": "stderr",
          "text": [
            "Batch_id=87 Batch Loss=0.0671958178281784 Running Loss=9.837082095444202 Running Accuracy=96.21: 100%|██████████| 88/88 [00:18<00:00,  4.83it/s]\n"
          ]
        },
        {
          "output_type": "stream",
          "name": "stdout",
          "text": [
            "\n",
            "Validation set: Average loss: 0.0006, Accuracy: 4575/5000 (91.50%)\n",
            "\n",
            "\n",
            "Test set: Average loss: 0.2796, Accuracy: 9151/10000 (91.51%)\n",
            "\n",
            "EPOCHS : 64\n"
          ]
        },
        {
          "output_type": "stream",
          "name": "stderr",
          "text": [
            "Batch_id=87 Batch Loss=0.1366826891899109 Running Loss=9.590290769934654 Running Accuracy=96.38: 100%|██████████| 88/88 [00:18<00:00,  4.79it/s]\n"
          ]
        },
        {
          "output_type": "stream",
          "name": "stdout",
          "text": [
            "\n",
            "Validation set: Average loss: 0.0006, Accuracy: 4579/5000 (91.58%)\n",
            "\n",
            "\n",
            "Test set: Average loss: 0.2793, Accuracy: 9157/10000 (91.57%)\n",
            "\n",
            "EPOCHS : 65\n"
          ]
        },
        {
          "output_type": "stream",
          "name": "stderr",
          "text": [
            "Batch_id=87 Batch Loss=0.13551360368728638 Running Loss=9.616502083837986 Running Accuracy=96.23: 100%|██████████| 88/88 [00:18<00:00,  4.73it/s]\n"
          ]
        },
        {
          "output_type": "stream",
          "name": "stdout",
          "text": [
            "\n",
            "Validation set: Average loss: 0.0006, Accuracy: 4580/5000 (91.60%)\n",
            "\n",
            "Epoch 00066: reducing learning rate of group 0 to 1.0000e-05.\n",
            "\n",
            "Test set: Average loss: 0.2806, Accuracy: 9154/10000 (91.54%)\n",
            "\n",
            "EPOCHS : 66\n"
          ]
        },
        {
          "output_type": "stream",
          "name": "stderr",
          "text": [
            "Batch_id=87 Batch Loss=0.11640646308660507 Running Loss=9.48432743549347 Running Accuracy=96.27: 100%|██████████| 88/88 [00:18<00:00,  4.77it/s]\n"
          ]
        },
        {
          "output_type": "stream",
          "name": "stdout",
          "text": [
            "\n",
            "Validation set: Average loss: 0.0006, Accuracy: 4581/5000 (91.62%)\n",
            "\n",
            "\n",
            "Test set: Average loss: 0.2799, Accuracy: 9157/10000 (91.57%)\n",
            "\n",
            "EPOCHS : 67\n"
          ]
        },
        {
          "output_type": "stream",
          "name": "stderr",
          "text": [
            "Batch_id=87 Batch Loss=0.10198386013507843 Running Loss=9.516942471265793 Running Accuracy=96.31: 100%|██████████| 88/88 [00:18<00:00,  4.81it/s]\n"
          ]
        },
        {
          "output_type": "stream",
          "name": "stdout",
          "text": [
            "\n",
            "Validation set: Average loss: 0.0006, Accuracy: 4579/5000 (91.58%)\n",
            "\n",
            "\n",
            "Test set: Average loss: 0.2802, Accuracy: 9155/10000 (91.55%)\n",
            "\n",
            "EPOCHS : 68\n"
          ]
        },
        {
          "output_type": "stream",
          "name": "stderr",
          "text": [
            "Batch_id=87 Batch Loss=0.13693813979625702 Running Loss=9.747590862214565 Running Accuracy=96.28: 100%|██████████| 88/88 [00:18<00:00,  4.81it/s]\n"
          ]
        },
        {
          "output_type": "stream",
          "name": "stdout",
          "text": [
            "\n",
            "Validation set: Average loss: 0.0006, Accuracy: 4578/5000 (91.56%)\n",
            "\n",
            "\n",
            "Test set: Average loss: 0.2802, Accuracy: 9152/10000 (91.52%)\n",
            "\n",
            "EPOCHS : 69\n"
          ]
        },
        {
          "output_type": "stream",
          "name": "stderr",
          "text": [
            "Batch_id=87 Batch Loss=0.09333667904138565 Running Loss=9.57384479790926 Running Accuracy=96.31: 100%|██████████| 88/88 [00:18<00:00,  4.81it/s]\n"
          ]
        },
        {
          "output_type": "stream",
          "name": "stdout",
          "text": [
            "\n",
            "Validation set: Average loss: 0.0006, Accuracy: 4575/5000 (91.50%)\n",
            "\n",
            "\n",
            "Test set: Average loss: 0.2805, Accuracy: 9156/10000 (91.56%)\n",
            "\n",
            "EPOCHS : 70\n"
          ]
        },
        {
          "output_type": "stream",
          "name": "stderr",
          "text": [
            "Batch_id=87 Batch Loss=0.17502611875534058 Running Loss=9.66219575703144 Running Accuracy=96.18: 100%|██████████| 88/88 [00:18<00:00,  4.74it/s]\n"
          ]
        },
        {
          "output_type": "stream",
          "name": "stdout",
          "text": [
            "\n",
            "Validation set: Average loss: 0.0006, Accuracy: 4580/5000 (91.60%)\n",
            "\n",
            "Epoch 00071: reducing learning rate of group 0 to 1.0000e-06.\n",
            "\n",
            "Test set: Average loss: 0.2802, Accuracy: 9153/10000 (91.53%)\n",
            "\n",
            "EPOCHS : 71\n"
          ]
        },
        {
          "output_type": "stream",
          "name": "stderr",
          "text": [
            "Batch_id=87 Batch Loss=0.1292816698551178 Running Loss=9.211015537381172 Running Accuracy=96.48: 100%|██████████| 88/88 [00:18<00:00,  4.77it/s]\n"
          ]
        },
        {
          "output_type": "stream",
          "name": "stdout",
          "text": [
            "\n",
            "Validation set: Average loss: 0.0006, Accuracy: 4579/5000 (91.58%)\n",
            "\n",
            "\n",
            "Test set: Average loss: 0.2800, Accuracy: 9152/10000 (91.52%)\n",
            "\n",
            "EPOCHS : 72\n"
          ]
        },
        {
          "output_type": "stream",
          "name": "stderr",
          "text": [
            "Batch_id=87 Batch Loss=0.1047872006893158 Running Loss=9.35509418696165 Running Accuracy=96.40: 100%|██████████| 88/88 [00:18<00:00,  4.73it/s]\n"
          ]
        },
        {
          "output_type": "stream",
          "name": "stdout",
          "text": [
            "\n",
            "Validation set: Average loss: 0.0006, Accuracy: 4581/5000 (91.62%)\n",
            "\n",
            "\n",
            "Test set: Average loss: 0.2797, Accuracy: 9152/10000 (91.52%)\n",
            "\n",
            "EPOCHS : 73\n"
          ]
        },
        {
          "output_type": "stream",
          "name": "stderr",
          "text": [
            "Batch_id=87 Batch Loss=0.10796760767698288 Running Loss=9.637197159230709 Running Accuracy=96.29: 100%|██████████| 88/88 [00:18<00:00,  4.81it/s]\n"
          ]
        },
        {
          "output_type": "stream",
          "name": "stdout",
          "text": [
            "\n",
            "Validation set: Average loss: 0.0006, Accuracy: 4579/5000 (91.58%)\n",
            "\n",
            "\n",
            "Test set: Average loss: 0.2802, Accuracy: 9149/10000 (91.49%)\n",
            "\n",
            "EPOCHS : 74\n"
          ]
        },
        {
          "output_type": "stream",
          "name": "stderr",
          "text": [
            "Batch_id=87 Batch Loss=0.1074921190738678 Running Loss=9.547172375023365 Running Accuracy=96.38: 100%|██████████| 88/88 [00:18<00:00,  4.81it/s]\n"
          ]
        },
        {
          "output_type": "stream",
          "name": "stdout",
          "text": [
            "\n",
            "Validation set: Average loss: 0.0006, Accuracy: 4578/5000 (91.56%)\n",
            "\n",
            "\n",
            "Test set: Average loss: 0.2800, Accuracy: 9155/10000 (91.55%)\n",
            "\n",
            "EPOCHS : 75\n"
          ]
        },
        {
          "output_type": "stream",
          "name": "stderr",
          "text": [
            "Batch_id=87 Batch Loss=0.10679502040147781 Running Loss=9.50553797185421 Running Accuracy=96.31: 100%|██████████| 88/88 [00:18<00:00,  4.81it/s]\n"
          ]
        },
        {
          "output_type": "stream",
          "name": "stdout",
          "text": [
            "\n",
            "Validation set: Average loss: 0.0006, Accuracy: 4578/5000 (91.56%)\n",
            "\n",
            "Epoch 00076: reducing learning rate of group 0 to 1.0000e-07.\n",
            "\n",
            "Test set: Average loss: 0.2795, Accuracy: 9158/10000 (91.58%)\n",
            "\n",
            "EPOCHS : 76\n"
          ]
        },
        {
          "output_type": "stream",
          "name": "stderr",
          "text": [
            "Batch_id=87 Batch Loss=0.1116856187582016 Running Loss=9.624998614192009 Running Accuracy=96.23: 100%|██████████| 88/88 [00:18<00:00,  4.82it/s]\n"
          ]
        },
        {
          "output_type": "stream",
          "name": "stdout",
          "text": [
            "\n",
            "Validation set: Average loss: 0.0006, Accuracy: 4578/5000 (91.56%)\n",
            "\n",
            "\n",
            "Test set: Average loss: 0.2801, Accuracy: 9152/10000 (91.52%)\n",
            "\n",
            "EPOCHS : 77\n"
          ]
        },
        {
          "output_type": "stream",
          "name": "stderr",
          "text": [
            "Batch_id=87 Batch Loss=0.11357741057872772 Running Loss=9.487496368587017 Running Accuracy=96.37: 100%|██████████| 88/88 [00:18<00:00,  4.80it/s]\n"
          ]
        },
        {
          "output_type": "stream",
          "name": "stdout",
          "text": [
            "\n",
            "Validation set: Average loss: 0.0006, Accuracy: 4578/5000 (91.56%)\n",
            "\n",
            "\n",
            "Test set: Average loss: 0.2807, Accuracy: 9152/10000 (91.52%)\n",
            "\n",
            "EPOCHS : 78\n"
          ]
        },
        {
          "output_type": "stream",
          "name": "stderr",
          "text": [
            "Batch_id=87 Batch Loss=0.11890983581542969 Running Loss=9.691881462931633 Running Accuracy=96.32: 100%|██████████| 88/88 [00:18<00:00,  4.80it/s]\n"
          ]
        },
        {
          "output_type": "stream",
          "name": "stdout",
          "text": [
            "\n",
            "Validation set: Average loss: 0.0006, Accuracy: 4577/5000 (91.54%)\n",
            "\n",
            "\n",
            "Test set: Average loss: 0.2797, Accuracy: 9156/10000 (91.56%)\n",
            "\n",
            "EPOCHS : 79\n"
          ]
        },
        {
          "output_type": "stream",
          "name": "stderr",
          "text": [
            "Batch_id=87 Batch Loss=0.09174008667469025 Running Loss=9.550485663115978 Running Accuracy=96.34: 100%|██████████| 88/88 [00:18<00:00,  4.78it/s]\n"
          ]
        },
        {
          "output_type": "stream",
          "name": "stdout",
          "text": [
            "\n",
            "Validation set: Average loss: 0.0006, Accuracy: 4579/5000 (91.58%)\n",
            "\n",
            "\n",
            "Test set: Average loss: 0.2795, Accuracy: 9156/10000 (91.56%)\n",
            "\n",
            "EPOCHS : 80\n"
          ]
        },
        {
          "output_type": "stream",
          "name": "stderr",
          "text": [
            "Batch_id=87 Batch Loss=0.09908805787563324 Running Loss=9.618640251457691 Running Accuracy=96.40: 100%|██████████| 88/88 [00:18<00:00,  4.81it/s]\n"
          ]
        },
        {
          "output_type": "stream",
          "name": "stdout",
          "text": [
            "\n",
            "Validation set: Average loss: 0.0006, Accuracy: 4577/5000 (91.54%)\n",
            "\n",
            "Epoch 00081: reducing learning rate of group 0 to 1.0000e-08.\n",
            "\n",
            "Test set: Average loss: 0.2794, Accuracy: 9154/10000 (91.54%)\n",
            "\n",
            "EPOCHS : 81\n"
          ]
        },
        {
          "output_type": "stream",
          "name": "stderr",
          "text": [
            "Batch_id=87 Batch Loss=0.10828050225973129 Running Loss=9.512914448976517 Running Accuracy=96.32: 100%|██████████| 88/88 [00:18<00:00,  4.76it/s]\n"
          ]
        },
        {
          "output_type": "stream",
          "name": "stdout",
          "text": [
            "\n",
            "Validation set: Average loss: 0.0006, Accuracy: 4577/5000 (91.54%)\n",
            "\n",
            "\n",
            "Test set: Average loss: 0.2797, Accuracy: 9152/10000 (91.52%)\n",
            "\n",
            "EPOCHS : 82\n"
          ]
        },
        {
          "output_type": "stream",
          "name": "stderr",
          "text": [
            "Batch_id=87 Batch Loss=0.08880043774843216 Running Loss=9.67046208679676 Running Accuracy=96.14: 100%|██████████| 88/88 [00:18<00:00,  4.80it/s]\n"
          ]
        },
        {
          "output_type": "stream",
          "name": "stdout",
          "text": [
            "\n",
            "Validation set: Average loss: 0.0006, Accuracy: 4578/5000 (91.56%)\n",
            "\n",
            "\n",
            "Test set: Average loss: 0.2800, Accuracy: 9152/10000 (91.52%)\n",
            "\n",
            "EPOCHS : 83\n"
          ]
        },
        {
          "output_type": "stream",
          "name": "stderr",
          "text": [
            "Batch_id=87 Batch Loss=0.09319939464330673 Running Loss=9.367885880172253 Running Accuracy=96.44: 100%|██████████| 88/88 [00:18<00:00,  4.83it/s]\n"
          ]
        },
        {
          "output_type": "stream",
          "name": "stdout",
          "text": [
            "\n",
            "Validation set: Average loss: 0.0006, Accuracy: 4579/5000 (91.58%)\n",
            "\n",
            "\n",
            "Test set: Average loss: 0.2802, Accuracy: 9152/10000 (91.52%)\n",
            "\n",
            "EPOCHS : 84\n"
          ]
        },
        {
          "output_type": "stream",
          "name": "stderr",
          "text": [
            "Batch_id=87 Batch Loss=0.10635104775428772 Running Loss=9.65174464136362 Running Accuracy=96.32: 100%|██████████| 88/88 [00:18<00:00,  4.81it/s]\n"
          ]
        },
        {
          "output_type": "stream",
          "name": "stdout",
          "text": [
            "\n",
            "Validation set: Average loss: 0.0006, Accuracy: 4577/5000 (91.54%)\n",
            "\n",
            "\n",
            "Test set: Average loss: 0.2799, Accuracy: 9154/10000 (91.54%)\n",
            "\n",
            "EPOCHS : 85\n"
          ]
        },
        {
          "output_type": "stream",
          "name": "stderr",
          "text": [
            "Batch_id=87 Batch Loss=0.09184884279966354 Running Loss=9.528614319860935 Running Accuracy=96.33: 100%|██████████| 88/88 [00:18<00:00,  4.78it/s]\n"
          ]
        },
        {
          "output_type": "stream",
          "name": "stdout",
          "text": [
            "\n",
            "Validation set: Average loss: 0.0006, Accuracy: 4577/5000 (91.54%)\n",
            "\n",
            "\n",
            "Test set: Average loss: 0.2804, Accuracy: 9148/10000 (91.48%)\n",
            "\n",
            "EPOCHS : 86\n"
          ]
        },
        {
          "output_type": "stream",
          "name": "stderr",
          "text": [
            "Batch_id=87 Batch Loss=0.07914766669273376 Running Loss=9.765705697238445 Running Accuracy=96.30: 100%|██████████| 88/88 [00:18<00:00,  4.77it/s]\n"
          ]
        },
        {
          "output_type": "stream",
          "name": "stdout",
          "text": [
            "\n",
            "Validation set: Average loss: 0.0006, Accuracy: 4577/5000 (91.54%)\n",
            "\n",
            "\n",
            "Test set: Average loss: 0.2802, Accuracy: 9155/10000 (91.55%)\n",
            "\n",
            "EPOCHS : 87\n"
          ]
        },
        {
          "output_type": "stream",
          "name": "stderr",
          "text": [
            "Batch_id=87 Batch Loss=0.10774523764848709 Running Loss=9.685852579772472 Running Accuracy=96.17: 100%|██████████| 88/88 [00:18<00:00,  4.78it/s]\n"
          ]
        },
        {
          "output_type": "stream",
          "name": "stdout",
          "text": [
            "\n",
            "Validation set: Average loss: 0.0006, Accuracy: 4580/5000 (91.60%)\n",
            "\n",
            "\n",
            "Test set: Average loss: 0.2794, Accuracy: 9156/10000 (91.56%)\n",
            "\n",
            "EPOCHS : 88\n"
          ]
        },
        {
          "output_type": "stream",
          "name": "stderr",
          "text": [
            "Batch_id=87 Batch Loss=0.11440842598676682 Running Loss=9.409734092652798 Running Accuracy=96.39: 100%|██████████| 88/88 [00:18<00:00,  4.69it/s]\n"
          ]
        },
        {
          "output_type": "stream",
          "name": "stdout",
          "text": [
            "\n",
            "Validation set: Average loss: 0.0006, Accuracy: 4578/5000 (91.56%)\n",
            "\n",
            "\n",
            "Test set: Average loss: 0.2804, Accuracy: 9148/10000 (91.48%)\n",
            "\n",
            "EPOCHS : 89\n"
          ]
        },
        {
          "output_type": "stream",
          "name": "stderr",
          "text": [
            "Batch_id=87 Batch Loss=0.1473872810602188 Running Loss=9.687398061156273 Running Accuracy=96.17: 100%|██████████| 88/88 [00:18<00:00,  4.75it/s]\n"
          ]
        },
        {
          "output_type": "stream",
          "name": "stdout",
          "text": [
            "\n",
            "Validation set: Average loss: 0.0006, Accuracy: 4578/5000 (91.56%)\n",
            "\n",
            "\n",
            "Test set: Average loss: 0.2796, Accuracy: 9154/10000 (91.54%)\n",
            "\n",
            "EPOCHS : 90\n"
          ]
        },
        {
          "output_type": "stream",
          "name": "stderr",
          "text": [
            "Batch_id=87 Batch Loss=0.08726843446493149 Running Loss=9.723800107836723 Running Accuracy=96.33: 100%|██████████| 88/88 [00:18<00:00,  4.81it/s]\n"
          ]
        },
        {
          "output_type": "stream",
          "name": "stdout",
          "text": [
            "\n",
            "Validation set: Average loss: 0.0006, Accuracy: 4578/5000 (91.56%)\n",
            "\n",
            "\n",
            "Test set: Average loss: 0.2801, Accuracy: 9148/10000 (91.48%)\n",
            "\n",
            "EPOCHS : 91\n"
          ]
        },
        {
          "output_type": "stream",
          "name": "stderr",
          "text": [
            "Batch_id=87 Batch Loss=0.119890958070755 Running Loss=9.896282084286213 Running Accuracy=96.18: 100%|██████████| 88/88 [00:18<00:00,  4.83it/s]\n"
          ]
        },
        {
          "output_type": "stream",
          "name": "stdout",
          "text": [
            "\n",
            "Validation set: Average loss: 0.0006, Accuracy: 4580/5000 (91.60%)\n",
            "\n",
            "\n",
            "Test set: Average loss: 0.2796, Accuracy: 9154/10000 (91.54%)\n",
            "\n",
            "EPOCHS : 92\n"
          ]
        },
        {
          "output_type": "stream",
          "name": "stderr",
          "text": [
            "Batch_id=87 Batch Loss=0.11224249750375748 Running Loss=9.534802250564098 Running Accuracy=96.37: 100%|██████████| 88/88 [00:18<00:00,  4.77it/s]\n"
          ]
        },
        {
          "output_type": "stream",
          "name": "stdout",
          "text": [
            "\n",
            "Validation set: Average loss: 0.0006, Accuracy: 4581/5000 (91.62%)\n",
            "\n",
            "\n",
            "Test set: Average loss: 0.2797, Accuracy: 9153/10000 (91.53%)\n",
            "\n",
            "EPOCHS : 93\n"
          ]
        },
        {
          "output_type": "stream",
          "name": "stderr",
          "text": [
            "Batch_id=87 Batch Loss=0.13897085189819336 Running Loss=9.389931626617908 Running Accuracy=96.43: 100%|██████████| 88/88 [00:18<00:00,  4.74it/s]\n"
          ]
        },
        {
          "output_type": "stream",
          "name": "stdout",
          "text": [
            "\n",
            "Validation set: Average loss: 0.0006, Accuracy: 4578/5000 (91.56%)\n",
            "\n",
            "\n",
            "Test set: Average loss: 0.2800, Accuracy: 9154/10000 (91.54%)\n",
            "\n",
            "EPOCHS : 94\n"
          ]
        },
        {
          "output_type": "stream",
          "name": "stderr",
          "text": [
            "Batch_id=87 Batch Loss=0.11442873626947403 Running Loss=9.538684628903866 Running Accuracy=96.38: 100%|██████████| 88/88 [00:18<00:00,  4.72it/s]\n"
          ]
        },
        {
          "output_type": "stream",
          "name": "stdout",
          "text": [
            "\n",
            "Validation set: Average loss: 0.0006, Accuracy: 4583/5000 (91.66%)\n",
            "\n",
            "\n",
            "Test set: Average loss: 0.2801, Accuracy: 9151/10000 (91.51%)\n",
            "\n",
            "EPOCHS : 95\n"
          ]
        },
        {
          "output_type": "stream",
          "name": "stderr",
          "text": [
            "Batch_id=87 Batch Loss=0.08847136795520782 Running Loss=9.693622700870037 Running Accuracy=96.25: 100%|██████████| 88/88 [00:18<00:00,  4.76it/s]\n"
          ]
        },
        {
          "output_type": "stream",
          "name": "stdout",
          "text": [
            "\n",
            "Validation set: Average loss: 0.0006, Accuracy: 4576/5000 (91.52%)\n",
            "\n",
            "\n",
            "Test set: Average loss: 0.2801, Accuracy: 9147/10000 (91.47%)\n",
            "\n",
            "EPOCHS : 96\n"
          ]
        },
        {
          "output_type": "stream",
          "name": "stderr",
          "text": [
            "Batch_id=87 Batch Loss=0.10554779320955276 Running Loss=9.545966431498528 Running Accuracy=96.27: 100%|██████████| 88/88 [00:18<00:00,  4.78it/s]\n"
          ]
        },
        {
          "output_type": "stream",
          "name": "stdout",
          "text": [
            "\n",
            "Validation set: Average loss: 0.0006, Accuracy: 4581/5000 (91.62%)\n",
            "\n",
            "\n",
            "Test set: Average loss: 0.2796, Accuracy: 9157/10000 (91.57%)\n",
            "\n",
            "EPOCHS : 97\n"
          ]
        },
        {
          "output_type": "stream",
          "name": "stderr",
          "text": [
            "Batch_id=87 Batch Loss=0.10217763483524323 Running Loss=9.551518179476261 Running Accuracy=96.28: 100%|██████████| 88/88 [00:18<00:00,  4.68it/s]\n"
          ]
        },
        {
          "output_type": "stream",
          "name": "stdout",
          "text": [
            "\n",
            "Validation set: Average loss: 0.0006, Accuracy: 4577/5000 (91.54%)\n",
            "\n",
            "\n",
            "Test set: Average loss: 0.2796, Accuracy: 9163/10000 (91.63%)\n",
            "\n",
            "EPOCHS : 98\n"
          ]
        },
        {
          "output_type": "stream",
          "name": "stderr",
          "text": [
            "Batch_id=87 Batch Loss=0.0865878239274025 Running Loss=9.401459328830242 Running Accuracy=96.35: 100%|██████████| 88/88 [00:18<00:00,  4.78it/s]\n"
          ]
        },
        {
          "output_type": "stream",
          "name": "stdout",
          "text": [
            "\n",
            "Validation set: Average loss: 0.0006, Accuracy: 4578/5000 (91.56%)\n",
            "\n",
            "\n",
            "Test set: Average loss: 0.2800, Accuracy: 9149/10000 (91.49%)\n",
            "\n",
            "EPOCHS : 99\n"
          ]
        },
        {
          "output_type": "stream",
          "name": "stderr",
          "text": [
            "Batch_id=87 Batch Loss=0.10214002430438995 Running Loss=9.492291823029518 Running Accuracy=96.32: 100%|██████████| 88/88 [00:18<00:00,  4.78it/s]\n"
          ]
        },
        {
          "output_type": "stream",
          "name": "stdout",
          "text": [
            "\n",
            "Validation set: Average loss: 0.0006, Accuracy: 4577/5000 (91.54%)\n",
            "\n",
            "\n",
            "Test set: Average loss: 0.2799, Accuracy: 9158/10000 (91.58%)\n",
            "\n",
            "EPOCHS : 100\n"
          ]
        },
        {
          "output_type": "stream",
          "name": "stderr",
          "text": [
            "Batch_id=87 Batch Loss=0.11070320010185242 Running Loss=9.467017821967602 Running Accuracy=96.38: 100%|██████████| 88/88 [00:18<00:00,  4.75it/s]\n"
          ]
        },
        {
          "output_type": "stream",
          "name": "stdout",
          "text": [
            "\n",
            "Validation set: Average loss: 0.0006, Accuracy: 4577/5000 (91.54%)\n",
            "\n",
            "\n",
            "Test set: Average loss: 0.2809, Accuracy: 9153/10000 (91.53%)\n",
            "\n",
            "EPOCHS : 101\n"
          ]
        },
        {
          "output_type": "stream",
          "name": "stderr",
          "text": [
            "Batch_id=87 Batch Loss=0.12151198089122772 Running Loss=9.613207802176476 Running Accuracy=96.28: 100%|██████████| 88/88 [00:18<00:00,  4.76it/s]\n"
          ]
        },
        {
          "output_type": "stream",
          "name": "stdout",
          "text": [
            "\n",
            "Validation set: Average loss: 0.0006, Accuracy: 4581/5000 (91.62%)\n",
            "\n",
            "\n",
            "Test set: Average loss: 0.2806, Accuracy: 9154/10000 (91.54%)\n",
            "\n",
            "EPOCHS : 102\n"
          ]
        },
        {
          "output_type": "stream",
          "name": "stderr",
          "text": [
            "Batch_id=87 Batch Loss=0.12102022767066956 Running Loss=9.429724492132664 Running Accuracy=96.32: 100%|██████████| 88/88 [00:18<00:00,  4.81it/s]\n"
          ]
        },
        {
          "output_type": "stream",
          "name": "stdout",
          "text": [
            "\n",
            "Validation set: Average loss: 0.0006, Accuracy: 4581/5000 (91.62%)\n",
            "\n",
            "\n",
            "Test set: Average loss: 0.2798, Accuracy: 9159/10000 (91.59%)\n",
            "\n",
            "EPOCHS : 103\n"
          ]
        },
        {
          "output_type": "stream",
          "name": "stderr",
          "text": [
            "Batch_id=87 Batch Loss=0.15233951807022095 Running Loss=9.583866223692894 Running Accuracy=96.26: 100%|██████████| 88/88 [00:18<00:00,  4.75it/s]\n"
          ]
        },
        {
          "output_type": "stream",
          "name": "stdout",
          "text": [
            "\n",
            "Validation set: Average loss: 0.0006, Accuracy: 4581/5000 (91.62%)\n",
            "\n",
            "\n",
            "Test set: Average loss: 0.2799, Accuracy: 9154/10000 (91.54%)\n",
            "\n",
            "EPOCHS : 104\n"
          ]
        },
        {
          "output_type": "stream",
          "name": "stderr",
          "text": [
            "Batch_id=87 Batch Loss=0.14127305150032043 Running Loss=9.688667602837086 Running Accuracy=96.22: 100%|██████████| 88/88 [00:18<00:00,  4.81it/s]\n"
          ]
        },
        {
          "output_type": "stream",
          "name": "stdout",
          "text": [
            "\n",
            "Validation set: Average loss: 0.0006, Accuracy: 4581/5000 (91.62%)\n",
            "\n",
            "\n",
            "Test set: Average loss: 0.2796, Accuracy: 9157/10000 (91.57%)\n",
            "\n",
            "EPOCHS : 105\n"
          ]
        },
        {
          "output_type": "stream",
          "name": "stderr",
          "text": [
            "Batch_id=87 Batch Loss=0.08666269481182098 Running Loss=9.54430028051138 Running Accuracy=96.23: 100%|██████████| 88/88 [00:18<00:00,  4.81it/s]\n"
          ]
        },
        {
          "output_type": "stream",
          "name": "stdout",
          "text": [
            "\n",
            "Validation set: Average loss: 0.0006, Accuracy: 4578/5000 (91.56%)\n",
            "\n",
            "\n",
            "Test set: Average loss: 0.2799, Accuracy: 9156/10000 (91.56%)\n",
            "\n",
            "EPOCHS : 106\n"
          ]
        },
        {
          "output_type": "stream",
          "name": "stderr",
          "text": [
            "Batch_id=87 Batch Loss=0.1339901089668274 Running Loss=9.432674117386341 Running Accuracy=96.44: 100%|██████████| 88/88 [00:18<00:00,  4.80it/s]\n"
          ]
        },
        {
          "output_type": "stream",
          "name": "stdout",
          "text": [
            "\n",
            "Validation set: Average loss: 0.0006, Accuracy: 4579/5000 (91.58%)\n",
            "\n",
            "\n",
            "Test set: Average loss: 0.2799, Accuracy: 9154/10000 (91.54%)\n",
            "\n",
            "EPOCHS : 107\n"
          ]
        },
        {
          "output_type": "stream",
          "name": "stderr",
          "text": [
            "Batch_id=87 Batch Loss=0.08336243778467178 Running Loss=9.670888006687164 Running Accuracy=96.39: 100%|██████████| 88/88 [00:18<00:00,  4.76it/s]\n"
          ]
        },
        {
          "output_type": "stream",
          "name": "stdout",
          "text": [
            "\n",
            "Validation set: Average loss: 0.0006, Accuracy: 4580/5000 (91.60%)\n",
            "\n",
            "\n",
            "Test set: Average loss: 0.2801, Accuracy: 9155/10000 (91.55%)\n",
            "\n",
            "EPOCHS : 108\n"
          ]
        },
        {
          "output_type": "stream",
          "name": "stderr",
          "text": [
            "Batch_id=87 Batch Loss=0.1307559311389923 Running Loss=9.422273680567741 Running Accuracy=96.39: 100%|██████████| 88/88 [00:18<00:00,  4.77it/s]\n"
          ]
        },
        {
          "output_type": "stream",
          "name": "stdout",
          "text": [
            "\n",
            "Validation set: Average loss: 0.0006, Accuracy: 4579/5000 (91.58%)\n",
            "\n",
            "\n",
            "Test set: Average loss: 0.2800, Accuracy: 9158/10000 (91.58%)\n",
            "\n",
            "EPOCHS : 109\n"
          ]
        },
        {
          "output_type": "stream",
          "name": "stderr",
          "text": [
            "Batch_id=87 Batch Loss=0.09666911512613297 Running Loss=9.848406217992306 Running Accuracy=96.16: 100%|██████████| 88/88 [00:18<00:00,  4.82it/s]\n"
          ]
        },
        {
          "output_type": "stream",
          "name": "stdout",
          "text": [
            "\n",
            "Validation set: Average loss: 0.0006, Accuracy: 4580/5000 (91.60%)\n",
            "\n",
            "\n",
            "Test set: Average loss: 0.2800, Accuracy: 9154/10000 (91.54%)\n",
            "\n",
            "EPOCHS : 110\n"
          ]
        },
        {
          "output_type": "stream",
          "name": "stderr",
          "text": [
            "Batch_id=87 Batch Loss=0.10767178982496262 Running Loss=9.40253084152937 Running Accuracy=96.36: 100%|██████████| 88/88 [00:18<00:00,  4.80it/s]\n"
          ]
        },
        {
          "output_type": "stream",
          "name": "stdout",
          "text": [
            "\n",
            "Validation set: Average loss: 0.0006, Accuracy: 4581/5000 (91.62%)\n",
            "\n",
            "\n",
            "Test set: Average loss: 0.2802, Accuracy: 9150/10000 (91.50%)\n",
            "\n",
            "EPOCHS : 111\n"
          ]
        },
        {
          "output_type": "stream",
          "name": "stderr",
          "text": [
            "Batch_id=87 Batch Loss=0.10876807570457458 Running Loss=9.482989795506 Running Accuracy=96.40: 100%|██████████| 88/88 [00:18<00:00,  4.74it/s]\n"
          ]
        },
        {
          "output_type": "stream",
          "name": "stdout",
          "text": [
            "\n",
            "Validation set: Average loss: 0.0006, Accuracy: 4578/5000 (91.56%)\n",
            "\n",
            "\n",
            "Test set: Average loss: 0.2799, Accuracy: 9152/10000 (91.52%)\n",
            "\n",
            "EPOCHS : 112\n"
          ]
        },
        {
          "output_type": "stream",
          "name": "stderr",
          "text": [
            "Batch_id=87 Batch Loss=0.1011434867978096 Running Loss=9.392278105020523 Running Accuracy=96.50: 100%|██████████| 88/88 [00:18<00:00,  4.81it/s]\n"
          ]
        },
        {
          "output_type": "stream",
          "name": "stdout",
          "text": [
            "\n",
            "Validation set: Average loss: 0.0006, Accuracy: 4580/5000 (91.60%)\n",
            "\n",
            "\n",
            "Test set: Average loss: 0.2799, Accuracy: 9154/10000 (91.54%)\n",
            "\n",
            "EPOCHS : 113\n"
          ]
        },
        {
          "output_type": "stream",
          "name": "stderr",
          "text": [
            "Batch_id=87 Batch Loss=0.09960158169269562 Running Loss=9.483538024127483 Running Accuracy=96.35: 100%|██████████| 88/88 [00:18<00:00,  4.74it/s]\n"
          ]
        },
        {
          "output_type": "stream",
          "name": "stdout",
          "text": [
            "\n",
            "Validation set: Average loss: 0.0006, Accuracy: 4575/5000 (91.50%)\n",
            "\n",
            "\n",
            "Test set: Average loss: 0.2799, Accuracy: 9155/10000 (91.55%)\n",
            "\n",
            "EPOCHS : 114\n"
          ]
        },
        {
          "output_type": "stream",
          "name": "stderr",
          "text": [
            "Batch_id=87 Batch Loss=0.11440134793519974 Running Loss=9.351448900997639 Running Accuracy=96.39: 100%|██████████| 88/88 [00:18<00:00,  4.81it/s]\n"
          ]
        },
        {
          "output_type": "stream",
          "name": "stdout",
          "text": [
            "\n",
            "Validation set: Average loss: 0.0006, Accuracy: 4577/5000 (91.54%)\n",
            "\n",
            "\n",
            "Test set: Average loss: 0.2801, Accuracy: 9145/10000 (91.45%)\n",
            "\n",
            "EPOCHS : 115\n"
          ]
        },
        {
          "output_type": "stream",
          "name": "stderr",
          "text": [
            "Batch_id=87 Batch Loss=0.07825878262519836 Running Loss=9.534479230642319 Running Accuracy=96.36: 100%|██████████| 88/88 [00:18<00:00,  4.81it/s]\n"
          ]
        },
        {
          "output_type": "stream",
          "name": "stdout",
          "text": [
            "\n",
            "Validation set: Average loss: 0.0006, Accuracy: 4578/5000 (91.56%)\n",
            "\n",
            "\n",
            "Test set: Average loss: 0.2795, Accuracy: 9150/10000 (91.50%)\n",
            "\n",
            "EPOCHS : 116\n"
          ]
        },
        {
          "output_type": "stream",
          "name": "stderr",
          "text": [
            "Batch_id=87 Batch Loss=0.14644744992256165 Running Loss=9.34674148261547 Running Accuracy=96.38: 100%|██████████| 88/88 [00:18<00:00,  4.75it/s]\n"
          ]
        },
        {
          "output_type": "stream",
          "name": "stdout",
          "text": [
            "\n",
            "Validation set: Average loss: 0.0006, Accuracy: 4581/5000 (91.62%)\n",
            "\n",
            "\n",
            "Test set: Average loss: 0.2800, Accuracy: 9154/10000 (91.54%)\n",
            "\n",
            "EPOCHS : 117\n"
          ]
        },
        {
          "output_type": "stream",
          "name": "stderr",
          "text": [
            "Batch_id=87 Batch Loss=0.1244504377245903 Running Loss=9.480061255395412 Running Accuracy=96.32: 100%|██████████| 88/88 [00:18<00:00,  4.73it/s]\n"
          ]
        },
        {
          "output_type": "stream",
          "name": "stdout",
          "text": [
            "\n",
            "Validation set: Average loss: 0.0006, Accuracy: 4579/5000 (91.58%)\n",
            "\n",
            "\n",
            "Test set: Average loss: 0.2802, Accuracy: 9153/10000 (91.53%)\n",
            "\n",
            "EPOCHS : 118\n"
          ]
        },
        {
          "output_type": "stream",
          "name": "stderr",
          "text": [
            "Batch_id=87 Batch Loss=0.11513850092887878 Running Loss=9.699406385421753 Running Accuracy=96.29: 100%|██████████| 88/88 [00:19<00:00,  4.62it/s]\n"
          ]
        },
        {
          "output_type": "stream",
          "name": "stdout",
          "text": [
            "\n",
            "Validation set: Average loss: 0.0006, Accuracy: 4581/5000 (91.62%)\n",
            "\n",
            "\n",
            "Test set: Average loss: 0.2796, Accuracy: 9150/10000 (91.50%)\n",
            "\n",
            "EPOCHS : 119\n"
          ]
        },
        {
          "output_type": "stream",
          "name": "stderr",
          "text": [
            "Batch_id=87 Batch Loss=0.12190628051757812 Running Loss=9.540116935968399 Running Accuracy=96.40: 100%|██████████| 88/88 [00:18<00:00,  4.82it/s]\n"
          ]
        },
        {
          "output_type": "stream",
          "name": "stdout",
          "text": [
            "\n",
            "Validation set: Average loss: 0.0006, Accuracy: 4577/5000 (91.54%)\n",
            "\n",
            "\n",
            "Test set: Average loss: 0.2802, Accuracy: 9151/10000 (91.51%)\n",
            "\n"
          ]
        }
      ],
      "source": [
        "# Training the model\n",
        "\n",
        "train_acc = []\n",
        "train_losses = []\n",
        "valid_accs = []\n",
        "valid_losses = []\n",
        "test_acc = []\n",
        "test_losses = []\n",
        "min_valid_loss = None\n",
        "max_acc = None\n",
        "\n",
        "EPOCHS = 120\n",
        "\n",
        "for i in range(EPOCHS):\n",
        "    print(f'EPOCHS : {i}')\n",
        "    model_training(model, device, trainloader, optimizer, train_acc, train_losses)\n",
        "\n",
        "    # Validating the model for the current epoch\n",
        "    valid_loss, valid_acc = model_evaluation(model, device, validloader)  \n",
        "\n",
        "    valid_losses.append(valid_loss)\n",
        "    valid_accs.append(valid_acc)\n",
        "\n",
        "    if not min_valid_loss:\n",
        "      min_valid_loss = valid_loss\n",
        "    else:\n",
        "      if valid_loss < min_valid_loss:\n",
        "        min_valid_loss = valid_loss\n",
        "        torch.save(model, \"best_model.pickle\")\n",
        "\n",
        "    # scheduler.step(train_losses[-1])\n",
        "    scheduler.step(valid_loss)\n",
        "\n",
        "    misclassified, test_acc2 = model_testing(model, device, testloader, test_acc, test_losses)\n",
        "\n",
        "    if not max_acc:\n",
        "      max_acc = test_acc2\n",
        "    else:\n",
        "      if test_acc2 > max_acc:\n",
        "        max_acc = test_acc2\n",
        "        torch.save(model, \"best_test_acc_model.pickle\")\n",
        "\n",
        "    save_to_csv(train_losses, train_acc, test_losses, test_acc)\n"
      ]
    },
    {
      "cell_type": "code",
      "source": [
        "# Best model\n",
        "model1 = torch.load(\"best_model.pickle\")\n",
        "model2 = torch.load(\"best_test_acc_model.pickle\")\n",
        "misclassified, _acc = model_testing(model1, device, testloader, test_acc, test_losses)\n",
        "misclassified, _acc = model_testing(model2, device, testloader, test_acc, test_losses)"
      ],
      "metadata": {
        "colab": {
          "base_uri": "https://localhost:8080/"
        },
        "id": "ocguQ5Q9p1Kt",
        "outputId": "6588da79-fced-4c5a-dfff-bef8fdc4fefd"
      },
      "execution_count": 44,
      "outputs": [
        {
          "output_type": "stream",
          "name": "stdout",
          "text": [
            "\n",
            "Test set: Average loss: 0.2791, Accuracy: 9159/10000 (91.59%)\n",
            "\n",
            "\n",
            "Test set: Average loss: 0.2796, Accuracy: 9163/10000 (91.63%)\n",
            "\n"
          ]
        }
      ]
    },
    {
      "cell_type": "code",
      "execution_count": 45,
      "metadata": {
        "execution": {
          "iopub.execute_input": "2020-09-18T14:33:11.004455Z",
          "iopub.status.busy": "2020-09-18T14:33:11.003592Z",
          "iopub.status.idle": "2020-09-18T14:33:11.886161Z",
          "shell.execute_reply": "2020-09-18T14:33:11.885385Z"
        },
        "papermill": {
          "duration": 4.212753,
          "end_time": "2020-09-18T14:33:11.886294",
          "exception": false,
          "start_time": "2020-09-18T14:33:07.673541",
          "status": "completed"
        },
        "tags": [],
        "colab": {
          "base_uri": "https://localhost:8080/",
          "height": 1000
        },
        "id": "3pYBPl8HKs_o",
        "outputId": "2918fabf-2d62-45cb-f893-b3f9ed054ebe"
      },
      "outputs": [
        {
          "output_type": "execute_result",
          "data": {
            "text/plain": [
              "[<matplotlib.lines.Line2D at 0x7f65e203a250>]"
            ]
          },
          "metadata": {},
          "execution_count": 45
        },
        {
          "output_type": "display_data",
          "data": {
            "text/plain": [
              "<Figure size 1800x1440 with 4 Axes>"
            ],
            "image/png": "[encoded data removed]"
          },
          "metadata": {
            "needs_background": "light"
          }
        }
      ],
      "source": [
        "fig, axs = plt.subplots(2,2, figsize=(25,20))\n",
        "\n",
        "axs[0,0].set_title('Train Losses')\n",
        "axs[0,1].set_title('Training Accuracy')\n",
        "axs[1,0].set_title('Test Losses')\n",
        "axs[1,1].set_title('Test Accuracy')\n",
        "\n",
        "axs[0,0].plot(train_losses)\n",
        "axs[0,1].plot(train_acc)\n",
        "axs[1,0].plot(test_losses)\n",
        "axs[1,1].plot(test_acc)"
      ]
    },
    {
      "cell_type": "code",
      "source": [],
      "metadata": {
        "id": "DlPU6Co4ns_R"
      },
      "execution_count": 17,
      "outputs": []
    }
  ],
  "metadata": {
    "kernelspec": {
      "display_name": "Python 3",
      "language": "python",
      "name": "python3"
    },
    "language_info": {
      "codemirror_mode": {
        "name": "ipython",
        "version": 3
      },
      "file_extension": ".py",
      "mimetype": "text/x-python",
      "name": "python",
      "nbconvert_exporter": "python",
      "pygments_lexer": "ipython3",
      "version": "3.7.6"
    },
    "papermill": {
      "duration": 1617.594216,
      "end_time": "2020-09-18T14:33:16.593563",
      "environment_variables": {},
      "exception": null,
      "input_path": "__notebook__.ipynb",
      "output_path": "__notebook__.ipynb",
      "parameters": {},
      "start_time": "2020-09-18T14:06:18.999347",
      "version": "2.1.0"
    },
    "colab": {
      "provenance": [],
      "machine_shape": "hm"
    },
    "accelerator": "GPU",
    "gpuClass": "premium"
  },
  "nbformat": 4,
  "nbformat_minor": 0
}