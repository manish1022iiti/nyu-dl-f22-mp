{
  "cells": [
    {
      "cell_type": "markdown",
      "source": [
        "https://www.kaggle.com/code/greatcodes/pytorch-cnn-resnet18-cifar10/notebook\n",
        "\n",
        "https://pytorch-tutorial.readthedocs.io/en/latest/tutorial/chapter03_intermediate/3_2_2_cnn_resnet_cifar10/"
      ],
      "metadata": {
        "id": "TS3R6-AKKuSD"
      }
    },
    {
      "cell_type": "code",
      "execution_count": 16,
      "metadata": {
        "execution": {
          "iopub.execute_input": "2020-09-18T14:06:23.323276Z",
          "iopub.status.busy": "2020-09-18T14:06:23.322403Z",
          "iopub.status.idle": "2020-09-18T14:06:33.073785Z",
          "shell.execute_reply": "2020-09-18T14:06:33.073171Z"
        },
        "papermill": {
          "duration": 9.766997,
          "end_time": "2020-09-18T14:06:33.073915",
          "exception": false,
          "start_time": "2020-09-18T14:06:23.306918",
          "status": "completed"
        },
        "tags": [],
        "colab": {
          "base_uri": "https://localhost:8080/"
        },
        "id": "40qwzP9AKs_c",
        "outputId": "451fa9f0-9a1f-4fa1-e184-25f98e7f2e5b"
      },
      "outputs": [
        {
          "output_type": "stream",
          "name": "stdout",
          "text": [
            "Looking in indexes: https://pypi.org/simple, https://us-python.pkg.dev/colab-wheels/public/simple/\n",
            "Requirement already satisfied: torchsummary in /usr/local/lib/python3.7/dist-packages (1.5.1)\n"
          ]
        }
      ],
      "source": [
        "!pip install torchsummary"
      ]
    },
    {
      "cell_type": "code",
      "execution_count": 2,
      "metadata": {
        "_cell_guid": "79c7e3d0-c299-4dcb-8224-4455121ee9b0",
        "_uuid": "d629ff2d2480ee46fbb7e2d37f6b5fab8052498a",
        "execution": {
          "iopub.execute_input": "2020-09-18T14:06:33.110540Z",
          "iopub.status.busy": "2020-09-18T14:06:33.109616Z",
          "iopub.status.idle": "2020-09-18T14:06:34.741497Z",
          "shell.execute_reply": "2020-09-18T14:06:34.742236Z"
        },
        "papermill": {
          "duration": 1.655486,
          "end_time": "2020-09-18T14:06:34.742433",
          "exception": false,
          "start_time": "2020-09-18T14:06:33.086947",
          "status": "completed"
        },
        "tags": [],
        "colab": {
          "base_uri": "https://localhost:8080/"
        },
        "id": "1L1ayeUjKs_d",
        "outputId": "37908a81-e767-4ebe-936c-07a2e3876042"
      },
      "outputs": [
        {
          "output_type": "stream",
          "name": "stdout",
          "text": [
            "cuda\n"
          ]
        }
      ],
      "source": [
        "# Importing Libraries\n",
        "import os\n",
        "import copy\n",
        "import random\n",
        "import numpy as np\n",
        "import pandas as pd\n",
        "import torch\n",
        "import torchvision\n",
        "import torchvision.transforms as transforms\n",
        "from torchsummary import summary\n",
        "import torch.utils.data as data\n",
        "import torch.nn as nn\n",
        "import torch.nn.functional as F\n",
        "import torch.optim as optim\n",
        "from torch.optim.lr_scheduler import StepLR, ReduceLROnPlateau\n",
        "\n",
        "import matplotlib.pyplot as plt\n",
        "%matplotlib inline\n",
        "\n",
        "SEED = 1234\n",
        "\n",
        "device = \"cuda\" if torch.cuda.is_available else \"cpu\"\n",
        "print(device)"
      ]
    },
    {
      "cell_type": "code",
      "execution_count": 3,
      "metadata": {
        "execution": {
          "iopub.execute_input": "2020-09-18T14:06:34.781123Z",
          "iopub.status.busy": "2020-09-18T14:06:34.780293Z",
          "iopub.status.idle": "2020-09-18T14:06:34.784939Z",
          "shell.execute_reply": "2020-09-18T14:06:34.784333Z"
        },
        "papermill": {
          "duration": 0.028551,
          "end_time": "2020-09-18T14:06:34.785089",
          "exception": false,
          "start_time": "2020-09-18T14:06:34.756538",
          "status": "completed"
        },
        "tags": [],
        "id": "s_5gkccjKs_e"
      },
      "outputs": [],
      "source": [
        "from torchvision import transforms\n",
        "import numpy as np\n",
        "import torch\n",
        "\n",
        "# Returns a list of transformations when called\n",
        "\n",
        "class GetTransforms():\n",
        "    '''Returns a list of transformations when type as requested amongst train/test\n",
        "       Transforms('train') = list of transforms to apply on training data\n",
        "       Transforms('test') = list of transforms to apply on testing data'''\n",
        "\n",
        "    def __init__(self):\n",
        "        pass\n",
        "\n",
        "    def trainparams(self):\n",
        "        train_transformations = [ #resises the image so it can be perfect for our model.\n",
        "            transforms.RandomHorizontalFlip(), # FLips the image w.r.t horizontal axis\n",
        "            transforms.RandomRotation((-7,7)),     #Rotates the image to a specified angel\n",
        "            transforms.RandomAffine(0, shear=10, scale=(0.8,1.2)), #Performs actions like zooms, change shear angles.\n",
        "            transforms.ColorJitter(brightness=0.2, contrast=0.2, saturation=0.2), # Set the color params\n",
        "            transforms.ToTensor(), # comvert the image to tensor so that it can work with torch\n",
        "            transforms.Normalize((0.491, 0.482, 0.446), (0.247, 0.243, 0.261)) #Normalize all the images\n",
        "            ]\n",
        "\n",
        "        return train_transformations\n",
        "\n",
        "    def testparams(self):\n",
        "        test_transforms = [\n",
        "            transforms.ToTensor(),\n",
        "            transforms.Normalize((0.491, 0.482, 0.446), (0.247, 0.243, 0.261))\n",
        "        ]\n",
        "        return test_transforms"
      ]
    },
    {
      "cell_type": "code",
      "execution_count": 4,
      "metadata": {
        "execution": {
          "iopub.execute_input": "2020-09-18T14:06:34.822176Z",
          "iopub.status.busy": "2020-09-18T14:06:34.821389Z",
          "iopub.status.idle": "2020-09-18T14:06:34.824928Z",
          "shell.execute_reply": "2020-09-18T14:06:34.825448Z"
        },
        "papermill": {
          "duration": 0.026239,
          "end_time": "2020-09-18T14:06:34.825574",
          "exception": false,
          "start_time": "2020-09-18T14:06:34.799335",
          "status": "completed"
        },
        "tags": [],
        "id": "TUmYFrWSKs_g"
      },
      "outputs": [],
      "source": [
        "from torchvision import datasets\n",
        "from torchvision import transforms\n",
        "\n",
        "\n",
        "transformations = GetTransforms()\n",
        "train_transforms = transforms.Compose(transformations.trainparams())\n",
        "test_transforms = transforms.Compose(transformations.testparams())\n",
        "\n",
        "\n",
        "class GetCIFAR10_TrainData():\n",
        "    def __init__(self, dir_name:str):\n",
        "        self.dirname = dir_name\n",
        "\n",
        "    def download_train_data(self):\n",
        "        return datasets.CIFAR10('./data', train=True, download=True, transform=train_transforms)\n",
        "\n",
        "    def download_test_data(self):\n",
        "        return datasets.CIFAR10('./data', train=False, download=True, transform=test_transforms)\n"
      ]
    },
    {
      "cell_type": "code",
      "execution_count": 5,
      "metadata": {
        "execution": {
          "iopub.execute_input": "2020-09-18T14:06:34.859536Z",
          "iopub.status.busy": "2020-09-18T14:06:34.858878Z",
          "iopub.status.idle": "2020-09-18T14:06:42.631720Z",
          "shell.execute_reply": "2020-09-18T14:06:42.631008Z"
        },
        "papermill": {
          "duration": 7.792606,
          "end_time": "2020-09-18T14:06:42.631847",
          "exception": false,
          "start_time": "2020-09-18T14:06:34.839241",
          "status": "completed"
        },
        "tags": [],
        "colab": {
          "base_uri": "https://localhost:8080/",
          "height": 101,
          "referenced_widgets": [
            "5cc6cbefc35f423dbc1901a7086c52ff",
            "0fcdd6116ef44f559c1382b07cb3c107",
            "a42ddbfe45954ae4a9bef381ebb8a67f",
            "7ee3667ce6f247c999d97f12bf81d995",
            "b6d26eb3b7854fa2857bdb0bd48811c4",
            "7025f83359be49dfb5d722d43bcf5353",
            "9d3c72c81e8f4ae8b1c5890e3652edb0",
            "22432a9a06f84627b7906aff9edd3eeb",
            "748ea0726e0c4e20b3c307263600a202",
            "3339c5e8ec6d48ec8f8fddc8eabdb9a3",
            "6e6ed9b70ad84a4b8908fdebb05b06c3"
          ]
        },
        "id": "U8mSINXnKs_i",
        "outputId": "6d0b0a67-50e5-4bbd-dd86-26929db0eff5"
      },
      "outputs": [
        {
          "output_type": "stream",
          "name": "stdout",
          "text": [
            "Downloading https://www.cs.toronto.edu/~kriz/cifar-10-python.tar.gz to ./data/cifar-10-python.tar.gz\n"
          ]
        },
        {
          "output_type": "display_data",
          "data": {
            "text/plain": [
              "  0%|          | 0/170498071 [00:00<?, ?it/s]"
            ],
            "application/vnd.jupyter.widget-view+json": {
              "version_major": 2,
              "version_minor": 0,
              "model_id": "5cc6cbefc35f423dbc1901a7086c52ff"
            }
          },
          "metadata": {}
        },
        {
          "output_type": "stream",
          "name": "stdout",
          "text": [
            "Extracting ./data/cifar-10-python.tar.gz to ./data\n",
            "Files already downloaded and verified\n"
          ]
        }
      ],
      "source": [
        "cdata = GetCIFAR10_TrainData(os.chdir(\"..\"))\n",
        "trainset = cdata.download_train_data()\n",
        "testset = cdata.download_test_data()\n",
        "\n",
        "VALID_RATIO = 0.9\n",
        "n_train_examples = int(len(trainset) * VALID_RATIO)\n",
        "n_valid_examples = len(trainset) - n_train_examples\n",
        "\n",
        "trainset, validset = data.random_split(trainset, \n",
        "                                           [n_train_examples, n_valid_examples])\n",
        "\n",
        "validset = copy.deepcopy(validset)\n",
        "validset.dataset.transform = test_transforms"
      ]
    },
    {
      "cell_type": "code",
      "source": [
        "len(trainset), len(validset), len(testset)"
      ],
      "metadata": {
        "colab": {
          "base_uri": "https://localhost:8080/"
        },
        "id": "W_h-ul9MYUPZ",
        "outputId": "db0e2290-197f-4833-aa8e-617f1dceee76"
      },
      "execution_count": 6,
      "outputs": [
        {
          "output_type": "execute_result",
          "data": {
            "text/plain": [
              "(45000, 5000, 10000)"
            ]
          },
          "metadata": {},
          "execution_count": 6
        }
      ]
    },
    {
      "cell_type": "code",
      "source": [
        "BATCH_SIZE = 512\n",
        "\n",
        "trainloader = torch.utils.data.DataLoader(trainset, batch_size=BATCH_SIZE,\n",
        "                                          shuffle=True, num_workers=2)\n",
        "validloader = torch.utils.data.DataLoader(validset, batch_size=BATCH_SIZE,\n",
        "                                          shuffle=False, num_workers=2)\n",
        "testloader = torch.utils.data.DataLoader(testset, batch_size=BATCH_SIZE,\n",
        "                                         shuffle=False, num_workers=2)"
      ],
      "metadata": {
        "id": "uybGoOcRQA6S"
      },
      "execution_count": 7,
      "outputs": []
    },
    {
      "cell_type": "markdown",
      "metadata": {
        "papermill": {
          "duration": 0.01586,
          "end_time": "2020-09-18T14:06:42.663889",
          "exception": false,
          "start_time": "2020-09-18T14:06:42.648029",
          "status": "completed"
        },
        "tags": [],
        "id": "H6YIObpwKs_j"
      },
      "source": [
        "# The Model - RESNET18\n"
      ]
    },
    {
      "cell_type": "code",
      "source": [
        "# 3x3 convolution\n",
        "def conv3x3(in_channels, out_channels, stride=1):\n",
        "    return nn.Conv2d(in_channels, out_channels, kernel_size=3, \n",
        "                     stride=stride, padding=1, bias=False)"
      ],
      "metadata": {
        "id": "G9TNZ9fONNbW"
      },
      "execution_count": 8,
      "outputs": []
    },
    {
      "cell_type": "code",
      "execution_count": 9,
      "metadata": {
        "execution": {
          "iopub.execute_input": "2020-09-18T14:06:42.726092Z",
          "iopub.status.busy": "2020-09-18T14:06:42.719704Z",
          "iopub.status.idle": "2020-09-18T14:06:42.729169Z",
          "shell.execute_reply": "2020-09-18T14:06:42.728568Z"
        },
        "papermill": {
          "duration": 0.048555,
          "end_time": "2020-09-18T14:06:42.729267",
          "exception": false,
          "start_time": "2020-09-18T14:06:42.680712",
          "status": "completed"
        },
        "tags": [],
        "id": "yJJ0Idu8Ks_j"
      },
      "outputs": [],
      "source": [
        "# Residual block\n",
        "class ResidualBlock(nn.Module):\n",
        "    def __init__(self, in_channels, out_channels, stride=1, downsample=None):\n",
        "        super(ResidualBlock, self).__init__()\n",
        "        \n",
        "        self.conv1 = conv3x3(in_channels, out_channels, stride)\n",
        "        self.bn1 = nn.BatchNorm2d(out_channels)\n",
        "        self.dropout1 = nn.Dropout(0.1)\n",
        "        \n",
        "        self.relu = nn.ReLU(inplace=True)\n",
        "        \n",
        "        self.conv2 = conv3x3(out_channels, out_channels)\n",
        "        self.bn2 = nn.BatchNorm2d(out_channels)\n",
        "        self.dropout2 = nn.Dropout(0.1)\n",
        "        \n",
        "        self.downsample = downsample\n",
        "\n",
        "    def forward(self, x):\n",
        "        residual = x\n",
        "\n",
        "        out = self.conv1(x)\n",
        "        out = self.bn1(out)\n",
        "        out = self.dropout1(out)\n",
        "        out = self.relu(out)\n",
        "        \n",
        "        out = self.conv2(out)\n",
        "        out = self.bn2(out)\n",
        "        out = self.dropout2(out)\n",
        "        if self.downsample:\n",
        "            residual = self.downsample(x)\n",
        "        out += residual\n",
        "        out = self.relu(out)\n",
        "        \n",
        "        return out\n",
        "\n",
        "# ResNet\n",
        "class ResNet(nn.Module):\n",
        "    def __init__(self, block, layers, num_classes=10):\n",
        "        super(ResNet, self).__init__()\n",
        "        \n",
        "        self.in_channels = 64\n",
        "        \n",
        "        self.conv = conv3x3(in_channels=3, out_channels=64)\n",
        "        self.bn = nn.BatchNorm2d(64)\n",
        "        self.relu = nn.ReLU(inplace=True)\n",
        "\n",
        "        self.layer1 = self.make_layer(block=block, out_channels=64, blocks=layers[0], stride=1)\n",
        "        self.layer2 = self.make_layer(block=block, out_channels=128, blocks=layers[1], stride=2)\n",
        "        self.layer3 = self.make_layer(block=block, out_channels=256, blocks=layers[2], stride=2)\n",
        "        # self.layer4 = self.make_layer(block=block, out_channels=512, blocks=layers[3], stride=2)\n",
        "\n",
        "        self.avg_pool = nn.AvgPool2d(4)\n",
        "        # self.fc = nn.Linear(256, num_classes)\n",
        "        self.fc = nn.Linear(1024, num_classes)\n",
        "\n",
        "    def make_layer(self, block, out_channels, blocks, stride=1):\n",
        "        downsample = None\n",
        "        if (stride != 1) or (self.in_channels != out_channels):\n",
        "            downsample = nn.Sequential(\n",
        "                conv3x3(self.in_channels, out_channels, stride=stride),\n",
        "                nn.BatchNorm2d(out_channels))\n",
        "        layers = []\n",
        "        layers.append(block(self.in_channels, out_channels, stride, downsample))\n",
        "        self.in_channels = out_channels\n",
        "        for i in range(1, blocks):\n",
        "            layers.append(block(out_channels, out_channels))\n",
        "        return nn.Sequential(*layers)\n",
        "\n",
        "    def forward(self, x):\n",
        "        out = self.conv(x)\n",
        "        out = self.bn(out)\n",
        "        out = self.relu(out)\n",
        "        out = self.layer1(out)\n",
        "        out = self.layer2(out)\n",
        "        out = self.layer3(out)\n",
        "        # out = self.layer4(out)\n",
        "        out = self.avg_pool(out)\n",
        "        out = out.view(out.size(0), -1)\n",
        "        out = self.fc(out)\n",
        "        return F.log_softmax(out, dim=-1)\n",
        "\n",
        "def ResNet18():\n",
        "    # return ResNet(ResidualBlock, [2, 2, 2, 2])\n",
        "    return ResNet(ResidualBlock, [3, 3, 3])"
      ]
    },
    {
      "cell_type": "code",
      "execution_count": 10,
      "metadata": {
        "execution": {
          "iopub.execute_input": "2020-09-18T14:06:42.764813Z",
          "iopub.status.busy": "2020-09-18T14:06:42.764098Z",
          "iopub.status.idle": "2020-09-18T14:06:48.527600Z",
          "shell.execute_reply": "2020-09-18T14:06:48.528219Z"
        },
        "papermill": {
          "duration": 5.783641,
          "end_time": "2020-09-18T14:06:48.528379",
          "exception": false,
          "start_time": "2020-09-18T14:06:42.744738",
          "status": "completed"
        },
        "tags": [],
        "colab": {
          "base_uri": "https://localhost:8080/"
        },
        "id": "INT7cGhKKs_k",
        "outputId": "70cfaae8-3445-4fde-eddb-f2904dd38637"
      },
      "outputs": [
        {
          "output_type": "stream",
          "name": "stdout",
          "text": [
            "----------------------------------------------------------------\n",
            "        Layer (type)               Output Shape         Param #\n",
            "================================================================\n",
            "            Conv2d-1           [-1, 64, 32, 32]           1,728\n",
            "       BatchNorm2d-2           [-1, 64, 32, 32]             128\n",
            "              ReLU-3           [-1, 64, 32, 32]               0\n",
            "            Conv2d-4           [-1, 64, 32, 32]          36,864\n",
            "       BatchNorm2d-5           [-1, 64, 32, 32]             128\n",
            "           Dropout-6           [-1, 64, 32, 32]               0\n",
            "              ReLU-7           [-1, 64, 32, 32]               0\n",
            "            Conv2d-8           [-1, 64, 32, 32]          36,864\n",
            "       BatchNorm2d-9           [-1, 64, 32, 32]             128\n",
            "          Dropout-10           [-1, 64, 32, 32]               0\n",
            "             ReLU-11           [-1, 64, 32, 32]               0\n",
            "    ResidualBlock-12           [-1, 64, 32, 32]               0\n",
            "           Conv2d-13           [-1, 64, 32, 32]          36,864\n",
            "      BatchNorm2d-14           [-1, 64, 32, 32]             128\n",
            "          Dropout-15           [-1, 64, 32, 32]               0\n",
            "             ReLU-16           [-1, 64, 32, 32]               0\n",
            "           Conv2d-17           [-1, 64, 32, 32]          36,864\n",
            "      BatchNorm2d-18           [-1, 64, 32, 32]             128\n",
            "          Dropout-19           [-1, 64, 32, 32]               0\n",
            "             ReLU-20           [-1, 64, 32, 32]               0\n",
            "    ResidualBlock-21           [-1, 64, 32, 32]               0\n",
            "           Conv2d-22           [-1, 64, 32, 32]          36,864\n",
            "      BatchNorm2d-23           [-1, 64, 32, 32]             128\n",
            "          Dropout-24           [-1, 64, 32, 32]               0\n",
            "             ReLU-25           [-1, 64, 32, 32]               0\n",
            "           Conv2d-26           [-1, 64, 32, 32]          36,864\n",
            "      BatchNorm2d-27           [-1, 64, 32, 32]             128\n",
            "          Dropout-28           [-1, 64, 32, 32]               0\n",
            "             ReLU-29           [-1, 64, 32, 32]               0\n",
            "    ResidualBlock-30           [-1, 64, 32, 32]               0\n",
            "           Conv2d-31          [-1, 128, 16, 16]          73,728\n",
            "      BatchNorm2d-32          [-1, 128, 16, 16]             256\n",
            "          Dropout-33          [-1, 128, 16, 16]               0\n",
            "             ReLU-34          [-1, 128, 16, 16]               0\n",
            "           Conv2d-35          [-1, 128, 16, 16]         147,456\n",
            "      BatchNorm2d-36          [-1, 128, 16, 16]             256\n",
            "          Dropout-37          [-1, 128, 16, 16]               0\n",
            "           Conv2d-38          [-1, 128, 16, 16]          73,728\n",
            "      BatchNorm2d-39          [-1, 128, 16, 16]             256\n",
            "             ReLU-40          [-1, 128, 16, 16]               0\n",
            "    ResidualBlock-41          [-1, 128, 16, 16]               0\n",
            "           Conv2d-42          [-1, 128, 16, 16]         147,456\n",
            "      BatchNorm2d-43          [-1, 128, 16, 16]             256\n",
            "          Dropout-44          [-1, 128, 16, 16]               0\n",
            "             ReLU-45          [-1, 128, 16, 16]               0\n",
            "           Conv2d-46          [-1, 128, 16, 16]         147,456\n",
            "      BatchNorm2d-47          [-1, 128, 16, 16]             256\n",
            "          Dropout-48          [-1, 128, 16, 16]               0\n",
            "             ReLU-49          [-1, 128, 16, 16]               0\n",
            "    ResidualBlock-50          [-1, 128, 16, 16]               0\n",
            "           Conv2d-51          [-1, 128, 16, 16]         147,456\n",
            "      BatchNorm2d-52          [-1, 128, 16, 16]             256\n",
            "          Dropout-53          [-1, 128, 16, 16]               0\n",
            "             ReLU-54          [-1, 128, 16, 16]               0\n",
            "           Conv2d-55          [-1, 128, 16, 16]         147,456\n",
            "      BatchNorm2d-56          [-1, 128, 16, 16]             256\n",
            "          Dropout-57          [-1, 128, 16, 16]               0\n",
            "             ReLU-58          [-1, 128, 16, 16]               0\n",
            "    ResidualBlock-59          [-1, 128, 16, 16]               0\n",
            "           Conv2d-60            [-1, 256, 8, 8]         294,912\n",
            "      BatchNorm2d-61            [-1, 256, 8, 8]             512\n",
            "          Dropout-62            [-1, 256, 8, 8]               0\n",
            "             ReLU-63            [-1, 256, 8, 8]               0\n",
            "           Conv2d-64            [-1, 256, 8, 8]         589,824\n",
            "      BatchNorm2d-65            [-1, 256, 8, 8]             512\n",
            "          Dropout-66            [-1, 256, 8, 8]               0\n",
            "           Conv2d-67            [-1, 256, 8, 8]         294,912\n",
            "      BatchNorm2d-68            [-1, 256, 8, 8]             512\n",
            "             ReLU-69            [-1, 256, 8, 8]               0\n",
            "    ResidualBlock-70            [-1, 256, 8, 8]               0\n",
            "           Conv2d-71            [-1, 256, 8, 8]         589,824\n",
            "      BatchNorm2d-72            [-1, 256, 8, 8]             512\n",
            "          Dropout-73            [-1, 256, 8, 8]               0\n",
            "             ReLU-74            [-1, 256, 8, 8]               0\n",
            "           Conv2d-75            [-1, 256, 8, 8]         589,824\n",
            "      BatchNorm2d-76            [-1, 256, 8, 8]             512\n",
            "          Dropout-77            [-1, 256, 8, 8]               0\n",
            "             ReLU-78            [-1, 256, 8, 8]               0\n",
            "    ResidualBlock-79            [-1, 256, 8, 8]               0\n",
            "           Conv2d-80            [-1, 256, 8, 8]         589,824\n",
            "      BatchNorm2d-81            [-1, 256, 8, 8]             512\n",
            "          Dropout-82            [-1, 256, 8, 8]               0\n",
            "             ReLU-83            [-1, 256, 8, 8]               0\n",
            "           Conv2d-84            [-1, 256, 8, 8]         589,824\n",
            "      BatchNorm2d-85            [-1, 256, 8, 8]             512\n",
            "          Dropout-86            [-1, 256, 8, 8]               0\n",
            "             ReLU-87            [-1, 256, 8, 8]               0\n",
            "    ResidualBlock-88            [-1, 256, 8, 8]               0\n",
            "        AvgPool2d-89            [-1, 256, 2, 2]               0\n",
            "           Linear-90                   [-1, 10]          10,250\n",
            "================================================================\n",
            "Total params: 4,663,114\n",
            "Trainable params: 4,663,114\n",
            "Non-trainable params: 0\n",
            "----------------------------------------------------------------\n",
            "Input size (MB): 0.01\n",
            "Forward/backward pass size (MB): 25.88\n",
            "Params size (MB): 17.79\n",
            "Estimated Total Size (MB): 43.68\n",
            "----------------------------------------------------------------\n"
          ]
        }
      ],
      "source": [
        "# Importing Model and printing Summary\n",
        "model = ResNet18().to(device)\n",
        "summary(model, input_size=(3,32,32))"
      ]
    },
    {
      "cell_type": "code",
      "execution_count": 11,
      "metadata": {
        "execution": {
          "iopub.execute_input": "2020-09-18T14:06:48.577693Z",
          "iopub.status.busy": "2020-09-18T14:06:48.576994Z",
          "iopub.status.idle": "2020-09-18T14:06:48.581591Z",
          "shell.execute_reply": "2020-09-18T14:06:48.581094Z"
        },
        "papermill": {
          "duration": 0.03332,
          "end_time": "2020-09-18T14:06:48.581710",
          "exception": false,
          "start_time": "2020-09-18T14:06:48.548390",
          "status": "completed"
        },
        "tags": [],
        "id": "-53UyTmsKs_m"
      },
      "outputs": [],
      "source": [
        "from tqdm import tqdm\n",
        "from torch import nn\n",
        "import torch.nn\n",
        "from torch.functional import F\n",
        "import os\n",
        "\n",
        "\n",
        "def model_training(model, device, train_dataloader, optimizer, train_acc, train_losses):\n",
        "            \n",
        "    model.train()\n",
        "    pbar = tqdm(train_dataloader)\n",
        "    correct = 0\n",
        "    processed = 0\n",
        "    running_loss = 0.0\n",
        "\n",
        "    for batch_idx, (data, target) in enumerate(pbar):\n",
        "        data, target = data.to(device), target.to(device)\n",
        "        optimizer.zero_grad()\n",
        "        y_pred = model(data)\n",
        "        loss = F.nll_loss(y_pred, target)\n",
        "        \n",
        "\n",
        "        # train_losses.append(loss.item())\n",
        "        loss.backward()\n",
        "        optimizer.step()\n",
        "\n",
        "        pred = y_pred.argmax(dim=1, keepdim=True)\n",
        "        correct += pred.eq(target.view_as(pred)).sum().item()\n",
        "        processed += len(data)\n",
        "        \n",
        "        # print statistics\n",
        "        \n",
        "        running_loss += loss.item()\n",
        "        pbar.set_description(desc=f'Batch_id={batch_idx} Batch Loss={loss.item()} Running Loss={running_loss} Running Accuracy={100*correct/processed:0.2f}')\n",
        "        # train_acc.append(100*correct/processed)\n",
        "    \n",
        "    train_losses.append(running_loss)\n",
        "    train_acc.append(100*correct/processed)"
      ]
    },
    {
      "cell_type": "code",
      "execution_count": 12,
      "metadata": {
        "execution": {
          "iopub.execute_input": "2020-09-18T14:06:48.629732Z",
          "iopub.status.busy": "2020-09-18T14:06:48.628793Z",
          "iopub.status.idle": "2020-09-18T14:06:48.631384Z",
          "shell.execute_reply": "2020-09-18T14:06:48.631909Z"
        },
        "papermill": {
          "duration": 0.03462,
          "end_time": "2020-09-18T14:06:48.632026",
          "exception": false,
          "start_time": "2020-09-18T14:06:48.597406",
          "status": "completed"
        },
        "tags": [],
        "id": "E4BrK-0EKs_n"
      },
      "outputs": [],
      "source": [
        "import torch\n",
        "import os\n",
        "from torch.functional import F\n",
        "\n",
        "cwd = os.getcwd()\n",
        "\n",
        "def model_testing(model, device, test_dataloader, test_acc, test_losses, misclassified = []):\n",
        "    \n",
        "    model.eval()\n",
        "    test_loss = 0\n",
        "    correct = 0\n",
        "    class_correct = list(0. for i in range(10))\n",
        "    class_total = list(0. for i in range(10))\n",
        "    # label = 0\n",
        "    classes = ('plane', 'car', 'bird', 'cat',\n",
        "           'deer', 'dog', 'frog', 'horse', 'ship', 'truck')\n",
        "    \n",
        "    with torch.no_grad():\n",
        "\n",
        "        for index, (data, target) in enumerate(test_dataloader):\n",
        "            data, target = data.to(device), target.to(device)\n",
        "            output = model(data)\n",
        "            pred = output.argmax(dim=1, keepdim=True)\n",
        "            \n",
        "            for d,i,j in zip(data, pred, target):\n",
        "                if i != j:\n",
        "                    misclassified.append([d.cpu(),i[0].cpu(),j.cpu()])\n",
        "\n",
        "            test_loss += F.nll_loss(output, target, reduction='sum').item()\n",
        "            correct += pred.eq(target.view_as(pred)).sum().item()\n",
        "    test_loss /= len(test_dataloader.dataset)\n",
        "    test_losses.append(test_loss)\n",
        "    \n",
        "    print('\\nTest set: Average loss: {:.4f}, Accuracy: {}/{} ({:.2f}%)\\n'.format(\n",
        "        test_loss, correct, len(test_dataloader.dataset),\n",
        "        100. * correct / len(test_dataloader.dataset)))\n",
        "    \n",
        "    test_acc.append(100. * correct / len(test_dataloader.dataset))\n",
        "    return misclassified, correct / len(test_dataloader.dataset)"
      ]
    },
    {
      "cell_type": "code",
      "source": [
        "def model_evaluation(model, device, loader):\n",
        "    \n",
        "    epoch_loss = 0\n",
        "    epoch_acc = 0\n",
        "    \n",
        "    model.eval()\n",
        "    \n",
        "    with torch.no_grad():\n",
        "        \n",
        "        for (x, y) in loader:\n",
        "\n",
        "            x = x.to(device)\n",
        "            y = y.to(device)\n",
        "\n",
        "            y_pred = model(x)\n",
        "            loss = F.nll_loss(y_pred, y)\n",
        "        \n",
        "            pred = y_pred.argmax(dim=1, keepdim=True)\n",
        "            acc = pred.eq(y.view_as(pred)).sum()\n",
        "\n",
        "            epoch_loss += loss.item()\n",
        "            epoch_acc += acc.item()\n",
        "        \n",
        "    print('\\nValidation set: Average loss: {:.4f}, Accuracy: {}/{} ({:.2f}%)\\n'.format(\n",
        "    epoch_loss / len(loader.dataset), epoch_acc, len(loader.dataset),\n",
        "    100. * epoch_acc / len(loader.dataset)))\n",
        "\n",
        "    return epoch_loss, epoch_acc / len(loader.dataset)"
      ],
      "metadata": {
        "id": "ysDy3WkqUGb-"
      },
      "execution_count": 13,
      "outputs": []
    },
    {
      "cell_type": "code",
      "source": [
        "# Defining parameters\n",
        "\n",
        "criterion = nn.CrossEntropyLoss()\n",
        "\n",
        "# optimizer = optim.SGD(model.parameters(), lr=0.05, momentum=0.9)\n",
        "optimizer = optim.SGD(model.parameters(), lr=0.01, momentum=0.9)\n",
        "\n",
        "scheduler = ReduceLROnPlateau(optimizer, mode='min', factor=0.1, patience=2, threshold=0.0000001, threshold_mode='rel', cooldown=0, min_lr=0, eps=1e-08, verbose=True)\n",
        "# scheduler = ReduceLROnPlateau(optimizer, mode='min', factor=0.1, patience=2, threshold=0.001, threshold_mode='rel', cooldown=0, min_lr=0, eps=1e-08, verbose=True)\n",
        "# scheduler = StepLR(optimizer, step_size=15, gamma=0.1)"
      ],
      "metadata": {
        "id": "L7LSCkvhAdb0"
      },
      "execution_count": 14,
      "outputs": []
    },
    {
      "cell_type": "code",
      "source": [
        "import pandas\n",
        "\n",
        "def save_to_csv(csvname, train_losses, train_accs, test_losses, test_accs):\n",
        "  df = pandas.DataFrame()\n",
        "  df[\"epoch\"] = [i+1 for i in range(len(train_losses))]\n",
        "  df[\"train_loss\"] = train_losses\n",
        "  df[\"test_loss\"] = test_losses\n",
        "  df[\"train_acc\"] = train_accs\n",
        "  df[\"test_acc\"] = test_accs\n",
        "  df.to_csv(csvname)"
      ],
      "metadata": {
        "id": "aY2gsn5NxZqN"
      },
      "execution_count": 15,
      "outputs": []
    },
    {
      "cell_type": "code",
      "execution_count": 17,
      "metadata": {
        "execution": {
          "iopub.execute_input": "2020-09-18T14:06:48.676683Z",
          "iopub.status.busy": "2020-09-18T14:06:48.675972Z",
          "iopub.status.idle": "2020-09-18T14:33:04.548416Z",
          "shell.execute_reply": "2020-09-18T14:33:04.549364Z"
        },
        "papermill": {
          "duration": 1575.900797,
          "end_time": "2020-09-18T14:33:04.549700",
          "exception": false,
          "start_time": "2020-09-18T14:06:48.648903",
          "status": "completed"
        },
        "tags": [],
        "colab": {
          "base_uri": "https://localhost:8080/"
        },
        "id": "rtrFA-RCKs_o",
        "outputId": "f2162b1a-f56d-4c28-b166-c4435189dac1"
      },
      "outputs": [
        {
          "output_type": "stream",
          "name": "stdout",
          "text": [
            "EPOCHS : 0\n"
          ]
        },
        {
          "output_type": "stream",
          "name": "stderr",
          "text": [
            "Batch_id=87 Batch Loss=1.4870096445083618 Running Loss=156.62847089767456 Running Accuracy=34.65: 100%|██████████| 88/88 [00:18<00:00,  4.81it/s]\n"
          ]
        },
        {
          "output_type": "stream",
          "name": "stdout",
          "text": [
            "\n",
            "Validation set: Average loss: 0.0035, Accuracy: 1986/5000 (39.72%)\n",
            "\n",
            "\n",
            "Test set: Average loss: 1.7478, Accuracy: 4027/10000 (40.27%)\n",
            "\n",
            "EPOCHS : 1\n"
          ]
        },
        {
          "output_type": "stream",
          "name": "stderr",
          "text": [
            "Batch_id=87 Batch Loss=1.1261922121047974 Running Loss=114.41598773002625 Running Accuracy=52.85: 100%|██████████| 88/88 [00:18<00:00,  4.83it/s]\n"
          ]
        },
        {
          "output_type": "stream",
          "name": "stdout",
          "text": [
            "\n",
            "Validation set: Average loss: 0.0025, Accuracy: 2833/5000 (56.66%)\n",
            "\n",
            "\n",
            "Test set: Average loss: 1.2353, Accuracy: 5699/10000 (56.99%)\n",
            "\n",
            "EPOCHS : 2\n"
          ]
        },
        {
          "output_type": "stream",
          "name": "stderr",
          "text": [
            "Batch_id=87 Batch Loss=1.0517187118530273 Running Loss=93.53048986196518 Running Accuracy=62.10: 100%|██████████| 88/88 [00:17<00:00,  4.95it/s]\n"
          ]
        },
        {
          "output_type": "stream",
          "name": "stdout",
          "text": [
            "\n",
            "Validation set: Average loss: 0.0021, Accuracy: 3214/5000 (64.28%)\n",
            "\n",
            "\n",
            "Test set: Average loss: 1.0571, Accuracy: 6473/10000 (64.73%)\n",
            "\n",
            "EPOCHS : 3\n"
          ]
        },
        {
          "output_type": "stream",
          "name": "stderr",
          "text": [
            "Batch_id=87 Batch Loss=0.8606631755828857 Running Loss=81.25495159626007 Running Accuracy=67.29: 100%|██████████| 88/88 [00:18<00:00,  4.85it/s]\n"
          ]
        },
        {
          "output_type": "stream",
          "name": "stdout",
          "text": [
            "\n",
            "Validation set: Average loss: 0.0018, Accuracy: 3402/5000 (68.04%)\n",
            "\n",
            "\n",
            "Test set: Average loss: 0.9335, Accuracy: 6813/10000 (68.13%)\n",
            "\n",
            "EPOCHS : 4\n"
          ]
        },
        {
          "output_type": "stream",
          "name": "stderr",
          "text": [
            "Batch_id=87 Batch Loss=0.7102836966514587 Running Loss=71.29791069030762 Running Accuracy=71.38: 100%|██████████| 88/88 [00:18<00:00,  4.89it/s]\n"
          ]
        },
        {
          "output_type": "stream",
          "name": "stdout",
          "text": [
            "\n",
            "Validation set: Average loss: 0.0015, Accuracy: 3725/5000 (74.50%)\n",
            "\n",
            "\n",
            "Test set: Average loss: 0.7529, Accuracy: 7453/10000 (74.53%)\n",
            "\n",
            "EPOCHS : 5\n"
          ]
        },
        {
          "output_type": "stream",
          "name": "stderr",
          "text": [
            "Batch_id=87 Batch Loss=0.7942198514938354 Running Loss=65.43905889987946 Running Accuracy=73.65: 100%|██████████| 88/88 [00:17<00:00,  4.96it/s]\n"
          ]
        },
        {
          "output_type": "stream",
          "name": "stdout",
          "text": [
            "\n",
            "Validation set: Average loss: 0.0014, Accuracy: 3867/5000 (77.34%)\n",
            "\n",
            "\n",
            "Test set: Average loss: 0.6792, Accuracy: 7697/10000 (76.97%)\n",
            "\n",
            "EPOCHS : 6\n"
          ]
        },
        {
          "output_type": "stream",
          "name": "stderr",
          "text": [
            "Batch_id=87 Batch Loss=0.6727298498153687 Running Loss=60.73361802101135 Running Accuracy=75.87: 100%|██████████| 88/88 [00:17<00:00,  4.93it/s]\n"
          ]
        },
        {
          "output_type": "stream",
          "name": "stdout",
          "text": [
            "\n",
            "Validation set: Average loss: 0.0013, Accuracy: 3917/5000 (78.34%)\n",
            "\n",
            "\n",
            "Test set: Average loss: 0.6385, Accuracy: 7847/10000 (78.47%)\n",
            "\n",
            "EPOCHS : 7\n"
          ]
        },
        {
          "output_type": "stream",
          "name": "stderr",
          "text": [
            "Batch_id=87 Batch Loss=0.7144920825958252 Running Loss=56.83347648382187 Running Accuracy=77.67: 100%|██████████| 88/88 [00:17<00:00,  4.96it/s]\n"
          ]
        },
        {
          "output_type": "stream",
          "name": "stdout",
          "text": [
            "\n",
            "Validation set: Average loss: 0.0013, Accuracy: 3880/5000 (77.60%)\n",
            "\n",
            "\n",
            "Test set: Average loss: 0.6728, Accuracy: 7703/10000 (77.03%)\n",
            "\n",
            "EPOCHS : 8\n"
          ]
        },
        {
          "output_type": "stream",
          "name": "stderr",
          "text": [
            "Batch_id=87 Batch Loss=0.5202427506446838 Running Loss=53.06162226200104 Running Accuracy=78.93: 100%|██████████| 88/88 [00:18<00:00,  4.86it/s]\n"
          ]
        },
        {
          "output_type": "stream",
          "name": "stdout",
          "text": [
            "\n",
            "Validation set: Average loss: 0.0012, Accuracy: 3965/5000 (79.30%)\n",
            "\n",
            "\n",
            "Test set: Average loss: 0.5954, Accuracy: 7982/10000 (79.82%)\n",
            "\n",
            "EPOCHS : 9\n"
          ]
        },
        {
          "output_type": "stream",
          "name": "stderr",
          "text": [
            "Batch_id=87 Batch Loss=0.5123599171638489 Running Loss=50.642078042030334 Running Accuracy=79.96: 100%|██████████| 88/88 [00:18<00:00,  4.88it/s]\n"
          ]
        },
        {
          "output_type": "stream",
          "name": "stdout",
          "text": [
            "\n",
            "Validation set: Average loss: 0.0012, Accuracy: 3961/5000 (79.22%)\n",
            "\n",
            "\n",
            "Test set: Average loss: 0.5945, Accuracy: 8006/10000 (80.06%)\n",
            "\n",
            "EPOCHS : 10\n"
          ]
        },
        {
          "output_type": "stream",
          "name": "stderr",
          "text": [
            "Batch_id=87 Batch Loss=0.5332925915718079 Running Loss=48.38836592435837 Running Accuracy=80.75: 100%|██████████| 88/88 [00:17<00:00,  4.92it/s]\n"
          ]
        },
        {
          "output_type": "stream",
          "name": "stdout",
          "text": [
            "\n",
            "Validation set: Average loss: 0.0011, Accuracy: 4062/5000 (81.24%)\n",
            "\n",
            "\n",
            "Test set: Average loss: 0.5683, Accuracy: 8101/10000 (81.01%)\n",
            "\n",
            "EPOCHS : 11\n"
          ]
        },
        {
          "output_type": "stream",
          "name": "stderr",
          "text": [
            "Batch_id=87 Batch Loss=0.44714727997779846 Running Loss=45.65813109278679 Running Accuracy=81.99: 100%|██████████| 88/88 [00:17<00:00,  4.95it/s]\n"
          ]
        },
        {
          "output_type": "stream",
          "name": "stdout",
          "text": [
            "\n",
            "Validation set: Average loss: 0.0011, Accuracy: 4052/5000 (81.04%)\n",
            "\n",
            "\n",
            "Test set: Average loss: 0.5811, Accuracy: 8044/10000 (80.44%)\n",
            "\n",
            "EPOCHS : 12\n"
          ]
        },
        {
          "output_type": "stream",
          "name": "stderr",
          "text": [
            "Batch_id=87 Batch Loss=0.5809598565101624 Running Loss=43.60525557398796 Running Accuracy=82.70: 100%|██████████| 88/88 [00:17<00:00,  4.94it/s]\n"
          ]
        },
        {
          "output_type": "stream",
          "name": "stdout",
          "text": [
            "\n",
            "Validation set: Average loss: 0.0010, Accuracy: 4173/5000 (83.46%)\n",
            "\n",
            "\n",
            "Test set: Average loss: 0.4899, Accuracy: 8389/10000 (83.89%)\n",
            "\n",
            "EPOCHS : 13\n"
          ]
        },
        {
          "output_type": "stream",
          "name": "stderr",
          "text": [
            "Batch_id=87 Batch Loss=0.4372301697731018 Running Loss=41.29931217432022 Running Accuracy=83.49: 100%|██████████| 88/88 [00:18<00:00,  4.89it/s]\n"
          ]
        },
        {
          "output_type": "stream",
          "name": "stdout",
          "text": [
            "\n",
            "Validation set: Average loss: 0.0010, Accuracy: 4173/5000 (83.46%)\n",
            "\n",
            "\n",
            "Test set: Average loss: 0.4910, Accuracy: 8312/10000 (83.12%)\n",
            "\n",
            "EPOCHS : 14\n"
          ]
        },
        {
          "output_type": "stream",
          "name": "stderr",
          "text": [
            "Batch_id=87 Batch Loss=0.491743803024292 Running Loss=39.54989716410637 Running Accuracy=84.23: 100%|██████████| 88/88 [00:18<00:00,  4.84it/s]\n"
          ]
        },
        {
          "output_type": "stream",
          "name": "stdout",
          "text": [
            "\n",
            "Validation set: Average loss: 0.0010, Accuracy: 4159/5000 (83.18%)\n",
            "\n",
            "\n",
            "Test set: Average loss: 0.5034, Accuracy: 8323/10000 (83.23%)\n",
            "\n",
            "EPOCHS : 15\n"
          ]
        },
        {
          "output_type": "stream",
          "name": "stderr",
          "text": [
            "Batch_id=87 Batch Loss=0.41723719239234924 Running Loss=38.12618991732597 Running Accuracy=84.86: 100%|██████████| 88/88 [00:17<00:00,  4.98it/s]\n"
          ]
        },
        {
          "output_type": "stream",
          "name": "stdout",
          "text": [
            "\n",
            "Validation set: Average loss: 0.0010, Accuracy: 4143/5000 (82.86%)\n",
            "\n",
            "Epoch 00016: reducing learning rate of group 0 to 1.0000e-03.\n",
            "\n",
            "Test set: Average loss: 0.5090, Accuracy: 8347/10000 (83.47%)\n",
            "\n",
            "EPOCHS : 16\n"
          ]
        },
        {
          "output_type": "stream",
          "name": "stderr",
          "text": [
            "Batch_id=87 Batch Loss=0.3527681529521942 Running Loss=31.93005070090294 Running Accuracy=87.38: 100%|██████████| 88/88 [00:17<00:00,  4.92it/s]\n"
          ]
        },
        {
          "output_type": "stream",
          "name": "stdout",
          "text": [
            "\n",
            "Validation set: Average loss: 0.0008, Accuracy: 4345/5000 (86.90%)\n",
            "\n",
            "\n",
            "Test set: Average loss: 0.3711, Accuracy: 8740/10000 (87.40%)\n",
            "\n",
            "EPOCHS : 17\n"
          ]
        },
        {
          "output_type": "stream",
          "name": "stderr",
          "text": [
            "Batch_id=87 Batch Loss=0.346331924200058 Running Loss=29.734554082155228 Running Accuracy=88.19: 100%|██████████| 88/88 [00:18<00:00,  4.88it/s]\n"
          ]
        },
        {
          "output_type": "stream",
          "name": "stdout",
          "text": [
            "\n",
            "Validation set: Average loss: 0.0007, Accuracy: 4365/5000 (87.30%)\n",
            "\n",
            "\n",
            "Test set: Average loss: 0.3639, Accuracy: 8754/10000 (87.54%)\n",
            "\n",
            "EPOCHS : 18\n"
          ]
        },
        {
          "output_type": "stream",
          "name": "stderr",
          "text": [
            "Batch_id=87 Batch Loss=0.36712974309921265 Running Loss=29.324844479560852 Running Accuracy=88.26: 100%|██████████| 88/88 [00:17<00:00,  4.94it/s]\n"
          ]
        },
        {
          "output_type": "stream",
          "name": "stdout",
          "text": [
            "\n",
            "Validation set: Average loss: 0.0007, Accuracy: 4356/5000 (87.12%)\n",
            "\n",
            "\n",
            "Test set: Average loss: 0.3599, Accuracy: 8784/10000 (87.84%)\n",
            "\n",
            "EPOCHS : 19\n"
          ]
        },
        {
          "output_type": "stream",
          "name": "stderr",
          "text": [
            "Batch_id=87 Batch Loss=0.28833886981010437 Running Loss=28.53929241001606 Running Accuracy=88.81: 100%|██████████| 88/88 [00:18<00:00,  4.84it/s]\n"
          ]
        },
        {
          "output_type": "stream",
          "name": "stdout",
          "text": [
            "\n",
            "Validation set: Average loss: 0.0007, Accuracy: 4353/5000 (87.06%)\n",
            "\n",
            "\n",
            "Test set: Average loss: 0.3682, Accuracy: 8754/10000 (87.54%)\n",
            "\n",
            "EPOCHS : 20\n"
          ]
        },
        {
          "output_type": "stream",
          "name": "stderr",
          "text": [
            "Batch_id=87 Batch Loss=0.26953303813934326 Running Loss=28.524483039975166 Running Accuracy=88.65: 100%|██████████| 88/88 [00:17<00:00,  4.91it/s]\n"
          ]
        },
        {
          "output_type": "stream",
          "name": "stdout",
          "text": [
            "\n",
            "Validation set: Average loss: 0.0007, Accuracy: 4367/5000 (87.34%)\n",
            "\n",
            "\n",
            "Test set: Average loss: 0.3554, Accuracy: 8804/10000 (88.04%)\n",
            "\n",
            "EPOCHS : 21\n"
          ]
        },
        {
          "output_type": "stream",
          "name": "stderr",
          "text": [
            "Batch_id=87 Batch Loss=0.3175787627696991 Running Loss=27.64330267906189 Running Accuracy=89.00: 100%|██████████| 88/88 [00:17<00:00,  4.90it/s]\n"
          ]
        },
        {
          "output_type": "stream",
          "name": "stdout",
          "text": [
            "\n",
            "Validation set: Average loss: 0.0007, Accuracy: 4375/5000 (87.50%)\n",
            "\n",
            "\n",
            "Test set: Average loss: 0.3584, Accuracy: 8802/10000 (88.02%)\n",
            "\n",
            "EPOCHS : 22\n"
          ]
        },
        {
          "output_type": "stream",
          "name": "stderr",
          "text": [
            "Batch_id=87 Batch Loss=0.31317639350891113 Running Loss=27.460505083203316 Running Accuracy=89.18: 100%|██████████| 88/88 [00:17<00:00,  4.92it/s]\n"
          ]
        },
        {
          "output_type": "stream",
          "name": "stdout",
          "text": [
            "\n",
            "Validation set: Average loss: 0.0007, Accuracy: 4364/5000 (87.28%)\n",
            "\n",
            "\n",
            "Test set: Average loss: 0.3633, Accuracy: 8777/10000 (87.77%)\n",
            "\n",
            "EPOCHS : 23\n"
          ]
        },
        {
          "output_type": "stream",
          "name": "stderr",
          "text": [
            "Batch_id=87 Batch Loss=0.3355683386325836 Running Loss=27.366840675473213 Running Accuracy=89.17: 100%|██████████| 88/88 [00:17<00:00,  4.91it/s]\n"
          ]
        },
        {
          "output_type": "stream",
          "name": "stdout",
          "text": [
            "\n",
            "Validation set: Average loss: 0.0007, Accuracy: 4377/5000 (87.54%)\n",
            "\n",
            "\n",
            "Test set: Average loss: 0.3566, Accuracy: 8803/10000 (88.03%)\n",
            "\n",
            "EPOCHS : 24\n"
          ]
        },
        {
          "output_type": "stream",
          "name": "stderr",
          "text": [
            "Batch_id=87 Batch Loss=0.3044291138648987 Running Loss=27.04633939266205 Running Accuracy=89.28: 100%|██████████| 88/88 [00:18<00:00,  4.78it/s]\n"
          ]
        },
        {
          "output_type": "stream",
          "name": "stdout",
          "text": [
            "\n",
            "Validation set: Average loss: 0.0007, Accuracy: 4384/5000 (87.68%)\n",
            "\n",
            "\n",
            "Test set: Average loss: 0.3610, Accuracy: 8777/10000 (87.77%)\n",
            "\n",
            "EPOCHS : 25\n"
          ]
        },
        {
          "output_type": "stream",
          "name": "stderr",
          "text": [
            "Batch_id=87 Batch Loss=0.28001660108566284 Running Loss=26.756991237401962 Running Accuracy=89.35: 100%|██████████| 88/88 [00:18<00:00,  4.80it/s]\n"
          ]
        },
        {
          "output_type": "stream",
          "name": "stdout",
          "text": [
            "\n",
            "Validation set: Average loss: 0.0007, Accuracy: 4385/5000 (87.70%)\n",
            "\n",
            "\n",
            "Test set: Average loss: 0.3577, Accuracy: 8808/10000 (88.08%)\n",
            "\n",
            "EPOCHS : 26\n"
          ]
        },
        {
          "output_type": "stream",
          "name": "stderr",
          "text": [
            "Batch_id=87 Batch Loss=0.33008772134780884 Running Loss=26.584745317697525 Running Accuracy=89.35: 100%|██████████| 88/88 [00:17<00:00,  4.90it/s]\n"
          ]
        },
        {
          "output_type": "stream",
          "name": "stdout",
          "text": [
            "\n",
            "Validation set: Average loss: 0.0007, Accuracy: 4388/5000 (87.76%)\n",
            "\n",
            "\n",
            "Test set: Average loss: 0.3518, Accuracy: 8806/10000 (88.06%)\n",
            "\n",
            "EPOCHS : 27\n"
          ]
        },
        {
          "output_type": "stream",
          "name": "stderr",
          "text": [
            "Batch_id=87 Batch Loss=0.35253533720970154 Running Loss=26.40247416496277 Running Accuracy=89.49: 100%|██████████| 88/88 [00:17<00:00,  4.90it/s]\n"
          ]
        },
        {
          "output_type": "stream",
          "name": "stdout",
          "text": [
            "\n",
            "Validation set: Average loss: 0.0007, Accuracy: 4388/5000 (87.76%)\n",
            "\n",
            "\n",
            "Test set: Average loss: 0.3524, Accuracy: 8829/10000 (88.29%)\n",
            "\n",
            "EPOCHS : 28\n"
          ]
        },
        {
          "output_type": "stream",
          "name": "stderr",
          "text": [
            "Batch_id=87 Batch Loss=0.28110429644584656 Running Loss=26.18266262114048 Running Accuracy=89.61: 100%|██████████| 88/88 [00:17<00:00,  4.92it/s]\n"
          ]
        },
        {
          "output_type": "stream",
          "name": "stdout",
          "text": [
            "\n",
            "Validation set: Average loss: 0.0007, Accuracy: 4381/5000 (87.62%)\n",
            "\n",
            "\n",
            "Test set: Average loss: 0.3513, Accuracy: 8822/10000 (88.22%)\n",
            "\n",
            "EPOCHS : 29\n"
          ]
        },
        {
          "output_type": "stream",
          "name": "stderr",
          "text": [
            "Batch_id=87 Batch Loss=0.3469657003879547 Running Loss=25.830329045653343 Running Accuracy=89.73: 100%|██████████| 88/88 [00:18<00:00,  4.86it/s]\n"
          ]
        },
        {
          "output_type": "stream",
          "name": "stdout",
          "text": [
            "\n",
            "Validation set: Average loss: 0.0007, Accuracy: 4389/5000 (87.78%)\n",
            "\n",
            "\n",
            "Test set: Average loss: 0.3510, Accuracy: 8810/10000 (88.10%)\n",
            "\n",
            "EPOCHS : 30\n"
          ]
        },
        {
          "output_type": "stream",
          "name": "stderr",
          "text": [
            "Batch_id=87 Batch Loss=0.2743985056877136 Running Loss=25.645477950572968 Running Accuracy=89.76: 100%|██████████| 88/88 [00:18<00:00,  4.80it/s]\n"
          ]
        },
        {
          "output_type": "stream",
          "name": "stdout",
          "text": [
            "\n",
            "Validation set: Average loss: 0.0007, Accuracy: 4394/5000 (87.88%)\n",
            "\n",
            "\n",
            "Test set: Average loss: 0.3520, Accuracy: 8819/10000 (88.19%)\n",
            "\n",
            "EPOCHS : 31\n"
          ]
        },
        {
          "output_type": "stream",
          "name": "stderr",
          "text": [
            "Batch_id=87 Batch Loss=0.3205502927303314 Running Loss=25.697060987353325 Running Accuracy=89.77: 100%|██████████| 88/88 [00:17<00:00,  4.90it/s]\n"
          ]
        },
        {
          "output_type": "stream",
          "name": "stdout",
          "text": [
            "\n",
            "Validation set: Average loss: 0.0007, Accuracy: 4398/5000 (87.96%)\n",
            "\n",
            "\n",
            "Test set: Average loss: 0.3511, Accuracy: 8822/10000 (88.22%)\n",
            "\n",
            "EPOCHS : 32\n"
          ]
        },
        {
          "output_type": "stream",
          "name": "stderr",
          "text": [
            "Batch_id=87 Batch Loss=0.2364155501127243 Running Loss=25.28535984456539 Running Accuracy=90.05: 100%|██████████| 88/88 [00:18<00:00,  4.79it/s]\n"
          ]
        },
        {
          "output_type": "stream",
          "name": "stdout",
          "text": [
            "\n",
            "Validation set: Average loss: 0.0007, Accuracy: 4402/5000 (88.04%)\n",
            "\n",
            "\n",
            "Test set: Average loss: 0.3504, Accuracy: 8798/10000 (87.98%)\n",
            "\n",
            "EPOCHS : 33\n"
          ]
        },
        {
          "output_type": "stream",
          "name": "stderr",
          "text": [
            "Batch_id=87 Batch Loss=0.22308732569217682 Running Loss=24.766883596777916 Running Accuracy=90.00: 100%|██████████| 88/88 [00:17<00:00,  4.91it/s]\n"
          ]
        },
        {
          "output_type": "stream",
          "name": "stdout",
          "text": [
            "\n",
            "Validation set: Average loss: 0.0007, Accuracy: 4406/5000 (88.12%)\n",
            "\n",
            "\n",
            "Test set: Average loss: 0.3470, Accuracy: 8852/10000 (88.52%)\n",
            "\n",
            "EPOCHS : 34\n"
          ]
        },
        {
          "output_type": "stream",
          "name": "stderr",
          "text": [
            "Batch_id=87 Batch Loss=0.27915018796920776 Running Loss=24.913615182042122 Running Accuracy=90.00: 100%|██████████| 88/88 [00:17<00:00,  4.91it/s]\n"
          ]
        },
        {
          "output_type": "stream",
          "name": "stdout",
          "text": [
            "\n",
            "Validation set: Average loss: 0.0007, Accuracy: 4412/5000 (88.24%)\n",
            "\n",
            "\n",
            "Test set: Average loss: 0.3473, Accuracy: 8838/10000 (88.38%)\n",
            "\n",
            "EPOCHS : 35\n"
          ]
        },
        {
          "output_type": "stream",
          "name": "stderr",
          "text": [
            "Batch_id=87 Batch Loss=0.2867271602153778 Running Loss=24.799778819084167 Running Accuracy=90.06: 100%|██████████| 88/88 [00:18<00:00,  4.88it/s]\n"
          ]
        },
        {
          "output_type": "stream",
          "name": "stdout",
          "text": [
            "\n",
            "Validation set: Average loss: 0.0007, Accuracy: 4405/5000 (88.10%)\n",
            "\n",
            "\n",
            "Test set: Average loss: 0.3456, Accuracy: 8850/10000 (88.50%)\n",
            "\n",
            "EPOCHS : 36\n"
          ]
        },
        {
          "output_type": "stream",
          "name": "stderr",
          "text": [
            "Batch_id=87 Batch Loss=0.387443870306015 Running Loss=24.209219381213188 Running Accuracy=90.46: 100%|██████████| 88/88 [00:18<00:00,  4.84it/s]\n"
          ]
        },
        {
          "output_type": "stream",
          "name": "stdout",
          "text": [
            "\n",
            "Validation set: Average loss: 0.0007, Accuracy: 4418/5000 (88.36%)\n",
            "\n",
            "\n",
            "Test set: Average loss: 0.3444, Accuracy: 8854/10000 (88.54%)\n",
            "\n",
            "EPOCHS : 37\n"
          ]
        },
        {
          "output_type": "stream",
          "name": "stderr",
          "text": [
            "Batch_id=87 Batch Loss=0.25740787386894226 Running Loss=24.62125438451767 Running Accuracy=90.28: 100%|██████████| 88/88 [00:17<00:00,  4.92it/s]\n"
          ]
        },
        {
          "output_type": "stream",
          "name": "stdout",
          "text": [
            "\n",
            "Validation set: Average loss: 0.0007, Accuracy: 4412/5000 (88.24%)\n",
            "\n",
            "\n",
            "Test set: Average loss: 0.3486, Accuracy: 8859/10000 (88.59%)\n",
            "\n",
            "EPOCHS : 38\n"
          ]
        },
        {
          "output_type": "stream",
          "name": "stderr",
          "text": [
            "Batch_id=87 Batch Loss=0.28838270902633667 Running Loss=24.250803723931313 Running Accuracy=90.27: 100%|██████████| 88/88 [00:18<00:00,  4.82it/s]\n"
          ]
        },
        {
          "output_type": "stream",
          "name": "stdout",
          "text": [
            "\n",
            "Validation set: Average loss: 0.0007, Accuracy: 4413/5000 (88.26%)\n",
            "\n",
            "Epoch 00039: reducing learning rate of group 0 to 1.0000e-04.\n",
            "\n",
            "Test set: Average loss: 0.3483, Accuracy: 8854/10000 (88.54%)\n",
            "\n",
            "EPOCHS : 39\n"
          ]
        },
        {
          "output_type": "stream",
          "name": "stderr",
          "text": [
            "Batch_id=87 Batch Loss=0.22229526937007904 Running Loss=23.437611907720566 Running Accuracy=90.74: 100%|██████████| 88/88 [00:17<00:00,  4.93it/s]\n"
          ]
        },
        {
          "output_type": "stream",
          "name": "stdout",
          "text": [
            "\n",
            "Validation set: Average loss: 0.0007, Accuracy: 4421/5000 (88.42%)\n",
            "\n",
            "\n",
            "Test set: Average loss: 0.3403, Accuracy: 8880/10000 (88.80%)\n",
            "\n",
            "EPOCHS : 40\n"
          ]
        },
        {
          "output_type": "stream",
          "name": "stderr",
          "text": [
            "Batch_id=87 Batch Loss=0.31804466247558594 Running Loss=23.5156502276659 Running Accuracy=90.67: 100%|██████████| 88/88 [00:18<00:00,  4.87it/s]\n"
          ]
        },
        {
          "output_type": "stream",
          "name": "stdout",
          "text": [
            "\n",
            "Validation set: Average loss: 0.0007, Accuracy: 4423/5000 (88.46%)\n",
            "\n",
            "\n",
            "Test set: Average loss: 0.3387, Accuracy: 8886/10000 (88.86%)\n",
            "\n",
            "EPOCHS : 41\n"
          ]
        },
        {
          "output_type": "stream",
          "name": "stderr",
          "text": [
            "Batch_id=87 Batch Loss=0.3199334144592285 Running Loss=23.250367790460587 Running Accuracy=90.88: 100%|██████████| 88/88 [00:18<00:00,  4.87it/s]\n"
          ]
        },
        {
          "output_type": "stream",
          "name": "stdout",
          "text": [
            "\n",
            "Validation set: Average loss: 0.0007, Accuracy: 4423/5000 (88.46%)\n",
            "\n",
            "\n",
            "Test set: Average loss: 0.3399, Accuracy: 8873/10000 (88.73%)\n",
            "\n",
            "EPOCHS : 42\n"
          ]
        },
        {
          "output_type": "stream",
          "name": "stderr",
          "text": [
            "Batch_id=87 Batch Loss=0.23793751001358032 Running Loss=23.257942155003548 Running Accuracy=90.66: 100%|██████████| 88/88 [00:18<00:00,  4.79it/s]\n"
          ]
        },
        {
          "output_type": "stream",
          "name": "stdout",
          "text": [
            "\n",
            "Validation set: Average loss: 0.0007, Accuracy: 4424/5000 (88.48%)\n",
            "\n",
            "\n",
            "Test set: Average loss: 0.3386, Accuracy: 8882/10000 (88.82%)\n",
            "\n",
            "EPOCHS : 43\n"
          ]
        },
        {
          "output_type": "stream",
          "name": "stderr",
          "text": [
            "Batch_id=87 Batch Loss=0.24105513095855713 Running Loss=23.140152141451836 Running Accuracy=90.76: 100%|██████████| 88/88 [00:18<00:00,  4.87it/s]\n"
          ]
        },
        {
          "output_type": "stream",
          "name": "stdout",
          "text": [
            "\n",
            "Validation set: Average loss: 0.0007, Accuracy: 4421/5000 (88.42%)\n",
            "\n",
            "Epoch 00044: reducing learning rate of group 0 to 1.0000e-05.\n",
            "\n",
            "Test set: Average loss: 0.3396, Accuracy: 8881/10000 (88.81%)\n",
            "\n",
            "EPOCHS : 44\n"
          ]
        },
        {
          "output_type": "stream",
          "name": "stderr",
          "text": [
            "Batch_id=87 Batch Loss=0.2665059566497803 Running Loss=23.10054412484169 Running Accuracy=90.86: 100%|██████████| 88/88 [00:18<00:00,  4.79it/s]\n"
          ]
        },
        {
          "output_type": "stream",
          "name": "stdout",
          "text": [
            "\n",
            "Validation set: Average loss: 0.0007, Accuracy: 4423/5000 (88.46%)\n",
            "\n",
            "\n",
            "Test set: Average loss: 0.3386, Accuracy: 8887/10000 (88.87%)\n",
            "\n",
            "EPOCHS : 45\n"
          ]
        },
        {
          "output_type": "stream",
          "name": "stderr",
          "text": [
            "Batch_id=87 Batch Loss=0.23055483400821686 Running Loss=23.25267945230007 Running Accuracy=90.86: 100%|██████████| 88/88 [00:17<00:00,  4.89it/s]\n"
          ]
        },
        {
          "output_type": "stream",
          "name": "stdout",
          "text": [
            "\n",
            "Validation set: Average loss: 0.0007, Accuracy: 4423/5000 (88.46%)\n",
            "\n",
            "\n",
            "Test set: Average loss: 0.3392, Accuracy: 8882/10000 (88.82%)\n",
            "\n",
            "EPOCHS : 46\n"
          ]
        },
        {
          "output_type": "stream",
          "name": "stderr",
          "text": [
            "Batch_id=87 Batch Loss=0.305507630109787 Running Loss=22.918135702610016 Running Accuracy=91.01: 100%|██████████| 88/88 [00:18<00:00,  4.88it/s]\n"
          ]
        },
        {
          "output_type": "stream",
          "name": "stdout",
          "text": [
            "\n",
            "Validation set: Average loss: 0.0007, Accuracy: 4420/5000 (88.40%)\n",
            "\n",
            "Epoch 00047: reducing learning rate of group 0 to 1.0000e-06.\n",
            "\n",
            "Test set: Average loss: 0.3380, Accuracy: 8884/10000 (88.84%)\n",
            "\n",
            "EPOCHS : 47\n"
          ]
        },
        {
          "output_type": "stream",
          "name": "stderr",
          "text": [
            "Batch_id=87 Batch Loss=0.32234227657318115 Running Loss=22.78555005788803 Running Accuracy=90.97: 100%|██████████| 88/88 [00:17<00:00,  4.93it/s]\n"
          ]
        },
        {
          "output_type": "stream",
          "name": "stdout",
          "text": [
            "\n",
            "Validation set: Average loss: 0.0007, Accuracy: 4421/5000 (88.42%)\n",
            "\n",
            "\n",
            "Test set: Average loss: 0.3381, Accuracy: 8890/10000 (88.90%)\n",
            "\n",
            "EPOCHS : 48\n"
          ]
        },
        {
          "output_type": "stream",
          "name": "stderr",
          "text": [
            "Batch_id=87 Batch Loss=0.22760824859142303 Running Loss=23.092166244983673 Running Accuracy=90.92: 100%|██████████| 88/88 [00:18<00:00,  4.87it/s]\n"
          ]
        },
        {
          "output_type": "stream",
          "name": "stdout",
          "text": [
            "\n",
            "Validation set: Average loss: 0.0007, Accuracy: 4423/5000 (88.46%)\n",
            "\n",
            "\n",
            "Test set: Average loss: 0.3381, Accuracy: 8878/10000 (88.78%)\n",
            "\n",
            "EPOCHS : 49\n"
          ]
        },
        {
          "output_type": "stream",
          "name": "stderr",
          "text": [
            "Batch_id=87 Batch Loss=0.2781025767326355 Running Loss=22.772927910089493 Running Accuracy=90.95: 100%|██████████| 88/88 [00:18<00:00,  4.89it/s]\n"
          ]
        },
        {
          "output_type": "stream",
          "name": "stdout",
          "text": [
            "\n",
            "Validation set: Average loss: 0.0007, Accuracy: 4419/5000 (88.38%)\n",
            "\n",
            "\n",
            "Test set: Average loss: 0.3373, Accuracy: 8885/10000 (88.85%)\n",
            "\n",
            "EPOCHS : 50\n"
          ]
        },
        {
          "output_type": "stream",
          "name": "stderr",
          "text": [
            "Batch_id=87 Batch Loss=0.26424190402030945 Running Loss=23.266271099448204 Running Accuracy=90.62: 100%|██████████| 88/88 [00:18<00:00,  4.87it/s]\n"
          ]
        },
        {
          "output_type": "stream",
          "name": "stdout",
          "text": [
            "\n",
            "Validation set: Average loss: 0.0007, Accuracy: 4420/5000 (88.40%)\n",
            "\n",
            "\n",
            "Test set: Average loss: 0.3386, Accuracy: 8879/10000 (88.79%)\n",
            "\n",
            "EPOCHS : 51\n"
          ]
        },
        {
          "output_type": "stream",
          "name": "stderr",
          "text": [
            "Batch_id=87 Batch Loss=0.27366673946380615 Running Loss=23.28110520541668 Running Accuracy=90.75: 100%|██████████| 88/88 [00:17<00:00,  4.92it/s]\n"
          ]
        },
        {
          "output_type": "stream",
          "name": "stdout",
          "text": [
            "\n",
            "Validation set: Average loss: 0.0007, Accuracy: 4425/5000 (88.50%)\n",
            "\n",
            "\n",
            "Test set: Average loss: 0.3370, Accuracy: 8883/10000 (88.83%)\n",
            "\n",
            "EPOCHS : 52\n"
          ]
        },
        {
          "output_type": "stream",
          "name": "stderr",
          "text": [
            "Batch_id=87 Batch Loss=0.23387682437896729 Running Loss=23.322477355599403 Running Accuracy=90.83: 100%|██████████| 88/88 [00:17<00:00,  4.93it/s]\n"
          ]
        },
        {
          "output_type": "stream",
          "name": "stdout",
          "text": [
            "\n",
            "Validation set: Average loss: 0.0007, Accuracy: 4423/5000 (88.46%)\n",
            "\n",
            "\n",
            "Test set: Average loss: 0.3378, Accuracy: 8883/10000 (88.83%)\n",
            "\n",
            "EPOCHS : 53\n"
          ]
        },
        {
          "output_type": "stream",
          "name": "stderr",
          "text": [
            "Batch_id=87 Batch Loss=0.24632957577705383 Running Loss=22.8867866396904 Running Accuracy=90.96: 100%|██████████| 88/88 [00:18<00:00,  4.89it/s]\n"
          ]
        },
        {
          "output_type": "stream",
          "name": "stdout",
          "text": [
            "\n",
            "Validation set: Average loss: 0.0007, Accuracy: 4420/5000 (88.40%)\n",
            "\n",
            "\n",
            "Test set: Average loss: 0.3386, Accuracy: 8884/10000 (88.84%)\n",
            "\n",
            "EPOCHS : 54\n"
          ]
        },
        {
          "output_type": "stream",
          "name": "stderr",
          "text": [
            "Batch_id=87 Batch Loss=0.2394116371870041 Running Loss=23.107426583766937 Running Accuracy=90.90: 100%|██████████| 88/88 [00:17<00:00,  4.93it/s]\n"
          ]
        },
        {
          "output_type": "stream",
          "name": "stdout",
          "text": [
            "\n",
            "Validation set: Average loss: 0.0007, Accuracy: 4420/5000 (88.40%)\n",
            "\n",
            "Epoch 00055: reducing learning rate of group 0 to 1.0000e-07.\n",
            "\n",
            "Test set: Average loss: 0.3389, Accuracy: 8886/10000 (88.86%)\n",
            "\n",
            "EPOCHS : 55\n"
          ]
        },
        {
          "output_type": "stream",
          "name": "stderr",
          "text": [
            "Batch_id=87 Batch Loss=0.32458773255348206 Running Loss=22.811385065317154 Running Accuracy=91.02: 100%|██████████| 88/88 [00:18<00:00,  4.86it/s]\n"
          ]
        },
        {
          "output_type": "stream",
          "name": "stdout",
          "text": [
            "\n",
            "Validation set: Average loss: 0.0007, Accuracy: 4425/5000 (88.50%)\n",
            "\n",
            "\n",
            "Test set: Average loss: 0.3382, Accuracy: 8881/10000 (88.81%)\n",
            "\n",
            "EPOCHS : 56\n"
          ]
        },
        {
          "output_type": "stream",
          "name": "stderr",
          "text": [
            "Batch_id=87 Batch Loss=0.27860334515571594 Running Loss=22.931723028421402 Running Accuracy=90.99: 100%|██████████| 88/88 [00:18<00:00,  4.79it/s]\n"
          ]
        },
        {
          "output_type": "stream",
          "name": "stdout",
          "text": [
            "\n",
            "Validation set: Average loss: 0.0007, Accuracy: 4422/5000 (88.44%)\n",
            "\n",
            "\n",
            "Test set: Average loss: 0.3377, Accuracy: 8883/10000 (88.83%)\n",
            "\n",
            "EPOCHS : 57\n"
          ]
        },
        {
          "output_type": "stream",
          "name": "stderr",
          "text": [
            "Batch_id=87 Batch Loss=0.2808605432510376 Running Loss=22.901573792099953 Running Accuracy=90.96: 100%|██████████| 88/88 [00:17<00:00,  4.93it/s]\n"
          ]
        },
        {
          "output_type": "stream",
          "name": "stdout",
          "text": [
            "\n",
            "Validation set: Average loss: 0.0007, Accuracy: 4421/5000 (88.42%)\n",
            "\n",
            "Epoch 00058: reducing learning rate of group 0 to 1.0000e-08.\n",
            "\n",
            "Test set: Average loss: 0.3384, Accuracy: 8888/10000 (88.88%)\n",
            "\n",
            "EPOCHS : 58\n"
          ]
        },
        {
          "output_type": "stream",
          "name": "stderr",
          "text": [
            "Batch_id=87 Batch Loss=0.2160153090953827 Running Loss=22.704850420355797 Running Accuracy=91.09: 100%|██████████| 88/88 [00:17<00:00,  4.93it/s]\n"
          ]
        },
        {
          "output_type": "stream",
          "name": "stdout",
          "text": [
            "\n",
            "Validation set: Average loss: 0.0007, Accuracy: 4422/5000 (88.44%)\n",
            "\n",
            "\n",
            "Test set: Average loss: 0.3376, Accuracy: 8883/10000 (88.83%)\n",
            "\n",
            "EPOCHS : 59\n"
          ]
        },
        {
          "output_type": "stream",
          "name": "stderr",
          "text": [
            "Batch_id=87 Batch Loss=0.2612180709838867 Running Loss=22.951270014047623 Running Accuracy=90.91: 100%|██████████| 88/88 [00:17<00:00,  4.93it/s]\n"
          ]
        },
        {
          "output_type": "stream",
          "name": "stdout",
          "text": [
            "\n",
            "Validation set: Average loss: 0.0007, Accuracy: 4417/5000 (88.34%)\n",
            "\n",
            "\n",
            "Test set: Average loss: 0.3382, Accuracy: 8891/10000 (88.91%)\n",
            "\n",
            "EPOCHS : 60\n"
          ]
        },
        {
          "output_type": "stream",
          "name": "stderr",
          "text": [
            "Batch_id=87 Batch Loss=0.2692629098892212 Running Loss=23.01612101495266 Running Accuracy=90.98: 100%|██████████| 88/88 [00:18<00:00,  4.81it/s]\n"
          ]
        },
        {
          "output_type": "stream",
          "name": "stdout",
          "text": [
            "\n",
            "Validation set: Average loss: 0.0007, Accuracy: 4422/5000 (88.44%)\n",
            "\n",
            "\n",
            "Test set: Average loss: 0.3380, Accuracy: 8885/10000 (88.85%)\n",
            "\n",
            "EPOCHS : 61\n"
          ]
        },
        {
          "output_type": "stream",
          "name": "stderr",
          "text": [
            "Batch_id=87 Batch Loss=0.2141268253326416 Running Loss=23.152167603373528 Running Accuracy=90.89: 100%|██████████| 88/88 [00:17<00:00,  4.94it/s]\n"
          ]
        },
        {
          "output_type": "stream",
          "name": "stdout",
          "text": [
            "\n",
            "Validation set: Average loss: 0.0007, Accuracy: 4420/5000 (88.40%)\n",
            "\n",
            "\n",
            "Test set: Average loss: 0.3376, Accuracy: 8883/10000 (88.83%)\n",
            "\n",
            "EPOCHS : 62\n"
          ]
        },
        {
          "output_type": "stream",
          "name": "stderr",
          "text": [
            "Batch_id=87 Batch Loss=0.225145623087883 Running Loss=23.20933698117733 Running Accuracy=90.75: 100%|██████████| 88/88 [00:17<00:00,  4.94it/s]\n"
          ]
        },
        {
          "output_type": "stream",
          "name": "stdout",
          "text": [
            "\n",
            "Validation set: Average loss: 0.0007, Accuracy: 4425/5000 (88.50%)\n",
            "\n",
            "\n",
            "Test set: Average loss: 0.3379, Accuracy: 8885/10000 (88.85%)\n",
            "\n",
            "EPOCHS : 63\n"
          ]
        },
        {
          "output_type": "stream",
          "name": "stderr",
          "text": [
            "Batch_id=87 Batch Loss=0.2571176290512085 Running Loss=23.104455590248108 Running Accuracy=90.80: 100%|██████████| 88/88 [00:17<00:00,  4.93it/s]\n"
          ]
        },
        {
          "output_type": "stream",
          "name": "stdout",
          "text": [
            "\n",
            "Validation set: Average loss: 0.0007, Accuracy: 4424/5000 (88.48%)\n",
            "\n",
            "\n",
            "Test set: Average loss: 0.3384, Accuracy: 8881/10000 (88.81%)\n",
            "\n",
            "EPOCHS : 64\n"
          ]
        },
        {
          "output_type": "stream",
          "name": "stderr",
          "text": [
            "Batch_id=87 Batch Loss=0.2938211262226105 Running Loss=23.102476119995117 Running Accuracy=90.91: 100%|██████████| 88/88 [00:17<00:00,  4.90it/s]\n"
          ]
        },
        {
          "output_type": "stream",
          "name": "stdout",
          "text": [
            "\n",
            "Validation set: Average loss: 0.0007, Accuracy: 4423/5000 (88.46%)\n",
            "\n",
            "\n",
            "Test set: Average loss: 0.3383, Accuracy: 8888/10000 (88.88%)\n",
            "\n",
            "EPOCHS : 65\n"
          ]
        },
        {
          "output_type": "stream",
          "name": "stderr",
          "text": [
            "Batch_id=87 Batch Loss=0.2894979417324066 Running Loss=22.508228972554207 Running Accuracy=91.24: 100%|██████████| 88/88 [00:17<00:00,  4.90it/s]\n"
          ]
        },
        {
          "output_type": "stream",
          "name": "stdout",
          "text": [
            "\n",
            "Validation set: Average loss: 0.0007, Accuracy: 4422/5000 (88.44%)\n",
            "\n",
            "\n",
            "Test set: Average loss: 0.3373, Accuracy: 8887/10000 (88.87%)\n",
            "\n",
            "EPOCHS : 66\n"
          ]
        },
        {
          "output_type": "stream",
          "name": "stderr",
          "text": [
            "Batch_id=87 Batch Loss=0.2919199764728546 Running Loss=23.154017224907875 Running Accuracy=90.80: 100%|██████████| 88/88 [00:17<00:00,  4.91it/s]\n"
          ]
        },
        {
          "output_type": "stream",
          "name": "stdout",
          "text": [
            "\n",
            "Validation set: Average loss: 0.0007, Accuracy: 4423/5000 (88.46%)\n",
            "\n",
            "\n",
            "Test set: Average loss: 0.3379, Accuracy: 8880/10000 (88.80%)\n",
            "\n",
            "EPOCHS : 67\n"
          ]
        },
        {
          "output_type": "stream",
          "name": "stderr",
          "text": [
            "Batch_id=87 Batch Loss=0.29537126421928406 Running Loss=23.016762644052505 Running Accuracy=90.97: 100%|██████████| 88/88 [00:17<00:00,  4.89it/s]\n"
          ]
        },
        {
          "output_type": "stream",
          "name": "stdout",
          "text": [
            "\n",
            "Validation set: Average loss: 0.0007, Accuracy: 4421/5000 (88.42%)\n",
            "\n",
            "\n",
            "Test set: Average loss: 0.3382, Accuracy: 8882/10000 (88.82%)\n",
            "\n",
            "EPOCHS : 68\n"
          ]
        },
        {
          "output_type": "stream",
          "name": "stderr",
          "text": [
            "Batch_id=87 Batch Loss=0.22574396431446075 Running Loss=22.955992251634598 Running Accuracy=90.86: 100%|██████████| 88/88 [00:17<00:00,  4.92it/s]\n"
          ]
        },
        {
          "output_type": "stream",
          "name": "stdout",
          "text": [
            "\n",
            "Validation set: Average loss: 0.0007, Accuracy: 4425/5000 (88.50%)\n",
            "\n",
            "\n",
            "Test set: Average loss: 0.3379, Accuracy: 8888/10000 (88.88%)\n",
            "\n",
            "EPOCHS : 69\n"
          ]
        },
        {
          "output_type": "stream",
          "name": "stderr",
          "text": [
            "Batch_id=87 Batch Loss=0.24380457401275635 Running Loss=22.70113417506218 Running Accuracy=91.06: 100%|██████████| 88/88 [00:17<00:00,  4.94it/s]\n"
          ]
        },
        {
          "output_type": "stream",
          "name": "stdout",
          "text": [
            "\n",
            "Validation set: Average loss: 0.0007, Accuracy: 4419/5000 (88.38%)\n",
            "\n",
            "\n",
            "Test set: Average loss: 0.3392, Accuracy: 8886/10000 (88.86%)\n",
            "\n",
            "EPOCHS : 70\n"
          ]
        },
        {
          "output_type": "stream",
          "name": "stderr",
          "text": [
            "Batch_id=87 Batch Loss=0.2764154374599457 Running Loss=23.057836189866066 Running Accuracy=90.92: 100%|██████████| 88/88 [00:17<00:00,  4.91it/s]\n"
          ]
        },
        {
          "output_type": "stream",
          "name": "stdout",
          "text": [
            "\n",
            "Validation set: Average loss: 0.0007, Accuracy: 4421/5000 (88.42%)\n",
            "\n",
            "\n",
            "Test set: Average loss: 0.3379, Accuracy: 8887/10000 (88.87%)\n",
            "\n",
            "EPOCHS : 71\n"
          ]
        },
        {
          "output_type": "stream",
          "name": "stderr",
          "text": [
            "Batch_id=87 Batch Loss=0.2517947256565094 Running Loss=22.942365989089012 Running Accuracy=90.89: 100%|██████████| 88/88 [00:18<00:00,  4.88it/s]\n"
          ]
        },
        {
          "output_type": "stream",
          "name": "stdout",
          "text": [
            "\n",
            "Validation set: Average loss: 0.0007, Accuracy: 4423/5000 (88.46%)\n",
            "\n",
            "\n",
            "Test set: Average loss: 0.3385, Accuracy: 8888/10000 (88.88%)\n",
            "\n",
            "EPOCHS : 72\n"
          ]
        },
        {
          "output_type": "stream",
          "name": "stderr",
          "text": [
            "Batch_id=87 Batch Loss=0.2776029706001282 Running Loss=23.164701089262962 Running Accuracy=90.88: 100%|██████████| 88/88 [00:17<00:00,  4.95it/s]\n"
          ]
        },
        {
          "output_type": "stream",
          "name": "stdout",
          "text": [
            "\n",
            "Validation set: Average loss: 0.0007, Accuracy: 4419/5000 (88.38%)\n",
            "\n",
            "\n",
            "Test set: Average loss: 0.3378, Accuracy: 8882/10000 (88.82%)\n",
            "\n",
            "EPOCHS : 73\n"
          ]
        },
        {
          "output_type": "stream",
          "name": "stderr",
          "text": [
            "Batch_id=87 Batch Loss=0.28889742493629456 Running Loss=22.983251869678497 Running Accuracy=90.73: 100%|██████████| 88/88 [00:17<00:00,  4.94it/s]\n"
          ]
        },
        {
          "output_type": "stream",
          "name": "stdout",
          "text": [
            "\n",
            "Validation set: Average loss: 0.0007, Accuracy: 4421/5000 (88.42%)\n",
            "\n",
            "\n",
            "Test set: Average loss: 0.3383, Accuracy: 8882/10000 (88.82%)\n",
            "\n",
            "EPOCHS : 74\n"
          ]
        },
        {
          "output_type": "stream",
          "name": "stderr",
          "text": [
            "Batch_id=87 Batch Loss=0.22963525354862213 Running Loss=22.9589890986681 Running Accuracy=90.93: 100%|██████████| 88/88 [00:18<00:00,  4.83it/s]\n"
          ]
        },
        {
          "output_type": "stream",
          "name": "stdout",
          "text": [
            "\n",
            "Validation set: Average loss: 0.0007, Accuracy: 4422/5000 (88.44%)\n",
            "\n",
            "\n",
            "Test set: Average loss: 0.3381, Accuracy: 8879/10000 (88.79%)\n",
            "\n",
            "EPOCHS : 75\n"
          ]
        },
        {
          "output_type": "stream",
          "name": "stderr",
          "text": [
            "Batch_id=87 Batch Loss=0.29141196608543396 Running Loss=23.167063981294632 Running Accuracy=90.80: 100%|██████████| 88/88 [00:18<00:00,  4.88it/s]\n"
          ]
        },
        {
          "output_type": "stream",
          "name": "stdout",
          "text": [
            "\n",
            "Validation set: Average loss: 0.0007, Accuracy: 4419/5000 (88.38%)\n",
            "\n",
            "\n",
            "Test set: Average loss: 0.3377, Accuracy: 8884/10000 (88.84%)\n",
            "\n",
            "EPOCHS : 76\n"
          ]
        },
        {
          "output_type": "stream",
          "name": "stderr",
          "text": [
            "Batch_id=87 Batch Loss=0.2263716459274292 Running Loss=23.136730447411537 Running Accuracy=90.86: 100%|██████████| 88/88 [00:18<00:00,  4.84it/s]\n"
          ]
        },
        {
          "output_type": "stream",
          "name": "stdout",
          "text": [
            "\n",
            "Validation set: Average loss: 0.0007, Accuracy: 4428/5000 (88.56%)\n",
            "\n",
            "\n",
            "Test set: Average loss: 0.3382, Accuracy: 8886/10000 (88.86%)\n",
            "\n",
            "EPOCHS : 77\n"
          ]
        },
        {
          "output_type": "stream",
          "name": "stderr",
          "text": [
            "Batch_id=87 Batch Loss=0.24213054776191711 Running Loss=22.824150383472443 Running Accuracy=90.95: 100%|██████████| 88/88 [00:17<00:00,  4.96it/s]\n"
          ]
        },
        {
          "output_type": "stream",
          "name": "stdout",
          "text": [
            "\n",
            "Validation set: Average loss: 0.0007, Accuracy: 4423/5000 (88.46%)\n",
            "\n",
            "\n",
            "Test set: Average loss: 0.3373, Accuracy: 8885/10000 (88.85%)\n",
            "\n",
            "EPOCHS : 78\n"
          ]
        },
        {
          "output_type": "stream",
          "name": "stderr",
          "text": [
            "Batch_id=87 Batch Loss=0.29194504022598267 Running Loss=22.89048758149147 Running Accuracy=90.96: 100%|██████████| 88/88 [00:17<00:00,  4.95it/s]\n"
          ]
        },
        {
          "output_type": "stream",
          "name": "stdout",
          "text": [
            "\n",
            "Validation set: Average loss: 0.0007, Accuracy: 4417/5000 (88.34%)\n",
            "\n",
            "\n",
            "Test set: Average loss: 0.3392, Accuracy: 8887/10000 (88.87%)\n",
            "\n",
            "EPOCHS : 79\n"
          ]
        },
        {
          "output_type": "stream",
          "name": "stderr",
          "text": [
            "Batch_id=87 Batch Loss=0.25725412368774414 Running Loss=22.962172582745552 Running Accuracy=90.87: 100%|██████████| 88/88 [00:17<00:00,  4.93it/s]\n"
          ]
        },
        {
          "output_type": "stream",
          "name": "stdout",
          "text": [
            "\n",
            "Validation set: Average loss: 0.0007, Accuracy: 4423/5000 (88.46%)\n",
            "\n",
            "\n",
            "Test set: Average loss: 0.3385, Accuracy: 8887/10000 (88.87%)\n",
            "\n",
            "EPOCHS : 80\n"
          ]
        },
        {
          "output_type": "stream",
          "name": "stderr",
          "text": [
            "Batch_id=87 Batch Loss=0.3012844920158386 Running Loss=23.012875884771347 Running Accuracy=90.76: 100%|██████████| 88/88 [00:17<00:00,  4.92it/s]\n"
          ]
        },
        {
          "output_type": "stream",
          "name": "stdout",
          "text": [
            "\n",
            "Validation set: Average loss: 0.0007, Accuracy: 4421/5000 (88.42%)\n",
            "\n",
            "\n",
            "Test set: Average loss: 0.3382, Accuracy: 8885/10000 (88.85%)\n",
            "\n",
            "EPOCHS : 81\n"
          ]
        },
        {
          "output_type": "stream",
          "name": "stderr",
          "text": [
            "Batch_id=87 Batch Loss=0.2651674151420593 Running Loss=22.954529017210007 Running Accuracy=90.84: 100%|██████████| 88/88 [00:17<00:00,  4.95it/s]\n"
          ]
        },
        {
          "output_type": "stream",
          "name": "stdout",
          "text": [
            "\n",
            "Validation set: Average loss: 0.0007, Accuracy: 4422/5000 (88.44%)\n",
            "\n",
            "\n",
            "Test set: Average loss: 0.3381, Accuracy: 8883/10000 (88.83%)\n",
            "\n",
            "EPOCHS : 82\n"
          ]
        },
        {
          "output_type": "stream",
          "name": "stderr",
          "text": [
            "Batch_id=87 Batch Loss=0.2895410656929016 Running Loss=23.17493200302124 Running Accuracy=90.78: 100%|██████████| 88/88 [00:18<00:00,  4.85it/s]\n"
          ]
        },
        {
          "output_type": "stream",
          "name": "stdout",
          "text": [
            "\n",
            "Validation set: Average loss: 0.0007, Accuracy: 4423/5000 (88.46%)\n",
            "\n",
            "\n",
            "Test set: Average loss: 0.3385, Accuracy: 8883/10000 (88.83%)\n",
            "\n",
            "EPOCHS : 83\n"
          ]
        },
        {
          "output_type": "stream",
          "name": "stderr",
          "text": [
            "Batch_id=87 Batch Loss=0.21728192269802094 Running Loss=22.757580116391182 Running Accuracy=91.05: 100%|██████████| 88/88 [00:17<00:00,  4.93it/s]\n"
          ]
        },
        {
          "output_type": "stream",
          "name": "stdout",
          "text": [
            "\n",
            "Validation set: Average loss: 0.0007, Accuracy: 4425/5000 (88.50%)\n",
            "\n",
            "\n",
            "Test set: Average loss: 0.3378, Accuracy: 8883/10000 (88.83%)\n",
            "\n",
            "EPOCHS : 84\n"
          ]
        },
        {
          "output_type": "stream",
          "name": "stderr",
          "text": [
            "Batch_id=87 Batch Loss=0.3401179015636444 Running Loss=23.06003923714161 Running Accuracy=90.81: 100%|██████████| 88/88 [00:18<00:00,  4.86it/s]\n"
          ]
        },
        {
          "output_type": "stream",
          "name": "stdout",
          "text": [
            "\n",
            "Validation set: Average loss: 0.0007, Accuracy: 4424/5000 (88.48%)\n",
            "\n",
            "\n",
            "Test set: Average loss: 0.3389, Accuracy: 8886/10000 (88.86%)\n",
            "\n",
            "EPOCHS : 85\n"
          ]
        },
        {
          "output_type": "stream",
          "name": "stderr",
          "text": [
            "Batch_id=87 Batch Loss=0.27473127841949463 Running Loss=23.083665534853935 Running Accuracy=90.70: 100%|██████████| 88/88 [00:18<00:00,  4.88it/s]\n"
          ]
        },
        {
          "output_type": "stream",
          "name": "stdout",
          "text": [
            "\n",
            "Validation set: Average loss: 0.0007, Accuracy: 4422/5000 (88.44%)\n",
            "\n",
            "\n",
            "Test set: Average loss: 0.3379, Accuracy: 8882/10000 (88.82%)\n",
            "\n",
            "EPOCHS : 86\n"
          ]
        },
        {
          "output_type": "stream",
          "name": "stderr",
          "text": [
            "Batch_id=87 Batch Loss=0.22435247898101807 Running Loss=22.95922963321209 Running Accuracy=91.04: 100%|██████████| 88/88 [00:17<00:00,  4.89it/s]\n"
          ]
        },
        {
          "output_type": "stream",
          "name": "stdout",
          "text": [
            "\n",
            "Validation set: Average loss: 0.0007, Accuracy: 4420/5000 (88.40%)\n",
            "\n",
            "\n",
            "Test set: Average loss: 0.3385, Accuracy: 8884/10000 (88.84%)\n",
            "\n",
            "EPOCHS : 87\n"
          ]
        },
        {
          "output_type": "stream",
          "name": "stderr",
          "text": [
            "Batch_id=87 Batch Loss=0.27105969190597534 Running Loss=23.18020009994507 Running Accuracy=90.86: 100%|██████████| 88/88 [00:17<00:00,  4.95it/s]\n"
          ]
        },
        {
          "output_type": "stream",
          "name": "stdout",
          "text": [
            "\n",
            "Validation set: Average loss: 0.0007, Accuracy: 4420/5000 (88.40%)\n",
            "\n",
            "\n",
            "Test set: Average loss: 0.3384, Accuracy: 8891/10000 (88.91%)\n",
            "\n",
            "EPOCHS : 88\n"
          ]
        },
        {
          "output_type": "stream",
          "name": "stderr",
          "text": [
            "Batch_id=87 Batch Loss=0.27057909965515137 Running Loss=23.16946668922901 Running Accuracy=90.70: 100%|██████████| 88/88 [00:17<00:00,  4.89it/s]\n"
          ]
        },
        {
          "output_type": "stream",
          "name": "stdout",
          "text": [
            "\n",
            "Validation set: Average loss: 0.0007, Accuracy: 4425/5000 (88.50%)\n",
            "\n",
            "\n",
            "Test set: Average loss: 0.3382, Accuracy: 8886/10000 (88.86%)\n",
            "\n",
            "EPOCHS : 89\n"
          ]
        },
        {
          "output_type": "stream",
          "name": "stderr",
          "text": [
            "Batch_id=87 Batch Loss=0.28609374165534973 Running Loss=23.119336739182472 Running Accuracy=90.75: 100%|██████████| 88/88 [00:18<00:00,  4.85it/s]\n"
          ]
        },
        {
          "output_type": "stream",
          "name": "stdout",
          "text": [
            "\n",
            "Validation set: Average loss: 0.0007, Accuracy: 4425/5000 (88.50%)\n",
            "\n",
            "\n",
            "Test set: Average loss: 0.3392, Accuracy: 8875/10000 (88.75%)\n",
            "\n",
            "EPOCHS : 90\n"
          ]
        },
        {
          "output_type": "stream",
          "name": "stderr",
          "text": [
            "Batch_id=87 Batch Loss=0.19140152633190155 Running Loss=23.015593513846397 Running Accuracy=90.87: 100%|██████████| 88/88 [00:18<00:00,  4.88it/s]\n"
          ]
        },
        {
          "output_type": "stream",
          "name": "stdout",
          "text": [
            "\n",
            "Validation set: Average loss: 0.0007, Accuracy: 4419/5000 (88.38%)\n",
            "\n",
            "\n",
            "Test set: Average loss: 0.3387, Accuracy: 8881/10000 (88.81%)\n",
            "\n",
            "EPOCHS : 91\n"
          ]
        },
        {
          "output_type": "stream",
          "name": "stderr",
          "text": [
            "Batch_id=87 Batch Loss=0.19279833137989044 Running Loss=22.920351281762123 Running Accuracy=90.83: 100%|██████████| 88/88 [00:17<00:00,  4.93it/s]\n"
          ]
        },
        {
          "output_type": "stream",
          "name": "stdout",
          "text": [
            "\n",
            "Validation set: Average loss: 0.0007, Accuracy: 4420/5000 (88.40%)\n",
            "\n",
            "\n",
            "Test set: Average loss: 0.3377, Accuracy: 8889/10000 (88.89%)\n",
            "\n",
            "EPOCHS : 92\n"
          ]
        },
        {
          "output_type": "stream",
          "name": "stderr",
          "text": [
            "Batch_id=87 Batch Loss=0.29901421070098877 Running Loss=23.032774835824966 Running Accuracy=90.81: 100%|██████████| 88/88 [00:17<00:00,  4.89it/s]\n"
          ]
        },
        {
          "output_type": "stream",
          "name": "stdout",
          "text": [
            "\n",
            "Validation set: Average loss: 0.0007, Accuracy: 4416/5000 (88.32%)\n",
            "\n",
            "\n",
            "Test set: Average loss: 0.3390, Accuracy: 8885/10000 (88.85%)\n",
            "\n",
            "EPOCHS : 93\n"
          ]
        },
        {
          "output_type": "stream",
          "name": "stderr",
          "text": [
            "Batch_id=87 Batch Loss=0.2128109186887741 Running Loss=22.9571121186018 Running Accuracy=90.77: 100%|██████████| 88/88 [00:18<00:00,  4.83it/s]\n"
          ]
        },
        {
          "output_type": "stream",
          "name": "stdout",
          "text": [
            "\n",
            "Validation set: Average loss: 0.0007, Accuracy: 4422/5000 (88.44%)\n",
            "\n",
            "\n",
            "Test set: Average loss: 0.3376, Accuracy: 8887/10000 (88.87%)\n",
            "\n",
            "EPOCHS : 94\n"
          ]
        },
        {
          "output_type": "stream",
          "name": "stderr",
          "text": [
            "Batch_id=87 Batch Loss=0.2874479591846466 Running Loss=22.83925950527191 Running Accuracy=90.95: 100%|██████████| 88/88 [00:18<00:00,  4.73it/s]\n"
          ]
        },
        {
          "output_type": "stream",
          "name": "stdout",
          "text": [
            "\n",
            "Validation set: Average loss: 0.0007, Accuracy: 4416/5000 (88.32%)\n",
            "\n",
            "\n",
            "Test set: Average loss: 0.3381, Accuracy: 8885/10000 (88.85%)\n",
            "\n",
            "EPOCHS : 95\n"
          ]
        },
        {
          "output_type": "stream",
          "name": "stderr",
          "text": [
            "Batch_id=87 Batch Loss=0.2322133183479309 Running Loss=23.007701188325882 Running Accuracy=90.89: 100%|██████████| 88/88 [00:18<00:00,  4.87it/s]\n"
          ]
        },
        {
          "output_type": "stream",
          "name": "stdout",
          "text": [
            "\n",
            "Validation set: Average loss: 0.0007, Accuracy: 4423/5000 (88.46%)\n",
            "\n",
            "\n",
            "Test set: Average loss: 0.3391, Accuracy: 8883/10000 (88.83%)\n",
            "\n",
            "EPOCHS : 96\n"
          ]
        },
        {
          "output_type": "stream",
          "name": "stderr",
          "text": [
            "Batch_id=87 Batch Loss=0.21562209725379944 Running Loss=23.00807613134384 Running Accuracy=90.90: 100%|██████████| 88/88 [00:18<00:00,  4.88it/s]\n"
          ]
        },
        {
          "output_type": "stream",
          "name": "stdout",
          "text": [
            "\n",
            "Validation set: Average loss: 0.0007, Accuracy: 4422/5000 (88.44%)\n",
            "\n",
            "\n",
            "Test set: Average loss: 0.3375, Accuracy: 8889/10000 (88.89%)\n",
            "\n",
            "EPOCHS : 97\n"
          ]
        },
        {
          "output_type": "stream",
          "name": "stderr",
          "text": [
            "Batch_id=87 Batch Loss=0.2538508176803589 Running Loss=23.06947948038578 Running Accuracy=90.87: 100%|██████████| 88/88 [00:17<00:00,  4.93it/s]\n"
          ]
        },
        {
          "output_type": "stream",
          "name": "stdout",
          "text": [
            "\n",
            "Validation set: Average loss: 0.0007, Accuracy: 4421/5000 (88.42%)\n",
            "\n",
            "\n",
            "Test set: Average loss: 0.3386, Accuracy: 8883/10000 (88.83%)\n",
            "\n",
            "EPOCHS : 98\n"
          ]
        },
        {
          "output_type": "stream",
          "name": "stderr",
          "text": [
            "Batch_id=87 Batch Loss=0.22461259365081787 Running Loss=23.21877872943878 Running Accuracy=90.79: 100%|██████████| 88/88 [00:18<00:00,  4.82it/s]\n"
          ]
        },
        {
          "output_type": "stream",
          "name": "stdout",
          "text": [
            "\n",
            "Validation set: Average loss: 0.0007, Accuracy: 4422/5000 (88.44%)\n",
            "\n",
            "\n",
            "Test set: Average loss: 0.3383, Accuracy: 8887/10000 (88.87%)\n",
            "\n",
            "EPOCHS : 99\n"
          ]
        },
        {
          "output_type": "stream",
          "name": "stderr",
          "text": [
            "Batch_id=87 Batch Loss=0.31475934386253357 Running Loss=23.12428793311119 Running Accuracy=90.78: 100%|██████████| 88/88 [00:17<00:00,  4.94it/s]\n"
          ]
        },
        {
          "output_type": "stream",
          "name": "stdout",
          "text": [
            "\n",
            "Validation set: Average loss: 0.0007, Accuracy: 4422/5000 (88.44%)\n",
            "\n",
            "\n",
            "Test set: Average loss: 0.3386, Accuracy: 8889/10000 (88.89%)\n",
            "\n",
            "EPOCHS : 100\n"
          ]
        },
        {
          "output_type": "stream",
          "name": "stderr",
          "text": [
            "Batch_id=87 Batch Loss=0.279208242893219 Running Loss=23.135111808776855 Running Accuracy=90.70: 100%|██████████| 88/88 [00:17<00:00,  4.91it/s]\n"
          ]
        },
        {
          "output_type": "stream",
          "name": "stdout",
          "text": [
            "\n",
            "Validation set: Average loss: 0.0007, Accuracy: 4420/5000 (88.40%)\n",
            "\n",
            "\n",
            "Test set: Average loss: 0.3374, Accuracy: 8888/10000 (88.88%)\n",
            "\n",
            "EPOCHS : 101\n"
          ]
        },
        {
          "output_type": "stream",
          "name": "stderr",
          "text": [
            "Batch_id=87 Batch Loss=0.27116578817367554 Running Loss=23.24882945418358 Running Accuracy=90.76: 100%|██████████| 88/88 [00:18<00:00,  4.83it/s]\n"
          ]
        },
        {
          "output_type": "stream",
          "name": "stdout",
          "text": [
            "\n",
            "Validation set: Average loss: 0.0007, Accuracy: 4424/5000 (88.48%)\n",
            "\n",
            "\n",
            "Test set: Average loss: 0.3387, Accuracy: 8891/10000 (88.91%)\n",
            "\n",
            "EPOCHS : 102\n"
          ]
        },
        {
          "output_type": "stream",
          "name": "stderr",
          "text": [
            "Batch_id=87 Batch Loss=0.283997118473053 Running Loss=22.930503502488136 Running Accuracy=90.87: 100%|██████████| 88/88 [00:18<00:00,  4.89it/s]\n"
          ]
        },
        {
          "output_type": "stream",
          "name": "stdout",
          "text": [
            "\n",
            "Validation set: Average loss: 0.0007, Accuracy: 4423/5000 (88.46%)\n",
            "\n",
            "\n",
            "Test set: Average loss: 0.3381, Accuracy: 8883/10000 (88.83%)\n",
            "\n",
            "EPOCHS : 103\n"
          ]
        },
        {
          "output_type": "stream",
          "name": "stderr",
          "text": [
            "Batch_id=87 Batch Loss=0.24724985659122467 Running Loss=22.723096266388893 Running Accuracy=90.96: 100%|██████████| 88/88 [00:17<00:00,  4.91it/s]\n"
          ]
        },
        {
          "output_type": "stream",
          "name": "stdout",
          "text": [
            "\n",
            "Validation set: Average loss: 0.0007, Accuracy: 4422/5000 (88.44%)\n",
            "\n",
            "\n",
            "Test set: Average loss: 0.3378, Accuracy: 8882/10000 (88.82%)\n",
            "\n",
            "EPOCHS : 104\n"
          ]
        },
        {
          "output_type": "stream",
          "name": "stderr",
          "text": [
            "Batch_id=87 Batch Loss=0.2926170527935028 Running Loss=23.259436681866646 Running Accuracy=90.77: 100%|██████████| 88/88 [00:17<00:00,  4.92it/s]\n"
          ]
        },
        {
          "output_type": "stream",
          "name": "stdout",
          "text": [
            "\n",
            "Validation set: Average loss: 0.0007, Accuracy: 4424/5000 (88.48%)\n",
            "\n",
            "\n",
            "Test set: Average loss: 0.3386, Accuracy: 8881/10000 (88.81%)\n",
            "\n",
            "EPOCHS : 105\n"
          ]
        },
        {
          "output_type": "stream",
          "name": "stderr",
          "text": [
            "Batch_id=87 Batch Loss=0.29821670055389404 Running Loss=22.669159397482872 Running Accuracy=90.95: 100%|██████████| 88/88 [00:18<00:00,  4.88it/s]\n"
          ]
        },
        {
          "output_type": "stream",
          "name": "stdout",
          "text": [
            "\n",
            "Validation set: Average loss: 0.0007, Accuracy: 4423/5000 (88.46%)\n",
            "\n",
            "\n",
            "Test set: Average loss: 0.3380, Accuracy: 8890/10000 (88.90%)\n",
            "\n",
            "EPOCHS : 106\n"
          ]
        },
        {
          "output_type": "stream",
          "name": "stderr",
          "text": [
            "Batch_id=87 Batch Loss=0.2812258303165436 Running Loss=23.412542521953583 Running Accuracy=90.68: 100%|██████████| 88/88 [00:18<00:00,  4.87it/s]\n"
          ]
        },
        {
          "output_type": "stream",
          "name": "stdout",
          "text": [
            "\n",
            "Validation set: Average loss: 0.0007, Accuracy: 4418/5000 (88.36%)\n",
            "\n",
            "\n",
            "Test set: Average loss: 0.3380, Accuracy: 8887/10000 (88.87%)\n",
            "\n",
            "EPOCHS : 107\n"
          ]
        },
        {
          "output_type": "stream",
          "name": "stderr",
          "text": [
            "Batch_id=87 Batch Loss=0.21601691842079163 Running Loss=22.91530069708824 Running Accuracy=90.89: 100%|██████████| 88/88 [00:17<00:00,  4.92it/s]\n"
          ]
        },
        {
          "output_type": "stream",
          "name": "stdout",
          "text": [
            "\n",
            "Validation set: Average loss: 0.0007, Accuracy: 4420/5000 (88.40%)\n",
            "\n",
            "\n",
            "Test set: Average loss: 0.3380, Accuracy: 8884/10000 (88.84%)\n",
            "\n",
            "EPOCHS : 108\n"
          ]
        },
        {
          "output_type": "stream",
          "name": "stderr",
          "text": [
            "Batch_id=87 Batch Loss=0.2687765955924988 Running Loss=22.82725338637829 Running Accuracy=90.96: 100%|██████████| 88/88 [00:17<00:00,  4.91it/s]\n"
          ]
        },
        {
          "output_type": "stream",
          "name": "stdout",
          "text": [
            "\n",
            "Validation set: Average loss: 0.0007, Accuracy: 4418/5000 (88.36%)\n",
            "\n",
            "\n",
            "Test set: Average loss: 0.3387, Accuracy: 8887/10000 (88.87%)\n",
            "\n",
            "EPOCHS : 109\n"
          ]
        },
        {
          "output_type": "stream",
          "name": "stderr",
          "text": [
            "Batch_id=87 Batch Loss=0.2655186951160431 Running Loss=23.002022594213486 Running Accuracy=90.99: 100%|██████████| 88/88 [00:17<00:00,  4.91it/s]\n"
          ]
        },
        {
          "output_type": "stream",
          "name": "stdout",
          "text": [
            "\n",
            "Validation set: Average loss: 0.0007, Accuracy: 4419/5000 (88.38%)\n",
            "\n",
            "\n",
            "Test set: Average loss: 0.3385, Accuracy: 8885/10000 (88.85%)\n",
            "\n",
            "EPOCHS : 110\n"
          ]
        },
        {
          "output_type": "stream",
          "name": "stderr",
          "text": [
            "Batch_id=87 Batch Loss=0.28274694085121155 Running Loss=23.17811481654644 Running Accuracy=90.64: 100%|██████████| 88/88 [00:18<00:00,  4.88it/s]\n"
          ]
        },
        {
          "output_type": "stream",
          "name": "stdout",
          "text": [
            "\n",
            "Validation set: Average loss: 0.0007, Accuracy: 4422/5000 (88.44%)\n",
            "\n",
            "\n",
            "Test set: Average loss: 0.3383, Accuracy: 8885/10000 (88.85%)\n",
            "\n",
            "EPOCHS : 111\n"
          ]
        },
        {
          "output_type": "stream",
          "name": "stderr",
          "text": [
            "Batch_id=87 Batch Loss=0.23946256935596466 Running Loss=23.026178658008575 Running Accuracy=90.88: 100%|██████████| 88/88 [00:17<00:00,  4.92it/s]\n"
          ]
        },
        {
          "output_type": "stream",
          "name": "stdout",
          "text": [
            "\n",
            "Validation set: Average loss: 0.0007, Accuracy: 4425/5000 (88.50%)\n",
            "\n",
            "\n",
            "Test set: Average loss: 0.3382, Accuracy: 8883/10000 (88.83%)\n",
            "\n",
            "EPOCHS : 112\n"
          ]
        },
        {
          "output_type": "stream",
          "name": "stderr",
          "text": [
            "Batch_id=87 Batch Loss=0.26645946502685547 Running Loss=22.879740074276924 Running Accuracy=90.98: 100%|██████████| 88/88 [00:17<00:00,  4.90it/s]\n"
          ]
        },
        {
          "output_type": "stream",
          "name": "stdout",
          "text": [
            "\n",
            "Validation set: Average loss: 0.0007, Accuracy: 4420/5000 (88.40%)\n",
            "\n",
            "\n",
            "Test set: Average loss: 0.3379, Accuracy: 8888/10000 (88.88%)\n",
            "\n",
            "EPOCHS : 113\n"
          ]
        },
        {
          "output_type": "stream",
          "name": "stderr",
          "text": [
            "Batch_id=87 Batch Loss=0.26379042863845825 Running Loss=23.113331630825996 Running Accuracy=90.86: 100%|██████████| 88/88 [00:18<00:00,  4.77it/s]\n"
          ]
        },
        {
          "output_type": "stream",
          "name": "stdout",
          "text": [
            "\n",
            "Validation set: Average loss: 0.0007, Accuracy: 4420/5000 (88.40%)\n",
            "\n",
            "\n",
            "Test set: Average loss: 0.3383, Accuracy: 8878/10000 (88.78%)\n",
            "\n",
            "EPOCHS : 114\n"
          ]
        },
        {
          "output_type": "stream",
          "name": "stderr",
          "text": [
            "Batch_id=87 Batch Loss=0.21582849323749542 Running Loss=22.938404440879822 Running Accuracy=90.86: 100%|██████████| 88/88 [00:17<00:00,  4.89it/s]\n"
          ]
        },
        {
          "output_type": "stream",
          "name": "stdout",
          "text": [
            "\n",
            "Validation set: Average loss: 0.0007, Accuracy: 4422/5000 (88.44%)\n",
            "\n",
            "\n",
            "Test set: Average loss: 0.3372, Accuracy: 8885/10000 (88.85%)\n",
            "\n",
            "EPOCHS : 115\n"
          ]
        },
        {
          "output_type": "stream",
          "name": "stderr",
          "text": [
            "Batch_id=87 Batch Loss=0.31119245290756226 Running Loss=23.152584210038185 Running Accuracy=90.84: 100%|██████████| 88/88 [00:17<00:00,  4.89it/s]\n"
          ]
        },
        {
          "output_type": "stream",
          "name": "stdout",
          "text": [
            "\n",
            "Validation set: Average loss: 0.0007, Accuracy: 4421/5000 (88.42%)\n",
            "\n",
            "\n",
            "Test set: Average loss: 0.3381, Accuracy: 8887/10000 (88.87%)\n",
            "\n",
            "EPOCHS : 116\n"
          ]
        },
        {
          "output_type": "stream",
          "name": "stderr",
          "text": [
            "Batch_id=87 Batch Loss=0.2653881311416626 Running Loss=22.978967517614365 Running Accuracy=90.76: 100%|██████████| 88/88 [00:18<00:00,  4.82it/s]\n"
          ]
        },
        {
          "output_type": "stream",
          "name": "stdout",
          "text": [
            "\n",
            "Validation set: Average loss: 0.0007, Accuracy: 4420/5000 (88.40%)\n",
            "\n",
            "\n",
            "Test set: Average loss: 0.3387, Accuracy: 8885/10000 (88.85%)\n",
            "\n",
            "EPOCHS : 117\n"
          ]
        },
        {
          "output_type": "stream",
          "name": "stderr",
          "text": [
            "Batch_id=87 Batch Loss=0.2977760136127472 Running Loss=22.891852229833603 Running Accuracy=90.94: 100%|██████████| 88/88 [00:17<00:00,  4.90it/s]\n"
          ]
        },
        {
          "output_type": "stream",
          "name": "stdout",
          "text": [
            "\n",
            "Validation set: Average loss: 0.0007, Accuracy: 4422/5000 (88.44%)\n",
            "\n",
            "\n",
            "Test set: Average loss: 0.3396, Accuracy: 8885/10000 (88.85%)\n",
            "\n",
            "EPOCHS : 118\n"
          ]
        },
        {
          "output_type": "stream",
          "name": "stderr",
          "text": [
            "Batch_id=87 Batch Loss=0.2503359317779541 Running Loss=22.88608193397522 Running Accuracy=90.92: 100%|██████████| 88/88 [00:18<00:00,  4.88it/s]\n"
          ]
        },
        {
          "output_type": "stream",
          "name": "stdout",
          "text": [
            "\n",
            "Validation set: Average loss: 0.0007, Accuracy: 4421/5000 (88.42%)\n",
            "\n",
            "\n",
            "Test set: Average loss: 0.3378, Accuracy: 8887/10000 (88.87%)\n",
            "\n",
            "EPOCHS : 119\n"
          ]
        },
        {
          "output_type": "stream",
          "name": "stderr",
          "text": [
            "Batch_id=87 Batch Loss=0.2769996225833893 Running Loss=23.056226521730423 Running Accuracy=90.97: 100%|██████████| 88/88 [00:17<00:00,  4.90it/s]\n"
          ]
        },
        {
          "output_type": "stream",
          "name": "stdout",
          "text": [
            "\n",
            "Validation set: Average loss: 0.0007, Accuracy: 4426/5000 (88.52%)\n",
            "\n",
            "\n",
            "Test set: Average loss: 0.3383, Accuracy: 8886/10000 (88.86%)\n",
            "\n"
          ]
        }
      ],
      "source": [
        "# Training the model\n",
        "\n",
        "train_acc = []\n",
        "train_losses = []\n",
        "valid_accs = []\n",
        "valid_losses = []\n",
        "test_acc = []\n",
        "test_losses = []\n",
        "min_valid_loss = None\n",
        "max_acc = None\n",
        "\n",
        "EPOCHS = 120\n",
        "\n",
        "for i in range(EPOCHS):\n",
        "    print(f'EPOCHS : {i}')\n",
        "    model_training(model, device, trainloader, optimizer, train_acc, train_losses)\n",
        "\n",
        "    # Validating the model for the current epoch\n",
        "    valid_loss, valid_acc = model_evaluation(model, device, validloader)  \n",
        "\n",
        "    valid_losses.append(valid_loss)\n",
        "    valid_accs.append(valid_acc)\n",
        "\n",
        "    if not min_valid_loss:\n",
        "      min_valid_loss = valid_loss\n",
        "    else:\n",
        "      if valid_loss < min_valid_loss:\n",
        "        min_valid_loss = valid_loss\n",
        "        torch.save(model, \"best_model.pickle\")\n",
        "\n",
        "    # scheduler.step(train_losses[-1])\n",
        "    scheduler.step(valid_loss)\n",
        "\n",
        "    misclassified, test_acc2 = model_testing(model, device, testloader, test_acc, test_losses)\n",
        "\n",
        "    if not max_acc:\n",
        "      max_acc = test_acc2\n",
        "    else:\n",
        "      if test_acc2 > max_acc:\n",
        "        max_acc = test_acc2\n",
        "        torch.save(model, \"best_test_acc_model.pickle\")\n",
        "\n",
        "    save_to_csv(\"16_resnet_3_3_3_inchannels_64_dropout_less_threshold.csv\", train_losses, train_acc, test_losses, test_acc)\n"
      ]
    },
    {
      "cell_type": "code",
      "source": [
        "# Best model\n",
        "model1 = torch.load(\"best_model.pickle\")\n",
        "model2 = torch.load(\"best_test_acc_model.pickle\")\n",
        "misclassified, _acc = model_testing(model, device, testloader, test_acc, test_losses)\n",
        "misclassified, _acc = model_testing(model2, device, testloader, test_acc, test_losses)"
      ],
      "metadata": {
        "colab": {
          "base_uri": "https://localhost:8080/"
        },
        "id": "ocguQ5Q9p1Kt",
        "outputId": "ee521dc6-522b-4fc6-c14f-c62d11acc999"
      },
      "execution_count": null,
      "outputs": [
        {
          "output_type": "stream",
          "name": "stdout",
          "text": [
            "\n",
            "Test set: Average loss: 0.3466, Accuracy: 9230/10000 (92.30%)\n",
            "\n",
            "\n",
            "Test set: Average loss: 0.3489, Accuracy: 9226/10000 (92.26%)\n",
            "\n"
          ]
        }
      ]
    },
    {
      "cell_type": "code",
      "execution_count": null,
      "metadata": {
        "execution": {
          "iopub.execute_input": "2020-09-18T14:33:11.004455Z",
          "iopub.status.busy": "2020-09-18T14:33:11.003592Z",
          "iopub.status.idle": "2020-09-18T14:33:11.886161Z",
          "shell.execute_reply": "2020-09-18T14:33:11.885385Z"
        },
        "papermill": {
          "duration": 4.212753,
          "end_time": "2020-09-18T14:33:11.886294",
          "exception": false,
          "start_time": "2020-09-18T14:33:07.673541",
          "status": "completed"
        },
        "tags": [],
        "colab": {
          "base_uri": "https://localhost:8080/",
          "height": 1000
        },
        "id": "3pYBPl8HKs_o",
        "outputId": "91fc21e2-8e78-4c8f-f96d-12e42a00233c"
      },
      "outputs": [
        {
          "output_type": "execute_result",
          "data": {
            "text/plain": [
              "[<matplotlib.lines.Line2D at 0x7f9b1de84810>]"
            ]
          },
          "metadata": {},
          "execution_count": 25
        },
        {
          "output_type": "display_data",
          "data": {
            "text/plain": [
              "<Figure size 1800x1440 with 4 Axes>"
            ],
            "image/png": "[encoded data removed]"
          },
          "metadata": {
            "needs_background": "light"
          }
        }
      ],
      "source": [
        "fig, axs = plt.subplots(2,2, figsize=(25,20))\n",
        "\n",
        "axs[0,0].set_title('Train Losses')\n",
        "axs[0,1].set_title('Training Accuracy')\n",
        "axs[1,0].set_title('Test Losses')\n",
        "axs[1,1].set_title('Test Accuracy')\n",
        "\n",
        "axs[0,0].plot(train_losses)\n",
        "axs[0,1].plot(train_acc)\n",
        "axs[1,0].plot(test_losses)\n",
        "axs[1,1].plot(test_acc)"
      ]
    },
    {
      "cell_type": "code",
      "source": [],
      "metadata": {
        "id": "DlPU6Co4ns_R"
      },
      "execution_count": null,
      "outputs": []
    }
  ],
  "metadata": {
    "kernelspec": {
      "display_name": "Python 3",
      "language": "python",
      "name": "python3"
    },
    "language_info": {
      "codemirror_mode": {
        "name": "ipython",
        "version": 3
      },
      "file_extension": ".py",
      "mimetype": "text/x-python",
      "name": "python",
      "nbconvert_exporter": "python",
      "pygments_lexer": "ipython3",
      "version": "3.7.6"
    },
    "papermill": {
      "duration": 1617.594216,
      "end_time": "2020-09-18T14:33:16.593563",
      "environment_variables": {},
      "exception": null,
      "input_path": "__notebook__.ipynb",
      "output_path": "__notebook__.ipynb",
      "parameters": {},
      "start_time": "2020-09-18T14:06:18.999347",
      "version": "2.1.0"
    },
    "colab": {
      "provenance": [],
      "machine_shape": "hm"
    },
    "accelerator": "GPU",
    "gpuClass": "premium",
    "widgets": {
      "application/vnd.jupyter.widget-state+json": {
        "5cc6cbefc35f423dbc1901a7086c52ff": {
          "model_module": "@jupyter-widgets/controls",
          "model_name": "HBoxModel",
          "model_module_version": "1.5.0",
          "state": {
            "_dom_classes": [],
            "_model_module": "@jupyter-widgets/controls",
            "_model_module_version": "1.5.0",
            "_model_name": "HBoxModel",
            "_view_count": null,
            "_view_module": "@jupyter-widgets/controls",
            "_view_module_version": "1.5.0",
            "_view_name": "HBoxView",
            "box_style": "",
            "children": [
              "IPY_MODEL_0fcdd6116ef44f559c1382b07cb3c107",
              "IPY_MODEL_a42ddbfe45954ae4a9bef381ebb8a67f",
              "IPY_MODEL_7ee3667ce6f247c999d97f12bf81d995"
            ],
            "layout": "IPY_MODEL_b6d26eb3b7854fa2857bdb0bd48811c4"
          }
        },
        "0fcdd6116ef44f559c1382b07cb3c107": {
          "model_module": "@jupyter-widgets/controls",
          "model_name": "HTMLModel",
          "model_module_version": "1.5.0",
          "state": {
            "_dom_classes": [],
            "_model_module": "@jupyter-widgets/controls",
            "_model_module_version": "1.5.0",
            "_model_name": "HTMLModel",
            "_view_count": null,
            "_view_module": "@jupyter-widgets/controls",
            "_view_module_version": "1.5.0",
            "_view_name": "HTMLView",
            "description": "",
            "description_tooltip": null,
            "layout": "IPY_MODEL_7025f83359be49dfb5d722d43bcf5353",
            "placeholder": "​",
            "style": "IPY_MODEL_9d3c72c81e8f4ae8b1c5890e3652edb0",
            "value": "100%"
          }
        },
        "a42ddbfe45954ae4a9bef381ebb8a67f": {
          "model_module": "@jupyter-widgets/controls",
          "model_name": "FloatProgressModel",
          "model_module_version": "1.5.0",
          "state": {
            "_dom_classes": [],
            "_model_module": "@jupyter-widgets/controls",
            "_model_module_version": "1.5.0",
            "_model_name": "FloatProgressModel",
            "_view_count": null,
            "_view_module": "@jupyter-widgets/controls",
            "_view_module_version": "1.5.0",
            "_view_name": "ProgressView",
            "bar_style": "success",
            "description": "",
            "description_tooltip": null,
            "layout": "IPY_MODEL_22432a9a06f84627b7906aff9edd3eeb",
            "max": 170498071,
            "min": 0,
            "orientation": "horizontal",
            "style": "IPY_MODEL_748ea0726e0c4e20b3c307263600a202",
            "value": 170498071
          }
        },
        "7ee3667ce6f247c999d97f12bf81d995": {
          "model_module": "@jupyter-widgets/controls",
          "model_name": "HTMLModel",
          "model_module_version": "1.5.0",
          "state": {
            "_dom_classes": [],
            "_model_module": "@jupyter-widgets/controls",
            "_model_module_version": "1.5.0",
            "_model_name": "HTMLModel",
            "_view_count": null,
            "_view_module": "@jupyter-widgets/controls",
            "_view_module_version": "1.5.0",
            "_view_name": "HTMLView",
            "description": "",
            "description_tooltip": null,
            "layout": "IPY_MODEL_3339c5e8ec6d48ec8f8fddc8eabdb9a3",
            "placeholder": "​",
            "style": "IPY_MODEL_6e6ed9b70ad84a4b8908fdebb05b06c3",
            "value": " 170498071/170498071 [00:03&lt;00:00, 49105634.25it/s]"
          }
        },
        "b6d26eb3b7854fa2857bdb0bd48811c4": {
          "model_module": "@jupyter-widgets/base",
          "model_name": "LayoutModel",
          "model_module_version": "1.2.0",
          "state": {
            "_model_module": "@jupyter-widgets/base",
            "_model_module_version": "1.2.0",
            "_model_name": "LayoutModel",
            "_view_count": null,
            "_view_module": "@jupyter-widgets/base",
            "_view_module_version": "1.2.0",
            "_view_name": "LayoutView",
            "align_content": null,
            "align_items": null,
            "align_self": null,
            "border": null,
            "bottom": null,
            "display": null,
            "flex": null,
            "flex_flow": null,
            "grid_area": null,
            "grid_auto_columns": null,
            "grid_auto_flow": null,
            "grid_auto_rows": null,
            "grid_column": null,
            "grid_gap": null,
            "grid_row": null,
            "grid_template_areas": null,
            "grid_template_columns": null,
            "grid_template_rows": null,
            "height": null,
            "justify_content": null,
            "justify_items": null,
            "left": null,
            "margin": null,
            "max_height": null,
            "max_width": null,
            "min_height": null,
            "min_width": null,
            "object_fit": null,
            "object_position": null,
            "order": null,
            "overflow": null,
            "overflow_x": null,
            "overflow_y": null,
            "padding": null,
            "right": null,
            "top": null,
            "visibility": null,
            "width": null
          }
        },
        "7025f83359be49dfb5d722d43bcf5353": {
          "model_module": "@jupyter-widgets/base",
          "model_name": "LayoutModel",
          "model_module_version": "1.2.0",
          "state": {
            "_model_module": "@jupyter-widgets/base",
            "_model_module_version": "1.2.0",
            "_model_name": "LayoutModel",
            "_view_count": null,
            "_view_module": "@jupyter-widgets/base",
            "_view_module_version": "1.2.0",
            "_view_name": "LayoutView",
            "align_content": null,
            "align_items": null,
            "align_self": null,
            "border": null,
            "bottom": null,
            "display": null,
            "flex": null,
            "flex_flow": null,
            "grid_area": null,
            "grid_auto_columns": null,
            "grid_auto_flow": null,
            "grid_auto_rows": null,
            "grid_column": null,
            "grid_gap": null,
            "grid_row": null,
            "grid_template_areas": null,
            "grid_template_columns": null,
            "grid_template_rows": null,
            "height": null,
            "justify_content": null,
            "justify_items": null,
            "left": null,
            "margin": null,
            "max_height": null,
            "max_width": null,
            "min_height": null,
            "min_width": null,
            "object_fit": null,
            "object_position": null,
            "order": null,
            "overflow": null,
            "overflow_x": null,
            "overflow_y": null,
            "padding": null,
            "right": null,
            "top": null,
            "visibility": null,
            "width": null
          }
        },
        "9d3c72c81e8f4ae8b1c5890e3652edb0": {
          "model_module": "@jupyter-widgets/controls",
          "model_name": "DescriptionStyleModel",
          "model_module_version": "1.5.0",
          "state": {
            "_model_module": "@jupyter-widgets/controls",
            "_model_module_version": "1.5.0",
            "_model_name": "DescriptionStyleModel",
            "_view_count": null,
            "_view_module": "@jupyter-widgets/base",
            "_view_module_version": "1.2.0",
            "_view_name": "StyleView",
            "description_width": ""
          }
        },
        "22432a9a06f84627b7906aff9edd3eeb": {
          "model_module": "@jupyter-widgets/base",
          "model_name": "LayoutModel",
          "model_module_version": "1.2.0",
          "state": {
            "_model_module": "@jupyter-widgets/base",
            "_model_module_version": "1.2.0",
            "_model_name": "LayoutModel",
            "_view_count": null,
            "_view_module": "@jupyter-widgets/base",
            "_view_module_version": "1.2.0",
            "_view_name": "LayoutView",
            "align_content": null,
            "align_items": null,
            "align_self": null,
            "border": null,
            "bottom": null,
            "display": null,
            "flex": null,
            "flex_flow": null,
            "grid_area": null,
            "grid_auto_columns": null,
            "grid_auto_flow": null,
            "grid_auto_rows": null,
            "grid_column": null,
            "grid_gap": null,
            "grid_row": null,
            "grid_template_areas": null,
            "grid_template_columns": null,
            "grid_template_rows": null,
            "height": null,
            "justify_content": null,
            "justify_items": null,
            "left": null,
            "margin": null,
            "max_height": null,
            "max_width": null,
            "min_height": null,
            "min_width": null,
            "object_fit": null,
            "object_position": null,
            "order": null,
            "overflow": null,
            "overflow_x": null,
            "overflow_y": null,
            "padding": null,
            "right": null,
            "top": null,
            "visibility": null,
            "width": null
          }
        },
        "748ea0726e0c4e20b3c307263600a202": {
          "model_module": "@jupyter-widgets/controls",
          "model_name": "ProgressStyleModel",
          "model_module_version": "1.5.0",
          "state": {
            "_model_module": "@jupyter-widgets/controls",
            "_model_module_version": "1.5.0",
            "_model_name": "ProgressStyleModel",
            "_view_count": null,
            "_view_module": "@jupyter-widgets/base",
            "_view_module_version": "1.2.0",
            "_view_name": "StyleView",
            "bar_color": null,
            "description_width": ""
          }
        },
        "3339c5e8ec6d48ec8f8fddc8eabdb9a3": {
          "model_module": "@jupyter-widgets/base",
          "model_name": "LayoutModel",
          "model_module_version": "1.2.0",
          "state": {
            "_model_module": "@jupyter-widgets/base",
            "_model_module_version": "1.2.0",
            "_model_name": "LayoutModel",
            "_view_count": null,
            "_view_module": "@jupyter-widgets/base",
            "_view_module_version": "1.2.0",
            "_view_name": "LayoutView",
            "align_content": null,
            "align_items": null,
            "align_self": null,
            "border": null,
            "bottom": null,
            "display": null,
            "flex": null,
            "flex_flow": null,
            "grid_area": null,
            "grid_auto_columns": null,
            "grid_auto_flow": null,
            "grid_auto_rows": null,
            "grid_column": null,
            "grid_gap": null,
            "grid_row": null,
            "grid_template_areas": null,
            "grid_template_columns": null,
            "grid_template_rows": null,
            "height": null,
            "justify_content": null,
            "justify_items": null,
            "left": null,
            "margin": null,
            "max_height": null,
            "max_width": null,
            "min_height": null,
            "min_width": null,
            "object_fit": null,
            "object_position": null,
            "order": null,
            "overflow": null,
            "overflow_x": null,
            "overflow_y": null,
            "padding": null,
            "right": null,
            "top": null,
            "visibility": null,
            "width": null
          }
        },
        "6e6ed9b70ad84a4b8908fdebb05b06c3": {
          "model_module": "@jupyter-widgets/controls",
          "model_name": "DescriptionStyleModel",
          "model_module_version": "1.5.0",
          "state": {
            "_model_module": "@jupyter-widgets/controls",
            "_model_module_version": "1.5.0",
            "_model_name": "DescriptionStyleModel",
            "_view_count": null,
            "_view_module": "@jupyter-widgets/base",
            "_view_module_version": "1.2.0",
            "_view_name": "StyleView",
            "description_width": ""
          }
        }
      }
    }
  },
  "nbformat": 4,
  "nbformat_minor": 0
}