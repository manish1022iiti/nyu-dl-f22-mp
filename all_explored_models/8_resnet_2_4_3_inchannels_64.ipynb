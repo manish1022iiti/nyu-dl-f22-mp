{
  "cells": [
    {
      "cell_type": "markdown",
      "source": [
        "https://www.kaggle.com/code/greatcodes/pytorch-cnn-resnet18-cifar10/notebook\n",
        "\n",
        "https://pytorch-tutorial.readthedocs.io/en/latest/tutorial/chapter03_intermediate/3_2_2_cnn_resnet_cifar10/"
      ],
      "metadata": {
        "id": "TS3R6-AKKuSD"
      }
    },
    {
      "cell_type": "code",
      "execution_count": 1,
      "metadata": {
        "execution": {
          "iopub.execute_input": "2020-09-18T14:06:23.323276Z",
          "iopub.status.busy": "2020-09-18T14:06:23.322403Z",
          "iopub.status.idle": "2020-09-18T14:06:33.073785Z",
          "shell.execute_reply": "2020-09-18T14:06:33.073171Z"
        },
        "papermill": {
          "duration": 9.766997,
          "end_time": "2020-09-18T14:06:33.073915",
          "exception": false,
          "start_time": "2020-09-18T14:06:23.306918",
          "status": "completed"
        },
        "tags": [],
        "colab": {
          "base_uri": "https://localhost:8080/"
        },
        "id": "40qwzP9AKs_c",
        "outputId": "cb2d6d66-880a-43c0-ef61-79bd95969edd"
      },
      "outputs": [
        {
          "output_type": "stream",
          "name": "stdout",
          "text": [
            "Looking in indexes: https://pypi.org/simple, https://us-python.pkg.dev/colab-wheels/public/simple/\n",
            "Requirement already satisfied: torchsummary in /usr/local/lib/python3.7/dist-packages (1.5.1)\n"
          ]
        }
      ],
      "source": [
        "!pip install torchsummary"
      ]
    },
    {
      "cell_type": "code",
      "execution_count": 2,
      "metadata": {
        "_cell_guid": "79c7e3d0-c299-4dcb-8224-4455121ee9b0",
        "_uuid": "d629ff2d2480ee46fbb7e2d37f6b5fab8052498a",
        "execution": {
          "iopub.execute_input": "2020-09-18T14:06:33.110540Z",
          "iopub.status.busy": "2020-09-18T14:06:33.109616Z",
          "iopub.status.idle": "2020-09-18T14:06:34.741497Z",
          "shell.execute_reply": "2020-09-18T14:06:34.742236Z"
        },
        "papermill": {
          "duration": 1.655486,
          "end_time": "2020-09-18T14:06:34.742433",
          "exception": false,
          "start_time": "2020-09-18T14:06:33.086947",
          "status": "completed"
        },
        "tags": [],
        "colab": {
          "base_uri": "https://localhost:8080/"
        },
        "id": "1L1ayeUjKs_d",
        "outputId": "8aed8e83-1633-47dd-fb77-180f817bffa6"
      },
      "outputs": [
        {
          "output_type": "stream",
          "name": "stdout",
          "text": [
            "cuda\n"
          ]
        }
      ],
      "source": [
        "# Importing Libraries\n",
        "import os\n",
        "import copy\n",
        "import random\n",
        "import numpy as np\n",
        "import pandas as pd\n",
        "import torch\n",
        "import torchvision\n",
        "import torchvision.transforms as transforms\n",
        "from torchsummary import summary\n",
        "import torch.utils.data as data\n",
        "import torch.nn as nn\n",
        "import torch.nn.functional as F\n",
        "import torch.optim as optim\n",
        "from torch.optim.lr_scheduler import StepLR, ReduceLROnPlateau\n",
        "\n",
        "import matplotlib.pyplot as plt\n",
        "%matplotlib inline\n",
        "\n",
        "SEED = 1234\n",
        "\n",
        "device = \"cuda\" if torch.cuda.is_available else \"cpu\"\n",
        "print(device)"
      ]
    },
    {
      "cell_type": "code",
      "execution_count": 3,
      "metadata": {
        "execution": {
          "iopub.execute_input": "2020-09-18T14:06:34.781123Z",
          "iopub.status.busy": "2020-09-18T14:06:34.780293Z",
          "iopub.status.idle": "2020-09-18T14:06:34.784939Z",
          "shell.execute_reply": "2020-09-18T14:06:34.784333Z"
        },
        "papermill": {
          "duration": 0.028551,
          "end_time": "2020-09-18T14:06:34.785089",
          "exception": false,
          "start_time": "2020-09-18T14:06:34.756538",
          "status": "completed"
        },
        "tags": [],
        "id": "s_5gkccjKs_e"
      },
      "outputs": [],
      "source": [
        "from torchvision import transforms\n",
        "import numpy as np\n",
        "import torch\n",
        "\n",
        "# Returns a list of transformations when called\n",
        "\n",
        "class GetTransforms():\n",
        "    '''Returns a list of transformations when type as requested amongst train/test\n",
        "       Transforms('train') = list of transforms to apply on training data\n",
        "       Transforms('test') = list of transforms to apply on testing data'''\n",
        "\n",
        "    def __init__(self):\n",
        "        pass\n",
        "\n",
        "    def trainparams(self):\n",
        "        train_transformations = [ #resises the image so it can be perfect for our model.\n",
        "            transforms.RandomHorizontalFlip(), # FLips the image w.r.t horizontal axis\n",
        "            transforms.RandomRotation((-7,7)),     #Rotates the image to a specified angel\n",
        "            transforms.RandomAffine(0, shear=10, scale=(0.8,1.2)), #Performs actions like zooms, change shear angles.\n",
        "            transforms.ColorJitter(brightness=0.2, contrast=0.2, saturation=0.2), # Set the color params\n",
        "            transforms.ToTensor(), # comvert the image to tensor so that it can work with torch\n",
        "            transforms.Normalize((0.491, 0.482, 0.446), (0.247, 0.243, 0.261)) #Normalize all the images\n",
        "            ]\n",
        "\n",
        "        return train_transformations\n",
        "\n",
        "    def testparams(self):\n",
        "        test_transforms = [\n",
        "            transforms.ToTensor(),\n",
        "            transforms.Normalize((0.491, 0.482, 0.446), (0.247, 0.243, 0.261))\n",
        "        ]\n",
        "        return test_transforms"
      ]
    },
    {
      "cell_type": "code",
      "execution_count": 4,
      "metadata": {
        "execution": {
          "iopub.execute_input": "2020-09-18T14:06:34.822176Z",
          "iopub.status.busy": "2020-09-18T14:06:34.821389Z",
          "iopub.status.idle": "2020-09-18T14:06:34.824928Z",
          "shell.execute_reply": "2020-09-18T14:06:34.825448Z"
        },
        "papermill": {
          "duration": 0.026239,
          "end_time": "2020-09-18T14:06:34.825574",
          "exception": false,
          "start_time": "2020-09-18T14:06:34.799335",
          "status": "completed"
        },
        "tags": [],
        "id": "TUmYFrWSKs_g"
      },
      "outputs": [],
      "source": [
        "from torchvision import datasets\n",
        "from torchvision import transforms\n",
        "\n",
        "\n",
        "transformations = GetTransforms()\n",
        "train_transforms = transforms.Compose(transformations.trainparams())\n",
        "test_transforms = transforms.Compose(transformations.testparams())\n",
        "\n",
        "\n",
        "class GetCIFAR10_TrainData():\n",
        "    def __init__(self, dir_name:str):\n",
        "        self.dirname = dir_name\n",
        "\n",
        "    def download_train_data(self):\n",
        "        return datasets.CIFAR10('./data', train=True, download=True, transform=train_transforms)\n",
        "\n",
        "    def download_test_data(self):\n",
        "        return datasets.CIFAR10('./data', train=False, download=True, transform=test_transforms)\n"
      ]
    },
    {
      "cell_type": "code",
      "execution_count": 5,
      "metadata": {
        "execution": {
          "iopub.execute_input": "2020-09-18T14:06:34.859536Z",
          "iopub.status.busy": "2020-09-18T14:06:34.858878Z",
          "iopub.status.idle": "2020-09-18T14:06:42.631720Z",
          "shell.execute_reply": "2020-09-18T14:06:42.631008Z"
        },
        "papermill": {
          "duration": 7.792606,
          "end_time": "2020-09-18T14:06:42.631847",
          "exception": false,
          "start_time": "2020-09-18T14:06:34.839241",
          "status": "completed"
        },
        "tags": [],
        "colab": {
          "base_uri": "https://localhost:8080/",
          "height": 101,
          "referenced_widgets": [
            "deae9b10de0a4ae981c3fde78df82eb9",
            "eaf30fcf89a64a499ebeae7af7d81a3d",
            "4ecaed1770a64e1a873af40ebca294c9",
            "51332c5a17aa4c9eb896c48f8274b7a1",
            "8a17a6dbb6c442ef937f8170ed6f1173",
            "7d0ec674f88c40f599ccc17f0d17ffc6",
            "80632423dc6841ccaef55fe3c71fca3b",
            "ce79d9f5df214e90a77f898860324a56",
            "c28f8cd1fd70454782ada70143d67a4c",
            "df11f9608be5430e84239bfc4e616e7d",
            "f42c4c2334194c0c88a6d7f6f3ff9b24"
          ]
        },
        "id": "U8mSINXnKs_i",
        "outputId": "31c65620-2377-4f93-f124-0259e284d3f8"
      },
      "outputs": [
        {
          "output_type": "stream",
          "name": "stdout",
          "text": [
            "Downloading https://www.cs.toronto.edu/~kriz/cifar-10-python.tar.gz to ./data/cifar-10-python.tar.gz\n"
          ]
        },
        {
          "output_type": "display_data",
          "data": {
            "text/plain": [
              "  0%|          | 0/170498071 [00:00<?, ?it/s]"
            ],
            "application/vnd.jupyter.widget-view+json": {
              "version_major": 2,
              "version_minor": 0,
              "model_id": "deae9b10de0a4ae981c3fde78df82eb9"
            }
          },
          "metadata": {}
        },
        {
          "output_type": "stream",
          "name": "stdout",
          "text": [
            "Extracting ./data/cifar-10-python.tar.gz to ./data\n",
            "Files already downloaded and verified\n"
          ]
        }
      ],
      "source": [
        "cdata = GetCIFAR10_TrainData(os.chdir(\"..\"))\n",
        "trainset = cdata.download_train_data()\n",
        "testset = cdata.download_test_data()\n",
        "\n",
        "VALID_RATIO = 0.9\n",
        "n_train_examples = int(len(trainset) * VALID_RATIO)\n",
        "n_valid_examples = len(trainset) - n_train_examples\n",
        "\n",
        "trainset, validset = data.random_split(trainset, \n",
        "                                           [n_train_examples, n_valid_examples])\n",
        "\n",
        "validset = copy.deepcopy(validset)\n",
        "validset.dataset.transform = test_transforms"
      ]
    },
    {
      "cell_type": "code",
      "source": [
        "len(trainset), len(validset), len(testset)"
      ],
      "metadata": {
        "colab": {
          "base_uri": "https://localhost:8080/"
        },
        "id": "W_h-ul9MYUPZ",
        "outputId": "2e12c00a-337c-4f04-cb61-9b6b9447a4e1"
      },
      "execution_count": 6,
      "outputs": [
        {
          "output_type": "execute_result",
          "data": {
            "text/plain": [
              "(45000, 5000, 10000)"
            ]
          },
          "metadata": {},
          "execution_count": 6
        }
      ]
    },
    {
      "cell_type": "code",
      "source": [
        "BATCH_SIZE = 512\n",
        "\n",
        "trainloader = torch.utils.data.DataLoader(trainset, batch_size=BATCH_SIZE,\n",
        "                                          shuffle=True, num_workers=2)\n",
        "validloader = torch.utils.data.DataLoader(validset, batch_size=BATCH_SIZE,\n",
        "                                          shuffle=False, num_workers=2)\n",
        "testloader = torch.utils.data.DataLoader(testset, batch_size=BATCH_SIZE,\n",
        "                                         shuffle=False, num_workers=2)"
      ],
      "metadata": {
        "id": "uybGoOcRQA6S"
      },
      "execution_count": 7,
      "outputs": []
    },
    {
      "cell_type": "markdown",
      "metadata": {
        "papermill": {
          "duration": 0.01586,
          "end_time": "2020-09-18T14:06:42.663889",
          "exception": false,
          "start_time": "2020-09-18T14:06:42.648029",
          "status": "completed"
        },
        "tags": [],
        "id": "H6YIObpwKs_j"
      },
      "source": [
        "# The Model - RESNET18\n"
      ]
    },
    {
      "cell_type": "code",
      "source": [
        "# 3x3 convolution\n",
        "def conv3x3(in_channels, out_channels, stride=1):\n",
        "    return nn.Conv2d(in_channels, out_channels, kernel_size=3, \n",
        "                     stride=stride, padding=1, bias=False)"
      ],
      "metadata": {
        "id": "G9TNZ9fONNbW"
      },
      "execution_count": 8,
      "outputs": []
    },
    {
      "cell_type": "code",
      "execution_count": 9,
      "metadata": {
        "execution": {
          "iopub.execute_input": "2020-09-18T14:06:42.726092Z",
          "iopub.status.busy": "2020-09-18T14:06:42.719704Z",
          "iopub.status.idle": "2020-09-18T14:06:42.729169Z",
          "shell.execute_reply": "2020-09-18T14:06:42.728568Z"
        },
        "papermill": {
          "duration": 0.048555,
          "end_time": "2020-09-18T14:06:42.729267",
          "exception": false,
          "start_time": "2020-09-18T14:06:42.680712",
          "status": "completed"
        },
        "tags": [],
        "id": "yJJ0Idu8Ks_j"
      },
      "outputs": [],
      "source": [
        "# Residual block\n",
        "class ResidualBlock(nn.Module):\n",
        "    def __init__(self, in_channels, out_channels, stride=1, downsample=None):\n",
        "        super(ResidualBlock, self).__init__()\n",
        "        \n",
        "        self.conv1 = conv3x3(in_channels, out_channels, stride)\n",
        "        self.bn1 = nn.BatchNorm2d(out_channels)\n",
        "        self.dropout1 = nn.Dropout(0.1)\n",
        "        \n",
        "        self.relu = nn.ReLU(inplace=True)\n",
        "        \n",
        "        self.conv2 = conv3x3(out_channels, out_channels)\n",
        "        self.bn2 = nn.BatchNorm2d(out_channels)\n",
        "        self.dropout2 = nn.Dropout(0.1)\n",
        "        \n",
        "        self.downsample = downsample\n",
        "\n",
        "    def forward(self, x):\n",
        "        residual = x\n",
        "\n",
        "        out = self.conv1(x)\n",
        "        out = self.bn1(out)\n",
        "        # out = self.dropout1(out)\n",
        "        out = self.relu(out)\n",
        "        \n",
        "        out = self.conv2(out)\n",
        "        out = self.bn2(out)\n",
        "        # out = self.dropout2(out)\n",
        "        if self.downsample:\n",
        "            residual = self.downsample(x)\n",
        "        out += residual\n",
        "        out = self.relu(out)\n",
        "        \n",
        "        return out\n",
        "\n",
        "# ResNet\n",
        "class ResNet(nn.Module):\n",
        "    def __init__(self, block, layers, num_classes=10):\n",
        "        super(ResNet, self).__init__()\n",
        "        \n",
        "        self.in_channels = 64\n",
        "        \n",
        "        self.conv = conv3x3(in_channels=3, out_channels=64)\n",
        "        self.bn = nn.BatchNorm2d(64)\n",
        "        self.relu = nn.ReLU(inplace=True)\n",
        "\n",
        "        self.layer1 = self.make_layer(block=block, out_channels=64, blocks=layers[0], stride=1)\n",
        "        self.layer2 = self.make_layer(block=block, out_channels=128, blocks=layers[1], stride=2)\n",
        "        self.layer3 = self.make_layer(block=block, out_channels=256, blocks=layers[2], stride=2)\n",
        "        # self.layer4 = self.make_layer(block=block, out_channels=512, blocks=layers[3], stride=2)\n",
        "\n",
        "        self.avg_pool = nn.AvgPool2d(4)\n",
        "        # self.fc = nn.Linear(256, num_classes)\n",
        "        self.fc = nn.Linear(1024, num_classes)\n",
        "\n",
        "    def make_layer(self, block, out_channels, blocks, stride=1):\n",
        "        downsample = None\n",
        "        if (stride != 1) or (self.in_channels != out_channels):\n",
        "            downsample = nn.Sequential(\n",
        "                conv3x3(self.in_channels, out_channels, stride=stride),\n",
        "                nn.BatchNorm2d(out_channels))\n",
        "        layers = []\n",
        "        layers.append(block(self.in_channels, out_channels, stride, downsample))\n",
        "        self.in_channels = out_channels\n",
        "        for i in range(1, blocks):\n",
        "            layers.append(block(out_channels, out_channels))\n",
        "        return nn.Sequential(*layers)\n",
        "\n",
        "    def forward(self, x):\n",
        "        out = self.conv(x)\n",
        "        out = self.bn(out)\n",
        "        out = self.relu(out)\n",
        "        out = self.layer1(out)\n",
        "        out = self.layer2(out)\n",
        "        out = self.layer3(out)\n",
        "        # out = self.layer4(out)\n",
        "        out = self.avg_pool(out)\n",
        "        out = out.view(out.size(0), -1)\n",
        "        out = self.fc(out)\n",
        "        return F.log_softmax(out, dim=-1)\n",
        "\n",
        "def ResNet18():\n",
        "    # return ResNet(ResidualBlock, [2, 2, 2, 2])\n",
        "    return ResNet(ResidualBlock, [2, 4, 3])"
      ]
    },
    {
      "cell_type": "code",
      "execution_count": 10,
      "metadata": {
        "execution": {
          "iopub.execute_input": "2020-09-18T14:06:42.764813Z",
          "iopub.status.busy": "2020-09-18T14:06:42.764098Z",
          "iopub.status.idle": "2020-09-18T14:06:48.527600Z",
          "shell.execute_reply": "2020-09-18T14:06:48.528219Z"
        },
        "papermill": {
          "duration": 5.783641,
          "end_time": "2020-09-18T14:06:48.528379",
          "exception": false,
          "start_time": "2020-09-18T14:06:42.744738",
          "status": "completed"
        },
        "tags": [],
        "colab": {
          "base_uri": "https://localhost:8080/"
        },
        "id": "INT7cGhKKs_k",
        "outputId": "c3dc9fc6-d54c-4ef4-94b1-f88c5c84dfb5"
      },
      "outputs": [
        {
          "output_type": "stream",
          "name": "stdout",
          "text": [
            "----------------------------------------------------------------\n",
            "        Layer (type)               Output Shape         Param #\n",
            "================================================================\n",
            "            Conv2d-1           [-1, 64, 32, 32]           1,728\n",
            "       BatchNorm2d-2           [-1, 64, 32, 32]             128\n",
            "              ReLU-3           [-1, 64, 32, 32]               0\n",
            "            Conv2d-4           [-1, 64, 32, 32]          36,864\n",
            "       BatchNorm2d-5           [-1, 64, 32, 32]             128\n",
            "              ReLU-6           [-1, 64, 32, 32]               0\n",
            "            Conv2d-7           [-1, 64, 32, 32]          36,864\n",
            "       BatchNorm2d-8           [-1, 64, 32, 32]             128\n",
            "              ReLU-9           [-1, 64, 32, 32]               0\n",
            "    ResidualBlock-10           [-1, 64, 32, 32]               0\n",
            "           Conv2d-11           [-1, 64, 32, 32]          36,864\n",
            "      BatchNorm2d-12           [-1, 64, 32, 32]             128\n",
            "             ReLU-13           [-1, 64, 32, 32]               0\n",
            "           Conv2d-14           [-1, 64, 32, 32]          36,864\n",
            "      BatchNorm2d-15           [-1, 64, 32, 32]             128\n",
            "             ReLU-16           [-1, 64, 32, 32]               0\n",
            "    ResidualBlock-17           [-1, 64, 32, 32]               0\n",
            "           Conv2d-18          [-1, 128, 16, 16]          73,728\n",
            "      BatchNorm2d-19          [-1, 128, 16, 16]             256\n",
            "             ReLU-20          [-1, 128, 16, 16]               0\n",
            "           Conv2d-21          [-1, 128, 16, 16]         147,456\n",
            "      BatchNorm2d-22          [-1, 128, 16, 16]             256\n",
            "           Conv2d-23          [-1, 128, 16, 16]          73,728\n",
            "      BatchNorm2d-24          [-1, 128, 16, 16]             256\n",
            "             ReLU-25          [-1, 128, 16, 16]               0\n",
            "    ResidualBlock-26          [-1, 128, 16, 16]               0\n",
            "           Conv2d-27          [-1, 128, 16, 16]         147,456\n",
            "      BatchNorm2d-28          [-1, 128, 16, 16]             256\n",
            "             ReLU-29          [-1, 128, 16, 16]               0\n",
            "           Conv2d-30          [-1, 128, 16, 16]         147,456\n",
            "      BatchNorm2d-31          [-1, 128, 16, 16]             256\n",
            "             ReLU-32          [-1, 128, 16, 16]               0\n",
            "    ResidualBlock-33          [-1, 128, 16, 16]               0\n",
            "           Conv2d-34          [-1, 128, 16, 16]         147,456\n",
            "      BatchNorm2d-35          [-1, 128, 16, 16]             256\n",
            "             ReLU-36          [-1, 128, 16, 16]               0\n",
            "           Conv2d-37          [-1, 128, 16, 16]         147,456\n",
            "      BatchNorm2d-38          [-1, 128, 16, 16]             256\n",
            "             ReLU-39          [-1, 128, 16, 16]               0\n",
            "    ResidualBlock-40          [-1, 128, 16, 16]               0\n",
            "           Conv2d-41          [-1, 128, 16, 16]         147,456\n",
            "      BatchNorm2d-42          [-1, 128, 16, 16]             256\n",
            "             ReLU-43          [-1, 128, 16, 16]               0\n",
            "           Conv2d-44          [-1, 128, 16, 16]         147,456\n",
            "      BatchNorm2d-45          [-1, 128, 16, 16]             256\n",
            "             ReLU-46          [-1, 128, 16, 16]               0\n",
            "    ResidualBlock-47          [-1, 128, 16, 16]               0\n",
            "           Conv2d-48            [-1, 256, 8, 8]         294,912\n",
            "      BatchNorm2d-49            [-1, 256, 8, 8]             512\n",
            "             ReLU-50            [-1, 256, 8, 8]               0\n",
            "           Conv2d-51            [-1, 256, 8, 8]         589,824\n",
            "      BatchNorm2d-52            [-1, 256, 8, 8]             512\n",
            "           Conv2d-53            [-1, 256, 8, 8]         294,912\n",
            "      BatchNorm2d-54            [-1, 256, 8, 8]             512\n",
            "             ReLU-55            [-1, 256, 8, 8]               0\n",
            "    ResidualBlock-56            [-1, 256, 8, 8]               0\n",
            "           Conv2d-57            [-1, 256, 8, 8]         589,824\n",
            "      BatchNorm2d-58            [-1, 256, 8, 8]             512\n",
            "             ReLU-59            [-1, 256, 8, 8]               0\n",
            "           Conv2d-60            [-1, 256, 8, 8]         589,824\n",
            "      BatchNorm2d-61            [-1, 256, 8, 8]             512\n",
            "             ReLU-62            [-1, 256, 8, 8]               0\n",
            "    ResidualBlock-63            [-1, 256, 8, 8]               0\n",
            "           Conv2d-64            [-1, 256, 8, 8]         589,824\n",
            "      BatchNorm2d-65            [-1, 256, 8, 8]             512\n",
            "             ReLU-66            [-1, 256, 8, 8]               0\n",
            "           Conv2d-67            [-1, 256, 8, 8]         589,824\n",
            "      BatchNorm2d-68            [-1, 256, 8, 8]             512\n",
            "             ReLU-69            [-1, 256, 8, 8]               0\n",
            "    ResidualBlock-70            [-1, 256, 8, 8]               0\n",
            "        AvgPool2d-71            [-1, 256, 2, 2]               0\n",
            "           Linear-72                   [-1, 10]          10,250\n",
            "================================================================\n",
            "Total params: 4,884,554\n",
            "Trainable params: 4,884,554\n",
            "Non-trainable params: 0\n",
            "----------------------------------------------------------------\n",
            "Input size (MB): 0.01\n",
            "Forward/backward pass size (MB): 18.88\n",
            "Params size (MB): 18.63\n",
            "Estimated Total Size (MB): 37.53\n",
            "----------------------------------------------------------------\n"
          ]
        }
      ],
      "source": [
        "# Importing Model and printing Summary\n",
        "model = ResNet18().to(device)\n",
        "summary(model, input_size=(3,32,32))"
      ]
    },
    {
      "cell_type": "code",
      "execution_count": 11,
      "metadata": {
        "execution": {
          "iopub.execute_input": "2020-09-18T14:06:48.577693Z",
          "iopub.status.busy": "2020-09-18T14:06:48.576994Z",
          "iopub.status.idle": "2020-09-18T14:06:48.581591Z",
          "shell.execute_reply": "2020-09-18T14:06:48.581094Z"
        },
        "papermill": {
          "duration": 0.03332,
          "end_time": "2020-09-18T14:06:48.581710",
          "exception": false,
          "start_time": "2020-09-18T14:06:48.548390",
          "status": "completed"
        },
        "tags": [],
        "id": "-53UyTmsKs_m"
      },
      "outputs": [],
      "source": [
        "from tqdm import tqdm\n",
        "from torch import nn\n",
        "import torch.nn\n",
        "from torch.functional import F\n",
        "import os\n",
        "\n",
        "\n",
        "def model_training(model, device, train_dataloader, optimizer, train_acc, train_losses):\n",
        "            \n",
        "    model.train()\n",
        "    pbar = tqdm(train_dataloader)\n",
        "    correct = 0\n",
        "    processed = 0\n",
        "    running_loss = 0.0\n",
        "\n",
        "    for batch_idx, (data, target) in enumerate(pbar):\n",
        "        data, target = data.to(device), target.to(device)\n",
        "        optimizer.zero_grad()\n",
        "        y_pred = model(data)\n",
        "        loss = F.nll_loss(y_pred, target)\n",
        "        \n",
        "\n",
        "        # train_losses.append(loss.item())\n",
        "        loss.backward()\n",
        "        optimizer.step()\n",
        "\n",
        "        pred = y_pred.argmax(dim=1, keepdim=True)\n",
        "        correct += pred.eq(target.view_as(pred)).sum().item()\n",
        "        processed += len(data)\n",
        "        \n",
        "        # print statistics\n",
        "        \n",
        "        running_loss += loss.item()\n",
        "        pbar.set_description(desc=f'Batch_id={batch_idx} Batch Loss={loss.item()} Running Loss={running_loss} Running Accuracy={100*correct/processed:0.2f}')\n",
        "        # train_acc.append(100*correct/processed)\n",
        "    \n",
        "    train_losses.append(running_loss)\n",
        "    train_acc.append(100*correct/processed)"
      ]
    },
    {
      "cell_type": "code",
      "execution_count": 12,
      "metadata": {
        "execution": {
          "iopub.execute_input": "2020-09-18T14:06:48.629732Z",
          "iopub.status.busy": "2020-09-18T14:06:48.628793Z",
          "iopub.status.idle": "2020-09-18T14:06:48.631384Z",
          "shell.execute_reply": "2020-09-18T14:06:48.631909Z"
        },
        "papermill": {
          "duration": 0.03462,
          "end_time": "2020-09-18T14:06:48.632026",
          "exception": false,
          "start_time": "2020-09-18T14:06:48.597406",
          "status": "completed"
        },
        "tags": [],
        "id": "E4BrK-0EKs_n"
      },
      "outputs": [],
      "source": [
        "import torch\n",
        "import os\n",
        "from torch.functional import F\n",
        "\n",
        "cwd = os.getcwd()\n",
        "\n",
        "def model_testing(model, device, test_dataloader, test_acc, test_losses, misclassified = []):\n",
        "    \n",
        "    model.eval()\n",
        "    test_loss = 0\n",
        "    correct = 0\n",
        "    class_correct = list(0. for i in range(10))\n",
        "    class_total = list(0. for i in range(10))\n",
        "    # label = 0\n",
        "    classes = ('plane', 'car', 'bird', 'cat',\n",
        "           'deer', 'dog', 'frog', 'horse', 'ship', 'truck')\n",
        "    \n",
        "    with torch.no_grad():\n",
        "\n",
        "        for index, (data, target) in enumerate(test_dataloader):\n",
        "            data, target = data.to(device), target.to(device)\n",
        "            output = model(data)\n",
        "            pred = output.argmax(dim=1, keepdim=True)\n",
        "            \n",
        "            for d,i,j in zip(data, pred, target):\n",
        "                if i != j:\n",
        "                    misclassified.append([d.cpu(),i[0].cpu(),j.cpu()])\n",
        "\n",
        "            test_loss += F.nll_loss(output, target, reduction='sum').item()\n",
        "            correct += pred.eq(target.view_as(pred)).sum().item()\n",
        "    test_loss /= len(test_dataloader.dataset)\n",
        "    test_losses.append(test_loss)\n",
        "    \n",
        "    print('\\nTest set: Average loss: {:.4f}, Accuracy: {}/{} ({:.2f}%)\\n'.format(\n",
        "        test_loss, correct, len(test_dataloader.dataset),\n",
        "        100. * correct / len(test_dataloader.dataset)))\n",
        "    \n",
        "    test_acc.append(100. * correct / len(test_dataloader.dataset))\n",
        "    return misclassified, correct / len(test_dataloader.dataset)"
      ]
    },
    {
      "cell_type": "code",
      "source": [
        "def model_evaluation(model, device, loader):\n",
        "    \n",
        "    epoch_loss = 0\n",
        "    epoch_acc = 0\n",
        "    \n",
        "    model.eval()\n",
        "    \n",
        "    with torch.no_grad():\n",
        "        \n",
        "        for (x, y) in loader:\n",
        "\n",
        "            x = x.to(device)\n",
        "            y = y.to(device)\n",
        "\n",
        "            y_pred = model(x)\n",
        "            loss = F.nll_loss(y_pred, y)\n",
        "        \n",
        "            pred = y_pred.argmax(dim=1, keepdim=True)\n",
        "            acc = pred.eq(y.view_as(pred)).sum()\n",
        "\n",
        "            epoch_loss += loss.item()\n",
        "            epoch_acc += acc.item()\n",
        "        \n",
        "    print('\\nValidation set: Average loss: {:.4f}, Accuracy: {}/{} ({:.2f}%)\\n'.format(\n",
        "    epoch_loss / len(loader.dataset), epoch_acc, len(loader.dataset),\n",
        "    100. * epoch_acc / len(loader.dataset)))\n",
        "\n",
        "    return epoch_loss, epoch_acc / len(loader.dataset)"
      ],
      "metadata": {
        "id": "ysDy3WkqUGb-"
      },
      "execution_count": 13,
      "outputs": []
    },
    {
      "cell_type": "code",
      "source": [
        "# Defining parameters\n",
        "\n",
        "criterion = nn.CrossEntropyLoss()\n",
        "\n",
        "# optimizer = optim.SGD(model.parameters(), lr=0.05, momentum=0.9)\n",
        "optimizer = optim.SGD(model.parameters(), lr=0.01, momentum=0.9)\n",
        "\n",
        "scheduler = ReduceLROnPlateau(optimizer, mode='min', factor=0.1, patience=2, threshold=0.0001, threshold_mode='rel', cooldown=0, min_lr=0, eps=1e-08, verbose=True)\n",
        "# scheduler = ReduceLROnPlateau(optimizer, mode='min', factor=0.1, patience=2, threshold=0.001, threshold_mode='rel', cooldown=0, min_lr=0, eps=1e-08, verbose=True)\n",
        "# scheduler = StepLR(optimizer, step_size=15, gamma=0.1)"
      ],
      "metadata": {
        "id": "L7LSCkvhAdb0"
      },
      "execution_count": 14,
      "outputs": []
    },
    {
      "cell_type": "code",
      "source": [
        "import pandas\n",
        "\n",
        "def save_to_csv(csvname, train_losses, train_accs, test_losses, test_accs):\n",
        "  df = pandas.DataFrame()\n",
        "  df[\"epoch\"] = [i+1 for i in range(len(train_losses))]\n",
        "  df[\"train_loss\"] = train_losses\n",
        "  df[\"test_loss\"] = test_losses\n",
        "  df[\"train_acc\"] = train_accs\n",
        "  df[\"test_acc\"] = test_accs\n",
        "  df.to_csv(csvname)"
      ],
      "metadata": {
        "id": "xI9GvsdNxnAv"
      },
      "execution_count": 15,
      "outputs": []
    },
    {
      "cell_type": "code",
      "execution_count": 16,
      "metadata": {
        "execution": {
          "iopub.execute_input": "2020-09-18T14:06:48.676683Z",
          "iopub.status.busy": "2020-09-18T14:06:48.675972Z",
          "iopub.status.idle": "2020-09-18T14:33:04.548416Z",
          "shell.execute_reply": "2020-09-18T14:33:04.549364Z"
        },
        "papermill": {
          "duration": 1575.900797,
          "end_time": "2020-09-18T14:33:04.549700",
          "exception": false,
          "start_time": "2020-09-18T14:06:48.648903",
          "status": "completed"
        },
        "tags": [],
        "colab": {
          "base_uri": "https://localhost:8080/"
        },
        "id": "rtrFA-RCKs_o",
        "outputId": "7051fd8c-ea59-4745-e8f1-93439d152560"
      },
      "outputs": [
        {
          "output_type": "stream",
          "name": "stdout",
          "text": [
            "EPOCHS : 0\n"
          ]
        },
        {
          "output_type": "stream",
          "name": "stderr",
          "text": [
            "Batch_id=87 Batch Loss=1.3026342391967773 Running Loss=141.83315289020538 Running Accuracy=40.93: 100%|██████████| 88/88 [00:41<00:00,  2.11it/s]\n"
          ]
        },
        {
          "output_type": "stream",
          "name": "stdout",
          "text": [
            "\n",
            "Validation set: Average loss: 0.0027, Accuracy: 2561/5000 (51.22%)\n",
            "\n",
            "\n",
            "Test set: Average loss: 1.3482, Accuracy: 5132/10000 (51.32%)\n",
            "\n",
            "EPOCHS : 1\n"
          ]
        },
        {
          "output_type": "stream",
          "name": "stderr",
          "text": [
            "Batch_id=87 Batch Loss=1.0655760765075684 Running Loss=101.83450788259506 Running Accuracy=58.38: 100%|██████████| 88/88 [00:43<00:00,  2.03it/s]\n"
          ]
        },
        {
          "output_type": "stream",
          "name": "stdout",
          "text": [
            "\n",
            "Validation set: Average loss: 0.0024, Accuracy: 3010/5000 (60.20%)\n",
            "\n",
            "\n",
            "Test set: Average loss: 1.1680, Accuracy: 5974/10000 (59.74%)\n",
            "\n",
            "EPOCHS : 2\n"
          ]
        },
        {
          "output_type": "stream",
          "name": "stderr",
          "text": [
            "Batch_id=87 Batch Loss=0.9061462879180908 Running Loss=81.41980081796646 Running Accuracy=67.17: 100%|██████████| 88/88 [00:46<00:00,  1.88it/s]\n"
          ]
        },
        {
          "output_type": "stream",
          "name": "stdout",
          "text": [
            "\n",
            "Validation set: Average loss: 0.0017, Accuracy: 3513/5000 (70.26%)\n",
            "\n",
            "\n",
            "Test set: Average loss: 0.8906, Accuracy: 6880/10000 (68.80%)\n",
            "\n",
            "EPOCHS : 3\n"
          ]
        },
        {
          "output_type": "stream",
          "name": "stderr",
          "text": [
            "Batch_id=87 Batch Loss=0.7559066414833069 Running Loss=70.29121881723404 Running Accuracy=71.88: 100%|██████████| 88/88 [00:45<00:00,  1.92it/s]\n"
          ]
        },
        {
          "output_type": "stream",
          "name": "stdout",
          "text": [
            "\n",
            "Validation set: Average loss: 0.0017, Accuracy: 3528/5000 (70.56%)\n",
            "\n",
            "\n",
            "Test set: Average loss: 0.8807, Accuracy: 7069/10000 (70.69%)\n",
            "\n",
            "EPOCHS : 4\n"
          ]
        },
        {
          "output_type": "stream",
          "name": "stderr",
          "text": [
            "Batch_id=87 Batch Loss=0.6943268179893494 Running Loss=61.663304805755615 Running Accuracy=75.48: 100%|██████████| 88/88 [00:46<00:00,  1.91it/s]\n"
          ]
        },
        {
          "output_type": "stream",
          "name": "stdout",
          "text": [
            "\n",
            "Validation set: Average loss: 0.0014, Accuracy: 3866/5000 (77.32%)\n",
            "\n",
            "\n",
            "Test set: Average loss: 0.6885, Accuracy: 7698/10000 (76.98%)\n",
            "\n",
            "EPOCHS : 5\n"
          ]
        },
        {
          "output_type": "stream",
          "name": "stderr",
          "text": [
            "Batch_id=87 Batch Loss=0.6592807173728943 Running Loss=55.768462777137756 Running Accuracy=77.94: 100%|██████████| 88/88 [00:46<00:00,  1.90it/s]\n"
          ]
        },
        {
          "output_type": "stream",
          "name": "stdout",
          "text": [
            "\n",
            "Validation set: Average loss: 0.0014, Accuracy: 3797/5000 (75.94%)\n",
            "\n",
            "\n",
            "Test set: Average loss: 0.7627, Accuracy: 7485/10000 (74.85%)\n",
            "\n",
            "EPOCHS : 6\n"
          ]
        },
        {
          "output_type": "stream",
          "name": "stderr",
          "text": [
            "Batch_id=87 Batch Loss=0.5630483627319336 Running Loss=51.32277208566666 Running Accuracy=79.66: 100%|██████████| 88/88 [00:45<00:00,  1.92it/s]\n"
          ]
        },
        {
          "output_type": "stream",
          "name": "stdout",
          "text": [
            "\n",
            "Validation set: Average loss: 0.0012, Accuracy: 4009/5000 (80.18%)\n",
            "\n",
            "\n",
            "Test set: Average loss: 0.6090, Accuracy: 7932/10000 (79.32%)\n",
            "\n",
            "EPOCHS : 7\n"
          ]
        },
        {
          "output_type": "stream",
          "name": "stderr",
          "text": [
            "Batch_id=87 Batch Loss=0.5883183479309082 Running Loss=47.84094628691673 Running Accuracy=81.04: 100%|██████████| 88/88 [00:46<00:00,  1.90it/s]\n"
          ]
        },
        {
          "output_type": "stream",
          "name": "stdout",
          "text": [
            "\n",
            "Validation set: Average loss: 0.0011, Accuracy: 4123/5000 (82.46%)\n",
            "\n",
            "\n",
            "Test set: Average loss: 0.5576, Accuracy: 8171/10000 (81.71%)\n",
            "\n",
            "EPOCHS : 8\n"
          ]
        },
        {
          "output_type": "stream",
          "name": "stderr",
          "text": [
            "Batch_id=87 Batch Loss=0.4488646984100342 Running Loss=44.251978904008865 Running Accuracy=82.33: 100%|██████████| 88/88 [00:46<00:00,  1.91it/s]\n"
          ]
        },
        {
          "output_type": "stream",
          "name": "stdout",
          "text": [
            "\n",
            "Validation set: Average loss: 0.0010, Accuracy: 4141/5000 (82.82%)\n",
            "\n",
            "\n",
            "Test set: Average loss: 0.5451, Accuracy: 8148/10000 (81.48%)\n",
            "\n",
            "EPOCHS : 9\n"
          ]
        },
        {
          "output_type": "stream",
          "name": "stderr",
          "text": [
            "Batch_id=87 Batch Loss=0.48558568954467773 Running Loss=41.59191158413887 Running Accuracy=83.48: 100%|██████████| 88/88 [00:46<00:00,  1.90it/s]\n"
          ]
        },
        {
          "output_type": "stream",
          "name": "stdout",
          "text": [
            "\n",
            "Validation set: Average loss: 0.0012, Accuracy: 4025/5000 (80.50%)\n",
            "\n",
            "\n",
            "Test set: Average loss: 0.6107, Accuracy: 8056/10000 (80.56%)\n",
            "\n",
            "EPOCHS : 10\n"
          ]
        },
        {
          "output_type": "stream",
          "name": "stderr",
          "text": [
            "Batch_id=87 Batch Loss=0.4339742362499237 Running Loss=39.512542217969894 Running Accuracy=84.08: 100%|██████████| 88/88 [00:46<00:00,  1.90it/s]\n"
          ]
        },
        {
          "output_type": "stream",
          "name": "stdout",
          "text": [
            "\n",
            "Validation set: Average loss: 0.0010, Accuracy: 4152/5000 (83.04%)\n",
            "\n",
            "\n",
            "Test set: Average loss: 0.5094, Accuracy: 8317/10000 (83.17%)\n",
            "\n",
            "EPOCHS : 11\n"
          ]
        },
        {
          "output_type": "stream",
          "name": "stderr",
          "text": [
            "Batch_id=87 Batch Loss=0.430716872215271 Running Loss=36.891684889793396 Running Accuracy=85.29: 100%|██████████| 88/88 [00:46<00:00,  1.90it/s]\n"
          ]
        },
        {
          "output_type": "stream",
          "name": "stdout",
          "text": [
            "\n",
            "Validation set: Average loss: 0.0012, Accuracy: 4009/5000 (80.18%)\n",
            "\n",
            "\n",
            "Test set: Average loss: 0.6433, Accuracy: 7949/10000 (79.49%)\n",
            "\n",
            "EPOCHS : 12\n"
          ]
        },
        {
          "output_type": "stream",
          "name": "stderr",
          "text": [
            "Batch_id=87 Batch Loss=0.35640352964401245 Running Loss=34.830849558115005 Running Accuracy=86.18: 100%|██████████| 88/88 [00:46<00:00,  1.91it/s]\n"
          ]
        },
        {
          "output_type": "stream",
          "name": "stdout",
          "text": [
            "\n",
            "Validation set: Average loss: 0.0012, Accuracy: 4068/5000 (81.36%)\n",
            "\n",
            "\n",
            "Test set: Average loss: 0.6207, Accuracy: 8044/10000 (80.44%)\n",
            "\n",
            "EPOCHS : 13\n"
          ]
        },
        {
          "output_type": "stream",
          "name": "stderr",
          "text": [
            "Batch_id=87 Batch Loss=0.32860976457595825 Running Loss=33.141071647405624 Running Accuracy=86.70: 100%|██████████| 88/88 [00:46<00:00,  1.90it/s]\n"
          ]
        },
        {
          "output_type": "stream",
          "name": "stdout",
          "text": [
            "\n",
            "Validation set: Average loss: 0.0009, Accuracy: 4229/5000 (84.58%)\n",
            "\n",
            "\n",
            "Test set: Average loss: 0.4843, Accuracy: 8446/10000 (84.46%)\n",
            "\n",
            "EPOCHS : 14\n"
          ]
        },
        {
          "output_type": "stream",
          "name": "stderr",
          "text": [
            "Batch_id=87 Batch Loss=0.32461923360824585 Running Loss=32.02491647005081 Running Accuracy=87.19: 100%|██████████| 88/88 [00:46<00:00,  1.90it/s]\n"
          ]
        },
        {
          "output_type": "stream",
          "name": "stdout",
          "text": [
            "\n",
            "Validation set: Average loss: 0.0009, Accuracy: 4260/5000 (85.20%)\n",
            "\n",
            "\n",
            "Test set: Average loss: 0.4718, Accuracy: 8449/10000 (84.49%)\n",
            "\n",
            "EPOCHS : 15\n"
          ]
        },
        {
          "output_type": "stream",
          "name": "stderr",
          "text": [
            "Batch_id=87 Batch Loss=0.3428543210029602 Running Loss=30.609753474593163 Running Accuracy=87.83: 100%|██████████| 88/88 [00:46<00:00,  1.91it/s]\n"
          ]
        },
        {
          "output_type": "stream",
          "name": "stdout",
          "text": [
            "\n",
            "Validation set: Average loss: 0.0009, Accuracy: 4244/5000 (84.88%)\n",
            "\n",
            "\n",
            "Test set: Average loss: 0.4691, Accuracy: 8418/10000 (84.18%)\n",
            "\n",
            "EPOCHS : 16\n"
          ]
        },
        {
          "output_type": "stream",
          "name": "stderr",
          "text": [
            "Batch_id=87 Batch Loss=0.37025824189186096 Running Loss=29.401733696460724 Running Accuracy=88.32: 100%|██████████| 88/88 [00:46<00:00,  1.90it/s]\n"
          ]
        },
        {
          "output_type": "stream",
          "name": "stdout",
          "text": [
            "\n",
            "Validation set: Average loss: 0.0010, Accuracy: 4205/5000 (84.10%)\n",
            "\n",
            "\n",
            "Test set: Average loss: 0.5034, Accuracy: 8427/10000 (84.27%)\n",
            "\n",
            "EPOCHS : 17\n"
          ]
        },
        {
          "output_type": "stream",
          "name": "stderr",
          "text": [
            "Batch_id=87 Batch Loss=0.2803267240524292 Running Loss=28.000848948955536 Running Accuracy=88.70: 100%|██████████| 88/88 [00:46<00:00,  1.90it/s]\n"
          ]
        },
        {
          "output_type": "stream",
          "name": "stdout",
          "text": [
            "\n",
            "Validation set: Average loss: 0.0008, Accuracy: 4341/5000 (86.82%)\n",
            "\n",
            "\n",
            "Test set: Average loss: 0.4496, Accuracy: 8536/10000 (85.36%)\n",
            "\n",
            "EPOCHS : 18\n"
          ]
        },
        {
          "output_type": "stream",
          "name": "stderr",
          "text": [
            "Batch_id=87 Batch Loss=0.3060428202152252 Running Loss=26.349131643772125 Running Accuracy=89.41: 100%|██████████| 88/88 [00:46<00:00,  1.90it/s]\n"
          ]
        },
        {
          "output_type": "stream",
          "name": "stdout",
          "text": [
            "\n",
            "Validation set: Average loss: 0.0008, Accuracy: 4329/5000 (86.58%)\n",
            "\n",
            "\n",
            "Test set: Average loss: 0.4442, Accuracy: 8599/10000 (85.99%)\n",
            "\n",
            "EPOCHS : 19\n"
          ]
        },
        {
          "output_type": "stream",
          "name": "stderr",
          "text": [
            "Batch_id=87 Batch Loss=0.3788161277770996 Running Loss=25.21545046567917 Running Accuracy=89.80: 100%|██████████| 88/88 [00:46<00:00,  1.91it/s]\n"
          ]
        },
        {
          "output_type": "stream",
          "name": "stdout",
          "text": [
            "\n",
            "Validation set: Average loss: 0.0008, Accuracy: 4339/5000 (86.78%)\n",
            "\n",
            "\n",
            "Test set: Average loss: 0.4276, Accuracy: 8598/10000 (85.98%)\n",
            "\n",
            "EPOCHS : 20\n"
          ]
        },
        {
          "output_type": "stream",
          "name": "stderr",
          "text": [
            "Batch_id=87 Batch Loss=0.3129217326641083 Running Loss=24.483189433813095 Running Accuracy=90.17: 100%|██████████| 88/88 [00:46<00:00,  1.90it/s]\n"
          ]
        },
        {
          "output_type": "stream",
          "name": "stdout",
          "text": [
            "\n",
            "Validation set: Average loss: 0.0008, Accuracy: 4303/5000 (86.06%)\n",
            "\n",
            "\n",
            "Test set: Average loss: 0.4301, Accuracy: 8609/10000 (86.09%)\n",
            "\n",
            "EPOCHS : 21\n"
          ]
        },
        {
          "output_type": "stream",
          "name": "stderr",
          "text": [
            "Batch_id=87 Batch Loss=0.2408805936574936 Running Loss=22.51693929731846 Running Accuracy=90.94: 100%|██████████| 88/88 [00:46<00:00,  1.90it/s]\n"
          ]
        },
        {
          "output_type": "stream",
          "name": "stdout",
          "text": [
            "\n",
            "Validation set: Average loss: 0.0009, Accuracy: 4251/5000 (85.02%)\n",
            "\n",
            "\n",
            "Test set: Average loss: 0.4690, Accuracy: 8512/10000 (85.12%)\n",
            "\n",
            "EPOCHS : 22\n"
          ]
        },
        {
          "output_type": "stream",
          "name": "stderr",
          "text": [
            "Batch_id=87 Batch Loss=0.24964900314807892 Running Loss=22.399624407291412 Running Accuracy=90.87: 100%|██████████| 88/88 [00:46<00:00,  1.90it/s]\n"
          ]
        },
        {
          "output_type": "stream",
          "name": "stdout",
          "text": [
            "\n",
            "Validation set: Average loss: 0.0009, Accuracy: 4265/5000 (85.30%)\n",
            "\n",
            "\n",
            "Test set: Average loss: 0.4965, Accuracy: 8472/10000 (84.72%)\n",
            "\n",
            "EPOCHS : 23\n"
          ]
        },
        {
          "output_type": "stream",
          "name": "stderr",
          "text": [
            "Batch_id=87 Batch Loss=0.3190872371196747 Running Loss=20.925071239471436 Running Accuracy=91.61: 100%|██████████| 88/88 [00:46<00:00,  1.91it/s]\n"
          ]
        },
        {
          "output_type": "stream",
          "name": "stdout",
          "text": [
            "\n",
            "Validation set: Average loss: 0.0008, Accuracy: 4388/5000 (87.76%)\n",
            "\n",
            "\n",
            "Test set: Average loss: 0.4171, Accuracy: 8729/10000 (87.29%)\n",
            "\n",
            "EPOCHS : 24\n"
          ]
        },
        {
          "output_type": "stream",
          "name": "stderr",
          "text": [
            "Batch_id=87 Batch Loss=0.2561021149158478 Running Loss=20.92776320874691 Running Accuracy=91.50: 100%|██████████| 88/88 [00:46<00:00,  1.90it/s]\n"
          ]
        },
        {
          "output_type": "stream",
          "name": "stdout",
          "text": [
            "\n",
            "Validation set: Average loss: 0.0007, Accuracy: 4407/5000 (88.14%)\n",
            "\n",
            "\n",
            "Test set: Average loss: 0.3907, Accuracy: 8774/10000 (87.74%)\n",
            "\n",
            "EPOCHS : 25\n"
          ]
        },
        {
          "output_type": "stream",
          "name": "stderr",
          "text": [
            "Batch_id=87 Batch Loss=0.25622931122779846 Running Loss=20.003806084394455 Running Accuracy=91.91: 100%|██████████| 88/88 [00:46<00:00,  1.90it/s]\n"
          ]
        },
        {
          "output_type": "stream",
          "name": "stdout",
          "text": [
            "\n",
            "Validation set: Average loss: 0.0008, Accuracy: 4423/5000 (88.46%)\n",
            "\n",
            "\n",
            "Test set: Average loss: 0.3967, Accuracy: 8810/10000 (88.10%)\n",
            "\n",
            "EPOCHS : 26\n"
          ]
        },
        {
          "output_type": "stream",
          "name": "stderr",
          "text": [
            "Batch_id=87 Batch Loss=0.2593127489089966 Running Loss=18.89530546963215 Running Accuracy=92.27: 100%|██████████| 88/88 [00:46<00:00,  1.90it/s]\n"
          ]
        },
        {
          "output_type": "stream",
          "name": "stdout",
          "text": [
            "\n",
            "Validation set: Average loss: 0.0008, Accuracy: 4409/5000 (88.18%)\n",
            "\n",
            "\n",
            "Test set: Average loss: 0.4205, Accuracy: 8721/10000 (87.21%)\n",
            "\n",
            "EPOCHS : 27\n"
          ]
        },
        {
          "output_type": "stream",
          "name": "stderr",
          "text": [
            "Batch_id=87 Batch Loss=0.19440549612045288 Running Loss=17.874449595808983 Running Accuracy=92.76: 100%|██████████| 88/88 [00:46<00:00,  1.90it/s]\n"
          ]
        },
        {
          "output_type": "stream",
          "name": "stdout",
          "text": [
            "\n",
            "Validation set: Average loss: 0.0007, Accuracy: 4445/5000 (88.90%)\n",
            "\n",
            "\n",
            "Test set: Average loss: 0.3820, Accuracy: 8816/10000 (88.16%)\n",
            "\n",
            "EPOCHS : 28\n"
          ]
        },
        {
          "output_type": "stream",
          "name": "stderr",
          "text": [
            "Batch_id=87 Batch Loss=0.19395293295383453 Running Loss=17.188915714621544 Running Accuracy=93.19: 100%|██████████| 88/88 [00:46<00:00,  1.90it/s]\n"
          ]
        },
        {
          "output_type": "stream",
          "name": "stdout",
          "text": [
            "\n",
            "Validation set: Average loss: 0.0010, Accuracy: 4260/5000 (85.20%)\n",
            "\n",
            "\n",
            "Test set: Average loss: 0.5311, Accuracy: 8440/10000 (84.40%)\n",
            "\n",
            "EPOCHS : 29\n"
          ]
        },
        {
          "output_type": "stream",
          "name": "stderr",
          "text": [
            "Batch_id=87 Batch Loss=0.20274454355239868 Running Loss=16.48752960562706 Running Accuracy=93.30: 100%|██████████| 88/88 [00:46<00:00,  1.90it/s]\n"
          ]
        },
        {
          "output_type": "stream",
          "name": "stdout",
          "text": [
            "\n",
            "Validation set: Average loss: 0.0009, Accuracy: 4336/5000 (86.72%)\n",
            "\n",
            "\n",
            "Test set: Average loss: 0.4761, Accuracy: 8638/10000 (86.38%)\n",
            "\n",
            "EPOCHS : 30\n"
          ]
        },
        {
          "output_type": "stream",
          "name": "stderr",
          "text": [
            "Batch_id=87 Batch Loss=0.23135751485824585 Running Loss=16.384023427963257 Running Accuracy=93.38: 100%|██████████| 88/88 [00:46<00:00,  1.90it/s]\n"
          ]
        },
        {
          "output_type": "stream",
          "name": "stdout",
          "text": [
            "\n",
            "Validation set: Average loss: 0.0008, Accuracy: 4406/5000 (88.12%)\n",
            "\n",
            "\n",
            "Test set: Average loss: 0.4055, Accuracy: 8758/10000 (87.58%)\n",
            "\n",
            "EPOCHS : 31\n"
          ]
        },
        {
          "output_type": "stream",
          "name": "stderr",
          "text": [
            "Batch_id=87 Batch Loss=0.20473982393741608 Running Loss=15.433836713433266 Running Accuracy=93.77: 100%|██████████| 88/88 [00:46<00:00,  1.90it/s]\n"
          ]
        },
        {
          "output_type": "stream",
          "name": "stdout",
          "text": [
            "\n",
            "Validation set: Average loss: 0.0008, Accuracy: 4373/5000 (87.46%)\n",
            "\n",
            "\n",
            "Test set: Average loss: 0.4396, Accuracy: 8651/10000 (86.51%)\n",
            "\n",
            "EPOCHS : 32\n"
          ]
        },
        {
          "output_type": "stream",
          "name": "stderr",
          "text": [
            "Batch_id=87 Batch Loss=0.16734649240970612 Running Loss=14.708011664450169 Running Accuracy=94.07: 100%|██████████| 88/88 [00:46<00:00,  1.90it/s]\n"
          ]
        },
        {
          "output_type": "stream",
          "name": "stdout",
          "text": [
            "\n",
            "Validation set: Average loss: 0.0007, Accuracy: 4426/5000 (88.52%)\n",
            "\n",
            "\n",
            "Test set: Average loss: 0.3919, Accuracy: 8832/10000 (88.32%)\n",
            "\n",
            "EPOCHS : 33\n"
          ]
        },
        {
          "output_type": "stream",
          "name": "stderr",
          "text": [
            "Batch_id=87 Batch Loss=0.15129807591438293 Running Loss=14.075471177697182 Running Accuracy=94.25: 100%|██████████| 88/88 [00:46<00:00,  1.90it/s]\n"
          ]
        },
        {
          "output_type": "stream",
          "name": "stdout",
          "text": [
            "\n",
            "Validation set: Average loss: 0.0009, Accuracy: 4375/5000 (87.50%)\n",
            "\n",
            "\n",
            "Test set: Average loss: 0.4369, Accuracy: 8757/10000 (87.57%)\n",
            "\n",
            "EPOCHS : 34\n"
          ]
        },
        {
          "output_type": "stream",
          "name": "stderr",
          "text": [
            "Batch_id=87 Batch Loss=0.17105819284915924 Running Loss=14.873145401477814 Running Accuracy=93.89: 100%|██████████| 88/88 [00:46<00:00,  1.90it/s]\n"
          ]
        },
        {
          "output_type": "stream",
          "name": "stdout",
          "text": [
            "\n",
            "Validation set: Average loss: 0.0009, Accuracy: 4357/5000 (87.14%)\n",
            "\n",
            "\n",
            "Test set: Average loss: 0.4804, Accuracy: 8687/10000 (86.87%)\n",
            "\n",
            "EPOCHS : 35\n"
          ]
        },
        {
          "output_type": "stream",
          "name": "stderr",
          "text": [
            "Batch_id=87 Batch Loss=0.17951001226902008 Running Loss=13.28392668813467 Running Accuracy=94.51: 100%|██████████| 88/88 [00:46<00:00,  1.90it/s]\n"
          ]
        },
        {
          "output_type": "stream",
          "name": "stdout",
          "text": [
            "\n",
            "Validation set: Average loss: 0.0007, Accuracy: 4454/5000 (89.08%)\n",
            "\n",
            "\n",
            "Test set: Average loss: 0.3839, Accuracy: 8868/10000 (88.68%)\n",
            "\n",
            "EPOCHS : 36\n"
          ]
        },
        {
          "output_type": "stream",
          "name": "stderr",
          "text": [
            "Batch_id=87 Batch Loss=0.14657139778137207 Running Loss=13.10165672749281 Running Accuracy=94.70: 100%|██████████| 88/88 [00:46<00:00,  1.91it/s]\n"
          ]
        },
        {
          "output_type": "stream",
          "name": "stdout",
          "text": [
            "\n",
            "Validation set: Average loss: 0.0008, Accuracy: 4435/5000 (88.70%)\n",
            "\n",
            "\n",
            "Test set: Average loss: 0.3994, Accuracy: 8895/10000 (88.95%)\n",
            "\n",
            "EPOCHS : 37\n"
          ]
        },
        {
          "output_type": "stream",
          "name": "stderr",
          "text": [
            "Batch_id=87 Batch Loss=0.12978442013263702 Running Loss=12.275576993823051 Running Accuracy=95.03: 100%|██████████| 88/88 [00:46<00:00,  1.90it/s]\n"
          ]
        },
        {
          "output_type": "stream",
          "name": "stdout",
          "text": [
            "\n",
            "Validation set: Average loss: 0.0009, Accuracy: 4386/5000 (87.72%)\n",
            "\n",
            "\n",
            "Test set: Average loss: 0.4623, Accuracy: 8659/10000 (86.59%)\n",
            "\n",
            "EPOCHS : 38\n"
          ]
        },
        {
          "output_type": "stream",
          "name": "stderr",
          "text": [
            "Batch_id=87 Batch Loss=0.12193818390369415 Running Loss=11.965285308659077 Running Accuracy=95.22: 100%|██████████| 88/88 [00:46<00:00,  1.90it/s]\n"
          ]
        },
        {
          "output_type": "stream",
          "name": "stdout",
          "text": [
            "\n",
            "Validation set: Average loss: 0.0009, Accuracy: 4378/5000 (87.56%)\n",
            "\n",
            "\n",
            "Test set: Average loss: 0.4838, Accuracy: 8659/10000 (86.59%)\n",
            "\n",
            "EPOCHS : 39\n"
          ]
        },
        {
          "output_type": "stream",
          "name": "stderr",
          "text": [
            "Batch_id=87 Batch Loss=0.1267213374376297 Running Loss=11.971237555146217 Running Accuracy=95.05: 100%|██████████| 88/88 [00:46<00:00,  1.90it/s]\n"
          ]
        },
        {
          "output_type": "stream",
          "name": "stdout",
          "text": [
            "\n",
            "Validation set: Average loss: 0.0009, Accuracy: 4360/5000 (87.20%)\n",
            "\n",
            "\n",
            "Test set: Average loss: 0.4680, Accuracy: 8715/10000 (87.15%)\n",
            "\n",
            "EPOCHS : 40\n"
          ]
        },
        {
          "output_type": "stream",
          "name": "stderr",
          "text": [
            "Batch_id=87 Batch Loss=0.11584887653589249 Running Loss=11.17170362919569 Running Accuracy=95.56: 100%|██████████| 88/88 [00:46<00:00,  1.91it/s]\n"
          ]
        },
        {
          "output_type": "stream",
          "name": "stdout",
          "text": [
            "\n",
            "Validation set: Average loss: 0.0009, Accuracy: 4388/5000 (87.76%)\n",
            "\n",
            "\n",
            "Test set: Average loss: 0.4717, Accuracy: 8721/10000 (87.21%)\n",
            "\n",
            "EPOCHS : 41\n"
          ]
        },
        {
          "output_type": "stream",
          "name": "stderr",
          "text": [
            "Batch_id=87 Batch Loss=0.1131228506565094 Running Loss=11.153933800756931 Running Accuracy=95.48: 100%|██████████| 88/88 [00:46<00:00,  1.89it/s]\n"
          ]
        },
        {
          "output_type": "stream",
          "name": "stdout",
          "text": [
            "\n",
            "Validation set: Average loss: 0.0008, Accuracy: 4444/5000 (88.88%)\n",
            "\n",
            "\n",
            "Test set: Average loss: 0.4161, Accuracy: 8863/10000 (88.63%)\n",
            "\n",
            "EPOCHS : 42\n"
          ]
        },
        {
          "output_type": "stream",
          "name": "stderr",
          "text": [
            "Batch_id=87 Batch Loss=0.09344815462827682 Running Loss=10.661332912743092 Running Accuracy=95.68: 100%|██████████| 88/88 [00:46<00:00,  1.91it/s]\n"
          ]
        },
        {
          "output_type": "stream",
          "name": "stdout",
          "text": [
            "\n",
            "Validation set: Average loss: 0.0009, Accuracy: 4399/5000 (87.98%)\n",
            "\n",
            "\n",
            "Test set: Average loss: 0.4434, Accuracy: 8784/10000 (87.84%)\n",
            "\n",
            "EPOCHS : 43\n"
          ]
        },
        {
          "output_type": "stream",
          "name": "stderr",
          "text": [
            "Batch_id=87 Batch Loss=0.13434451818466187 Running Loss=10.15209947526455 Running Accuracy=95.88: 100%|██████████| 88/88 [00:46<00:00,  1.90it/s]\n"
          ]
        },
        {
          "output_type": "stream",
          "name": "stdout",
          "text": [
            "\n",
            "Validation set: Average loss: 0.0008, Accuracy: 4449/5000 (88.98%)\n",
            "\n",
            "\n",
            "Test set: Average loss: 0.4223, Accuracy: 8833/10000 (88.33%)\n",
            "\n",
            "EPOCHS : 44\n"
          ]
        },
        {
          "output_type": "stream",
          "name": "stderr",
          "text": [
            "Batch_id=87 Batch Loss=0.14890046417713165 Running Loss=9.630962423980236 Running Accuracy=96.02: 100%|██████████| 88/88 [00:46<00:00,  1.91it/s]\n"
          ]
        },
        {
          "output_type": "stream",
          "name": "stdout",
          "text": [
            "\n",
            "Validation set: Average loss: 0.0009, Accuracy: 4430/5000 (88.60%)\n",
            "\n",
            "\n",
            "Test set: Average loss: 0.4505, Accuracy: 8817/10000 (88.17%)\n",
            "\n",
            "EPOCHS : 45\n"
          ]
        },
        {
          "output_type": "stream",
          "name": "stderr",
          "text": [
            "Batch_id=87 Batch Loss=0.15335002541542053 Running Loss=9.227747894823551 Running Accuracy=96.29: 100%|██████████| 88/88 [00:46<00:00,  1.89it/s]\n"
          ]
        },
        {
          "output_type": "stream",
          "name": "stdout",
          "text": [
            "\n",
            "Validation set: Average loss: 0.0008, Accuracy: 4429/5000 (88.58%)\n",
            "\n",
            "\n",
            "Test set: Average loss: 0.4207, Accuracy: 8858/10000 (88.58%)\n",
            "\n",
            "EPOCHS : 46\n"
          ]
        },
        {
          "output_type": "stream",
          "name": "stderr",
          "text": [
            "Batch_id=87 Batch Loss=0.10099635273218155 Running Loss=9.286622144281864 Running Accuracy=96.25: 100%|██████████| 88/88 [00:46<00:00,  1.91it/s]\n"
          ]
        },
        {
          "output_type": "stream",
          "name": "stdout",
          "text": [
            "\n",
            "Validation set: Average loss: 0.0008, Accuracy: 4488/5000 (89.76%)\n",
            "\n",
            "\n",
            "Test set: Average loss: 0.3955, Accuracy: 8928/10000 (89.28%)\n",
            "\n",
            "EPOCHS : 47\n"
          ]
        },
        {
          "output_type": "stream",
          "name": "stderr",
          "text": [
            "Batch_id=87 Batch Loss=0.14464052021503448 Running Loss=9.307762268930674 Running Accuracy=96.19: 100%|██████████| 88/88 [00:46<00:00,  1.90it/s]\n"
          ]
        },
        {
          "output_type": "stream",
          "name": "stdout",
          "text": [
            "\n",
            "Validation set: Average loss: 0.0011, Accuracy: 4324/5000 (86.48%)\n",
            "\n",
            "\n",
            "Test set: Average loss: 0.5326, Accuracy: 8659/10000 (86.59%)\n",
            "\n",
            "EPOCHS : 48\n"
          ]
        },
        {
          "output_type": "stream",
          "name": "stderr",
          "text": [
            "Batch_id=87 Batch Loss=0.09652478247880936 Running Loss=8.696509044617414 Running Accuracy=96.44: 100%|██████████| 88/88 [00:46<00:00,  1.90it/s]\n"
          ]
        },
        {
          "output_type": "stream",
          "name": "stdout",
          "text": [
            "\n",
            "Validation set: Average loss: 0.0008, Accuracy: 4425/5000 (88.50%)\n",
            "\n",
            "\n",
            "Test set: Average loss: 0.4557, Accuracy: 8813/10000 (88.13%)\n",
            "\n",
            "EPOCHS : 49\n"
          ]
        },
        {
          "output_type": "stream",
          "name": "stderr",
          "text": [
            "Batch_id=87 Batch Loss=0.0794776976108551 Running Loss=8.421167232096195 Running Accuracy=96.49: 100%|██████████| 88/88 [00:46<00:00,  1.90it/s]\n"
          ]
        },
        {
          "output_type": "stream",
          "name": "stdout",
          "text": [
            "\n",
            "Validation set: Average loss: 0.0009, Accuracy: 4428/5000 (88.56%)\n",
            "\n",
            "\n",
            "Test set: Average loss: 0.4606, Accuracy: 8788/10000 (87.88%)\n",
            "\n",
            "EPOCHS : 50\n"
          ]
        },
        {
          "output_type": "stream",
          "name": "stderr",
          "text": [
            "Batch_id=87 Batch Loss=0.09865428507328033 Running Loss=8.174423974007368 Running Accuracy=96.70: 100%|██████████| 88/88 [00:46<00:00,  1.90it/s]\n"
          ]
        },
        {
          "output_type": "stream",
          "name": "stdout",
          "text": [
            "\n",
            "Validation set: Average loss: 0.0009, Accuracy: 4418/5000 (88.36%)\n",
            "\n",
            "\n",
            "Test set: Average loss: 0.4750, Accuracy: 8805/10000 (88.05%)\n",
            "\n",
            "EPOCHS : 51\n"
          ]
        },
        {
          "output_type": "stream",
          "name": "stderr",
          "text": [
            "Batch_id=87 Batch Loss=0.12114162743091583 Running Loss=8.120163138955832 Running Accuracy=96.79: 100%|██████████| 88/88 [00:46<00:00,  1.91it/s]\n"
          ]
        },
        {
          "output_type": "stream",
          "name": "stdout",
          "text": [
            "\n",
            "Validation set: Average loss: 0.0008, Accuracy: 4454/5000 (89.08%)\n",
            "\n",
            "\n",
            "Test set: Average loss: 0.4164, Accuracy: 8960/10000 (89.60%)\n",
            "\n",
            "EPOCHS : 52\n"
          ]
        },
        {
          "output_type": "stream",
          "name": "stderr",
          "text": [
            "Batch_id=87 Batch Loss=0.1305573582649231 Running Loss=8.239414032548666 Running Accuracy=96.63: 100%|██████████| 88/88 [00:46<00:00,  1.91it/s]\n"
          ]
        },
        {
          "output_type": "stream",
          "name": "stdout",
          "text": [
            "\n",
            "Validation set: Average loss: 0.0009, Accuracy: 4448/5000 (88.96%)\n",
            "\n",
            "\n",
            "Test set: Average loss: 0.4702, Accuracy: 8789/10000 (87.89%)\n",
            "\n",
            "EPOCHS : 53\n"
          ]
        },
        {
          "output_type": "stream",
          "name": "stderr",
          "text": [
            "Batch_id=87 Batch Loss=0.09578180313110352 Running Loss=7.709273736923933 Running Accuracy=96.91: 100%|██████████| 88/88 [00:46<00:00,  1.90it/s]\n"
          ]
        },
        {
          "output_type": "stream",
          "name": "stdout",
          "text": [
            "\n",
            "Validation set: Average loss: 0.0009, Accuracy: 4419/5000 (88.38%)\n",
            "\n",
            "\n",
            "Test set: Average loss: 0.4810, Accuracy: 8763/10000 (87.63%)\n",
            "\n",
            "EPOCHS : 54\n"
          ]
        },
        {
          "output_type": "stream",
          "name": "stderr",
          "text": [
            "Batch_id=87 Batch Loss=0.12536413967609406 Running Loss=7.818733114749193 Running Accuracy=96.86: 100%|██████████| 88/88 [00:46<00:00,  1.90it/s]\n"
          ]
        },
        {
          "output_type": "stream",
          "name": "stdout",
          "text": [
            "\n",
            "Validation set: Average loss: 0.0010, Accuracy: 4406/5000 (88.12%)\n",
            "\n",
            "\n",
            "Test set: Average loss: 0.4955, Accuracy: 8788/10000 (87.88%)\n",
            "\n",
            "EPOCHS : 55\n"
          ]
        },
        {
          "output_type": "stream",
          "name": "stderr",
          "text": [
            "Batch_id=87 Batch Loss=0.10369191318750381 Running Loss=7.223438855260611 Running Accuracy=97.13: 100%|██████████| 88/88 [00:46<00:00,  1.90it/s]\n"
          ]
        },
        {
          "output_type": "stream",
          "name": "stdout",
          "text": [
            "\n",
            "Validation set: Average loss: 0.0009, Accuracy: 4465/5000 (89.30%)\n",
            "\n",
            "\n",
            "Test set: Average loss: 0.4638, Accuracy: 8882/10000 (88.82%)\n",
            "\n",
            "EPOCHS : 56\n"
          ]
        },
        {
          "output_type": "stream",
          "name": "stderr",
          "text": [
            "Batch_id=87 Batch Loss=0.06966976076364517 Running Loss=6.542059816420078 Running Accuracy=97.32: 100%|██████████| 88/88 [00:46<00:00,  1.90it/s]\n"
          ]
        },
        {
          "output_type": "stream",
          "name": "stdout",
          "text": [
            "\n",
            "Validation set: Average loss: 0.0008, Accuracy: 4480/5000 (89.60%)\n",
            "\n",
            "\n",
            "Test set: Average loss: 0.4203, Accuracy: 8918/10000 (89.18%)\n",
            "\n",
            "EPOCHS : 57\n"
          ]
        },
        {
          "output_type": "stream",
          "name": "stderr",
          "text": [
            "Batch_id=87 Batch Loss=0.05510391294956207 Running Loss=6.780004370957613 Running Accuracy=97.27: 100%|██████████| 88/88 [00:46<00:00,  1.90it/s]\n"
          ]
        },
        {
          "output_type": "stream",
          "name": "stdout",
          "text": [
            "\n",
            "Validation set: Average loss: 0.0007, Accuracy: 4525/5000 (90.50%)\n",
            "\n",
            "\n",
            "Test set: Average loss: 0.3590, Accuracy: 9025/10000 (90.25%)\n",
            "\n",
            "EPOCHS : 58\n"
          ]
        },
        {
          "output_type": "stream",
          "name": "stderr",
          "text": [
            "Batch_id=87 Batch Loss=0.08184181153774261 Running Loss=6.4845923110842705 Running Accuracy=97.43: 100%|██████████| 88/88 [00:46<00:00,  1.90it/s]\n"
          ]
        },
        {
          "output_type": "stream",
          "name": "stdout",
          "text": [
            "\n",
            "Validation set: Average loss: 0.0009, Accuracy: 4482/5000 (89.64%)\n",
            "\n",
            "\n",
            "Test set: Average loss: 0.4572, Accuracy: 8893/10000 (88.93%)\n",
            "\n",
            "EPOCHS : 59\n"
          ]
        },
        {
          "output_type": "stream",
          "name": "stderr",
          "text": [
            "Batch_id=87 Batch Loss=0.07238002121448517 Running Loss=6.346969619393349 Running Accuracy=97.40: 100%|██████████| 88/88 [00:46<00:00,  1.90it/s]\n"
          ]
        },
        {
          "output_type": "stream",
          "name": "stdout",
          "text": [
            "\n",
            "Validation set: Average loss: 0.0008, Accuracy: 4479/5000 (89.58%)\n",
            "\n",
            "\n",
            "Test set: Average loss: 0.4222, Accuracy: 8949/10000 (89.49%)\n",
            "\n",
            "EPOCHS : 60\n"
          ]
        },
        {
          "output_type": "stream",
          "name": "stderr",
          "text": [
            "Batch_id=87 Batch Loss=0.07118319720029831 Running Loss=6.110079940408468 Running Accuracy=97.52: 100%|██████████| 88/88 [00:46<00:00,  1.90it/s]\n"
          ]
        },
        {
          "output_type": "stream",
          "name": "stdout",
          "text": [
            "\n",
            "Validation set: Average loss: 0.0007, Accuracy: 4535/5000 (90.70%)\n",
            "\n",
            "\n",
            "Test set: Average loss: 0.3881, Accuracy: 9026/10000 (90.26%)\n",
            "\n",
            "EPOCHS : 61\n"
          ]
        },
        {
          "output_type": "stream",
          "name": "stderr",
          "text": [
            "Batch_id=87 Batch Loss=0.08566239476203918 Running Loss=5.807079166173935 Running Accuracy=97.75: 100%|██████████| 88/88 [00:46<00:00,  1.90it/s]\n"
          ]
        },
        {
          "output_type": "stream",
          "name": "stdout",
          "text": [
            "\n",
            "Validation set: Average loss: 0.0008, Accuracy: 4532/5000 (90.64%)\n",
            "\n",
            "\n",
            "Test set: Average loss: 0.3888, Accuracy: 9013/10000 (90.13%)\n",
            "\n",
            "EPOCHS : 62\n"
          ]
        },
        {
          "output_type": "stream",
          "name": "stderr",
          "text": [
            "Batch_id=87 Batch Loss=0.05543326959013939 Running Loss=5.703441396355629 Running Accuracy=97.71: 100%|██████████| 88/88 [00:46<00:00,  1.91it/s]\n"
          ]
        },
        {
          "output_type": "stream",
          "name": "stdout",
          "text": [
            "\n",
            "Validation set: Average loss: 0.0009, Accuracy: 4465/5000 (89.30%)\n",
            "\n",
            "\n",
            "Test set: Average loss: 0.4355, Accuracy: 8896/10000 (88.96%)\n",
            "\n",
            "EPOCHS : 63\n"
          ]
        },
        {
          "output_type": "stream",
          "name": "stderr",
          "text": [
            "Batch_id=87 Batch Loss=0.09567037224769592 Running Loss=6.445263348519802 Running Accuracy=97.34: 100%|██████████| 88/88 [00:46<00:00,  1.90it/s]\n"
          ]
        },
        {
          "output_type": "stream",
          "name": "stdout",
          "text": [
            "\n",
            "Validation set: Average loss: 0.0009, Accuracy: 4451/5000 (89.02%)\n",
            "\n",
            "\n",
            "Test set: Average loss: 0.4551, Accuracy: 8895/10000 (88.95%)\n",
            "\n",
            "EPOCHS : 64\n"
          ]
        },
        {
          "output_type": "stream",
          "name": "stderr",
          "text": [
            "Batch_id=87 Batch Loss=0.0572727769613266 Running Loss=5.771714460104704 Running Accuracy=97.70: 100%|██████████| 88/88 [00:46<00:00,  1.90it/s]\n"
          ]
        },
        {
          "output_type": "stream",
          "name": "stdout",
          "text": [
            "\n",
            "Validation set: Average loss: 0.0008, Accuracy: 4516/5000 (90.32%)\n",
            "\n",
            "\n",
            "Test set: Average loss: 0.3788, Accuracy: 9064/10000 (90.64%)\n",
            "\n",
            "EPOCHS : 65\n"
          ]
        },
        {
          "output_type": "stream",
          "name": "stderr",
          "text": [
            "Batch_id=87 Batch Loss=0.07944013923406601 Running Loss=5.431772576645017 Running Accuracy=97.92: 100%|██████████| 88/88 [00:46<00:00,  1.90it/s]\n"
          ]
        },
        {
          "output_type": "stream",
          "name": "stdout",
          "text": [
            "\n",
            "Validation set: Average loss: 0.0010, Accuracy: 4407/5000 (88.14%)\n",
            "\n",
            "\n",
            "Test set: Average loss: 0.4890, Accuracy: 8850/10000 (88.50%)\n",
            "\n",
            "EPOCHS : 66\n"
          ]
        },
        {
          "output_type": "stream",
          "name": "stderr",
          "text": [
            "Batch_id=87 Batch Loss=0.07991982251405716 Running Loss=5.3588883355259895 Running Accuracy=97.91: 100%|██████████| 88/88 [00:46<00:00,  1.90it/s]\n"
          ]
        },
        {
          "output_type": "stream",
          "name": "stdout",
          "text": [
            "\n",
            "Validation set: Average loss: 0.0008, Accuracy: 4526/5000 (90.52%)\n",
            "\n",
            "\n",
            "Test set: Average loss: 0.3887, Accuracy: 9022/10000 (90.22%)\n",
            "\n",
            "EPOCHS : 67\n"
          ]
        },
        {
          "output_type": "stream",
          "name": "stderr",
          "text": [
            "Batch_id=87 Batch Loss=0.06679808348417282 Running Loss=4.989521993324161 Running Accuracy=98.12: 100%|██████████| 88/88 [00:46<00:00,  1.91it/s]\n"
          ]
        },
        {
          "output_type": "stream",
          "name": "stdout",
          "text": [
            "\n",
            "Validation set: Average loss: 0.0010, Accuracy: 4443/5000 (88.86%)\n",
            "\n",
            "\n",
            "Test set: Average loss: 0.4680, Accuracy: 8911/10000 (89.11%)\n",
            "\n",
            "EPOCHS : 68\n"
          ]
        },
        {
          "output_type": "stream",
          "name": "stderr",
          "text": [
            "Batch_id=87 Batch Loss=0.06262651830911636 Running Loss=4.768711254000664 Running Accuracy=98.12: 100%|██████████| 88/88 [00:46<00:00,  1.90it/s]\n"
          ]
        },
        {
          "output_type": "stream",
          "name": "stdout",
          "text": [
            "\n",
            "Validation set: Average loss: 0.0009, Accuracy: 4488/5000 (89.76%)\n",
            "\n",
            "\n",
            "Test set: Average loss: 0.4413, Accuracy: 8923/10000 (89.23%)\n",
            "\n",
            "EPOCHS : 69\n"
          ]
        },
        {
          "output_type": "stream",
          "name": "stderr",
          "text": [
            "Batch_id=87 Batch Loss=0.08560177683830261 Running Loss=5.420072712004185 Running Accuracy=97.84: 100%|██████████| 88/88 [00:46<00:00,  1.90it/s]\n"
          ]
        },
        {
          "output_type": "stream",
          "name": "stdout",
          "text": [
            "\n",
            "Validation set: Average loss: 0.0009, Accuracy: 4485/5000 (89.70%)\n",
            "\n",
            "\n",
            "Test set: Average loss: 0.4209, Accuracy: 8949/10000 (89.49%)\n",
            "\n",
            "EPOCHS : 70\n"
          ]
        },
        {
          "output_type": "stream",
          "name": "stderr",
          "text": [
            "Batch_id=87 Batch Loss=0.05835938826203346 Running Loss=5.392358332872391 Running Accuracy=97.93: 100%|██████████| 88/88 [00:46<00:00,  1.90it/s]\n"
          ]
        },
        {
          "output_type": "stream",
          "name": "stdout",
          "text": [
            "\n",
            "Validation set: Average loss: 0.0009, Accuracy: 4468/5000 (89.36%)\n",
            "\n",
            "\n",
            "Test set: Average loss: 0.4649, Accuracy: 8934/10000 (89.34%)\n",
            "\n",
            "EPOCHS : 71\n"
          ]
        },
        {
          "output_type": "stream",
          "name": "stderr",
          "text": [
            "Batch_id=87 Batch Loss=0.06451147049665451 Running Loss=4.955422319471836 Running Accuracy=98.10: 100%|██████████| 88/88 [00:46<00:00,  1.91it/s]\n"
          ]
        },
        {
          "output_type": "stream",
          "name": "stdout",
          "text": [
            "\n",
            "Validation set: Average loss: 0.0009, Accuracy: 4489/5000 (89.78%)\n",
            "\n",
            "Epoch 00072: reducing learning rate of group 0 to 1.0000e-03.\n",
            "\n",
            "Test set: Average loss: 0.4401, Accuracy: 8950/10000 (89.50%)\n",
            "\n",
            "EPOCHS : 72\n"
          ]
        },
        {
          "output_type": "stream",
          "name": "stderr",
          "text": [
            "Batch_id=87 Batch Loss=0.03172754496335983 Running Loss=3.257968669757247 Running Accuracy=98.80: 100%|██████████| 88/88 [00:46<00:00,  1.90it/s]\n"
          ]
        },
        {
          "output_type": "stream",
          "name": "stdout",
          "text": [
            "\n",
            "Validation set: Average loss: 0.0007, Accuracy: 4596/5000 (91.92%)\n",
            "\n",
            "\n",
            "Test set: Average loss: 0.3427, Accuracy: 9121/10000 (91.21%)\n",
            "\n",
            "EPOCHS : 73\n"
          ]
        },
        {
          "output_type": "stream",
          "name": "stderr",
          "text": [
            "Batch_id=87 Batch Loss=0.019788388162851334 Running Loss=2.442039812915027 Running Accuracy=99.13: 100%|██████████| 88/88 [00:46<00:00,  1.90it/s]\n"
          ]
        },
        {
          "output_type": "stream",
          "name": "stdout",
          "text": [
            "\n",
            "Validation set: Average loss: 0.0007, Accuracy: 4606/5000 (92.12%)\n",
            "\n",
            "\n",
            "Test set: Average loss: 0.3302, Accuracy: 9146/10000 (91.46%)\n",
            "\n",
            "EPOCHS : 74\n"
          ]
        },
        {
          "output_type": "stream",
          "name": "stderr",
          "text": [
            "Batch_id=87 Batch Loss=0.024135485291481018 Running Loss=2.039953501429409 Running Accuracy=99.33: 100%|██████████| 88/88 [00:46<00:00,  1.91it/s]\n"
          ]
        },
        {
          "output_type": "stream",
          "name": "stdout",
          "text": [
            "\n",
            "Validation set: Average loss: 0.0007, Accuracy: 4611/5000 (92.22%)\n",
            "\n",
            "\n",
            "Test set: Average loss: 0.3268, Accuracy: 9144/10000 (91.44%)\n",
            "\n",
            "EPOCHS : 75\n"
          ]
        },
        {
          "output_type": "stream",
          "name": "stderr",
          "text": [
            "Batch_id=87 Batch Loss=0.019263600930571556 Running Loss=1.974366296082735 Running Accuracy=99.32: 100%|██████████| 88/88 [00:46<00:00,  1.91it/s]\n"
          ]
        },
        {
          "output_type": "stream",
          "name": "stdout",
          "text": [
            "\n",
            "Validation set: Average loss: 0.0007, Accuracy: 4609/5000 (92.18%)\n",
            "\n",
            "\n",
            "Test set: Average loss: 0.3256, Accuracy: 9157/10000 (91.57%)\n",
            "\n",
            "EPOCHS : 76\n"
          ]
        },
        {
          "output_type": "stream",
          "name": "stderr",
          "text": [
            "Batch_id=87 Batch Loss=0.02580162137746811 Running Loss=1.8450286472216249 Running Accuracy=99.36: 100%|██████████| 88/88 [00:46<00:00,  1.90it/s]\n"
          ]
        },
        {
          "output_type": "stream",
          "name": "stdout",
          "text": [
            "\n",
            "Validation set: Average loss: 0.0007, Accuracy: 4613/5000 (92.26%)\n",
            "\n",
            "\n",
            "Test set: Average loss: 0.3268, Accuracy: 9168/10000 (91.68%)\n",
            "\n",
            "EPOCHS : 77\n"
          ]
        },
        {
          "output_type": "stream",
          "name": "stderr",
          "text": [
            "Batch_id=87 Batch Loss=0.013837297447025776 Running Loss=1.7315300470218062 Running Accuracy=99.42: 100%|██████████| 88/88 [00:46<00:00,  1.90it/s]\n"
          ]
        },
        {
          "output_type": "stream",
          "name": "stdout",
          "text": [
            "\n",
            "Validation set: Average loss: 0.0007, Accuracy: 4613/5000 (92.26%)\n",
            "\n",
            "\n",
            "Test set: Average loss: 0.3230, Accuracy: 9174/10000 (91.74%)\n",
            "\n",
            "EPOCHS : 78\n"
          ]
        },
        {
          "output_type": "stream",
          "name": "stderr",
          "text": [
            "Batch_id=87 Batch Loss=0.019803235307335854 Running Loss=1.6791940168477595 Running Accuracy=99.42: 100%|██████████| 88/88 [00:46<00:00,  1.91it/s]\n"
          ]
        },
        {
          "output_type": "stream",
          "name": "stdout",
          "text": [
            "\n",
            "Validation set: Average loss: 0.0007, Accuracy: 4606/5000 (92.12%)\n",
            "\n",
            "\n",
            "Test set: Average loss: 0.3241, Accuracy: 9171/10000 (91.71%)\n",
            "\n",
            "EPOCHS : 79\n"
          ]
        },
        {
          "output_type": "stream",
          "name": "stderr",
          "text": [
            "Batch_id=87 Batch Loss=0.019527914002537727 Running Loss=1.610361525323242 Running Accuracy=99.49: 100%|██████████| 88/88 [00:46<00:00,  1.89it/s]\n"
          ]
        },
        {
          "output_type": "stream",
          "name": "stdout",
          "text": [
            "\n",
            "Validation set: Average loss: 0.0007, Accuracy: 4615/5000 (92.30%)\n",
            "\n",
            "\n",
            "Test set: Average loss: 0.3243, Accuracy: 9169/10000 (91.69%)\n",
            "\n",
            "EPOCHS : 80\n"
          ]
        },
        {
          "output_type": "stream",
          "name": "stderr",
          "text": [
            "Batch_id=87 Batch Loss=0.020285246893763542 Running Loss=1.5895320298150182 Running Accuracy=99.49: 100%|██████████| 88/88 [00:46<00:00,  1.91it/s]\n"
          ]
        },
        {
          "output_type": "stream",
          "name": "stdout",
          "text": [
            "\n",
            "Validation set: Average loss: 0.0007, Accuracy: 4620/5000 (92.40%)\n",
            "\n",
            "\n",
            "Test set: Average loss: 0.3259, Accuracy: 9165/10000 (91.65%)\n",
            "\n",
            "EPOCHS : 81\n"
          ]
        },
        {
          "output_type": "stream",
          "name": "stderr",
          "text": [
            "Batch_id=87 Batch Loss=0.02230088599026203 Running Loss=1.5031864303164184 Running Accuracy=99.51: 100%|██████████| 88/88 [00:46<00:00,  1.90it/s]\n"
          ]
        },
        {
          "output_type": "stream",
          "name": "stdout",
          "text": [
            "\n",
            "Validation set: Average loss: 0.0007, Accuracy: 4606/5000 (92.12%)\n",
            "\n",
            "\n",
            "Test set: Average loss: 0.3259, Accuracy: 9179/10000 (91.79%)\n",
            "\n",
            "EPOCHS : 82\n"
          ]
        },
        {
          "output_type": "stream",
          "name": "stderr",
          "text": [
            "Batch_id=87 Batch Loss=0.0073083979077637196 Running Loss=1.5161027810536325 Running Accuracy=99.49: 100%|██████████| 88/88 [00:46<00:00,  1.90it/s]\n"
          ]
        },
        {
          "output_type": "stream",
          "name": "stdout",
          "text": [
            "\n",
            "Validation set: Average loss: 0.0007, Accuracy: 4608/5000 (92.16%)\n",
            "\n",
            "\n",
            "Test set: Average loss: 0.3244, Accuracy: 9174/10000 (91.74%)\n",
            "\n",
            "EPOCHS : 83\n"
          ]
        },
        {
          "output_type": "stream",
          "name": "stderr",
          "text": [
            "Batch_id=87 Batch Loss=0.017992448061704636 Running Loss=1.5088342614471912 Running Accuracy=99.54: 100%|██████████| 88/88 [00:46<00:00,  1.90it/s]\n"
          ]
        },
        {
          "output_type": "stream",
          "name": "stdout",
          "text": [
            "\n",
            "Validation set: Average loss: 0.0007, Accuracy: 4606/5000 (92.12%)\n",
            "\n",
            "\n",
            "Test set: Average loss: 0.3242, Accuracy: 9172/10000 (91.72%)\n",
            "\n",
            "EPOCHS : 84\n"
          ]
        },
        {
          "output_type": "stream",
          "name": "stderr",
          "text": [
            "Batch_id=87 Batch Loss=0.011383461765944958 Running Loss=1.3588907634839416 Running Accuracy=99.59: 100%|██████████| 88/88 [00:46<00:00,  1.90it/s]\n"
          ]
        },
        {
          "output_type": "stream",
          "name": "stdout",
          "text": [
            "\n",
            "Validation set: Average loss: 0.0007, Accuracy: 4608/5000 (92.16%)\n",
            "\n",
            "\n",
            "Test set: Average loss: 0.3234, Accuracy: 9162/10000 (91.62%)\n",
            "\n",
            "EPOCHS : 85\n"
          ]
        },
        {
          "output_type": "stream",
          "name": "stderr",
          "text": [
            "Batch_id=87 Batch Loss=0.020870612934231758 Running Loss=1.5123350070789456 Running Accuracy=99.51: 100%|██████████| 88/88 [00:46<00:00,  1.90it/s]\n"
          ]
        },
        {
          "output_type": "stream",
          "name": "stdout",
          "text": [
            "\n",
            "Validation set: Average loss: 0.0007, Accuracy: 4609/5000 (92.18%)\n",
            "\n",
            "\n",
            "Test set: Average loss: 0.3234, Accuracy: 9188/10000 (91.88%)\n",
            "\n",
            "EPOCHS : 86\n"
          ]
        },
        {
          "output_type": "stream",
          "name": "stderr",
          "text": [
            "Batch_id=87 Batch Loss=0.01013471931219101 Running Loss=1.3736681817099452 Running Accuracy=99.60: 100%|██████████| 88/88 [00:46<00:00,  1.90it/s]\n"
          ]
        },
        {
          "output_type": "stream",
          "name": "stdout",
          "text": [
            "\n",
            "Validation set: Average loss: 0.0007, Accuracy: 4616/5000 (92.32%)\n",
            "\n",
            "\n",
            "Test set: Average loss: 0.3272, Accuracy: 9161/10000 (91.61%)\n",
            "\n",
            "EPOCHS : 87\n"
          ]
        },
        {
          "output_type": "stream",
          "name": "stderr",
          "text": [
            "Batch_id=87 Batch Loss=0.011272267438471317 Running Loss=1.3753621699288487 Running Accuracy=99.57: 100%|██████████| 88/88 [00:46<00:00,  1.90it/s]\n"
          ]
        },
        {
          "output_type": "stream",
          "name": "stdout",
          "text": [
            "\n",
            "Validation set: Average loss: 0.0007, Accuracy: 4620/5000 (92.40%)\n",
            "\n",
            "Epoch 00088: reducing learning rate of group 0 to 1.0000e-04.\n",
            "\n",
            "Test set: Average loss: 0.3243, Accuracy: 9181/10000 (91.81%)\n",
            "\n",
            "EPOCHS : 88\n"
          ]
        },
        {
          "output_type": "stream",
          "name": "stderr",
          "text": [
            "Batch_id=87 Batch Loss=0.013697158545255661 Running Loss=1.3276146007701755 Running Accuracy=99.61: 100%|██████████| 88/88 [00:46<00:00,  1.90it/s]\n"
          ]
        },
        {
          "output_type": "stream",
          "name": "stdout",
          "text": [
            "\n",
            "Validation set: Average loss: 0.0007, Accuracy: 4618/5000 (92.36%)\n",
            "\n",
            "\n",
            "Test set: Average loss: 0.3237, Accuracy: 9180/10000 (91.80%)\n",
            "\n",
            "EPOCHS : 89\n"
          ]
        },
        {
          "output_type": "stream",
          "name": "stderr",
          "text": [
            "Batch_id=87 Batch Loss=0.01254939753562212 Running Loss=1.2601660452783108 Running Accuracy=99.62: 100%|██████████| 88/88 [00:46<00:00,  1.90it/s]\n"
          ]
        },
        {
          "output_type": "stream",
          "name": "stdout",
          "text": [
            "\n",
            "Validation set: Average loss: 0.0007, Accuracy: 4617/5000 (92.34%)\n",
            "\n",
            "\n",
            "Test set: Average loss: 0.3231, Accuracy: 9171/10000 (91.71%)\n",
            "\n",
            "EPOCHS : 90\n"
          ]
        },
        {
          "output_type": "stream",
          "name": "stderr",
          "text": [
            "Batch_id=87 Batch Loss=0.011121101677417755 Running Loss=1.256890838034451 Running Accuracy=99.62: 100%|██████████| 88/88 [00:46<00:00,  1.89it/s]\n"
          ]
        },
        {
          "output_type": "stream",
          "name": "stdout",
          "text": [
            "\n",
            "Validation set: Average loss: 0.0007, Accuracy: 4614/5000 (92.28%)\n",
            "\n",
            "\n",
            "Test set: Average loss: 0.3222, Accuracy: 9178/10000 (91.78%)\n",
            "\n",
            "EPOCHS : 91\n"
          ]
        },
        {
          "output_type": "stream",
          "name": "stderr",
          "text": [
            "Batch_id=87 Batch Loss=0.018895333632826805 Running Loss=1.261097612325102 Running Accuracy=99.63: 100%|██████████| 88/88 [00:46<00:00,  1.90it/s]\n"
          ]
        },
        {
          "output_type": "stream",
          "name": "stdout",
          "text": [
            "\n",
            "Validation set: Average loss: 0.0007, Accuracy: 4616/5000 (92.32%)\n",
            "\n",
            "\n",
            "Test set: Average loss: 0.3226, Accuracy: 9176/10000 (91.76%)\n",
            "\n",
            "EPOCHS : 92\n"
          ]
        },
        {
          "output_type": "stream",
          "name": "stderr",
          "text": [
            "Batch_id=87 Batch Loss=0.012430069036781788 Running Loss=1.3010299759916961 Running Accuracy=99.60: 100%|██████████| 88/88 [00:46<00:00,  1.90it/s]\n"
          ]
        },
        {
          "output_type": "stream",
          "name": "stdout",
          "text": [
            "\n",
            "Validation set: Average loss: 0.0007, Accuracy: 4617/5000 (92.34%)\n",
            "\n",
            "\n",
            "Test set: Average loss: 0.3234, Accuracy: 9173/10000 (91.73%)\n",
            "\n",
            "EPOCHS : 93\n"
          ]
        },
        {
          "output_type": "stream",
          "name": "stderr",
          "text": [
            "Batch_id=87 Batch Loss=0.01546457875519991 Running Loss=1.1948419781401753 Running Accuracy=99.64: 100%|██████████| 88/88 [00:46<00:00,  1.90it/s]\n"
          ]
        },
        {
          "output_type": "stream",
          "name": "stdout",
          "text": [
            "\n",
            "Validation set: Average loss: 0.0007, Accuracy: 4618/5000 (92.36%)\n",
            "\n",
            "\n",
            "Test set: Average loss: 0.3247, Accuracy: 9174/10000 (91.74%)\n",
            "\n",
            "EPOCHS : 94\n"
          ]
        },
        {
          "output_type": "stream",
          "name": "stderr",
          "text": [
            "Batch_id=87 Batch Loss=0.01782870478928089 Running Loss=1.3002008660696447 Running Accuracy=99.58: 100%|██████████| 88/88 [00:46<00:00,  1.91it/s]\n"
          ]
        },
        {
          "output_type": "stream",
          "name": "stdout",
          "text": [
            "\n",
            "Validation set: Average loss: 0.0007, Accuracy: 4621/5000 (92.42%)\n",
            "\n",
            "\n",
            "Test set: Average loss: 0.3239, Accuracy: 9178/10000 (91.78%)\n",
            "\n",
            "EPOCHS : 95\n"
          ]
        },
        {
          "output_type": "stream",
          "name": "stderr",
          "text": [
            "Batch_id=87 Batch Loss=0.015539946034550667 Running Loss=1.273537137079984 Running Accuracy=99.59: 100%|██████████| 88/88 [00:46<00:00,  1.89it/s]\n"
          ]
        },
        {
          "output_type": "stream",
          "name": "stdout",
          "text": [
            "\n",
            "Validation set: Average loss: 0.0007, Accuracy: 4621/5000 (92.42%)\n",
            "\n",
            "\n",
            "Test set: Average loss: 0.3231, Accuracy: 9177/10000 (91.77%)\n",
            "\n",
            "EPOCHS : 96\n"
          ]
        },
        {
          "output_type": "stream",
          "name": "stderr",
          "text": [
            "Batch_id=87 Batch Loss=0.00945343915373087 Running Loss=1.2478334410116076 Running Accuracy=99.62: 100%|██████████| 88/88 [00:46<00:00,  1.90it/s]\n"
          ]
        },
        {
          "output_type": "stream",
          "name": "stdout",
          "text": [
            "\n",
            "Validation set: Average loss: 0.0007, Accuracy: 4620/5000 (92.40%)\n",
            "\n",
            "Epoch 00097: reducing learning rate of group 0 to 1.0000e-05.\n",
            "\n",
            "Test set: Average loss: 0.3231, Accuracy: 9178/10000 (91.78%)\n",
            "\n",
            "EPOCHS : 97\n"
          ]
        },
        {
          "output_type": "stream",
          "name": "stderr",
          "text": [
            "Batch_id=87 Batch Loss=0.014892004430294037 Running Loss=1.2944853277876973 Running Accuracy=99.60: 100%|██████████| 88/88 [00:46<00:00,  1.90it/s]\n"
          ]
        },
        {
          "output_type": "stream",
          "name": "stdout",
          "text": [
            "\n",
            "Validation set: Average loss: 0.0007, Accuracy: 4620/5000 (92.40%)\n",
            "\n",
            "\n",
            "Test set: Average loss: 0.3236, Accuracy: 9176/10000 (91.76%)\n",
            "\n",
            "EPOCHS : 98\n"
          ]
        },
        {
          "output_type": "stream",
          "name": "stderr",
          "text": [
            "Batch_id=87 Batch Loss=0.01334778219461441 Running Loss=1.2786706378683448 Running Accuracy=99.62: 100%|██████████| 88/88 [00:46<00:00,  1.90it/s]\n"
          ]
        },
        {
          "output_type": "stream",
          "name": "stdout",
          "text": [
            "\n",
            "Validation set: Average loss: 0.0007, Accuracy: 4621/5000 (92.42%)\n",
            "\n",
            "\n",
            "Test set: Average loss: 0.3236, Accuracy: 9177/10000 (91.77%)\n",
            "\n",
            "EPOCHS : 99\n"
          ]
        },
        {
          "output_type": "stream",
          "name": "stderr",
          "text": [
            "Batch_id=87 Batch Loss=0.011996559798717499 Running Loss=1.21878104750067 Running Accuracy=99.65: 100%|██████████| 88/88 [00:46<00:00,  1.89it/s]\n"
          ]
        },
        {
          "output_type": "stream",
          "name": "stdout",
          "text": [
            "\n",
            "Validation set: Average loss: 0.0007, Accuracy: 4620/5000 (92.40%)\n",
            "\n",
            "Epoch 00100: reducing learning rate of group 0 to 1.0000e-06.\n",
            "\n",
            "Test set: Average loss: 0.3225, Accuracy: 9183/10000 (91.83%)\n",
            "\n",
            "EPOCHS : 100\n"
          ]
        },
        {
          "output_type": "stream",
          "name": "stderr",
          "text": [
            "Batch_id=87 Batch Loss=0.01010438334196806 Running Loss=1.26868313876912 Running Accuracy=99.64: 100%|██████████| 88/88 [00:46<00:00,  1.91it/s]\n"
          ]
        },
        {
          "output_type": "stream",
          "name": "stdout",
          "text": [
            "\n",
            "Validation set: Average loss: 0.0007, Accuracy: 4620/5000 (92.40%)\n",
            "\n",
            "\n",
            "Test set: Average loss: 0.3224, Accuracy: 9181/10000 (91.81%)\n",
            "\n",
            "EPOCHS : 101\n"
          ]
        },
        {
          "output_type": "stream",
          "name": "stderr",
          "text": [
            "Batch_id=87 Batch Loss=0.014605927281081676 Running Loss=1.2767426865175366 Running Accuracy=99.58: 100%|██████████| 88/88 [00:46<00:00,  1.90it/s]\n"
          ]
        },
        {
          "output_type": "stream",
          "name": "stdout",
          "text": [
            "\n",
            "Validation set: Average loss: 0.0007, Accuracy: 4618/5000 (92.36%)\n",
            "\n",
            "\n",
            "Test set: Average loss: 0.3230, Accuracy: 9179/10000 (91.79%)\n",
            "\n",
            "EPOCHS : 102\n"
          ]
        },
        {
          "output_type": "stream",
          "name": "stderr",
          "text": [
            "Batch_id=87 Batch Loss=0.019365733489394188 Running Loss=1.3312429920770228 Running Accuracy=99.57: 100%|██████████| 88/88 [00:46<00:00,  1.91it/s]\n"
          ]
        },
        {
          "output_type": "stream",
          "name": "stdout",
          "text": [
            "\n",
            "Validation set: Average loss: 0.0007, Accuracy: 4618/5000 (92.36%)\n",
            "\n",
            "Epoch 00103: reducing learning rate of group 0 to 1.0000e-07.\n",
            "\n",
            "Test set: Average loss: 0.3227, Accuracy: 9174/10000 (91.74%)\n",
            "\n",
            "EPOCHS : 103\n"
          ]
        },
        {
          "output_type": "stream",
          "name": "stderr",
          "text": [
            "Batch_id=87 Batch Loss=0.016987325623631477 Running Loss=1.233614840079099 Running Accuracy=99.63: 100%|██████████| 88/88 [00:46<00:00,  1.89it/s]\n"
          ]
        },
        {
          "output_type": "stream",
          "name": "stdout",
          "text": [
            "\n",
            "Validation set: Average loss: 0.0007, Accuracy: 4619/5000 (92.38%)\n",
            "\n",
            "\n",
            "Test set: Average loss: 0.3234, Accuracy: 9175/10000 (91.75%)\n",
            "\n",
            "EPOCHS : 104\n"
          ]
        },
        {
          "output_type": "stream",
          "name": "stderr",
          "text": [
            "Batch_id=87 Batch Loss=0.012697305530309677 Running Loss=1.1833485937677324 Running Accuracy=99.65: 100%|██████████| 88/88 [00:46<00:00,  1.90it/s]\n"
          ]
        },
        {
          "output_type": "stream",
          "name": "stdout",
          "text": [
            "\n",
            "Validation set: Average loss: 0.0007, Accuracy: 4619/5000 (92.38%)\n",
            "\n",
            "\n",
            "Test set: Average loss: 0.3228, Accuracy: 9183/10000 (91.83%)\n",
            "\n",
            "EPOCHS : 105\n"
          ]
        },
        {
          "output_type": "stream",
          "name": "stderr",
          "text": [
            "Batch_id=87 Batch Loss=0.00625190045684576 Running Loss=1.233530172612518 Running Accuracy=99.61: 100%|██████████| 88/88 [00:46<00:00,  1.91it/s]\n"
          ]
        },
        {
          "output_type": "stream",
          "name": "stdout",
          "text": [
            "\n",
            "Validation set: Average loss: 0.0007, Accuracy: 4623/5000 (92.46%)\n",
            "\n",
            "\n",
            "Test set: Average loss: 0.3239, Accuracy: 9175/10000 (91.75%)\n",
            "\n",
            "EPOCHS : 106\n"
          ]
        },
        {
          "output_type": "stream",
          "name": "stderr",
          "text": [
            "Batch_id=87 Batch Loss=0.01860770210623741 Running Loss=1.2878293711692095 Running Accuracy=99.61: 100%|██████████| 88/88 [00:46<00:00,  1.90it/s]\n"
          ]
        },
        {
          "output_type": "stream",
          "name": "stdout",
          "text": [
            "\n",
            "Validation set: Average loss: 0.0007, Accuracy: 4619/5000 (92.38%)\n",
            "\n",
            "\n",
            "Test set: Average loss: 0.3227, Accuracy: 9179/10000 (91.79%)\n",
            "\n",
            "EPOCHS : 107\n"
          ]
        },
        {
          "output_type": "stream",
          "name": "stderr",
          "text": [
            "Batch_id=87 Batch Loss=0.012134633958339691 Running Loss=1.3326758821494877 Running Accuracy=99.58: 100%|██████████| 88/88 [00:46<00:00,  1.90it/s]\n"
          ]
        },
        {
          "output_type": "stream",
          "name": "stdout",
          "text": [
            "\n",
            "Validation set: Average loss: 0.0007, Accuracy: 4621/5000 (92.42%)\n",
            "\n",
            "Epoch 00108: reducing learning rate of group 0 to 1.0000e-08.\n",
            "\n",
            "Test set: Average loss: 0.3238, Accuracy: 9179/10000 (91.79%)\n",
            "\n",
            "EPOCHS : 108\n"
          ]
        },
        {
          "output_type": "stream",
          "name": "stderr",
          "text": [
            "Batch_id=87 Batch Loss=0.014158027246594429 Running Loss=1.3006300083361566 Running Accuracy=99.59: 100%|██████████| 88/88 [00:46<00:00,  1.90it/s]\n"
          ]
        },
        {
          "output_type": "stream",
          "name": "stdout",
          "text": [
            "\n",
            "Validation set: Average loss: 0.0007, Accuracy: 4617/5000 (92.34%)\n",
            "\n",
            "\n",
            "Test set: Average loss: 0.3228, Accuracy: 9176/10000 (91.76%)\n",
            "\n",
            "EPOCHS : 109\n"
          ]
        },
        {
          "output_type": "stream",
          "name": "stderr",
          "text": [
            "Batch_id=87 Batch Loss=0.015897559002041817 Running Loss=1.2754680048674345 Running Accuracy=99.58: 100%|██████████| 88/88 [00:46<00:00,  1.90it/s]\n"
          ]
        },
        {
          "output_type": "stream",
          "name": "stdout",
          "text": [
            "\n",
            "Validation set: Average loss: 0.0007, Accuracy: 4617/5000 (92.34%)\n",
            "\n",
            "\n",
            "Test set: Average loss: 0.3226, Accuracy: 9182/10000 (91.82%)\n",
            "\n",
            "EPOCHS : 110\n"
          ]
        },
        {
          "output_type": "stream",
          "name": "stderr",
          "text": [
            "Batch_id=87 Batch Loss=0.017958780750632286 Running Loss=1.1751812929287553 Running Accuracy=99.66: 100%|██████████| 88/88 [00:46<00:00,  1.90it/s]\n"
          ]
        },
        {
          "output_type": "stream",
          "name": "stdout",
          "text": [
            "\n",
            "Validation set: Average loss: 0.0007, Accuracy: 4617/5000 (92.34%)\n",
            "\n",
            "\n",
            "Test set: Average loss: 0.3226, Accuracy: 9179/10000 (91.79%)\n",
            "\n",
            "EPOCHS : 111\n"
          ]
        },
        {
          "output_type": "stream",
          "name": "stderr",
          "text": [
            "Batch_id=87 Batch Loss=0.031699080020189285 Running Loss=1.2668656432069838 Running Accuracy=99.61: 100%|██████████| 88/88 [00:46<00:00,  1.89it/s]\n"
          ]
        },
        {
          "output_type": "stream",
          "name": "stdout",
          "text": [
            "\n",
            "Validation set: Average loss: 0.0007, Accuracy: 4623/5000 (92.46%)\n",
            "\n",
            "\n",
            "Test set: Average loss: 0.3235, Accuracy: 9179/10000 (91.79%)\n",
            "\n",
            "EPOCHS : 112\n"
          ]
        },
        {
          "output_type": "stream",
          "name": "stderr",
          "text": [
            "Batch_id=87 Batch Loss=0.02740566059947014 Running Loss=1.2027955036610365 Running Accuracy=99.62: 100%|██████████| 88/88 [00:46<00:00,  1.89it/s]\n"
          ]
        },
        {
          "output_type": "stream",
          "name": "stdout",
          "text": [
            "\n",
            "Validation set: Average loss: 0.0007, Accuracy: 4619/5000 (92.38%)\n",
            "\n",
            "\n",
            "Test set: Average loss: 0.3222, Accuracy: 9176/10000 (91.76%)\n",
            "\n",
            "EPOCHS : 113\n"
          ]
        },
        {
          "output_type": "stream",
          "name": "stderr",
          "text": [
            "Batch_id=87 Batch Loss=0.025949573144316673 Running Loss=1.3675027177669108 Running Accuracy=99.57: 100%|██████████| 88/88 [00:46<00:00,  1.90it/s]\n"
          ]
        },
        {
          "output_type": "stream",
          "name": "stdout",
          "text": [
            "\n",
            "Validation set: Average loss: 0.0007, Accuracy: 4618/5000 (92.36%)\n",
            "\n",
            "\n",
            "Test set: Average loss: 0.3229, Accuracy: 9181/10000 (91.81%)\n",
            "\n",
            "EPOCHS : 114\n"
          ]
        },
        {
          "output_type": "stream",
          "name": "stderr",
          "text": [
            "Batch_id=87 Batch Loss=0.014780841767787933 Running Loss=1.2308724806644022 Running Accuracy=99.62: 100%|██████████| 88/88 [00:46<00:00,  1.90it/s]\n"
          ]
        },
        {
          "output_type": "stream",
          "name": "stdout",
          "text": [
            "\n",
            "Validation set: Average loss: 0.0007, Accuracy: 4618/5000 (92.36%)\n",
            "\n",
            "\n",
            "Test set: Average loss: 0.3234, Accuracy: 9179/10000 (91.79%)\n",
            "\n",
            "EPOCHS : 115\n"
          ]
        },
        {
          "output_type": "stream",
          "name": "stderr",
          "text": [
            "Batch_id=87 Batch Loss=0.010054913349449635 Running Loss=1.1639772448688745 Running Accuracy=99.65: 100%|██████████| 88/88 [00:46<00:00,  1.90it/s]\n"
          ]
        },
        {
          "output_type": "stream",
          "name": "stdout",
          "text": [
            "\n",
            "Validation set: Average loss: 0.0007, Accuracy: 4622/5000 (92.44%)\n",
            "\n",
            "\n",
            "Test set: Average loss: 0.3237, Accuracy: 9178/10000 (91.78%)\n",
            "\n",
            "EPOCHS : 116\n"
          ]
        },
        {
          "output_type": "stream",
          "name": "stderr",
          "text": [
            "Batch_id=87 Batch Loss=0.019870003685355186 Running Loss=1.3515592906624079 Running Accuracy=99.61: 100%|██████████| 88/88 [00:46<00:00,  1.90it/s]\n"
          ]
        },
        {
          "output_type": "stream",
          "name": "stdout",
          "text": [
            "\n",
            "Validation set: Average loss: 0.0007, Accuracy: 4617/5000 (92.34%)\n",
            "\n",
            "\n",
            "Test set: Average loss: 0.3227, Accuracy: 9180/10000 (91.80%)\n",
            "\n",
            "EPOCHS : 117\n"
          ]
        },
        {
          "output_type": "stream",
          "name": "stderr",
          "text": [
            "Batch_id=87 Batch Loss=0.022061776369810104 Running Loss=1.2356419493444264 Running Accuracy=99.64: 100%|██████████| 88/88 [00:46<00:00,  1.89it/s]\n"
          ]
        },
        {
          "output_type": "stream",
          "name": "stdout",
          "text": [
            "\n",
            "Validation set: Average loss: 0.0007, Accuracy: 4616/5000 (92.32%)\n",
            "\n",
            "\n",
            "Test set: Average loss: 0.3231, Accuracy: 9180/10000 (91.80%)\n",
            "\n",
            "EPOCHS : 118\n"
          ]
        },
        {
          "output_type": "stream",
          "name": "stderr",
          "text": [
            "Batch_id=87 Batch Loss=0.01198815368115902 Running Loss=1.3445592150092125 Running Accuracy=99.58: 100%|██████████| 88/88 [00:46<00:00,  1.90it/s]\n"
          ]
        },
        {
          "output_type": "stream",
          "name": "stdout",
          "text": [
            "\n",
            "Validation set: Average loss: 0.0007, Accuracy: 4622/5000 (92.44%)\n",
            "\n",
            "\n",
            "Test set: Average loss: 0.3236, Accuracy: 9179/10000 (91.79%)\n",
            "\n",
            "EPOCHS : 119\n"
          ]
        },
        {
          "output_type": "stream",
          "name": "stderr",
          "text": [
            "Batch_id=87 Batch Loss=0.018663501366972923 Running Loss=1.2333864066749811 Running Accuracy=99.63: 100%|██████████| 88/88 [00:46<00:00,  1.90it/s]\n"
          ]
        },
        {
          "output_type": "stream",
          "name": "stdout",
          "text": [
            "\n",
            "Validation set: Average loss: 0.0007, Accuracy: 4621/5000 (92.42%)\n",
            "\n",
            "\n",
            "Test set: Average loss: 0.3223, Accuracy: 9182/10000 (91.82%)\n",
            "\n"
          ]
        }
      ],
      "source": [
        "# Training the model\n",
        "\n",
        "train_acc = []\n",
        "train_losses = []\n",
        "valid_accs = []\n",
        "valid_losses = []\n",
        "test_acc = []\n",
        "test_losses = []\n",
        "min_valid_loss = None\n",
        "max_acc = None\n",
        "\n",
        "EPOCHS = 120\n",
        "\n",
        "for i in range(EPOCHS):\n",
        "    print(f'EPOCHS : {i}')\n",
        "    model_training(model, device, trainloader, optimizer, train_acc, train_losses)\n",
        "\n",
        "    # Validating the model for the current epoch\n",
        "    valid_loss, valid_acc = model_evaluation(model, device, validloader)  \n",
        "\n",
        "    valid_losses.append(valid_loss)\n",
        "    valid_accs.append(valid_acc)\n",
        "\n",
        "    if not min_valid_loss:\n",
        "      min_valid_loss = valid_loss\n",
        "    else:\n",
        "      if valid_loss < min_valid_loss:\n",
        "        min_valid_loss = valid_loss\n",
        "        torch.save(model, \"best_model.pickle\")\n",
        "\n",
        "    scheduler.step(train_losses[-1])\n",
        "    # scheduler.step(valid_loss)\n",
        "\n",
        "    misclassified, test_acc2 = model_testing(model, device, testloader, test_acc, test_losses)\n",
        "\n",
        "    if not max_acc:\n",
        "      max_acc = test_acc2\n",
        "    else:\n",
        "      if test_acc2 > max_acc:\n",
        "        max_acc = test_acc2\n",
        "        torch.save(model, \"best_test_acc_model.pickle\")\n",
        "\n",
        "    save_to_csv(\"8_resnet_2_4_3_inchannels_64.csv\", train_losses, train_acc, test_losses, test_acc)\n"
      ]
    },
    {
      "cell_type": "code",
      "source": [
        "# Best model\n",
        "model1 = torch.load(\"best_model.pickle\")\n",
        "model2 = torch.load(\"best_test_acc_model.pickle\")\n",
        "misclassified, _acc = model_testing(model1, device, testloader, test_acc, test_losses)\n",
        "misclassified, _acc = model_testing(model2, device, testloader, test_acc, test_losses)"
      ],
      "metadata": {
        "colab": {
          "base_uri": "https://localhost:8080/"
        },
        "id": "ocguQ5Q9p1Kt",
        "outputId": "010a907d-fa1c-4cda-c428-c2c72c9a7020"
      },
      "execution_count": 22,
      "outputs": [
        {
          "output_type": "stream",
          "name": "stdout",
          "text": [
            "\n",
            "Test set: Average loss: 0.3241, Accuracy: 9171/10000 (91.71%)\n",
            "\n",
            "\n",
            "Test set: Average loss: 0.3234, Accuracy: 9188/10000 (91.88%)\n",
            "\n"
          ]
        }
      ]
    },
    {
      "cell_type": "code",
      "execution_count": 23,
      "metadata": {
        "execution": {
          "iopub.execute_input": "2020-09-18T14:33:11.004455Z",
          "iopub.status.busy": "2020-09-18T14:33:11.003592Z",
          "iopub.status.idle": "2020-09-18T14:33:11.886161Z",
          "shell.execute_reply": "2020-09-18T14:33:11.885385Z"
        },
        "papermill": {
          "duration": 4.212753,
          "end_time": "2020-09-18T14:33:11.886294",
          "exception": false,
          "start_time": "2020-09-18T14:33:07.673541",
          "status": "completed"
        },
        "tags": [],
        "colab": {
          "base_uri": "https://localhost:8080/",
          "height": 1000
        },
        "id": "3pYBPl8HKs_o",
        "outputId": "cb3e7c91-3a17-49e0-a42d-c1da9cd00ec0"
      },
      "outputs": [
        {
          "output_type": "execute_result",
          "data": {
            "text/plain": [
              "[<matplotlib.lines.Line2D at 0x7eff75eaad90>]"
            ]
          },
          "metadata": {},
          "execution_count": 23
        },
        {
          "output_type": "display_data",
          "data": {
            "text/plain": [
              "<Figure size 1800x1440 with 4 Axes>"
            ],
            "image/png": "[encoded data removed]"
          },
          "metadata": {
            "needs_background": "light"
          }
        }
      ],
      "source": [
        "fig, axs = plt.subplots(2,2, figsize=(25,20))\n",
        "\n",
        "axs[0,0].set_title('Train Losses')\n",
        "axs[0,1].set_title('Training Accuracy')\n",
        "axs[1,0].set_title('Test Losses')\n",
        "axs[1,1].set_title('Test Accuracy')\n",
        "\n",
        "axs[0,0].plot(train_losses)\n",
        "axs[0,1].plot(train_acc)\n",
        "axs[1,0].plot(test_losses)\n",
        "axs[1,1].plot(test_acc)"
      ]
    },
    {
      "cell_type": "code",
      "source": [],
      "metadata": {
        "id": "DlPU6Co4ns_R"
      },
      "execution_count": 18,
      "outputs": []
    }
  ],
  "metadata": {
    "kernelspec": {
      "display_name": "Python 3",
      "language": "python",
      "name": "python3"
    },
    "language_info": {
      "codemirror_mode": {
        "name": "ipython",
        "version": 3
      },
      "file_extension": ".py",
      "mimetype": "text/x-python",
      "name": "python",
      "nbconvert_exporter": "python",
      "pygments_lexer": "ipython3",
      "version": "3.7.6"
    },
    "papermill": {
      "duration": 1617.594216,
      "end_time": "2020-09-18T14:33:16.593563",
      "environment_variables": {},
      "exception": null,
      "input_path": "__notebook__.ipynb",
      "output_path": "__notebook__.ipynb",
      "parameters": {},
      "start_time": "2020-09-18T14:06:18.999347",
      "version": "2.1.0"
    },
    "colab": {
      "provenance": [],
      "machine_shape": "hm"
    },
    "accelerator": "GPU",
    "gpuClass": "standard",
    "widgets": {
      "application/vnd.jupyter.widget-state+json": {
        "deae9b10de0a4ae981c3fde78df82eb9": {
          "model_module": "@jupyter-widgets/controls",
          "model_name": "HBoxModel",
          "model_module_version": "1.5.0",
          "state": {
            "_dom_classes": [],
            "_model_module": "@jupyter-widgets/controls",
            "_model_module_version": "1.5.0",
            "_model_name": "HBoxModel",
            "_view_count": null,
            "_view_module": "@jupyter-widgets/controls",
            "_view_module_version": "1.5.0",
            "_view_name": "HBoxView",
            "box_style": "",
            "children": [
              "IPY_MODEL_eaf30fcf89a64a499ebeae7af7d81a3d",
              "IPY_MODEL_4ecaed1770a64e1a873af40ebca294c9",
              "IPY_MODEL_51332c5a17aa4c9eb896c48f8274b7a1"
            ],
            "layout": "IPY_MODEL_8a17a6dbb6c442ef937f8170ed6f1173"
          }
        },
        "eaf30fcf89a64a499ebeae7af7d81a3d": {
          "model_module": "@jupyter-widgets/controls",
          "model_name": "HTMLModel",
          "model_module_version": "1.5.0",
          "state": {
            "_dom_classes": [],
            "_model_module": "@jupyter-widgets/controls",
            "_model_module_version": "1.5.0",
            "_model_name": "HTMLModel",
            "_view_count": null,
            "_view_module": "@jupyter-widgets/controls",
            "_view_module_version": "1.5.0",
            "_view_name": "HTMLView",
            "description": "",
            "description_tooltip": null,
            "layout": "IPY_MODEL_7d0ec674f88c40f599ccc17f0d17ffc6",
            "placeholder": "​",
            "style": "IPY_MODEL_80632423dc6841ccaef55fe3c71fca3b",
            "value": "100%"
          }
        },
        "4ecaed1770a64e1a873af40ebca294c9": {
          "model_module": "@jupyter-widgets/controls",
          "model_name": "FloatProgressModel",
          "model_module_version": "1.5.0",
          "state": {
            "_dom_classes": [],
            "_model_module": "@jupyter-widgets/controls",
            "_model_module_version": "1.5.0",
            "_model_name": "FloatProgressModel",
            "_view_count": null,
            "_view_module": "@jupyter-widgets/controls",
            "_view_module_version": "1.5.0",
            "_view_name": "ProgressView",
            "bar_style": "success",
            "description": "",
            "description_tooltip": null,
            "layout": "IPY_MODEL_ce79d9f5df214e90a77f898860324a56",
            "max": 170498071,
            "min": 0,
            "orientation": "horizontal",
            "style": "IPY_MODEL_c28f8cd1fd70454782ada70143d67a4c",
            "value": 170498071
          }
        },
        "51332c5a17aa4c9eb896c48f8274b7a1": {
          "model_module": "@jupyter-widgets/controls",
          "model_name": "HTMLModel",
          "model_module_version": "1.5.0",
          "state": {
            "_dom_classes": [],
            "_model_module": "@jupyter-widgets/controls",
            "_model_module_version": "1.5.0",
            "_model_name": "HTMLModel",
            "_view_count": null,
            "_view_module": "@jupyter-widgets/controls",
            "_view_module_version": "1.5.0",
            "_view_name": "HTMLView",
            "description": "",
            "description_tooltip": null,
            "layout": "IPY_MODEL_df11f9608be5430e84239bfc4e616e7d",
            "placeholder": "​",
            "style": "IPY_MODEL_f42c4c2334194c0c88a6d7f6f3ff9b24",
            "value": " 170498071/170498071 [00:10&lt;00:00, 18424708.29it/s]"
          }
        },
        "8a17a6dbb6c442ef937f8170ed6f1173": {
          "model_module": "@jupyter-widgets/base",
          "model_name": "LayoutModel",
          "model_module_version": "1.2.0",
          "state": {
            "_model_module": "@jupyter-widgets/base",
            "_model_module_version": "1.2.0",
            "_model_name": "LayoutModel",
            "_view_count": null,
            "_view_module": "@jupyter-widgets/base",
            "_view_module_version": "1.2.0",
            "_view_name": "LayoutView",
            "align_content": null,
            "align_items": null,
            "align_self": null,
            "border": null,
            "bottom": null,
            "display": null,
            "flex": null,
            "flex_flow": null,
            "grid_area": null,
            "grid_auto_columns": null,
            "grid_auto_flow": null,
            "grid_auto_rows": null,
            "grid_column": null,
            "grid_gap": null,
            "grid_row": null,
            "grid_template_areas": null,
            "grid_template_columns": null,
            "grid_template_rows": null,
            "height": null,
            "justify_content": null,
            "justify_items": null,
            "left": null,
            "margin": null,
            "max_height": null,
            "max_width": null,
            "min_height": null,
            "min_width": null,
            "object_fit": null,
            "object_position": null,
            "order": null,
            "overflow": null,
            "overflow_x": null,
            "overflow_y": null,
            "padding": null,
            "right": null,
            "top": null,
            "visibility": null,
            "width": null
          }
        },
        "7d0ec674f88c40f599ccc17f0d17ffc6": {
          "model_module": "@jupyter-widgets/base",
          "model_name": "LayoutModel",
          "model_module_version": "1.2.0",
          "state": {
            "_model_module": "@jupyter-widgets/base",
            "_model_module_version": "1.2.0",
            "_model_name": "LayoutModel",
            "_view_count": null,
            "_view_module": "@jupyter-widgets/base",
            "_view_module_version": "1.2.0",
            "_view_name": "LayoutView",
            "align_content": null,
            "align_items": null,
            "align_self": null,
            "border": null,
            "bottom": null,
            "display": null,
            "flex": null,
            "flex_flow": null,
            "grid_area": null,
            "grid_auto_columns": null,
            "grid_auto_flow": null,
            "grid_auto_rows": null,
            "grid_column": null,
            "grid_gap": null,
            "grid_row": null,
            "grid_template_areas": null,
            "grid_template_columns": null,
            "grid_template_rows": null,
            "height": null,
            "justify_content": null,
            "justify_items": null,
            "left": null,
            "margin": null,
            "max_height": null,
            "max_width": null,
            "min_height": null,
            "min_width": null,
            "object_fit": null,
            "object_position": null,
            "order": null,
            "overflow": null,
            "overflow_x": null,
            "overflow_y": null,
            "padding": null,
            "right": null,
            "top": null,
            "visibility": null,
            "width": null
          }
        },
        "80632423dc6841ccaef55fe3c71fca3b": {
          "model_module": "@jupyter-widgets/controls",
          "model_name": "DescriptionStyleModel",
          "model_module_version": "1.5.0",
          "state": {
            "_model_module": "@jupyter-widgets/controls",
            "_model_module_version": "1.5.0",
            "_model_name": "DescriptionStyleModel",
            "_view_count": null,
            "_view_module": "@jupyter-widgets/base",
            "_view_module_version": "1.2.0",
            "_view_name": "StyleView",
            "description_width": ""
          }
        },
        "ce79d9f5df214e90a77f898860324a56": {
          "model_module": "@jupyter-widgets/base",
          "model_name": "LayoutModel",
          "model_module_version": "1.2.0",
          "state": {
            "_model_module": "@jupyter-widgets/base",
            "_model_module_version": "1.2.0",
            "_model_name": "LayoutModel",
            "_view_count": null,
            "_view_module": "@jupyter-widgets/base",
            "_view_module_version": "1.2.0",
            "_view_name": "LayoutView",
            "align_content": null,
            "align_items": null,
            "align_self": null,
            "border": null,
            "bottom": null,
            "display": null,
            "flex": null,
            "flex_flow": null,
            "grid_area": null,
            "grid_auto_columns": null,
            "grid_auto_flow": null,
            "grid_auto_rows": null,
            "grid_column": null,
            "grid_gap": null,
            "grid_row": null,
            "grid_template_areas": null,
            "grid_template_columns": null,
            "grid_template_rows": null,
            "height": null,
            "justify_content": null,
            "justify_items": null,
            "left": null,
            "margin": null,
            "max_height": null,
            "max_width": null,
            "min_height": null,
            "min_width": null,
            "object_fit": null,
            "object_position": null,
            "order": null,
            "overflow": null,
            "overflow_x": null,
            "overflow_y": null,
            "padding": null,
            "right": null,
            "top": null,
            "visibility": null,
            "width": null
          }
        },
        "c28f8cd1fd70454782ada70143d67a4c": {
          "model_module": "@jupyter-widgets/controls",
          "model_name": "ProgressStyleModel",
          "model_module_version": "1.5.0",
          "state": {
            "_model_module": "@jupyter-widgets/controls",
            "_model_module_version": "1.5.0",
            "_model_name": "ProgressStyleModel",
            "_view_count": null,
            "_view_module": "@jupyter-widgets/base",
            "_view_module_version": "1.2.0",
            "_view_name": "StyleView",
            "bar_color": null,
            "description_width": ""
          }
        },
        "df11f9608be5430e84239bfc4e616e7d": {
          "model_module": "@jupyter-widgets/base",
          "model_name": "LayoutModel",
          "model_module_version": "1.2.0",
          "state": {
            "_model_module": "@jupyter-widgets/base",
            "_model_module_version": "1.2.0",
            "_model_name": "LayoutModel",
            "_view_count": null,
            "_view_module": "@jupyter-widgets/base",
            "_view_module_version": "1.2.0",
            "_view_name": "LayoutView",
            "align_content": null,
            "align_items": null,
            "align_self": null,
            "border": null,
            "bottom": null,
            "display": null,
            "flex": null,
            "flex_flow": null,
            "grid_area": null,
            "grid_auto_columns": null,
            "grid_auto_flow": null,
            "grid_auto_rows": null,
            "grid_column": null,
            "grid_gap": null,
            "grid_row": null,
            "grid_template_areas": null,
            "grid_template_columns": null,
            "grid_template_rows": null,
            "height": null,
            "justify_content": null,
            "justify_items": null,
            "left": null,
            "margin": null,
            "max_height": null,
            "max_width": null,
            "min_height": null,
            "min_width": null,
            "object_fit": null,
            "object_position": null,
            "order": null,
            "overflow": null,
            "overflow_x": null,
            "overflow_y": null,
            "padding": null,
            "right": null,
            "top": null,
            "visibility": null,
            "width": null
          }
        },
        "f42c4c2334194c0c88a6d7f6f3ff9b24": {
          "model_module": "@jupyter-widgets/controls",
          "model_name": "DescriptionStyleModel",
          "model_module_version": "1.5.0",
          "state": {
            "_model_module": "@jupyter-widgets/controls",
            "_model_module_version": "1.5.0",
            "_model_name": "DescriptionStyleModel",
            "_view_count": null,
            "_view_module": "@jupyter-widgets/base",
            "_view_module_version": "1.2.0",
            "_view_name": "StyleView",
            "description_width": ""
          }
        }
      }
    }
  },
  "nbformat": 4,
  "nbformat_minor": 0
}