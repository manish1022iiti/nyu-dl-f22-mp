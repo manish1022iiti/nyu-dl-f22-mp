{
  "cells": [
    {
      "cell_type": "markdown",
      "source": [
        "https://www.kaggle.com/code/greatcodes/pytorch-cnn-resnet18-cifar10/notebook\n",
        "\n",
        "https://pytorch-tutorial.readthedocs.io/en/latest/tutorial/chapter03_intermediate/3_2_2_cnn_resnet_cifar10/"
      ],
      "metadata": {
        "id": "TS3R6-AKKuSD"
      }
    },
    {
      "cell_type": "code",
      "execution_count": 1,
      "metadata": {
        "execution": {
          "iopub.execute_input": "2020-09-18T14:06:23.323276Z",
          "iopub.status.busy": "2020-09-18T14:06:23.322403Z",
          "iopub.status.idle": "2020-09-18T14:06:33.073785Z",
          "shell.execute_reply": "2020-09-18T14:06:33.073171Z"
        },
        "papermill": {
          "duration": 9.766997,
          "end_time": "2020-09-18T14:06:33.073915",
          "exception": false,
          "start_time": "2020-09-18T14:06:23.306918",
          "status": "completed"
        },
        "tags": [],
        "colab": {
          "base_uri": "https://localhost:8080/"
        },
        "id": "40qwzP9AKs_c",
        "outputId": "08ca8428-c98a-406c-d6d1-f8190c8b29b5"
      },
      "outputs": [
        {
          "output_type": "stream",
          "name": "stdout",
          "text": [
            "Looking in indexes: https://pypi.org/simple, https://us-python.pkg.dev/colab-wheels/public/simple/\n",
            "Requirement already satisfied: torchsummary in /usr/local/lib/python3.7/dist-packages (1.5.1)\n"
          ]
        }
      ],
      "source": [
        "!pip install torchsummary"
      ]
    },
    {
      "cell_type": "code",
      "execution_count": 2,
      "metadata": {
        "_cell_guid": "79c7e3d0-c299-4dcb-8224-4455121ee9b0",
        "_uuid": "d629ff2d2480ee46fbb7e2d37f6b5fab8052498a",
        "execution": {
          "iopub.execute_input": "2020-09-18T14:06:33.110540Z",
          "iopub.status.busy": "2020-09-18T14:06:33.109616Z",
          "iopub.status.idle": "2020-09-18T14:06:34.741497Z",
          "shell.execute_reply": "2020-09-18T14:06:34.742236Z"
        },
        "papermill": {
          "duration": 1.655486,
          "end_time": "2020-09-18T14:06:34.742433",
          "exception": false,
          "start_time": "2020-09-18T14:06:33.086947",
          "status": "completed"
        },
        "tags": [],
        "colab": {
          "base_uri": "https://localhost:8080/"
        },
        "id": "1L1ayeUjKs_d",
        "outputId": "75cc2ed7-c28d-41ed-de37-3e8feb0bd2a4"
      },
      "outputs": [
        {
          "output_type": "stream",
          "name": "stdout",
          "text": [
            "cuda\n"
          ]
        }
      ],
      "source": [
        "# Importing Libraries\n",
        "import os\n",
        "import copy\n",
        "import random\n",
        "import numpy as np\n",
        "import pandas as pd\n",
        "import torch\n",
        "import torchvision\n",
        "import torchvision.transforms as transforms\n",
        "from torchsummary import summary\n",
        "import torch.utils.data as data\n",
        "import torch.nn as nn\n",
        "import torch.nn.functional as F\n",
        "import torch.optim as optim\n",
        "from torch.optim.lr_scheduler import StepLR, ReduceLROnPlateau\n",
        "\n",
        "import matplotlib.pyplot as plt\n",
        "%matplotlib inline\n",
        "\n",
        "SEED = 1234\n",
        "\n",
        "device = \"cuda\" if torch.cuda.is_available else \"cpu\"\n",
        "print(device)"
      ]
    },
    {
      "cell_type": "code",
      "execution_count": 3,
      "metadata": {
        "execution": {
          "iopub.execute_input": "2020-09-18T14:06:34.781123Z",
          "iopub.status.busy": "2020-09-18T14:06:34.780293Z",
          "iopub.status.idle": "2020-09-18T14:06:34.784939Z",
          "shell.execute_reply": "2020-09-18T14:06:34.784333Z"
        },
        "papermill": {
          "duration": 0.028551,
          "end_time": "2020-09-18T14:06:34.785089",
          "exception": false,
          "start_time": "2020-09-18T14:06:34.756538",
          "status": "completed"
        },
        "tags": [],
        "id": "s_5gkccjKs_e"
      },
      "outputs": [],
      "source": [
        "from torchvision import transforms\n",
        "import numpy as np\n",
        "import torch\n",
        "\n",
        "# Returns a list of transformations when called\n",
        "\n",
        "class GetTransforms():\n",
        "    '''Returns a list of transformations when type as requested amongst train/test\n",
        "       Transforms('train') = list of transforms to apply on training data\n",
        "       Transforms('test') = list of transforms to apply on testing data'''\n",
        "\n",
        "    def __init__(self):\n",
        "        pass\n",
        "\n",
        "    def trainparams(self):\n",
        "        train_transformations = [ #resises the image so it can be perfect for our model.\n",
        "            transforms.RandomHorizontalFlip(), # FLips the image w.r.t horizontal axis\n",
        "            transforms.RandomRotation((-7,7)),     #Rotates the image to a specified angel\n",
        "            transforms.RandomAffine(0, shear=10, scale=(0.8,1.2)), #Performs actions like zooms, change shear angles.\n",
        "            transforms.ColorJitter(brightness=0.2, contrast=0.2, saturation=0.2), # Set the color params\n",
        "            transforms.ToTensor(), # comvert the image to tensor so that it can work with torch\n",
        "            transforms.Normalize((0.491, 0.482, 0.446), (0.247, 0.243, 0.261)) #Normalize all the images\n",
        "            ]\n",
        "\n",
        "        return train_transformations\n",
        "\n",
        "    def testparams(self):\n",
        "        test_transforms = [\n",
        "            transforms.ToTensor(),\n",
        "            transforms.Normalize((0.491, 0.482, 0.446), (0.247, 0.243, 0.261))\n",
        "        ]\n",
        "        return test_transforms"
      ]
    },
    {
      "cell_type": "code",
      "execution_count": 4,
      "metadata": {
        "execution": {
          "iopub.execute_input": "2020-09-18T14:06:34.822176Z",
          "iopub.status.busy": "2020-09-18T14:06:34.821389Z",
          "iopub.status.idle": "2020-09-18T14:06:34.824928Z",
          "shell.execute_reply": "2020-09-18T14:06:34.825448Z"
        },
        "papermill": {
          "duration": 0.026239,
          "end_time": "2020-09-18T14:06:34.825574",
          "exception": false,
          "start_time": "2020-09-18T14:06:34.799335",
          "status": "completed"
        },
        "tags": [],
        "id": "TUmYFrWSKs_g"
      },
      "outputs": [],
      "source": [
        "from torchvision import datasets\n",
        "from torchvision import transforms\n",
        "\n",
        "\n",
        "transformations = GetTransforms()\n",
        "train_transforms = transforms.Compose(transformations.trainparams())\n",
        "test_transforms = transforms.Compose(transformations.testparams())\n",
        "\n",
        "\n",
        "class GetCIFAR10_TrainData():\n",
        "    def __init__(self, dir_name:str):\n",
        "        self.dirname = dir_name\n",
        "\n",
        "    def download_train_data(self):\n",
        "        return datasets.CIFAR10('./data', train=True, download=True, transform=train_transforms)\n",
        "\n",
        "    def download_test_data(self):\n",
        "        return datasets.CIFAR10('./data', train=False, download=True, transform=test_transforms)\n"
      ]
    },
    {
      "cell_type": "code",
      "execution_count": 5,
      "metadata": {
        "execution": {
          "iopub.execute_input": "2020-09-18T14:06:34.859536Z",
          "iopub.status.busy": "2020-09-18T14:06:34.858878Z",
          "iopub.status.idle": "2020-09-18T14:06:42.631720Z",
          "shell.execute_reply": "2020-09-18T14:06:42.631008Z"
        },
        "papermill": {
          "duration": 7.792606,
          "end_time": "2020-09-18T14:06:42.631847",
          "exception": false,
          "start_time": "2020-09-18T14:06:34.839241",
          "status": "completed"
        },
        "tags": [],
        "colab": {
          "base_uri": "https://localhost:8080/",
          "height": 101,
          "referenced_widgets": [
            "4722d6439cc84fb39ca1a67a477dae57",
            "9f73568159a24bada32875ecad31f3e9",
            "9dc27fcf136a45e2b87be197e72446b3",
            "151eb01de714451e8814a06acba196b7",
            "50074dfb738447cf830ff4e8df46839b",
            "7d54c6d5df414303958cd7f34a7daa07",
            "ee309db9f35541e6b498e42728836858",
            "5eb0b2dc90354a74805cd023233739cc",
            "5e9f37eec2d04dd9b96ff571bcbd660a",
            "2214dbde627549e3bf3c9af6f386a82f",
            "f4dd7544d809417392da3ea5d54c08b0"
          ]
        },
        "id": "U8mSINXnKs_i",
        "outputId": "dc533916-5a1b-4901-d5f0-3657c45172f8"
      },
      "outputs": [
        {
          "output_type": "stream",
          "name": "stdout",
          "text": [
            "Downloading https://www.cs.toronto.edu/~kriz/cifar-10-python.tar.gz to ./data/cifar-10-python.tar.gz\n"
          ]
        },
        {
          "output_type": "display_data",
          "data": {
            "text/plain": [
              "  0%|          | 0/170498071 [00:00<?, ?it/s]"
            ],
            "application/vnd.jupyter.widget-view+json": {
              "version_major": 2,
              "version_minor": 0,
              "model_id": "4722d6439cc84fb39ca1a67a477dae57"
            }
          },
          "metadata": {}
        },
        {
          "output_type": "stream",
          "name": "stdout",
          "text": [
            "Extracting ./data/cifar-10-python.tar.gz to ./data\n",
            "Files already downloaded and verified\n"
          ]
        }
      ],
      "source": [
        "cdata = GetCIFAR10_TrainData(os.chdir(\"..\"))\n",
        "trainset = cdata.download_train_data()\n",
        "testset = cdata.download_test_data()\n",
        "\n",
        "VALID_RATIO = 0.9\n",
        "n_train_examples = int(len(trainset) * VALID_RATIO)\n",
        "n_valid_examples = len(trainset) - n_train_examples\n",
        "\n",
        "trainset, validset = data.random_split(trainset, \n",
        "                                           [n_train_examples, n_valid_examples])\n",
        "\n",
        "validset = copy.deepcopy(validset)\n",
        "validset.dataset.transform = test_transforms"
      ]
    },
    {
      "cell_type": "code",
      "source": [
        "len(trainset), len(validset), len(testset)"
      ],
      "metadata": {
        "colab": {
          "base_uri": "https://localhost:8080/"
        },
        "id": "W_h-ul9MYUPZ",
        "outputId": "95a16e56-057a-422f-bb94-210f0bb9fff3"
      },
      "execution_count": 6,
      "outputs": [
        {
          "output_type": "execute_result",
          "data": {
            "text/plain": [
              "(45000, 5000, 10000)"
            ]
          },
          "metadata": {},
          "execution_count": 6
        }
      ]
    },
    {
      "cell_type": "code",
      "source": [
        "BATCH_SIZE = 512\n",
        "\n",
        "trainloader = torch.utils.data.DataLoader(trainset, batch_size=BATCH_SIZE,\n",
        "                                          shuffle=True, num_workers=2)\n",
        "validloader = torch.utils.data.DataLoader(validset, batch_size=BATCH_SIZE,\n",
        "                                          shuffle=False, num_workers=2)\n",
        "testloader = torch.utils.data.DataLoader(testset, batch_size=BATCH_SIZE,\n",
        "                                         shuffle=False, num_workers=2)"
      ],
      "metadata": {
        "id": "uybGoOcRQA6S"
      },
      "execution_count": 7,
      "outputs": []
    },
    {
      "cell_type": "markdown",
      "metadata": {
        "papermill": {
          "duration": 0.01586,
          "end_time": "2020-09-18T14:06:42.663889",
          "exception": false,
          "start_time": "2020-09-18T14:06:42.648029",
          "status": "completed"
        },
        "tags": [],
        "id": "H6YIObpwKs_j"
      },
      "source": [
        "# The Model - RESNET18\n"
      ]
    },
    {
      "cell_type": "code",
      "source": [
        "# 3x3 convolution\n",
        "def conv3x3(in_channels, out_channels, stride=1):\n",
        "    return nn.Conv2d(in_channels, out_channels, kernel_size=3, \n",
        "                     stride=stride, padding=1, bias=False)"
      ],
      "metadata": {
        "id": "G9TNZ9fONNbW"
      },
      "execution_count": 8,
      "outputs": []
    },
    {
      "cell_type": "code",
      "execution_count": 9,
      "metadata": {
        "execution": {
          "iopub.execute_input": "2020-09-18T14:06:42.726092Z",
          "iopub.status.busy": "2020-09-18T14:06:42.719704Z",
          "iopub.status.idle": "2020-09-18T14:06:42.729169Z",
          "shell.execute_reply": "2020-09-18T14:06:42.728568Z"
        },
        "papermill": {
          "duration": 0.048555,
          "end_time": "2020-09-18T14:06:42.729267",
          "exception": false,
          "start_time": "2020-09-18T14:06:42.680712",
          "status": "completed"
        },
        "tags": [],
        "id": "yJJ0Idu8Ks_j"
      },
      "outputs": [],
      "source": [
        "# Residual block\n",
        "class ResidualBlock(nn.Module):\n",
        "    def __init__(self, in_channels, out_channels, stride=1, downsample=None):\n",
        "        super(ResidualBlock, self).__init__()\n",
        "        \n",
        "        self.conv1 = conv3x3(in_channels, out_channels, stride)\n",
        "        self.bn1 = nn.BatchNorm2d(out_channels)\n",
        "        self.dropout1 = nn.Dropout(0.1)\n",
        "        \n",
        "        self.relu = nn.ReLU(inplace=True)\n",
        "        \n",
        "        self.conv2 = conv3x3(out_channels, out_channels)\n",
        "        self.bn2 = nn.BatchNorm2d(out_channels)\n",
        "        self.dropout2 = nn.Dropout(0.1)\n",
        "        \n",
        "        self.downsample = downsample\n",
        "\n",
        "    def forward(self, x):\n",
        "        residual = x\n",
        "\n",
        "        out = self.conv1(x)\n",
        "        out = self.bn1(out)\n",
        "        out = self.dropout1(out)\n",
        "        out = self.relu(out)\n",
        "        \n",
        "        out = self.conv2(out)\n",
        "        out = self.bn2(out)\n",
        "        out = self.dropout2(out)\n",
        "        if self.downsample:\n",
        "            residual = self.downsample(x)\n",
        "        out += residual\n",
        "        out = self.relu(out)\n",
        "        \n",
        "        return out\n",
        "\n",
        "# ResNet\n",
        "class ResNet(nn.Module):\n",
        "    def __init__(self, block, layers, num_classes=10):\n",
        "        super(ResNet, self).__init__()\n",
        "        \n",
        "        self.in_channels = 64\n",
        "        \n",
        "        self.conv = conv3x3(in_channels=3, out_channels=64)\n",
        "        self.bn = nn.BatchNorm2d(64)\n",
        "        self.relu = nn.ReLU(inplace=True)\n",
        "\n",
        "        self.layer1 = self.make_layer(block=block, out_channels=64, blocks=layers[0], stride=1)\n",
        "        self.layer2 = self.make_layer(block=block, out_channels=128, blocks=layers[1], stride=2)\n",
        "        self.layer3 = self.make_layer(block=block, out_channels=256, blocks=layers[2], stride=2)\n",
        "        # self.layer4 = self.make_layer(block=block, out_channels=512, blocks=layers[3], stride=2)\n",
        "\n",
        "        self.avg_pool = nn.AvgPool2d(4)\n",
        "        # self.fc = nn.Linear(256, num_classes)\n",
        "        self.fc = nn.Linear(1024, num_classes)\n",
        "\n",
        "    def make_layer(self, block, out_channels, blocks, stride=1):\n",
        "        downsample = None\n",
        "        if (stride != 1) or (self.in_channels != out_channels):\n",
        "            downsample = nn.Sequential(\n",
        "                conv3x3(self.in_channels, out_channels, stride=stride),\n",
        "                nn.BatchNorm2d(out_channels))\n",
        "        layers = []\n",
        "        layers.append(block(self.in_channels, out_channels, stride, downsample))\n",
        "        self.in_channels = out_channels\n",
        "        for i in range(1, blocks):\n",
        "            layers.append(block(out_channels, out_channels))\n",
        "        return nn.Sequential(*layers)\n",
        "\n",
        "    def forward(self, x):\n",
        "        out = self.conv(x)\n",
        "        out = self.bn(out)\n",
        "        out = self.relu(out)\n",
        "        out = self.layer1(out)\n",
        "        out = self.layer2(out)\n",
        "        out = self.layer3(out)\n",
        "        # out = self.layer4(out)\n",
        "        out = self.avg_pool(out)\n",
        "        out = out.view(out.size(0), -1)\n",
        "        out = self.fc(out)\n",
        "        return F.log_softmax(out, dim=-1)\n",
        "\n",
        "def ResNet18():\n",
        "    # return ResNet(ResidualBlock, [2, 2, 2, 2])\n",
        "    return ResNet(ResidualBlock, [3, 4, 3])"
      ]
    },
    {
      "cell_type": "code",
      "execution_count": 10,
      "metadata": {
        "execution": {
          "iopub.execute_input": "2020-09-18T14:06:42.764813Z",
          "iopub.status.busy": "2020-09-18T14:06:42.764098Z",
          "iopub.status.idle": "2020-09-18T14:06:48.527600Z",
          "shell.execute_reply": "2020-09-18T14:06:48.528219Z"
        },
        "papermill": {
          "duration": 5.783641,
          "end_time": "2020-09-18T14:06:48.528379",
          "exception": false,
          "start_time": "2020-09-18T14:06:42.744738",
          "status": "completed"
        },
        "tags": [],
        "colab": {
          "base_uri": "https://localhost:8080/"
        },
        "id": "INT7cGhKKs_k",
        "outputId": "b2e08735-3441-4a23-9944-91ba7938d53d"
      },
      "outputs": [
        {
          "output_type": "stream",
          "name": "stdout",
          "text": [
            "----------------------------------------------------------------\n",
            "        Layer (type)               Output Shape         Param #\n",
            "================================================================\n",
            "            Conv2d-1           [-1, 64, 32, 32]           1,728\n",
            "       BatchNorm2d-2           [-1, 64, 32, 32]             128\n",
            "              ReLU-3           [-1, 64, 32, 32]               0\n",
            "            Conv2d-4           [-1, 64, 32, 32]          36,864\n",
            "       BatchNorm2d-5           [-1, 64, 32, 32]             128\n",
            "           Dropout-6           [-1, 64, 32, 32]               0\n",
            "              ReLU-7           [-1, 64, 32, 32]               0\n",
            "            Conv2d-8           [-1, 64, 32, 32]          36,864\n",
            "       BatchNorm2d-9           [-1, 64, 32, 32]             128\n",
            "          Dropout-10           [-1, 64, 32, 32]               0\n",
            "             ReLU-11           [-1, 64, 32, 32]               0\n",
            "    ResidualBlock-12           [-1, 64, 32, 32]               0\n",
            "           Conv2d-13           [-1, 64, 32, 32]          36,864\n",
            "      BatchNorm2d-14           [-1, 64, 32, 32]             128\n",
            "          Dropout-15           [-1, 64, 32, 32]               0\n",
            "             ReLU-16           [-1, 64, 32, 32]               0\n",
            "           Conv2d-17           [-1, 64, 32, 32]          36,864\n",
            "      BatchNorm2d-18           [-1, 64, 32, 32]             128\n",
            "          Dropout-19           [-1, 64, 32, 32]               0\n",
            "             ReLU-20           [-1, 64, 32, 32]               0\n",
            "    ResidualBlock-21           [-1, 64, 32, 32]               0\n",
            "           Conv2d-22           [-1, 64, 32, 32]          36,864\n",
            "      BatchNorm2d-23           [-1, 64, 32, 32]             128\n",
            "          Dropout-24           [-1, 64, 32, 32]               0\n",
            "             ReLU-25           [-1, 64, 32, 32]               0\n",
            "           Conv2d-26           [-1, 64, 32, 32]          36,864\n",
            "      BatchNorm2d-27           [-1, 64, 32, 32]             128\n",
            "          Dropout-28           [-1, 64, 32, 32]               0\n",
            "             ReLU-29           [-1, 64, 32, 32]               0\n",
            "    ResidualBlock-30           [-1, 64, 32, 32]               0\n",
            "           Conv2d-31          [-1, 128, 16, 16]          73,728\n",
            "      BatchNorm2d-32          [-1, 128, 16, 16]             256\n",
            "          Dropout-33          [-1, 128, 16, 16]               0\n",
            "             ReLU-34          [-1, 128, 16, 16]               0\n",
            "           Conv2d-35          [-1, 128, 16, 16]         147,456\n",
            "      BatchNorm2d-36          [-1, 128, 16, 16]             256\n",
            "          Dropout-37          [-1, 128, 16, 16]               0\n",
            "           Conv2d-38          [-1, 128, 16, 16]          73,728\n",
            "      BatchNorm2d-39          [-1, 128, 16, 16]             256\n",
            "             ReLU-40          [-1, 128, 16, 16]               0\n",
            "    ResidualBlock-41          [-1, 128, 16, 16]               0\n",
            "           Conv2d-42          [-1, 128, 16, 16]         147,456\n",
            "      BatchNorm2d-43          [-1, 128, 16, 16]             256\n",
            "          Dropout-44          [-1, 128, 16, 16]               0\n",
            "             ReLU-45          [-1, 128, 16, 16]               0\n",
            "           Conv2d-46          [-1, 128, 16, 16]         147,456\n",
            "      BatchNorm2d-47          [-1, 128, 16, 16]             256\n",
            "          Dropout-48          [-1, 128, 16, 16]               0\n",
            "             ReLU-49          [-1, 128, 16, 16]               0\n",
            "    ResidualBlock-50          [-1, 128, 16, 16]               0\n",
            "           Conv2d-51          [-1, 128, 16, 16]         147,456\n",
            "      BatchNorm2d-52          [-1, 128, 16, 16]             256\n",
            "          Dropout-53          [-1, 128, 16, 16]               0\n",
            "             ReLU-54          [-1, 128, 16, 16]               0\n",
            "           Conv2d-55          [-1, 128, 16, 16]         147,456\n",
            "      BatchNorm2d-56          [-1, 128, 16, 16]             256\n",
            "          Dropout-57          [-1, 128, 16, 16]               0\n",
            "             ReLU-58          [-1, 128, 16, 16]               0\n",
            "    ResidualBlock-59          [-1, 128, 16, 16]               0\n",
            "           Conv2d-60          [-1, 128, 16, 16]         147,456\n",
            "      BatchNorm2d-61          [-1, 128, 16, 16]             256\n",
            "          Dropout-62          [-1, 128, 16, 16]               0\n",
            "             ReLU-63          [-1, 128, 16, 16]               0\n",
            "           Conv2d-64          [-1, 128, 16, 16]         147,456\n",
            "      BatchNorm2d-65          [-1, 128, 16, 16]             256\n",
            "          Dropout-66          [-1, 128, 16, 16]               0\n",
            "             ReLU-67          [-1, 128, 16, 16]               0\n",
            "    ResidualBlock-68          [-1, 128, 16, 16]               0\n",
            "           Conv2d-69            [-1, 256, 8, 8]         294,912\n",
            "      BatchNorm2d-70            [-1, 256, 8, 8]             512\n",
            "          Dropout-71            [-1, 256, 8, 8]               0\n",
            "             ReLU-72            [-1, 256, 8, 8]               0\n",
            "           Conv2d-73            [-1, 256, 8, 8]         589,824\n",
            "      BatchNorm2d-74            [-1, 256, 8, 8]             512\n",
            "          Dropout-75            [-1, 256, 8, 8]               0\n",
            "           Conv2d-76            [-1, 256, 8, 8]         294,912\n",
            "      BatchNorm2d-77            [-1, 256, 8, 8]             512\n",
            "             ReLU-78            [-1, 256, 8, 8]               0\n",
            "    ResidualBlock-79            [-1, 256, 8, 8]               0\n",
            "           Conv2d-80            [-1, 256, 8, 8]         589,824\n",
            "      BatchNorm2d-81            [-1, 256, 8, 8]             512\n",
            "          Dropout-82            [-1, 256, 8, 8]               0\n",
            "             ReLU-83            [-1, 256, 8, 8]               0\n",
            "           Conv2d-84            [-1, 256, 8, 8]         589,824\n",
            "      BatchNorm2d-85            [-1, 256, 8, 8]             512\n",
            "          Dropout-86            [-1, 256, 8, 8]               0\n",
            "             ReLU-87            [-1, 256, 8, 8]               0\n",
            "    ResidualBlock-88            [-1, 256, 8, 8]               0\n",
            "           Conv2d-89            [-1, 256, 8, 8]         589,824\n",
            "      BatchNorm2d-90            [-1, 256, 8, 8]             512\n",
            "          Dropout-91            [-1, 256, 8, 8]               0\n",
            "             ReLU-92            [-1, 256, 8, 8]               0\n",
            "           Conv2d-93            [-1, 256, 8, 8]         589,824\n",
            "      BatchNorm2d-94            [-1, 256, 8, 8]             512\n",
            "          Dropout-95            [-1, 256, 8, 8]               0\n",
            "             ReLU-96            [-1, 256, 8, 8]               0\n",
            "    ResidualBlock-97            [-1, 256, 8, 8]               0\n",
            "        AvgPool2d-98            [-1, 256, 2, 2]               0\n",
            "           Linear-99                   [-1, 10]          10,250\n",
            "================================================================\n",
            "Total params: 4,958,538\n",
            "Trainable params: 4,958,538\n",
            "Non-trainable params: 0\n",
            "----------------------------------------------------------------\n",
            "Input size (MB): 0.01\n",
            "Forward/backward pass size (MB): 28.13\n",
            "Params size (MB): 18.92\n",
            "Estimated Total Size (MB): 47.06\n",
            "----------------------------------------------------------------\n"
          ]
        }
      ],
      "source": [
        "# Importing Model and printing Summary\n",
        "model = ResNet18().to(device)\n",
        "summary(model, input_size=(3,32,32))"
      ]
    },
    {
      "cell_type": "code",
      "execution_count": 11,
      "metadata": {
        "execution": {
          "iopub.execute_input": "2020-09-18T14:06:48.577693Z",
          "iopub.status.busy": "2020-09-18T14:06:48.576994Z",
          "iopub.status.idle": "2020-09-18T14:06:48.581591Z",
          "shell.execute_reply": "2020-09-18T14:06:48.581094Z"
        },
        "papermill": {
          "duration": 0.03332,
          "end_time": "2020-09-18T14:06:48.581710",
          "exception": false,
          "start_time": "2020-09-18T14:06:48.548390",
          "status": "completed"
        },
        "tags": [],
        "id": "-53UyTmsKs_m"
      },
      "outputs": [],
      "source": [
        "from tqdm import tqdm\n",
        "from torch import nn\n",
        "import torch.nn\n",
        "from torch.functional import F\n",
        "import os\n",
        "\n",
        "\n",
        "def model_training(model, device, train_dataloader, optimizer, train_acc, train_losses):\n",
        "            \n",
        "    model.train()\n",
        "    pbar = tqdm(train_dataloader)\n",
        "    correct = 0\n",
        "    processed = 0\n",
        "    running_loss = 0.0\n",
        "\n",
        "    for batch_idx, (data, target) in enumerate(pbar):\n",
        "        data, target = data.to(device), target.to(device)\n",
        "        optimizer.zero_grad()\n",
        "        y_pred = model(data)\n",
        "        loss = F.nll_loss(y_pred, target)\n",
        "        \n",
        "\n",
        "        # train_losses.append(loss.item())\n",
        "        loss.backward()\n",
        "        optimizer.step()\n",
        "\n",
        "        pred = y_pred.argmax(dim=1, keepdim=True)\n",
        "        correct += pred.eq(target.view_as(pred)).sum().item()\n",
        "        processed += len(data)\n",
        "        \n",
        "        # print statistics\n",
        "        \n",
        "        running_loss += loss.item()\n",
        "        pbar.set_description(desc=f'Batch_id={batch_idx} Batch Loss={loss.item()} Running Loss={running_loss} Running Accuracy={100*correct/processed:0.2f}')\n",
        "        # train_acc.append(100*correct/processed)\n",
        "    \n",
        "    train_losses.append(running_loss)\n",
        "    train_acc.append(100*correct/processed)"
      ]
    },
    {
      "cell_type": "code",
      "execution_count": 12,
      "metadata": {
        "execution": {
          "iopub.execute_input": "2020-09-18T14:06:48.629732Z",
          "iopub.status.busy": "2020-09-18T14:06:48.628793Z",
          "iopub.status.idle": "2020-09-18T14:06:48.631384Z",
          "shell.execute_reply": "2020-09-18T14:06:48.631909Z"
        },
        "papermill": {
          "duration": 0.03462,
          "end_time": "2020-09-18T14:06:48.632026",
          "exception": false,
          "start_time": "2020-09-18T14:06:48.597406",
          "status": "completed"
        },
        "tags": [],
        "id": "E4BrK-0EKs_n"
      },
      "outputs": [],
      "source": [
        "import torch\n",
        "import os\n",
        "from torch.functional import F\n",
        "\n",
        "cwd = os.getcwd()\n",
        "\n",
        "def model_testing(model, device, test_dataloader, test_acc, test_losses, misclassified = []):\n",
        "    \n",
        "    model.eval()\n",
        "    test_loss = 0\n",
        "    correct = 0\n",
        "    class_correct = list(0. for i in range(10))\n",
        "    class_total = list(0. for i in range(10))\n",
        "    # label = 0\n",
        "    classes = ('plane', 'car', 'bird', 'cat',\n",
        "           'deer', 'dog', 'frog', 'horse', 'ship', 'truck')\n",
        "    \n",
        "    with torch.no_grad():\n",
        "\n",
        "        for index, (data, target) in enumerate(test_dataloader):\n",
        "            data, target = data.to(device), target.to(device)\n",
        "            output = model(data)\n",
        "            pred = output.argmax(dim=1, keepdim=True)\n",
        "            \n",
        "            for d,i,j in zip(data, pred, target):\n",
        "                if i != j:\n",
        "                    misclassified.append([d.cpu(),i[0].cpu(),j.cpu()])\n",
        "\n",
        "            test_loss += F.nll_loss(output, target, reduction='sum').item()\n",
        "            correct += pred.eq(target.view_as(pred)).sum().item()\n",
        "    test_loss /= len(test_dataloader.dataset)\n",
        "    test_losses.append(test_loss)\n",
        "    \n",
        "    print('\\nTest set: Average loss: {:.4f}, Accuracy: {}/{} ({:.2f}%)\\n'.format(\n",
        "        test_loss, correct, len(test_dataloader.dataset),\n",
        "        100. * correct / len(test_dataloader.dataset)))\n",
        "    \n",
        "    test_acc.append(100. * correct / len(test_dataloader.dataset))\n",
        "    return misclassified, correct / len(test_dataloader.dataset)"
      ]
    },
    {
      "cell_type": "code",
      "source": [
        "def model_evaluation(model, device, loader):\n",
        "    \n",
        "    epoch_loss = 0\n",
        "    epoch_acc = 0\n",
        "    \n",
        "    model.eval()\n",
        "    \n",
        "    with torch.no_grad():\n",
        "        \n",
        "        for (x, y) in loader:\n",
        "\n",
        "            x = x.to(device)\n",
        "            y = y.to(device)\n",
        "\n",
        "            y_pred = model(x)\n",
        "            loss = F.nll_loss(y_pred, y)\n",
        "        \n",
        "            pred = y_pred.argmax(dim=1, keepdim=True)\n",
        "            acc = pred.eq(y.view_as(pred)).sum()\n",
        "\n",
        "            epoch_loss += loss.item()\n",
        "            epoch_acc += acc.item()\n",
        "        \n",
        "    print('\\nValidation set: Average loss: {:.4f}, Accuracy: {}/{} ({:.2f}%)\\n'.format(\n",
        "    epoch_loss / len(loader.dataset), epoch_acc, len(loader.dataset),\n",
        "    100. * epoch_acc / len(loader.dataset)))\n",
        "\n",
        "    return epoch_loss, epoch_acc / len(loader.dataset)"
      ],
      "metadata": {
        "id": "ysDy3WkqUGb-"
      },
      "execution_count": 13,
      "outputs": []
    },
    {
      "cell_type": "code",
      "source": [
        "# Defining parameters\n",
        "\n",
        "criterion = nn.CrossEntropyLoss()\n",
        "\n",
        "# optimizer = optim.SGD(model.parameters(), lr=0.05, momentum=0.9)\n",
        "optimizer = optim.SGD(model.parameters(), lr=0.01, momentum=0.9)\n",
        "\n",
        "scheduler = ReduceLROnPlateau(optimizer, mode='min', factor=0.1, patience=2, threshold=0.0001, threshold_mode='rel', cooldown=0, min_lr=0, eps=1e-08, verbose=True)\n",
        "# scheduler = ReduceLROnPlateau(optimizer, mode='min', factor=0.1, patience=2, threshold=0.001, threshold_mode='rel', cooldown=0, min_lr=0, eps=1e-08, verbose=True)\n",
        "# scheduler = StepLR(optimizer, step_size=15, gamma=0.1)"
      ],
      "metadata": {
        "id": "L7LSCkvhAdb0"
      },
      "execution_count": 14,
      "outputs": []
    },
    {
      "cell_type": "code",
      "source": [
        "import pandas\n",
        "\n",
        "def save_to_csv(csvname, train_losses, train_accs, test_losses, test_accs):\n",
        "  df = pandas.DataFrame()\n",
        "  df[\"epoch\"] = [i+1 for i in range(len(train_losses))]\n",
        "  df[\"train_loss\"] = train_losses\n",
        "  df[\"test_loss\"] = test_losses\n",
        "  df[\"train_acc\"] = train_accs\n",
        "  df[\"test_acc\"] = test_accs\n",
        "  df.to_csv(csvname)"
      ],
      "metadata": {
        "id": "ZHZtNdVzaOAD"
      },
      "execution_count": 15,
      "outputs": []
    },
    {
      "cell_type": "code",
      "execution_count": 16,
      "metadata": {
        "execution": {
          "iopub.execute_input": "2020-09-18T14:06:48.676683Z",
          "iopub.status.busy": "2020-09-18T14:06:48.675972Z",
          "iopub.status.idle": "2020-09-18T14:33:04.548416Z",
          "shell.execute_reply": "2020-09-18T14:33:04.549364Z"
        },
        "papermill": {
          "duration": 1575.900797,
          "end_time": "2020-09-18T14:33:04.549700",
          "exception": false,
          "start_time": "2020-09-18T14:06:48.648903",
          "status": "completed"
        },
        "tags": [],
        "colab": {
          "base_uri": "https://localhost:8080/"
        },
        "id": "rtrFA-RCKs_o",
        "outputId": "a6d93477-10fc-4e4a-e44b-50b33d1acc6c"
      },
      "outputs": [
        {
          "output_type": "stream",
          "name": "stdout",
          "text": [
            "EPOCHS : 0\n"
          ]
        },
        {
          "output_type": "stream",
          "name": "stderr",
          "text": [
            "Batch_id=87 Batch Loss=1.4170489311218262 Running Loss=153.4842507839203 Running Accuracy=35.98: 100%|██████████| 88/88 [00:49<00:00,  1.79it/s]\n"
          ]
        },
        {
          "output_type": "stream",
          "name": "stdout",
          "text": [
            "\n",
            "Validation set: Average loss: 0.0028, Accuracy: 2478/5000 (49.56%)\n",
            "\n",
            "\n",
            "Test set: Average loss: 1.4022, Accuracy: 5040/10000 (50.40%)\n",
            "\n",
            "EPOCHS : 1\n"
          ]
        },
        {
          "output_type": "stream",
          "name": "stderr",
          "text": [
            "Batch_id=87 Batch Loss=1.1747334003448486 Running Loss=116.00295579433441 Running Accuracy=52.58: 100%|██████████| 88/88 [00:50<00:00,  1.75it/s]\n"
          ]
        },
        {
          "output_type": "stream",
          "name": "stdout",
          "text": [
            "\n",
            "Validation set: Average loss: 0.0021, Accuracy: 3079/5000 (61.58%)\n",
            "\n",
            "\n",
            "Test set: Average loss: 1.0688, Accuracy: 6162/10000 (61.62%)\n",
            "\n",
            "EPOCHS : 2\n"
          ]
        },
        {
          "output_type": "stream",
          "name": "stderr",
          "text": [
            "Batch_id=87 Batch Loss=1.0874477624893188 Running Loss=97.3460903763771 Running Accuracy=60.57: 100%|██████████| 88/88 [00:51<00:00,  1.72it/s]\n"
          ]
        },
        {
          "output_type": "stream",
          "name": "stdout",
          "text": [
            "\n",
            "Validation set: Average loss: 0.0020, Accuracy: 3269/5000 (65.38%)\n",
            "\n",
            "\n",
            "Test set: Average loss: 1.0201, Accuracy: 6532/10000 (65.32%)\n",
            "\n",
            "EPOCHS : 3\n"
          ]
        },
        {
          "output_type": "stream",
          "name": "stderr",
          "text": [
            "Batch_id=87 Batch Loss=0.974215030670166 Running Loss=85.996098279953 Running Accuracy=65.29: 100%|██████████| 88/88 [00:51<00:00,  1.72it/s]\n"
          ]
        },
        {
          "output_type": "stream",
          "name": "stdout",
          "text": [
            "\n",
            "Validation set: Average loss: 0.0018, Accuracy: 3465/5000 (69.30%)\n",
            "\n",
            "\n",
            "Test set: Average loss: 0.8949, Accuracy: 6932/10000 (69.32%)\n",
            "\n",
            "EPOCHS : 4\n"
          ]
        },
        {
          "output_type": "stream",
          "name": "stderr",
          "text": [
            "Batch_id=87 Batch Loss=0.7401211857795715 Running Loss=74.59105789661407 Running Accuracy=69.92: 100%|██████████| 88/88 [00:50<00:00,  1.73it/s]\n"
          ]
        },
        {
          "output_type": "stream",
          "name": "stdout",
          "text": [
            "\n",
            "Validation set: Average loss: 0.0015, Accuracy: 3657/5000 (73.14%)\n",
            "\n",
            "\n",
            "Test set: Average loss: 0.7692, Accuracy: 7334/10000 (73.34%)\n",
            "\n",
            "EPOCHS : 5\n"
          ]
        },
        {
          "output_type": "stream",
          "name": "stderr",
          "text": [
            "Batch_id=87 Batch Loss=0.7538799047470093 Running Loss=68.06900811195374 Running Accuracy=72.60: 100%|██████████| 88/88 [00:51<00:00,  1.72it/s]\n"
          ]
        },
        {
          "output_type": "stream",
          "name": "stdout",
          "text": [
            "\n",
            "Validation set: Average loss: 0.0014, Accuracy: 3805/5000 (76.10%)\n",
            "\n",
            "\n",
            "Test set: Average loss: 0.7385, Accuracy: 7495/10000 (74.95%)\n",
            "\n",
            "EPOCHS : 6\n"
          ]
        },
        {
          "output_type": "stream",
          "name": "stderr",
          "text": [
            "Batch_id=87 Batch Loss=0.6202577352523804 Running Loss=62.62460297346115 Running Accuracy=75.09: 100%|██████████| 88/88 [00:50<00:00,  1.73it/s]\n"
          ]
        },
        {
          "output_type": "stream",
          "name": "stdout",
          "text": [
            "\n",
            "Validation set: Average loss: 0.0012, Accuracy: 3948/5000 (78.96%)\n",
            "\n",
            "\n",
            "Test set: Average loss: 0.6633, Accuracy: 7740/10000 (77.40%)\n",
            "\n",
            "EPOCHS : 7\n"
          ]
        },
        {
          "output_type": "stream",
          "name": "stderr",
          "text": [
            "Batch_id=87 Batch Loss=0.5990933179855347 Running Loss=59.25406241416931 Running Accuracy=76.33: 100%|██████████| 88/88 [00:50<00:00,  1.73it/s]\n"
          ]
        },
        {
          "output_type": "stream",
          "name": "stdout",
          "text": [
            "\n",
            "Validation set: Average loss: 0.0011, Accuracy: 3999/5000 (79.98%)\n",
            "\n",
            "\n",
            "Test set: Average loss: 0.5949, Accuracy: 7977/10000 (79.77%)\n",
            "\n",
            "EPOCHS : 8\n"
          ]
        },
        {
          "output_type": "stream",
          "name": "stderr",
          "text": [
            "Batch_id=87 Batch Loss=0.6738110780715942 Running Loss=54.953682005405426 Running Accuracy=78.11: 100%|██████████| 88/88 [00:50<00:00,  1.73it/s]\n"
          ]
        },
        {
          "output_type": "stream",
          "name": "stdout",
          "text": [
            "\n",
            "Validation set: Average loss: 0.0012, Accuracy: 3944/5000 (78.88%)\n",
            "\n",
            "\n",
            "Test set: Average loss: 0.6517, Accuracy: 7852/10000 (78.52%)\n",
            "\n",
            "EPOCHS : 9\n"
          ]
        },
        {
          "output_type": "stream",
          "name": "stderr",
          "text": [
            "Batch_id=87 Batch Loss=0.6210492253303528 Running Loss=52.81561726331711 Running Accuracy=78.76: 100%|██████████| 88/88 [00:51<00:00,  1.72it/s]\n"
          ]
        },
        {
          "output_type": "stream",
          "name": "stdout",
          "text": [
            "\n",
            "Validation set: Average loss: 0.0012, Accuracy: 4039/5000 (80.78%)\n",
            "\n",
            "\n",
            "Test set: Average loss: 0.6153, Accuracy: 7992/10000 (79.92%)\n",
            "\n",
            "EPOCHS : 10\n"
          ]
        },
        {
          "output_type": "stream",
          "name": "stderr",
          "text": [
            "Batch_id=87 Batch Loss=0.5633490085601807 Running Loss=50.03006273508072 Running Accuracy=80.15: 100%|██████████| 88/88 [00:50<00:00,  1.73it/s]\n"
          ]
        },
        {
          "output_type": "stream",
          "name": "stdout",
          "text": [
            "\n",
            "Validation set: Average loss: 0.0011, Accuracy: 4082/5000 (81.64%)\n",
            "\n",
            "\n",
            "Test set: Average loss: 0.5746, Accuracy: 8116/10000 (81.16%)\n",
            "\n",
            "EPOCHS : 11\n"
          ]
        },
        {
          "output_type": "stream",
          "name": "stderr",
          "text": [
            "Batch_id=87 Batch Loss=0.5766981244087219 Running Loss=47.32274994254112 Running Accuracy=81.06: 100%|██████████| 88/88 [00:51<00:00,  1.72it/s]\n"
          ]
        },
        {
          "output_type": "stream",
          "name": "stdout",
          "text": [
            "\n",
            "Validation set: Average loss: 0.0011, Accuracy: 4090/5000 (81.80%)\n",
            "\n",
            "\n",
            "Test set: Average loss: 0.5986, Accuracy: 8043/10000 (80.43%)\n",
            "\n",
            "EPOCHS : 12\n"
          ]
        },
        {
          "output_type": "stream",
          "name": "stderr",
          "text": [
            "Batch_id=87 Batch Loss=0.4756104648113251 Running Loss=44.89047992229462 Running Accuracy=82.03: 100%|██████████| 88/88 [00:51<00:00,  1.72it/s]\n"
          ]
        },
        {
          "output_type": "stream",
          "name": "stdout",
          "text": [
            "\n",
            "Validation set: Average loss: 0.0013, Accuracy: 3934/5000 (78.68%)\n",
            "\n",
            "\n",
            "Test set: Average loss: 0.6788, Accuracy: 7886/10000 (78.86%)\n",
            "\n",
            "EPOCHS : 13\n"
          ]
        },
        {
          "output_type": "stream",
          "name": "stderr",
          "text": [
            "Batch_id=87 Batch Loss=0.5036187767982483 Running Loss=41.77852672338486 Running Accuracy=83.32: 100%|██████████| 88/88 [00:51<00:00,  1.72it/s]\n"
          ]
        },
        {
          "output_type": "stream",
          "name": "stdout",
          "text": [
            "\n",
            "Validation set: Average loss: 0.0010, Accuracy: 4129/5000 (82.58%)\n",
            "\n",
            "\n",
            "Test set: Average loss: 0.5204, Accuracy: 8309/10000 (83.09%)\n",
            "\n",
            "EPOCHS : 14\n"
          ]
        },
        {
          "output_type": "stream",
          "name": "stderr",
          "text": [
            "Batch_id=87 Batch Loss=0.5220705270767212 Running Loss=41.042870074510574 Running Accuracy=83.57: 100%|██████████| 88/88 [00:51<00:00,  1.72it/s]\n"
          ]
        },
        {
          "output_type": "stream",
          "name": "stdout",
          "text": [
            "\n",
            "Validation set: Average loss: 0.0009, Accuracy: 4284/5000 (85.68%)\n",
            "\n",
            "\n",
            "Test set: Average loss: 0.4552, Accuracy: 8461/10000 (84.61%)\n",
            "\n",
            "EPOCHS : 15\n"
          ]
        },
        {
          "output_type": "stream",
          "name": "stderr",
          "text": [
            "Batch_id=87 Batch Loss=0.5328029990196228 Running Loss=40.18190059065819 Running Accuracy=84.10: 100%|██████████| 88/88 [00:51<00:00,  1.72it/s]\n"
          ]
        },
        {
          "output_type": "stream",
          "name": "stdout",
          "text": [
            "\n",
            "Validation set: Average loss: 0.0008, Accuracy: 4328/5000 (86.56%)\n",
            "\n",
            "\n",
            "Test set: Average loss: 0.4154, Accuracy: 8585/10000 (85.85%)\n",
            "\n",
            "EPOCHS : 16\n"
          ]
        },
        {
          "output_type": "stream",
          "name": "stderr",
          "text": [
            "Batch_id=87 Batch Loss=0.5153507590293884 Running Loss=37.75802254676819 Running Accuracy=84.98: 100%|██████████| 88/88 [00:51<00:00,  1.72it/s]\n"
          ]
        },
        {
          "output_type": "stream",
          "name": "stdout",
          "text": [
            "\n",
            "Validation set: Average loss: 0.0008, Accuracy: 4362/5000 (87.24%)\n",
            "\n",
            "\n",
            "Test set: Average loss: 0.4209, Accuracy: 8598/10000 (85.98%)\n",
            "\n",
            "EPOCHS : 17\n"
          ]
        },
        {
          "output_type": "stream",
          "name": "stderr",
          "text": [
            "Batch_id=87 Batch Loss=0.39802175760269165 Running Loss=35.932539224624634 Running Accuracy=85.64: 100%|██████████| 88/88 [00:51<00:00,  1.72it/s]\n"
          ]
        },
        {
          "output_type": "stream",
          "name": "stdout",
          "text": [
            "\n",
            "Validation set: Average loss: 0.0009, Accuracy: 4301/5000 (86.02%)\n",
            "\n",
            "\n",
            "Test set: Average loss: 0.4652, Accuracy: 8476/10000 (84.76%)\n",
            "\n",
            "EPOCHS : 18\n"
          ]
        },
        {
          "output_type": "stream",
          "name": "stderr",
          "text": [
            "Batch_id=87 Batch Loss=0.39835330843925476 Running Loss=34.96349447965622 Running Accuracy=85.96: 100%|██████████| 88/88 [00:51<00:00,  1.72it/s]\n"
          ]
        },
        {
          "output_type": "stream",
          "name": "stdout",
          "text": [
            "\n",
            "Validation set: Average loss: 0.0008, Accuracy: 4361/5000 (87.22%)\n",
            "\n",
            "\n",
            "Test set: Average loss: 0.4252, Accuracy: 8555/10000 (85.55%)\n",
            "\n",
            "EPOCHS : 19\n"
          ]
        },
        {
          "output_type": "stream",
          "name": "stderr",
          "text": [
            "Batch_id=87 Batch Loss=0.4087240993976593 Running Loss=33.877252608537674 Running Accuracy=86.44: 100%|██████████| 88/88 [00:51<00:00,  1.72it/s]\n"
          ]
        },
        {
          "output_type": "stream",
          "name": "stdout",
          "text": [
            "\n",
            "Validation set: Average loss: 0.0008, Accuracy: 4350/5000 (87.00%)\n",
            "\n",
            "\n",
            "Test set: Average loss: 0.4424, Accuracy: 8564/10000 (85.64%)\n",
            "\n",
            "EPOCHS : 20\n"
          ]
        },
        {
          "output_type": "stream",
          "name": "stderr",
          "text": [
            "Batch_id=87 Batch Loss=0.4684199094772339 Running Loss=33.19009095430374 Running Accuracy=86.72: 100%|██████████| 88/88 [00:50<00:00,  1.73it/s]\n"
          ]
        },
        {
          "output_type": "stream",
          "name": "stdout",
          "text": [
            "\n",
            "Validation set: Average loss: 0.0009, Accuracy: 4299/5000 (85.98%)\n",
            "\n",
            "\n",
            "Test set: Average loss: 0.4659, Accuracy: 8476/10000 (84.76%)\n",
            "\n",
            "EPOCHS : 21\n"
          ]
        },
        {
          "output_type": "stream",
          "name": "stderr",
          "text": [
            "Batch_id=87 Batch Loss=0.4330686628818512 Running Loss=31.904059201478958 Running Accuracy=87.14: 100%|██████████| 88/88 [00:50<00:00,  1.73it/s]\n"
          ]
        },
        {
          "output_type": "stream",
          "name": "stdout",
          "text": [
            "\n",
            "Validation set: Average loss: 0.0008, Accuracy: 4320/5000 (86.40%)\n",
            "\n",
            "\n",
            "Test set: Average loss: 0.4544, Accuracy: 8516/10000 (85.16%)\n",
            "\n",
            "EPOCHS : 22\n"
          ]
        },
        {
          "output_type": "stream",
          "name": "stderr",
          "text": [
            "Batch_id=87 Batch Loss=0.3618643581867218 Running Loss=30.594562530517578 Running Accuracy=87.88: 100%|██████████| 88/88 [00:51<00:00,  1.73it/s]\n"
          ]
        },
        {
          "output_type": "stream",
          "name": "stdout",
          "text": [
            "\n",
            "Validation set: Average loss: 0.0007, Accuracy: 4408/5000 (88.16%)\n",
            "\n",
            "\n",
            "Test set: Average loss: 0.3904, Accuracy: 8704/10000 (87.04%)\n",
            "\n",
            "EPOCHS : 23\n"
          ]
        },
        {
          "output_type": "stream",
          "name": "stderr",
          "text": [
            "Batch_id=87 Batch Loss=0.3938840627670288 Running Loss=28.987977862358093 Running Accuracy=88.32: 100%|██████████| 88/88 [00:51<00:00,  1.72it/s]\n"
          ]
        },
        {
          "output_type": "stream",
          "name": "stdout",
          "text": [
            "\n",
            "Validation set: Average loss: 0.0007, Accuracy: 4440/5000 (88.80%)\n",
            "\n",
            "\n",
            "Test set: Average loss: 0.3986, Accuracy: 8724/10000 (87.24%)\n",
            "\n",
            "EPOCHS : 24\n"
          ]
        },
        {
          "output_type": "stream",
          "name": "stderr",
          "text": [
            "Batch_id=87 Batch Loss=0.27723968029022217 Running Loss=28.685218140482903 Running Accuracy=88.57: 100%|██████████| 88/88 [00:50<00:00,  1.73it/s]\n"
          ]
        },
        {
          "output_type": "stream",
          "name": "stdout",
          "text": [
            "\n",
            "Validation set: Average loss: 0.0007, Accuracy: 4455/5000 (89.10%)\n",
            "\n",
            "\n",
            "Test set: Average loss: 0.3795, Accuracy: 8781/10000 (87.81%)\n",
            "\n",
            "EPOCHS : 25\n"
          ]
        },
        {
          "output_type": "stream",
          "name": "stderr",
          "text": [
            "Batch_id=87 Batch Loss=0.3454152047634125 Running Loss=27.77372394502163 Running Accuracy=88.88: 100%|██████████| 88/88 [00:50<00:00,  1.73it/s]\n"
          ]
        },
        {
          "output_type": "stream",
          "name": "stdout",
          "text": [
            "\n",
            "Validation set: Average loss: 0.0007, Accuracy: 4416/5000 (88.32%)\n",
            "\n",
            "\n",
            "Test set: Average loss: 0.4055, Accuracy: 8686/10000 (86.86%)\n",
            "\n",
            "EPOCHS : 26\n"
          ]
        },
        {
          "output_type": "stream",
          "name": "stderr",
          "text": [
            "Batch_id=87 Batch Loss=0.2951801121234894 Running Loss=26.889332368969917 Running Accuracy=89.29: 100%|██████████| 88/88 [00:51<00:00,  1.72it/s]\n"
          ]
        },
        {
          "output_type": "stream",
          "name": "stdout",
          "text": [
            "\n",
            "Validation set: Average loss: 0.0007, Accuracy: 4420/5000 (88.40%)\n",
            "\n",
            "\n",
            "Test set: Average loss: 0.3745, Accuracy: 8781/10000 (87.81%)\n",
            "\n",
            "EPOCHS : 27\n"
          ]
        },
        {
          "output_type": "stream",
          "name": "stderr",
          "text": [
            "Batch_id=87 Batch Loss=0.3192775845527649 Running Loss=26.986842051148415 Running Accuracy=89.08: 100%|██████████| 88/88 [00:50<00:00,  1.73it/s]\n"
          ]
        },
        {
          "output_type": "stream",
          "name": "stdout",
          "text": [
            "\n",
            "Validation set: Average loss: 0.0008, Accuracy: 4392/5000 (87.84%)\n",
            "\n",
            "\n",
            "Test set: Average loss: 0.4127, Accuracy: 8698/10000 (86.98%)\n",
            "\n",
            "EPOCHS : 28\n"
          ]
        },
        {
          "output_type": "stream",
          "name": "stderr",
          "text": [
            "Batch_id=87 Batch Loss=0.3608924150466919 Running Loss=26.10966596007347 Running Accuracy=89.68: 100%|██████████| 88/88 [00:50<00:00,  1.73it/s]\n"
          ]
        },
        {
          "output_type": "stream",
          "name": "stdout",
          "text": [
            "\n",
            "Validation set: Average loss: 0.0007, Accuracy: 4414/5000 (88.28%)\n",
            "\n",
            "\n",
            "Test set: Average loss: 0.3924, Accuracy: 8750/10000 (87.50%)\n",
            "\n",
            "EPOCHS : 29\n"
          ]
        },
        {
          "output_type": "stream",
          "name": "stderr",
          "text": [
            "Batch_id=87 Batch Loss=0.26273226737976074 Running Loss=24.497234970331192 Running Accuracy=90.31: 100%|██████████| 88/88 [00:51<00:00,  1.72it/s]\n"
          ]
        },
        {
          "output_type": "stream",
          "name": "stdout",
          "text": [
            "\n",
            "Validation set: Average loss: 0.0007, Accuracy: 4436/5000 (88.72%)\n",
            "\n",
            "\n",
            "Test set: Average loss: 0.3817, Accuracy: 8804/10000 (88.04%)\n",
            "\n",
            "EPOCHS : 30\n"
          ]
        },
        {
          "output_type": "stream",
          "name": "stderr",
          "text": [
            "Batch_id=87 Batch Loss=0.31000304222106934 Running Loss=24.791407257318497 Running Accuracy=90.05: 100%|██████████| 88/88 [00:51<00:00,  1.72it/s]\n"
          ]
        },
        {
          "output_type": "stream",
          "name": "stdout",
          "text": [
            "\n",
            "Validation set: Average loss: 0.0007, Accuracy: 4421/5000 (88.42%)\n",
            "\n",
            "\n",
            "Test set: Average loss: 0.4023, Accuracy: 8784/10000 (87.84%)\n",
            "\n",
            "EPOCHS : 31\n"
          ]
        },
        {
          "output_type": "stream",
          "name": "stderr",
          "text": [
            "Batch_id=87 Batch Loss=0.24692362546920776 Running Loss=23.893571943044662 Running Accuracy=90.56: 100%|██████████| 88/88 [00:51<00:00,  1.72it/s]\n"
          ]
        },
        {
          "output_type": "stream",
          "name": "stdout",
          "text": [
            "\n",
            "Validation set: Average loss: 0.0007, Accuracy: 4460/5000 (89.20%)\n",
            "\n",
            "\n",
            "Test set: Average loss: 0.3712, Accuracy: 8817/10000 (88.17%)\n",
            "\n",
            "EPOCHS : 32\n"
          ]
        },
        {
          "output_type": "stream",
          "name": "stderr",
          "text": [
            "Batch_id=87 Batch Loss=0.23755446076393127 Running Loss=22.85487899184227 Running Accuracy=90.73: 100%|██████████| 88/88 [00:51<00:00,  1.72it/s]\n"
          ]
        },
        {
          "output_type": "stream",
          "name": "stdout",
          "text": [
            "\n",
            "Validation set: Average loss: 0.0007, Accuracy: 4435/5000 (88.70%)\n",
            "\n",
            "\n",
            "Test set: Average loss: 0.4023, Accuracy: 8772/10000 (87.72%)\n",
            "\n",
            "EPOCHS : 33\n"
          ]
        },
        {
          "output_type": "stream",
          "name": "stderr",
          "text": [
            "Batch_id=87 Batch Loss=0.3350081443786621 Running Loss=23.0489688962698 Running Accuracy=90.72: 100%|██████████| 88/88 [00:51<00:00,  1.72it/s]\n"
          ]
        },
        {
          "output_type": "stream",
          "name": "stdout",
          "text": [
            "\n",
            "Validation set: Average loss: 0.0007, Accuracy: 4426/5000 (88.52%)\n",
            "\n",
            "\n",
            "Test set: Average loss: 0.4070, Accuracy: 8753/10000 (87.53%)\n",
            "\n",
            "EPOCHS : 34\n"
          ]
        },
        {
          "output_type": "stream",
          "name": "stderr",
          "text": [
            "Batch_id=87 Batch Loss=0.2614912986755371 Running Loss=21.54668155312538 Running Accuracy=91.45: 100%|██████████| 88/88 [00:51<00:00,  1.72it/s]\n"
          ]
        },
        {
          "output_type": "stream",
          "name": "stdout",
          "text": [
            "\n",
            "Validation set: Average loss: 0.0006, Accuracy: 4534/5000 (90.68%)\n",
            "\n",
            "\n",
            "Test set: Average loss: 0.3405, Accuracy: 8959/10000 (89.59%)\n",
            "\n",
            "EPOCHS : 35\n"
          ]
        },
        {
          "output_type": "stream",
          "name": "stderr",
          "text": [
            "Batch_id=87 Batch Loss=0.23835183680057526 Running Loss=20.207038655877113 Running Accuracy=91.99: 100%|██████████| 88/88 [00:50<00:00,  1.73it/s]\n"
          ]
        },
        {
          "output_type": "stream",
          "name": "stdout",
          "text": [
            "\n",
            "Validation set: Average loss: 0.0006, Accuracy: 4493/5000 (89.86%)\n",
            "\n",
            "\n",
            "Test set: Average loss: 0.3534, Accuracy: 8947/10000 (89.47%)\n",
            "\n",
            "EPOCHS : 36\n"
          ]
        },
        {
          "output_type": "stream",
          "name": "stderr",
          "text": [
            "Batch_id=87 Batch Loss=0.2374633252620697 Running Loss=20.502774640917778 Running Accuracy=91.81: 100%|██████████| 88/88 [00:51<00:00,  1.72it/s]\n"
          ]
        },
        {
          "output_type": "stream",
          "name": "stdout",
          "text": [
            "\n",
            "Validation set: Average loss: 0.0007, Accuracy: 4470/5000 (89.40%)\n",
            "\n",
            "\n",
            "Test set: Average loss: 0.3796, Accuracy: 8856/10000 (88.56%)\n",
            "\n",
            "EPOCHS : 37\n"
          ]
        },
        {
          "output_type": "stream",
          "name": "stderr",
          "text": [
            "Batch_id=87 Batch Loss=0.22731029987335205 Running Loss=19.998944491147995 Running Accuracy=91.95: 100%|██████████| 88/88 [00:51<00:00,  1.72it/s]\n"
          ]
        },
        {
          "output_type": "stream",
          "name": "stdout",
          "text": [
            "\n",
            "Validation set: Average loss: 0.0007, Accuracy: 4449/5000 (88.98%)\n",
            "\n",
            "\n",
            "Test set: Average loss: 0.3985, Accuracy: 8788/10000 (87.88%)\n",
            "\n",
            "EPOCHS : 38\n"
          ]
        },
        {
          "output_type": "stream",
          "name": "stderr",
          "text": [
            "Batch_id=87 Batch Loss=0.24860817193984985 Running Loss=19.726325795054436 Running Accuracy=92.02: 100%|██████████| 88/88 [00:51<00:00,  1.72it/s]\n"
          ]
        },
        {
          "output_type": "stream",
          "name": "stdout",
          "text": [
            "\n",
            "Validation set: Average loss: 0.0007, Accuracy: 4507/5000 (90.14%)\n",
            "\n",
            "\n",
            "Test set: Average loss: 0.3830, Accuracy: 8854/10000 (88.54%)\n",
            "\n",
            "EPOCHS : 39\n"
          ]
        },
        {
          "output_type": "stream",
          "name": "stderr",
          "text": [
            "Batch_id=87 Batch Loss=0.24989579617977142 Running Loss=19.716916367411613 Running Accuracy=92.05: 100%|██████████| 88/88 [00:51<00:00,  1.72it/s]\n"
          ]
        },
        {
          "output_type": "stream",
          "name": "stdout",
          "text": [
            "\n",
            "Validation set: Average loss: 0.0006, Accuracy: 4539/5000 (90.78%)\n",
            "\n",
            "\n",
            "Test set: Average loss: 0.3385, Accuracy: 8946/10000 (89.46%)\n",
            "\n",
            "EPOCHS : 40\n"
          ]
        },
        {
          "output_type": "stream",
          "name": "stderr",
          "text": [
            "Batch_id=87 Batch Loss=0.2565852999687195 Running Loss=18.555570244789124 Running Accuracy=92.42: 100%|██████████| 88/88 [00:50<00:00,  1.73it/s]\n"
          ]
        },
        {
          "output_type": "stream",
          "name": "stdout",
          "text": [
            "\n",
            "Validation set: Average loss: 0.0006, Accuracy: 4500/5000 (90.00%)\n",
            "\n",
            "\n",
            "Test set: Average loss: 0.3459, Accuracy: 8917/10000 (89.17%)\n",
            "\n",
            "EPOCHS : 41\n"
          ]
        },
        {
          "output_type": "stream",
          "name": "stderr",
          "text": [
            "Batch_id=87 Batch Loss=0.21313002705574036 Running Loss=17.996566087007523 Running Accuracy=92.61: 100%|██████████| 88/88 [00:51<00:00,  1.72it/s]\n"
          ]
        },
        {
          "output_type": "stream",
          "name": "stdout",
          "text": [
            "\n",
            "Validation set: Average loss: 0.0007, Accuracy: 4484/5000 (89.68%)\n",
            "\n",
            "\n",
            "Test set: Average loss: 0.3646, Accuracy: 8923/10000 (89.23%)\n",
            "\n",
            "EPOCHS : 42\n"
          ]
        },
        {
          "output_type": "stream",
          "name": "stderr",
          "text": [
            "Batch_id=87 Batch Loss=0.21013738214969635 Running Loss=17.752879455685616 Running Accuracy=92.82: 100%|██████████| 88/88 [00:51<00:00,  1.72it/s]\n"
          ]
        },
        {
          "output_type": "stream",
          "name": "stdout",
          "text": [
            "\n",
            "Validation set: Average loss: 0.0006, Accuracy: 4535/5000 (90.70%)\n",
            "\n",
            "\n",
            "Test set: Average loss: 0.3396, Accuracy: 9012/10000 (90.12%)\n",
            "\n",
            "EPOCHS : 43\n"
          ]
        },
        {
          "output_type": "stream",
          "name": "stderr",
          "text": [
            "Batch_id=87 Batch Loss=0.18440303206443787 Running Loss=17.513336956501007 Running Accuracy=92.89: 100%|██████████| 88/88 [00:51<00:00,  1.72it/s]\n"
          ]
        },
        {
          "output_type": "stream",
          "name": "stdout",
          "text": [
            "\n",
            "Validation set: Average loss: 0.0006, Accuracy: 4509/5000 (90.18%)\n",
            "\n",
            "\n",
            "Test set: Average loss: 0.3601, Accuracy: 8905/10000 (89.05%)\n",
            "\n",
            "EPOCHS : 44\n"
          ]
        },
        {
          "output_type": "stream",
          "name": "stderr",
          "text": [
            "Batch_id=87 Batch Loss=0.18547064065933228 Running Loss=17.10250647366047 Running Accuracy=92.98: 100%|██████████| 88/88 [00:51<00:00,  1.72it/s]\n"
          ]
        },
        {
          "output_type": "stream",
          "name": "stdout",
          "text": [
            "\n",
            "Validation set: Average loss: 0.0006, Accuracy: 4538/5000 (90.76%)\n",
            "\n",
            "\n",
            "Test set: Average loss: 0.3450, Accuracy: 8968/10000 (89.68%)\n",
            "\n",
            "EPOCHS : 45\n"
          ]
        },
        {
          "output_type": "stream",
          "name": "stderr",
          "text": [
            "Batch_id=87 Batch Loss=0.2146807163953781 Running Loss=16.50309406220913 Running Accuracy=93.50: 100%|██████████| 88/88 [00:51<00:00,  1.72it/s]\n"
          ]
        },
        {
          "output_type": "stream",
          "name": "stdout",
          "text": [
            "\n",
            "Validation set: Average loss: 0.0006, Accuracy: 4528/5000 (90.56%)\n",
            "\n",
            "\n",
            "Test set: Average loss: 0.3208, Accuracy: 9045/10000 (90.45%)\n",
            "\n",
            "EPOCHS : 46\n"
          ]
        },
        {
          "output_type": "stream",
          "name": "stderr",
          "text": [
            "Batch_id=87 Batch Loss=0.21478570997714996 Running Loss=15.878394946455956 Running Accuracy=93.64: 100%|██████████| 88/88 [00:51<00:00,  1.72it/s]\n"
          ]
        },
        {
          "output_type": "stream",
          "name": "stdout",
          "text": [
            "\n",
            "Validation set: Average loss: 0.0006, Accuracy: 4526/5000 (90.52%)\n",
            "\n",
            "\n",
            "Test set: Average loss: 0.3451, Accuracy: 8969/10000 (89.69%)\n",
            "\n",
            "EPOCHS : 47\n"
          ]
        },
        {
          "output_type": "stream",
          "name": "stderr",
          "text": [
            "Batch_id=87 Batch Loss=0.16949613392353058 Running Loss=15.88985288143158 Running Accuracy=93.67: 100%|██████████| 88/88 [00:51<00:00,  1.72it/s]\n"
          ]
        },
        {
          "output_type": "stream",
          "name": "stdout",
          "text": [
            "\n",
            "Validation set: Average loss: 0.0007, Accuracy: 4519/5000 (90.38%)\n",
            "\n",
            "\n",
            "Test set: Average loss: 0.3671, Accuracy: 8876/10000 (88.76%)\n",
            "\n",
            "EPOCHS : 48\n"
          ]
        },
        {
          "output_type": "stream",
          "name": "stderr",
          "text": [
            "Batch_id=87 Batch Loss=0.16665960848331451 Running Loss=15.54572831094265 Running Accuracy=93.63: 100%|██████████| 88/88 [00:51<00:00,  1.72it/s]\n"
          ]
        },
        {
          "output_type": "stream",
          "name": "stdout",
          "text": [
            "\n",
            "Validation set: Average loss: 0.0007, Accuracy: 4509/5000 (90.18%)\n",
            "\n",
            "\n",
            "Test set: Average loss: 0.3689, Accuracy: 8946/10000 (89.46%)\n",
            "\n",
            "EPOCHS : 49\n"
          ]
        },
        {
          "output_type": "stream",
          "name": "stderr",
          "text": [
            "Batch_id=87 Batch Loss=0.14985817670822144 Running Loss=15.171079613268375 Running Accuracy=93.79: 100%|██████████| 88/88 [00:51<00:00,  1.72it/s]\n"
          ]
        },
        {
          "output_type": "stream",
          "name": "stdout",
          "text": [
            "\n",
            "Validation set: Average loss: 0.0006, Accuracy: 4550/5000 (91.00%)\n",
            "\n",
            "\n",
            "Test set: Average loss: 0.3444, Accuracy: 9032/10000 (90.32%)\n",
            "\n",
            "EPOCHS : 50\n"
          ]
        },
        {
          "output_type": "stream",
          "name": "stderr",
          "text": [
            "Batch_id=87 Batch Loss=0.19833725690841675 Running Loss=15.13410148769617 Running Accuracy=93.83: 100%|██████████| 88/88 [00:51<00:00,  1.72it/s]\n"
          ]
        },
        {
          "output_type": "stream",
          "name": "stdout",
          "text": [
            "\n",
            "Validation set: Average loss: 0.0008, Accuracy: 4454/5000 (89.08%)\n",
            "\n",
            "\n",
            "Test set: Average loss: 0.4404, Accuracy: 8788/10000 (87.88%)\n",
            "\n",
            "EPOCHS : 51\n"
          ]
        },
        {
          "output_type": "stream",
          "name": "stderr",
          "text": [
            "Batch_id=87 Batch Loss=0.1490522176027298 Running Loss=14.398986041545868 Running Accuracy=94.10: 100%|██████████| 88/88 [00:51<00:00,  1.72it/s]\n"
          ]
        },
        {
          "output_type": "stream",
          "name": "stdout",
          "text": [
            "\n",
            "Validation set: Average loss: 0.0006, Accuracy: 4572/5000 (91.44%)\n",
            "\n",
            "\n",
            "Test set: Average loss: 0.3440, Accuracy: 9029/10000 (90.29%)\n",
            "\n",
            "EPOCHS : 52\n"
          ]
        },
        {
          "output_type": "stream",
          "name": "stderr",
          "text": [
            "Batch_id=87 Batch Loss=0.13537879288196564 Running Loss=14.290464647114277 Running Accuracy=94.20: 100%|██████████| 88/88 [00:51<00:00,  1.72it/s]\n"
          ]
        },
        {
          "output_type": "stream",
          "name": "stdout",
          "text": [
            "\n",
            "Validation set: Average loss: 0.0006, Accuracy: 4584/5000 (91.68%)\n",
            "\n",
            "\n",
            "Test set: Average loss: 0.3300, Accuracy: 9066/10000 (90.66%)\n",
            "\n",
            "EPOCHS : 53\n"
          ]
        },
        {
          "output_type": "stream",
          "name": "stderr",
          "text": [
            "Batch_id=87 Batch Loss=0.1283566951751709 Running Loss=14.011640638113022 Running Accuracy=94.29: 100%|██████████| 88/88 [00:51<00:00,  1.72it/s]\n"
          ]
        },
        {
          "output_type": "stream",
          "name": "stdout",
          "text": [
            "\n",
            "Validation set: Average loss: 0.0007, Accuracy: 4526/5000 (90.52%)\n",
            "\n",
            "\n",
            "Test set: Average loss: 0.3801, Accuracy: 8944/10000 (89.44%)\n",
            "\n",
            "EPOCHS : 54\n"
          ]
        },
        {
          "output_type": "stream",
          "name": "stderr",
          "text": [
            "Batch_id=87 Batch Loss=0.13725033402442932 Running Loss=13.539752148091793 Running Accuracy=94.54: 100%|██████████| 88/88 [00:51<00:00,  1.72it/s]\n"
          ]
        },
        {
          "output_type": "stream",
          "name": "stdout",
          "text": [
            "\n",
            "Validation set: Average loss: 0.0006, Accuracy: 4512/5000 (90.24%)\n",
            "\n",
            "\n",
            "Test set: Average loss: 0.3642, Accuracy: 8938/10000 (89.38%)\n",
            "\n",
            "EPOCHS : 55\n"
          ]
        },
        {
          "output_type": "stream",
          "name": "stderr",
          "text": [
            "Batch_id=87 Batch Loss=0.15481795370578766 Running Loss=13.68734659999609 Running Accuracy=94.43: 100%|██████████| 88/88 [00:51<00:00,  1.72it/s]\n"
          ]
        },
        {
          "output_type": "stream",
          "name": "stdout",
          "text": [
            "\n",
            "Validation set: Average loss: 0.0007, Accuracy: 4510/5000 (90.20%)\n",
            "\n",
            "\n",
            "Test set: Average loss: 0.3761, Accuracy: 8937/10000 (89.37%)\n",
            "\n",
            "EPOCHS : 56\n"
          ]
        },
        {
          "output_type": "stream",
          "name": "stderr",
          "text": [
            "Batch_id=87 Batch Loss=0.16814254224300385 Running Loss=13.307151384651661 Running Accuracy=94.62: 100%|██████████| 88/88 [00:51<00:00,  1.72it/s]\n"
          ]
        },
        {
          "output_type": "stream",
          "name": "stdout",
          "text": [
            "\n",
            "Validation set: Average loss: 0.0006, Accuracy: 4529/5000 (90.58%)\n",
            "\n",
            "\n",
            "Test set: Average loss: 0.3496, Accuracy: 8991/10000 (89.91%)\n",
            "\n",
            "EPOCHS : 57\n"
          ]
        },
        {
          "output_type": "stream",
          "name": "stderr",
          "text": [
            "Batch_id=87 Batch Loss=0.15083812177181244 Running Loss=12.732885479927063 Running Accuracy=94.79: 100%|██████████| 88/88 [00:51<00:00,  1.72it/s]\n"
          ]
        },
        {
          "output_type": "stream",
          "name": "stdout",
          "text": [
            "\n",
            "Validation set: Average loss: 0.0008, Accuracy: 4454/5000 (89.08%)\n",
            "\n",
            "\n",
            "Test set: Average loss: 0.4141, Accuracy: 8867/10000 (88.67%)\n",
            "\n",
            "EPOCHS : 58\n"
          ]
        },
        {
          "output_type": "stream",
          "name": "stderr",
          "text": [
            "Batch_id=87 Batch Loss=0.15520082414150238 Running Loss=12.36491660028696 Running Accuracy=95.06: 100%|██████████| 88/88 [00:51<00:00,  1.72it/s]\n"
          ]
        },
        {
          "output_type": "stream",
          "name": "stdout",
          "text": [
            "\n",
            "Validation set: Average loss: 0.0007, Accuracy: 4457/5000 (89.14%)\n",
            "\n",
            "\n",
            "Test set: Average loss: 0.4139, Accuracy: 8843/10000 (88.43%)\n",
            "\n",
            "EPOCHS : 59\n"
          ]
        },
        {
          "output_type": "stream",
          "name": "stderr",
          "text": [
            "Batch_id=87 Batch Loss=0.1723979264497757 Running Loss=12.11918082088232 Running Accuracy=95.09: 100%|██████████| 88/88 [00:51<00:00,  1.72it/s]\n"
          ]
        },
        {
          "output_type": "stream",
          "name": "stdout",
          "text": [
            "\n",
            "Validation set: Average loss: 0.0006, Accuracy: 4562/5000 (91.24%)\n",
            "\n",
            "\n",
            "Test set: Average loss: 0.3706, Accuracy: 8964/10000 (89.64%)\n",
            "\n",
            "EPOCHS : 60\n"
          ]
        },
        {
          "output_type": "stream",
          "name": "stderr",
          "text": [
            "Batch_id=87 Batch Loss=0.18885308504104614 Running Loss=12.035838350653648 Running Accuracy=95.14: 100%|██████████| 88/88 [00:51<00:00,  1.72it/s]\n"
          ]
        },
        {
          "output_type": "stream",
          "name": "stdout",
          "text": [
            "\n",
            "Validation set: Average loss: 0.0006, Accuracy: 4587/5000 (91.74%)\n",
            "\n",
            "\n",
            "Test set: Average loss: 0.3541, Accuracy: 9028/10000 (90.28%)\n",
            "\n",
            "EPOCHS : 61\n"
          ]
        },
        {
          "output_type": "stream",
          "name": "stderr",
          "text": [
            "Batch_id=87 Batch Loss=0.14685724675655365 Running Loss=11.638543091714382 Running Accuracy=95.28: 100%|██████████| 88/88 [00:51<00:00,  1.72it/s]\n"
          ]
        },
        {
          "output_type": "stream",
          "name": "stdout",
          "text": [
            "\n",
            "Validation set: Average loss: 0.0006, Accuracy: 4567/5000 (91.34%)\n",
            "\n",
            "\n",
            "Test set: Average loss: 0.3455, Accuracy: 9033/10000 (90.33%)\n",
            "\n",
            "EPOCHS : 62\n"
          ]
        },
        {
          "output_type": "stream",
          "name": "stderr",
          "text": [
            "Batch_id=87 Batch Loss=0.13827486336231232 Running Loss=11.621681541204453 Running Accuracy=95.27: 100%|██████████| 88/88 [00:51<00:00,  1.72it/s]\n"
          ]
        },
        {
          "output_type": "stream",
          "name": "stdout",
          "text": [
            "\n",
            "Validation set: Average loss: 0.0007, Accuracy: 4517/5000 (90.34%)\n",
            "\n",
            "\n",
            "Test set: Average loss: 0.3940, Accuracy: 8948/10000 (89.48%)\n",
            "\n",
            "EPOCHS : 63\n"
          ]
        },
        {
          "output_type": "stream",
          "name": "stderr",
          "text": [
            "Batch_id=87 Batch Loss=0.14935897290706635 Running Loss=11.706002987921238 Running Accuracy=95.16: 100%|██████████| 88/88 [00:51<00:00,  1.71it/s]\n"
          ]
        },
        {
          "output_type": "stream",
          "name": "stdout",
          "text": [
            "\n",
            "Validation set: Average loss: 0.0006, Accuracy: 4572/5000 (91.44%)\n",
            "\n",
            "\n",
            "Test set: Average loss: 0.3585, Accuracy: 9042/10000 (90.42%)\n",
            "\n",
            "EPOCHS : 64\n"
          ]
        },
        {
          "output_type": "stream",
          "name": "stderr",
          "text": [
            "Batch_id=87 Batch Loss=0.12345212697982788 Running Loss=10.900008425116539 Running Accuracy=95.59: 100%|██████████| 88/88 [00:51<00:00,  1.72it/s]\n"
          ]
        },
        {
          "output_type": "stream",
          "name": "stdout",
          "text": [
            "\n",
            "Validation set: Average loss: 0.0006, Accuracy: 4539/5000 (90.78%)\n",
            "\n",
            "\n",
            "Test set: Average loss: 0.3413, Accuracy: 9061/10000 (90.61%)\n",
            "\n",
            "EPOCHS : 65\n"
          ]
        },
        {
          "output_type": "stream",
          "name": "stderr",
          "text": [
            "Batch_id=87 Batch Loss=0.12025579810142517 Running Loss=10.53640902787447 Running Accuracy=95.68: 100%|██████████| 88/88 [00:51<00:00,  1.72it/s]\n"
          ]
        },
        {
          "output_type": "stream",
          "name": "stdout",
          "text": [
            "\n",
            "Validation set: Average loss: 0.0006, Accuracy: 4562/5000 (91.24%)\n",
            "\n",
            "\n",
            "Test set: Average loss: 0.3448, Accuracy: 9051/10000 (90.51%)\n",
            "\n",
            "EPOCHS : 66\n"
          ]
        },
        {
          "output_type": "stream",
          "name": "stderr",
          "text": [
            "Batch_id=87 Batch Loss=0.10392862558364868 Running Loss=10.825695961713791 Running Accuracy=95.56: 100%|██████████| 88/88 [00:50<00:00,  1.73it/s]\n"
          ]
        },
        {
          "output_type": "stream",
          "name": "stdout",
          "text": [
            "\n",
            "Validation set: Average loss: 0.0006, Accuracy: 4539/5000 (90.78%)\n",
            "\n",
            "\n",
            "Test set: Average loss: 0.3733, Accuracy: 8990/10000 (89.90%)\n",
            "\n",
            "EPOCHS : 67\n"
          ]
        },
        {
          "output_type": "stream",
          "name": "stderr",
          "text": [
            "Batch_id=87 Batch Loss=0.12845288217067719 Running Loss=10.297531075775623 Running Accuracy=95.76: 100%|██████████| 88/88 [00:51<00:00,  1.72it/s]\n"
          ]
        },
        {
          "output_type": "stream",
          "name": "stdout",
          "text": [
            "\n",
            "Validation set: Average loss: 0.0006, Accuracy: 4560/5000 (91.20%)\n",
            "\n",
            "\n",
            "Test set: Average loss: 0.3637, Accuracy: 9037/10000 (90.37%)\n",
            "\n",
            "EPOCHS : 68\n"
          ]
        },
        {
          "output_type": "stream",
          "name": "stderr",
          "text": [
            "Batch_id=87 Batch Loss=0.137717142701149 Running Loss=10.416558429598808 Running Accuracy=95.78: 100%|██████████| 88/88 [00:51<00:00,  1.72it/s]\n"
          ]
        },
        {
          "output_type": "stream",
          "name": "stdout",
          "text": [
            "\n",
            "Validation set: Average loss: 0.0007, Accuracy: 4505/5000 (90.10%)\n",
            "\n",
            "\n",
            "Test set: Average loss: 0.3828, Accuracy: 8972/10000 (89.72%)\n",
            "\n",
            "EPOCHS : 69\n"
          ]
        },
        {
          "output_type": "stream",
          "name": "stderr",
          "text": [
            "Batch_id=87 Batch Loss=0.10939890146255493 Running Loss=10.064281970262527 Running Accuracy=95.92: 100%|██████████| 88/88 [00:51<00:00,  1.72it/s]\n"
          ]
        },
        {
          "output_type": "stream",
          "name": "stdout",
          "text": [
            "\n",
            "Validation set: Average loss: 0.0007, Accuracy: 4549/5000 (90.98%)\n",
            "\n",
            "\n",
            "Test set: Average loss: 0.3663, Accuracy: 9038/10000 (90.38%)\n",
            "\n",
            "EPOCHS : 70\n"
          ]
        },
        {
          "output_type": "stream",
          "name": "stderr",
          "text": [
            "Batch_id=87 Batch Loss=0.10909950733184814 Running Loss=9.613912664353848 Running Accuracy=96.14: 100%|██████████| 88/88 [00:51<00:00,  1.72it/s]\n"
          ]
        },
        {
          "output_type": "stream",
          "name": "stdout",
          "text": [
            "\n",
            "Validation set: Average loss: 0.0007, Accuracy: 4553/5000 (91.06%)\n",
            "\n",
            "\n",
            "Test set: Average loss: 0.3642, Accuracy: 9043/10000 (90.43%)\n",
            "\n",
            "EPOCHS : 71\n"
          ]
        },
        {
          "output_type": "stream",
          "name": "stderr",
          "text": [
            "Batch_id=87 Batch Loss=0.13523797690868378 Running Loss=9.574827954173088 Running Accuracy=95.98: 100%|██████████| 88/88 [00:51<00:00,  1.72it/s]\n"
          ]
        },
        {
          "output_type": "stream",
          "name": "stdout",
          "text": [
            "\n",
            "Validation set: Average loss: 0.0006, Accuracy: 4574/5000 (91.48%)\n",
            "\n",
            "\n",
            "Test set: Average loss: 0.3553, Accuracy: 9063/10000 (90.63%)\n",
            "\n",
            "EPOCHS : 72\n"
          ]
        },
        {
          "output_type": "stream",
          "name": "stderr",
          "text": [
            "Batch_id=87 Batch Loss=0.10734455287456512 Running Loss=9.165941413491964 Running Accuracy=96.28: 100%|██████████| 88/88 [00:51<00:00,  1.72it/s]\n"
          ]
        },
        {
          "output_type": "stream",
          "name": "stdout",
          "text": [
            "\n",
            "Validation set: Average loss: 0.0007, Accuracy: 4533/5000 (90.66%)\n",
            "\n",
            "\n",
            "Test set: Average loss: 0.3805, Accuracy: 9007/10000 (90.07%)\n",
            "\n",
            "EPOCHS : 73\n"
          ]
        },
        {
          "output_type": "stream",
          "name": "stderr",
          "text": [
            "Batch_id=87 Batch Loss=0.11535244435071945 Running Loss=9.807539537549019 Running Accuracy=96.08: 100%|██████████| 88/88 [00:51<00:00,  1.72it/s]\n"
          ]
        },
        {
          "output_type": "stream",
          "name": "stdout",
          "text": [
            "\n",
            "Validation set: Average loss: 0.0006, Accuracy: 4565/5000 (91.30%)\n",
            "\n",
            "\n",
            "Test set: Average loss: 0.3517, Accuracy: 9048/10000 (90.48%)\n",
            "\n",
            "EPOCHS : 74\n"
          ]
        },
        {
          "output_type": "stream",
          "name": "stderr",
          "text": [
            "Batch_id=87 Batch Loss=0.09789732843637466 Running Loss=9.193347118794918 Running Accuracy=96.30: 100%|██████████| 88/88 [00:51<00:00,  1.72it/s]\n"
          ]
        },
        {
          "output_type": "stream",
          "name": "stdout",
          "text": [
            "\n",
            "Validation set: Average loss: 0.0006, Accuracy: 4566/5000 (91.32%)\n",
            "\n",
            "\n",
            "Test set: Average loss: 0.3764, Accuracy: 9028/10000 (90.28%)\n",
            "\n",
            "EPOCHS : 75\n"
          ]
        },
        {
          "output_type": "stream",
          "name": "stderr",
          "text": [
            "Batch_id=87 Batch Loss=0.1056998074054718 Running Loss=8.926401995122433 Running Accuracy=96.44: 100%|██████████| 88/88 [00:50<00:00,  1.73it/s]\n"
          ]
        },
        {
          "output_type": "stream",
          "name": "stdout",
          "text": [
            "\n",
            "Validation set: Average loss: 0.0006, Accuracy: 4597/5000 (91.94%)\n",
            "\n",
            "\n",
            "Test set: Average loss: 0.3321, Accuracy: 9101/10000 (91.01%)\n",
            "\n",
            "EPOCHS : 76\n"
          ]
        },
        {
          "output_type": "stream",
          "name": "stderr",
          "text": [
            "Batch_id=87 Batch Loss=0.13274268805980682 Running Loss=8.845994304865599 Running Accuracy=96.41: 100%|██████████| 88/88 [00:51<00:00,  1.72it/s]\n"
          ]
        },
        {
          "output_type": "stream",
          "name": "stdout",
          "text": [
            "\n",
            "Validation set: Average loss: 0.0006, Accuracy: 4571/5000 (91.42%)\n",
            "\n",
            "\n",
            "Test set: Average loss: 0.3633, Accuracy: 9033/10000 (90.33%)\n",
            "\n",
            "EPOCHS : 77\n"
          ]
        },
        {
          "output_type": "stream",
          "name": "stderr",
          "text": [
            "Batch_id=87 Batch Loss=0.1025538370013237 Running Loss=9.074000131338835 Running Accuracy=96.30: 100%|██████████| 88/88 [00:51<00:00,  1.72it/s]\n"
          ]
        },
        {
          "output_type": "stream",
          "name": "stdout",
          "text": [
            "\n",
            "Validation set: Average loss: 0.0007, Accuracy: 4572/5000 (91.44%)\n",
            "\n",
            "\n",
            "Test set: Average loss: 0.3676, Accuracy: 9058/10000 (90.58%)\n",
            "\n",
            "EPOCHS : 78\n"
          ]
        },
        {
          "output_type": "stream",
          "name": "stderr",
          "text": [
            "Batch_id=87 Batch Loss=0.10146233439445496 Running Loss=8.552411049604416 Running Accuracy=96.56: 100%|██████████| 88/88 [00:51<00:00,  1.72it/s]\n"
          ]
        },
        {
          "output_type": "stream",
          "name": "stdout",
          "text": [
            "\n",
            "Validation set: Average loss: 0.0007, Accuracy: 4554/5000 (91.08%)\n",
            "\n",
            "\n",
            "Test set: Average loss: 0.3775, Accuracy: 9045/10000 (90.45%)\n",
            "\n",
            "EPOCHS : 79\n"
          ]
        },
        {
          "output_type": "stream",
          "name": "stderr",
          "text": [
            "Batch_id=87 Batch Loss=0.12092714011669159 Running Loss=8.596161659806967 Running Accuracy=96.54: 100%|██████████| 88/88 [00:51<00:00,  1.72it/s]\n"
          ]
        },
        {
          "output_type": "stream",
          "name": "stdout",
          "text": [
            "\n",
            "Validation set: Average loss: 0.0007, Accuracy: 4560/5000 (91.20%)\n",
            "\n",
            "\n",
            "Test set: Average loss: 0.3709, Accuracy: 9048/10000 (90.48%)\n",
            "\n",
            "EPOCHS : 80\n"
          ]
        },
        {
          "output_type": "stream",
          "name": "stderr",
          "text": [
            "Batch_id=87 Batch Loss=0.11176726222038269 Running Loss=8.499207943677902 Running Accuracy=96.65: 100%|██████████| 88/88 [00:51<00:00,  1.72it/s]\n"
          ]
        },
        {
          "output_type": "stream",
          "name": "stdout",
          "text": [
            "\n",
            "Validation set: Average loss: 0.0007, Accuracy: 4566/5000 (91.32%)\n",
            "\n",
            "\n",
            "Test set: Average loss: 0.3696, Accuracy: 9067/10000 (90.67%)\n",
            "\n",
            "EPOCHS : 81\n"
          ]
        },
        {
          "output_type": "stream",
          "name": "stderr",
          "text": [
            "Batch_id=87 Batch Loss=0.09610531479120255 Running Loss=8.207097548991442 Running Accuracy=96.70: 100%|██████████| 88/88 [00:51<00:00,  1.72it/s]\n"
          ]
        },
        {
          "output_type": "stream",
          "name": "stdout",
          "text": [
            "\n",
            "Validation set: Average loss: 0.0006, Accuracy: 4601/5000 (92.02%)\n",
            "\n",
            "\n",
            "Test set: Average loss: 0.3547, Accuracy: 9050/10000 (90.50%)\n",
            "\n",
            "EPOCHS : 82\n"
          ]
        },
        {
          "output_type": "stream",
          "name": "stderr",
          "text": [
            "Batch_id=87 Batch Loss=0.0940905213356018 Running Loss=7.696919675916433 Running Accuracy=96.89: 100%|██████████| 88/88 [00:51<00:00,  1.72it/s]\n"
          ]
        },
        {
          "output_type": "stream",
          "name": "stdout",
          "text": [
            "\n",
            "Validation set: Average loss: 0.0007, Accuracy: 4538/5000 (90.76%)\n",
            "\n",
            "\n",
            "Test set: Average loss: 0.3885, Accuracy: 9010/10000 (90.10%)\n",
            "\n",
            "EPOCHS : 83\n"
          ]
        },
        {
          "output_type": "stream",
          "name": "stderr",
          "text": [
            "Batch_id=87 Batch Loss=0.12495233118534088 Running Loss=8.149005617946386 Running Accuracy=96.81: 100%|██████████| 88/88 [00:51<00:00,  1.72it/s]\n"
          ]
        },
        {
          "output_type": "stream",
          "name": "stdout",
          "text": [
            "\n",
            "Validation set: Average loss: 0.0008, Accuracy: 4526/5000 (90.52%)\n",
            "\n",
            "\n",
            "Test set: Average loss: 0.4194, Accuracy: 8995/10000 (89.95%)\n",
            "\n",
            "EPOCHS : 84\n"
          ]
        },
        {
          "output_type": "stream",
          "name": "stderr",
          "text": [
            "Batch_id=87 Batch Loss=0.10273346304893494 Running Loss=7.853133719414473 Running Accuracy=96.84: 100%|██████████| 88/88 [00:51<00:00,  1.72it/s]\n"
          ]
        },
        {
          "output_type": "stream",
          "name": "stdout",
          "text": [
            "\n",
            "Validation set: Average loss: 0.0007, Accuracy: 4546/5000 (90.92%)\n",
            "\n",
            "\n",
            "Test set: Average loss: 0.3782, Accuracy: 9038/10000 (90.38%)\n",
            "\n",
            "EPOCHS : 85\n"
          ]
        },
        {
          "output_type": "stream",
          "name": "stderr",
          "text": [
            "Batch_id=87 Batch Loss=0.10160977393388748 Running Loss=7.53864748775959 Running Accuracy=96.95: 100%|██████████| 88/88 [00:51<00:00,  1.72it/s]\n"
          ]
        },
        {
          "output_type": "stream",
          "name": "stdout",
          "text": [
            "\n",
            "Validation set: Average loss: 0.0006, Accuracy: 4577/5000 (91.54%)\n",
            "\n",
            "\n",
            "Test set: Average loss: 0.3817, Accuracy: 9057/10000 (90.57%)\n",
            "\n",
            "EPOCHS : 86\n"
          ]
        },
        {
          "output_type": "stream",
          "name": "stderr",
          "text": [
            "Batch_id=87 Batch Loss=0.0779241994023323 Running Loss=7.211106460541487 Running Accuracy=97.04: 100%|██████████| 88/88 [00:51<00:00,  1.72it/s]\n"
          ]
        },
        {
          "output_type": "stream",
          "name": "stdout",
          "text": [
            "\n",
            "Validation set: Average loss: 0.0006, Accuracy: 4587/5000 (91.74%)\n",
            "\n",
            "\n",
            "Test set: Average loss: 0.3630, Accuracy: 9084/10000 (90.84%)\n",
            "\n",
            "EPOCHS : 87\n"
          ]
        },
        {
          "output_type": "stream",
          "name": "stderr",
          "text": [
            "Batch_id=87 Batch Loss=0.05539815500378609 Running Loss=7.437228377908468 Running Accuracy=97.06: 100%|██████████| 88/88 [00:50<00:00,  1.73it/s]\n"
          ]
        },
        {
          "output_type": "stream",
          "name": "stdout",
          "text": [
            "\n",
            "Validation set: Average loss: 0.0007, Accuracy: 4570/5000 (91.40%)\n",
            "\n",
            "\n",
            "Test set: Average loss: 0.3653, Accuracy: 9059/10000 (90.59%)\n",
            "\n",
            "EPOCHS : 88\n"
          ]
        },
        {
          "output_type": "stream",
          "name": "stderr",
          "text": [
            "Batch_id=87 Batch Loss=0.07362189143896103 Running Loss=7.012180041521788 Running Accuracy=97.12: 100%|██████████| 88/88 [00:51<00:00,  1.72it/s]\n"
          ]
        },
        {
          "output_type": "stream",
          "name": "stdout",
          "text": [
            "\n",
            "Validation set: Average loss: 0.0007, Accuracy: 4529/5000 (90.58%)\n",
            "\n",
            "\n",
            "Test set: Average loss: 0.4157, Accuracy: 8996/10000 (89.96%)\n",
            "\n",
            "EPOCHS : 89\n"
          ]
        },
        {
          "output_type": "stream",
          "name": "stderr",
          "text": [
            "Batch_id=87 Batch Loss=0.08644485473632812 Running Loss=7.041963174939156 Running Accuracy=97.13: 100%|██████████| 88/88 [00:51<00:00,  1.72it/s]\n"
          ]
        },
        {
          "output_type": "stream",
          "name": "stdout",
          "text": [
            "\n",
            "Validation set: Average loss: 0.0007, Accuracy: 4586/5000 (91.72%)\n",
            "\n",
            "\n",
            "Test set: Average loss: 0.3871, Accuracy: 9060/10000 (90.60%)\n",
            "\n",
            "EPOCHS : 90\n"
          ]
        },
        {
          "output_type": "stream",
          "name": "stderr",
          "text": [
            "Batch_id=87 Batch Loss=0.04993877187371254 Running Loss=7.140562072396278 Running Accuracy=97.15: 100%|██████████| 88/88 [00:51<00:00,  1.73it/s]\n"
          ]
        },
        {
          "output_type": "stream",
          "name": "stdout",
          "text": [
            "\n",
            "Validation set: Average loss: 0.0006, Accuracy: 4580/5000 (91.60%)\n",
            "\n",
            "\n",
            "Test set: Average loss: 0.3525, Accuracy: 9117/10000 (91.17%)\n",
            "\n",
            "EPOCHS : 91\n"
          ]
        },
        {
          "output_type": "stream",
          "name": "stderr",
          "text": [
            "Batch_id=87 Batch Loss=0.10395955294370651 Running Loss=7.118903495371342 Running Accuracy=97.14: 100%|██████████| 88/88 [00:51<00:00,  1.72it/s]\n"
          ]
        },
        {
          "output_type": "stream",
          "name": "stdout",
          "text": [
            "\n",
            "Validation set: Average loss: 0.0006, Accuracy: 4624/5000 (92.48%)\n",
            "\n",
            "Epoch 00092: reducing learning rate of group 0 to 1.0000e-03.\n",
            "\n",
            "Test set: Average loss: 0.3416, Accuracy: 9121/10000 (91.21%)\n",
            "\n",
            "EPOCHS : 92\n"
          ]
        },
        {
          "output_type": "stream",
          "name": "stderr",
          "text": [
            "Batch_id=87 Batch Loss=0.0405924953520298 Running Loss=4.946102146059275 Running Accuracy=98.06: 100%|██████████| 88/88 [00:51<00:00,  1.72it/s]\n"
          ]
        },
        {
          "output_type": "stream",
          "name": "stdout",
          "text": [
            "\n",
            "Validation set: Average loss: 0.0005, Accuracy: 4644/5000 (92.88%)\n",
            "\n",
            "\n",
            "Test set: Average loss: 0.3138, Accuracy: 9185/10000 (91.85%)\n",
            "\n",
            "EPOCHS : 93\n"
          ]
        },
        {
          "output_type": "stream",
          "name": "stderr",
          "text": [
            "Batch_id=87 Batch Loss=0.039175719022750854 Running Loss=4.012948015704751 Running Accuracy=98.52: 100%|██████████| 88/88 [00:51<00:00,  1.72it/s]\n"
          ]
        },
        {
          "output_type": "stream",
          "name": "stdout",
          "text": [
            "\n",
            "Validation set: Average loss: 0.0005, Accuracy: 4652/5000 (93.04%)\n",
            "\n",
            "\n",
            "Test set: Average loss: 0.3125, Accuracy: 9182/10000 (91.82%)\n",
            "\n",
            "EPOCHS : 94\n"
          ]
        },
        {
          "output_type": "stream",
          "name": "stderr",
          "text": [
            "Batch_id=87 Batch Loss=0.056427810341119766 Running Loss=3.8313504606485367 Running Accuracy=98.54: 100%|██████████| 88/88 [00:51<00:00,  1.72it/s]\n"
          ]
        },
        {
          "output_type": "stream",
          "name": "stdout",
          "text": [
            "\n",
            "Validation set: Average loss: 0.0005, Accuracy: 4658/5000 (93.16%)\n",
            "\n",
            "\n",
            "Test set: Average loss: 0.3034, Accuracy: 9201/10000 (92.01%)\n",
            "\n",
            "EPOCHS : 95\n"
          ]
        },
        {
          "output_type": "stream",
          "name": "stderr",
          "text": [
            "Batch_id=87 Batch Loss=0.04594587907195091 Running Loss=3.6791659370064735 Running Accuracy=98.69: 100%|██████████| 88/88 [00:51<00:00,  1.72it/s]\n"
          ]
        },
        {
          "output_type": "stream",
          "name": "stdout",
          "text": [
            "\n",
            "Validation set: Average loss: 0.0005, Accuracy: 4662/5000 (93.24%)\n",
            "\n",
            "\n",
            "Test set: Average loss: 0.3046, Accuracy: 9201/10000 (92.01%)\n",
            "\n",
            "EPOCHS : 96\n"
          ]
        },
        {
          "output_type": "stream",
          "name": "stderr",
          "text": [
            "Batch_id=87 Batch Loss=0.039928365498781204 Running Loss=3.5376485977321863 Running Accuracy=98.69: 100%|██████████| 88/88 [00:51<00:00,  1.72it/s]\n"
          ]
        },
        {
          "output_type": "stream",
          "name": "stdout",
          "text": [
            "\n",
            "Validation set: Average loss: 0.0005, Accuracy: 4656/5000 (93.12%)\n",
            "\n",
            "\n",
            "Test set: Average loss: 0.3091, Accuracy: 9186/10000 (91.86%)\n",
            "\n",
            "EPOCHS : 97\n"
          ]
        },
        {
          "output_type": "stream",
          "name": "stderr",
          "text": [
            "Batch_id=87 Batch Loss=0.029682857915759087 Running Loss=3.608028369024396 Running Accuracy=98.70: 100%|██████████| 88/88 [00:51<00:00,  1.72it/s]\n"
          ]
        },
        {
          "output_type": "stream",
          "name": "stdout",
          "text": [
            "\n",
            "Validation set: Average loss: 0.0005, Accuracy: 4653/5000 (93.06%)\n",
            "\n",
            "\n",
            "Test set: Average loss: 0.3089, Accuracy: 9193/10000 (91.93%)\n",
            "\n",
            "EPOCHS : 98\n"
          ]
        },
        {
          "output_type": "stream",
          "name": "stderr",
          "text": [
            "Batch_id=87 Batch Loss=0.0351652130484581 Running Loss=3.3451634608209133 Running Accuracy=98.80: 100%|██████████| 88/88 [00:51<00:00,  1.72it/s]\n"
          ]
        },
        {
          "output_type": "stream",
          "name": "stdout",
          "text": [
            "\n",
            "Validation set: Average loss: 0.0005, Accuracy: 4653/5000 (93.06%)\n",
            "\n",
            "\n",
            "Test set: Average loss: 0.3051, Accuracy: 9187/10000 (91.87%)\n",
            "\n",
            "EPOCHS : 99\n"
          ]
        },
        {
          "output_type": "stream",
          "name": "stderr",
          "text": [
            "Batch_id=87 Batch Loss=0.03451361134648323 Running Loss=3.176770517602563 Running Accuracy=98.90: 100%|██████████| 88/88 [00:51<00:00,  1.72it/s]\n"
          ]
        },
        {
          "output_type": "stream",
          "name": "stdout",
          "text": [
            "\n",
            "Validation set: Average loss: 0.0005, Accuracy: 4657/5000 (93.14%)\n",
            "\n",
            "\n",
            "Test set: Average loss: 0.3105, Accuracy: 9192/10000 (91.92%)\n",
            "\n",
            "EPOCHS : 100\n"
          ]
        },
        {
          "output_type": "stream",
          "name": "stderr",
          "text": [
            "Batch_id=87 Batch Loss=0.057300981134176254 Running Loss=3.2752888668328524 Running Accuracy=98.83: 100%|██████████| 88/88 [00:51<00:00,  1.72it/s]\n"
          ]
        },
        {
          "output_type": "stream",
          "name": "stdout",
          "text": [
            "\n",
            "Validation set: Average loss: 0.0005, Accuracy: 4659/5000 (93.18%)\n",
            "\n",
            "\n",
            "Test set: Average loss: 0.3090, Accuracy: 9188/10000 (91.88%)\n",
            "\n",
            "EPOCHS : 101\n"
          ]
        },
        {
          "output_type": "stream",
          "name": "stderr",
          "text": [
            "Batch_id=87 Batch Loss=0.03917597234249115 Running Loss=3.171057904139161 Running Accuracy=98.89: 100%|██████████| 88/88 [00:51<00:00,  1.72it/s]\n"
          ]
        },
        {
          "output_type": "stream",
          "name": "stdout",
          "text": [
            "\n",
            "Validation set: Average loss: 0.0005, Accuracy: 4672/5000 (93.44%)\n",
            "\n",
            "\n",
            "Test set: Average loss: 0.3086, Accuracy: 9193/10000 (91.93%)\n",
            "\n",
            "EPOCHS : 102\n"
          ]
        },
        {
          "output_type": "stream",
          "name": "stderr",
          "text": [
            "Batch_id=87 Batch Loss=0.03511324152350426 Running Loss=3.0906391963362694 Running Accuracy=98.83: 100%|██████████| 88/88 [00:51<00:00,  1.72it/s]\n"
          ]
        },
        {
          "output_type": "stream",
          "name": "stdout",
          "text": [
            "\n",
            "Validation set: Average loss: 0.0005, Accuracy: 4658/5000 (93.16%)\n",
            "\n",
            "\n",
            "Test set: Average loss: 0.3082, Accuracy: 9197/10000 (91.97%)\n",
            "\n",
            "EPOCHS : 103\n"
          ]
        },
        {
          "output_type": "stream",
          "name": "stderr",
          "text": [
            "Batch_id=87 Batch Loss=0.03869587555527687 Running Loss=2.9966160021722317 Running Accuracy=98.88: 100%|██████████| 88/88 [00:51<00:00,  1.72it/s]\n"
          ]
        },
        {
          "output_type": "stream",
          "name": "stdout",
          "text": [
            "\n",
            "Validation set: Average loss: 0.0005, Accuracy: 4659/5000 (93.18%)\n",
            "\n",
            "\n",
            "Test set: Average loss: 0.3096, Accuracy: 9200/10000 (92.00%)\n",
            "\n",
            "EPOCHS : 104\n"
          ]
        },
        {
          "output_type": "stream",
          "name": "stderr",
          "text": [
            "Batch_id=87 Batch Loss=0.0462852343916893 Running Loss=3.1053258422762156 Running Accuracy=98.88: 100%|██████████| 88/88 [00:51<00:00,  1.72it/s]\n"
          ]
        },
        {
          "output_type": "stream",
          "name": "stdout",
          "text": [
            "\n",
            "Validation set: Average loss: 0.0005, Accuracy: 4654/5000 (93.08%)\n",
            "\n",
            "\n",
            "Test set: Average loss: 0.3091, Accuracy: 9204/10000 (92.04%)\n",
            "\n",
            "EPOCHS : 105\n"
          ]
        },
        {
          "output_type": "stream",
          "name": "stderr",
          "text": [
            "Batch_id=87 Batch Loss=0.018664875999093056 Running Loss=2.9399055130779743 Running Accuracy=98.92: 100%|██████████| 88/88 [00:51<00:00,  1.72it/s]\n"
          ]
        },
        {
          "output_type": "stream",
          "name": "stdout",
          "text": [
            "\n",
            "Validation set: Average loss: 0.0005, Accuracy: 4655/5000 (93.10%)\n",
            "\n",
            "\n",
            "Test set: Average loss: 0.3114, Accuracy: 9203/10000 (92.03%)\n",
            "\n",
            "EPOCHS : 106\n"
          ]
        },
        {
          "output_type": "stream",
          "name": "stderr",
          "text": [
            "Batch_id=87 Batch Loss=0.03726906701922417 Running Loss=2.9296200182288885 Running Accuracy=98.93: 100%|██████████| 88/88 [00:51<00:00,  1.72it/s]\n"
          ]
        },
        {
          "output_type": "stream",
          "name": "stdout",
          "text": [
            "\n",
            "Validation set: Average loss: 0.0005, Accuracy: 4659/5000 (93.18%)\n",
            "\n",
            "\n",
            "Test set: Average loss: 0.3116, Accuracy: 9206/10000 (92.06%)\n",
            "\n",
            "EPOCHS : 107\n"
          ]
        },
        {
          "output_type": "stream",
          "name": "stderr",
          "text": [
            "Batch_id=87 Batch Loss=0.04483145475387573 Running Loss=2.9856822304427624 Running Accuracy=98.90: 100%|██████████| 88/88 [00:51<00:00,  1.72it/s]\n"
          ]
        },
        {
          "output_type": "stream",
          "name": "stdout",
          "text": [
            "\n",
            "Validation set: Average loss: 0.0005, Accuracy: 4658/5000 (93.16%)\n",
            "\n",
            "\n",
            "Test set: Average loss: 0.3138, Accuracy: 9191/10000 (91.91%)\n",
            "\n",
            "EPOCHS : 108\n"
          ]
        },
        {
          "output_type": "stream",
          "name": "stderr",
          "text": [
            "Batch_id=87 Batch Loss=0.03583903983235359 Running Loss=2.8707386758178473 Running Accuracy=98.92: 100%|██████████| 88/88 [00:51<00:00,  1.72it/s]\n"
          ]
        },
        {
          "output_type": "stream",
          "name": "stdout",
          "text": [
            "\n",
            "Validation set: Average loss: 0.0005, Accuracy: 4664/5000 (93.28%)\n",
            "\n",
            "\n",
            "Test set: Average loss: 0.3114, Accuracy: 9205/10000 (92.05%)\n",
            "\n",
            "EPOCHS : 109\n"
          ]
        },
        {
          "output_type": "stream",
          "name": "stderr",
          "text": [
            "Batch_id=87 Batch Loss=0.02767951227724552 Running Loss=2.871700242161751 Running Accuracy=98.97: 100%|██████████| 88/88 [00:51<00:00,  1.72it/s]\n"
          ]
        },
        {
          "output_type": "stream",
          "name": "stdout",
          "text": [
            "\n",
            "Validation set: Average loss: 0.0005, Accuracy: 4663/5000 (93.26%)\n",
            "\n",
            "\n",
            "Test set: Average loss: 0.3087, Accuracy: 9214/10000 (92.14%)\n",
            "\n",
            "EPOCHS : 110\n"
          ]
        },
        {
          "output_type": "stream",
          "name": "stderr",
          "text": [
            "Batch_id=87 Batch Loss=0.04412354528903961 Running Loss=2.959360610693693 Running Accuracy=98.94: 100%|██████████| 88/88 [00:51<00:00,  1.72it/s]\n"
          ]
        },
        {
          "output_type": "stream",
          "name": "stdout",
          "text": [
            "\n",
            "Validation set: Average loss: 0.0005, Accuracy: 4659/5000 (93.18%)\n",
            "\n",
            "\n",
            "Test set: Average loss: 0.3105, Accuracy: 9211/10000 (92.11%)\n",
            "\n",
            "EPOCHS : 111\n"
          ]
        },
        {
          "output_type": "stream",
          "name": "stderr",
          "text": [
            "Batch_id=87 Batch Loss=0.04909356310963631 Running Loss=2.8360681030899286 Running Accuracy=99.00: 100%|██████████| 88/88 [00:51<00:00,  1.72it/s]\n"
          ]
        },
        {
          "output_type": "stream",
          "name": "stdout",
          "text": [
            "\n",
            "Validation set: Average loss: 0.0005, Accuracy: 4657/5000 (93.14%)\n",
            "\n",
            "\n",
            "Test set: Average loss: 0.3147, Accuracy: 9197/10000 (91.97%)\n",
            "\n",
            "EPOCHS : 112\n"
          ]
        },
        {
          "output_type": "stream",
          "name": "stderr",
          "text": [
            "Batch_id=87 Batch Loss=0.020141074433922768 Running Loss=2.742462210357189 Running Accuracy=99.02: 100%|██████████| 88/88 [00:51<00:00,  1.72it/s]\n"
          ]
        },
        {
          "output_type": "stream",
          "name": "stdout",
          "text": [
            "\n",
            "Validation set: Average loss: 0.0005, Accuracy: 4670/5000 (93.40%)\n",
            "\n",
            "\n",
            "Test set: Average loss: 0.3113, Accuracy: 9211/10000 (92.11%)\n",
            "\n",
            "EPOCHS : 113\n"
          ]
        },
        {
          "output_type": "stream",
          "name": "stderr",
          "text": [
            "Batch_id=87 Batch Loss=0.02655429020524025 Running Loss=2.8326128916814923 Running Accuracy=98.96: 100%|██████████| 88/88 [00:51<00:00,  1.72it/s]\n"
          ]
        },
        {
          "output_type": "stream",
          "name": "stdout",
          "text": [
            "\n",
            "Validation set: Average loss: 0.0005, Accuracy: 4666/5000 (93.32%)\n",
            "\n",
            "\n",
            "Test set: Average loss: 0.3116, Accuracy: 9223/10000 (92.23%)\n",
            "\n",
            "EPOCHS : 114\n"
          ]
        },
        {
          "output_type": "stream",
          "name": "stderr",
          "text": [
            "Batch_id=87 Batch Loss=0.03223728761076927 Running Loss=2.867765133269131 Running Accuracy=98.94: 100%|██████████| 88/88 [00:51<00:00,  1.72it/s]\n"
          ]
        },
        {
          "output_type": "stream",
          "name": "stdout",
          "text": [
            "\n",
            "Validation set: Average loss: 0.0005, Accuracy: 4668/5000 (93.36%)\n",
            "\n",
            "\n",
            "Test set: Average loss: 0.3127, Accuracy: 9213/10000 (92.13%)\n",
            "\n",
            "EPOCHS : 115\n"
          ]
        },
        {
          "output_type": "stream",
          "name": "stderr",
          "text": [
            "Batch_id=87 Batch Loss=0.032029956579208374 Running Loss=2.726936899125576 Running Accuracy=99.02: 100%|██████████| 88/88 [00:51<00:00,  1.72it/s]\n"
          ]
        },
        {
          "output_type": "stream",
          "name": "stdout",
          "text": [
            "\n",
            "Validation set: Average loss: 0.0005, Accuracy: 4660/5000 (93.20%)\n",
            "\n",
            "\n",
            "Test set: Average loss: 0.3125, Accuracy: 9212/10000 (92.12%)\n",
            "\n",
            "EPOCHS : 116\n"
          ]
        },
        {
          "output_type": "stream",
          "name": "stderr",
          "text": [
            "Batch_id=87 Batch Loss=0.028825391083955765 Running Loss=2.872549107298255 Running Accuracy=98.98: 100%|██████████| 88/88 [00:51<00:00,  1.72it/s]\n"
          ]
        },
        {
          "output_type": "stream",
          "name": "stdout",
          "text": [
            "\n",
            "Validation set: Average loss: 0.0005, Accuracy: 4654/5000 (93.08%)\n",
            "\n",
            "\n",
            "Test set: Average loss: 0.3196, Accuracy: 9187/10000 (91.87%)\n",
            "\n",
            "EPOCHS : 117\n"
          ]
        },
        {
          "output_type": "stream",
          "name": "stderr",
          "text": [
            "Batch_id=87 Batch Loss=0.03502831608057022 Running Loss=2.728380400687456 Running Accuracy=99.01: 100%|██████████| 88/88 [00:51<00:00,  1.72it/s]\n"
          ]
        },
        {
          "output_type": "stream",
          "name": "stdout",
          "text": [
            "\n",
            "Validation set: Average loss: 0.0005, Accuracy: 4660/5000 (93.20%)\n",
            "\n",
            "\n",
            "Test set: Average loss: 0.3134, Accuracy: 9205/10000 (92.05%)\n",
            "\n",
            "EPOCHS : 118\n"
          ]
        },
        {
          "output_type": "stream",
          "name": "stderr",
          "text": [
            "Batch_id=87 Batch Loss=0.03347800672054291 Running Loss=2.5879039876163006 Running Accuracy=99.13: 100%|██████████| 88/88 [00:51<00:00,  1.72it/s]\n"
          ]
        },
        {
          "output_type": "stream",
          "name": "stdout",
          "text": [
            "\n",
            "Validation set: Average loss: 0.0005, Accuracy: 4654/5000 (93.08%)\n",
            "\n",
            "\n",
            "Test set: Average loss: 0.3172, Accuracy: 9199/10000 (91.99%)\n",
            "\n",
            "EPOCHS : 119\n"
          ]
        },
        {
          "output_type": "stream",
          "name": "stderr",
          "text": [
            "Batch_id=87 Batch Loss=0.03433424234390259 Running Loss=2.750260747037828 Running Accuracy=99.00: 100%|██████████| 88/88 [00:51<00:00,  1.72it/s]\n"
          ]
        },
        {
          "output_type": "stream",
          "name": "stdout",
          "text": [
            "\n",
            "Validation set: Average loss: 0.0005, Accuracy: 4648/5000 (92.96%)\n",
            "\n",
            "\n",
            "Test set: Average loss: 0.3177, Accuracy: 9205/10000 (92.05%)\n",
            "\n"
          ]
        }
      ],
      "source": [
        "# Training the model\n",
        "\n",
        "train_acc = []\n",
        "train_losses = []\n",
        "valid_accs = []\n",
        "valid_losses = []\n",
        "test_acc = []\n",
        "test_losses = []\n",
        "min_valid_loss = None\n",
        "max_acc = None\n",
        "\n",
        "EPOCHS = 120\n",
        "\n",
        "for i in range(EPOCHS):\n",
        "    print(f'EPOCHS : {i}')\n",
        "    model_training(model, device, trainloader, optimizer, train_acc, train_losses)\n",
        "\n",
        "    # Validating the model for the current epoch\n",
        "    valid_loss, valid_acc = model_evaluation(model, device, validloader)  \n",
        "\n",
        "    valid_losses.append(valid_loss)\n",
        "    valid_accs.append(valid_acc)\n",
        "\n",
        "    if not min_valid_loss:\n",
        "      min_valid_loss = valid_loss\n",
        "    else:\n",
        "      if valid_loss < min_valid_loss:\n",
        "        min_valid_loss = valid_loss\n",
        "        torch.save(model, \"best_model.pickle\")\n",
        "\n",
        "    scheduler.step(train_losses[-1])\n",
        "    # scheduler.step(valid_loss)\n",
        "\n",
        "    misclassified, test_acc2 = model_testing(model, device, testloader, test_acc, test_losses)\n",
        "\n",
        "    if not max_acc:\n",
        "      max_acc = test_acc2\n",
        "    else:\n",
        "      if test_acc2 > max_acc:\n",
        "        max_acc = test_acc2\n",
        "        torch.save(model, \"best_test_acc_model.pickle\")\n",
        "\n",
        "    save_to_csv(\"13_resnet_3_4_3_inchannels_64.csv\", train_losses, train_acc, test_losses, test_acc)\n"
      ]
    },
    {
      "cell_type": "code",
      "source": [
        "# Best model\n",
        "model1 = torch.load(\"best_model.pickle\")\n",
        "model2 = torch.load(\"best_test_acc_model.pickle\")\n",
        "misclassified, _acc = model_testing(model1, device, testloader, test_acc, test_losses)\n",
        "misclassified, _acc = model_testing(model2, device, testloader, test_acc, test_losses)"
      ],
      "metadata": {
        "colab": {
          "base_uri": "https://localhost:8080/"
        },
        "id": "ocguQ5Q9p1Kt",
        "outputId": "8cebcb70-e50b-4af8-8fdb-401e0fdc3e35"
      },
      "execution_count": 18,
      "outputs": [
        {
          "output_type": "stream",
          "name": "stdout",
          "text": [
            "\n",
            "Test set: Average loss: 0.3046, Accuracy: 9201/10000 (92.01%)\n",
            "\n",
            "\n",
            "Test set: Average loss: 0.3116, Accuracy: 9223/10000 (92.23%)\n",
            "\n"
          ]
        }
      ]
    },
    {
      "cell_type": "code",
      "execution_count": 19,
      "metadata": {
        "execution": {
          "iopub.execute_input": "2020-09-18T14:33:11.004455Z",
          "iopub.status.busy": "2020-09-18T14:33:11.003592Z",
          "iopub.status.idle": "2020-09-18T14:33:11.886161Z",
          "shell.execute_reply": "2020-09-18T14:33:11.885385Z"
        },
        "papermill": {
          "duration": 4.212753,
          "end_time": "2020-09-18T14:33:11.886294",
          "exception": false,
          "start_time": "2020-09-18T14:33:07.673541",
          "status": "completed"
        },
        "tags": [],
        "colab": {
          "base_uri": "https://localhost:8080/",
          "height": 1000
        },
        "id": "3pYBPl8HKs_o",
        "outputId": "335b0ce3-1c4f-4177-8e6e-50b821717d94"
      },
      "outputs": [
        {
          "output_type": "execute_result",
          "data": {
            "text/plain": [
              "[<matplotlib.lines.Line2D at 0x7ff01d9cc450>]"
            ]
          },
          "metadata": {},
          "execution_count": 19
        },
        {
          "output_type": "display_data",
          "data": {
            "text/plain": [
              "<Figure size 1800x1440 with 4 Axes>"
            ],
            "image/png": "[encoded data removed]"
          },
          "metadata": {
            "needs_background": "light"
          }
        }
      ],
      "source": [
        "fig, axs = plt.subplots(2,2, figsize=(25,20))\n",
        "\n",
        "axs[0,0].set_title('Train Losses')\n",
        "axs[0,1].set_title('Training Accuracy')\n",
        "axs[1,0].set_title('Test Losses')\n",
        "axs[1,1].set_title('Test Accuracy')\n",
        "\n",
        "axs[0,0].plot(train_losses)\n",
        "axs[0,1].plot(train_acc)\n",
        "axs[1,0].plot(test_losses)\n",
        "axs[1,1].plot(test_acc)"
      ]
    },
    {
      "cell_type": "code",
      "source": [],
      "metadata": {
        "id": "DlPU6Co4ns_R"
      },
      "execution_count": null,
      "outputs": []
    }
  ],
  "metadata": {
    "kernelspec": {
      "display_name": "Python 3",
      "language": "python",
      "name": "python3"
    },
    "language_info": {
      "codemirror_mode": {
        "name": "ipython",
        "version": 3
      },
      "file_extension": ".py",
      "mimetype": "text/x-python",
      "name": "python",
      "nbconvert_exporter": "python",
      "pygments_lexer": "ipython3",
      "version": "3.7.6"
    },
    "papermill": {
      "duration": 1617.594216,
      "end_time": "2020-09-18T14:33:16.593563",
      "environment_variables": {},
      "exception": null,
      "input_path": "__notebook__.ipynb",
      "output_path": "__notebook__.ipynb",
      "parameters": {},
      "start_time": "2020-09-18T14:06:18.999347",
      "version": "2.1.0"
    },
    "colab": {
      "provenance": [],
      "machine_shape": "hm"
    },
    "accelerator": "GPU",
    "gpuClass": "standard",
    "widgets": {
      "application/vnd.jupyter.widget-state+json": {
        "4722d6439cc84fb39ca1a67a477dae57": {
          "model_module": "@jupyter-widgets/controls",
          "model_name": "HBoxModel",
          "model_module_version": "1.5.0",
          "state": {
            "_dom_classes": [],
            "_model_module": "@jupyter-widgets/controls",
            "_model_module_version": "1.5.0",
            "_model_name": "HBoxModel",
            "_view_count": null,
            "_view_module": "@jupyter-widgets/controls",
            "_view_module_version": "1.5.0",
            "_view_name": "HBoxView",
            "box_style": "",
            "children": [
              "IPY_MODEL_9f73568159a24bada32875ecad31f3e9",
              "IPY_MODEL_9dc27fcf136a45e2b87be197e72446b3",
              "IPY_MODEL_151eb01de714451e8814a06acba196b7"
            ],
            "layout": "IPY_MODEL_50074dfb738447cf830ff4e8df46839b"
          }
        },
        "9f73568159a24bada32875ecad31f3e9": {
          "model_module": "@jupyter-widgets/controls",
          "model_name": "HTMLModel",
          "model_module_version": "1.5.0",
          "state": {
            "_dom_classes": [],
            "_model_module": "@jupyter-widgets/controls",
            "_model_module_version": "1.5.0",
            "_model_name": "HTMLModel",
            "_view_count": null,
            "_view_module": "@jupyter-widgets/controls",
            "_view_module_version": "1.5.0",
            "_view_name": "HTMLView",
            "description": "",
            "description_tooltip": null,
            "layout": "IPY_MODEL_7d54c6d5df414303958cd7f34a7daa07",
            "placeholder": "​",
            "style": "IPY_MODEL_ee309db9f35541e6b498e42728836858",
            "value": "100%"
          }
        },
        "9dc27fcf136a45e2b87be197e72446b3": {
          "model_module": "@jupyter-widgets/controls",
          "model_name": "FloatProgressModel",
          "model_module_version": "1.5.0",
          "state": {
            "_dom_classes": [],
            "_model_module": "@jupyter-widgets/controls",
            "_model_module_version": "1.5.0",
            "_model_name": "FloatProgressModel",
            "_view_count": null,
            "_view_module": "@jupyter-widgets/controls",
            "_view_module_version": "1.5.0",
            "_view_name": "ProgressView",
            "bar_style": "success",
            "description": "",
            "description_tooltip": null,
            "layout": "IPY_MODEL_5eb0b2dc90354a74805cd023233739cc",
            "max": 170498071,
            "min": 0,
            "orientation": "horizontal",
            "style": "IPY_MODEL_5e9f37eec2d04dd9b96ff571bcbd660a",
            "value": 170498071
          }
        },
        "151eb01de714451e8814a06acba196b7": {
          "model_module": "@jupyter-widgets/controls",
          "model_name": "HTMLModel",
          "model_module_version": "1.5.0",
          "state": {
            "_dom_classes": [],
            "_model_module": "@jupyter-widgets/controls",
            "_model_module_version": "1.5.0",
            "_model_name": "HTMLModel",
            "_view_count": null,
            "_view_module": "@jupyter-widgets/controls",
            "_view_module_version": "1.5.0",
            "_view_name": "HTMLView",
            "description": "",
            "description_tooltip": null,
            "layout": "IPY_MODEL_2214dbde627549e3bf3c9af6f386a82f",
            "placeholder": "​",
            "style": "IPY_MODEL_f4dd7544d809417392da3ea5d54c08b0",
            "value": " 170498071/170498071 [00:14&lt;00:00, 13501856.01it/s]"
          }
        },
        "50074dfb738447cf830ff4e8df46839b": {
          "model_module": "@jupyter-widgets/base",
          "model_name": "LayoutModel",
          "model_module_version": "1.2.0",
          "state": {
            "_model_module": "@jupyter-widgets/base",
            "_model_module_version": "1.2.0",
            "_model_name": "LayoutModel",
            "_view_count": null,
            "_view_module": "@jupyter-widgets/base",
            "_view_module_version": "1.2.0",
            "_view_name": "LayoutView",
            "align_content": null,
            "align_items": null,
            "align_self": null,
            "border": null,
            "bottom": null,
            "display": null,
            "flex": null,
            "flex_flow": null,
            "grid_area": null,
            "grid_auto_columns": null,
            "grid_auto_flow": null,
            "grid_auto_rows": null,
            "grid_column": null,
            "grid_gap": null,
            "grid_row": null,
            "grid_template_areas": null,
            "grid_template_columns": null,
            "grid_template_rows": null,
            "height": null,
            "justify_content": null,
            "justify_items": null,
            "left": null,
            "margin": null,
            "max_height": null,
            "max_width": null,
            "min_height": null,
            "min_width": null,
            "object_fit": null,
            "object_position": null,
            "order": null,
            "overflow": null,
            "overflow_x": null,
            "overflow_y": null,
            "padding": null,
            "right": null,
            "top": null,
            "visibility": null,
            "width": null
          }
        },
        "7d54c6d5df414303958cd7f34a7daa07": {
          "model_module": "@jupyter-widgets/base",
          "model_name": "LayoutModel",
          "model_module_version": "1.2.0",
          "state": {
            "_model_module": "@jupyter-widgets/base",
            "_model_module_version": "1.2.0",
            "_model_name": "LayoutModel",
            "_view_count": null,
            "_view_module": "@jupyter-widgets/base",
            "_view_module_version": "1.2.0",
            "_view_name": "LayoutView",
            "align_content": null,
            "align_items": null,
            "align_self": null,
            "border": null,
            "bottom": null,
            "display": null,
            "flex": null,
            "flex_flow": null,
            "grid_area": null,
            "grid_auto_columns": null,
            "grid_auto_flow": null,
            "grid_auto_rows": null,
            "grid_column": null,
            "grid_gap": null,
            "grid_row": null,
            "grid_template_areas": null,
            "grid_template_columns": null,
            "grid_template_rows": null,
            "height": null,
            "justify_content": null,
            "justify_items": null,
            "left": null,
            "margin": null,
            "max_height": null,
            "max_width": null,
            "min_height": null,
            "min_width": null,
            "object_fit": null,
            "object_position": null,
            "order": null,
            "overflow": null,
            "overflow_x": null,
            "overflow_y": null,
            "padding": null,
            "right": null,
            "top": null,
            "visibility": null,
            "width": null
          }
        },
        "ee309db9f35541e6b498e42728836858": {
          "model_module": "@jupyter-widgets/controls",
          "model_name": "DescriptionStyleModel",
          "model_module_version": "1.5.0",
          "state": {
            "_model_module": "@jupyter-widgets/controls",
            "_model_module_version": "1.5.0",
            "_model_name": "DescriptionStyleModel",
            "_view_count": null,
            "_view_module": "@jupyter-widgets/base",
            "_view_module_version": "1.2.0",
            "_view_name": "StyleView",
            "description_width": ""
          }
        },
        "5eb0b2dc90354a74805cd023233739cc": {
          "model_module": "@jupyter-widgets/base",
          "model_name": "LayoutModel",
          "model_module_version": "1.2.0",
          "state": {
            "_model_module": "@jupyter-widgets/base",
            "_model_module_version": "1.2.0",
            "_model_name": "LayoutModel",
            "_view_count": null,
            "_view_module": "@jupyter-widgets/base",
            "_view_module_version": "1.2.0",
            "_view_name": "LayoutView",
            "align_content": null,
            "align_items": null,
            "align_self": null,
            "border": null,
            "bottom": null,
            "display": null,
            "flex": null,
            "flex_flow": null,
            "grid_area": null,
            "grid_auto_columns": null,
            "grid_auto_flow": null,
            "grid_auto_rows": null,
            "grid_column": null,
            "grid_gap": null,
            "grid_row": null,
            "grid_template_areas": null,
            "grid_template_columns": null,
            "grid_template_rows": null,
            "height": null,
            "justify_content": null,
            "justify_items": null,
            "left": null,
            "margin": null,
            "max_height": null,
            "max_width": null,
            "min_height": null,
            "min_width": null,
            "object_fit": null,
            "object_position": null,
            "order": null,
            "overflow": null,
            "overflow_x": null,
            "overflow_y": null,
            "padding": null,
            "right": null,
            "top": null,
            "visibility": null,
            "width": null
          }
        },
        "5e9f37eec2d04dd9b96ff571bcbd660a": {
          "model_module": "@jupyter-widgets/controls",
          "model_name": "ProgressStyleModel",
          "model_module_version": "1.5.0",
          "state": {
            "_model_module": "@jupyter-widgets/controls",
            "_model_module_version": "1.5.0",
            "_model_name": "ProgressStyleModel",
            "_view_count": null,
            "_view_module": "@jupyter-widgets/base",
            "_view_module_version": "1.2.0",
            "_view_name": "StyleView",
            "bar_color": null,
            "description_width": ""
          }
        },
        "2214dbde627549e3bf3c9af6f386a82f": {
          "model_module": "@jupyter-widgets/base",
          "model_name": "LayoutModel",
          "model_module_version": "1.2.0",
          "state": {
            "_model_module": "@jupyter-widgets/base",
            "_model_module_version": "1.2.0",
            "_model_name": "LayoutModel",
            "_view_count": null,
            "_view_module": "@jupyter-widgets/base",
            "_view_module_version": "1.2.0",
            "_view_name": "LayoutView",
            "align_content": null,
            "align_items": null,
            "align_self": null,
            "border": null,
            "bottom": null,
            "display": null,
            "flex": null,
            "flex_flow": null,
            "grid_area": null,
            "grid_auto_columns": null,
            "grid_auto_flow": null,
            "grid_auto_rows": null,
            "grid_column": null,
            "grid_gap": null,
            "grid_row": null,
            "grid_template_areas": null,
            "grid_template_columns": null,
            "grid_template_rows": null,
            "height": null,
            "justify_content": null,
            "justify_items": null,
            "left": null,
            "margin": null,
            "max_height": null,
            "max_width": null,
            "min_height": null,
            "min_width": null,
            "object_fit": null,
            "object_position": null,
            "order": null,
            "overflow": null,
            "overflow_x": null,
            "overflow_y": null,
            "padding": null,
            "right": null,
            "top": null,
            "visibility": null,
            "width": null
          }
        },
        "f4dd7544d809417392da3ea5d54c08b0": {
          "model_module": "@jupyter-widgets/controls",
          "model_name": "DescriptionStyleModel",
          "model_module_version": "1.5.0",
          "state": {
            "_model_module": "@jupyter-widgets/controls",
            "_model_module_version": "1.5.0",
            "_model_name": "DescriptionStyleModel",
            "_view_count": null,
            "_view_module": "@jupyter-widgets/base",
            "_view_module_version": "1.2.0",
            "_view_name": "StyleView",
            "description_width": ""
          }
        }
      }
    }
  },
  "nbformat": 4,
  "nbformat_minor": 0
}