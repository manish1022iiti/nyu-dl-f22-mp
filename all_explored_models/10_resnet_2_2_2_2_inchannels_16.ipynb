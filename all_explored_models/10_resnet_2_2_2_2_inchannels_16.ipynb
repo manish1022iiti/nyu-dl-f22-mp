{
  "cells": [
    {
      "cell_type": "markdown",
      "source": [
        "https://www.kaggle.com/code/greatcodes/pytorch-cnn-resnet18-cifar10/notebook\n",
        "\n",
        "https://pytorch-tutorial.readthedocs.io/en/latest/tutorial/chapter03_intermediate/3_2_2_cnn_resnet_cifar10/"
      ],
      "metadata": {
        "id": "TS3R6-AKKuSD"
      }
    },
    {
      "cell_type": "code",
      "execution_count": 1,
      "metadata": {
        "execution": {
          "iopub.execute_input": "2020-09-18T14:06:23.323276Z",
          "iopub.status.busy": "2020-09-18T14:06:23.322403Z",
          "iopub.status.idle": "2020-09-18T14:06:33.073785Z",
          "shell.execute_reply": "2020-09-18T14:06:33.073171Z"
        },
        "papermill": {
          "duration": 9.766997,
          "end_time": "2020-09-18T14:06:33.073915",
          "exception": false,
          "start_time": "2020-09-18T14:06:23.306918",
          "status": "completed"
        },
        "tags": [],
        "colab": {
          "base_uri": "https://localhost:8080/"
        },
        "id": "40qwzP9AKs_c",
        "outputId": "3eba33fd-34a0-4db2-8af5-55834794a60e"
      },
      "outputs": [
        {
          "output_type": "stream",
          "name": "stdout",
          "text": [
            "Looking in indexes: https://pypi.org/simple, https://us-python.pkg.dev/colab-wheels/public/simple/\n",
            "Requirement already satisfied: torchsummary in /usr/local/lib/python3.7/dist-packages (1.5.1)\n"
          ]
        }
      ],
      "source": [
        "!pip install torchsummary"
      ]
    },
    {
      "cell_type": "code",
      "execution_count": 2,
      "metadata": {
        "_cell_guid": "79c7e3d0-c299-4dcb-8224-4455121ee9b0",
        "_uuid": "d629ff2d2480ee46fbb7e2d37f6b5fab8052498a",
        "execution": {
          "iopub.execute_input": "2020-09-18T14:06:33.110540Z",
          "iopub.status.busy": "2020-09-18T14:06:33.109616Z",
          "iopub.status.idle": "2020-09-18T14:06:34.741497Z",
          "shell.execute_reply": "2020-09-18T14:06:34.742236Z"
        },
        "papermill": {
          "duration": 1.655486,
          "end_time": "2020-09-18T14:06:34.742433",
          "exception": false,
          "start_time": "2020-09-18T14:06:33.086947",
          "status": "completed"
        },
        "tags": [],
        "colab": {
          "base_uri": "https://localhost:8080/"
        },
        "id": "1L1ayeUjKs_d",
        "outputId": "ea3715e6-0094-44a4-fff6-08d089a8e44a"
      },
      "outputs": [
        {
          "output_type": "stream",
          "name": "stdout",
          "text": [
            "cuda\n"
          ]
        }
      ],
      "source": [
        "# Importing Libraries\n",
        "import os\n",
        "import copy\n",
        "import random\n",
        "import numpy as np\n",
        "import pandas as pd\n",
        "import torch\n",
        "import torchvision\n",
        "import torchvision.transforms as transforms\n",
        "from torchsummary import summary\n",
        "import torch.utils.data as data\n",
        "import torch.nn as nn\n",
        "import torch.nn.functional as F\n",
        "import torch.optim as optim\n",
        "from torch.optim.lr_scheduler import StepLR, ReduceLROnPlateau\n",
        "\n",
        "import matplotlib.pyplot as plt\n",
        "%matplotlib inline\n",
        "\n",
        "SEED = 1234\n",
        "\n",
        "device = \"cuda\" if torch.cuda.is_available else \"cpu\"\n",
        "print(device)"
      ]
    },
    {
      "cell_type": "code",
      "execution_count": 3,
      "metadata": {
        "execution": {
          "iopub.execute_input": "2020-09-18T14:06:34.781123Z",
          "iopub.status.busy": "2020-09-18T14:06:34.780293Z",
          "iopub.status.idle": "2020-09-18T14:06:34.784939Z",
          "shell.execute_reply": "2020-09-18T14:06:34.784333Z"
        },
        "papermill": {
          "duration": 0.028551,
          "end_time": "2020-09-18T14:06:34.785089",
          "exception": false,
          "start_time": "2020-09-18T14:06:34.756538",
          "status": "completed"
        },
        "tags": [],
        "id": "s_5gkccjKs_e"
      },
      "outputs": [],
      "source": [
        "from torchvision import transforms\n",
        "import numpy as np\n",
        "import torch\n",
        "\n",
        "# Returns a list of transformations when called\n",
        "\n",
        "class GetTransforms():\n",
        "    '''Returns a list of transformations when type as requested amongst train/test\n",
        "       Transforms('train') = list of transforms to apply on training data\n",
        "       Transforms('test') = list of transforms to apply on testing data'''\n",
        "\n",
        "    def __init__(self):\n",
        "        pass\n",
        "\n",
        "    def trainparams(self):\n",
        "        train_transformations = [ #resises the image so it can be perfect for our model.\n",
        "            transforms.RandomHorizontalFlip(), # FLips the image w.r.t horizontal axis\n",
        "            transforms.RandomRotation((-7,7)),     #Rotates the image to a specified angel\n",
        "            transforms.RandomAffine(0, shear=10, scale=(0.8,1.2)), #Performs actions like zooms, change shear angles.\n",
        "            transforms.ColorJitter(brightness=0.2, contrast=0.2, saturation=0.2), # Set the color params\n",
        "            transforms.ToTensor(), # comvert the image to tensor so that it can work with torch\n",
        "            transforms.Normalize((0.491, 0.482, 0.446), (0.247, 0.243, 0.261)) #Normalize all the images\n",
        "            ]\n",
        "\n",
        "        return train_transformations\n",
        "\n",
        "    def testparams(self):\n",
        "        test_transforms = [\n",
        "            transforms.ToTensor(),\n",
        "            transforms.Normalize((0.491, 0.482, 0.446), (0.247, 0.243, 0.261))\n",
        "        ]\n",
        "        return test_transforms"
      ]
    },
    {
      "cell_type": "code",
      "execution_count": 4,
      "metadata": {
        "execution": {
          "iopub.execute_input": "2020-09-18T14:06:34.822176Z",
          "iopub.status.busy": "2020-09-18T14:06:34.821389Z",
          "iopub.status.idle": "2020-09-18T14:06:34.824928Z",
          "shell.execute_reply": "2020-09-18T14:06:34.825448Z"
        },
        "papermill": {
          "duration": 0.026239,
          "end_time": "2020-09-18T14:06:34.825574",
          "exception": false,
          "start_time": "2020-09-18T14:06:34.799335",
          "status": "completed"
        },
        "tags": [],
        "id": "TUmYFrWSKs_g"
      },
      "outputs": [],
      "source": [
        "from torchvision import datasets\n",
        "from torchvision import transforms\n",
        "\n",
        "\n",
        "transformations = GetTransforms()\n",
        "train_transforms = transforms.Compose(transformations.trainparams())\n",
        "test_transforms = transforms.Compose(transformations.testparams())\n",
        "\n",
        "\n",
        "class GetCIFAR10_TrainData():\n",
        "    def __init__(self, dir_name:str):\n",
        "        self.dirname = dir_name\n",
        "\n",
        "    def download_train_data(self):\n",
        "        return datasets.CIFAR10('./data', train=True, download=True, transform=train_transforms)\n",
        "\n",
        "    def download_test_data(self):\n",
        "        return datasets.CIFAR10('./data', train=False, download=True, transform=test_transforms)\n"
      ]
    },
    {
      "cell_type": "code",
      "execution_count": 5,
      "metadata": {
        "execution": {
          "iopub.execute_input": "2020-09-18T14:06:34.859536Z",
          "iopub.status.busy": "2020-09-18T14:06:34.858878Z",
          "iopub.status.idle": "2020-09-18T14:06:42.631720Z",
          "shell.execute_reply": "2020-09-18T14:06:42.631008Z"
        },
        "papermill": {
          "duration": 7.792606,
          "end_time": "2020-09-18T14:06:42.631847",
          "exception": false,
          "start_time": "2020-09-18T14:06:34.839241",
          "status": "completed"
        },
        "tags": [],
        "colab": {
          "base_uri": "https://localhost:8080/",
          "height": 101,
          "referenced_widgets": [
            "d22579f9e5624630b555bad7610e5f6e",
            "8f2180d43149474c9e83cc42e037b7e4",
            "0ae064cf93b84cafb49129ee7ccd1544",
            "902c184a899047dca4253c3cdd438f9b",
            "e82dd6916a67495686dbeaa093dda30b",
            "61c03f2641734a3ea9b61ab83dcf1a36",
            "8b3ebbea05994ed381778b3afb6a5e76",
            "15d535dfddb041be9ff5bdad18321469",
            "3a3ac2c434234cd988c9a211dbcad278",
            "f7010515fba04d91af5655ba5d7e8bb3",
            "d473e3038ca94cddaf092f1a1bd0571f"
          ]
        },
        "id": "U8mSINXnKs_i",
        "outputId": "b38afe61-4ef5-459a-9aac-8d4ae8ab1efc"
      },
      "outputs": [
        {
          "output_type": "stream",
          "name": "stdout",
          "text": [
            "Downloading https://www.cs.toronto.edu/~kriz/cifar-10-python.tar.gz to ./data/cifar-10-python.tar.gz\n"
          ]
        },
        {
          "output_type": "display_data",
          "data": {
            "text/plain": [
              "  0%|          | 0/170498071 [00:00<?, ?it/s]"
            ],
            "application/vnd.jupyter.widget-view+json": {
              "version_major": 2,
              "version_minor": 0,
              "model_id": "d22579f9e5624630b555bad7610e5f6e"
            }
          },
          "metadata": {}
        },
        {
          "output_type": "stream",
          "name": "stdout",
          "text": [
            "Extracting ./data/cifar-10-python.tar.gz to ./data\n",
            "Files already downloaded and verified\n"
          ]
        }
      ],
      "source": [
        "cdata = GetCIFAR10_TrainData(os.chdir(\"..\"))\n",
        "trainset = cdata.download_train_data()\n",
        "testset = cdata.download_test_data()\n",
        "\n",
        "VALID_RATIO = 0.9\n",
        "n_train_examples = int(len(trainset) * VALID_RATIO)\n",
        "n_valid_examples = len(trainset) - n_train_examples\n",
        "\n",
        "trainset, validset = data.random_split(trainset, \n",
        "                                           [n_train_examples, n_valid_examples])\n",
        "\n",
        "validset = copy.deepcopy(validset)\n",
        "validset.dataset.transform = test_transforms"
      ]
    },
    {
      "cell_type": "code",
      "source": [
        "len(trainset), len(validset), len(testset)"
      ],
      "metadata": {
        "colab": {
          "base_uri": "https://localhost:8080/"
        },
        "id": "W_h-ul9MYUPZ",
        "outputId": "76c1fb15-62cf-4057-9d76-da6779a0da8f"
      },
      "execution_count": 6,
      "outputs": [
        {
          "output_type": "execute_result",
          "data": {
            "text/plain": [
              "(45000, 5000, 10000)"
            ]
          },
          "metadata": {},
          "execution_count": 6
        }
      ]
    },
    {
      "cell_type": "code",
      "source": [
        "BATCH_SIZE = 512\n",
        "\n",
        "trainloader = torch.utils.data.DataLoader(trainset, batch_size=BATCH_SIZE,\n",
        "                                          shuffle=True, num_workers=2)\n",
        "validloader = torch.utils.data.DataLoader(validset, batch_size=BATCH_SIZE,\n",
        "                                          shuffle=False, num_workers=2)\n",
        "testloader = torch.utils.data.DataLoader(testset, batch_size=BATCH_SIZE,\n",
        "                                         shuffle=False, num_workers=2)"
      ],
      "metadata": {
        "id": "uybGoOcRQA6S"
      },
      "execution_count": 7,
      "outputs": []
    },
    {
      "cell_type": "markdown",
      "metadata": {
        "papermill": {
          "duration": 0.01586,
          "end_time": "2020-09-18T14:06:42.663889",
          "exception": false,
          "start_time": "2020-09-18T14:06:42.648029",
          "status": "completed"
        },
        "tags": [],
        "id": "H6YIObpwKs_j"
      },
      "source": [
        "# The Model - RESNET18\n"
      ]
    },
    {
      "cell_type": "code",
      "source": [
        "# 3x3 convolution\n",
        "def conv3x3(in_channels, out_channels, stride=1):\n",
        "    return nn.Conv2d(in_channels, out_channels, kernel_size=3, \n",
        "                     stride=stride, padding=1, bias=False)"
      ],
      "metadata": {
        "id": "G9TNZ9fONNbW"
      },
      "execution_count": 8,
      "outputs": []
    },
    {
      "cell_type": "code",
      "execution_count": 13,
      "metadata": {
        "execution": {
          "iopub.execute_input": "2020-09-18T14:06:42.726092Z",
          "iopub.status.busy": "2020-09-18T14:06:42.719704Z",
          "iopub.status.idle": "2020-09-18T14:06:42.729169Z",
          "shell.execute_reply": "2020-09-18T14:06:42.728568Z"
        },
        "papermill": {
          "duration": 0.048555,
          "end_time": "2020-09-18T14:06:42.729267",
          "exception": false,
          "start_time": "2020-09-18T14:06:42.680712",
          "status": "completed"
        },
        "tags": [],
        "id": "yJJ0Idu8Ks_j"
      },
      "outputs": [],
      "source": [
        "# Residual block\n",
        "class ResidualBlock(nn.Module):\n",
        "    def __init__(self, in_channels, out_channels, stride=1, downsample=None):\n",
        "        super(ResidualBlock, self).__init__()\n",
        "        \n",
        "        self.conv1 = conv3x3(in_channels, out_channels, stride)\n",
        "        self.bn1 = nn.BatchNorm2d(out_channels)\n",
        "        self.dropout1 = nn.Dropout(0.1)\n",
        "        \n",
        "        self.relu = nn.ReLU(inplace=True)\n",
        "        \n",
        "        self.conv2 = conv3x3(out_channels, out_channels)\n",
        "        self.bn2 = nn.BatchNorm2d(out_channels)\n",
        "        self.dropout2 = nn.Dropout(0.1)\n",
        "        \n",
        "        self.downsample = downsample\n",
        "\n",
        "    def forward(self, x):\n",
        "        residual = x\n",
        "\n",
        "        out = self.conv1(x)\n",
        "        out = self.bn1(out)\n",
        "        # out = self.dropout1(out)\n",
        "        out = self.relu(out)\n",
        "        \n",
        "        out = self.conv2(out)\n",
        "        out = self.bn2(out)\n",
        "        # out = self.dropout2(out)\n",
        "        if self.downsample:\n",
        "            residual = self.downsample(x)\n",
        "        out += residual\n",
        "        out = self.relu(out)\n",
        "        \n",
        "        return out\n",
        "\n",
        "# ResNet\n",
        "class ResNet(nn.Module):\n",
        "    def __init__(self, block, layers, num_classes=10):\n",
        "        super(ResNet, self).__init__()\n",
        "        \n",
        "        self.in_channels = 16\n",
        "        \n",
        "        self.conv = conv3x3(in_channels=3, out_channels=16)\n",
        "        self.bn = nn.BatchNorm2d(16)\n",
        "        self.relu = nn.ReLU(inplace=True)\n",
        "\n",
        "        self.layer1 = self.make_layer(block=block, out_channels=16, blocks=layers[0], stride=1)\n",
        "        self.layer2 = self.make_layer(block=block, out_channels=32, blocks=layers[1], stride=2)\n",
        "        self.layer3 = self.make_layer(block=block, out_channels=64, blocks=layers[2], stride=2)\n",
        "        self.layer4 = self.make_layer(block=block, out_channels=128, blocks=layers[3], stride=2)\n",
        "\n",
        "        self.avg_pool = nn.AvgPool2d(4)\n",
        "        # self.fc = nn.Linear(256, num_classes)\n",
        "        self.fc = nn.Linear(128, num_classes)\n",
        "\n",
        "    def make_layer(self, block, out_channels, blocks, stride=1):\n",
        "        downsample = None\n",
        "        if (stride != 1) or (self.in_channels != out_channels):\n",
        "            downsample = nn.Sequential(\n",
        "                conv3x3(self.in_channels, out_channels, stride=stride),\n",
        "                nn.BatchNorm2d(out_channels))\n",
        "        layers = []\n",
        "        layers.append(block(self.in_channels, out_channels, stride, downsample))\n",
        "        self.in_channels = out_channels\n",
        "        for i in range(1, blocks):\n",
        "            layers.append(block(out_channels, out_channels))\n",
        "        return nn.Sequential(*layers)\n",
        "\n",
        "    def forward(self, x):\n",
        "        out = self.conv(x)\n",
        "        out = self.bn(out)\n",
        "        out = self.relu(out)\n",
        "        out = self.layer1(out)\n",
        "        out = self.layer2(out)\n",
        "        out = self.layer3(out)\n",
        "        out = self.layer4(out)\n",
        "        out = self.avg_pool(out)\n",
        "        out = out.view(out.size(0), -1)\n",
        "        out = self.fc(out)\n",
        "        return F.log_softmax(out, dim=-1)\n",
        "\n",
        "def ResNet18():\n",
        "    return ResNet(ResidualBlock, [2, 2, 2, 2])\n",
        "    # return ResNet(ResidualBlock, [2, 2, 2])"
      ]
    },
    {
      "cell_type": "code",
      "execution_count": 14,
      "metadata": {
        "execution": {
          "iopub.execute_input": "2020-09-18T14:06:42.764813Z",
          "iopub.status.busy": "2020-09-18T14:06:42.764098Z",
          "iopub.status.idle": "2020-09-18T14:06:48.527600Z",
          "shell.execute_reply": "2020-09-18T14:06:48.528219Z"
        },
        "papermill": {
          "duration": 5.783641,
          "end_time": "2020-09-18T14:06:48.528379",
          "exception": false,
          "start_time": "2020-09-18T14:06:42.744738",
          "status": "completed"
        },
        "tags": [],
        "colab": {
          "base_uri": "https://localhost:8080/"
        },
        "id": "INT7cGhKKs_k",
        "outputId": "fcf01947-7765-4a08-e297-455aea2c7fde"
      },
      "outputs": [
        {
          "output_type": "stream",
          "name": "stdout",
          "text": [
            "----------------------------------------------------------------\n",
            "        Layer (type)               Output Shape         Param #\n",
            "================================================================\n",
            "            Conv2d-1           [-1, 16, 32, 32]             432\n",
            "       BatchNorm2d-2           [-1, 16, 32, 32]              32\n",
            "              ReLU-3           [-1, 16, 32, 32]               0\n",
            "            Conv2d-4           [-1, 16, 32, 32]           2,304\n",
            "       BatchNorm2d-5           [-1, 16, 32, 32]              32\n",
            "              ReLU-6           [-1, 16, 32, 32]               0\n",
            "            Conv2d-7           [-1, 16, 32, 32]           2,304\n",
            "       BatchNorm2d-8           [-1, 16, 32, 32]              32\n",
            "              ReLU-9           [-1, 16, 32, 32]               0\n",
            "    ResidualBlock-10           [-1, 16, 32, 32]               0\n",
            "           Conv2d-11           [-1, 16, 32, 32]           2,304\n",
            "      BatchNorm2d-12           [-1, 16, 32, 32]              32\n",
            "             ReLU-13           [-1, 16, 32, 32]               0\n",
            "           Conv2d-14           [-1, 16, 32, 32]           2,304\n",
            "      BatchNorm2d-15           [-1, 16, 32, 32]              32\n",
            "             ReLU-16           [-1, 16, 32, 32]               0\n",
            "    ResidualBlock-17           [-1, 16, 32, 32]               0\n",
            "           Conv2d-18           [-1, 32, 16, 16]           4,608\n",
            "      BatchNorm2d-19           [-1, 32, 16, 16]              64\n",
            "             ReLU-20           [-1, 32, 16, 16]               0\n",
            "           Conv2d-21           [-1, 32, 16, 16]           9,216\n",
            "      BatchNorm2d-22           [-1, 32, 16, 16]              64\n",
            "           Conv2d-23           [-1, 32, 16, 16]           4,608\n",
            "      BatchNorm2d-24           [-1, 32, 16, 16]              64\n",
            "             ReLU-25           [-1, 32, 16, 16]               0\n",
            "    ResidualBlock-26           [-1, 32, 16, 16]               0\n",
            "           Conv2d-27           [-1, 32, 16, 16]           9,216\n",
            "      BatchNorm2d-28           [-1, 32, 16, 16]              64\n",
            "             ReLU-29           [-1, 32, 16, 16]               0\n",
            "           Conv2d-30           [-1, 32, 16, 16]           9,216\n",
            "      BatchNorm2d-31           [-1, 32, 16, 16]              64\n",
            "             ReLU-32           [-1, 32, 16, 16]               0\n",
            "    ResidualBlock-33           [-1, 32, 16, 16]               0\n",
            "           Conv2d-34             [-1, 64, 8, 8]          18,432\n",
            "      BatchNorm2d-35             [-1, 64, 8, 8]             128\n",
            "             ReLU-36             [-1, 64, 8, 8]               0\n",
            "           Conv2d-37             [-1, 64, 8, 8]          36,864\n",
            "      BatchNorm2d-38             [-1, 64, 8, 8]             128\n",
            "           Conv2d-39             [-1, 64, 8, 8]          18,432\n",
            "      BatchNorm2d-40             [-1, 64, 8, 8]             128\n",
            "             ReLU-41             [-1, 64, 8, 8]               0\n",
            "    ResidualBlock-42             [-1, 64, 8, 8]               0\n",
            "           Conv2d-43             [-1, 64, 8, 8]          36,864\n",
            "      BatchNorm2d-44             [-1, 64, 8, 8]             128\n",
            "             ReLU-45             [-1, 64, 8, 8]               0\n",
            "           Conv2d-46             [-1, 64, 8, 8]          36,864\n",
            "      BatchNorm2d-47             [-1, 64, 8, 8]             128\n",
            "             ReLU-48             [-1, 64, 8, 8]               0\n",
            "    ResidualBlock-49             [-1, 64, 8, 8]               0\n",
            "           Conv2d-50            [-1, 128, 4, 4]          73,728\n",
            "      BatchNorm2d-51            [-1, 128, 4, 4]             256\n",
            "             ReLU-52            [-1, 128, 4, 4]               0\n",
            "           Conv2d-53            [-1, 128, 4, 4]         147,456\n",
            "      BatchNorm2d-54            [-1, 128, 4, 4]             256\n",
            "           Conv2d-55            [-1, 128, 4, 4]          73,728\n",
            "      BatchNorm2d-56            [-1, 128, 4, 4]             256\n",
            "             ReLU-57            [-1, 128, 4, 4]               0\n",
            "    ResidualBlock-58            [-1, 128, 4, 4]               0\n",
            "           Conv2d-59            [-1, 128, 4, 4]         147,456\n",
            "      BatchNorm2d-60            [-1, 128, 4, 4]             256\n",
            "             ReLU-61            [-1, 128, 4, 4]               0\n",
            "           Conv2d-62            [-1, 128, 4, 4]         147,456\n",
            "      BatchNorm2d-63            [-1, 128, 4, 4]             256\n",
            "             ReLU-64            [-1, 128, 4, 4]               0\n",
            "    ResidualBlock-65            [-1, 128, 4, 4]               0\n",
            "        AvgPool2d-66            [-1, 128, 1, 1]               0\n",
            "           Linear-67                   [-1, 10]           1,290\n",
            "================================================================\n",
            "Total params: 787,482\n",
            "Trainable params: 787,482\n",
            "Non-trainable params: 0\n",
            "----------------------------------------------------------------\n",
            "Input size (MB): 0.01\n",
            "Forward/backward pass size (MB): 3.88\n",
            "Params size (MB): 3.00\n",
            "Estimated Total Size (MB): 6.89\n",
            "----------------------------------------------------------------\n"
          ]
        }
      ],
      "source": [
        "# Importing Model and printing Summary\n",
        "model = ResNet18().to(device)\n",
        "summary(model, input_size=(3,32,32))"
      ]
    },
    {
      "cell_type": "code",
      "execution_count": 15,
      "metadata": {
        "execution": {
          "iopub.execute_input": "2020-09-18T14:06:48.577693Z",
          "iopub.status.busy": "2020-09-18T14:06:48.576994Z",
          "iopub.status.idle": "2020-09-18T14:06:48.581591Z",
          "shell.execute_reply": "2020-09-18T14:06:48.581094Z"
        },
        "papermill": {
          "duration": 0.03332,
          "end_time": "2020-09-18T14:06:48.581710",
          "exception": false,
          "start_time": "2020-09-18T14:06:48.548390",
          "status": "completed"
        },
        "tags": [],
        "id": "-53UyTmsKs_m"
      },
      "outputs": [],
      "source": [
        "from tqdm import tqdm\n",
        "from torch import nn\n",
        "import torch.nn\n",
        "from torch.functional import F\n",
        "import os\n",
        "\n",
        "\n",
        "def model_training(model, device, train_dataloader, optimizer, train_acc, train_losses):\n",
        "            \n",
        "    model.train()\n",
        "    pbar = tqdm(train_dataloader)\n",
        "    correct = 0\n",
        "    processed = 0\n",
        "    running_loss = 0.0\n",
        "\n",
        "    for batch_idx, (data, target) in enumerate(pbar):\n",
        "        data, target = data.to(device), target.to(device)\n",
        "        optimizer.zero_grad()\n",
        "        y_pred = model(data)\n",
        "        loss = F.nll_loss(y_pred, target)\n",
        "        \n",
        "\n",
        "        # train_losses.append(loss.item())\n",
        "        loss.backward()\n",
        "        optimizer.step()\n",
        "\n",
        "        pred = y_pred.argmax(dim=1, keepdim=True)\n",
        "        correct += pred.eq(target.view_as(pred)).sum().item()\n",
        "        processed += len(data)\n",
        "        \n",
        "        # print statistics\n",
        "        \n",
        "        running_loss += loss.item()\n",
        "        pbar.set_description(desc=f'Batch_id={batch_idx} Batch Loss={loss.item()} Running Loss={running_loss} Running Accuracy={100*correct/processed:0.2f}')\n",
        "        # train_acc.append(100*correct/processed)\n",
        "    \n",
        "    train_losses.append(running_loss)\n",
        "    train_acc.append(100*correct/processed)"
      ]
    },
    {
      "cell_type": "code",
      "execution_count": 16,
      "metadata": {
        "execution": {
          "iopub.execute_input": "2020-09-18T14:06:48.629732Z",
          "iopub.status.busy": "2020-09-18T14:06:48.628793Z",
          "iopub.status.idle": "2020-09-18T14:06:48.631384Z",
          "shell.execute_reply": "2020-09-18T14:06:48.631909Z"
        },
        "papermill": {
          "duration": 0.03462,
          "end_time": "2020-09-18T14:06:48.632026",
          "exception": false,
          "start_time": "2020-09-18T14:06:48.597406",
          "status": "completed"
        },
        "tags": [],
        "id": "E4BrK-0EKs_n"
      },
      "outputs": [],
      "source": [
        "import torch\n",
        "import os\n",
        "from torch.functional import F\n",
        "\n",
        "cwd = os.getcwd()\n",
        "\n",
        "def model_testing(model, device, test_dataloader, test_acc, test_losses, misclassified = []):\n",
        "    \n",
        "    model.eval()\n",
        "    test_loss = 0\n",
        "    correct = 0\n",
        "    class_correct = list(0. for i in range(10))\n",
        "    class_total = list(0. for i in range(10))\n",
        "    # label = 0\n",
        "    classes = ('plane', 'car', 'bird', 'cat',\n",
        "           'deer', 'dog', 'frog', 'horse', 'ship', 'truck')\n",
        "    \n",
        "    with torch.no_grad():\n",
        "\n",
        "        for index, (data, target) in enumerate(test_dataloader):\n",
        "            data, target = data.to(device), target.to(device)\n",
        "            output = model(data)\n",
        "            pred = output.argmax(dim=1, keepdim=True)\n",
        "            \n",
        "            for d,i,j in zip(data, pred, target):\n",
        "                if i != j:\n",
        "                    misclassified.append([d.cpu(),i[0].cpu(),j.cpu()])\n",
        "\n",
        "            test_loss += F.nll_loss(output, target, reduction='sum').item()\n",
        "            correct += pred.eq(target.view_as(pred)).sum().item()\n",
        "    test_loss /= len(test_dataloader.dataset)\n",
        "    test_losses.append(test_loss)\n",
        "    \n",
        "    print('\\nTest set: Average loss: {:.4f}, Accuracy: {}/{} ({:.2f}%)\\n'.format(\n",
        "        test_loss, correct, len(test_dataloader.dataset),\n",
        "        100. * correct / len(test_dataloader.dataset)))\n",
        "    \n",
        "    test_acc.append(100. * correct / len(test_dataloader.dataset))\n",
        "    return misclassified, correct / len(test_dataloader.dataset)"
      ]
    },
    {
      "cell_type": "code",
      "source": [
        "def model_evaluation(model, device, loader):\n",
        "    \n",
        "    epoch_loss = 0\n",
        "    epoch_acc = 0\n",
        "    \n",
        "    model.eval()\n",
        "    \n",
        "    with torch.no_grad():\n",
        "        \n",
        "        for (x, y) in loader:\n",
        "\n",
        "            x = x.to(device)\n",
        "            y = y.to(device)\n",
        "\n",
        "            y_pred = model(x)\n",
        "            loss = F.nll_loss(y_pred, y)\n",
        "        \n",
        "            pred = y_pred.argmax(dim=1, keepdim=True)\n",
        "            acc = pred.eq(y.view_as(pred)).sum()\n",
        "\n",
        "            epoch_loss += loss.item()\n",
        "            epoch_acc += acc.item()\n",
        "        \n",
        "    print('\\nValidation set: Average loss: {:.4f}, Accuracy: {}/{} ({:.2f}%)\\n'.format(\n",
        "    epoch_loss / len(loader.dataset), epoch_acc, len(loader.dataset),\n",
        "    100. * epoch_acc / len(loader.dataset)))\n",
        "\n",
        "    return epoch_loss, epoch_acc / len(loader.dataset)"
      ],
      "metadata": {
        "id": "ysDy3WkqUGb-"
      },
      "execution_count": 17,
      "outputs": []
    },
    {
      "cell_type": "code",
      "source": [
        "# Defining parameters\n",
        "\n",
        "criterion = nn.CrossEntropyLoss()\n",
        "\n",
        "# optimizer = optim.SGD(model.parameters(), lr=0.05, momentum=0.9)\n",
        "optimizer = optim.SGD(model.parameters(), lr=0.01, momentum=0.9)\n",
        "\n",
        "scheduler = ReduceLROnPlateau(optimizer, mode='min', factor=0.1, patience=2, threshold=0.0001, threshold_mode='rel', cooldown=0, min_lr=0, eps=1e-08, verbose=True)\n",
        "# scheduler = ReduceLROnPlateau(optimizer, mode='min', factor=0.1, patience=2, threshold=0.001, threshold_mode='rel', cooldown=0, min_lr=0, eps=1e-08, verbose=True)\n",
        "# scheduler = StepLR(optimizer, step_size=15, gamma=0.1)"
      ],
      "metadata": {
        "id": "L7LSCkvhAdb0"
      },
      "execution_count": 18,
      "outputs": []
    },
    {
      "cell_type": "code",
      "execution_count": 20,
      "metadata": {
        "execution": {
          "iopub.execute_input": "2020-09-18T14:06:48.676683Z",
          "iopub.status.busy": "2020-09-18T14:06:48.675972Z",
          "iopub.status.idle": "2020-09-18T14:33:04.548416Z",
          "shell.execute_reply": "2020-09-18T14:33:04.549364Z"
        },
        "papermill": {
          "duration": 1575.900797,
          "end_time": "2020-09-18T14:33:04.549700",
          "exception": false,
          "start_time": "2020-09-18T14:06:48.648903",
          "status": "completed"
        },
        "tags": [],
        "colab": {
          "base_uri": "https://localhost:8080/"
        },
        "id": "rtrFA-RCKs_o",
        "outputId": "9a4603e6-5fbd-4653-d0d4-86a9baf452a5"
      },
      "outputs": [
        {
          "output_type": "stream",
          "name": "stdout",
          "text": [
            "EPOCHS : 0\n"
          ]
        },
        {
          "output_type": "stream",
          "name": "stderr",
          "text": [
            "Batch_id=87 Batch Loss=0.1456586718559265 Running Loss=13.194626033306122 Running Accuracy=94.69: 100%|██████████| 88/88 [00:30<00:00,  2.88it/s]\n"
          ]
        },
        {
          "output_type": "stream",
          "name": "stdout",
          "text": [
            "\n",
            "Validation set: Average loss: 0.0010, Accuracy: 4277/5000 (85.54%)\n",
            "\n",
            "\n",
            "Test set: Average loss: 0.5320, Accuracy: 8525/10000 (85.25%)\n",
            "\n",
            "EPOCHS : 1\n"
          ]
        },
        {
          "output_type": "stream",
          "name": "stderr",
          "text": [
            "Batch_id=87 Batch Loss=0.16701123118400574 Running Loss=13.170863822102547 Running Accuracy=94.65: 100%|██████████| 88/88 [00:29<00:00,  2.97it/s]\n"
          ]
        },
        {
          "output_type": "stream",
          "name": "stdout",
          "text": [
            "\n",
            "Validation set: Average loss: 0.0010, Accuracy: 4286/5000 (85.72%)\n",
            "\n",
            "\n",
            "Test set: Average loss: 0.5374, Accuracy: 8563/10000 (85.63%)\n",
            "\n",
            "EPOCHS : 2\n"
          ]
        },
        {
          "output_type": "stream",
          "name": "stderr",
          "text": [
            "Batch_id=87 Batch Loss=0.15183120965957642 Running Loss=12.855501629412174 Running Accuracy=94.81: 100%|██████████| 88/88 [00:30<00:00,  2.89it/s]\n"
          ]
        },
        {
          "output_type": "stream",
          "name": "stdout",
          "text": [
            "\n",
            "Validation set: Average loss: 0.0011, Accuracy: 4243/5000 (84.86%)\n",
            "\n",
            "\n",
            "Test set: Average loss: 0.6041, Accuracy: 8418/10000 (84.18%)\n",
            "\n",
            "EPOCHS : 3\n"
          ]
        },
        {
          "output_type": "stream",
          "name": "stderr",
          "text": [
            "Batch_id=87 Batch Loss=0.11908059567213058 Running Loss=12.766556188464165 Running Accuracy=94.88: 100%|██████████| 88/88 [00:30<00:00,  2.90it/s]\n"
          ]
        },
        {
          "output_type": "stream",
          "name": "stdout",
          "text": [
            "\n",
            "Validation set: Average loss: 0.0010, Accuracy: 4276/5000 (85.52%)\n",
            "\n",
            "\n",
            "Test set: Average loss: 0.5411, Accuracy: 8482/10000 (84.82%)\n",
            "\n",
            "EPOCHS : 4\n"
          ]
        },
        {
          "output_type": "stream",
          "name": "stderr",
          "text": [
            "Batch_id=87 Batch Loss=0.11770614236593246 Running Loss=12.968167744576931 Running Accuracy=94.76: 100%|██████████| 88/88 [00:29<00:00,  3.03it/s]\n"
          ]
        },
        {
          "output_type": "stream",
          "name": "stdout",
          "text": [
            "\n",
            "Validation set: Average loss: 0.0014, Accuracy: 4098/5000 (81.96%)\n",
            "\n",
            "\n",
            "Test set: Average loss: 0.7096, Accuracy: 8159/10000 (81.59%)\n",
            "\n",
            "EPOCHS : 5\n"
          ]
        },
        {
          "output_type": "stream",
          "name": "stderr",
          "text": [
            "Batch_id=87 Batch Loss=0.18253843486309052 Running Loss=12.476010173559189 Running Accuracy=94.92: 100%|██████████| 88/88 [00:29<00:00,  2.93it/s]\n"
          ]
        },
        {
          "output_type": "stream",
          "name": "stdout",
          "text": [
            "\n",
            "Validation set: Average loss: 0.0013, Accuracy: 4182/5000 (83.64%)\n",
            "\n",
            "\n",
            "Test set: Average loss: 0.6496, Accuracy: 8343/10000 (83.43%)\n",
            "\n",
            "EPOCHS : 6\n"
          ]
        },
        {
          "output_type": "stream",
          "name": "stderr",
          "text": [
            "Batch_id=87 Batch Loss=0.19172298908233643 Running Loss=12.504250973463058 Running Accuracy=94.99: 100%|██████████| 88/88 [00:29<00:00,  3.02it/s]\n"
          ]
        },
        {
          "output_type": "stream",
          "name": "stdout",
          "text": [
            "\n",
            "Validation set: Average loss: 0.0012, Accuracy: 4176/5000 (83.52%)\n",
            "\n",
            "\n",
            "Test set: Average loss: 0.6551, Accuracy: 8328/10000 (83.28%)\n",
            "\n",
            "EPOCHS : 7\n"
          ]
        },
        {
          "output_type": "stream",
          "name": "stderr",
          "text": [
            "Batch_id=87 Batch Loss=0.12385955452919006 Running Loss=12.355653710663319 Running Accuracy=95.06: 100%|██████████| 88/88 [00:30<00:00,  2.93it/s]\n"
          ]
        },
        {
          "output_type": "stream",
          "name": "stdout",
          "text": [
            "\n",
            "Validation set: Average loss: 0.0011, Accuracy: 4254/5000 (85.08%)\n",
            "\n",
            "\n",
            "Test set: Average loss: 0.6028, Accuracy: 8414/10000 (84.14%)\n",
            "\n",
            "EPOCHS : 8\n"
          ]
        },
        {
          "output_type": "stream",
          "name": "stderr",
          "text": [
            "Batch_id=87 Batch Loss=0.11368677765130997 Running Loss=12.028311111032963 Running Accuracy=95.18: 100%|██████████| 88/88 [00:30<00:00,  2.90it/s]\n"
          ]
        },
        {
          "output_type": "stream",
          "name": "stdout",
          "text": [
            "\n",
            "Validation set: Average loss: 0.0010, Accuracy: 4319/5000 (86.38%)\n",
            "\n",
            "\n",
            "Test set: Average loss: 0.5360, Accuracy: 8542/10000 (85.42%)\n",
            "\n",
            "EPOCHS : 9\n"
          ]
        },
        {
          "output_type": "stream",
          "name": "stderr",
          "text": [
            "Batch_id=87 Batch Loss=0.14227330684661865 Running Loss=11.702012650668621 Running Accuracy=95.32: 100%|██████████| 88/88 [00:29<00:00,  3.02it/s]\n"
          ]
        },
        {
          "output_type": "stream",
          "name": "stdout",
          "text": [
            "\n",
            "Validation set: Average loss: 0.0010, Accuracy: 4337/5000 (86.74%)\n",
            "\n",
            "\n",
            "Test set: Average loss: 0.5299, Accuracy: 8563/10000 (85.63%)\n",
            "\n",
            "EPOCHS : 10\n"
          ]
        },
        {
          "output_type": "stream",
          "name": "stderr",
          "text": [
            "Batch_id=87 Batch Loss=0.1535143107175827 Running Loss=11.92087197303772 Running Accuracy=95.27: 100%|██████████| 88/88 [00:29<00:00,  2.94it/s]\n"
          ]
        },
        {
          "output_type": "stream",
          "name": "stdout",
          "text": [
            "\n",
            "Validation set: Average loss: 0.0011, Accuracy: 4237/5000 (84.74%)\n",
            "\n",
            "\n",
            "Test set: Average loss: 0.5908, Accuracy: 8430/10000 (84.30%)\n",
            "\n",
            "EPOCHS : 11\n"
          ]
        },
        {
          "output_type": "stream",
          "name": "stderr",
          "text": [
            "Batch_id=87 Batch Loss=0.17086106538772583 Running Loss=11.483164362609386 Running Accuracy=95.38: 100%|██████████| 88/88 [00:29<00:00,  3.01it/s]\n"
          ]
        },
        {
          "output_type": "stream",
          "name": "stdout",
          "text": [
            "\n",
            "Validation set: Average loss: 0.0009, Accuracy: 4334/5000 (86.68%)\n",
            "\n",
            "\n",
            "Test set: Average loss: 0.5157, Accuracy: 8603/10000 (86.03%)\n",
            "\n",
            "EPOCHS : 12\n"
          ]
        },
        {
          "output_type": "stream",
          "name": "stderr",
          "text": [
            "Batch_id=87 Batch Loss=0.21231666207313538 Running Loss=11.571266524493694 Running Accuracy=95.36: 100%|██████████| 88/88 [00:29<00:00,  2.95it/s]\n"
          ]
        },
        {
          "output_type": "stream",
          "name": "stdout",
          "text": [
            "\n",
            "Validation set: Average loss: 0.0011, Accuracy: 4259/5000 (85.18%)\n",
            "\n",
            "\n",
            "Test set: Average loss: 0.5876, Accuracy: 8448/10000 (84.48%)\n",
            "\n",
            "EPOCHS : 13\n"
          ]
        },
        {
          "output_type": "stream",
          "name": "stderr",
          "text": [
            "Batch_id=87 Batch Loss=0.1521703153848648 Running Loss=11.402125410735607 Running Accuracy=95.43: 100%|██████████| 88/88 [00:30<00:00,  2.93it/s]\n"
          ]
        },
        {
          "output_type": "stream",
          "name": "stdout",
          "text": [
            "\n",
            "Validation set: Average loss: 0.0011, Accuracy: 4289/5000 (85.78%)\n",
            "\n",
            "\n",
            "Test set: Average loss: 0.5681, Accuracy: 8522/10000 (85.22%)\n",
            "\n",
            "EPOCHS : 14\n"
          ]
        },
        {
          "output_type": "stream",
          "name": "stderr",
          "text": [
            "Batch_id=87 Batch Loss=0.13510099053382874 Running Loss=10.864231631159782 Running Accuracy=95.66: 100%|██████████| 88/88 [00:28<00:00,  3.05it/s]\n"
          ]
        },
        {
          "output_type": "stream",
          "name": "stdout",
          "text": [
            "\n",
            "Validation set: Average loss: 0.0011, Accuracy: 4301/5000 (86.02%)\n",
            "\n",
            "\n",
            "Test set: Average loss: 0.5514, Accuracy: 8568/10000 (85.68%)\n",
            "\n",
            "EPOCHS : 15\n"
          ]
        },
        {
          "output_type": "stream",
          "name": "stderr",
          "text": [
            "Batch_id=87 Batch Loss=0.16545256972312927 Running Loss=11.010235361754894 Running Accuracy=95.61: 100%|██████████| 88/88 [00:29<00:00,  2.94it/s]\n"
          ]
        },
        {
          "output_type": "stream",
          "name": "stdout",
          "text": [
            "\n",
            "Validation set: Average loss: 0.0010, Accuracy: 4270/5000 (85.40%)\n",
            "\n",
            "\n",
            "Test set: Average loss: 0.5691, Accuracy: 8504/10000 (85.04%)\n",
            "\n",
            "EPOCHS : 16\n"
          ]
        },
        {
          "output_type": "stream",
          "name": "stderr",
          "text": [
            "Batch_id=87 Batch Loss=0.12988147139549255 Running Loss=10.74097304791212 Running Accuracy=95.61: 100%|██████████| 88/88 [00:29<00:00,  3.03it/s]\n"
          ]
        },
        {
          "output_type": "stream",
          "name": "stdout",
          "text": [
            "\n",
            "Validation set: Average loss: 0.0010, Accuracy: 4289/5000 (85.78%)\n",
            "\n",
            "\n",
            "Test set: Average loss: 0.5784, Accuracy: 8496/10000 (84.96%)\n",
            "\n",
            "EPOCHS : 17\n"
          ]
        },
        {
          "output_type": "stream",
          "name": "stderr",
          "text": [
            "Batch_id=87 Batch Loss=0.11718772351741791 Running Loss=10.70319639146328 Running Accuracy=95.68: 100%|██████████| 88/88 [00:29<00:00,  3.02it/s]\n"
          ]
        },
        {
          "output_type": "stream",
          "name": "stdout",
          "text": [
            "\n",
            "Validation set: Average loss: 0.0010, Accuracy: 4290/5000 (85.80%)\n",
            "\n",
            "\n",
            "Test set: Average loss: 0.5537, Accuracy: 8571/10000 (85.71%)\n",
            "\n",
            "EPOCHS : 18\n"
          ]
        },
        {
          "output_type": "stream",
          "name": "stderr",
          "text": [
            "Batch_id=87 Batch Loss=0.1461208015680313 Running Loss=10.080404549837112 Running Accuracy=95.99: 100%|██████████| 88/88 [00:30<00:00,  2.93it/s]\n"
          ]
        },
        {
          "output_type": "stream",
          "name": "stdout",
          "text": [
            "\n",
            "Validation set: Average loss: 0.0010, Accuracy: 4330/5000 (86.60%)\n",
            "\n",
            "\n",
            "Test set: Average loss: 0.5572, Accuracy: 8553/10000 (85.53%)\n",
            "\n",
            "EPOCHS : 19\n"
          ]
        },
        {
          "output_type": "stream",
          "name": "stderr",
          "text": [
            "Batch_id=87 Batch Loss=0.09831790626049042 Running Loss=10.346077032387257 Running Accuracy=95.84: 100%|██████████| 88/88 [00:28<00:00,  3.06it/s]\n"
          ]
        },
        {
          "output_type": "stream",
          "name": "stdout",
          "text": [
            "\n",
            "Validation set: Average loss: 0.0011, Accuracy: 4290/5000 (85.80%)\n",
            "\n",
            "\n",
            "Test set: Average loss: 0.5821, Accuracy: 8511/10000 (85.11%)\n",
            "\n",
            "EPOCHS : 20\n"
          ]
        },
        {
          "output_type": "stream",
          "name": "stderr",
          "text": [
            "Batch_id=87 Batch Loss=0.10453089326620102 Running Loss=10.400889210402966 Running Accuracy=95.79: 100%|██████████| 88/88 [00:29<00:00,  2.98it/s]\n"
          ]
        },
        {
          "output_type": "stream",
          "name": "stdout",
          "text": [
            "\n",
            "Validation set: Average loss: 0.0010, Accuracy: 4314/5000 (86.28%)\n",
            "\n",
            "\n",
            "Test set: Average loss: 0.5545, Accuracy: 8595/10000 (85.95%)\n",
            "\n",
            "EPOCHS : 21\n"
          ]
        },
        {
          "output_type": "stream",
          "name": "stderr",
          "text": [
            "Batch_id=87 Batch Loss=0.1322549432516098 Running Loss=10.574814535677433 Running Accuracy=95.61: 100%|██████████| 88/88 [00:28<00:00,  3.07it/s]\n"
          ]
        },
        {
          "output_type": "stream",
          "name": "stdout",
          "text": [
            "\n",
            "Validation set: Average loss: 0.0011, Accuracy: 4232/5000 (84.64%)\n",
            "\n",
            "Epoch 00102: reducing learning rate of group 0 to 1.0000e-03.\n",
            "\n",
            "Test set: Average loss: 0.6226, Accuracy: 8403/10000 (84.03%)\n",
            "\n",
            "EPOCHS : 22\n"
          ]
        },
        {
          "output_type": "stream",
          "name": "stderr",
          "text": [
            "Batch_id=87 Batch Loss=0.08022379130125046 Running Loss=8.160442110151052 Running Accuracy=96.78: 100%|██████████| 88/88 [00:30<00:00,  2.90it/s]\n"
          ]
        },
        {
          "output_type": "stream",
          "name": "stdout",
          "text": [
            "\n",
            "Validation set: Average loss: 0.0009, Accuracy: 4389/5000 (87.78%)\n",
            "\n",
            "\n",
            "Test set: Average loss: 0.4835, Accuracy: 8706/10000 (87.06%)\n",
            "\n",
            "EPOCHS : 23\n"
          ]
        },
        {
          "output_type": "stream",
          "name": "stderr",
          "text": [
            "Batch_id=87 Batch Loss=0.09377703070640564 Running Loss=6.976279515773058 Running Accuracy=97.30: 100%|██████████| 88/88 [00:29<00:00,  2.94it/s]\n"
          ]
        },
        {
          "output_type": "stream",
          "name": "stdout",
          "text": [
            "\n",
            "Validation set: Average loss: 0.0009, Accuracy: 4399/5000 (87.98%)\n",
            "\n",
            "\n",
            "Test set: Average loss: 0.4834, Accuracy: 8715/10000 (87.15%)\n",
            "\n",
            "EPOCHS : 24\n"
          ]
        },
        {
          "output_type": "stream",
          "name": "stderr",
          "text": [
            "Batch_id=87 Batch Loss=0.0934038981795311 Running Loss=6.508459564298391 Running Accuracy=97.53: 100%|██████████| 88/88 [00:28<00:00,  3.08it/s]\n"
          ]
        },
        {
          "output_type": "stream",
          "name": "stdout",
          "text": [
            "\n",
            "Validation set: Average loss: 0.0009, Accuracy: 4411/5000 (88.22%)\n",
            "\n",
            "\n",
            "Test set: Average loss: 0.4824, Accuracy: 8728/10000 (87.28%)\n",
            "\n",
            "EPOCHS : 25\n"
          ]
        },
        {
          "output_type": "stream",
          "name": "stderr",
          "text": [
            "Batch_id=87 Batch Loss=0.07485990971326828 Running Loss=6.04611586406827 Running Accuracy=97.81: 100%|██████████| 88/88 [00:30<00:00,  2.93it/s]\n"
          ]
        },
        {
          "output_type": "stream",
          "name": "stdout",
          "text": [
            "\n",
            "Validation set: Average loss: 0.0009, Accuracy: 4406/5000 (88.12%)\n",
            "\n",
            "\n",
            "Test set: Average loss: 0.4832, Accuracy: 8723/10000 (87.23%)\n",
            "\n",
            "EPOCHS : 26\n"
          ]
        },
        {
          "output_type": "stream",
          "name": "stderr",
          "text": [
            "Batch_id=87 Batch Loss=0.0760100781917572 Running Loss=5.812205389142036 Running Accuracy=97.80: 100%|██████████| 88/88 [00:28<00:00,  3.08it/s]\n"
          ]
        },
        {
          "output_type": "stream",
          "name": "stdout",
          "text": [
            "\n",
            "Validation set: Average loss: 0.0009, Accuracy: 4412/5000 (88.24%)\n",
            "\n",
            "\n",
            "Test set: Average loss: 0.4811, Accuracy: 8724/10000 (87.24%)\n",
            "\n",
            "EPOCHS : 27\n"
          ]
        },
        {
          "output_type": "stream",
          "name": "stderr",
          "text": [
            "Batch_id=87 Batch Loss=0.05904500186443329 Running Loss=5.753953330218792 Running Accuracy=97.90: 100%|██████████| 88/88 [00:29<00:00,  2.97it/s]\n"
          ]
        },
        {
          "output_type": "stream",
          "name": "stdout",
          "text": [
            "\n",
            "Validation set: Average loss: 0.0009, Accuracy: 4401/5000 (88.02%)\n",
            "\n",
            "\n",
            "Test set: Average loss: 0.4820, Accuracy: 8756/10000 (87.56%)\n",
            "\n",
            "EPOCHS : 28\n"
          ]
        },
        {
          "output_type": "stream",
          "name": "stderr",
          "text": [
            "Batch_id=87 Batch Loss=0.058371175080537796 Running Loss=5.796326868236065 Running Accuracy=97.85: 100%|██████████| 88/88 [00:29<00:00,  2.94it/s]\n"
          ]
        },
        {
          "output_type": "stream",
          "name": "stdout",
          "text": [
            "\n",
            "Validation set: Average loss: 0.0009, Accuracy: 4403/5000 (88.06%)\n",
            "\n",
            "\n",
            "Test set: Average loss: 0.4837, Accuracy: 8727/10000 (87.27%)\n",
            "\n",
            "EPOCHS : 29\n"
          ]
        },
        {
          "output_type": "stream",
          "name": "stderr",
          "text": [
            "Batch_id=87 Batch Loss=0.054133545607328415 Running Loss=5.513708885759115 Running Accuracy=98.02: 100%|██████████| 88/88 [00:28<00:00,  3.07it/s]\n"
          ]
        },
        {
          "output_type": "stream",
          "name": "stdout",
          "text": [
            "\n",
            "Validation set: Average loss: 0.0009, Accuracy: 4411/5000 (88.22%)\n",
            "\n",
            "\n",
            "Test set: Average loss: 0.4802, Accuracy: 8745/10000 (87.45%)\n",
            "\n",
            "EPOCHS : 30\n"
          ]
        },
        {
          "output_type": "stream",
          "name": "stderr",
          "text": [
            "Batch_id=87 Batch Loss=0.05788879469037056 Running Loss=5.598317075520754 Running Accuracy=97.96: 100%|██████████| 88/88 [00:29<00:00,  2.94it/s]\n"
          ]
        },
        {
          "output_type": "stream",
          "name": "stdout",
          "text": [
            "\n",
            "Validation set: Average loss: 0.0009, Accuracy: 4403/5000 (88.06%)\n",
            "\n",
            "\n",
            "Test set: Average loss: 0.4798, Accuracy: 8737/10000 (87.37%)\n",
            "\n",
            "EPOCHS : 31\n"
          ]
        },
        {
          "output_type": "stream",
          "name": "stderr",
          "text": [
            "Batch_id=87 Batch Loss=0.06956090033054352 Running Loss=5.238508429378271 Running Accuracy=98.09: 100%|██████████| 88/88 [00:28<00:00,  3.07it/s]\n"
          ]
        },
        {
          "output_type": "stream",
          "name": "stdout",
          "text": [
            "\n",
            "Validation set: Average loss: 0.0009, Accuracy: 4409/5000 (88.18%)\n",
            "\n",
            "\n",
            "Test set: Average loss: 0.4874, Accuracy: 8726/10000 (87.26%)\n",
            "\n",
            "EPOCHS : 32\n"
          ]
        },
        {
          "output_type": "stream",
          "name": "stderr",
          "text": [
            "Batch_id=87 Batch Loss=0.05659245699644089 Running Loss=5.448667578399181 Running Accuracy=97.96: 100%|██████████| 88/88 [00:29<00:00,  2.96it/s]\n"
          ]
        },
        {
          "output_type": "stream",
          "name": "stdout",
          "text": [
            "\n",
            "Validation set: Average loss: 0.0009, Accuracy: 4410/5000 (88.20%)\n",
            "\n",
            "\n",
            "Test set: Average loss: 0.4827, Accuracy: 8734/10000 (87.34%)\n",
            "\n",
            "EPOCHS : 33\n"
          ]
        },
        {
          "output_type": "stream",
          "name": "stderr",
          "text": [
            "Batch_id=87 Batch Loss=0.05602163076400757 Running Loss=5.277836631983519 Running Accuracy=98.14: 100%|██████████| 88/88 [00:28<00:00,  3.06it/s]\n"
          ]
        },
        {
          "output_type": "stream",
          "name": "stdout",
          "text": [
            "\n",
            "Validation set: Average loss: 0.0009, Accuracy: 4393/5000 (87.86%)\n",
            "\n",
            "\n",
            "Test set: Average loss: 0.4869, Accuracy: 8726/10000 (87.26%)\n",
            "\n",
            "EPOCHS : 34\n"
          ]
        },
        {
          "output_type": "stream",
          "name": "stderr",
          "text": [
            "Batch_id=87 Batch Loss=0.05867743864655495 Running Loss=5.175932697951794 Running Accuracy=98.14: 100%|██████████| 88/88 [00:28<00:00,  3.06it/s]\n"
          ]
        },
        {
          "output_type": "stream",
          "name": "stdout",
          "text": [
            "\n",
            "Validation set: Average loss: 0.0009, Accuracy: 4403/5000 (88.06%)\n",
            "\n",
            "\n",
            "Test set: Average loss: 0.4832, Accuracy: 8711/10000 (87.11%)\n",
            "\n",
            "EPOCHS : 35\n"
          ]
        },
        {
          "output_type": "stream",
          "name": "stderr",
          "text": [
            "Batch_id=87 Batch Loss=0.05063193291425705 Running Loss=5.1221112832427025 Running Accuracy=98.14: 100%|██████████| 88/88 [00:29<00:00,  2.95it/s]\n"
          ]
        },
        {
          "output_type": "stream",
          "name": "stdout",
          "text": [
            "\n",
            "Validation set: Average loss: 0.0009, Accuracy: 4408/5000 (88.16%)\n",
            "\n",
            "\n",
            "Test set: Average loss: 0.4867, Accuracy: 8710/10000 (87.10%)\n",
            "\n",
            "EPOCHS : 36\n"
          ]
        },
        {
          "output_type": "stream",
          "name": "stderr",
          "text": [
            "Batch_id=87 Batch Loss=0.058220669627189636 Running Loss=5.100981691852212 Running Accuracy=98.20: 100%|██████████| 88/88 [00:28<00:00,  3.07it/s]\n"
          ]
        },
        {
          "output_type": "stream",
          "name": "stdout",
          "text": [
            "\n",
            "Validation set: Average loss: 0.0009, Accuracy: 4416/5000 (88.32%)\n",
            "\n",
            "\n",
            "Test set: Average loss: 0.4854, Accuracy: 8734/10000 (87.34%)\n",
            "\n",
            "EPOCHS : 37\n"
          ]
        },
        {
          "output_type": "stream",
          "name": "stderr",
          "text": [
            "Batch_id=87 Batch Loss=0.06962685286998749 Running Loss=4.927091386169195 Running Accuracy=98.19: 100%|██████████| 88/88 [00:29<00:00,  2.96it/s]\n"
          ]
        },
        {
          "output_type": "stream",
          "name": "stdout",
          "text": [
            "\n",
            "Validation set: Average loss: 0.0009, Accuracy: 4414/5000 (88.28%)\n",
            "\n",
            "\n",
            "Test set: Average loss: 0.4874, Accuracy: 8718/10000 (87.18%)\n",
            "\n",
            "EPOCHS : 38\n"
          ]
        },
        {
          "output_type": "stream",
          "name": "stderr",
          "text": [
            "Batch_id=87 Batch Loss=0.06992772221565247 Running Loss=4.874527178704739 Running Accuracy=98.21: 100%|██████████| 88/88 [00:28<00:00,  3.06it/s]\n"
          ]
        },
        {
          "output_type": "stream",
          "name": "stdout",
          "text": [
            "\n",
            "Validation set: Average loss: 0.0009, Accuracy: 4411/5000 (88.22%)\n",
            "\n",
            "\n",
            "Test set: Average loss: 0.4858, Accuracy: 8741/10000 (87.41%)\n",
            "\n",
            "EPOCHS : 39\n"
          ]
        },
        {
          "output_type": "stream",
          "name": "stderr",
          "text": [
            "Batch_id=87 Batch Loss=0.06593944877386093 Running Loss=5.015618050470948 Running Accuracy=98.16: 100%|██████████| 88/88 [00:29<00:00,  2.94it/s]\n"
          ]
        },
        {
          "output_type": "stream",
          "name": "stdout",
          "text": [
            "\n",
            "Validation set: Average loss: 0.0009, Accuracy: 4414/5000 (88.28%)\n",
            "\n",
            "\n",
            "Test set: Average loss: 0.4886, Accuracy: 8722/10000 (87.22%)\n",
            "\n",
            "EPOCHS : 40\n"
          ]
        },
        {
          "output_type": "stream",
          "name": "stderr",
          "text": [
            "Batch_id=87 Batch Loss=0.04744870215654373 Running Loss=4.9182913564145565 Running Accuracy=98.22: 100%|██████████| 88/88 [00:30<00:00,  2.89it/s]\n"
          ]
        },
        {
          "output_type": "stream",
          "name": "stdout",
          "text": [
            "\n",
            "Validation set: Average loss: 0.0009, Accuracy: 4411/5000 (88.22%)\n",
            "\n",
            "\n",
            "Test set: Average loss: 0.4891, Accuracy: 8730/10000 (87.30%)\n",
            "\n",
            "EPOCHS : 41\n"
          ]
        },
        {
          "output_type": "stream",
          "name": "stderr",
          "text": [
            "Batch_id=87 Batch Loss=0.05105290934443474 Running Loss=4.778773061931133 Running Accuracy=98.32: 100%|██████████| 88/88 [00:28<00:00,  3.05it/s]\n"
          ]
        },
        {
          "output_type": "stream",
          "name": "stdout",
          "text": [
            "\n",
            "Validation set: Average loss: 0.0009, Accuracy: 4417/5000 (88.34%)\n",
            "\n",
            "\n",
            "Test set: Average loss: 0.4931, Accuracy: 8716/10000 (87.16%)\n",
            "\n",
            "EPOCHS : 42\n"
          ]
        },
        {
          "output_type": "stream",
          "name": "stderr",
          "text": [
            "Batch_id=87 Batch Loss=0.041584521532058716 Running Loss=4.792840983718634 Running Accuracy=98.27: 100%|██████████| 88/88 [00:30<00:00,  2.93it/s]\n"
          ]
        },
        {
          "output_type": "stream",
          "name": "stdout",
          "text": [
            "\n",
            "Validation set: Average loss: 0.0009, Accuracy: 4400/5000 (88.00%)\n",
            "\n",
            "\n",
            "Test set: Average loss: 0.4913, Accuracy: 8711/10000 (87.11%)\n",
            "\n",
            "EPOCHS : 43\n"
          ]
        },
        {
          "output_type": "stream",
          "name": "stderr",
          "text": [
            "Batch_id=87 Batch Loss=0.04692690819501877 Running Loss=4.6645165756344795 Running Accuracy=98.37: 100%|██████████| 88/88 [00:29<00:00,  3.03it/s]\n"
          ]
        },
        {
          "output_type": "stream",
          "name": "stdout",
          "text": [
            "\n",
            "Validation set: Average loss: 0.0009, Accuracy: 4410/5000 (88.20%)\n",
            "\n",
            "\n",
            "Test set: Average loss: 0.4917, Accuracy: 8737/10000 (87.37%)\n",
            "\n",
            "EPOCHS : 44\n"
          ]
        },
        {
          "output_type": "stream",
          "name": "stderr",
          "text": [
            "Batch_id=87 Batch Loss=0.053816523402929306 Running Loss=4.760089902207255 Running Accuracy=98.26: 100%|██████████| 88/88 [00:29<00:00,  2.94it/s]\n"
          ]
        },
        {
          "output_type": "stream",
          "name": "stdout",
          "text": [
            "\n",
            "Validation set: Average loss: 0.0009, Accuracy: 4413/5000 (88.26%)\n",
            "\n",
            "\n",
            "Test set: Average loss: 0.4916, Accuracy: 8724/10000 (87.24%)\n",
            "\n",
            "EPOCHS : 45\n"
          ]
        },
        {
          "output_type": "stream",
          "name": "stderr",
          "text": [
            "Batch_id=87 Batch Loss=0.041248492896556854 Running Loss=4.787769451737404 Running Accuracy=98.26: 100%|██████████| 88/88 [00:28<00:00,  3.05it/s]\n"
          ]
        },
        {
          "output_type": "stream",
          "name": "stdout",
          "text": [
            "\n",
            "Validation set: Average loss: 0.0009, Accuracy: 4398/5000 (87.96%)\n",
            "\n",
            "\n",
            "Test set: Average loss: 0.4939, Accuracy: 8716/10000 (87.16%)\n",
            "\n",
            "EPOCHS : 46\n"
          ]
        },
        {
          "output_type": "stream",
          "name": "stderr",
          "text": [
            "Batch_id=87 Batch Loss=0.03846519812941551 Running Loss=4.625974604859948 Running Accuracy=98.34: 100%|██████████| 88/88 [00:29<00:00,  3.03it/s]\n"
          ]
        },
        {
          "output_type": "stream",
          "name": "stdout",
          "text": [
            "\n",
            "Validation set: Average loss: 0.0009, Accuracy: 4404/5000 (88.08%)\n",
            "\n",
            "\n",
            "Test set: Average loss: 0.4942, Accuracy: 8729/10000 (87.29%)\n",
            "\n",
            "EPOCHS : 47\n"
          ]
        },
        {
          "output_type": "stream",
          "name": "stderr",
          "text": [
            "Batch_id=87 Batch Loss=0.050664812326431274 Running Loss=4.68991307541728 Running Accuracy=98.24: 100%|██████████| 88/88 [00:30<00:00,  2.92it/s]\n"
          ]
        },
        {
          "output_type": "stream",
          "name": "stdout",
          "text": [
            "\n",
            "Validation set: Average loss: 0.0009, Accuracy: 4410/5000 (88.20%)\n",
            "\n",
            "\n",
            "Test set: Average loss: 0.4952, Accuracy: 8739/10000 (87.39%)\n",
            "\n",
            "EPOCHS : 48\n"
          ]
        },
        {
          "output_type": "stream",
          "name": "stderr",
          "text": [
            "Batch_id=87 Batch Loss=0.04266425594687462 Running Loss=4.544043453410268 Running Accuracy=98.41: 100%|██████████| 88/88 [00:29<00:00,  2.99it/s]\n"
          ]
        },
        {
          "output_type": "stream",
          "name": "stdout",
          "text": [
            "\n",
            "Validation set: Average loss: 0.0009, Accuracy: 4406/5000 (88.12%)\n",
            "\n",
            "\n",
            "Test set: Average loss: 0.4934, Accuracy: 8741/10000 (87.41%)\n",
            "\n",
            "EPOCHS : 49\n"
          ]
        },
        {
          "output_type": "stream",
          "name": "stderr",
          "text": [
            "Batch_id=87 Batch Loss=0.04810665547847748 Running Loss=4.480180302634835 Running Accuracy=98.40: 100%|██████████| 88/88 [00:30<00:00,  2.91it/s]\n"
          ]
        },
        {
          "output_type": "stream",
          "name": "stdout",
          "text": [
            "\n",
            "Validation set: Average loss: 0.0009, Accuracy: 4407/5000 (88.14%)\n",
            "\n",
            "\n",
            "Test set: Average loss: 0.4936, Accuracy: 8739/10000 (87.39%)\n",
            "\n",
            "EPOCHS : 50\n"
          ]
        },
        {
          "output_type": "stream",
          "name": "stderr",
          "text": [
            "Batch_id=87 Batch Loss=0.04393419995903969 Running Loss=4.728885982185602 Running Accuracy=98.25: 100%|██████████| 88/88 [00:28<00:00,  3.04it/s]\n"
          ]
        },
        {
          "output_type": "stream",
          "name": "stdout",
          "text": [
            "\n",
            "Validation set: Average loss: 0.0009, Accuracy: 4411/5000 (88.22%)\n",
            "\n",
            "\n",
            "Test set: Average loss: 0.4947, Accuracy: 8737/10000 (87.37%)\n",
            "\n",
            "EPOCHS : 51\n"
          ]
        },
        {
          "output_type": "stream",
          "name": "stderr",
          "text": [
            "Batch_id=87 Batch Loss=0.04635738208889961 Running Loss=4.5760620050132275 Running Accuracy=98.36: 100%|██████████| 88/88 [00:30<00:00,  2.91it/s]\n"
          ]
        },
        {
          "output_type": "stream",
          "name": "stdout",
          "text": [
            "\n",
            "Validation set: Average loss: 0.0009, Accuracy: 4410/5000 (88.20%)\n",
            "\n",
            "\n",
            "Test set: Average loss: 0.4932, Accuracy: 8735/10000 (87.35%)\n",
            "\n",
            "EPOCHS : 52\n"
          ]
        },
        {
          "output_type": "stream",
          "name": "stderr",
          "text": [
            "Batch_id=87 Batch Loss=0.06253224611282349 Running Loss=4.502468332648277 Running Accuracy=98.43: 100%|██████████| 88/88 [00:30<00:00,  2.92it/s]\n"
          ]
        },
        {
          "output_type": "stream",
          "name": "stdout",
          "text": [
            "\n",
            "Validation set: Average loss: 0.0009, Accuracy: 4406/5000 (88.12%)\n",
            "\n",
            "Epoch 00133: reducing learning rate of group 0 to 1.0000e-04.\n",
            "\n",
            "Test set: Average loss: 0.4983, Accuracy: 8728/10000 (87.28%)\n",
            "\n",
            "EPOCHS : 53\n"
          ]
        },
        {
          "output_type": "stream",
          "name": "stderr",
          "text": [
            "Batch_id=87 Batch Loss=0.05085445195436478 Running Loss=4.422258865088224 Running Accuracy=98.48: 100%|██████████| 88/88 [00:28<00:00,  3.07it/s]\n"
          ]
        },
        {
          "output_type": "stream",
          "name": "stdout",
          "text": [
            "\n",
            "Validation set: Average loss: 0.0009, Accuracy: 4408/5000 (88.16%)\n",
            "\n",
            "\n",
            "Test set: Average loss: 0.4942, Accuracy: 8742/10000 (87.42%)\n",
            "\n",
            "EPOCHS : 54\n"
          ]
        },
        {
          "output_type": "stream",
          "name": "stderr",
          "text": [
            "Batch_id=87 Batch Loss=0.048443276435136795 Running Loss=4.36862525716424 Running Accuracy=98.39: 100%|██████████| 88/88 [00:30<00:00,  2.91it/s]\n"
          ]
        },
        {
          "output_type": "stream",
          "name": "stdout",
          "text": [
            "\n",
            "Validation set: Average loss: 0.0009, Accuracy: 4417/5000 (88.34%)\n",
            "\n",
            "\n",
            "Test set: Average loss: 0.4947, Accuracy: 8738/10000 (87.38%)\n",
            "\n",
            "EPOCHS : 55\n"
          ]
        },
        {
          "output_type": "stream",
          "name": "stderr",
          "text": [
            "Batch_id=87 Batch Loss=0.040555067360401154 Running Loss=4.24660812318325 Running Accuracy=98.45: 100%|██████████| 88/88 [00:29<00:00,  3.02it/s]\n"
          ]
        },
        {
          "output_type": "stream",
          "name": "stdout",
          "text": [
            "\n",
            "Validation set: Average loss: 0.0009, Accuracy: 4404/5000 (88.08%)\n",
            "\n",
            "\n",
            "Test set: Average loss: 0.4944, Accuracy: 8741/10000 (87.41%)\n",
            "\n",
            "EPOCHS : 56\n"
          ]
        },
        {
          "output_type": "stream",
          "name": "stderr",
          "text": [
            "Batch_id=87 Batch Loss=0.05364607274532318 Running Loss=4.284996833652258 Running Accuracy=98.49: 100%|██████████| 88/88 [00:30<00:00,  2.92it/s]\n"
          ]
        },
        {
          "output_type": "stream",
          "name": "stdout",
          "text": [
            "\n",
            "Validation set: Average loss: 0.0009, Accuracy: 4415/5000 (88.30%)\n",
            "\n",
            "\n",
            "Test set: Average loss: 0.4947, Accuracy: 8736/10000 (87.36%)\n",
            "\n",
            "EPOCHS : 57\n"
          ]
        },
        {
          "output_type": "stream",
          "name": "stderr",
          "text": [
            "Batch_id=87 Batch Loss=0.049419716000556946 Running Loss=4.444522498175502 Running Accuracy=98.36: 100%|██████████| 88/88 [00:30<00:00,  2.88it/s]\n"
          ]
        },
        {
          "output_type": "stream",
          "name": "stdout",
          "text": [
            "\n",
            "Validation set: Average loss: 0.0009, Accuracy: 4414/5000 (88.28%)\n",
            "\n",
            "\n",
            "Test set: Average loss: 0.4938, Accuracy: 8747/10000 (87.47%)\n",
            "\n",
            "EPOCHS : 58\n"
          ]
        },
        {
          "output_type": "stream",
          "name": "stderr",
          "text": [
            "Batch_id=87 Batch Loss=0.04435420781373978 Running Loss=4.4016619846224785 Running Accuracy=98.35: 100%|██████████| 88/88 [00:29<00:00,  3.02it/s]\n"
          ]
        },
        {
          "output_type": "stream",
          "name": "stdout",
          "text": [
            "\n",
            "Validation set: Average loss: 0.0009, Accuracy: 4414/5000 (88.28%)\n",
            "\n",
            "Epoch 00139: reducing learning rate of group 0 to 1.0000e-05.\n",
            "\n",
            "Test set: Average loss: 0.4928, Accuracy: 8751/10000 (87.51%)\n",
            "\n",
            "EPOCHS : 59\n"
          ]
        },
        {
          "output_type": "stream",
          "name": "stderr",
          "text": [
            "Batch_id=87 Batch Loss=0.06359600275754929 Running Loss=4.408773170784116 Running Accuracy=98.39: 100%|██████████| 88/88 [00:30<00:00,  2.86it/s]\n"
          ]
        },
        {
          "output_type": "stream",
          "name": "stdout",
          "text": [
            "\n",
            "Validation set: Average loss: 0.0009, Accuracy: 4414/5000 (88.28%)\n",
            "\n",
            "\n",
            "Test set: Average loss: 0.4949, Accuracy: 8743/10000 (87.43%)\n",
            "\n",
            "EPOCHS : 60\n"
          ]
        },
        {
          "output_type": "stream",
          "name": "stderr",
          "text": [
            "Batch_id=87 Batch Loss=0.033348701894283295 Running Loss=4.257287686690688 Running Accuracy=98.41: 100%|██████████| 88/88 [00:29<00:00,  3.01it/s]\n"
          ]
        },
        {
          "output_type": "stream",
          "name": "stdout",
          "text": [
            "\n",
            "Validation set: Average loss: 0.0009, Accuracy: 4418/5000 (88.36%)\n",
            "\n",
            "\n",
            "Test set: Average loss: 0.4931, Accuracy: 8743/10000 (87.43%)\n",
            "\n",
            "EPOCHS : 61\n"
          ]
        },
        {
          "output_type": "stream",
          "name": "stderr",
          "text": [
            "Batch_id=87 Batch Loss=0.06078970804810524 Running Loss=4.16429990157485 Running Accuracy=98.54: 100%|██████████| 88/88 [00:30<00:00,  2.87it/s]\n"
          ]
        },
        {
          "output_type": "stream",
          "name": "stdout",
          "text": [
            "\n",
            "Validation set: Average loss: 0.0009, Accuracy: 4412/5000 (88.24%)\n",
            "\n",
            "\n",
            "Test set: Average loss: 0.4932, Accuracy: 8742/10000 (87.42%)\n",
            "\n",
            "EPOCHS : 62\n"
          ]
        },
        {
          "output_type": "stream",
          "name": "stderr",
          "text": [
            "Batch_id=87 Batch Loss=0.035900216549634933 Running Loss=4.2590919472277164 Running Accuracy=98.50: 100%|██████████| 88/88 [00:30<00:00,  2.88it/s]\n"
          ]
        },
        {
          "output_type": "stream",
          "name": "stdout",
          "text": [
            "\n",
            "Validation set: Average loss: 0.0009, Accuracy: 4415/5000 (88.30%)\n",
            "\n",
            "\n",
            "Test set: Average loss: 0.4930, Accuracy: 8743/10000 (87.43%)\n",
            "\n",
            "EPOCHS : 63\n"
          ]
        },
        {
          "output_type": "stream",
          "name": "stderr",
          "text": [
            "Batch_id=87 Batch Loss=0.05177835375070572 Running Loss=4.332175377756357 Running Accuracy=98.45: 100%|██████████| 88/88 [00:29<00:00,  3.01it/s]\n"
          ]
        },
        {
          "output_type": "stream",
          "name": "stdout",
          "text": [
            "\n",
            "Validation set: Average loss: 0.0009, Accuracy: 4416/5000 (88.32%)\n",
            "\n",
            "\n",
            "Test set: Average loss: 0.4921, Accuracy: 8753/10000 (87.53%)\n",
            "\n",
            "EPOCHS : 64\n"
          ]
        },
        {
          "output_type": "stream",
          "name": "stderr",
          "text": [
            "Batch_id=87 Batch Loss=0.045704592019319534 Running Loss=4.217112755402923 Running Accuracy=98.46: 100%|██████████| 88/88 [00:30<00:00,  2.88it/s]\n"
          ]
        },
        {
          "output_type": "stream",
          "name": "stdout",
          "text": [
            "\n",
            "Validation set: Average loss: 0.0009, Accuracy: 4417/5000 (88.34%)\n",
            "\n",
            "Epoch 00145: reducing learning rate of group 0 to 1.0000e-06.\n",
            "\n",
            "Test set: Average loss: 0.4928, Accuracy: 8753/10000 (87.53%)\n",
            "\n",
            "EPOCHS : 65\n"
          ]
        },
        {
          "output_type": "stream",
          "name": "stderr",
          "text": [
            "Batch_id=87 Batch Loss=0.0665944293141365 Running Loss=4.400622230023146 Running Accuracy=98.45: 100%|██████████| 88/88 [00:29<00:00,  2.96it/s]\n"
          ]
        },
        {
          "output_type": "stream",
          "name": "stdout",
          "text": [
            "\n",
            "Validation set: Average loss: 0.0009, Accuracy: 4416/5000 (88.32%)\n",
            "\n",
            "\n",
            "Test set: Average loss: 0.4933, Accuracy: 8747/10000 (87.47%)\n",
            "\n",
            "EPOCHS : 66\n"
          ]
        },
        {
          "output_type": "stream",
          "name": "stderr",
          "text": [
            "Batch_id=87 Batch Loss=0.05024076998233795 Running Loss=4.29298341833055 Running Accuracy=98.50: 100%|██████████| 88/88 [00:30<00:00,  2.89it/s]\n"
          ]
        },
        {
          "output_type": "stream",
          "name": "stdout",
          "text": [
            "\n",
            "Validation set: Average loss: 0.0009, Accuracy: 4416/5000 (88.32%)\n",
            "\n",
            "\n",
            "Test set: Average loss: 0.4933, Accuracy: 8742/10000 (87.42%)\n",
            "\n",
            "EPOCHS : 67\n"
          ]
        },
        {
          "output_type": "stream",
          "name": "stderr",
          "text": [
            "Batch_id=87 Batch Loss=0.054426003247499466 Running Loss=4.299601698294282 Running Accuracy=98.43: 100%|██████████| 88/88 [00:29<00:00,  2.97it/s]\n"
          ]
        },
        {
          "output_type": "stream",
          "name": "stdout",
          "text": [
            "\n",
            "Validation set: Average loss: 0.0009, Accuracy: 4415/5000 (88.30%)\n",
            "\n",
            "Epoch 00148: reducing learning rate of group 0 to 1.0000e-07.\n",
            "\n",
            "Test set: Average loss: 0.4939, Accuracy: 8739/10000 (87.39%)\n",
            "\n",
            "EPOCHS : 68\n"
          ]
        },
        {
          "output_type": "stream",
          "name": "stderr",
          "text": [
            "Batch_id=87 Batch Loss=0.046009209007024765 Running Loss=4.185654688626528 Running Accuracy=98.56: 100%|██████████| 88/88 [00:29<00:00,  3.00it/s]\n"
          ]
        },
        {
          "output_type": "stream",
          "name": "stdout",
          "text": [
            "\n",
            "Validation set: Average loss: 0.0009, Accuracy: 4411/5000 (88.22%)\n",
            "\n",
            "\n",
            "Test set: Average loss: 0.4921, Accuracy: 8754/10000 (87.54%)\n",
            "\n",
            "EPOCHS : 69\n"
          ]
        },
        {
          "output_type": "stream",
          "name": "stderr",
          "text": [
            "Batch_id=87 Batch Loss=0.039428357034921646 Running Loss=4.23431272059679 Running Accuracy=98.46: 100%|██████████| 88/88 [00:30<00:00,  2.88it/s]\n"
          ]
        },
        {
          "output_type": "stream",
          "name": "stdout",
          "text": [
            "\n",
            "Validation set: Average loss: 0.0009, Accuracy: 4418/5000 (88.36%)\n",
            "\n",
            "\n",
            "Test set: Average loss: 0.4934, Accuracy: 8745/10000 (87.45%)\n",
            "\n",
            "EPOCHS : 70\n"
          ]
        },
        {
          "output_type": "stream",
          "name": "stderr",
          "text": [
            "Batch_id=87 Batch Loss=0.04873502627015114 Running Loss=4.471442980691791 Running Accuracy=98.37: 100%|██████████| 88/88 [00:29<00:00,  2.98it/s]\n"
          ]
        },
        {
          "output_type": "stream",
          "name": "stdout",
          "text": [
            "\n",
            "Validation set: Average loss: 0.0009, Accuracy: 4417/5000 (88.34%)\n",
            "\n",
            "Epoch 00151: reducing learning rate of group 0 to 1.0000e-08.\n",
            "\n",
            "Test set: Average loss: 0.4935, Accuracy: 8745/10000 (87.45%)\n",
            "\n",
            "EPOCHS : 71\n"
          ]
        },
        {
          "output_type": "stream",
          "name": "stderr",
          "text": [
            "Batch_id=87 Batch Loss=0.043198857456445694 Running Loss=4.20219854824245 Running Accuracy=98.50: 100%|██████████| 88/88 [00:30<00:00,  2.88it/s]\n"
          ]
        },
        {
          "output_type": "stream",
          "name": "stdout",
          "text": [
            "\n",
            "Validation set: Average loss: 0.0009, Accuracy: 4422/5000 (88.44%)\n",
            "\n",
            "\n",
            "Test set: Average loss: 0.4953, Accuracy: 8742/10000 (87.42%)\n",
            "\n",
            "EPOCHS : 72\n"
          ]
        },
        {
          "output_type": "stream",
          "name": "stderr",
          "text": [
            "Batch_id=87 Batch Loss=0.04968511313199997 Running Loss=4.2435651030391455 Running Accuracy=98.45: 100%|██████████| 88/88 [00:29<00:00,  3.01it/s]\n"
          ]
        },
        {
          "output_type": "stream",
          "name": "stdout",
          "text": [
            "\n",
            "Validation set: Average loss: 0.0009, Accuracy: 4414/5000 (88.28%)\n",
            "\n",
            "\n",
            "Test set: Average loss: 0.4917, Accuracy: 8753/10000 (87.53%)\n",
            "\n",
            "EPOCHS : 73\n"
          ]
        },
        {
          "output_type": "stream",
          "name": "stderr",
          "text": [
            "Batch_id=87 Batch Loss=0.06512343138456345 Running Loss=4.300017096102238 Running Accuracy=98.50: 100%|██████████| 88/88 [00:30<00:00,  2.90it/s]\n"
          ]
        },
        {
          "output_type": "stream",
          "name": "stdout",
          "text": [
            "\n",
            "Validation set: Average loss: 0.0009, Accuracy: 4413/5000 (88.26%)\n",
            "\n",
            "\n",
            "Test set: Average loss: 0.4951, Accuracy: 8738/10000 (87.38%)\n",
            "\n",
            "EPOCHS : 74\n"
          ]
        },
        {
          "output_type": "stream",
          "name": "stderr",
          "text": [
            "Batch_id=87 Batch Loss=0.03945504128932953 Running Loss=4.483328541740775 Running Accuracy=98.36: 100%|██████████| 88/88 [00:30<00:00,  2.89it/s]\n"
          ]
        },
        {
          "output_type": "stream",
          "name": "stdout",
          "text": [
            "\n",
            "Validation set: Average loss: 0.0009, Accuracy: 4413/5000 (88.26%)\n",
            "\n",
            "\n",
            "Test set: Average loss: 0.4948, Accuracy: 8739/10000 (87.39%)\n",
            "\n",
            "EPOCHS : 75\n"
          ]
        },
        {
          "output_type": "stream",
          "name": "stderr",
          "text": [
            "Batch_id=87 Batch Loss=0.05113846808671951 Running Loss=4.203468622639775 Running Accuracy=98.48: 100%|██████████| 88/88 [00:29<00:00,  2.99it/s]\n"
          ]
        },
        {
          "output_type": "stream",
          "name": "stdout",
          "text": [
            "\n",
            "Validation set: Average loss: 0.0009, Accuracy: 4408/5000 (88.16%)\n",
            "\n",
            "\n",
            "Test set: Average loss: 0.4934, Accuracy: 8743/10000 (87.43%)\n",
            "\n",
            "EPOCHS : 76\n"
          ]
        },
        {
          "output_type": "stream",
          "name": "stderr",
          "text": [
            "Batch_id=87 Batch Loss=0.04633808135986328 Running Loss=4.232284499332309 Running Accuracy=98.48: 100%|██████████| 88/88 [00:30<00:00,  2.89it/s]\n"
          ]
        },
        {
          "output_type": "stream",
          "name": "stdout",
          "text": [
            "\n",
            "Validation set: Average loss: 0.0009, Accuracy: 4416/5000 (88.32%)\n",
            "\n",
            "\n",
            "Test set: Average loss: 0.4930, Accuracy: 8751/10000 (87.51%)\n",
            "\n",
            "EPOCHS : 77\n"
          ]
        },
        {
          "output_type": "stream",
          "name": "stderr",
          "text": [
            "Batch_id=87 Batch Loss=0.061111852526664734 Running Loss=4.000126590952277 Running Accuracy=98.61: 100%|██████████| 88/88 [00:29<00:00,  2.97it/s]\n"
          ]
        },
        {
          "output_type": "stream",
          "name": "stdout",
          "text": [
            "\n",
            "Validation set: Average loss: 0.0009, Accuracy: 4414/5000 (88.28%)\n",
            "\n",
            "\n",
            "Test set: Average loss: 0.4925, Accuracy: 8741/10000 (87.41%)\n",
            "\n",
            "EPOCHS : 78\n"
          ]
        },
        {
          "output_type": "stream",
          "name": "stderr",
          "text": [
            "Batch_id=87 Batch Loss=0.05136006325483322 Running Loss=4.268025470897555 Running Accuracy=98.53: 100%|██████████| 88/88 [00:31<00:00,  2.83it/s]\n"
          ]
        },
        {
          "output_type": "stream",
          "name": "stdout",
          "text": [
            "\n",
            "Validation set: Average loss: 0.0009, Accuracy: 4413/5000 (88.26%)\n",
            "\n",
            "\n",
            "Test set: Average loss: 0.4937, Accuracy: 8739/10000 (87.39%)\n",
            "\n",
            "EPOCHS : 79\n"
          ]
        },
        {
          "output_type": "stream",
          "name": "stderr",
          "text": [
            "Batch_id=87 Batch Loss=0.0423472635447979 Running Loss=4.229338448494673 Running Accuracy=98.43: 100%|██████████| 88/88 [00:29<00:00,  2.97it/s]\n"
          ]
        },
        {
          "output_type": "stream",
          "name": "stdout",
          "text": [
            "\n",
            "Validation set: Average loss: 0.0009, Accuracy: 4417/5000 (88.34%)\n",
            "\n",
            "\n",
            "Test set: Average loss: 0.4931, Accuracy: 8752/10000 (87.52%)\n",
            "\n"
          ]
        }
      ],
      "source": [
        "# Training the model\n",
        "\n",
        "train_acc = []\n",
        "train_losses = []\n",
        "valid_accs = []\n",
        "valid_losses = []\n",
        "test_acc = []\n",
        "test_losses = []\n",
        "min_valid_loss = None\n",
        "max_acc = None\n",
        "\n",
        "EPOCHS = 80\n",
        "\n",
        "for i in range(EPOCHS):\n",
        "    print(f'EPOCHS : {i}')\n",
        "    model_training(model, device, trainloader, optimizer, train_acc, train_losses)\n",
        "\n",
        "    # Validating the model for the current epoch\n",
        "    valid_loss, valid_acc = model_evaluation(model, device, validloader)  \n",
        "\n",
        "    valid_losses.append(valid_loss)\n",
        "    valid_accs.append(valid_acc)\n",
        "\n",
        "    if not min_valid_loss:\n",
        "      min_valid_loss = valid_loss\n",
        "    else:\n",
        "      if valid_loss < min_valid_loss:\n",
        "        min_valid_loss = valid_loss\n",
        "        torch.save(model, \"best_model.pickle\")\n",
        "\n",
        "    scheduler.step(train_losses[-1])\n",
        "    # scheduler.step(valid_loss)\n",
        "\n",
        "    misclassified, test_acc2 = model_testing(model, device, testloader, test_acc, test_losses)\n",
        "\n",
        "    if not max_acc:\n",
        "      max_acc = test_acc2\n",
        "    else:\n",
        "      if test_acc2 > max_acc:\n",
        "        max_acc = test_acc2\n",
        "        torch.save(model, \"best_test_acc_model.pickle\")\n",
        "  "
      ]
    },
    {
      "cell_type": "code",
      "source": [
        "# Best model\n",
        "model1 = torch.load(\"best_model.pickle\")\n",
        "model2 = torch.load(\"best_test_acc_model.pickle\")\n",
        "misclassified, _acc = model_testing(model, device, testloader, test_acc, test_losses)\n",
        "misclassified, _acc = model_testing(model2, device, testloader, test_acc, test_losses)"
      ],
      "metadata": {
        "colab": {
          "base_uri": "https://localhost:8080/"
        },
        "id": "ocguQ5Q9p1Kt",
        "outputId": "1dbc6e25-e23b-48a8-db59-a2539c486d07"
      },
      "execution_count": 21,
      "outputs": [
        {
          "output_type": "stream",
          "name": "stdout",
          "text": [
            "\n",
            "Test set: Average loss: 0.4931, Accuracy: 8752/10000 (87.52%)\n",
            "\n",
            "\n",
            "Test set: Average loss: 0.4820, Accuracy: 8756/10000 (87.56%)\n",
            "\n"
          ]
        }
      ]
    },
    {
      "cell_type": "code",
      "execution_count": 22,
      "metadata": {
        "execution": {
          "iopub.execute_input": "2020-09-18T14:33:11.004455Z",
          "iopub.status.busy": "2020-09-18T14:33:11.003592Z",
          "iopub.status.idle": "2020-09-18T14:33:11.886161Z",
          "shell.execute_reply": "2020-09-18T14:33:11.885385Z"
        },
        "papermill": {
          "duration": 4.212753,
          "end_time": "2020-09-18T14:33:11.886294",
          "exception": false,
          "start_time": "2020-09-18T14:33:07.673541",
          "status": "completed"
        },
        "tags": [],
        "colab": {
          "base_uri": "https://localhost:8080/",
          "height": 1000
        },
        "id": "3pYBPl8HKs_o",
        "outputId": "c379cbff-c979-40a1-a38b-97d81e50c40c"
      },
      "outputs": [
        {
          "output_type": "execute_result",
          "data": {
            "text/plain": [
              "[<matplotlib.lines.Line2D at 0x7f3f569cdad0>]"
            ]
          },
          "metadata": {},
          "execution_count": 22
        },
        {
          "output_type": "display_data",
          "data": {
            "text/plain": [
              "<Figure size 1800x1440 with 4 Axes>"
            ],
            "image/png": "[encoded data removed]"
          },
          "metadata": {
            "needs_background": "light"
          }
        }
      ],
      "source": [
        "fig, axs = plt.subplots(2,2, figsize=(25,20))\n",
        "\n",
        "axs[0,0].set_title('Train Losses')\n",
        "axs[0,1].set_title('Training Accuracy')\n",
        "axs[1,0].set_title('Test Losses')\n",
        "axs[1,1].set_title('Test Accuracy')\n",
        "\n",
        "axs[0,0].plot(train_losses)\n",
        "axs[0,1].plot(train_acc)\n",
        "axs[1,0].plot(test_losses)\n",
        "axs[1,1].plot(test_acc)"
      ]
    },
    {
      "cell_type": "code",
      "source": [],
      "metadata": {
        "id": "DlPU6Co4ns_R"
      },
      "execution_count": null,
      "outputs": []
    }
  ],
  "metadata": {
    "kernelspec": {
      "display_name": "Python 3",
      "language": "python",
      "name": "python3"
    },
    "language_info": {
      "codemirror_mode": {
        "name": "ipython",
        "version": 3
      },
      "file_extension": ".py",
      "mimetype": "text/x-python",
      "name": "python",
      "nbconvert_exporter": "python",
      "pygments_lexer": "ipython3",
      "version": "3.7.6"
    },
    "papermill": {
      "duration": 1617.594216,
      "end_time": "2020-09-18T14:33:16.593563",
      "environment_variables": {},
      "exception": null,
      "input_path": "__notebook__.ipynb",
      "output_path": "__notebook__.ipynb",
      "parameters": {},
      "start_time": "2020-09-18T14:06:18.999347",
      "version": "2.1.0"
    },
    "colab": {
      "provenance": []
    },
    "accelerator": "GPU",
    "gpuClass": "standard",
    "widgets": {
      "application/vnd.jupyter.widget-state+json": {
        "d22579f9e5624630b555bad7610e5f6e": {
          "model_module": "@jupyter-widgets/controls",
          "model_name": "HBoxModel",
          "model_module_version": "1.5.0",
          "state": {
            "_dom_classes": [],
            "_model_module": "@jupyter-widgets/controls",
            "_model_module_version": "1.5.0",
            "_model_name": "HBoxModel",
            "_view_count": null,
            "_view_module": "@jupyter-widgets/controls",
            "_view_module_version": "1.5.0",
            "_view_name": "HBoxView",
            "box_style": "",
            "children": [
              "IPY_MODEL_8f2180d43149474c9e83cc42e037b7e4",
              "IPY_MODEL_0ae064cf93b84cafb49129ee7ccd1544",
              "IPY_MODEL_902c184a899047dca4253c3cdd438f9b"
            ],
            "layout": "IPY_MODEL_e82dd6916a67495686dbeaa093dda30b"
          }
        },
        "8f2180d43149474c9e83cc42e037b7e4": {
          "model_module": "@jupyter-widgets/controls",
          "model_name": "HTMLModel",
          "model_module_version": "1.5.0",
          "state": {
            "_dom_classes": [],
            "_model_module": "@jupyter-widgets/controls",
            "_model_module_version": "1.5.0",
            "_model_name": "HTMLModel",
            "_view_count": null,
            "_view_module": "@jupyter-widgets/controls",
            "_view_module_version": "1.5.0",
            "_view_name": "HTMLView",
            "description": "",
            "description_tooltip": null,
            "layout": "IPY_MODEL_61c03f2641734a3ea9b61ab83dcf1a36",
            "placeholder": "​",
            "style": "IPY_MODEL_8b3ebbea05994ed381778b3afb6a5e76",
            "value": "100%"
          }
        },
        "0ae064cf93b84cafb49129ee7ccd1544": {
          "model_module": "@jupyter-widgets/controls",
          "model_name": "FloatProgressModel",
          "model_module_version": "1.5.0",
          "state": {
            "_dom_classes": [],
            "_model_module": "@jupyter-widgets/controls",
            "_model_module_version": "1.5.0",
            "_model_name": "FloatProgressModel",
            "_view_count": null,
            "_view_module": "@jupyter-widgets/controls",
            "_view_module_version": "1.5.0",
            "_view_name": "ProgressView",
            "bar_style": "success",
            "description": "",
            "description_tooltip": null,
            "layout": "IPY_MODEL_15d535dfddb041be9ff5bdad18321469",
            "max": 170498071,
            "min": 0,
            "orientation": "horizontal",
            "style": "IPY_MODEL_3a3ac2c434234cd988c9a211dbcad278",
            "value": 170498071
          }
        },
        "902c184a899047dca4253c3cdd438f9b": {
          "model_module": "@jupyter-widgets/controls",
          "model_name": "HTMLModel",
          "model_module_version": "1.5.0",
          "state": {
            "_dom_classes": [],
            "_model_module": "@jupyter-widgets/controls",
            "_model_module_version": "1.5.0",
            "_model_name": "HTMLModel",
            "_view_count": null,
            "_view_module": "@jupyter-widgets/controls",
            "_view_module_version": "1.5.0",
            "_view_name": "HTMLView",
            "description": "",
            "description_tooltip": null,
            "layout": "IPY_MODEL_f7010515fba04d91af5655ba5d7e8bb3",
            "placeholder": "​",
            "style": "IPY_MODEL_d473e3038ca94cddaf092f1a1bd0571f",
            "value": " 170498071/170498071 [00:13&lt;00:00, 13318144.16it/s]"
          }
        },
        "e82dd6916a67495686dbeaa093dda30b": {
          "model_module": "@jupyter-widgets/base",
          "model_name": "LayoutModel",
          "model_module_version": "1.2.0",
          "state": {
            "_model_module": "@jupyter-widgets/base",
            "_model_module_version": "1.2.0",
            "_model_name": "LayoutModel",
            "_view_count": null,
            "_view_module": "@jupyter-widgets/base",
            "_view_module_version": "1.2.0",
            "_view_name": "LayoutView",
            "align_content": null,
            "align_items": null,
            "align_self": null,
            "border": null,
            "bottom": null,
            "display": null,
            "flex": null,
            "flex_flow": null,
            "grid_area": null,
            "grid_auto_columns": null,
            "grid_auto_flow": null,
            "grid_auto_rows": null,
            "grid_column": null,
            "grid_gap": null,
            "grid_row": null,
            "grid_template_areas": null,
            "grid_template_columns": null,
            "grid_template_rows": null,
            "height": null,
            "justify_content": null,
            "justify_items": null,
            "left": null,
            "margin": null,
            "max_height": null,
            "max_width": null,
            "min_height": null,
            "min_width": null,
            "object_fit": null,
            "object_position": null,
            "order": null,
            "overflow": null,
            "overflow_x": null,
            "overflow_y": null,
            "padding": null,
            "right": null,
            "top": null,
            "visibility": null,
            "width": null
          }
        },
        "61c03f2641734a3ea9b61ab83dcf1a36": {
          "model_module": "@jupyter-widgets/base",
          "model_name": "LayoutModel",
          "model_module_version": "1.2.0",
          "state": {
            "_model_module": "@jupyter-widgets/base",
            "_model_module_version": "1.2.0",
            "_model_name": "LayoutModel",
            "_view_count": null,
            "_view_module": "@jupyter-widgets/base",
            "_view_module_version": "1.2.0",
            "_view_name": "LayoutView",
            "align_content": null,
            "align_items": null,
            "align_self": null,
            "border": null,
            "bottom": null,
            "display": null,
            "flex": null,
            "flex_flow": null,
            "grid_area": null,
            "grid_auto_columns": null,
            "grid_auto_flow": null,
            "grid_auto_rows": null,
            "grid_column": null,
            "grid_gap": null,
            "grid_row": null,
            "grid_template_areas": null,
            "grid_template_columns": null,
            "grid_template_rows": null,
            "height": null,
            "justify_content": null,
            "justify_items": null,
            "left": null,
            "margin": null,
            "max_height": null,
            "max_width": null,
            "min_height": null,
            "min_width": null,
            "object_fit": null,
            "object_position": null,
            "order": null,
            "overflow": null,
            "overflow_x": null,
            "overflow_y": null,
            "padding": null,
            "right": null,
            "top": null,
            "visibility": null,
            "width": null
          }
        },
        "8b3ebbea05994ed381778b3afb6a5e76": {
          "model_module": "@jupyter-widgets/controls",
          "model_name": "DescriptionStyleModel",
          "model_module_version": "1.5.0",
          "state": {
            "_model_module": "@jupyter-widgets/controls",
            "_model_module_version": "1.5.0",
            "_model_name": "DescriptionStyleModel",
            "_view_count": null,
            "_view_module": "@jupyter-widgets/base",
            "_view_module_version": "1.2.0",
            "_view_name": "StyleView",
            "description_width": ""
          }
        },
        "15d535dfddb041be9ff5bdad18321469": {
          "model_module": "@jupyter-widgets/base",
          "model_name": "LayoutModel",
          "model_module_version": "1.2.0",
          "state": {
            "_model_module": "@jupyter-widgets/base",
            "_model_module_version": "1.2.0",
            "_model_name": "LayoutModel",
            "_view_count": null,
            "_view_module": "@jupyter-widgets/base",
            "_view_module_version": "1.2.0",
            "_view_name": "LayoutView",
            "align_content": null,
            "align_items": null,
            "align_self": null,
            "border": null,
            "bottom": null,
            "display": null,
            "flex": null,
            "flex_flow": null,
            "grid_area": null,
            "grid_auto_columns": null,
            "grid_auto_flow": null,
            "grid_auto_rows": null,
            "grid_column": null,
            "grid_gap": null,
            "grid_row": null,
            "grid_template_areas": null,
            "grid_template_columns": null,
            "grid_template_rows": null,
            "height": null,
            "justify_content": null,
            "justify_items": null,
            "left": null,
            "margin": null,
            "max_height": null,
            "max_width": null,
            "min_height": null,
            "min_width": null,
            "object_fit": null,
            "object_position": null,
            "order": null,
            "overflow": null,
            "overflow_x": null,
            "overflow_y": null,
            "padding": null,
            "right": null,
            "top": null,
            "visibility": null,
            "width": null
          }
        },
        "3a3ac2c434234cd988c9a211dbcad278": {
          "model_module": "@jupyter-widgets/controls",
          "model_name": "ProgressStyleModel",
          "model_module_version": "1.5.0",
          "state": {
            "_model_module": "@jupyter-widgets/controls",
            "_model_module_version": "1.5.0",
            "_model_name": "ProgressStyleModel",
            "_view_count": null,
            "_view_module": "@jupyter-widgets/base",
            "_view_module_version": "1.2.0",
            "_view_name": "StyleView",
            "bar_color": null,
            "description_width": ""
          }
        },
        "f7010515fba04d91af5655ba5d7e8bb3": {
          "model_module": "@jupyter-widgets/base",
          "model_name": "LayoutModel",
          "model_module_version": "1.2.0",
          "state": {
            "_model_module": "@jupyter-widgets/base",
            "_model_module_version": "1.2.0",
            "_model_name": "LayoutModel",
            "_view_count": null,
            "_view_module": "@jupyter-widgets/base",
            "_view_module_version": "1.2.0",
            "_view_name": "LayoutView",
            "align_content": null,
            "align_items": null,
            "align_self": null,
            "border": null,
            "bottom": null,
            "display": null,
            "flex": null,
            "flex_flow": null,
            "grid_area": null,
            "grid_auto_columns": null,
            "grid_auto_flow": null,
            "grid_auto_rows": null,
            "grid_column": null,
            "grid_gap": null,
            "grid_row": null,
            "grid_template_areas": null,
            "grid_template_columns": null,
            "grid_template_rows": null,
            "height": null,
            "justify_content": null,
            "justify_items": null,
            "left": null,
            "margin": null,
            "max_height": null,
            "max_width": null,
            "min_height": null,
            "min_width": null,
            "object_fit": null,
            "object_position": null,
            "order": null,
            "overflow": null,
            "overflow_x": null,
            "overflow_y": null,
            "padding": null,
            "right": null,
            "top": null,
            "visibility": null,
            "width": null
          }
        },
        "d473e3038ca94cddaf092f1a1bd0571f": {
          "model_module": "@jupyter-widgets/controls",
          "model_name": "DescriptionStyleModel",
          "model_module_version": "1.5.0",
          "state": {
            "_model_module": "@jupyter-widgets/controls",
            "_model_module_version": "1.5.0",
            "_model_name": "DescriptionStyleModel",
            "_view_count": null,
            "_view_module": "@jupyter-widgets/base",
            "_view_module_version": "1.2.0",
            "_view_name": "StyleView",
            "description_width": ""
          }
        }
      }
    }
  },
  "nbformat": 4,
  "nbformat_minor": 0
}