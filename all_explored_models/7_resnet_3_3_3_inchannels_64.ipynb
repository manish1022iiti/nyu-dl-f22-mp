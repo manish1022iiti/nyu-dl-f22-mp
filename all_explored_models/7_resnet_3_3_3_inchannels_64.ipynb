{
  "cells": [
    {
      "cell_type": "markdown",
      "source": [
        "**References:**\n",
        "\n",
        "https://www.kaggle.com/code/greatcodes/pytorch-cnn-resnet18-cifar10/notebook\n",
        "\n",
        "https://pytorch-tutorial.readthedocs.io/en/latest/tutorial/chapter03_intermediate/3_2_2_cnn_resnet_cifar10/"
      ],
      "metadata": {
        "id": "TS3R6-AKKuSD"
      }
    },
    {
      "cell_type": "code",
      "execution_count": null,
      "metadata": {
        "execution": {
          "iopub.execute_input": "2020-09-18T14:06:23.323276Z",
          "iopub.status.busy": "2020-09-18T14:06:23.322403Z",
          "iopub.status.idle": "2020-09-18T14:06:33.073785Z",
          "shell.execute_reply": "2020-09-18T14:06:33.073171Z"
        },
        "papermill": {
          "duration": 9.766997,
          "end_time": "2020-09-18T14:06:33.073915",
          "exception": false,
          "start_time": "2020-09-18T14:06:23.306918",
          "status": "completed"
        },
        "tags": [],
        "colab": {
          "base_uri": "https://localhost:8080/"
        },
        "id": "40qwzP9AKs_c",
        "outputId": "837fa0c3-09bc-471b-86fa-7d1c9fc0527e"
      },
      "outputs": [
        {
          "output_type": "stream",
          "name": "stdout",
          "text": [
            "Looking in indexes: https://pypi.org/simple, https://us-python.pkg.dev/colab-wheels/public/simple/\n",
            "Requirement already satisfied: torchsummary in /usr/local/lib/python3.7/dist-packages (1.5.1)\n"
          ]
        }
      ],
      "source": [
        "!pip install torchsummary"
      ]
    },
    {
      "cell_type": "markdown",
      "source": [
        "# **Environment Setup**"
      ],
      "metadata": {
        "id": "Xrra1mf7ORqz"
      }
    },
    {
      "cell_type": "markdown",
      "source": [
        "**Importing relevant Pytorch modules**"
      ],
      "metadata": {
        "id": "4ktd9t7FOx_k"
      }
    },
    {
      "cell_type": "code",
      "execution_count": null,
      "metadata": {
        "_cell_guid": "79c7e3d0-c299-4dcb-8224-4455121ee9b0",
        "_uuid": "d629ff2d2480ee46fbb7e2d37f6b5fab8052498a",
        "execution": {
          "iopub.execute_input": "2020-09-18T14:06:33.110540Z",
          "iopub.status.busy": "2020-09-18T14:06:33.109616Z",
          "iopub.status.idle": "2020-09-18T14:06:34.741497Z",
          "shell.execute_reply": "2020-09-18T14:06:34.742236Z"
        },
        "papermill": {
          "duration": 1.655486,
          "end_time": "2020-09-18T14:06:34.742433",
          "exception": false,
          "start_time": "2020-09-18T14:06:33.086947",
          "status": "completed"
        },
        "tags": [],
        "colab": {
          "base_uri": "https://localhost:8080/"
        },
        "id": "1L1ayeUjKs_d",
        "outputId": "08bf8713-859c-41ed-bab1-01b4917db4a6"
      },
      "outputs": [
        {
          "output_type": "stream",
          "name": "stdout",
          "text": [
            "cuda\n"
          ]
        }
      ],
      "source": [
        "# Importing Libraries\n",
        "import os\n",
        "import copy\n",
        "import random\n",
        "import numpy as np\n",
        "import pandas as pd\n",
        "import torch\n",
        "import torchvision\n",
        "import torchvision.transforms as transforms\n",
        "from torchsummary import summary\n",
        "import torch.utils.data as data\n",
        "import torch.nn as nn\n",
        "import torch.nn.functional as F\n",
        "import torch.optim as optim\n",
        "from torch.optim.lr_scheduler import StepLR, ReduceLROnPlateau\n",
        "\n",
        "import matplotlib.pyplot as plt\n",
        "%matplotlib inline\n",
        "\n",
        "SEED = 1234\n",
        "\n",
        "device = \"cuda\" if torch.cuda.is_available else \"cpu\"\n",
        "print(device)"
      ]
    },
    {
      "cell_type": "markdown",
      "source": [
        "**Setting up Transformations for training and test data**"
      ],
      "metadata": {
        "id": "tekJd_2XO11s"
      }
    },
    {
      "cell_type": "code",
      "execution_count": null,
      "metadata": {
        "execution": {
          "iopub.execute_input": "2020-09-18T14:06:34.781123Z",
          "iopub.status.busy": "2020-09-18T14:06:34.780293Z",
          "iopub.status.idle": "2020-09-18T14:06:34.784939Z",
          "shell.execute_reply": "2020-09-18T14:06:34.784333Z"
        },
        "papermill": {
          "duration": 0.028551,
          "end_time": "2020-09-18T14:06:34.785089",
          "exception": false,
          "start_time": "2020-09-18T14:06:34.756538",
          "status": "completed"
        },
        "tags": [],
        "id": "s_5gkccjKs_e"
      },
      "outputs": [],
      "source": [
        "from torchvision import transforms\n",
        "import numpy as np\n",
        "import torch\n",
        "\n",
        "# Returns a list of transformations when called\n",
        "\n",
        "class GetTransforms():\n",
        "    '''Returns a list of transformations when type as requested amongst train/test\n",
        "       Transforms('train') = list of transforms to apply on training data\n",
        "       Transforms('test') = list of transforms to apply on testing data'''\n",
        "\n",
        "    def __init__(self):\n",
        "        pass\n",
        "\n",
        "    def trainparams(self):\n",
        "        train_transformations = [ #resises the image so it can be perfect for our model.\n",
        "            transforms.RandomHorizontalFlip(), # FLips the image w.r.t horizontal axis\n",
        "            transforms.RandomRotation((-7,7)),     #Rotates the image to a specified angel\n",
        "            transforms.RandomAffine(0, shear=10, scale=(0.8,1.2)), #Performs actions like zooms, change shear angles.\n",
        "            transforms.ColorJitter(brightness=0.2, contrast=0.2, saturation=0.2), # Set the color params\n",
        "            transforms.ToTensor(), # comvert the image to tensor so that it can work with torch\n",
        "            transforms.Normalize((0.491, 0.482, 0.446), (0.247, 0.243, 0.261)) #Normalize all the images\n",
        "            ]\n",
        "\n",
        "        return train_transformations\n",
        "\n",
        "    def testparams(self):\n",
        "        test_transforms = [\n",
        "            transforms.ToTensor(),\n",
        "            transforms.Normalize((0.491, 0.482, 0.446), (0.247, 0.243, 0.261))\n",
        "        ]\n",
        "        return test_transforms"
      ]
    },
    {
      "cell_type": "markdown",
      "source": [
        "**Setting up class to download CIFAR10 data**"
      ],
      "metadata": {
        "id": "DDU3FdZ5O5sD"
      }
    },
    {
      "cell_type": "code",
      "execution_count": null,
      "metadata": {
        "execution": {
          "iopub.execute_input": "2020-09-18T14:06:34.822176Z",
          "iopub.status.busy": "2020-09-18T14:06:34.821389Z",
          "iopub.status.idle": "2020-09-18T14:06:34.824928Z",
          "shell.execute_reply": "2020-09-18T14:06:34.825448Z"
        },
        "papermill": {
          "duration": 0.026239,
          "end_time": "2020-09-18T14:06:34.825574",
          "exception": false,
          "start_time": "2020-09-18T14:06:34.799335",
          "status": "completed"
        },
        "tags": [],
        "id": "TUmYFrWSKs_g"
      },
      "outputs": [],
      "source": [
        "from torchvision import datasets\n",
        "from torchvision import transforms\n",
        "\n",
        "\n",
        "transformations = GetTransforms()\n",
        "train_transforms = transforms.Compose(transformations.trainparams())\n",
        "test_transforms = transforms.Compose(transformations.testparams())\n",
        "\n",
        "\n",
        "class GetCIFAR10_TrainData():\n",
        "    def __init__(self, dir_name:str):\n",
        "        self.dirname = dir_name\n",
        "\n",
        "    def download_train_data(self):\n",
        "        return datasets.CIFAR10('./data', train=True, download=True, transform=train_transforms)\n",
        "\n",
        "    def download_test_data(self):\n",
        "        return datasets.CIFAR10('./data', train=False, download=True, transform=test_transforms)\n"
      ]
    },
    {
      "cell_type": "markdown",
      "source": [
        "Downloading CIFAR10 data and creating train, test, valid loaders:"
      ],
      "metadata": {
        "id": "_oFwkzsvO-Os"
      }
    },
    {
      "cell_type": "code",
      "execution_count": null,
      "metadata": {
        "execution": {
          "iopub.execute_input": "2020-09-18T14:06:34.859536Z",
          "iopub.status.busy": "2020-09-18T14:06:34.858878Z",
          "iopub.status.idle": "2020-09-18T14:06:42.631720Z",
          "shell.execute_reply": "2020-09-18T14:06:42.631008Z"
        },
        "papermill": {
          "duration": 7.792606,
          "end_time": "2020-09-18T14:06:42.631847",
          "exception": false,
          "start_time": "2020-09-18T14:06:34.839241",
          "status": "completed"
        },
        "tags": [],
        "colab": {
          "base_uri": "https://localhost:8080/",
          "height": 101,
          "referenced_widgets": [
            "baa4e48b4b6340ef8589d1b9d237571d",
            "60dfa77629664250bd90639955b7c827",
            "b7029b6f0b0649d59468847f24282395",
            "4cc9214b52c34a648c080481575c5285",
            "1ce3b0e509614fec97da0238e2d19c94",
            "7c0557377d584ed8b367bd4f683a232f",
            "fb0597d5b491415a8077a195a36f4c8b",
            "d3ae4fa708d3465d82886851672a5234",
            "b0e635bc64134080ace6c50c6f0d61bb",
            "546f93d67f02457cbfc0eddd1e6f2abd",
            "198fceaf0094420c8e6b2e4d58b7e5cc"
          ]
        },
        "id": "U8mSINXnKs_i",
        "outputId": "d380ff44-48ba-4031-f757-224956c26310"
      },
      "outputs": [
        {
          "output_type": "stream",
          "name": "stdout",
          "text": [
            "Downloading https://www.cs.toronto.edu/~kriz/cifar-10-python.tar.gz to ./data/cifar-10-python.tar.gz\n"
          ]
        },
        {
          "output_type": "display_data",
          "data": {
            "text/plain": [
              "  0%|          | 0/170498071 [00:00<?, ?it/s]"
            ],
            "application/vnd.jupyter.widget-view+json": {
              "version_major": 2,
              "version_minor": 0,
              "model_id": "baa4e48b4b6340ef8589d1b9d237571d"
            }
          },
          "metadata": {}
        },
        {
          "output_type": "stream",
          "name": "stdout",
          "text": [
            "Extracting ./data/cifar-10-python.tar.gz to ./data\n",
            "Files already downloaded and verified\n"
          ]
        }
      ],
      "source": [
        "cdata = GetCIFAR10_TrainData(os.chdir(\"..\"))\n",
        "trainset = cdata.download_train_data()\n",
        "testset = cdata.download_test_data()\n",
        "\n",
        "VALID_RATIO = 0.9\n",
        "n_train_examples = int(len(trainset) * VALID_RATIO)\n",
        "n_valid_examples = len(trainset) - n_train_examples\n",
        "\n",
        "trainset, validset = data.random_split(trainset, \n",
        "                                           [n_train_examples, n_valid_examples])\n",
        "\n",
        "validset = copy.deepcopy(validset)\n",
        "validset.dataset.transform = test_transforms"
      ]
    },
    {
      "cell_type": "code",
      "source": [
        "len(trainset), len(validset), len(testset)"
      ],
      "metadata": {
        "colab": {
          "base_uri": "https://localhost:8080/"
        },
        "id": "W_h-ul9MYUPZ",
        "outputId": "cd4a090d-fba8-4332-a639-6d27460d6538"
      },
      "execution_count": null,
      "outputs": [
        {
          "output_type": "execute_result",
          "data": {
            "text/plain": [
              "(45000, 5000, 10000)"
            ]
          },
          "metadata": {},
          "execution_count": 6
        }
      ]
    },
    {
      "cell_type": "code",
      "source": [
        "BATCH_SIZE = 512\n",
        "\n",
        "trainloader = torch.utils.data.DataLoader(trainset, batch_size=BATCH_SIZE,\n",
        "                                          shuffle=True, num_workers=2)\n",
        "validloader = torch.utils.data.DataLoader(validset, batch_size=BATCH_SIZE,\n",
        "                                          shuffle=False, num_workers=2)\n",
        "testloader = torch.utils.data.DataLoader(testset, batch_size=BATCH_SIZE,\n",
        "                                         shuffle=False, num_workers=2)"
      ],
      "metadata": {
        "id": "uybGoOcRQA6S"
      },
      "execution_count": null,
      "outputs": []
    },
    {
      "cell_type": "markdown",
      "metadata": {
        "papermill": {
          "duration": 0.01586,
          "end_time": "2020-09-18T14:06:42.663889",
          "exception": false,
          "start_time": "2020-09-18T14:06:42.648029",
          "status": "completed"
        },
        "tags": [],
        "id": "H6YIObpwKs_j"
      },
      "source": [
        "# **ResNet Model Setup**"
      ]
    },
    {
      "cell_type": "code",
      "source": [
        "# 3x3 convolution\n",
        "def conv3x3(in_channels, out_channels, stride=1):\n",
        "    return nn.Conv2d(in_channels, out_channels, kernel_size=3, \n",
        "                     stride=stride, padding=1, bias=False)"
      ],
      "metadata": {
        "id": "G9TNZ9fONNbW"
      },
      "execution_count": null,
      "outputs": []
    },
    {
      "cell_type": "markdown",
      "source": [
        "Setting up a ResNet model with following architecture:\n",
        "\n",
        "**image(32x32x3) -> conv2d(3,64) -> BN(64) -> ReLU -> ResLayer(3, 64,\\1) -> ResLayer(3, 128, \\2) -> ResLayer(3, 256, \\2) -> AVGPool2d(4) -> FC -> Softmax**\n",
        "\n",
        "where **ResLayer(B, C, S)** represents a residual layer with #B blocks, #C channels in each network layer and a stride of #S at the first block of the residual layer."
      ],
      "metadata": {
        "id": "EiGmG-dMPIqU"
      }
    },
    {
      "cell_type": "code",
      "execution_count": null,
      "metadata": {
        "execution": {
          "iopub.execute_input": "2020-09-18T14:06:42.726092Z",
          "iopub.status.busy": "2020-09-18T14:06:42.719704Z",
          "iopub.status.idle": "2020-09-18T14:06:42.729169Z",
          "shell.execute_reply": "2020-09-18T14:06:42.728568Z"
        },
        "papermill": {
          "duration": 0.048555,
          "end_time": "2020-09-18T14:06:42.729267",
          "exception": false,
          "start_time": "2020-09-18T14:06:42.680712",
          "status": "completed"
        },
        "tags": [],
        "id": "yJJ0Idu8Ks_j"
      },
      "outputs": [],
      "source": [
        "# Residual block\n",
        "class ResidualBlock(nn.Module):\n",
        "    def __init__(self, in_channels, out_channels, stride=1, downsample=None):\n",
        "        super(ResidualBlock, self).__init__()\n",
        "        \n",
        "        self.conv1 = conv3x3(in_channels, out_channels, stride)\n",
        "        self.bn1 = nn.BatchNorm2d(out_channels)\n",
        "        self.dropout1 = nn.Dropout(0.1)\n",
        "        \n",
        "        self.relu = nn.ReLU(inplace=True)\n",
        "        \n",
        "        self.conv2 = conv3x3(out_channels, out_channels)\n",
        "        self.bn2 = nn.BatchNorm2d(out_channels)\n",
        "        self.dropout2 = nn.Dropout(0.1)\n",
        "        \n",
        "        self.downsample = downsample\n",
        "\n",
        "    def forward(self, x):\n",
        "        residual = x\n",
        "\n",
        "        out = self.conv1(x)\n",
        "        out = self.bn1(out)\n",
        "        # out = self.dropout1(out)\n",
        "        out = self.relu(out)\n",
        "        \n",
        "        out = self.conv2(out)\n",
        "        out = self.bn2(out)\n",
        "        # out = self.dropout2(out)\n",
        "        if self.downsample:\n",
        "            residual = self.downsample(x)\n",
        "        out += residual\n",
        "        out = self.relu(out)\n",
        "        \n",
        "        return out\n",
        "\n",
        "# ResNet\n",
        "class ResNet(nn.Module):\n",
        "    def __init__(self, block, layers, num_classes=10):\n",
        "        super(ResNet, self).__init__()\n",
        "        \n",
        "        self.in_channels = 64\n",
        "        \n",
        "        self.conv = conv3x3(in_channels=3, out_channels=64)\n",
        "        self.bn = nn.BatchNorm2d(64)\n",
        "        self.relu = nn.ReLU(inplace=True)\n",
        "\n",
        "        self.layer1 = self.make_layer(block=block, out_channels=64, blocks=layers[0], stride=1)\n",
        "        self.layer2 = self.make_layer(block=block, out_channels=128, blocks=layers[1], stride=2)\n",
        "        self.layer3 = self.make_layer(block=block, out_channels=256, blocks=layers[2], stride=2)\n",
        "        # self.layer4 = self.make_layer(block=block, out_channels=512, blocks=layers[3], stride=2)\n",
        "\n",
        "        self.avg_pool = nn.AvgPool2d(4)\n",
        "        # self.fc = nn.Linear(256, num_classes)\n",
        "        self.fc = nn.Linear(1024, num_classes)\n",
        "\n",
        "    def make_layer(self, block, out_channels, blocks, stride=1):\n",
        "        downsample = None\n",
        "        if (stride != 1) or (self.in_channels != out_channels):\n",
        "            downsample = nn.Sequential(\n",
        "                conv3x3(self.in_channels, out_channels, stride=stride),\n",
        "                nn.BatchNorm2d(out_channels))\n",
        "        layers = []\n",
        "        layers.append(block(self.in_channels, out_channels, stride, downsample))\n",
        "        self.in_channels = out_channels\n",
        "        for i in range(1, blocks):\n",
        "            layers.append(block(out_channels, out_channels))\n",
        "        return nn.Sequential(*layers)\n",
        "\n",
        "    def forward(self, x):\n",
        "        out = self.conv(x)\n",
        "        out = self.bn(out)\n",
        "        out = self.relu(out)\n",
        "        out = self.layer1(out)\n",
        "        out = self.layer2(out)\n",
        "        out = self.layer3(out)\n",
        "        # out = self.layer4(out)\n",
        "        out = self.avg_pool(out)\n",
        "        out = out.view(out.size(0), -1)\n",
        "        out = self.fc(out)\n",
        "        return F.log_softmax(out, dim=-1)\n",
        "\n",
        "def ResNet18():\n",
        "    # return ResNet(ResidualBlock, [2, 2, 2, 2])\n",
        "    return ResNet(ResidualBlock, [3, 3, 3])"
      ]
    },
    {
      "cell_type": "code",
      "execution_count": null,
      "metadata": {
        "execution": {
          "iopub.execute_input": "2020-09-18T14:06:42.764813Z",
          "iopub.status.busy": "2020-09-18T14:06:42.764098Z",
          "iopub.status.idle": "2020-09-18T14:06:48.527600Z",
          "shell.execute_reply": "2020-09-18T14:06:48.528219Z"
        },
        "papermill": {
          "duration": 5.783641,
          "end_time": "2020-09-18T14:06:48.528379",
          "exception": false,
          "start_time": "2020-09-18T14:06:42.744738",
          "status": "completed"
        },
        "tags": [],
        "colab": {
          "base_uri": "https://localhost:8080/"
        },
        "id": "INT7cGhKKs_k",
        "outputId": "e09d5f7f-4885-472e-caec-bd687dbba01e"
      },
      "outputs": [
        {
          "output_type": "stream",
          "name": "stdout",
          "text": [
            "----------------------------------------------------------------\n",
            "        Layer (type)               Output Shape         Param #\n",
            "================================================================\n",
            "            Conv2d-1           [-1, 64, 32, 32]           1,728\n",
            "       BatchNorm2d-2           [-1, 64, 32, 32]             128\n",
            "              ReLU-3           [-1, 64, 32, 32]               0\n",
            "            Conv2d-4           [-1, 64, 32, 32]          36,864\n",
            "       BatchNorm2d-5           [-1, 64, 32, 32]             128\n",
            "              ReLU-6           [-1, 64, 32, 32]               0\n",
            "            Conv2d-7           [-1, 64, 32, 32]          36,864\n",
            "       BatchNorm2d-8           [-1, 64, 32, 32]             128\n",
            "              ReLU-9           [-1, 64, 32, 32]               0\n",
            "    ResidualBlock-10           [-1, 64, 32, 32]               0\n",
            "           Conv2d-11           [-1, 64, 32, 32]          36,864\n",
            "      BatchNorm2d-12           [-1, 64, 32, 32]             128\n",
            "             ReLU-13           [-1, 64, 32, 32]               0\n",
            "           Conv2d-14           [-1, 64, 32, 32]          36,864\n",
            "      BatchNorm2d-15           [-1, 64, 32, 32]             128\n",
            "             ReLU-16           [-1, 64, 32, 32]               0\n",
            "    ResidualBlock-17           [-1, 64, 32, 32]               0\n",
            "           Conv2d-18           [-1, 64, 32, 32]          36,864\n",
            "      BatchNorm2d-19           [-1, 64, 32, 32]             128\n",
            "             ReLU-20           [-1, 64, 32, 32]               0\n",
            "           Conv2d-21           [-1, 64, 32, 32]          36,864\n",
            "      BatchNorm2d-22           [-1, 64, 32, 32]             128\n",
            "             ReLU-23           [-1, 64, 32, 32]               0\n",
            "    ResidualBlock-24           [-1, 64, 32, 32]               0\n",
            "           Conv2d-25          [-1, 128, 16, 16]          73,728\n",
            "      BatchNorm2d-26          [-1, 128, 16, 16]             256\n",
            "             ReLU-27          [-1, 128, 16, 16]               0\n",
            "           Conv2d-28          [-1, 128, 16, 16]         147,456\n",
            "      BatchNorm2d-29          [-1, 128, 16, 16]             256\n",
            "           Conv2d-30          [-1, 128, 16, 16]          73,728\n",
            "      BatchNorm2d-31          [-1, 128, 16, 16]             256\n",
            "             ReLU-32          [-1, 128, 16, 16]               0\n",
            "    ResidualBlock-33          [-1, 128, 16, 16]               0\n",
            "           Conv2d-34          [-1, 128, 16, 16]         147,456\n",
            "      BatchNorm2d-35          [-1, 128, 16, 16]             256\n",
            "             ReLU-36          [-1, 128, 16, 16]               0\n",
            "           Conv2d-37          [-1, 128, 16, 16]         147,456\n",
            "      BatchNorm2d-38          [-1, 128, 16, 16]             256\n",
            "             ReLU-39          [-1, 128, 16, 16]               0\n",
            "    ResidualBlock-40          [-1, 128, 16, 16]               0\n",
            "           Conv2d-41          [-1, 128, 16, 16]         147,456\n",
            "      BatchNorm2d-42          [-1, 128, 16, 16]             256\n",
            "             ReLU-43          [-1, 128, 16, 16]               0\n",
            "           Conv2d-44          [-1, 128, 16, 16]         147,456\n",
            "      BatchNorm2d-45          [-1, 128, 16, 16]             256\n",
            "             ReLU-46          [-1, 128, 16, 16]               0\n",
            "    ResidualBlock-47          [-1, 128, 16, 16]               0\n",
            "           Conv2d-48            [-1, 256, 8, 8]         294,912\n",
            "      BatchNorm2d-49            [-1, 256, 8, 8]             512\n",
            "             ReLU-50            [-1, 256, 8, 8]               0\n",
            "           Conv2d-51            [-1, 256, 8, 8]         589,824\n",
            "      BatchNorm2d-52            [-1, 256, 8, 8]             512\n",
            "           Conv2d-53            [-1, 256, 8, 8]         294,912\n",
            "      BatchNorm2d-54            [-1, 256, 8, 8]             512\n",
            "             ReLU-55            [-1, 256, 8, 8]               0\n",
            "    ResidualBlock-56            [-1, 256, 8, 8]               0\n",
            "           Conv2d-57            [-1, 256, 8, 8]         589,824\n",
            "      BatchNorm2d-58            [-1, 256, 8, 8]             512\n",
            "             ReLU-59            [-1, 256, 8, 8]               0\n",
            "           Conv2d-60            [-1, 256, 8, 8]         589,824\n",
            "      BatchNorm2d-61            [-1, 256, 8, 8]             512\n",
            "             ReLU-62            [-1, 256, 8, 8]               0\n",
            "    ResidualBlock-63            [-1, 256, 8, 8]               0\n",
            "           Conv2d-64            [-1, 256, 8, 8]         589,824\n",
            "      BatchNorm2d-65            [-1, 256, 8, 8]             512\n",
            "             ReLU-66            [-1, 256, 8, 8]               0\n",
            "           Conv2d-67            [-1, 256, 8, 8]         589,824\n",
            "      BatchNorm2d-68            [-1, 256, 8, 8]             512\n",
            "             ReLU-69            [-1, 256, 8, 8]               0\n",
            "    ResidualBlock-70            [-1, 256, 8, 8]               0\n",
            "        AvgPool2d-71            [-1, 256, 2, 2]               0\n",
            "           Linear-72                   [-1, 10]          10,250\n",
            "================================================================\n",
            "Total params: 4,663,114\n",
            "Trainable params: 4,663,114\n",
            "Non-trainable params: 0\n",
            "----------------------------------------------------------------\n",
            "Input size (MB): 0.01\n",
            "Forward/backward pass size (MB): 20.63\n",
            "Params size (MB): 17.79\n",
            "Estimated Total Size (MB): 38.43\n",
            "----------------------------------------------------------------\n"
          ]
        }
      ],
      "source": [
        "# Importing Model and printing Summary\n",
        "model = ResNet18().to(device)\n",
        "summary(model, input_size=(3,32,32))"
      ]
    },
    {
      "cell_type": "markdown",
      "source": [
        "# **Training and Testing the model**"
      ],
      "metadata": {
        "id": "nf1mvNzqPMMv"
      }
    },
    {
      "cell_type": "markdown",
      "source": [
        "Defining the training, testing and evaluation functions for model:"
      ],
      "metadata": {
        "id": "8MirJe_3POXM"
      }
    },
    {
      "cell_type": "code",
      "execution_count": null,
      "metadata": {
        "execution": {
          "iopub.execute_input": "2020-09-18T14:06:48.577693Z",
          "iopub.status.busy": "2020-09-18T14:06:48.576994Z",
          "iopub.status.idle": "2020-09-18T14:06:48.581591Z",
          "shell.execute_reply": "2020-09-18T14:06:48.581094Z"
        },
        "papermill": {
          "duration": 0.03332,
          "end_time": "2020-09-18T14:06:48.581710",
          "exception": false,
          "start_time": "2020-09-18T14:06:48.548390",
          "status": "completed"
        },
        "tags": [],
        "id": "-53UyTmsKs_m"
      },
      "outputs": [],
      "source": [
        "from tqdm import tqdm\n",
        "from torch import nn\n",
        "import torch.nn\n",
        "from torch.functional import F\n",
        "import os\n",
        "\n",
        "\n",
        "def model_training(model, device, train_dataloader, optimizer, train_acc, train_losses):\n",
        "            \n",
        "    model.train()\n",
        "    pbar = tqdm(train_dataloader)\n",
        "    correct = 0\n",
        "    processed = 0\n",
        "    running_loss = 0.0\n",
        "\n",
        "    for batch_idx, (data, target) in enumerate(pbar):\n",
        "        data, target = data.to(device), target.to(device)\n",
        "        optimizer.zero_grad()\n",
        "        y_pred = model(data)\n",
        "        loss = F.nll_loss(y_pred, target)\n",
        "        \n",
        "\n",
        "        # train_losses.append(loss.item())\n",
        "        loss.backward()\n",
        "        optimizer.step()\n",
        "\n",
        "        pred = y_pred.argmax(dim=1, keepdim=True)\n",
        "        correct += pred.eq(target.view_as(pred)).sum().item()\n",
        "        processed += len(data)\n",
        "        \n",
        "        # print statistics\n",
        "        \n",
        "        running_loss += loss.item()\n",
        "        pbar.set_description(desc=f'Batch_id={batch_idx} Batch Loss={loss.item()} Running Loss={running_loss} Running Accuracy={100*correct/processed:0.2f}')\n",
        "        # train_acc.append(100*correct/processed)\n",
        "    \n",
        "    train_losses.append(running_loss)\n",
        "    train_acc.append(100*correct/processed)"
      ]
    },
    {
      "cell_type": "code",
      "execution_count": null,
      "metadata": {
        "execution": {
          "iopub.execute_input": "2020-09-18T14:06:48.629732Z",
          "iopub.status.busy": "2020-09-18T14:06:48.628793Z",
          "iopub.status.idle": "2020-09-18T14:06:48.631384Z",
          "shell.execute_reply": "2020-09-18T14:06:48.631909Z"
        },
        "papermill": {
          "duration": 0.03462,
          "end_time": "2020-09-18T14:06:48.632026",
          "exception": false,
          "start_time": "2020-09-18T14:06:48.597406",
          "status": "completed"
        },
        "tags": [],
        "id": "E4BrK-0EKs_n"
      },
      "outputs": [],
      "source": [
        "import torch\n",
        "import os\n",
        "from torch.functional import F\n",
        "\n",
        "cwd = os.getcwd()\n",
        "\n",
        "def model_testing(model, device, test_dataloader, test_acc, test_losses, misclassified = []):\n",
        "    \n",
        "    model.eval()\n",
        "    test_loss = 0\n",
        "    correct = 0\n",
        "    class_correct = list(0. for i in range(10))\n",
        "    class_total = list(0. for i in range(10))\n",
        "    # label = 0\n",
        "    classes = ('plane', 'car', 'bird', 'cat',\n",
        "           'deer', 'dog', 'frog', 'horse', 'ship', 'truck')\n",
        "    \n",
        "    with torch.no_grad():\n",
        "\n",
        "        for index, (data, target) in enumerate(test_dataloader):\n",
        "            data, target = data.to(device), target.to(device)\n",
        "            output = model(data)\n",
        "            pred = output.argmax(dim=1, keepdim=True)\n",
        "            \n",
        "            for d,i,j in zip(data, pred, target):\n",
        "                if i != j:\n",
        "                    misclassified.append([d.cpu(),i[0].cpu(),j.cpu()])\n",
        "\n",
        "            test_loss += F.nll_loss(output, target, reduction='sum').item()\n",
        "            correct += pred.eq(target.view_as(pred)).sum().item()\n",
        "    test_loss /= len(test_dataloader.dataset)\n",
        "    test_losses.append(test_loss)\n",
        "    \n",
        "    print('\\nTest set: Average loss: {:.4f}, Accuracy: {}/{} ({:.2f}%)\\n'.format(\n",
        "        test_loss, correct, len(test_dataloader.dataset),\n",
        "        100. * correct / len(test_dataloader.dataset)))\n",
        "    \n",
        "    test_acc.append(100. * correct / len(test_dataloader.dataset))\n",
        "    return misclassified, correct / len(test_dataloader.dataset)"
      ]
    },
    {
      "cell_type": "code",
      "source": [
        "def model_evaluation(model, device, loader):\n",
        "    \n",
        "    epoch_loss = 0\n",
        "    epoch_acc = 0\n",
        "    \n",
        "    model.eval()\n",
        "    \n",
        "    with torch.no_grad():\n",
        "        \n",
        "        for (x, y) in loader:\n",
        "\n",
        "            x = x.to(device)\n",
        "            y = y.to(device)\n",
        "\n",
        "            y_pred = model(x)\n",
        "            loss = F.nll_loss(y_pred, y)\n",
        "        \n",
        "            pred = y_pred.argmax(dim=1, keepdim=True)\n",
        "            acc = pred.eq(y.view_as(pred)).sum()\n",
        "\n",
        "            epoch_loss += loss.item()\n",
        "            epoch_acc += acc.item()\n",
        "        \n",
        "    print('\\nValidation set: Average loss: {:.4f}, Accuracy: {}/{} ({:.2f}%)\\n'.format(\n",
        "    epoch_loss / len(loader.dataset), epoch_acc, len(loader.dataset),\n",
        "    100. * epoch_acc / len(loader.dataset)))\n",
        "\n",
        "    return epoch_loss, epoch_acc / len(loader.dataset)"
      ],
      "metadata": {
        "id": "ysDy3WkqUGb-"
      },
      "execution_count": null,
      "outputs": []
    },
    {
      "cell_type": "markdown",
      "source": [
        "Setting up training parameters:"
      ],
      "metadata": {
        "id": "-m9d6p7MPTAl"
      }
    },
    {
      "cell_type": "code",
      "source": [
        "# Defining parameters\n",
        "\n",
        "criterion = nn.CrossEntropyLoss()\n",
        "\n",
        "# optimizer = optim.SGD(model.parameters(), lr=0.05, momentum=0.9)\n",
        "optimizer = optim.SGD(model.parameters(), lr=0.01, momentum=0.9)\n",
        "\n",
        "scheduler = ReduceLROnPlateau(optimizer, mode='min', factor=0.1, patience=2, threshold=0.0001, threshold_mode='rel', cooldown=0, min_lr=0, eps=1e-08, verbose=True)\n",
        "# scheduler = ReduceLROnPlateau(optimizer, mode='min', factor=0.1, patience=2, threshold=0.001, threshold_mode='rel', cooldown=0, min_lr=0, eps=1e-08, verbose=True)\n",
        "# scheduler = StepLR(optimizer, step_size=15, gamma=0.1)"
      ],
      "metadata": {
        "id": "L7LSCkvhAdb0"
      },
      "execution_count": null,
      "outputs": []
    },
    {
      "cell_type": "markdown",
      "source": [
        "A custom function to save the results to a csv file:"
      ],
      "metadata": {
        "id": "mF-TZwERPnTM"
      }
    },
    {
      "cell_type": "code",
      "source": [
        "import pandas\n",
        "\n",
        "def save_to_csv(csvname, train_losses, train_accs, test_losses, test_accs):\n",
        "  df = pandas.DataFrame()\n",
        "  df[\"epoch\"] = [i+1 for i in range(len(train_losses))]\n",
        "  df[\"train_loss\"] = train_losses\n",
        "  df[\"test_loss\"] = test_losses\n",
        "  df[\"train_acc\"] = train_accs\n",
        "  df[\"test_acc\"] = test_accs\n",
        "  df.to_csv(csvname)"
      ],
      "metadata": {
        "id": "aY2gsn5NxZqN"
      },
      "execution_count": null,
      "outputs": []
    },
    {
      "cell_type": "markdown",
      "source": [
        "Actual training of the model below for 120 epochs:"
      ],
      "metadata": {
        "id": "wLQkPg_hPyJV"
      }
    },
    {
      "cell_type": "code",
      "execution_count": null,
      "metadata": {
        "execution": {
          "iopub.execute_input": "2020-09-18T14:06:48.676683Z",
          "iopub.status.busy": "2020-09-18T14:06:48.675972Z",
          "iopub.status.idle": "2020-09-18T14:33:04.548416Z",
          "shell.execute_reply": "2020-09-18T14:33:04.549364Z"
        },
        "papermill": {
          "duration": 1575.900797,
          "end_time": "2020-09-18T14:33:04.549700",
          "exception": false,
          "start_time": "2020-09-18T14:06:48.648903",
          "status": "completed"
        },
        "tags": [],
        "colab": {
          "base_uri": "https://localhost:8080/"
        },
        "id": "rtrFA-RCKs_o",
        "outputId": "3dd3da99-52e0-49c9-addb-70ea0ecd5dfb"
      },
      "outputs": [
        {
          "output_type": "stream",
          "name": "stdout",
          "text": [
            "EPOCHS : 0\n"
          ]
        },
        {
          "output_type": "stream",
          "name": "stderr",
          "text": [
            "Batch_id=87 Batch Loss=1.262488603591919 Running Loss=141.1420066356659 Running Accuracy=41.04: 100%|██████████| 88/88 [00:45<00:00,  1.92it/s]\n"
          ]
        },
        {
          "output_type": "stream",
          "name": "stdout",
          "text": [
            "\n",
            "Validation set: Average loss: 0.0024, Accuracy: 2778/5000 (55.56%)\n",
            "\n",
            "\n",
            "Test set: Average loss: 1.2244, Accuracy: 5589/10000 (55.89%)\n",
            "\n",
            "EPOCHS : 1\n"
          ]
        },
        {
          "output_type": "stream",
          "name": "stderr",
          "text": [
            "Batch_id=87 Batch Loss=1.0726550817489624 Running Loss=101.9153596162796 Running Accuracy=58.55: 100%|██████████| 88/88 [00:48<00:00,  1.83it/s]\n"
          ]
        },
        {
          "output_type": "stream",
          "name": "stdout",
          "text": [
            "\n",
            "Validation set: Average loss: 0.0019, Accuracy: 3249/5000 (64.98%)\n",
            "\n",
            "\n",
            "Test set: Average loss: 0.9869, Accuracy: 6503/10000 (65.03%)\n",
            "\n",
            "EPOCHS : 2\n"
          ]
        },
        {
          "output_type": "stream",
          "name": "stderr",
          "text": [
            "Batch_id=87 Batch Loss=0.8720034956932068 Running Loss=80.9749630689621 Running Accuracy=67.40: 100%|██████████| 88/88 [00:51<00:00,  1.71it/s]\n"
          ]
        },
        {
          "output_type": "stream",
          "name": "stdout",
          "text": [
            "\n",
            "Validation set: Average loss: 0.0020, Accuracy: 3345/5000 (66.90%)\n",
            "\n",
            "\n",
            "Test set: Average loss: 1.0062, Accuracy: 6685/10000 (66.85%)\n",
            "\n",
            "EPOCHS : 3\n"
          ]
        },
        {
          "output_type": "stream",
          "name": "stderr",
          "text": [
            "Batch_id=87 Batch Loss=0.7858197689056396 Running Loss=70.04632449150085 Running Accuracy=71.88: 100%|██████████| 88/88 [00:50<00:00,  1.73it/s]\n"
          ]
        },
        {
          "output_type": "stream",
          "name": "stdout",
          "text": [
            "\n",
            "Validation set: Average loss: 0.0015, Accuracy: 3649/5000 (72.98%)\n",
            "\n",
            "\n",
            "Test set: Average loss: 0.7582, Accuracy: 7351/10000 (73.51%)\n",
            "\n",
            "EPOCHS : 4\n"
          ]
        },
        {
          "output_type": "stream",
          "name": "stderr",
          "text": [
            "Batch_id=87 Batch Loss=0.7516804933547974 Running Loss=62.39293998479843 Running Accuracy=75.04: 100%|██████████| 88/88 [00:50<00:00,  1.73it/s]\n"
          ]
        },
        {
          "output_type": "stream",
          "name": "stdout",
          "text": [
            "\n",
            "Validation set: Average loss: 0.0014, Accuracy: 3735/5000 (74.70%)\n",
            "\n",
            "\n",
            "Test set: Average loss: 0.7325, Accuracy: 7476/10000 (74.76%)\n",
            "\n",
            "EPOCHS : 5\n"
          ]
        },
        {
          "output_type": "stream",
          "name": "stderr",
          "text": [
            "Batch_id=87 Batch Loss=0.6002146601676941 Running Loss=55.428797006607056 Running Accuracy=77.93: 100%|██████████| 88/88 [00:50<00:00,  1.73it/s]\n"
          ]
        },
        {
          "output_type": "stream",
          "name": "stdout",
          "text": [
            "\n",
            "Validation set: Average loss: 0.0014, Accuracy: 3838/5000 (76.76%)\n",
            "\n",
            "\n",
            "Test set: Average loss: 0.6965, Accuracy: 7620/10000 (76.20%)\n",
            "\n",
            "EPOCHS : 6\n"
          ]
        },
        {
          "output_type": "stream",
          "name": "stderr",
          "text": [
            "Batch_id=87 Batch Loss=0.5237283110618591 Running Loss=51.98232200741768 Running Accuracy=79.40: 100%|██████████| 88/88 [00:51<00:00,  1.71it/s]\n"
          ]
        },
        {
          "output_type": "stream",
          "name": "stdout",
          "text": [
            "\n",
            "Validation set: Average loss: 0.0013, Accuracy: 3946/5000 (78.92%)\n",
            "\n",
            "\n",
            "Test set: Average loss: 0.6343, Accuracy: 7900/10000 (79.00%)\n",
            "\n",
            "EPOCHS : 7\n"
          ]
        },
        {
          "output_type": "stream",
          "name": "stderr",
          "text": [
            "Batch_id=87 Batch Loss=0.5205262899398804 Running Loss=47.89754042029381 Running Accuracy=80.95: 100%|██████████| 88/88 [00:50<00:00,  1.73it/s]\n"
          ]
        },
        {
          "output_type": "stream",
          "name": "stdout",
          "text": [
            "\n",
            "Validation set: Average loss: 0.0012, Accuracy: 4025/5000 (80.50%)\n",
            "\n",
            "\n",
            "Test set: Average loss: 0.6064, Accuracy: 7964/10000 (79.64%)\n",
            "\n",
            "EPOCHS : 8\n"
          ]
        },
        {
          "output_type": "stream",
          "name": "stderr",
          "text": [
            "Batch_id=87 Batch Loss=0.5216915607452393 Running Loss=44.203804552555084 Running Accuracy=82.50: 100%|██████████| 88/88 [00:50<00:00,  1.73it/s]\n"
          ]
        },
        {
          "output_type": "stream",
          "name": "stdout",
          "text": [
            "\n",
            "Validation set: Average loss: 0.0011, Accuracy: 4082/5000 (81.64%)\n",
            "\n",
            "\n",
            "Test set: Average loss: 0.5531, Accuracy: 8131/10000 (81.31%)\n",
            "\n",
            "EPOCHS : 9\n"
          ]
        },
        {
          "output_type": "stream",
          "name": "stderr",
          "text": [
            "Batch_id=87 Batch Loss=0.5858139395713806 Running Loss=42.14230865240097 Running Accuracy=83.24: 100%|██████████| 88/88 [00:50<00:00,  1.73it/s]\n"
          ]
        },
        {
          "output_type": "stream",
          "name": "stdout",
          "text": [
            "\n",
            "Validation set: Average loss: 0.0010, Accuracy: 4164/5000 (83.28%)\n",
            "\n",
            "\n",
            "Test set: Average loss: 0.5237, Accuracy: 8237/10000 (82.37%)\n",
            "\n",
            "EPOCHS : 10\n"
          ]
        },
        {
          "output_type": "stream",
          "name": "stderr",
          "text": [
            "Batch_id=87 Batch Loss=0.40738728642463684 Running Loss=38.68060812354088 Running Accuracy=84.62: 100%|██████████| 88/88 [00:51<00:00,  1.72it/s]\n"
          ]
        },
        {
          "output_type": "stream",
          "name": "stdout",
          "text": [
            "\n",
            "Validation set: Average loss: 0.0011, Accuracy: 4144/5000 (82.88%)\n",
            "\n",
            "\n",
            "Test set: Average loss: 0.5709, Accuracy: 8145/10000 (81.45%)\n",
            "\n",
            "EPOCHS : 11\n"
          ]
        },
        {
          "output_type": "stream",
          "name": "stderr",
          "text": [
            "Batch_id=87 Batch Loss=0.47860410809516907 Running Loss=36.736238688230515 Running Accuracy=85.43: 100%|██████████| 88/88 [00:51<00:00,  1.71it/s]\n"
          ]
        },
        {
          "output_type": "stream",
          "name": "stdout",
          "text": [
            "\n",
            "Validation set: Average loss: 0.0010, Accuracy: 4163/5000 (83.26%)\n",
            "\n",
            "\n",
            "Test set: Average loss: 0.5342, Accuracy: 8229/10000 (82.29%)\n",
            "\n",
            "EPOCHS : 12\n"
          ]
        },
        {
          "output_type": "stream",
          "name": "stderr",
          "text": [
            "Batch_id=87 Batch Loss=0.44320499897003174 Running Loss=34.83720925450325 Running Accuracy=86.13: 100%|██████████| 88/88 [00:50<00:00,  1.73it/s]\n"
          ]
        },
        {
          "output_type": "stream",
          "name": "stdout",
          "text": [
            "\n",
            "Validation set: Average loss: 0.0009, Accuracy: 4260/5000 (85.20%)\n",
            "\n",
            "\n",
            "Test set: Average loss: 0.4787, Accuracy: 8429/10000 (84.29%)\n",
            "\n",
            "EPOCHS : 13\n"
          ]
        },
        {
          "output_type": "stream",
          "name": "stderr",
          "text": [
            "Batch_id=87 Batch Loss=0.3658885359764099 Running Loss=32.78047031164169 Running Accuracy=86.98: 100%|██████████| 88/88 [00:51<00:00,  1.72it/s]\n"
          ]
        },
        {
          "output_type": "stream",
          "name": "stdout",
          "text": [
            "\n",
            "Validation set: Average loss: 0.0009, Accuracy: 4270/5000 (85.40%)\n",
            "\n",
            "\n",
            "Test set: Average loss: 0.4742, Accuracy: 8434/10000 (84.34%)\n",
            "\n",
            "EPOCHS : 14\n"
          ]
        },
        {
          "output_type": "stream",
          "name": "stderr",
          "text": [
            "Batch_id=87 Batch Loss=0.4049336612224579 Running Loss=31.499076664447784 Running Accuracy=87.50: 100%|██████████| 88/88 [00:51<00:00,  1.72it/s]\n"
          ]
        },
        {
          "output_type": "stream",
          "name": "stdout",
          "text": [
            "\n",
            "Validation set: Average loss: 0.0010, Accuracy: 4182/5000 (83.64%)\n",
            "\n",
            "\n",
            "Test set: Average loss: 0.5220, Accuracy: 8268/10000 (82.68%)\n",
            "\n",
            "EPOCHS : 15\n"
          ]
        },
        {
          "output_type": "stream",
          "name": "stderr",
          "text": [
            "Batch_id=87 Batch Loss=0.34010306000709534 Running Loss=29.987320229411125 Running Accuracy=87.95: 100%|██████████| 88/88 [00:50<00:00,  1.73it/s]\n"
          ]
        },
        {
          "output_type": "stream",
          "name": "stdout",
          "text": [
            "\n",
            "Validation set: Average loss: 0.0009, Accuracy: 4262/5000 (85.24%)\n",
            "\n",
            "\n",
            "Test set: Average loss: 0.4665, Accuracy: 8447/10000 (84.47%)\n",
            "\n",
            "EPOCHS : 16\n"
          ]
        },
        {
          "output_type": "stream",
          "name": "stderr",
          "text": [
            "Batch_id=87 Batch Loss=0.44092392921447754 Running Loss=29.80385749042034 Running Accuracy=87.97: 100%|██████████| 88/88 [00:50<00:00,  1.73it/s]\n"
          ]
        },
        {
          "output_type": "stream",
          "name": "stdout",
          "text": [
            "\n",
            "Validation set: Average loss: 0.0007, Accuracy: 4372/5000 (87.44%)\n",
            "\n",
            "\n",
            "Test set: Average loss: 0.3966, Accuracy: 8642/10000 (86.42%)\n",
            "\n",
            "EPOCHS : 17\n"
          ]
        },
        {
          "output_type": "stream",
          "name": "stderr",
          "text": [
            "Batch_id=87 Batch Loss=0.35640284419059753 Running Loss=27.47373028099537 Running Accuracy=88.86: 100%|██████████| 88/88 [00:51<00:00,  1.72it/s]\n"
          ]
        },
        {
          "output_type": "stream",
          "name": "stdout",
          "text": [
            "\n",
            "Validation set: Average loss: 0.0011, Accuracy: 4165/5000 (83.30%)\n",
            "\n",
            "\n",
            "Test set: Average loss: 0.6028, Accuracy: 8150/10000 (81.50%)\n",
            "\n",
            "EPOCHS : 18\n"
          ]
        },
        {
          "output_type": "stream",
          "name": "stderr",
          "text": [
            "Batch_id=87 Batch Loss=0.2603803277015686 Running Loss=26.90084983408451 Running Accuracy=89.15: 100%|██████████| 88/88 [00:51<00:00,  1.71it/s]\n"
          ]
        },
        {
          "output_type": "stream",
          "name": "stdout",
          "text": [
            "\n",
            "Validation set: Average loss: 0.0009, Accuracy: 4302/5000 (86.04%)\n",
            "\n",
            "\n",
            "Test set: Average loss: 0.4611, Accuracy: 8528/10000 (85.28%)\n",
            "\n",
            "EPOCHS : 19\n"
          ]
        },
        {
          "output_type": "stream",
          "name": "stderr",
          "text": [
            "Batch_id=87 Batch Loss=0.27755120396614075 Running Loss=24.56327474117279 Running Accuracy=90.29: 100%|██████████| 88/88 [00:51<00:00,  1.72it/s]\n"
          ]
        },
        {
          "output_type": "stream",
          "name": "stdout",
          "text": [
            "\n",
            "Validation set: Average loss: 0.0008, Accuracy: 4362/5000 (87.24%)\n",
            "\n",
            "\n",
            "Test set: Average loss: 0.4124, Accuracy: 8683/10000 (86.83%)\n",
            "\n",
            "EPOCHS : 20\n"
          ]
        },
        {
          "output_type": "stream",
          "name": "stderr",
          "text": [
            "Batch_id=87 Batch Loss=0.2340584099292755 Running Loss=24.367297932505608 Running Accuracy=89.98: 100%|██████████| 88/88 [00:50<00:00,  1.73it/s]\n"
          ]
        },
        {
          "output_type": "stream",
          "name": "stdout",
          "text": [
            "\n",
            "Validation set: Average loss: 0.0009, Accuracy: 4342/5000 (86.84%)\n",
            "\n",
            "\n",
            "Test set: Average loss: 0.4856, Accuracy: 8552/10000 (85.52%)\n",
            "\n",
            "EPOCHS : 21\n"
          ]
        },
        {
          "output_type": "stream",
          "name": "stderr",
          "text": [
            "Batch_id=87 Batch Loss=0.2914449870586395 Running Loss=23.380609467625618 Running Accuracy=90.62: 100%|██████████| 88/88 [00:51<00:00,  1.72it/s]\n"
          ]
        },
        {
          "output_type": "stream",
          "name": "stdout",
          "text": [
            "\n",
            "Validation set: Average loss: 0.0010, Accuracy: 4234/5000 (84.68%)\n",
            "\n",
            "\n",
            "Test set: Average loss: 0.5454, Accuracy: 8389/10000 (83.89%)\n",
            "\n",
            "EPOCHS : 22\n"
          ]
        },
        {
          "output_type": "stream",
          "name": "stderr",
          "text": [
            "Batch_id=87 Batch Loss=0.2908276617527008 Running Loss=22.42023177444935 Running Accuracy=90.98: 100%|██████████| 88/88 [00:50<00:00,  1.73it/s]\n"
          ]
        },
        {
          "output_type": "stream",
          "name": "stdout",
          "text": [
            "\n",
            "Validation set: Average loss: 0.0009, Accuracy: 4265/5000 (85.30%)\n",
            "\n",
            "\n",
            "Test set: Average loss: 0.4745, Accuracy: 8503/10000 (85.03%)\n",
            "\n",
            "EPOCHS : 23\n"
          ]
        },
        {
          "output_type": "stream",
          "name": "stderr",
          "text": [
            "Batch_id=87 Batch Loss=0.24841555953025818 Running Loss=21.257915437221527 Running Accuracy=91.37: 100%|██████████| 88/88 [00:50<00:00,  1.73it/s]\n"
          ]
        },
        {
          "output_type": "stream",
          "name": "stdout",
          "text": [
            "\n",
            "Validation set: Average loss: 0.0009, Accuracy: 4338/5000 (86.76%)\n",
            "\n",
            "\n",
            "Test set: Average loss: 0.4838, Accuracy: 8570/10000 (85.70%)\n",
            "\n",
            "EPOCHS : 24\n"
          ]
        },
        {
          "output_type": "stream",
          "name": "stderr",
          "text": [
            "Batch_id=87 Batch Loss=0.18569272756576538 Running Loss=19.53533060848713 Running Accuracy=92.16: 100%|██████████| 88/88 [00:50<00:00,  1.73it/s]\n"
          ]
        },
        {
          "output_type": "stream",
          "name": "stdout",
          "text": [
            "\n",
            "Validation set: Average loss: 0.0007, Accuracy: 4457/5000 (89.14%)\n",
            "\n",
            "\n",
            "Test set: Average loss: 0.3676, Accuracy: 8830/10000 (88.30%)\n",
            "\n",
            "EPOCHS : 25\n"
          ]
        },
        {
          "output_type": "stream",
          "name": "stderr",
          "text": [
            "Batch_id=87 Batch Loss=0.2288569062948227 Running Loss=19.25261825323105 Running Accuracy=92.05: 100%|██████████| 88/88 [00:51<00:00,  1.72it/s]\n"
          ]
        },
        {
          "output_type": "stream",
          "name": "stdout",
          "text": [
            "\n",
            "Validation set: Average loss: 0.0008, Accuracy: 4354/5000 (87.08%)\n",
            "\n",
            "\n",
            "Test set: Average loss: 0.4160, Accuracy: 8655/10000 (86.55%)\n",
            "\n",
            "EPOCHS : 26\n"
          ]
        },
        {
          "output_type": "stream",
          "name": "stderr",
          "text": [
            "Batch_id=87 Batch Loss=0.19877810776233673 Running Loss=19.209897503256798 Running Accuracy=92.18: 100%|██████████| 88/88 [00:51<00:00,  1.72it/s]\n"
          ]
        },
        {
          "output_type": "stream",
          "name": "stdout",
          "text": [
            "\n",
            "Validation set: Average loss: 0.0008, Accuracy: 4429/5000 (88.58%)\n",
            "\n",
            "\n",
            "Test set: Average loss: 0.4114, Accuracy: 8734/10000 (87.34%)\n",
            "\n",
            "EPOCHS : 27\n"
          ]
        },
        {
          "output_type": "stream",
          "name": "stderr",
          "text": [
            "Batch_id=87 Batch Loss=0.2343948930501938 Running Loss=18.11800779402256 Running Accuracy=92.74: 100%|██████████| 88/88 [00:50<00:00,  1.73it/s]\n"
          ]
        },
        {
          "output_type": "stream",
          "name": "stdout",
          "text": [
            "\n",
            "Validation set: Average loss: 0.0008, Accuracy: 4371/5000 (87.42%)\n",
            "\n",
            "\n",
            "Test set: Average loss: 0.4271, Accuracy: 8704/10000 (87.04%)\n",
            "\n",
            "EPOCHS : 28\n"
          ]
        },
        {
          "output_type": "stream",
          "name": "stderr",
          "text": [
            "Batch_id=87 Batch Loss=0.21348538994789124 Running Loss=18.34556709229946 Running Accuracy=92.58: 100%|██████████| 88/88 [00:51<00:00,  1.72it/s]\n"
          ]
        },
        {
          "output_type": "stream",
          "name": "stdout",
          "text": [
            "\n",
            "Validation set: Average loss: 0.0010, Accuracy: 4272/5000 (85.44%)\n",
            "\n",
            "\n",
            "Test set: Average loss: 0.5288, Accuracy: 8475/10000 (84.75%)\n",
            "\n",
            "EPOCHS : 29\n"
          ]
        },
        {
          "output_type": "stream",
          "name": "stderr",
          "text": [
            "Batch_id=87 Batch Loss=0.21392729878425598 Running Loss=16.942116528749466 Running Accuracy=93.24: 100%|██████████| 88/88 [00:51<00:00,  1.71it/s]\n"
          ]
        },
        {
          "output_type": "stream",
          "name": "stdout",
          "text": [
            "\n",
            "Validation set: Average loss: 0.0007, Accuracy: 4472/5000 (89.44%)\n",
            "\n",
            "\n",
            "Test set: Average loss: 0.3670, Accuracy: 8885/10000 (88.85%)\n",
            "\n",
            "EPOCHS : 30\n"
          ]
        },
        {
          "output_type": "stream",
          "name": "stderr",
          "text": [
            "Batch_id=87 Batch Loss=0.18314862251281738 Running Loss=16.596511885523796 Running Accuracy=93.20: 100%|██████████| 88/88 [00:51<00:00,  1.72it/s]\n"
          ]
        },
        {
          "output_type": "stream",
          "name": "stdout",
          "text": [
            "\n",
            "Validation set: Average loss: 0.0007, Accuracy: 4492/5000 (89.84%)\n",
            "\n",
            "\n",
            "Test set: Average loss: 0.3740, Accuracy: 8873/10000 (88.73%)\n",
            "\n",
            "EPOCHS : 31\n"
          ]
        },
        {
          "output_type": "stream",
          "name": "stderr",
          "text": [
            "Batch_id=87 Batch Loss=0.23115889728069305 Running Loss=15.644188344478607 Running Accuracy=93.66: 100%|██████████| 88/88 [00:51<00:00,  1.72it/s]\n"
          ]
        },
        {
          "output_type": "stream",
          "name": "stdout",
          "text": [
            "\n",
            "Validation set: Average loss: 0.0008, Accuracy: 4448/5000 (88.96%)\n",
            "\n",
            "\n",
            "Test set: Average loss: 0.4173, Accuracy: 8768/10000 (87.68%)\n",
            "\n",
            "EPOCHS : 32\n"
          ]
        },
        {
          "output_type": "stream",
          "name": "stderr",
          "text": [
            "Batch_id=87 Batch Loss=0.15904907882213593 Running Loss=15.145393952727318 Running Accuracy=93.87: 100%|██████████| 88/88 [00:50<00:00,  1.73it/s]\n"
          ]
        },
        {
          "output_type": "stream",
          "name": "stdout",
          "text": [
            "\n",
            "Validation set: Average loss: 0.0008, Accuracy: 4446/5000 (88.92%)\n",
            "\n",
            "\n",
            "Test set: Average loss: 0.3959, Accuracy: 8830/10000 (88.30%)\n",
            "\n",
            "EPOCHS : 33\n"
          ]
        },
        {
          "output_type": "stream",
          "name": "stderr",
          "text": [
            "Batch_id=87 Batch Loss=0.18872897326946259 Running Loss=15.50084737688303 Running Accuracy=93.68: 100%|██████████| 88/88 [00:51<00:00,  1.72it/s]\n"
          ]
        },
        {
          "output_type": "stream",
          "name": "stdout",
          "text": [
            "\n",
            "Validation set: Average loss: 0.0007, Accuracy: 4448/5000 (88.96%)\n",
            "\n",
            "\n",
            "Test set: Average loss: 0.4097, Accuracy: 8808/10000 (88.08%)\n",
            "\n",
            "EPOCHS : 34\n"
          ]
        },
        {
          "output_type": "stream",
          "name": "stderr",
          "text": [
            "Batch_id=87 Batch Loss=0.18007834255695343 Running Loss=14.06361037492752 Running Accuracy=94.36: 100%|██████████| 88/88 [00:51<00:00,  1.72it/s]\n"
          ]
        },
        {
          "output_type": "stream",
          "name": "stdout",
          "text": [
            "\n",
            "Validation set: Average loss: 0.0009, Accuracy: 4373/5000 (87.46%)\n",
            "\n",
            "\n",
            "Test set: Average loss: 0.4590, Accuracy: 8682/10000 (86.82%)\n",
            "\n",
            "EPOCHS : 35\n"
          ]
        },
        {
          "output_type": "stream",
          "name": "stderr",
          "text": [
            "Batch_id=87 Batch Loss=0.1768741011619568 Running Loss=13.70895004272461 Running Accuracy=94.57: 100%|██████████| 88/88 [00:50<00:00,  1.73it/s]\n"
          ]
        },
        {
          "output_type": "stream",
          "name": "stdout",
          "text": [
            "\n",
            "Validation set: Average loss: 0.0008, Accuracy: 4441/5000 (88.82%)\n",
            "\n",
            "\n",
            "Test set: Average loss: 0.4268, Accuracy: 8760/10000 (87.60%)\n",
            "\n",
            "EPOCHS : 36\n"
          ]
        },
        {
          "output_type": "stream",
          "name": "stderr",
          "text": [
            "Batch_id=87 Batch Loss=0.17246316373348236 Running Loss=12.42824324220419 Running Accuracy=95.03: 100%|██████████| 88/88 [00:50<00:00,  1.73it/s]\n"
          ]
        },
        {
          "output_type": "stream",
          "name": "stdout",
          "text": [
            "\n",
            "Validation set: Average loss: 0.0008, Accuracy: 4417/5000 (88.34%)\n",
            "\n",
            "\n",
            "Test set: Average loss: 0.4672, Accuracy: 8718/10000 (87.18%)\n",
            "\n",
            "EPOCHS : 37\n"
          ]
        },
        {
          "output_type": "stream",
          "name": "stderr",
          "text": [
            "Batch_id=87 Batch Loss=0.14267753064632416 Running Loss=13.317420780658722 Running Accuracy=94.55: 100%|██████████| 88/88 [00:51<00:00,  1.72it/s]\n"
          ]
        },
        {
          "output_type": "stream",
          "name": "stdout",
          "text": [
            "\n",
            "Validation set: Average loss: 0.0007, Accuracy: 4480/5000 (89.60%)\n",
            "\n",
            "\n",
            "Test set: Average loss: 0.4039, Accuracy: 8833/10000 (88.33%)\n",
            "\n",
            "EPOCHS : 38\n"
          ]
        },
        {
          "output_type": "stream",
          "name": "stderr",
          "text": [
            "Batch_id=87 Batch Loss=0.16040880978107452 Running Loss=11.98531986027956 Running Accuracy=95.10: 100%|██████████| 88/88 [00:51<00:00,  1.72it/s]\n"
          ]
        },
        {
          "output_type": "stream",
          "name": "stdout",
          "text": [
            "\n",
            "Validation set: Average loss: 0.0008, Accuracy: 4427/5000 (88.54%)\n",
            "\n",
            "\n",
            "Test set: Average loss: 0.4210, Accuracy: 8807/10000 (88.07%)\n",
            "\n",
            "EPOCHS : 39\n"
          ]
        },
        {
          "output_type": "stream",
          "name": "stderr",
          "text": [
            "Batch_id=87 Batch Loss=0.15558366477489471 Running Loss=11.982018023729324 Running Accuracy=95.06: 100%|██████████| 88/88 [00:50<00:00,  1.73it/s]\n"
          ]
        },
        {
          "output_type": "stream",
          "name": "stdout",
          "text": [
            "\n",
            "Validation set: Average loss: 0.0007, Accuracy: 4532/5000 (90.64%)\n",
            "\n",
            "\n",
            "Test set: Average loss: 0.3753, Accuracy: 8887/10000 (88.87%)\n",
            "\n",
            "EPOCHS : 40\n"
          ]
        },
        {
          "output_type": "stream",
          "name": "stderr",
          "text": [
            "Batch_id=87 Batch Loss=0.12339391559362411 Running Loss=11.166795641183853 Running Accuracy=95.47: 100%|██████████| 88/88 [00:50<00:00,  1.73it/s]\n"
          ]
        },
        {
          "output_type": "stream",
          "name": "stdout",
          "text": [
            "\n",
            "Validation set: Average loss: 0.0007, Accuracy: 4503/5000 (90.06%)\n",
            "\n",
            "\n",
            "Test set: Average loss: 0.3813, Accuracy: 8895/10000 (88.95%)\n",
            "\n",
            "EPOCHS : 41\n"
          ]
        },
        {
          "output_type": "stream",
          "name": "stderr",
          "text": [
            "Batch_id=87 Batch Loss=0.12732313573360443 Running Loss=11.117793343961239 Running Accuracy=95.51: 100%|██████████| 88/88 [00:51<00:00,  1.72it/s]\n"
          ]
        },
        {
          "output_type": "stream",
          "name": "stdout",
          "text": [
            "\n",
            "Validation set: Average loss: 0.0009, Accuracy: 4401/5000 (88.02%)\n",
            "\n",
            "\n",
            "Test set: Average loss: 0.4937, Accuracy: 8704/10000 (87.04%)\n",
            "\n",
            "EPOCHS : 42\n"
          ]
        },
        {
          "output_type": "stream",
          "name": "stderr",
          "text": [
            "Batch_id=87 Batch Loss=0.13405326008796692 Running Loss=11.186390683054924 Running Accuracy=95.53: 100%|██████████| 88/88 [00:50<00:00,  1.73it/s]\n"
          ]
        },
        {
          "output_type": "stream",
          "name": "stdout",
          "text": [
            "\n",
            "Validation set: Average loss: 0.0007, Accuracy: 4494/5000 (89.88%)\n",
            "\n",
            "\n",
            "Test set: Average loss: 0.3834, Accuracy: 8926/10000 (89.26%)\n",
            "\n",
            "EPOCHS : 43\n"
          ]
        },
        {
          "output_type": "stream",
          "name": "stderr",
          "text": [
            "Batch_id=87 Batch Loss=0.15162400901317596 Running Loss=10.316328540444374 Running Accuracy=95.84: 100%|██████████| 88/88 [00:51<00:00,  1.73it/s]\n"
          ]
        },
        {
          "output_type": "stream",
          "name": "stdout",
          "text": [
            "\n",
            "Validation set: Average loss: 0.0009, Accuracy: 4388/5000 (87.76%)\n",
            "\n",
            "\n",
            "Test set: Average loss: 0.4880, Accuracy: 8698/10000 (86.98%)\n",
            "\n",
            "EPOCHS : 44\n"
          ]
        },
        {
          "output_type": "stream",
          "name": "stderr",
          "text": [
            "Batch_id=87 Batch Loss=0.11958140879869461 Running Loss=10.685552686452866 Running Accuracy=95.60: 100%|██████████| 88/88 [00:51<00:00,  1.72it/s]\n"
          ]
        },
        {
          "output_type": "stream",
          "name": "stdout",
          "text": [
            "\n",
            "Validation set: Average loss: 0.0006, Accuracy: 4546/5000 (90.92%)\n",
            "\n",
            "\n",
            "Test set: Average loss: 0.3493, Accuracy: 9006/10000 (90.06%)\n",
            "\n",
            "EPOCHS : 45\n"
          ]
        },
        {
          "output_type": "stream",
          "name": "stderr",
          "text": [
            "Batch_id=87 Batch Loss=0.10709282755851746 Running Loss=9.99150064587593 Running Accuracy=95.93: 100%|██████████| 88/88 [00:51<00:00,  1.72it/s]\n"
          ]
        },
        {
          "output_type": "stream",
          "name": "stdout",
          "text": [
            "\n",
            "Validation set: Average loss: 0.0007, Accuracy: 4511/5000 (90.22%)\n",
            "\n",
            "\n",
            "Test set: Average loss: 0.3957, Accuracy: 8915/10000 (89.15%)\n",
            "\n",
            "EPOCHS : 46\n"
          ]
        },
        {
          "output_type": "stream",
          "name": "stderr",
          "text": [
            "Batch_id=87 Batch Loss=0.12594452500343323 Running Loss=9.70086968690157 Running Accuracy=96.07: 100%|██████████| 88/88 [00:50<00:00,  1.73it/s]\n"
          ]
        },
        {
          "output_type": "stream",
          "name": "stdout",
          "text": [
            "\n",
            "Validation set: Average loss: 0.0008, Accuracy: 4483/5000 (89.66%)\n",
            "\n",
            "\n",
            "Test set: Average loss: 0.4393, Accuracy: 8820/10000 (88.20%)\n",
            "\n",
            "EPOCHS : 47\n"
          ]
        },
        {
          "output_type": "stream",
          "name": "stderr",
          "text": [
            "Batch_id=87 Batch Loss=0.10352640599012375 Running Loss=9.19004662334919 Running Accuracy=96.31: 100%|██████████| 88/88 [00:50<00:00,  1.73it/s]\n"
          ]
        },
        {
          "output_type": "stream",
          "name": "stdout",
          "text": [
            "\n",
            "Validation set: Average loss: 0.0007, Accuracy: 4542/5000 (90.84%)\n",
            "\n",
            "\n",
            "Test set: Average loss: 0.3742, Accuracy: 8968/10000 (89.68%)\n",
            "\n",
            "EPOCHS : 48\n"
          ]
        },
        {
          "output_type": "stream",
          "name": "stderr",
          "text": [
            "Batch_id=87 Batch Loss=0.09583024680614471 Running Loss=8.521202094852924 Running Accuracy=96.57: 100%|██████████| 88/88 [00:51<00:00,  1.72it/s]\n"
          ]
        },
        {
          "output_type": "stream",
          "name": "stdout",
          "text": [
            "\n",
            "Validation set: Average loss: 0.0007, Accuracy: 4541/5000 (90.82%)\n",
            "\n",
            "\n",
            "Test set: Average loss: 0.3629, Accuracy: 9019/10000 (90.19%)\n",
            "\n",
            "EPOCHS : 49\n"
          ]
        },
        {
          "output_type": "stream",
          "name": "stderr",
          "text": [
            "Batch_id=87 Batch Loss=0.10713282227516174 Running Loss=8.899960529059172 Running Accuracy=96.34: 100%|██████████| 88/88 [00:51<00:00,  1.72it/s]\n"
          ]
        },
        {
          "output_type": "stream",
          "name": "stdout",
          "text": [
            "\n",
            "Validation set: Average loss: 0.0010, Accuracy: 4416/5000 (88.32%)\n",
            "\n",
            "\n",
            "Test set: Average loss: 0.5177, Accuracy: 8738/10000 (87.38%)\n",
            "\n",
            "EPOCHS : 50\n"
          ]
        },
        {
          "output_type": "stream",
          "name": "stderr",
          "text": [
            "Batch_id=87 Batch Loss=0.11882347613573074 Running Loss=8.377012893557549 Running Accuracy=96.66: 100%|██████████| 88/88 [00:51<00:00,  1.73it/s]\n"
          ]
        },
        {
          "output_type": "stream",
          "name": "stdout",
          "text": [
            "\n",
            "Validation set: Average loss: 0.0010, Accuracy: 4381/5000 (87.62%)\n",
            "\n",
            "\n",
            "Test set: Average loss: 0.5554, Accuracy: 8648/10000 (86.48%)\n",
            "\n",
            "EPOCHS : 51\n"
          ]
        },
        {
          "output_type": "stream",
          "name": "stderr",
          "text": [
            "Batch_id=87 Batch Loss=0.12556321918964386 Running Loss=8.086539052426815 Running Accuracy=96.80: 100%|██████████| 88/88 [00:50<00:00,  1.73it/s]\n"
          ]
        },
        {
          "output_type": "stream",
          "name": "stdout",
          "text": [
            "\n",
            "Validation set: Average loss: 0.0008, Accuracy: 4485/5000 (89.70%)\n",
            "\n",
            "\n",
            "Test set: Average loss: 0.4125, Accuracy: 8876/10000 (88.76%)\n",
            "\n",
            "EPOCHS : 52\n"
          ]
        },
        {
          "output_type": "stream",
          "name": "stderr",
          "text": [
            "Batch_id=87 Batch Loss=0.08906057476997375 Running Loss=7.956979367882013 Running Accuracy=96.77: 100%|██████████| 88/88 [00:51<00:00,  1.72it/s]\n"
          ]
        },
        {
          "output_type": "stream",
          "name": "stdout",
          "text": [
            "\n",
            "Validation set: Average loss: 0.0008, Accuracy: 4483/5000 (89.66%)\n",
            "\n",
            "\n",
            "Test set: Average loss: 0.4265, Accuracy: 8863/10000 (88.63%)\n",
            "\n",
            "EPOCHS : 53\n"
          ]
        },
        {
          "output_type": "stream",
          "name": "stderr",
          "text": [
            "Batch_id=87 Batch Loss=0.06308408081531525 Running Loss=7.815103832632303 Running Accuracy=96.79: 100%|██████████| 88/88 [00:50<00:00,  1.73it/s]\n"
          ]
        },
        {
          "output_type": "stream",
          "name": "stdout",
          "text": [
            "\n",
            "Validation set: Average loss: 0.0007, Accuracy: 4532/5000 (90.64%)\n",
            "\n",
            "\n",
            "Test set: Average loss: 0.4020, Accuracy: 8941/10000 (89.41%)\n",
            "\n",
            "EPOCHS : 54\n"
          ]
        },
        {
          "output_type": "stream",
          "name": "stderr",
          "text": [
            "Batch_id=87 Batch Loss=0.07224598526954651 Running Loss=7.429205909371376 Running Accuracy=97.05: 100%|██████████| 88/88 [00:51<00:00,  1.72it/s]\n"
          ]
        },
        {
          "output_type": "stream",
          "name": "stdout",
          "text": [
            "\n",
            "Validation set: Average loss: 0.0009, Accuracy: 4474/5000 (89.48%)\n",
            "\n",
            "\n",
            "Test set: Average loss: 0.4682, Accuracy: 8815/10000 (88.15%)\n",
            "\n",
            "EPOCHS : 55\n"
          ]
        },
        {
          "output_type": "stream",
          "name": "stderr",
          "text": [
            "Batch_id=87 Batch Loss=0.10542085021734238 Running Loss=7.545476775616407 Running Accuracy=96.97: 100%|██████████| 88/88 [00:51<00:00,  1.72it/s]\n"
          ]
        },
        {
          "output_type": "stream",
          "name": "stdout",
          "text": [
            "\n",
            "Validation set: Average loss: 0.0007, Accuracy: 4566/5000 (91.32%)\n",
            "\n",
            "\n",
            "Test set: Average loss: 0.3770, Accuracy: 8998/10000 (89.98%)\n",
            "\n",
            "EPOCHS : 56\n"
          ]
        },
        {
          "output_type": "stream",
          "name": "stderr",
          "text": [
            "Batch_id=87 Batch Loss=0.0789194330573082 Running Loss=6.8021779134869576 Running Accuracy=97.25: 100%|██████████| 88/88 [00:51<00:00,  1.72it/s]\n"
          ]
        },
        {
          "output_type": "stream",
          "name": "stdout",
          "text": [
            "\n",
            "Validation set: Average loss: 0.0008, Accuracy: 4506/5000 (90.12%)\n",
            "\n",
            "\n",
            "Test set: Average loss: 0.4085, Accuracy: 8958/10000 (89.58%)\n",
            "\n",
            "EPOCHS : 57\n"
          ]
        },
        {
          "output_type": "stream",
          "name": "stderr",
          "text": [
            "Batch_id=87 Batch Loss=0.07563657313585281 Running Loss=6.793327126652002 Running Accuracy=97.37: 100%|██████████| 88/88 [00:51<00:00,  1.72it/s]\n"
          ]
        },
        {
          "output_type": "stream",
          "name": "stdout",
          "text": [
            "\n",
            "Validation set: Average loss: 0.0008, Accuracy: 4507/5000 (90.14%)\n",
            "\n",
            "\n",
            "Test set: Average loss: 0.4325, Accuracy: 8925/10000 (89.25%)\n",
            "\n",
            "EPOCHS : 58\n"
          ]
        },
        {
          "output_type": "stream",
          "name": "stderr",
          "text": [
            "Batch_id=87 Batch Loss=0.06873393803834915 Running Loss=6.50728627294302 Running Accuracy=97.33: 100%|██████████| 88/88 [00:51<00:00,  1.72it/s]\n"
          ]
        },
        {
          "output_type": "stream",
          "name": "stdout",
          "text": [
            "\n",
            "Validation set: Average loss: 0.0008, Accuracy: 4520/5000 (90.40%)\n",
            "\n",
            "\n",
            "Test set: Average loss: 0.4228, Accuracy: 8940/10000 (89.40%)\n",
            "\n",
            "EPOCHS : 59\n"
          ]
        },
        {
          "output_type": "stream",
          "name": "stderr",
          "text": [
            "Batch_id=87 Batch Loss=0.06404850631952286 Running Loss=6.978892266750336 Running Accuracy=97.23: 100%|██████████| 88/88 [00:51<00:00,  1.72it/s]\n"
          ]
        },
        {
          "output_type": "stream",
          "name": "stdout",
          "text": [
            "\n",
            "Validation set: Average loss: 0.0007, Accuracy: 4550/5000 (91.00%)\n",
            "\n",
            "\n",
            "Test set: Average loss: 0.3680, Accuracy: 9030/10000 (90.30%)\n",
            "\n",
            "EPOCHS : 60\n"
          ]
        },
        {
          "output_type": "stream",
          "name": "stderr",
          "text": [
            "Batch_id=87 Batch Loss=0.06549987196922302 Running Loss=6.614367242902517 Running Accuracy=97.38: 100%|██████████| 88/88 [00:51<00:00,  1.72it/s]\n"
          ]
        },
        {
          "output_type": "stream",
          "name": "stdout",
          "text": [
            "\n",
            "Validation set: Average loss: 0.0007, Accuracy: 4584/5000 (91.68%)\n",
            "\n",
            "\n",
            "Test set: Average loss: 0.3697, Accuracy: 9023/10000 (90.23%)\n",
            "\n",
            "EPOCHS : 61\n"
          ]
        },
        {
          "output_type": "stream",
          "name": "stderr",
          "text": [
            "Batch_id=87 Batch Loss=0.07905779033899307 Running Loss=6.381767079234123 Running Accuracy=97.48: 100%|██████████| 88/88 [00:50<00:00,  1.73it/s]\n"
          ]
        },
        {
          "output_type": "stream",
          "name": "stdout",
          "text": [
            "\n",
            "Validation set: Average loss: 0.0007, Accuracy: 4549/5000 (90.98%)\n",
            "\n",
            "\n",
            "Test set: Average loss: 0.3864, Accuracy: 8989/10000 (89.89%)\n",
            "\n",
            "EPOCHS : 62\n"
          ]
        },
        {
          "output_type": "stream",
          "name": "stderr",
          "text": [
            "Batch_id=87 Batch Loss=0.07246455550193787 Running Loss=5.684018604457378 Running Accuracy=97.77: 100%|██████████| 88/88 [00:51<00:00,  1.72it/s]\n"
          ]
        },
        {
          "output_type": "stream",
          "name": "stdout",
          "text": [
            "\n",
            "Validation set: Average loss: 0.0007, Accuracy: 4576/5000 (91.52%)\n",
            "\n",
            "\n",
            "Test set: Average loss: 0.3683, Accuracy: 9052/10000 (90.52%)\n",
            "\n",
            "EPOCHS : 63\n"
          ]
        },
        {
          "output_type": "stream",
          "name": "stderr",
          "text": [
            "Batch_id=87 Batch Loss=0.0739167332649231 Running Loss=5.8464076500386 Running Accuracy=97.60: 100%|██████████| 88/88 [00:50<00:00,  1.73it/s]\n"
          ]
        },
        {
          "output_type": "stream",
          "name": "stdout",
          "text": [
            "\n",
            "Validation set: Average loss: 0.0007, Accuracy: 4559/5000 (91.18%)\n",
            "\n",
            "\n",
            "Test set: Average loss: 0.3852, Accuracy: 9016/10000 (90.16%)\n",
            "\n",
            "EPOCHS : 64\n"
          ]
        },
        {
          "output_type": "stream",
          "name": "stderr",
          "text": [
            "Batch_id=87 Batch Loss=0.07834681123495102 Running Loss=5.473581463098526 Running Accuracy=97.85: 100%|██████████| 88/88 [00:51<00:00,  1.72it/s]\n"
          ]
        },
        {
          "output_type": "stream",
          "name": "stdout",
          "text": [
            "\n",
            "Validation set: Average loss: 0.0007, Accuracy: 4568/5000 (91.36%)\n",
            "\n",
            "\n",
            "Test set: Average loss: 0.3913, Accuracy: 9012/10000 (90.12%)\n",
            "\n",
            "EPOCHS : 65\n"
          ]
        },
        {
          "output_type": "stream",
          "name": "stderr",
          "text": [
            "Batch_id=87 Batch Loss=0.07738609611988068 Running Loss=5.9511612467467785 Running Accuracy=97.62: 100%|██████████| 88/88 [00:51<00:00,  1.72it/s]\n"
          ]
        },
        {
          "output_type": "stream",
          "name": "stdout",
          "text": [
            "\n",
            "Validation set: Average loss: 0.0009, Accuracy: 4469/5000 (89.38%)\n",
            "\n",
            "\n",
            "Test set: Average loss: 0.4489, Accuracy: 8962/10000 (89.62%)\n",
            "\n",
            "EPOCHS : 66\n"
          ]
        },
        {
          "output_type": "stream",
          "name": "stderr",
          "text": [
            "Batch_id=87 Batch Loss=0.0734136626124382 Running Loss=6.094253391027451 Running Accuracy=97.52: 100%|██████████| 88/88 [00:51<00:00,  1.72it/s]\n"
          ]
        },
        {
          "output_type": "stream",
          "name": "stdout",
          "text": [
            "\n",
            "Validation set: Average loss: 0.0007, Accuracy: 4556/5000 (91.12%)\n",
            "\n",
            "\n",
            "Test set: Average loss: 0.3695, Accuracy: 9066/10000 (90.66%)\n",
            "\n",
            "EPOCHS : 67\n"
          ]
        },
        {
          "output_type": "stream",
          "name": "stderr",
          "text": [
            "Batch_id=87 Batch Loss=0.04748709499835968 Running Loss=5.523536624386907 Running Accuracy=97.81: 100%|██████████| 88/88 [00:50<00:00,  1.73it/s]\n"
          ]
        },
        {
          "output_type": "stream",
          "name": "stdout",
          "text": [
            "\n",
            "Validation set: Average loss: 0.0007, Accuracy: 4578/5000 (91.56%)\n",
            "\n",
            "Epoch 00068: reducing learning rate of group 0 to 1.0000e-03.\n",
            "\n",
            "Test set: Average loss: 0.3742, Accuracy: 9082/10000 (90.82%)\n",
            "\n",
            "EPOCHS : 68\n"
          ]
        },
        {
          "output_type": "stream",
          "name": "stderr",
          "text": [
            "Batch_id=87 Batch Loss=0.04335090517997742 Running Loss=3.51616258174181 Running Accuracy=98.68: 100%|██████████| 88/88 [00:51<00:00,  1.72it/s]\n"
          ]
        },
        {
          "output_type": "stream",
          "name": "stdout",
          "text": [
            "\n",
            "Validation set: Average loss: 0.0006, Accuracy: 4637/5000 (92.74%)\n",
            "\n",
            "\n",
            "Test set: Average loss: 0.3099, Accuracy: 9191/10000 (91.91%)\n",
            "\n",
            "EPOCHS : 69\n"
          ]
        },
        {
          "output_type": "stream",
          "name": "stderr",
          "text": [
            "Batch_id=87 Batch Loss=0.023274581879377365 Running Loss=2.5749496519565582 Running Accuracy=99.09: 100%|██████████| 88/88 [00:50<00:00,  1.73it/s]\n"
          ]
        },
        {
          "output_type": "stream",
          "name": "stdout",
          "text": [
            "\n",
            "Validation set: Average loss: 0.0006, Accuracy: 4644/5000 (92.88%)\n",
            "\n",
            "\n",
            "Test set: Average loss: 0.3091, Accuracy: 9192/10000 (91.92%)\n",
            "\n",
            "EPOCHS : 70\n"
          ]
        },
        {
          "output_type": "stream",
          "name": "stderr",
          "text": [
            "Batch_id=87 Batch Loss=0.015302213840186596 Running Loss=2.340180260129273 Running Accuracy=99.18: 100%|██████████| 88/88 [00:51<00:00,  1.72it/s]\n"
          ]
        },
        {
          "output_type": "stream",
          "name": "stdout",
          "text": [
            "\n",
            "Validation set: Average loss: 0.0006, Accuracy: 4640/5000 (92.80%)\n",
            "\n",
            "\n",
            "Test set: Average loss: 0.3098, Accuracy: 9200/10000 (92.00%)\n",
            "\n",
            "EPOCHS : 71\n"
          ]
        },
        {
          "output_type": "stream",
          "name": "stderr",
          "text": [
            "Batch_id=87 Batch Loss=0.03387013450264931 Running Loss=2.2089338498190045 Running Accuracy=99.25: 100%|██████████| 88/88 [00:51<00:00,  1.73it/s]\n"
          ]
        },
        {
          "output_type": "stream",
          "name": "stdout",
          "text": [
            "\n",
            "Validation set: Average loss: 0.0006, Accuracy: 4649/5000 (92.98%)\n",
            "\n",
            "\n",
            "Test set: Average loss: 0.3073, Accuracy: 9201/10000 (92.01%)\n",
            "\n",
            "EPOCHS : 72\n"
          ]
        },
        {
          "output_type": "stream",
          "name": "stderr",
          "text": [
            "Batch_id=87 Batch Loss=0.0297563374042511 Running Loss=2.1390708992257714 Running Accuracy=99.28: 100%|██████████| 88/88 [00:50<00:00,  1.73it/s]\n"
          ]
        },
        {
          "output_type": "stream",
          "name": "stdout",
          "text": [
            "\n",
            "Validation set: Average loss: 0.0006, Accuracy: 4641/5000 (92.82%)\n",
            "\n",
            "\n",
            "Test set: Average loss: 0.3052, Accuracy: 9203/10000 (92.03%)\n",
            "\n",
            "EPOCHS : 73\n"
          ]
        },
        {
          "output_type": "stream",
          "name": "stderr",
          "text": [
            "Batch_id=87 Batch Loss=0.012075817212462425 Running Loss=1.974735734052956 Running Accuracy=99.32: 100%|██████████| 88/88 [00:50<00:00,  1.73it/s]\n"
          ]
        },
        {
          "output_type": "stream",
          "name": "stdout",
          "text": [
            "\n",
            "Validation set: Average loss: 0.0006, Accuracy: 4651/5000 (93.02%)\n",
            "\n",
            "\n",
            "Test set: Average loss: 0.3043, Accuracy: 9217/10000 (92.17%)\n",
            "\n",
            "EPOCHS : 74\n"
          ]
        },
        {
          "output_type": "stream",
          "name": "stderr",
          "text": [
            "Batch_id=87 Batch Loss=0.022427663207054138 Running Loss=1.9562421701848507 Running Accuracy=99.40: 100%|██████████| 88/88 [00:50<00:00,  1.73it/s]\n"
          ]
        },
        {
          "output_type": "stream",
          "name": "stdout",
          "text": [
            "\n",
            "Validation set: Average loss: 0.0006, Accuracy: 4647/5000 (92.94%)\n",
            "\n",
            "\n",
            "Test set: Average loss: 0.3080, Accuracy: 9202/10000 (92.02%)\n",
            "\n",
            "EPOCHS : 75\n"
          ]
        },
        {
          "output_type": "stream",
          "name": "stderr",
          "text": [
            "Batch_id=87 Batch Loss=0.01170472800731659 Running Loss=1.8892022343352437 Running Accuracy=99.40: 100%|██████████| 88/88 [00:51<00:00,  1.72it/s]\n"
          ]
        },
        {
          "output_type": "stream",
          "name": "stdout",
          "text": [
            "\n",
            "Validation set: Average loss: 0.0006, Accuracy: 4655/5000 (93.10%)\n",
            "\n",
            "\n",
            "Test set: Average loss: 0.3054, Accuracy: 9214/10000 (92.14%)\n",
            "\n",
            "EPOCHS : 76\n"
          ]
        },
        {
          "output_type": "stream",
          "name": "stderr",
          "text": [
            "Batch_id=87 Batch Loss=0.016812428832054138 Running Loss=1.751364384777844 Running Accuracy=99.45: 100%|██████████| 88/88 [00:50<00:00,  1.73it/s]\n"
          ]
        },
        {
          "output_type": "stream",
          "name": "stdout",
          "text": [
            "\n",
            "Validation set: Average loss: 0.0006, Accuracy: 4656/5000 (93.12%)\n",
            "\n",
            "\n",
            "Test set: Average loss: 0.3086, Accuracy: 9187/10000 (91.87%)\n",
            "\n",
            "EPOCHS : 77\n"
          ]
        },
        {
          "output_type": "stream",
          "name": "stderr",
          "text": [
            "Batch_id=87 Batch Loss=0.031483229249715805 Running Loss=1.8178084306418896 Running Accuracy=99.40: 100%|██████████| 88/88 [00:51<00:00,  1.72it/s]\n"
          ]
        },
        {
          "output_type": "stream",
          "name": "stdout",
          "text": [
            "\n",
            "Validation set: Average loss: 0.0006, Accuracy: 4654/5000 (93.08%)\n",
            "\n",
            "\n",
            "Test set: Average loss: 0.3037, Accuracy: 9209/10000 (92.09%)\n",
            "\n",
            "EPOCHS : 78\n"
          ]
        },
        {
          "output_type": "stream",
          "name": "stderr",
          "text": [
            "Batch_id=87 Batch Loss=0.012975377030670643 Running Loss=1.7052508634515107 Running Accuracy=99.46: 100%|██████████| 88/88 [00:51<00:00,  1.72it/s]\n"
          ]
        },
        {
          "output_type": "stream",
          "name": "stdout",
          "text": [
            "\n",
            "Validation set: Average loss: 0.0006, Accuracy: 4659/5000 (93.18%)\n",
            "\n",
            "\n",
            "Test set: Average loss: 0.3051, Accuracy: 9205/10000 (92.05%)\n",
            "\n",
            "EPOCHS : 79\n"
          ]
        },
        {
          "output_type": "stream",
          "name": "stderr",
          "text": [
            "Batch_id=87 Batch Loss=0.01809760369360447 Running Loss=1.6745556332170963 Running Accuracy=99.49: 100%|██████████| 88/88 [00:51<00:00,  1.71it/s]\n"
          ]
        },
        {
          "output_type": "stream",
          "name": "stdout",
          "text": [
            "\n",
            "Validation set: Average loss: 0.0006, Accuracy: 4660/5000 (93.20%)\n",
            "\n",
            "\n",
            "Test set: Average loss: 0.3041, Accuracy: 9217/10000 (92.17%)\n",
            "\n",
            "EPOCHS : 80\n"
          ]
        },
        {
          "output_type": "stream",
          "name": "stderr",
          "text": [
            "Batch_id=87 Batch Loss=0.014194831252098083 Running Loss=1.589416962582618 Running Accuracy=99.52: 100%|██████████| 88/88 [00:50<00:00,  1.73it/s]\n"
          ]
        },
        {
          "output_type": "stream",
          "name": "stdout",
          "text": [
            "\n",
            "Validation set: Average loss: 0.0006, Accuracy: 4660/5000 (93.20%)\n",
            "\n",
            "\n",
            "Test set: Average loss: 0.3057, Accuracy: 9205/10000 (92.05%)\n",
            "\n",
            "EPOCHS : 81\n"
          ]
        },
        {
          "output_type": "stream",
          "name": "stderr",
          "text": [
            "Batch_id=87 Batch Loss=0.017852557823061943 Running Loss=1.6283006370067596 Running Accuracy=99.50: 100%|██████████| 88/88 [00:51<00:00,  1.72it/s]\n"
          ]
        },
        {
          "output_type": "stream",
          "name": "stdout",
          "text": [
            "\n",
            "Validation set: Average loss: 0.0006, Accuracy: 4656/5000 (93.12%)\n",
            "\n",
            "\n",
            "Test set: Average loss: 0.3058, Accuracy: 9201/10000 (92.01%)\n",
            "\n",
            "EPOCHS : 82\n"
          ]
        },
        {
          "output_type": "stream",
          "name": "stderr",
          "text": [
            "Batch_id=87 Batch Loss=0.01767949014902115 Running Loss=1.6420785156078637 Running Accuracy=99.46: 100%|██████████| 88/88 [00:50<00:00,  1.73it/s]\n"
          ]
        },
        {
          "output_type": "stream",
          "name": "stdout",
          "text": [
            "\n",
            "Validation set: Average loss: 0.0006, Accuracy: 4651/5000 (93.02%)\n",
            "\n",
            "\n",
            "Test set: Average loss: 0.3068, Accuracy: 9216/10000 (92.16%)\n",
            "\n",
            "EPOCHS : 83\n"
          ]
        },
        {
          "output_type": "stream",
          "name": "stderr",
          "text": [
            "Batch_id=87 Batch Loss=0.02357329986989498 Running Loss=1.5492067374289036 Running Accuracy=99.54: 100%|██████████| 88/88 [00:51<00:00,  1.72it/s]\n"
          ]
        },
        {
          "output_type": "stream",
          "name": "stdout",
          "text": [
            "\n",
            "Validation set: Average loss: 0.0006, Accuracy: 4649/5000 (92.98%)\n",
            "\n",
            "\n",
            "Test set: Average loss: 0.3066, Accuracy: 9218/10000 (92.18%)\n",
            "\n",
            "EPOCHS : 84\n"
          ]
        },
        {
          "output_type": "stream",
          "name": "stderr",
          "text": [
            "Batch_id=87 Batch Loss=0.035407647490501404 Running Loss=1.545086171478033 Running Accuracy=99.52: 100%|██████████| 88/88 [00:51<00:00,  1.72it/s]\n"
          ]
        },
        {
          "output_type": "stream",
          "name": "stdout",
          "text": [
            "\n",
            "Validation set: Average loss: 0.0006, Accuracy: 4652/5000 (93.04%)\n",
            "\n",
            "\n",
            "Test set: Average loss: 0.3119, Accuracy: 9194/10000 (91.94%)\n",
            "\n",
            "EPOCHS : 85\n"
          ]
        },
        {
          "output_type": "stream",
          "name": "stderr",
          "text": [
            "Batch_id=87 Batch Loss=0.0051263137720525265 Running Loss=1.599287565331906 Running Accuracy=99.47: 100%|██████████| 88/88 [00:51<00:00,  1.73it/s]\n"
          ]
        },
        {
          "output_type": "stream",
          "name": "stdout",
          "text": [
            "\n",
            "Validation set: Average loss: 0.0006, Accuracy: 4660/5000 (93.20%)\n",
            "\n",
            "\n",
            "Test set: Average loss: 0.3104, Accuracy: 9202/10000 (92.02%)\n",
            "\n",
            "EPOCHS : 86\n"
          ]
        },
        {
          "output_type": "stream",
          "name": "stderr",
          "text": [
            "Batch_id=87 Batch Loss=0.02638264000415802 Running Loss=1.487869756296277 Running Accuracy=99.54: 100%|██████████| 88/88 [00:51<00:00,  1.72it/s]\n"
          ]
        },
        {
          "output_type": "stream",
          "name": "stdout",
          "text": [
            "\n",
            "Validation set: Average loss: 0.0006, Accuracy: 4654/5000 (93.08%)\n",
            "\n",
            "\n",
            "Test set: Average loss: 0.3087, Accuracy: 9200/10000 (92.00%)\n",
            "\n",
            "EPOCHS : 87\n"
          ]
        },
        {
          "output_type": "stream",
          "name": "stderr",
          "text": [
            "Batch_id=87 Batch Loss=0.015175233595073223 Running Loss=1.453072430100292 Running Accuracy=99.54: 100%|██████████| 88/88 [00:51<00:00,  1.72it/s]\n"
          ]
        },
        {
          "output_type": "stream",
          "name": "stdout",
          "text": [
            "\n",
            "Validation set: Average loss: 0.0006, Accuracy: 4654/5000 (93.08%)\n",
            "\n",
            "\n",
            "Test set: Average loss: 0.3067, Accuracy: 9222/10000 (92.22%)\n",
            "\n",
            "EPOCHS : 88\n"
          ]
        },
        {
          "output_type": "stream",
          "name": "stderr",
          "text": [
            "Batch_id=87 Batch Loss=0.011921381577849388 Running Loss=1.428811022080481 Running Accuracy=99.55: 100%|██████████| 88/88 [00:51<00:00,  1.72it/s]\n"
          ]
        },
        {
          "output_type": "stream",
          "name": "stdout",
          "text": [
            "\n",
            "Validation set: Average loss: 0.0006, Accuracy: 4657/5000 (93.14%)\n",
            "\n",
            "\n",
            "Test set: Average loss: 0.3049, Accuracy: 9213/10000 (92.13%)\n",
            "\n",
            "EPOCHS : 89\n"
          ]
        },
        {
          "output_type": "stream",
          "name": "stderr",
          "text": [
            "Batch_id=87 Batch Loss=0.022046513855457306 Running Loss=1.4056488941423595 Running Accuracy=99.54: 100%|██████████| 88/88 [00:50<00:00,  1.73it/s]\n"
          ]
        },
        {
          "output_type": "stream",
          "name": "stdout",
          "text": [
            "\n",
            "Validation set: Average loss: 0.0006, Accuracy: 4653/5000 (93.06%)\n",
            "\n",
            "\n",
            "Test set: Average loss: 0.3097, Accuracy: 9210/10000 (92.10%)\n",
            "\n",
            "EPOCHS : 90\n"
          ]
        },
        {
          "output_type": "stream",
          "name": "stderr",
          "text": [
            "Batch_id=87 Batch Loss=0.016708580777049065 Running Loss=1.4276341116055846 Running Accuracy=99.58: 100%|██████████| 88/88 [00:50<00:00,  1.73it/s]\n"
          ]
        },
        {
          "output_type": "stream",
          "name": "stdout",
          "text": [
            "\n",
            "Validation set: Average loss: 0.0006, Accuracy: 4661/5000 (93.22%)\n",
            "\n",
            "\n",
            "Test set: Average loss: 0.3105, Accuracy: 9204/10000 (92.04%)\n",
            "\n",
            "EPOCHS : 91\n"
          ]
        },
        {
          "output_type": "stream",
          "name": "stderr",
          "text": [
            "Batch_id=87 Batch Loss=0.009804191999137402 Running Loss=1.4041921142488718 Running Accuracy=99.55: 100%|██████████| 88/88 [00:51<00:00,  1.72it/s]\n"
          ]
        },
        {
          "output_type": "stream",
          "name": "stdout",
          "text": [
            "\n",
            "Validation set: Average loss: 0.0006, Accuracy: 4662/5000 (93.24%)\n",
            "\n",
            "\n",
            "Test set: Average loss: 0.3124, Accuracy: 9218/10000 (92.18%)\n",
            "\n",
            "EPOCHS : 92\n"
          ]
        },
        {
          "output_type": "stream",
          "name": "stderr",
          "text": [
            "Batch_id=87 Batch Loss=0.011537907645106316 Running Loss=1.3754651765339077 Running Accuracy=99.55: 100%|██████████| 88/88 [00:51<00:00,  1.72it/s]\n"
          ]
        },
        {
          "output_type": "stream",
          "name": "stdout",
          "text": [
            "\n",
            "Validation set: Average loss: 0.0006, Accuracy: 4653/5000 (93.06%)\n",
            "\n",
            "\n",
            "Test set: Average loss: 0.3099, Accuracy: 9215/10000 (92.15%)\n",
            "\n",
            "EPOCHS : 93\n"
          ]
        },
        {
          "output_type": "stream",
          "name": "stderr",
          "text": [
            "Batch_id=87 Batch Loss=0.015652483329176903 Running Loss=1.436702510342002 Running Accuracy=99.55: 100%|██████████| 88/88 [00:51<00:00,  1.72it/s]\n"
          ]
        },
        {
          "output_type": "stream",
          "name": "stdout",
          "text": [
            "\n",
            "Validation set: Average loss: 0.0006, Accuracy: 4665/5000 (93.30%)\n",
            "\n",
            "\n",
            "Test set: Average loss: 0.3086, Accuracy: 9225/10000 (92.25%)\n",
            "\n",
            "EPOCHS : 94\n"
          ]
        },
        {
          "output_type": "stream",
          "name": "stderr",
          "text": [
            "Batch_id=87 Batch Loss=0.015769511461257935 Running Loss=1.3660717098973691 Running Accuracy=99.59: 100%|██████████| 88/88 [00:50<00:00,  1.73it/s]\n"
          ]
        },
        {
          "output_type": "stream",
          "name": "stdout",
          "text": [
            "\n",
            "Validation set: Average loss: 0.0006, Accuracy: 4655/5000 (93.10%)\n",
            "\n",
            "\n",
            "Test set: Average loss: 0.3072, Accuracy: 9221/10000 (92.21%)\n",
            "\n",
            "EPOCHS : 95\n"
          ]
        },
        {
          "output_type": "stream",
          "name": "stderr",
          "text": [
            "Batch_id=87 Batch Loss=0.01085734087973833 Running Loss=1.3309774734079838 Running Accuracy=99.61: 100%|██████████| 88/88 [00:51<00:00,  1.72it/s]\n"
          ]
        },
        {
          "output_type": "stream",
          "name": "stdout",
          "text": [
            "\n",
            "Validation set: Average loss: 0.0006, Accuracy: 4644/5000 (92.88%)\n",
            "\n",
            "\n",
            "Test set: Average loss: 0.3097, Accuracy: 9228/10000 (92.28%)\n",
            "\n",
            "EPOCHS : 96\n"
          ]
        },
        {
          "output_type": "stream",
          "name": "stderr",
          "text": [
            "Batch_id=87 Batch Loss=0.01759844273328781 Running Loss=1.2143539595417678 Running Accuracy=99.64: 100%|██████████| 88/88 [00:50<00:00,  1.73it/s]\n"
          ]
        },
        {
          "output_type": "stream",
          "name": "stdout",
          "text": [
            "\n",
            "Validation set: Average loss: 0.0006, Accuracy: 4651/5000 (93.02%)\n",
            "\n",
            "\n",
            "Test set: Average loss: 0.3092, Accuracy: 9216/10000 (92.16%)\n",
            "\n",
            "EPOCHS : 97\n"
          ]
        },
        {
          "output_type": "stream",
          "name": "stderr",
          "text": [
            "Batch_id=87 Batch Loss=0.012883779592812061 Running Loss=1.2937035565264523 Running Accuracy=99.64: 100%|██████████| 88/88 [00:51<00:00,  1.72it/s]\n"
          ]
        },
        {
          "output_type": "stream",
          "name": "stdout",
          "text": [
            "\n",
            "Validation set: Average loss: 0.0006, Accuracy: 4655/5000 (93.10%)\n",
            "\n",
            "\n",
            "Test set: Average loss: 0.3116, Accuracy: 9215/10000 (92.15%)\n",
            "\n",
            "EPOCHS : 98\n"
          ]
        },
        {
          "output_type": "stream",
          "name": "stderr",
          "text": [
            "Batch_id=87 Batch Loss=0.013217363506555557 Running Loss=1.307971395086497 Running Accuracy=99.59: 100%|██████████| 88/88 [00:51<00:00,  1.72it/s]\n"
          ]
        },
        {
          "output_type": "stream",
          "name": "stdout",
          "text": [
            "\n",
            "Validation set: Average loss: 0.0006, Accuracy: 4655/5000 (93.10%)\n",
            "\n",
            "\n",
            "Test set: Average loss: 0.3115, Accuracy: 9199/10000 (91.99%)\n",
            "\n",
            "EPOCHS : 99\n"
          ]
        },
        {
          "output_type": "stream",
          "name": "stderr",
          "text": [
            "Batch_id=87 Batch Loss=0.023650983348488808 Running Loss=1.2352194120176136 Running Accuracy=99.61: 100%|██████████| 88/88 [00:51<00:00,  1.70it/s]\n"
          ]
        },
        {
          "output_type": "stream",
          "name": "stdout",
          "text": [
            "\n",
            "Validation set: Average loss: 0.0006, Accuracy: 4651/5000 (93.02%)\n",
            "\n",
            "Epoch 00100: reducing learning rate of group 0 to 1.0000e-04.\n",
            "\n",
            "Test set: Average loss: 0.3108, Accuracy: 9222/10000 (92.22%)\n",
            "\n",
            "EPOCHS : 100\n"
          ]
        },
        {
          "output_type": "stream",
          "name": "stderr",
          "text": [
            "Batch_id=87 Batch Loss=0.008369969204068184 Running Loss=1.3425367111340165 Running Accuracy=99.59: 100%|██████████| 88/88 [00:51<00:00,  1.72it/s]\n"
          ]
        },
        {
          "output_type": "stream",
          "name": "stdout",
          "text": [
            "\n",
            "Validation set: Average loss: 0.0006, Accuracy: 4645/5000 (92.90%)\n",
            "\n",
            "\n",
            "Test set: Average loss: 0.3113, Accuracy: 9214/10000 (92.14%)\n",
            "\n",
            "EPOCHS : 101\n"
          ]
        },
        {
          "output_type": "stream",
          "name": "stderr",
          "text": [
            "Batch_id=87 Batch Loss=0.013975811190903187 Running Loss=1.3115625544451177 Running Accuracy=99.59: 100%|██████████| 88/88 [00:51<00:00,  1.72it/s]\n"
          ]
        },
        {
          "output_type": "stream",
          "name": "stdout",
          "text": [
            "\n",
            "Validation set: Average loss: 0.0006, Accuracy: 4646/5000 (92.92%)\n",
            "\n",
            "\n",
            "Test set: Average loss: 0.3096, Accuracy: 9220/10000 (92.20%)\n",
            "\n",
            "EPOCHS : 102\n"
          ]
        },
        {
          "output_type": "stream",
          "name": "stderr",
          "text": [
            "Batch_id=87 Batch Loss=0.013185541145503521 Running Loss=1.2581335506401956 Running Accuracy=99.59: 100%|██████████| 88/88 [00:51<00:00,  1.72it/s]\n"
          ]
        },
        {
          "output_type": "stream",
          "name": "stdout",
          "text": [
            "\n",
            "Validation set: Average loss: 0.0006, Accuracy: 4650/5000 (93.00%)\n",
            "\n",
            "Epoch 00103: reducing learning rate of group 0 to 1.0000e-05.\n",
            "\n",
            "Test set: Average loss: 0.3101, Accuracy: 9224/10000 (92.24%)\n",
            "\n",
            "EPOCHS : 103\n"
          ]
        },
        {
          "output_type": "stream",
          "name": "stderr",
          "text": [
            "Batch_id=87 Batch Loss=0.013212385587394238 Running Loss=1.1558271197136492 Running Accuracy=99.67: 100%|██████████| 88/88 [00:51<00:00,  1.72it/s]\n"
          ]
        },
        {
          "output_type": "stream",
          "name": "stdout",
          "text": [
            "\n",
            "Validation set: Average loss: 0.0006, Accuracy: 4648/5000 (92.96%)\n",
            "\n",
            "\n",
            "Test set: Average loss: 0.3104, Accuracy: 9219/10000 (92.19%)\n",
            "\n",
            "EPOCHS : 104\n"
          ]
        },
        {
          "output_type": "stream",
          "name": "stderr",
          "text": [
            "Batch_id=87 Batch Loss=0.011204209178686142 Running Loss=1.1443282319232821 Running Accuracy=99.67: 100%|██████████| 88/88 [00:51<00:00,  1.72it/s]\n"
          ]
        },
        {
          "output_type": "stream",
          "name": "stdout",
          "text": [
            "\n",
            "Validation set: Average loss: 0.0006, Accuracy: 4648/5000 (92.96%)\n",
            "\n",
            "\n",
            "Test set: Average loss: 0.3104, Accuracy: 9216/10000 (92.16%)\n",
            "\n",
            "EPOCHS : 105\n"
          ]
        },
        {
          "output_type": "stream",
          "name": "stderr",
          "text": [
            "Batch_id=87 Batch Loss=0.020141582936048508 Running Loss=1.2111105201765895 Running Accuracy=99.64: 100%|██████████| 88/88 [00:51<00:00,  1.72it/s]\n"
          ]
        },
        {
          "output_type": "stream",
          "name": "stdout",
          "text": [
            "\n",
            "Validation set: Average loss: 0.0006, Accuracy: 4652/5000 (93.04%)\n",
            "\n",
            "\n",
            "Test set: Average loss: 0.3105, Accuracy: 9214/10000 (92.14%)\n",
            "\n",
            "EPOCHS : 106\n"
          ]
        },
        {
          "output_type": "stream",
          "name": "stderr",
          "text": [
            "Batch_id=87 Batch Loss=0.009277258068323135 Running Loss=1.2775688986293972 Running Accuracy=99.61: 100%|██████████| 88/88 [00:51<00:00,  1.72it/s]\n"
          ]
        },
        {
          "output_type": "stream",
          "name": "stdout",
          "text": [
            "\n",
            "Validation set: Average loss: 0.0006, Accuracy: 4651/5000 (93.02%)\n",
            "\n",
            "\n",
            "Test set: Average loss: 0.3101, Accuracy: 9218/10000 (92.18%)\n",
            "\n",
            "EPOCHS : 107\n"
          ]
        },
        {
          "output_type": "stream",
          "name": "stderr",
          "text": [
            "Batch_id=87 Batch Loss=0.018967460840940475 Running Loss=1.2711509955115616 Running Accuracy=99.59: 100%|██████████| 88/88 [00:51<00:00,  1.72it/s]\n"
          ]
        },
        {
          "output_type": "stream",
          "name": "stdout",
          "text": [
            "\n",
            "Validation set: Average loss: 0.0006, Accuracy: 4651/5000 (93.02%)\n",
            "\n",
            "Epoch 00108: reducing learning rate of group 0 to 1.0000e-06.\n",
            "\n",
            "Test set: Average loss: 0.3104, Accuracy: 9214/10000 (92.14%)\n",
            "\n",
            "EPOCHS : 108\n"
          ]
        },
        {
          "output_type": "stream",
          "name": "stderr",
          "text": [
            "Batch_id=87 Batch Loss=0.007335425820201635 Running Loss=1.2566345655359328 Running Accuracy=99.58: 100%|██████████| 88/88 [00:51<00:00,  1.72it/s]\n"
          ]
        },
        {
          "output_type": "stream",
          "name": "stdout",
          "text": [
            "\n",
            "Validation set: Average loss: 0.0006, Accuracy: 4651/5000 (93.02%)\n",
            "\n",
            "\n",
            "Test set: Average loss: 0.3088, Accuracy: 9224/10000 (92.24%)\n",
            "\n",
            "EPOCHS : 109\n"
          ]
        },
        {
          "output_type": "stream",
          "name": "stderr",
          "text": [
            "Batch_id=87 Batch Loss=0.020264452323317528 Running Loss=1.2660582982935011 Running Accuracy=99.60: 100%|██████████| 88/88 [00:51<00:00,  1.72it/s]\n"
          ]
        },
        {
          "output_type": "stream",
          "name": "stdout",
          "text": [
            "\n",
            "Validation set: Average loss: 0.0006, Accuracy: 4649/5000 (92.98%)\n",
            "\n",
            "\n",
            "Test set: Average loss: 0.3106, Accuracy: 9220/10000 (92.20%)\n",
            "\n",
            "EPOCHS : 110\n"
          ]
        },
        {
          "output_type": "stream",
          "name": "stderr",
          "text": [
            "Batch_id=87 Batch Loss=0.006861915811896324 Running Loss=1.2275494448840618 Running Accuracy=99.60: 100%|██████████| 88/88 [00:51<00:00,  1.71it/s]\n"
          ]
        },
        {
          "output_type": "stream",
          "name": "stdout",
          "text": [
            "\n",
            "Validation set: Average loss: 0.0006, Accuracy: 4653/5000 (93.06%)\n",
            "\n",
            "Epoch 00111: reducing learning rate of group 0 to 1.0000e-07.\n",
            "\n",
            "Test set: Average loss: 0.3103, Accuracy: 9220/10000 (92.20%)\n",
            "\n",
            "EPOCHS : 111\n"
          ]
        },
        {
          "output_type": "stream",
          "name": "stderr",
          "text": [
            "Batch_id=87 Batch Loss=0.008694568648934364 Running Loss=1.154343191999942 Running Accuracy=99.66: 100%|██████████| 88/88 [00:51<00:00,  1.71it/s]\n"
          ]
        },
        {
          "output_type": "stream",
          "name": "stdout",
          "text": [
            "\n",
            "Validation set: Average loss: 0.0006, Accuracy: 4647/5000 (92.94%)\n",
            "\n",
            "\n",
            "Test set: Average loss: 0.3110, Accuracy: 9220/10000 (92.20%)\n",
            "\n",
            "EPOCHS : 112\n"
          ]
        },
        {
          "output_type": "stream",
          "name": "stderr",
          "text": [
            "Batch_id=87 Batch Loss=0.01036987267434597 Running Loss=1.1717910771258175 Running Accuracy=99.66: 100%|██████████| 88/88 [00:51<00:00,  1.72it/s]\n"
          ]
        },
        {
          "output_type": "stream",
          "name": "stdout",
          "text": [
            "\n",
            "Validation set: Average loss: 0.0006, Accuracy: 4651/5000 (93.02%)\n",
            "\n",
            "\n",
            "Test set: Average loss: 0.3094, Accuracy: 9221/10000 (92.21%)\n",
            "\n",
            "EPOCHS : 113\n"
          ]
        },
        {
          "output_type": "stream",
          "name": "stderr",
          "text": [
            "Batch_id=87 Batch Loss=0.009412938728928566 Running Loss=1.324929642956704 Running Accuracy=99.58: 100%|██████████| 88/88 [00:51<00:00,  1.72it/s]\n"
          ]
        },
        {
          "output_type": "stream",
          "name": "stdout",
          "text": [
            "\n",
            "Validation set: Average loss: 0.0006, Accuracy: 4648/5000 (92.96%)\n",
            "\n",
            "Epoch 00114: reducing learning rate of group 0 to 1.0000e-08.\n",
            "\n",
            "Test set: Average loss: 0.3109, Accuracy: 9219/10000 (92.19%)\n",
            "\n",
            "EPOCHS : 114\n"
          ]
        },
        {
          "output_type": "stream",
          "name": "stderr",
          "text": [
            "Batch_id=87 Batch Loss=0.02014853060245514 Running Loss=1.2564905351027846 Running Accuracy=99.56: 100%|██████████| 88/88 [00:51<00:00,  1.72it/s]\n"
          ]
        },
        {
          "output_type": "stream",
          "name": "stdout",
          "text": [
            "\n",
            "Validation set: Average loss: 0.0006, Accuracy: 4649/5000 (92.98%)\n",
            "\n",
            "\n",
            "Test set: Average loss: 0.3100, Accuracy: 9219/10000 (92.19%)\n",
            "\n",
            "EPOCHS : 115\n"
          ]
        },
        {
          "output_type": "stream",
          "name": "stderr",
          "text": [
            "Batch_id=87 Batch Loss=0.01789652183651924 Running Loss=1.24852827610448 Running Accuracy=99.62: 100%|██████████| 88/88 [00:50<00:00,  1.73it/s]\n"
          ]
        },
        {
          "output_type": "stream",
          "name": "stdout",
          "text": [
            "\n",
            "Validation set: Average loss: 0.0006, Accuracy: 4648/5000 (92.96%)\n",
            "\n",
            "\n",
            "Test set: Average loss: 0.3101, Accuracy: 9225/10000 (92.25%)\n",
            "\n",
            "EPOCHS : 116\n"
          ]
        },
        {
          "output_type": "stream",
          "name": "stderr",
          "text": [
            "Batch_id=87 Batch Loss=0.015344732441008091 Running Loss=1.182471286971122 Running Accuracy=99.65: 100%|██████████| 88/88 [00:51<00:00,  1.70it/s]\n"
          ]
        },
        {
          "output_type": "stream",
          "name": "stdout",
          "text": [
            "\n",
            "Validation set: Average loss: 0.0006, Accuracy: 4650/5000 (93.00%)\n",
            "\n",
            "\n",
            "Test set: Average loss: 0.3108, Accuracy: 9225/10000 (92.25%)\n",
            "\n",
            "EPOCHS : 117\n"
          ]
        },
        {
          "output_type": "stream",
          "name": "stderr",
          "text": [
            "Batch_id=87 Batch Loss=0.016908379271626472 Running Loss=1.2507024556398392 Running Accuracy=99.61: 100%|██████████| 88/88 [00:51<00:00,  1.71it/s]\n"
          ]
        },
        {
          "output_type": "stream",
          "name": "stdout",
          "text": [
            "\n",
            "Validation set: Average loss: 0.0006, Accuracy: 4652/5000 (93.04%)\n",
            "\n",
            "\n",
            "Test set: Average loss: 0.3092, Accuracy: 9224/10000 (92.24%)\n",
            "\n",
            "EPOCHS : 118\n"
          ]
        },
        {
          "output_type": "stream",
          "name": "stderr",
          "text": [
            "Batch_id=87 Batch Loss=0.010430908761918545 Running Loss=1.220854586455971 Running Accuracy=99.62: 100%|██████████| 88/88 [00:51<00:00,  1.72it/s]\n"
          ]
        },
        {
          "output_type": "stream",
          "name": "stdout",
          "text": [
            "\n",
            "Validation set: Average loss: 0.0006, Accuracy: 4651/5000 (93.02%)\n",
            "\n",
            "\n",
            "Test set: Average loss: 0.3099, Accuracy: 9218/10000 (92.18%)\n",
            "\n",
            "EPOCHS : 119\n"
          ]
        },
        {
          "output_type": "stream",
          "name": "stderr",
          "text": [
            "Batch_id=87 Batch Loss=0.028005326166749 Running Loss=1.186634311452508 Running Accuracy=99.62: 100%|██████████| 88/88 [00:50<00:00,  1.73it/s]\n"
          ]
        },
        {
          "output_type": "stream",
          "name": "stdout",
          "text": [
            "\n",
            "Validation set: Average loss: 0.0006, Accuracy: 4649/5000 (92.98%)\n",
            "\n",
            "\n",
            "Test set: Average loss: 0.3108, Accuracy: 9212/10000 (92.12%)\n",
            "\n"
          ]
        }
      ],
      "source": [
        "# Training the model\n",
        "\n",
        "train_acc = []\n",
        "train_losses = []\n",
        "valid_accs = []\n",
        "valid_losses = []\n",
        "test_acc = []\n",
        "test_losses = []\n",
        "min_valid_loss = None\n",
        "max_acc = None\n",
        "\n",
        "EPOCHS = 120\n",
        "\n",
        "for i in range(EPOCHS):\n",
        "    print(f'EPOCHS : {i}')\n",
        "    model_training(model, device, trainloader, optimizer, train_acc, train_losses)\n",
        "\n",
        "    # Validating the model for the current epoch\n",
        "    valid_loss, valid_acc = model_evaluation(model, device, validloader)  \n",
        "\n",
        "    valid_losses.append(valid_loss)\n",
        "    valid_accs.append(valid_acc)\n",
        "\n",
        "    if not min_valid_loss:\n",
        "      min_valid_loss = valid_loss\n",
        "    else:\n",
        "      if valid_loss < min_valid_loss:\n",
        "        min_valid_loss = valid_loss\n",
        "        torch.save(model, \"best_model.pickle\")\n",
        "\n",
        "    scheduler.step(train_losses[-1])\n",
        "    # scheduler.step(valid_loss)\n",
        "\n",
        "    misclassified, test_acc2 = model_testing(model, device, testloader, test_acc, test_losses)\n",
        "\n",
        "    if not max_acc:\n",
        "      max_acc = test_acc2\n",
        "    else:\n",
        "      if test_acc2 > max_acc:\n",
        "        max_acc = test_acc2\n",
        "        torch.save(model, \"best_test_acc_model.pickle\")\n",
        "\n",
        "    save_to_csv(\"7_resnet_3_3_3_inchannels_64.csv\", train_losses, train_acc, test_losses, test_acc)\n"
      ]
    },
    {
      "cell_type": "markdown",
      "source": [
        "Printing out the model with best \"valid accuray\" and best \"test accuracy\" below:"
      ],
      "metadata": {
        "id": "QqNAjSvpP7ak"
      }
    },
    {
      "cell_type": "code",
      "source": [
        "# Best model\n",
        "model1 = torch.load(\"best_model.pickle\")\n",
        "model2 = torch.load(\"best_test_acc_model.pickle\")\n",
        "misclassified, _acc = model_testing(model, device, testloader, test_acc, test_losses)\n",
        "misclassified, _acc = model_testing(model2, device, testloader, test_acc, test_losses)"
      ],
      "metadata": {
        "colab": {
          "base_uri": "https://localhost:8080/"
        },
        "id": "ocguQ5Q9p1Kt",
        "outputId": "7fd8d970-7651-46d7-d364-9c38531c19a2"
      },
      "execution_count": null,
      "outputs": [
        {
          "output_type": "stream",
          "name": "stdout",
          "text": [
            "\n",
            "Test set: Average loss: 0.3108, Accuracy: 9212/10000 (92.12%)\n",
            "\n",
            "\n",
            "Test set: Average loss: 0.3097, Accuracy: 9228/10000 (92.28%)\n",
            "\n"
          ]
        }
      ]
    },
    {
      "cell_type": "markdown",
      "source": [
        "Plotting test and train accuracy/losses vs epochs:"
      ],
      "metadata": {
        "id": "oX19gMBYQAzH"
      }
    },
    {
      "cell_type": "code",
      "execution_count": null,
      "metadata": {
        "execution": {
          "iopub.execute_input": "2020-09-18T14:33:11.004455Z",
          "iopub.status.busy": "2020-09-18T14:33:11.003592Z",
          "iopub.status.idle": "2020-09-18T14:33:11.886161Z",
          "shell.execute_reply": "2020-09-18T14:33:11.885385Z"
        },
        "papermill": {
          "duration": 4.212753,
          "end_time": "2020-09-18T14:33:11.886294",
          "exception": false,
          "start_time": "2020-09-18T14:33:07.673541",
          "status": "completed"
        },
        "tags": [],
        "colab": {
          "base_uri": "https://localhost:8080/",
          "height": 914
        },
        "id": "3pYBPl8HKs_o",
        "outputId": "a21cb21c-9c5b-4c14-d136-4815ad3c85ce"
      },
      "outputs": [
        {
          "output_type": "execute_result",
          "data": {
            "text/plain": [
              "[<matplotlib.lines.Line2D at 0x7f799b5d87d0>]"
            ]
          },
          "metadata": {},
          "execution_count": 18
        },
        {
          "output_type": "display_data",
          "data": {
            "text/plain": [
              "<Figure size 1800x1440 with 4 Axes>"
            ],
            "image/png": "[encoded data removed]"
          },
          "metadata": {
            "needs_background": "light"
          }
        }
      ],
      "source": [
        "fig, axs = plt.subplots(2,2, figsize=(25,20))\n",
        "\n",
        "axs[0,0].set_title('Train Losses')\n",
        "axs[0,1].set_title('Training Accuracy')\n",
        "axs[1,0].set_title('Test Losses')\n",
        "axs[1,1].set_title('Test Accuracy')\n",
        "\n",
        "axs[0,0].plot(train_losses)\n",
        "axs[0,1].plot(train_acc)\n",
        "axs[1,0].plot(test_losses)\n",
        "axs[1,1].plot(test_acc)"
      ]
    },
    {
      "cell_type": "code",
      "source": [],
      "metadata": {
        "id": "DlPU6Co4ns_R"
      },
      "execution_count": null,
      "outputs": []
    }
  ],
  "metadata": {
    "kernelspec": {
      "display_name": "Python 3",
      "language": "python",
      "name": "python3"
    },
    "language_info": {
      "codemirror_mode": {
        "name": "ipython",
        "version": 3
      },
      "file_extension": ".py",
      "mimetype": "text/x-python",
      "name": "python",
      "nbconvert_exporter": "python",
      "pygments_lexer": "ipython3",
      "version": "3.7.6"
    },
    "papermill": {
      "duration": 1617.594216,
      "end_time": "2020-09-18T14:33:16.593563",
      "environment_variables": {},
      "exception": null,
      "input_path": "__notebook__.ipynb",
      "output_path": "__notebook__.ipynb",
      "parameters": {},
      "start_time": "2020-09-18T14:06:18.999347",
      "version": "2.1.0"
    },
    "colab": {
      "provenance": [],
      "machine_shape": "hm"
    },
    "accelerator": "GPU",
    "gpuClass": "standard",
    "widgets": {
      "application/vnd.jupyter.widget-state+json": {
        "baa4e48b4b6340ef8589d1b9d237571d": {
          "model_module": "@jupyter-widgets/controls",
          "model_name": "HBoxModel",
          "model_module_version": "1.5.0",
          "state": {
            "_dom_classes": [],
            "_model_module": "@jupyter-widgets/controls",
            "_model_module_version": "1.5.0",
            "_model_name": "HBoxModel",
            "_view_count": null,
            "_view_module": "@jupyter-widgets/controls",
            "_view_module_version": "1.5.0",
            "_view_name": "HBoxView",
            "box_style": "",
            "children": [
              "IPY_MODEL_60dfa77629664250bd90639955b7c827",
              "IPY_MODEL_b7029b6f0b0649d59468847f24282395",
              "IPY_MODEL_4cc9214b52c34a648c080481575c5285"
            ],
            "layout": "IPY_MODEL_1ce3b0e509614fec97da0238e2d19c94"
          }
        },
        "60dfa77629664250bd90639955b7c827": {
          "model_module": "@jupyter-widgets/controls",
          "model_name": "HTMLModel",
          "model_module_version": "1.5.0",
          "state": {
            "_dom_classes": [],
            "_model_module": "@jupyter-widgets/controls",
            "_model_module_version": "1.5.0",
            "_model_name": "HTMLModel",
            "_view_count": null,
            "_view_module": "@jupyter-widgets/controls",
            "_view_module_version": "1.5.0",
            "_view_name": "HTMLView",
            "description": "",
            "description_tooltip": null,
            "layout": "IPY_MODEL_7c0557377d584ed8b367bd4f683a232f",
            "placeholder": "​",
            "style": "IPY_MODEL_fb0597d5b491415a8077a195a36f4c8b",
            "value": "100%"
          }
        },
        "b7029b6f0b0649d59468847f24282395": {
          "model_module": "@jupyter-widgets/controls",
          "model_name": "FloatProgressModel",
          "model_module_version": "1.5.0",
          "state": {
            "_dom_classes": [],
            "_model_module": "@jupyter-widgets/controls",
            "_model_module_version": "1.5.0",
            "_model_name": "FloatProgressModel",
            "_view_count": null,
            "_view_module": "@jupyter-widgets/controls",
            "_view_module_version": "1.5.0",
            "_view_name": "ProgressView",
            "bar_style": "success",
            "description": "",
            "description_tooltip": null,
            "layout": "IPY_MODEL_d3ae4fa708d3465d82886851672a5234",
            "max": 170498071,
            "min": 0,
            "orientation": "horizontal",
            "style": "IPY_MODEL_b0e635bc64134080ace6c50c6f0d61bb",
            "value": 170498071
          }
        },
        "4cc9214b52c34a648c080481575c5285": {
          "model_module": "@jupyter-widgets/controls",
          "model_name": "HTMLModel",
          "model_module_version": "1.5.0",
          "state": {
            "_dom_classes": [],
            "_model_module": "@jupyter-widgets/controls",
            "_model_module_version": "1.5.0",
            "_model_name": "HTMLModel",
            "_view_count": null,
            "_view_module": "@jupyter-widgets/controls",
            "_view_module_version": "1.5.0",
            "_view_name": "HTMLView",
            "description": "",
            "description_tooltip": null,
            "layout": "IPY_MODEL_546f93d67f02457cbfc0eddd1e6f2abd",
            "placeholder": "​",
            "style": "IPY_MODEL_198fceaf0094420c8e6b2e4d58b7e5cc",
            "value": " 170498071/170498071 [00:03&lt;00:00, 44771782.09it/s]"
          }
        },
        "1ce3b0e509614fec97da0238e2d19c94": {
          "model_module": "@jupyter-widgets/base",
          "model_name": "LayoutModel",
          "model_module_version": "1.2.0",
          "state": {
            "_model_module": "@jupyter-widgets/base",
            "_model_module_version": "1.2.0",
            "_model_name": "LayoutModel",
            "_view_count": null,
            "_view_module": "@jupyter-widgets/base",
            "_view_module_version": "1.2.0",
            "_view_name": "LayoutView",
            "align_content": null,
            "align_items": null,
            "align_self": null,
            "border": null,
            "bottom": null,
            "display": null,
            "flex": null,
            "flex_flow": null,
            "grid_area": null,
            "grid_auto_columns": null,
            "grid_auto_flow": null,
            "grid_auto_rows": null,
            "grid_column": null,
            "grid_gap": null,
            "grid_row": null,
            "grid_template_areas": null,
            "grid_template_columns": null,
            "grid_template_rows": null,
            "height": null,
            "justify_content": null,
            "justify_items": null,
            "left": null,
            "margin": null,
            "max_height": null,
            "max_width": null,
            "min_height": null,
            "min_width": null,
            "object_fit": null,
            "object_position": null,
            "order": null,
            "overflow": null,
            "overflow_x": null,
            "overflow_y": null,
            "padding": null,
            "right": null,
            "top": null,
            "visibility": null,
            "width": null
          }
        },
        "7c0557377d584ed8b367bd4f683a232f": {
          "model_module": "@jupyter-widgets/base",
          "model_name": "LayoutModel",
          "model_module_version": "1.2.0",
          "state": {
            "_model_module": "@jupyter-widgets/base",
            "_model_module_version": "1.2.0",
            "_model_name": "LayoutModel",
            "_view_count": null,
            "_view_module": "@jupyter-widgets/base",
            "_view_module_version": "1.2.0",
            "_view_name": "LayoutView",
            "align_content": null,
            "align_items": null,
            "align_self": null,
            "border": null,
            "bottom": null,
            "display": null,
            "flex": null,
            "flex_flow": null,
            "grid_area": null,
            "grid_auto_columns": null,
            "grid_auto_flow": null,
            "grid_auto_rows": null,
            "grid_column": null,
            "grid_gap": null,
            "grid_row": null,
            "grid_template_areas": null,
            "grid_template_columns": null,
            "grid_template_rows": null,
            "height": null,
            "justify_content": null,
            "justify_items": null,
            "left": null,
            "margin": null,
            "max_height": null,
            "max_width": null,
            "min_height": null,
            "min_width": null,
            "object_fit": null,
            "object_position": null,
            "order": null,
            "overflow": null,
            "overflow_x": null,
            "overflow_y": null,
            "padding": null,
            "right": null,
            "top": null,
            "visibility": null,
            "width": null
          }
        },
        "fb0597d5b491415a8077a195a36f4c8b": {
          "model_module": "@jupyter-widgets/controls",
          "model_name": "DescriptionStyleModel",
          "model_module_version": "1.5.0",
          "state": {
            "_model_module": "@jupyter-widgets/controls",
            "_model_module_version": "1.5.0",
            "_model_name": "DescriptionStyleModel",
            "_view_count": null,
            "_view_module": "@jupyter-widgets/base",
            "_view_module_version": "1.2.0",
            "_view_name": "StyleView",
            "description_width": ""
          }
        },
        "d3ae4fa708d3465d82886851672a5234": {
          "model_module": "@jupyter-widgets/base",
          "model_name": "LayoutModel",
          "model_module_version": "1.2.0",
          "state": {
            "_model_module": "@jupyter-widgets/base",
            "_model_module_version": "1.2.0",
            "_model_name": "LayoutModel",
            "_view_count": null,
            "_view_module": "@jupyter-widgets/base",
            "_view_module_version": "1.2.0",
            "_view_name": "LayoutView",
            "align_content": null,
            "align_items": null,
            "align_self": null,
            "border": null,
            "bottom": null,
            "display": null,
            "flex": null,
            "flex_flow": null,
            "grid_area": null,
            "grid_auto_columns": null,
            "grid_auto_flow": null,
            "grid_auto_rows": null,
            "grid_column": null,
            "grid_gap": null,
            "grid_row": null,
            "grid_template_areas": null,
            "grid_template_columns": null,
            "grid_template_rows": null,
            "height": null,
            "justify_content": null,
            "justify_items": null,
            "left": null,
            "margin": null,
            "max_height": null,
            "max_width": null,
            "min_height": null,
            "min_width": null,
            "object_fit": null,
            "object_position": null,
            "order": null,
            "overflow": null,
            "overflow_x": null,
            "overflow_y": null,
            "padding": null,
            "right": null,
            "top": null,
            "visibility": null,
            "width": null
          }
        },
        "b0e635bc64134080ace6c50c6f0d61bb": {
          "model_module": "@jupyter-widgets/controls",
          "model_name": "ProgressStyleModel",
          "model_module_version": "1.5.0",
          "state": {
            "_model_module": "@jupyter-widgets/controls",
            "_model_module_version": "1.5.0",
            "_model_name": "ProgressStyleModel",
            "_view_count": null,
            "_view_module": "@jupyter-widgets/base",
            "_view_module_version": "1.2.0",
            "_view_name": "StyleView",
            "bar_color": null,
            "description_width": ""
          }
        },
        "546f93d67f02457cbfc0eddd1e6f2abd": {
          "model_module": "@jupyter-widgets/base",
          "model_name": "LayoutModel",
          "model_module_version": "1.2.0",
          "state": {
            "_model_module": "@jupyter-widgets/base",
            "_model_module_version": "1.2.0",
            "_model_name": "LayoutModel",
            "_view_count": null,
            "_view_module": "@jupyter-widgets/base",
            "_view_module_version": "1.2.0",
            "_view_name": "LayoutView",
            "align_content": null,
            "align_items": null,
            "align_self": null,
            "border": null,
            "bottom": null,
            "display": null,
            "flex": null,
            "flex_flow": null,
            "grid_area": null,
            "grid_auto_columns": null,
            "grid_auto_flow": null,
            "grid_auto_rows": null,
            "grid_column": null,
            "grid_gap": null,
            "grid_row": null,
            "grid_template_areas": null,
            "grid_template_columns": null,
            "grid_template_rows": null,
            "height": null,
            "justify_content": null,
            "justify_items": null,
            "left": null,
            "margin": null,
            "max_height": null,
            "max_width": null,
            "min_height": null,
            "min_width": null,
            "object_fit": null,
            "object_position": null,
            "order": null,
            "overflow": null,
            "overflow_x": null,
            "overflow_y": null,
            "padding": null,
            "right": null,
            "top": null,
            "visibility": null,
            "width": null
          }
        },
        "198fceaf0094420c8e6b2e4d58b7e5cc": {
          "model_module": "@jupyter-widgets/controls",
          "model_name": "DescriptionStyleModel",
          "model_module_version": "1.5.0",
          "state": {
            "_model_module": "@jupyter-widgets/controls",
            "_model_module_version": "1.5.0",
            "_model_name": "DescriptionStyleModel",
            "_view_count": null,
            "_view_module": "@jupyter-widgets/base",
            "_view_module_version": "1.2.0",
            "_view_name": "StyleView",
            "description_width": ""
          }
        }
      }
    }
  },
  "nbformat": 4,
  "nbformat_minor": 0
}