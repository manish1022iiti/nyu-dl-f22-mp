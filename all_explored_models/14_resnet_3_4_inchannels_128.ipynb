{
  "cells": [
    {
      "cell_type": "markdown",
      "source": [
        "https://www.kaggle.com/code/greatcodes/pytorch-cnn-resnet18-cifar10/notebook\n",
        "\n",
        "https://pytorch-tutorial.readthedocs.io/en/latest/tutorial/chapter03_intermediate/3_2_2_cnn_resnet_cifar10/"
      ],
      "metadata": {
        "id": "TS3R6-AKKuSD"
      }
    },
    {
      "cell_type": "code",
      "execution_count": 1,
      "metadata": {
        "execution": {
          "iopub.execute_input": "2020-09-18T14:06:23.323276Z",
          "iopub.status.busy": "2020-09-18T14:06:23.322403Z",
          "iopub.status.idle": "2020-09-18T14:06:33.073785Z",
          "shell.execute_reply": "2020-09-18T14:06:33.073171Z"
        },
        "papermill": {
          "duration": 9.766997,
          "end_time": "2020-09-18T14:06:33.073915",
          "exception": false,
          "start_time": "2020-09-18T14:06:23.306918",
          "status": "completed"
        },
        "tags": [],
        "colab": {
          "base_uri": "https://localhost:8080/"
        },
        "id": "40qwzP9AKs_c",
        "outputId": "f367c905-5d72-41c6-b9a4-9cdd6ba7d060"
      },
      "outputs": [
        {
          "output_type": "stream",
          "name": "stdout",
          "text": [
            "Looking in indexes: https://pypi.org/simple, https://us-python.pkg.dev/colab-wheels/public/simple/\n",
            "Requirement already satisfied: torchsummary in /usr/local/lib/python3.7/dist-packages (1.5.1)\n"
          ]
        }
      ],
      "source": [
        "!pip install torchsummary"
      ]
    },
    {
      "cell_type": "code",
      "execution_count": 2,
      "metadata": {
        "_cell_guid": "79c7e3d0-c299-4dcb-8224-4455121ee9b0",
        "_uuid": "d629ff2d2480ee46fbb7e2d37f6b5fab8052498a",
        "execution": {
          "iopub.execute_input": "2020-09-18T14:06:33.110540Z",
          "iopub.status.busy": "2020-09-18T14:06:33.109616Z",
          "iopub.status.idle": "2020-09-18T14:06:34.741497Z",
          "shell.execute_reply": "2020-09-18T14:06:34.742236Z"
        },
        "papermill": {
          "duration": 1.655486,
          "end_time": "2020-09-18T14:06:34.742433",
          "exception": false,
          "start_time": "2020-09-18T14:06:33.086947",
          "status": "completed"
        },
        "tags": [],
        "colab": {
          "base_uri": "https://localhost:8080/"
        },
        "id": "1L1ayeUjKs_d",
        "outputId": "2b9714eb-f1cf-46ef-d6e8-11328ad633fd"
      },
      "outputs": [
        {
          "output_type": "stream",
          "name": "stdout",
          "text": [
            "cuda\n"
          ]
        }
      ],
      "source": [
        "# Importing Libraries\n",
        "import os\n",
        "import copy\n",
        "import random\n",
        "import numpy as np\n",
        "import pandas as pd\n",
        "import torch\n",
        "import torchvision\n",
        "import torchvision.transforms as transforms\n",
        "from torchsummary import summary\n",
        "import torch.utils.data as data\n",
        "import torch.nn as nn\n",
        "import torch.nn.functional as F\n",
        "import torch.optim as optim\n",
        "from torch.optim.lr_scheduler import StepLR, ReduceLROnPlateau\n",
        "\n",
        "import matplotlib.pyplot as plt\n",
        "%matplotlib inline\n",
        "\n",
        "SEED = 1234\n",
        "\n",
        "device = \"cuda\" if torch.cuda.is_available else \"cpu\"\n",
        "print(device)"
      ]
    },
    {
      "cell_type": "code",
      "execution_count": 3,
      "metadata": {
        "execution": {
          "iopub.execute_input": "2020-09-18T14:06:34.781123Z",
          "iopub.status.busy": "2020-09-18T14:06:34.780293Z",
          "iopub.status.idle": "2020-09-18T14:06:34.784939Z",
          "shell.execute_reply": "2020-09-18T14:06:34.784333Z"
        },
        "papermill": {
          "duration": 0.028551,
          "end_time": "2020-09-18T14:06:34.785089",
          "exception": false,
          "start_time": "2020-09-18T14:06:34.756538",
          "status": "completed"
        },
        "tags": [],
        "id": "s_5gkccjKs_e"
      },
      "outputs": [],
      "source": [
        "from torchvision import transforms\n",
        "import numpy as np\n",
        "import torch\n",
        "\n",
        "# Returns a list of transformations when called\n",
        "\n",
        "class GetTransforms():\n",
        "    '''Returns a list of transformations when type as requested amongst train/test\n",
        "       Transforms('train') = list of transforms to apply on training data\n",
        "       Transforms('test') = list of transforms to apply on testing data'''\n",
        "\n",
        "    def __init__(self):\n",
        "        pass\n",
        "\n",
        "    def trainparams(self):\n",
        "        train_transformations = [ #resises the image so it can be perfect for our model.\n",
        "            transforms.RandomHorizontalFlip(), # FLips the image w.r.t horizontal axis\n",
        "            transforms.RandomRotation((-7,7)),     #Rotates the image to a specified angel\n",
        "            transforms.RandomAffine(0, shear=10, scale=(0.8,1.2)), #Performs actions like zooms, change shear angles.\n",
        "            transforms.ColorJitter(brightness=0.2, contrast=0.2, saturation=0.2), # Set the color params\n",
        "            transforms.ToTensor(), # comvert the image to tensor so that it can work with torch\n",
        "            transforms.Normalize((0.491, 0.482, 0.446), (0.247, 0.243, 0.261)) #Normalize all the images\n",
        "            ]\n",
        "\n",
        "        return train_transformations\n",
        "\n",
        "    def testparams(self):\n",
        "        test_transforms = [\n",
        "            transforms.ToTensor(),\n",
        "            transforms.Normalize((0.491, 0.482, 0.446), (0.247, 0.243, 0.261))\n",
        "        ]\n",
        "        return test_transforms"
      ]
    },
    {
      "cell_type": "code",
      "execution_count": 4,
      "metadata": {
        "execution": {
          "iopub.execute_input": "2020-09-18T14:06:34.822176Z",
          "iopub.status.busy": "2020-09-18T14:06:34.821389Z",
          "iopub.status.idle": "2020-09-18T14:06:34.824928Z",
          "shell.execute_reply": "2020-09-18T14:06:34.825448Z"
        },
        "papermill": {
          "duration": 0.026239,
          "end_time": "2020-09-18T14:06:34.825574",
          "exception": false,
          "start_time": "2020-09-18T14:06:34.799335",
          "status": "completed"
        },
        "tags": [],
        "id": "TUmYFrWSKs_g"
      },
      "outputs": [],
      "source": [
        "from torchvision import datasets\n",
        "from torchvision import transforms\n",
        "\n",
        "\n",
        "transformations = GetTransforms()\n",
        "train_transforms = transforms.Compose(transformations.trainparams())\n",
        "test_transforms = transforms.Compose(transformations.testparams())\n",
        "\n",
        "\n",
        "class GetCIFAR10_TrainData():\n",
        "    def __init__(self, dir_name:str):\n",
        "        self.dirname = dir_name\n",
        "\n",
        "    def download_train_data(self):\n",
        "        return datasets.CIFAR10('./data', train=True, download=True, transform=train_transforms)\n",
        "\n",
        "    def download_test_data(self):\n",
        "        return datasets.CIFAR10('./data', train=False, download=True, transform=test_transforms)\n"
      ]
    },
    {
      "cell_type": "code",
      "execution_count": 5,
      "metadata": {
        "execution": {
          "iopub.execute_input": "2020-09-18T14:06:34.859536Z",
          "iopub.status.busy": "2020-09-18T14:06:34.858878Z",
          "iopub.status.idle": "2020-09-18T14:06:42.631720Z",
          "shell.execute_reply": "2020-09-18T14:06:42.631008Z"
        },
        "papermill": {
          "duration": 7.792606,
          "end_time": "2020-09-18T14:06:42.631847",
          "exception": false,
          "start_time": "2020-09-18T14:06:34.839241",
          "status": "completed"
        },
        "tags": [],
        "colab": {
          "base_uri": "https://localhost:8080/",
          "height": 101,
          "referenced_widgets": [
            "d3717d066600486182ea61be51ab5879",
            "55801e7d44524cb4afedb2efd7e124ae",
            "177ec44e48b947118485a71ccd5cca81",
            "1f023886dc714a9fbc61952134e44b91",
            "59b7cf99004f4b81867e3aba43f70ce8",
            "7c91c8a0ba6e4eee9e6d387c0da345cb",
            "f71a756f55df44bda6f0929064ddb48a",
            "1355cbf4b3d44853a925ac83f51dd618",
            "65c975fb7236402ea8c0552f85736363",
            "a2ad9fcc359d4e2e9957e323f553b38a",
            "05d511c2cf154b60aa5ac68646af2efd"
          ]
        },
        "id": "U8mSINXnKs_i",
        "outputId": "ebf41a26-6185-49f5-bf81-eb7ca0cd0de7"
      },
      "outputs": [
        {
          "output_type": "stream",
          "name": "stdout",
          "text": [
            "Downloading https://www.cs.toronto.edu/~kriz/cifar-10-python.tar.gz to ./data/cifar-10-python.tar.gz\n"
          ]
        },
        {
          "output_type": "display_data",
          "data": {
            "text/plain": [
              "  0%|          | 0/170498071 [00:00<?, ?it/s]"
            ],
            "application/vnd.jupyter.widget-view+json": {
              "version_major": 2,
              "version_minor": 0,
              "model_id": "d3717d066600486182ea61be51ab5879"
            }
          },
          "metadata": {}
        },
        {
          "output_type": "stream",
          "name": "stdout",
          "text": [
            "Extracting ./data/cifar-10-python.tar.gz to ./data\n",
            "Files already downloaded and verified\n"
          ]
        }
      ],
      "source": [
        "cdata = GetCIFAR10_TrainData(os.chdir(\"..\"))\n",
        "trainset = cdata.download_train_data()\n",
        "testset = cdata.download_test_data()\n",
        "\n",
        "VALID_RATIO = 0.9\n",
        "n_train_examples = int(len(trainset) * VALID_RATIO)\n",
        "n_valid_examples = len(trainset) - n_train_examples\n",
        "\n",
        "trainset, validset = data.random_split(trainset, \n",
        "                                           [n_train_examples, n_valid_examples])\n",
        "\n",
        "validset = copy.deepcopy(validset)\n",
        "validset.dataset.transform = test_transforms"
      ]
    },
    {
      "cell_type": "code",
      "source": [
        "len(trainset), len(validset), len(testset)"
      ],
      "metadata": {
        "colab": {
          "base_uri": "https://localhost:8080/"
        },
        "id": "W_h-ul9MYUPZ",
        "outputId": "2299c6fd-738b-4b11-803e-3fd7548e361c"
      },
      "execution_count": 6,
      "outputs": [
        {
          "output_type": "execute_result",
          "data": {
            "text/plain": [
              "(45000, 5000, 10000)"
            ]
          },
          "metadata": {},
          "execution_count": 6
        }
      ]
    },
    {
      "cell_type": "code",
      "source": [
        "BATCH_SIZE = 512\n",
        "\n",
        "trainloader = torch.utils.data.DataLoader(trainset, batch_size=BATCH_SIZE,\n",
        "                                          shuffle=True, num_workers=2)\n",
        "validloader = torch.utils.data.DataLoader(validset, batch_size=BATCH_SIZE,\n",
        "                                          shuffle=False, num_workers=2)\n",
        "testloader = torch.utils.data.DataLoader(testset, batch_size=BATCH_SIZE,\n",
        "                                         shuffle=False, num_workers=2)"
      ],
      "metadata": {
        "id": "uybGoOcRQA6S"
      },
      "execution_count": 7,
      "outputs": []
    },
    {
      "cell_type": "markdown",
      "metadata": {
        "papermill": {
          "duration": 0.01586,
          "end_time": "2020-09-18T14:06:42.663889",
          "exception": false,
          "start_time": "2020-09-18T14:06:42.648029",
          "status": "completed"
        },
        "tags": [],
        "id": "H6YIObpwKs_j"
      },
      "source": [
        "# The Model - RESNET18\n"
      ]
    },
    {
      "cell_type": "code",
      "source": [
        "# 3x3 convolution\n",
        "def conv3x3(in_channels, out_channels, stride=1):\n",
        "    return nn.Conv2d(in_channels, out_channels, kernel_size=3, \n",
        "                     stride=stride, padding=1, bias=False)"
      ],
      "metadata": {
        "id": "G9TNZ9fONNbW"
      },
      "execution_count": 8,
      "outputs": []
    },
    {
      "cell_type": "code",
      "execution_count": 25,
      "metadata": {
        "execution": {
          "iopub.execute_input": "2020-09-18T14:06:42.726092Z",
          "iopub.status.busy": "2020-09-18T14:06:42.719704Z",
          "iopub.status.idle": "2020-09-18T14:06:42.729169Z",
          "shell.execute_reply": "2020-09-18T14:06:42.728568Z"
        },
        "papermill": {
          "duration": 0.048555,
          "end_time": "2020-09-18T14:06:42.729267",
          "exception": false,
          "start_time": "2020-09-18T14:06:42.680712",
          "status": "completed"
        },
        "tags": [],
        "id": "yJJ0Idu8Ks_j"
      },
      "outputs": [],
      "source": [
        "# Residual block\n",
        "class ResidualBlock(nn.Module):\n",
        "    def __init__(self, in_channels, out_channels, stride=1, downsample=None):\n",
        "        super(ResidualBlock, self).__init__()\n",
        "        \n",
        "        self.conv1 = conv3x3(in_channels, out_channels, stride)\n",
        "        self.bn1 = nn.BatchNorm2d(out_channels)\n",
        "        self.dropout1 = nn.Dropout(0.1)\n",
        "        \n",
        "        self.relu = nn.ReLU(inplace=True)\n",
        "        \n",
        "        self.conv2 = conv3x3(out_channels, out_channels)\n",
        "        self.bn2 = nn.BatchNorm2d(out_channels)\n",
        "        self.dropout2 = nn.Dropout(0.1)\n",
        "        \n",
        "        self.downsample = downsample\n",
        "\n",
        "    def forward(self, x):\n",
        "        residual = x\n",
        "\n",
        "        out = self.conv1(x)\n",
        "        out = self.bn1(out)\n",
        "        # out = self.dropout1(out)\n",
        "        out = self.relu(out)\n",
        "        \n",
        "        out = self.conv2(out)\n",
        "        out = self.bn2(out)\n",
        "        # out = self.dropout2(out)\n",
        "        if self.downsample:\n",
        "            residual = self.downsample(x)\n",
        "        out += residual\n",
        "        out = self.relu(out)\n",
        "        \n",
        "        return out\n",
        "\n",
        "# ResNet\n",
        "class ResNet(nn.Module):\n",
        "    def __init__(self, block, layers, num_classes=10):\n",
        "        super(ResNet, self).__init__()\n",
        "        \n",
        "        self.in_channels = 128\n",
        "        \n",
        "        self.conv = conv3x3(in_channels=3, out_channels=128)\n",
        "        self.bn = nn.BatchNorm2d(128)\n",
        "        self.relu = nn.ReLU(inplace=True)\n",
        "\n",
        "        self.layer1 = self.make_layer(block=block, out_channels=128, blocks=layers[0], stride=1)\n",
        "        self.layer2 = self.make_layer(block=block, out_channels=256, blocks=layers[1], stride=2)\n",
        "        # self.layer3 = self.make_layer(block=block, out_channels=512, blocks=layers[2], stride=2)\n",
        "        # self.layer4 = self.make_layer(block=block, out_channels=512, blocks=layers[3], stride=2)\n",
        "\n",
        "        self.avg_pool = nn.AvgPool2d(4)\n",
        "        # self.fc = nn.Linear(256, num_classes)\n",
        "        self.fc = nn.Linear(4*4*256, num_classes)\n",
        "\n",
        "    def make_layer(self, block, out_channels, blocks, stride=1):\n",
        "        downsample = None\n",
        "        if (stride != 1) or (self.in_channels != out_channels):\n",
        "            downsample = nn.Sequential(\n",
        "                conv3x3(self.in_channels, out_channels, stride=stride),\n",
        "                nn.BatchNorm2d(out_channels))\n",
        "        layers = []\n",
        "        layers.append(block(self.in_channels, out_channels, stride, downsample))\n",
        "        self.in_channels = out_channels\n",
        "        for i in range(1, blocks):\n",
        "            layers.append(block(out_channels, out_channels))\n",
        "        return nn.Sequential(*layers)\n",
        "\n",
        "    def forward(self, x):\n",
        "        out = self.conv(x)\n",
        "        out = self.bn(out)\n",
        "        out = self.relu(out)\n",
        "        out = self.layer1(out)\n",
        "        out = self.layer2(out)\n",
        "        # out = self.layer3(out)\n",
        "        # out = self.layer4(out)\n",
        "        out = self.avg_pool(out)\n",
        "        out = out.view(out.size(0), -1)\n",
        "        out = self.fc(out)\n",
        "        return F.log_softmax(out, dim=-1)\n",
        "\n",
        "def ResNet18():\n",
        "    # return ResNet(ResidualBlock, [2, 2, 2, 2])\n",
        "    return ResNet(ResidualBlock, [4, 3])"
      ]
    },
    {
      "cell_type": "code",
      "execution_count": 26,
      "metadata": {
        "execution": {
          "iopub.execute_input": "2020-09-18T14:06:42.764813Z",
          "iopub.status.busy": "2020-09-18T14:06:42.764098Z",
          "iopub.status.idle": "2020-09-18T14:06:48.527600Z",
          "shell.execute_reply": "2020-09-18T14:06:48.528219Z"
        },
        "papermill": {
          "duration": 5.783641,
          "end_time": "2020-09-18T14:06:48.528379",
          "exception": false,
          "start_time": "2020-09-18T14:06:42.744738",
          "status": "completed"
        },
        "tags": [],
        "colab": {
          "base_uri": "https://localhost:8080/"
        },
        "id": "INT7cGhKKs_k",
        "outputId": "1a7983bf-99ee-44e1-fdd1-5ef9484a263c"
      },
      "outputs": [
        {
          "output_type": "stream",
          "name": "stdout",
          "text": [
            "----------------------------------------------------------------\n",
            "        Layer (type)               Output Shape         Param #\n",
            "================================================================\n",
            "            Conv2d-1          [-1, 128, 32, 32]           3,456\n",
            "       BatchNorm2d-2          [-1, 128, 32, 32]             256\n",
            "              ReLU-3          [-1, 128, 32, 32]               0\n",
            "            Conv2d-4          [-1, 128, 32, 32]         147,456\n",
            "       BatchNorm2d-5          [-1, 128, 32, 32]             256\n",
            "              ReLU-6          [-1, 128, 32, 32]               0\n",
            "            Conv2d-7          [-1, 128, 32, 32]         147,456\n",
            "       BatchNorm2d-8          [-1, 128, 32, 32]             256\n",
            "              ReLU-9          [-1, 128, 32, 32]               0\n",
            "    ResidualBlock-10          [-1, 128, 32, 32]               0\n",
            "           Conv2d-11          [-1, 128, 32, 32]         147,456\n",
            "      BatchNorm2d-12          [-1, 128, 32, 32]             256\n",
            "             ReLU-13          [-1, 128, 32, 32]               0\n",
            "           Conv2d-14          [-1, 128, 32, 32]         147,456\n",
            "      BatchNorm2d-15          [-1, 128, 32, 32]             256\n",
            "             ReLU-16          [-1, 128, 32, 32]               0\n",
            "    ResidualBlock-17          [-1, 128, 32, 32]               0\n",
            "           Conv2d-18          [-1, 128, 32, 32]         147,456\n",
            "      BatchNorm2d-19          [-1, 128, 32, 32]             256\n",
            "             ReLU-20          [-1, 128, 32, 32]               0\n",
            "           Conv2d-21          [-1, 128, 32, 32]         147,456\n",
            "      BatchNorm2d-22          [-1, 128, 32, 32]             256\n",
            "             ReLU-23          [-1, 128, 32, 32]               0\n",
            "    ResidualBlock-24          [-1, 128, 32, 32]               0\n",
            "           Conv2d-25          [-1, 128, 32, 32]         147,456\n",
            "      BatchNorm2d-26          [-1, 128, 32, 32]             256\n",
            "             ReLU-27          [-1, 128, 32, 32]               0\n",
            "           Conv2d-28          [-1, 128, 32, 32]         147,456\n",
            "      BatchNorm2d-29          [-1, 128, 32, 32]             256\n",
            "             ReLU-30          [-1, 128, 32, 32]               0\n",
            "    ResidualBlock-31          [-1, 128, 32, 32]               0\n",
            "           Conv2d-32          [-1, 256, 16, 16]         294,912\n",
            "      BatchNorm2d-33          [-1, 256, 16, 16]             512\n",
            "             ReLU-34          [-1, 256, 16, 16]               0\n",
            "           Conv2d-35          [-1, 256, 16, 16]         589,824\n",
            "      BatchNorm2d-36          [-1, 256, 16, 16]             512\n",
            "           Conv2d-37          [-1, 256, 16, 16]         294,912\n",
            "      BatchNorm2d-38          [-1, 256, 16, 16]             512\n",
            "             ReLU-39          [-1, 256, 16, 16]               0\n",
            "    ResidualBlock-40          [-1, 256, 16, 16]               0\n",
            "           Conv2d-41          [-1, 256, 16, 16]         589,824\n",
            "      BatchNorm2d-42          [-1, 256, 16, 16]             512\n",
            "             ReLU-43          [-1, 256, 16, 16]               0\n",
            "           Conv2d-44          [-1, 256, 16, 16]         589,824\n",
            "      BatchNorm2d-45          [-1, 256, 16, 16]             512\n",
            "             ReLU-46          [-1, 256, 16, 16]               0\n",
            "    ResidualBlock-47          [-1, 256, 16, 16]               0\n",
            "           Conv2d-48          [-1, 256, 16, 16]         589,824\n",
            "      BatchNorm2d-49          [-1, 256, 16, 16]             512\n",
            "             ReLU-50          [-1, 256, 16, 16]               0\n",
            "           Conv2d-51          [-1, 256, 16, 16]         589,824\n",
            "      BatchNorm2d-52          [-1, 256, 16, 16]             512\n",
            "             ReLU-53          [-1, 256, 16, 16]               0\n",
            "    ResidualBlock-54          [-1, 256, 16, 16]               0\n",
            "        AvgPool2d-55            [-1, 256, 4, 4]               0\n",
            "           Linear-56                   [-1, 10]          40,970\n",
            "================================================================\n",
            "Total params: 4,768,906\n",
            "Trainable params: 4,768,906\n",
            "Non-trainable params: 0\n",
            "----------------------------------------------------------------\n",
            "Input size (MB): 0.01\n",
            "Forward/backward pass size (MB): 42.53\n",
            "Params size (MB): 18.19\n",
            "Estimated Total Size (MB): 60.73\n",
            "----------------------------------------------------------------\n"
          ]
        }
      ],
      "source": [
        "# Importing Model and printing Summary\n",
        "model = ResNet18().to(device)\n",
        "summary(model, input_size=(3,32,32))"
      ]
    },
    {
      "cell_type": "code",
      "execution_count": 27,
      "metadata": {
        "execution": {
          "iopub.execute_input": "2020-09-18T14:06:48.577693Z",
          "iopub.status.busy": "2020-09-18T14:06:48.576994Z",
          "iopub.status.idle": "2020-09-18T14:06:48.581591Z",
          "shell.execute_reply": "2020-09-18T14:06:48.581094Z"
        },
        "papermill": {
          "duration": 0.03332,
          "end_time": "2020-09-18T14:06:48.581710",
          "exception": false,
          "start_time": "2020-09-18T14:06:48.548390",
          "status": "completed"
        },
        "tags": [],
        "id": "-53UyTmsKs_m"
      },
      "outputs": [],
      "source": [
        "from tqdm import tqdm\n",
        "from torch import nn\n",
        "import torch.nn\n",
        "from torch.functional import F\n",
        "import os\n",
        "\n",
        "\n",
        "def model_training(model, device, train_dataloader, optimizer, train_acc, train_losses):\n",
        "            \n",
        "    model.train()\n",
        "    pbar = tqdm(train_dataloader)\n",
        "    correct = 0\n",
        "    processed = 0\n",
        "    running_loss = 0.0\n",
        "\n",
        "    for batch_idx, (data, target) in enumerate(pbar):\n",
        "        data, target = data.to(device), target.to(device)\n",
        "        optimizer.zero_grad()\n",
        "        y_pred = model(data)\n",
        "        loss = F.nll_loss(y_pred, target)\n",
        "        \n",
        "\n",
        "        # train_losses.append(loss.item())\n",
        "        loss.backward()\n",
        "        optimizer.step()\n",
        "\n",
        "        pred = y_pred.argmax(dim=1, keepdim=True)\n",
        "        correct += pred.eq(target.view_as(pred)).sum().item()\n",
        "        processed += len(data)\n",
        "        \n",
        "        # print statistics\n",
        "        \n",
        "        running_loss += loss.item()\n",
        "        pbar.set_description(desc=f'Batch_id={batch_idx} Batch Loss={loss.item()} Running Loss={running_loss} Running Accuracy={100*correct/processed:0.2f}')\n",
        "        # train_acc.append(100*correct/processed)\n",
        "    \n",
        "    train_losses.append(running_loss)\n",
        "    train_acc.append(100*correct/processed)"
      ]
    },
    {
      "cell_type": "code",
      "execution_count": 28,
      "metadata": {
        "execution": {
          "iopub.execute_input": "2020-09-18T14:06:48.629732Z",
          "iopub.status.busy": "2020-09-18T14:06:48.628793Z",
          "iopub.status.idle": "2020-09-18T14:06:48.631384Z",
          "shell.execute_reply": "2020-09-18T14:06:48.631909Z"
        },
        "papermill": {
          "duration": 0.03462,
          "end_time": "2020-09-18T14:06:48.632026",
          "exception": false,
          "start_time": "2020-09-18T14:06:48.597406",
          "status": "completed"
        },
        "tags": [],
        "id": "E4BrK-0EKs_n"
      },
      "outputs": [],
      "source": [
        "import torch\n",
        "import os\n",
        "from torch.functional import F\n",
        "\n",
        "cwd = os.getcwd()\n",
        "\n",
        "def model_testing(model, device, test_dataloader, test_acc, test_losses, misclassified = []):\n",
        "    \n",
        "    model.eval()\n",
        "    test_loss = 0\n",
        "    correct = 0\n",
        "    class_correct = list(0. for i in range(10))\n",
        "    class_total = list(0. for i in range(10))\n",
        "    # label = 0\n",
        "    classes = ('plane', 'car', 'bird', 'cat',\n",
        "           'deer', 'dog', 'frog', 'horse', 'ship', 'truck')\n",
        "    \n",
        "    with torch.no_grad():\n",
        "\n",
        "        for index, (data, target) in enumerate(test_dataloader):\n",
        "            data, target = data.to(device), target.to(device)\n",
        "            output = model(data)\n",
        "            pred = output.argmax(dim=1, keepdim=True)\n",
        "            \n",
        "            for d,i,j in zip(data, pred, target):\n",
        "                if i != j:\n",
        "                    misclassified.append([d.cpu(),i[0].cpu(),j.cpu()])\n",
        "\n",
        "            test_loss += F.nll_loss(output, target, reduction='sum').item()\n",
        "            correct += pred.eq(target.view_as(pred)).sum().item()\n",
        "    test_loss /= len(test_dataloader.dataset)\n",
        "    test_losses.append(test_loss)\n",
        "    \n",
        "    print('\\nTest set: Average loss: {:.4f}, Accuracy: {}/{} ({:.2f}%)\\n'.format(\n",
        "        test_loss, correct, len(test_dataloader.dataset),\n",
        "        100. * correct / len(test_dataloader.dataset)))\n",
        "    \n",
        "    test_acc.append(100. * correct / len(test_dataloader.dataset))\n",
        "    return misclassified, correct / len(test_dataloader.dataset)"
      ]
    },
    {
      "cell_type": "code",
      "source": [
        "def model_evaluation(model, device, loader):\n",
        "    \n",
        "    epoch_loss = 0\n",
        "    epoch_acc = 0\n",
        "    \n",
        "    model.eval()\n",
        "    \n",
        "    with torch.no_grad():\n",
        "        \n",
        "        for (x, y) in loader:\n",
        "\n",
        "            x = x.to(device)\n",
        "            y = y.to(device)\n",
        "\n",
        "            y_pred = model(x)\n",
        "            loss = F.nll_loss(y_pred, y)\n",
        "        \n",
        "            pred = y_pred.argmax(dim=1, keepdim=True)\n",
        "            acc = pred.eq(y.view_as(pred)).sum()\n",
        "\n",
        "            epoch_loss += loss.item()\n",
        "            epoch_acc += acc.item()\n",
        "        \n",
        "    print('\\nValidation set: Average loss: {:.4f}, Accuracy: {}/{} ({:.2f}%)\\n'.format(\n",
        "    epoch_loss / len(loader.dataset), epoch_acc, len(loader.dataset),\n",
        "    100. * epoch_acc / len(loader.dataset)))\n",
        "\n",
        "    return epoch_loss, epoch_acc / len(loader.dataset)"
      ],
      "metadata": {
        "id": "ysDy3WkqUGb-"
      },
      "execution_count": 29,
      "outputs": []
    },
    {
      "cell_type": "code",
      "source": [
        "# Defining parameters\n",
        "\n",
        "criterion = nn.CrossEntropyLoss()\n",
        "\n",
        "# optimizer = optim.SGD(model.parameters(), lr=0.05, momentum=0.9)\n",
        "optimizer = optim.SGD(model.parameters(), lr=0.01, momentum=0.9)\n",
        "\n",
        "scheduler = ReduceLROnPlateau(optimizer, mode='min', factor=0.1, patience=2, threshold=0.0001, threshold_mode='rel', cooldown=0, min_lr=0, eps=1e-08, verbose=True)\n",
        "# scheduler = ReduceLROnPlateau(optimizer, mode='min', factor=0.1, patience=2, threshold=0.001, threshold_mode='rel', cooldown=0, min_lr=0, eps=1e-08, verbose=True)\n",
        "# scheduler = StepLR(optimizer, step_size=15, gamma=0.1)"
      ],
      "metadata": {
        "id": "L7LSCkvhAdb0"
      },
      "execution_count": 30,
      "outputs": []
    },
    {
      "cell_type": "code",
      "execution_count": 31,
      "metadata": {
        "execution": {
          "iopub.execute_input": "2020-09-18T14:06:48.676683Z",
          "iopub.status.busy": "2020-09-18T14:06:48.675972Z",
          "iopub.status.idle": "2020-09-18T14:33:04.548416Z",
          "shell.execute_reply": "2020-09-18T14:33:04.549364Z"
        },
        "papermill": {
          "duration": 1575.900797,
          "end_time": "2020-09-18T14:33:04.549700",
          "exception": false,
          "start_time": "2020-09-18T14:06:48.648903",
          "status": "completed"
        },
        "tags": [],
        "colab": {
          "base_uri": "https://localhost:8080/",
          "height": 1000
        },
        "id": "rtrFA-RCKs_o",
        "outputId": "a089ad55-c895-4e14-fc96-5fb96f3ea8c8"
      },
      "outputs": [
        {
          "output_type": "stream",
          "name": "stdout",
          "text": [
            "EPOCHS : 0\n"
          ]
        },
        {
          "output_type": "stream",
          "name": "stderr",
          "text": [
            "Batch_id=87 Batch Loss=1.709323763847351 Running Loss=246.59327018260956 Running Accuracy=26.03: 100%|██████████| 88/88 [02:50<00:00,  1.94s/it]\n"
          ]
        },
        {
          "output_type": "stream",
          "name": "stdout",
          "text": [
            "\n",
            "Validation set: Average loss: 0.0034, Accuracy: 1893/5000 (37.86%)\n",
            "\n",
            "\n",
            "Test set: Average loss: 1.6967, Accuracy: 3900/10000 (39.00%)\n",
            "\n",
            "EPOCHS : 1\n"
          ]
        },
        {
          "output_type": "stream",
          "name": "stderr",
          "text": [
            "Batch_id=87 Batch Loss=1.5904067754745483 Running Loss=147.25039649009705 Running Accuracy=41.38: 100%|██████████| 88/88 [02:56<00:00,  2.00s/it]\n"
          ]
        },
        {
          "output_type": "stream",
          "name": "stdout",
          "text": [
            "\n",
            "Validation set: Average loss: 0.0028, Accuracy: 2434/5000 (48.68%)\n",
            "\n",
            "\n",
            "Test set: Average loss: 1.4196, Accuracy: 4879/10000 (48.79%)\n",
            "\n",
            "EPOCHS : 2\n"
          ]
        },
        {
          "output_type": "stream",
          "name": "stderr",
          "text": [
            "Batch_id=87 Batch Loss=1.4064764976501465 Running Loss=131.84409737586975 Running Accuracy=47.97: 100%|██████████| 88/88 [02:57<00:00,  2.02s/it]\n"
          ]
        },
        {
          "output_type": "stream",
          "name": "stdout",
          "text": [
            "\n",
            "Validation set: Average loss: 0.0027, Accuracy: 2518/5000 (50.36%)\n",
            "\n",
            "\n",
            "Test set: Average loss: 1.3677, Accuracy: 5042/10000 (50.42%)\n",
            "\n",
            "EPOCHS : 3\n"
          ]
        },
        {
          "output_type": "stream",
          "name": "stderr",
          "text": [
            "Batch_id=87 Batch Loss=1.170790433883667 Running Loss=121.2955619096756 Running Accuracy=52.22: 100%|██████████| 88/88 [02:57<00:00,  2.02s/it]\n"
          ]
        },
        {
          "output_type": "stream",
          "name": "stdout",
          "text": [
            "\n",
            "Validation set: Average loss: 0.0024, Accuracy: 2892/5000 (57.84%)\n",
            "\n",
            "\n",
            "Test set: Average loss: 1.2359, Accuracy: 5768/10000 (57.68%)\n",
            "\n",
            "EPOCHS : 4\n"
          ]
        },
        {
          "output_type": "stream",
          "name": "stderr",
          "text": [
            "Batch_id=87 Batch Loss=1.2300225496292114 Running Loss=107.314093708992 Running Accuracy=57.31: 100%|██████████| 88/88 [02:57<00:00,  2.01s/it]\n"
          ]
        },
        {
          "output_type": "stream",
          "name": "stdout",
          "text": [
            "\n",
            "Validation set: Average loss: 0.0023, Accuracy: 2993/5000 (59.86%)\n",
            "\n",
            "\n",
            "Test set: Average loss: 1.2120, Accuracy: 5987/10000 (59.87%)\n",
            "\n",
            "EPOCHS : 5\n"
          ]
        },
        {
          "output_type": "stream",
          "name": "stderr",
          "text": [
            "Batch_id=87 Batch Loss=0.9663228392601013 Running Loss=98.90884083509445 Running Accuracy=60.82: 100%|██████████| 88/88 [02:57<00:00,  2.02s/it]\n"
          ]
        },
        {
          "output_type": "stream",
          "name": "stdout",
          "text": [
            "\n",
            "Validation set: Average loss: 0.0020, Accuracy: 3261/5000 (65.22%)\n",
            "\n",
            "\n",
            "Test set: Average loss: 0.9926, Accuracy: 6549/10000 (65.49%)\n",
            "\n",
            "EPOCHS : 6\n"
          ]
        },
        {
          "output_type": "stream",
          "name": "stderr",
          "text": [
            "Batch_id=87 Batch Loss=1.0033390522003174 Running Loss=90.57248067855835 Running Accuracy=64.25: 100%|██████████| 88/88 [02:58<00:00,  2.02s/it]\n"
          ]
        },
        {
          "output_type": "stream",
          "name": "stdout",
          "text": [
            "\n",
            "Validation set: Average loss: 0.0019, Accuracy: 3350/5000 (67.00%)\n",
            "\n",
            "\n",
            "Test set: Average loss: 0.9992, Accuracy: 6542/10000 (65.42%)\n",
            "\n",
            "EPOCHS : 7\n"
          ]
        },
        {
          "output_type": "stream",
          "name": "stderr",
          "text": [
            "Batch_id=87 Batch Loss=0.9742749333381653 Running Loss=84.71654051542282 Running Accuracy=66.69: 100%|██████████| 88/88 [02:58<00:00,  2.03s/it]\n"
          ]
        },
        {
          "output_type": "stream",
          "name": "stdout",
          "text": [
            "\n",
            "Validation set: Average loss: 0.0018, Accuracy: 3471/5000 (69.42%)\n",
            "\n",
            "\n",
            "Test set: Average loss: 0.9134, Accuracy: 6918/10000 (69.18%)\n",
            "\n",
            "EPOCHS : 8\n"
          ]
        },
        {
          "output_type": "stream",
          "name": "stderr",
          "text": [
            "Batch_id=87 Batch Loss=0.813854992389679 Running Loss=77.25336229801178 Running Accuracy=69.26: 100%|██████████| 88/88 [02:58<00:00,  2.03s/it]\n"
          ]
        },
        {
          "output_type": "stream",
          "name": "stdout",
          "text": [
            "\n",
            "Validation set: Average loss: 0.0016, Accuracy: 3581/5000 (71.62%)\n",
            "\n",
            "\n",
            "Test set: Average loss: 0.8356, Accuracy: 7203/10000 (72.03%)\n",
            "\n",
            "EPOCHS : 9\n"
          ]
        },
        {
          "output_type": "stream",
          "name": "stderr",
          "text": [
            "Batch_id=87 Batch Loss=0.7377473711967468 Running Loss=71.50088912248611 Running Accuracy=71.59: 100%|██████████| 88/88 [02:57<00:00,  2.01s/it]\n"
          ]
        },
        {
          "output_type": "stream",
          "name": "stdout",
          "text": [
            "\n",
            "Validation set: Average loss: 0.0015, Accuracy: 3734/5000 (74.68%)\n",
            "\n",
            "\n",
            "Test set: Average loss: 0.7329, Accuracy: 7498/10000 (74.98%)\n",
            "\n",
            "EPOCHS : 10\n"
          ]
        },
        {
          "output_type": "stream",
          "name": "stderr",
          "text": [
            "Batch_id=87 Batch Loss=0.6562855243682861 Running Loss=66.50246495008469 Running Accuracy=73.63: 100%|██████████| 88/88 [02:57<00:00,  2.02s/it]\n"
          ]
        },
        {
          "output_type": "stream",
          "name": "stdout",
          "text": [
            "\n",
            "Validation set: Average loss: 0.0014, Accuracy: 3765/5000 (75.30%)\n",
            "\n",
            "\n",
            "Test set: Average loss: 0.7054, Accuracy: 7516/10000 (75.16%)\n",
            "\n",
            "EPOCHS : 11\n"
          ]
        },
        {
          "output_type": "stream",
          "name": "stderr",
          "text": [
            "Batch_id=11 Batch Loss=0.6762485504150391 Running Loss=8.444615662097931 Running Accuracy=75.55:  14%|█▎        | 12/88 [00:26<02:48,  2.22s/it]\n"
          ]
        },
        {
          "output_type": "error",
          "ename": "KeyboardInterrupt",
          "evalue": "ignored",
          "traceback": [
            "\u001b[0;31m---------------------------------------------------------------------------\u001b[0m",
            "\u001b[0;31mKeyboardInterrupt\u001b[0m                         Traceback (most recent call last)",
            "\u001b[0;32m<ipython-input-31-76f16919cabe>\u001b[0m in \u001b[0;36m<module>\u001b[0;34m\u001b[0m\n\u001b[1;32m     14\u001b[0m \u001b[0;32mfor\u001b[0m \u001b[0mi\u001b[0m \u001b[0;32min\u001b[0m \u001b[0mrange\u001b[0m\u001b[0;34m(\u001b[0m\u001b[0mEPOCHS\u001b[0m\u001b[0;34m)\u001b[0m\u001b[0;34m:\u001b[0m\u001b[0;34m\u001b[0m\u001b[0;34m\u001b[0m\u001b[0m\n\u001b[1;32m     15\u001b[0m     \u001b[0mprint\u001b[0m\u001b[0;34m(\u001b[0m\u001b[0;34mf'EPOCHS : {i}'\u001b[0m\u001b[0;34m)\u001b[0m\u001b[0;34m\u001b[0m\u001b[0;34m\u001b[0m\u001b[0m\n\u001b[0;32m---> 16\u001b[0;31m     \u001b[0mmodel_training\u001b[0m\u001b[0;34m(\u001b[0m\u001b[0mmodel\u001b[0m\u001b[0;34m,\u001b[0m \u001b[0mdevice\u001b[0m\u001b[0;34m,\u001b[0m \u001b[0mtrainloader\u001b[0m\u001b[0;34m,\u001b[0m \u001b[0moptimizer\u001b[0m\u001b[0;34m,\u001b[0m \u001b[0mtrain_acc\u001b[0m\u001b[0;34m,\u001b[0m \u001b[0mtrain_losses\u001b[0m\u001b[0;34m)\u001b[0m\u001b[0;34m\u001b[0m\u001b[0;34m\u001b[0m\u001b[0m\n\u001b[0m\u001b[1;32m     17\u001b[0m \u001b[0;34m\u001b[0m\u001b[0m\n\u001b[1;32m     18\u001b[0m     \u001b[0;31m# Validating the model for the current epoch\u001b[0m\u001b[0;34m\u001b[0m\u001b[0;34m\u001b[0m\u001b[0;34m\u001b[0m\u001b[0m\n",
            "\u001b[0;32m<ipython-input-27-40a0f58be15a>\u001b[0m in \u001b[0;36mmodel_training\u001b[0;34m(model, device, train_dataloader, optimizer, train_acc, train_losses)\u001b[0m\n\u001b[1;32m     26\u001b[0m \u001b[0;34m\u001b[0m\u001b[0m\n\u001b[1;32m     27\u001b[0m         \u001b[0mpred\u001b[0m \u001b[0;34m=\u001b[0m \u001b[0my_pred\u001b[0m\u001b[0;34m.\u001b[0m\u001b[0margmax\u001b[0m\u001b[0;34m(\u001b[0m\u001b[0mdim\u001b[0m\u001b[0;34m=\u001b[0m\u001b[0;36m1\u001b[0m\u001b[0;34m,\u001b[0m \u001b[0mkeepdim\u001b[0m\u001b[0;34m=\u001b[0m\u001b[0;32mTrue\u001b[0m\u001b[0;34m)\u001b[0m\u001b[0;34m\u001b[0m\u001b[0;34m\u001b[0m\u001b[0m\n\u001b[0;32m---> 28\u001b[0;31m         \u001b[0mcorrect\u001b[0m \u001b[0;34m+=\u001b[0m \u001b[0mpred\u001b[0m\u001b[0;34m.\u001b[0m\u001b[0meq\u001b[0m\u001b[0;34m(\u001b[0m\u001b[0mtarget\u001b[0m\u001b[0;34m.\u001b[0m\u001b[0mview_as\u001b[0m\u001b[0;34m(\u001b[0m\u001b[0mpred\u001b[0m\u001b[0;34m)\u001b[0m\u001b[0;34m)\u001b[0m\u001b[0;34m.\u001b[0m\u001b[0msum\u001b[0m\u001b[0;34m(\u001b[0m\u001b[0;34m)\u001b[0m\u001b[0;34m.\u001b[0m\u001b[0mitem\u001b[0m\u001b[0;34m(\u001b[0m\u001b[0;34m)\u001b[0m\u001b[0;34m\u001b[0m\u001b[0;34m\u001b[0m\u001b[0m\n\u001b[0m\u001b[1;32m     29\u001b[0m         \u001b[0mprocessed\u001b[0m \u001b[0;34m+=\u001b[0m \u001b[0mlen\u001b[0m\u001b[0;34m(\u001b[0m\u001b[0mdata\u001b[0m\u001b[0;34m)\u001b[0m\u001b[0;34m\u001b[0m\u001b[0;34m\u001b[0m\u001b[0m\n\u001b[1;32m     30\u001b[0m \u001b[0;34m\u001b[0m\u001b[0m\n",
            "\u001b[0;31mKeyboardInterrupt\u001b[0m: "
          ]
        }
      ],
      "source": [
        "# Training the model\n",
        "\n",
        "train_acc = []\n",
        "train_losses = []\n",
        "valid_accs = []\n",
        "valid_losses = []\n",
        "test_acc = []\n",
        "test_losses = []\n",
        "min_valid_loss = None\n",
        "max_acc = None\n",
        "\n",
        "EPOCHS = 120\n",
        "\n",
        "for i in range(EPOCHS):\n",
        "    print(f'EPOCHS : {i}')\n",
        "    model_training(model, device, trainloader, optimizer, train_acc, train_losses)\n",
        "\n",
        "    # Validating the model for the current epoch\n",
        "    valid_loss, valid_acc = model_evaluation(model, device, validloader)  \n",
        "\n",
        "    valid_losses.append(valid_loss)\n",
        "    valid_accs.append(valid_acc)\n",
        "\n",
        "    if not min_valid_loss:\n",
        "      min_valid_loss = valid_loss\n",
        "    else:\n",
        "      if valid_loss < min_valid_loss:\n",
        "        min_valid_loss = valid_loss\n",
        "        torch.save(model, \"best_model.pickle\")\n",
        "\n",
        "    scheduler.step(train_losses[-1])\n",
        "    # scheduler.step(valid_loss)\n",
        "\n",
        "    misclassified, test_acc2 = model_testing(model, device, testloader, test_acc, test_losses)\n",
        "\n",
        "    if not max_acc:\n",
        "      max_acc = test_acc2\n",
        "    else:\n",
        "      if test_acc2 > max_acc:\n",
        "        max_acc = test_acc2\n",
        "        torch.save(model, \"best_test_acc_model.pickle\")\n"
      ]
    },
    {
      "cell_type": "code",
      "source": [
        "# Best model\n",
        "model1 = torch.load(\"best_model.pickle\")\n",
        "model2 = torch.load(\"best_test_acc_model.pickle\")\n",
        "misclassified, _acc = model_testing(model, device, testloader, test_acc, test_losses)\n",
        "misclassified, _acc = model_testing(model2, device, testloader, test_acc, test_losses)"
      ],
      "metadata": {
        "colab": {
          "base_uri": "https://localhost:8080/"
        },
        "id": "ocguQ5Q9p1Kt",
        "outputId": "9c8559fd-fdac-473a-dbf5-73b4e33509c0"
      },
      "execution_count": null,
      "outputs": [
        {
          "output_type": "stream",
          "name": "stdout",
          "text": [
            "\n",
            "Test set: Average loss: 0.3435, Accuracy: 9247/10000 (92.47%)\n",
            "\n",
            "\n",
            "Test set: Average loss: 0.3428, Accuracy: 9252/10000 (92.52%)\n",
            "\n"
          ]
        }
      ]
    },
    {
      "cell_type": "code",
      "execution_count": null,
      "metadata": {
        "execution": {
          "iopub.execute_input": "2020-09-18T14:33:11.004455Z",
          "iopub.status.busy": "2020-09-18T14:33:11.003592Z",
          "iopub.status.idle": "2020-09-18T14:33:11.886161Z",
          "shell.execute_reply": "2020-09-18T14:33:11.885385Z"
        },
        "papermill": {
          "duration": 4.212753,
          "end_time": "2020-09-18T14:33:11.886294",
          "exception": false,
          "start_time": "2020-09-18T14:33:07.673541",
          "status": "completed"
        },
        "tags": [],
        "colab": {
          "base_uri": "https://localhost:8080/",
          "height": 1000
        },
        "id": "3pYBPl8HKs_o",
        "outputId": "71e75ef3-a596-461f-bfae-f7d21ab1b6a5"
      },
      "outputs": [
        {
          "output_type": "execute_result",
          "data": {
            "text/plain": [
              "[<matplotlib.lines.Line2D at 0x7f2b658b7890>]"
            ]
          },
          "metadata": {},
          "execution_count": 25
        },
        {
          "output_type": "display_data",
          "data": {
            "text/plain": [
              "<Figure size 1800x1440 with 4 Axes>"
            ],
            "image/png": "[encoded data removed]"
          },
          "metadata": {
            "needs_background": "light"
          }
        }
      ],
      "source": [
        "fig, axs = plt.subplots(2,2, figsize=(25,20))\n",
        "\n",
        "axs[0,0].set_title('Train Losses')\n",
        "axs[0,1].set_title('Training Accuracy')\n",
        "axs[1,0].set_title('Test Losses')\n",
        "axs[1,1].set_title('Test Accuracy')\n",
        "\n",
        "axs[0,0].plot(train_losses)\n",
        "axs[0,1].plot(train_acc)\n",
        "axs[1,0].plot(test_losses)\n",
        "axs[1,1].plot(test_acc)"
      ]
    },
    {
      "cell_type": "code",
      "source": [],
      "metadata": {
        "id": "DlPU6Co4ns_R"
      },
      "execution_count": null,
      "outputs": []
    }
  ],
  "metadata": {
    "kernelspec": {
      "display_name": "Python 3",
      "language": "python",
      "name": "python3"
    },
    "language_info": {
      "codemirror_mode": {
        "name": "ipython",
        "version": 3
      },
      "file_extension": ".py",
      "mimetype": "text/x-python",
      "name": "python",
      "nbconvert_exporter": "python",
      "pygments_lexer": "ipython3",
      "version": "3.7.6"
    },
    "papermill": {
      "duration": 1617.594216,
      "end_time": "2020-09-18T14:33:16.593563",
      "environment_variables": {},
      "exception": null,
      "input_path": "__notebook__.ipynb",
      "output_path": "__notebook__.ipynb",
      "parameters": {},
      "start_time": "2020-09-18T14:06:18.999347",
      "version": "2.1.0"
    },
    "colab": {
      "provenance": [],
      "machine_shape": "hm"
    },
    "accelerator": "GPU",
    "gpuClass": "standard",
    "widgets": {
      "application/vnd.jupyter.widget-state+json": {
        "d3717d066600486182ea61be51ab5879": {
          "model_module": "@jupyter-widgets/controls",
          "model_name": "HBoxModel",
          "model_module_version": "1.5.0",
          "state": {
            "_dom_classes": [],
            "_model_module": "@jupyter-widgets/controls",
            "_model_module_version": "1.5.0",
            "_model_name": "HBoxModel",
            "_view_count": null,
            "_view_module": "@jupyter-widgets/controls",
            "_view_module_version": "1.5.0",
            "_view_name": "HBoxView",
            "box_style": "",
            "children": [
              "IPY_MODEL_55801e7d44524cb4afedb2efd7e124ae",
              "IPY_MODEL_177ec44e48b947118485a71ccd5cca81",
              "IPY_MODEL_1f023886dc714a9fbc61952134e44b91"
            ],
            "layout": "IPY_MODEL_59b7cf99004f4b81867e3aba43f70ce8"
          }
        },
        "55801e7d44524cb4afedb2efd7e124ae": {
          "model_module": "@jupyter-widgets/controls",
          "model_name": "HTMLModel",
          "model_module_version": "1.5.0",
          "state": {
            "_dom_classes": [],
            "_model_module": "@jupyter-widgets/controls",
            "_model_module_version": "1.5.0",
            "_model_name": "HTMLModel",
            "_view_count": null,
            "_view_module": "@jupyter-widgets/controls",
            "_view_module_version": "1.5.0",
            "_view_name": "HTMLView",
            "description": "",
            "description_tooltip": null,
            "layout": "IPY_MODEL_7c91c8a0ba6e4eee9e6d387c0da345cb",
            "placeholder": "​",
            "style": "IPY_MODEL_f71a756f55df44bda6f0929064ddb48a",
            "value": "100%"
          }
        },
        "177ec44e48b947118485a71ccd5cca81": {
          "model_module": "@jupyter-widgets/controls",
          "model_name": "FloatProgressModel",
          "model_module_version": "1.5.0",
          "state": {
            "_dom_classes": [],
            "_model_module": "@jupyter-widgets/controls",
            "_model_module_version": "1.5.0",
            "_model_name": "FloatProgressModel",
            "_view_count": null,
            "_view_module": "@jupyter-widgets/controls",
            "_view_module_version": "1.5.0",
            "_view_name": "ProgressView",
            "bar_style": "success",
            "description": "",
            "description_tooltip": null,
            "layout": "IPY_MODEL_1355cbf4b3d44853a925ac83f51dd618",
            "max": 170498071,
            "min": 0,
            "orientation": "horizontal",
            "style": "IPY_MODEL_65c975fb7236402ea8c0552f85736363",
            "value": 170498071
          }
        },
        "1f023886dc714a9fbc61952134e44b91": {
          "model_module": "@jupyter-widgets/controls",
          "model_name": "HTMLModel",
          "model_module_version": "1.5.0",
          "state": {
            "_dom_classes": [],
            "_model_module": "@jupyter-widgets/controls",
            "_model_module_version": "1.5.0",
            "_model_name": "HTMLModel",
            "_view_count": null,
            "_view_module": "@jupyter-widgets/controls",
            "_view_module_version": "1.5.0",
            "_view_name": "HTMLView",
            "description": "",
            "description_tooltip": null,
            "layout": "IPY_MODEL_a2ad9fcc359d4e2e9957e323f553b38a",
            "placeholder": "​",
            "style": "IPY_MODEL_05d511c2cf154b60aa5ac68646af2efd",
            "value": " 170498071/170498071 [00:13&lt;00:00, 13762320.76it/s]"
          }
        },
        "59b7cf99004f4b81867e3aba43f70ce8": {
          "model_module": "@jupyter-widgets/base",
          "model_name": "LayoutModel",
          "model_module_version": "1.2.0",
          "state": {
            "_model_module": "@jupyter-widgets/base",
            "_model_module_version": "1.2.0",
            "_model_name": "LayoutModel",
            "_view_count": null,
            "_view_module": "@jupyter-widgets/base",
            "_view_module_version": "1.2.0",
            "_view_name": "LayoutView",
            "align_content": null,
            "align_items": null,
            "align_self": null,
            "border": null,
            "bottom": null,
            "display": null,
            "flex": null,
            "flex_flow": null,
            "grid_area": null,
            "grid_auto_columns": null,
            "grid_auto_flow": null,
            "grid_auto_rows": null,
            "grid_column": null,
            "grid_gap": null,
            "grid_row": null,
            "grid_template_areas": null,
            "grid_template_columns": null,
            "grid_template_rows": null,
            "height": null,
            "justify_content": null,
            "justify_items": null,
            "left": null,
            "margin": null,
            "max_height": null,
            "max_width": null,
            "min_height": null,
            "min_width": null,
            "object_fit": null,
            "object_position": null,
            "order": null,
            "overflow": null,
            "overflow_x": null,
            "overflow_y": null,
            "padding": null,
            "right": null,
            "top": null,
            "visibility": null,
            "width": null
          }
        },
        "7c91c8a0ba6e4eee9e6d387c0da345cb": {
          "model_module": "@jupyter-widgets/base",
          "model_name": "LayoutModel",
          "model_module_version": "1.2.0",
          "state": {
            "_model_module": "@jupyter-widgets/base",
            "_model_module_version": "1.2.0",
            "_model_name": "LayoutModel",
            "_view_count": null,
            "_view_module": "@jupyter-widgets/base",
            "_view_module_version": "1.2.0",
            "_view_name": "LayoutView",
            "align_content": null,
            "align_items": null,
            "align_self": null,
            "border": null,
            "bottom": null,
            "display": null,
            "flex": null,
            "flex_flow": null,
            "grid_area": null,
            "grid_auto_columns": null,
            "grid_auto_flow": null,
            "grid_auto_rows": null,
            "grid_column": null,
            "grid_gap": null,
            "grid_row": null,
            "grid_template_areas": null,
            "grid_template_columns": null,
            "grid_template_rows": null,
            "height": null,
            "justify_content": null,
            "justify_items": null,
            "left": null,
            "margin": null,
            "max_height": null,
            "max_width": null,
            "min_height": null,
            "min_width": null,
            "object_fit": null,
            "object_position": null,
            "order": null,
            "overflow": null,
            "overflow_x": null,
            "overflow_y": null,
            "padding": null,
            "right": null,
            "top": null,
            "visibility": null,
            "width": null
          }
        },
        "f71a756f55df44bda6f0929064ddb48a": {
          "model_module": "@jupyter-widgets/controls",
          "model_name": "DescriptionStyleModel",
          "model_module_version": "1.5.0",
          "state": {
            "_model_module": "@jupyter-widgets/controls",
            "_model_module_version": "1.5.0",
            "_model_name": "DescriptionStyleModel",
            "_view_count": null,
            "_view_module": "@jupyter-widgets/base",
            "_view_module_version": "1.2.0",
            "_view_name": "StyleView",
            "description_width": ""
          }
        },
        "1355cbf4b3d44853a925ac83f51dd618": {
          "model_module": "@jupyter-widgets/base",
          "model_name": "LayoutModel",
          "model_module_version": "1.2.0",
          "state": {
            "_model_module": "@jupyter-widgets/base",
            "_model_module_version": "1.2.0",
            "_model_name": "LayoutModel",
            "_view_count": null,
            "_view_module": "@jupyter-widgets/base",
            "_view_module_version": "1.2.0",
            "_view_name": "LayoutView",
            "align_content": null,
            "align_items": null,
            "align_self": null,
            "border": null,
            "bottom": null,
            "display": null,
            "flex": null,
            "flex_flow": null,
            "grid_area": null,
            "grid_auto_columns": null,
            "grid_auto_flow": null,
            "grid_auto_rows": null,
            "grid_column": null,
            "grid_gap": null,
            "grid_row": null,
            "grid_template_areas": null,
            "grid_template_columns": null,
            "grid_template_rows": null,
            "height": null,
            "justify_content": null,
            "justify_items": null,
            "left": null,
            "margin": null,
            "max_height": null,
            "max_width": null,
            "min_height": null,
            "min_width": null,
            "object_fit": null,
            "object_position": null,
            "order": null,
            "overflow": null,
            "overflow_x": null,
            "overflow_y": null,
            "padding": null,
            "right": null,
            "top": null,
            "visibility": null,
            "width": null
          }
        },
        "65c975fb7236402ea8c0552f85736363": {
          "model_module": "@jupyter-widgets/controls",
          "model_name": "ProgressStyleModel",
          "model_module_version": "1.5.0",
          "state": {
            "_model_module": "@jupyter-widgets/controls",
            "_model_module_version": "1.5.0",
            "_model_name": "ProgressStyleModel",
            "_view_count": null,
            "_view_module": "@jupyter-widgets/base",
            "_view_module_version": "1.2.0",
            "_view_name": "StyleView",
            "bar_color": null,
            "description_width": ""
          }
        },
        "a2ad9fcc359d4e2e9957e323f553b38a": {
          "model_module": "@jupyter-widgets/base",
          "model_name": "LayoutModel",
          "model_module_version": "1.2.0",
          "state": {
            "_model_module": "@jupyter-widgets/base",
            "_model_module_version": "1.2.0",
            "_model_name": "LayoutModel",
            "_view_count": null,
            "_view_module": "@jupyter-widgets/base",
            "_view_module_version": "1.2.0",
            "_view_name": "LayoutView",
            "align_content": null,
            "align_items": null,
            "align_self": null,
            "border": null,
            "bottom": null,
            "display": null,
            "flex": null,
            "flex_flow": null,
            "grid_area": null,
            "grid_auto_columns": null,
            "grid_auto_flow": null,
            "grid_auto_rows": null,
            "grid_column": null,
            "grid_gap": null,
            "grid_row": null,
            "grid_template_areas": null,
            "grid_template_columns": null,
            "grid_template_rows": null,
            "height": null,
            "justify_content": null,
            "justify_items": null,
            "left": null,
            "margin": null,
            "max_height": null,
            "max_width": null,
            "min_height": null,
            "min_width": null,
            "object_fit": null,
            "object_position": null,
            "order": null,
            "overflow": null,
            "overflow_x": null,
            "overflow_y": null,
            "padding": null,
            "right": null,
            "top": null,
            "visibility": null,
            "width": null
          }
        },
        "05d511c2cf154b60aa5ac68646af2efd": {
          "model_module": "@jupyter-widgets/controls",
          "model_name": "DescriptionStyleModel",
          "model_module_version": "1.5.0",
          "state": {
            "_model_module": "@jupyter-widgets/controls",
            "_model_module_version": "1.5.0",
            "_model_name": "DescriptionStyleModel",
            "_view_count": null,
            "_view_module": "@jupyter-widgets/base",
            "_view_module_version": "1.2.0",
            "_view_name": "StyleView",
            "description_width": ""
          }
        }
      }
    }
  },
  "nbformat": 4,
  "nbformat_minor": 0
}