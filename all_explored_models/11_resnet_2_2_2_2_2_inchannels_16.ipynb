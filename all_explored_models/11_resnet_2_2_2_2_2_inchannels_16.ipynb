{
  "cells": [
    {
      "cell_type": "markdown",
      "source": [
        "https://www.kaggle.com/code/greatcodes/pytorch-cnn-resnet18-cifar10/notebook\n",
        "\n",
        "https://pytorch-tutorial.readthedocs.io/en/latest/tutorial/chapter03_intermediate/3_2_2_cnn_resnet_cifar10/"
      ],
      "metadata": {
        "id": "TS3R6-AKKuSD"
      }
    },
    {
      "cell_type": "code",
      "execution_count": null,
      "metadata": {
        "execution": {
          "iopub.execute_input": "2020-09-18T14:06:23.323276Z",
          "iopub.status.busy": "2020-09-18T14:06:23.322403Z",
          "iopub.status.idle": "2020-09-18T14:06:33.073785Z",
          "shell.execute_reply": "2020-09-18T14:06:33.073171Z"
        },
        "papermill": {
          "duration": 9.766997,
          "end_time": "2020-09-18T14:06:33.073915",
          "exception": false,
          "start_time": "2020-09-18T14:06:23.306918",
          "status": "completed"
        },
        "tags": [],
        "colab": {
          "base_uri": "https://localhost:8080/"
        },
        "id": "40qwzP9AKs_c",
        "outputId": "187718be-edb1-425a-9237-78c42c99d346"
      },
      "outputs": [
        {
          "output_type": "stream",
          "name": "stdout",
          "text": [
            "Looking in indexes: https://pypi.org/simple, https://us-python.pkg.dev/colab-wheels/public/simple/\n",
            "Requirement already satisfied: torchsummary in /usr/local/lib/python3.7/dist-packages (1.5.1)\n"
          ]
        }
      ],
      "source": [
        "!pip install torchsummary"
      ]
    },
    {
      "cell_type": "code",
      "execution_count": null,
      "metadata": {
        "_cell_guid": "79c7e3d0-c299-4dcb-8224-4455121ee9b0",
        "_uuid": "d629ff2d2480ee46fbb7e2d37f6b5fab8052498a",
        "execution": {
          "iopub.execute_input": "2020-09-18T14:06:33.110540Z",
          "iopub.status.busy": "2020-09-18T14:06:33.109616Z",
          "iopub.status.idle": "2020-09-18T14:06:34.741497Z",
          "shell.execute_reply": "2020-09-18T14:06:34.742236Z"
        },
        "papermill": {
          "duration": 1.655486,
          "end_time": "2020-09-18T14:06:34.742433",
          "exception": false,
          "start_time": "2020-09-18T14:06:33.086947",
          "status": "completed"
        },
        "tags": [],
        "colab": {
          "base_uri": "https://localhost:8080/"
        },
        "id": "1L1ayeUjKs_d",
        "outputId": "4260f93f-966b-4031-c2f0-eb7368b2f1d9"
      },
      "outputs": [
        {
          "output_type": "stream",
          "name": "stdout",
          "text": [
            "cuda\n"
          ]
        }
      ],
      "source": [
        "# Importing Libraries\n",
        "import os\n",
        "import copy\n",
        "import random\n",
        "import numpy as np\n",
        "import pandas as pd\n",
        "import torch\n",
        "import torchvision\n",
        "import torchvision.transforms as transforms\n",
        "from torchsummary import summary\n",
        "import torch.utils.data as data\n",
        "import torch.nn as nn\n",
        "import torch.nn.functional as F\n",
        "import torch.optim as optim\n",
        "from torch.optim.lr_scheduler import StepLR, ReduceLROnPlateau\n",
        "\n",
        "import matplotlib.pyplot as plt\n",
        "%matplotlib inline\n",
        "\n",
        "SEED = 1234\n",
        "\n",
        "device = \"cuda\" if torch.cuda.is_available else \"cpu\"\n",
        "print(device)"
      ]
    },
    {
      "cell_type": "code",
      "execution_count": null,
      "metadata": {
        "execution": {
          "iopub.execute_input": "2020-09-18T14:06:34.781123Z",
          "iopub.status.busy": "2020-09-18T14:06:34.780293Z",
          "iopub.status.idle": "2020-09-18T14:06:34.784939Z",
          "shell.execute_reply": "2020-09-18T14:06:34.784333Z"
        },
        "papermill": {
          "duration": 0.028551,
          "end_time": "2020-09-18T14:06:34.785089",
          "exception": false,
          "start_time": "2020-09-18T14:06:34.756538",
          "status": "completed"
        },
        "tags": [],
        "id": "s_5gkccjKs_e"
      },
      "outputs": [],
      "source": [
        "from torchvision import transforms\n",
        "import numpy as np\n",
        "import torch\n",
        "\n",
        "# Returns a list of transformations when called\n",
        "\n",
        "class GetTransforms():\n",
        "    '''Returns a list of transformations when type as requested amongst train/test\n",
        "       Transforms('train') = list of transforms to apply on training data\n",
        "       Transforms('test') = list of transforms to apply on testing data'''\n",
        "\n",
        "    def __init__(self):\n",
        "        pass\n",
        "\n",
        "    def trainparams(self):\n",
        "        train_transformations = [ #resises the image so it can be perfect for our model.\n",
        "            transforms.RandomHorizontalFlip(), # FLips the image w.r.t horizontal axis\n",
        "            transforms.RandomRotation((-7,7)),     #Rotates the image to a specified angel\n",
        "            transforms.RandomAffine(0, shear=10, scale=(0.8,1.2)), #Performs actions like zooms, change shear angles.\n",
        "            transforms.ColorJitter(brightness=0.2, contrast=0.2, saturation=0.2), # Set the color params\n",
        "            transforms.ToTensor(), # comvert the image to tensor so that it can work with torch\n",
        "            transforms.Normalize((0.491, 0.482, 0.446), (0.247, 0.243, 0.261)) #Normalize all the images\n",
        "            ]\n",
        "\n",
        "        return train_transformations\n",
        "\n",
        "    def testparams(self):\n",
        "        test_transforms = [\n",
        "            transforms.ToTensor(),\n",
        "            transforms.Normalize((0.491, 0.482, 0.446), (0.247, 0.243, 0.261))\n",
        "        ]\n",
        "        return test_transforms"
      ]
    },
    {
      "cell_type": "code",
      "execution_count": null,
      "metadata": {
        "execution": {
          "iopub.execute_input": "2020-09-18T14:06:34.822176Z",
          "iopub.status.busy": "2020-09-18T14:06:34.821389Z",
          "iopub.status.idle": "2020-09-18T14:06:34.824928Z",
          "shell.execute_reply": "2020-09-18T14:06:34.825448Z"
        },
        "papermill": {
          "duration": 0.026239,
          "end_time": "2020-09-18T14:06:34.825574",
          "exception": false,
          "start_time": "2020-09-18T14:06:34.799335",
          "status": "completed"
        },
        "tags": [],
        "id": "TUmYFrWSKs_g"
      },
      "outputs": [],
      "source": [
        "from torchvision import datasets\n",
        "from torchvision import transforms\n",
        "\n",
        "\n",
        "transformations = GetTransforms()\n",
        "train_transforms = transforms.Compose(transformations.trainparams())\n",
        "test_transforms = transforms.Compose(transformations.testparams())\n",
        "\n",
        "\n",
        "class GetCIFAR10_TrainData():\n",
        "    def __init__(self, dir_name:str):\n",
        "        self.dirname = dir_name\n",
        "\n",
        "    def download_train_data(self):\n",
        "        return datasets.CIFAR10('./data', train=True, download=True, transform=train_transforms)\n",
        "\n",
        "    def download_test_data(self):\n",
        "        return datasets.CIFAR10('./data', train=False, download=True, transform=test_transforms)\n"
      ]
    },
    {
      "cell_type": "code",
      "execution_count": null,
      "metadata": {
        "execution": {
          "iopub.execute_input": "2020-09-18T14:06:34.859536Z",
          "iopub.status.busy": "2020-09-18T14:06:34.858878Z",
          "iopub.status.idle": "2020-09-18T14:06:42.631720Z",
          "shell.execute_reply": "2020-09-18T14:06:42.631008Z"
        },
        "papermill": {
          "duration": 7.792606,
          "end_time": "2020-09-18T14:06:42.631847",
          "exception": false,
          "start_time": "2020-09-18T14:06:34.839241",
          "status": "completed"
        },
        "tags": [],
        "colab": {
          "base_uri": "https://localhost:8080/",
          "height": 101,
          "referenced_widgets": [
            "88ff645ca106403e985e7791d303ed79",
            "f8cfe4f1b5b5481d8f1d11d29e2ec983",
            "9e8d949c8c33491ea0e6d9c6b9b2bc7f",
            "820fafe7699e43da93b20fa0c7230d0c",
            "24991e3fd4fa46daaac70a5eda634bf7",
            "09eb8baeb028416f866c8b6b2759c7d6",
            "5dffbbbee938474d87b9cb534ba9181e",
            "f27d9be2a9ae40d8bb4266edf2c48212",
            "9a102181291a47c7aa97df6221439271",
            "f7c5ff84d0764f069ce9893a04d2ecaf",
            "05d03f5653584733b5c797cc44d1f3b3"
          ]
        },
        "id": "U8mSINXnKs_i",
        "outputId": "d216ed73-7955-4215-eb62-bb90a4746273"
      },
      "outputs": [
        {
          "output_type": "stream",
          "name": "stdout",
          "text": [
            "Downloading https://www.cs.toronto.edu/~kriz/cifar-10-python.tar.gz to ./data/cifar-10-python.tar.gz\n"
          ]
        },
        {
          "output_type": "display_data",
          "data": {
            "text/plain": [
              "  0%|          | 0/170498071 [00:00<?, ?it/s]"
            ],
            "application/vnd.jupyter.widget-view+json": {
              "version_major": 2,
              "version_minor": 0,
              "model_id": "88ff645ca106403e985e7791d303ed79"
            }
          },
          "metadata": {}
        },
        {
          "output_type": "stream",
          "name": "stdout",
          "text": [
            "Extracting ./data/cifar-10-python.tar.gz to ./data\n",
            "Files already downloaded and verified\n"
          ]
        }
      ],
      "source": [
        "cdata = GetCIFAR10_TrainData(os.chdir(\"..\"))\n",
        "trainset = cdata.download_train_data()\n",
        "testset = cdata.download_test_data()\n",
        "\n",
        "VALID_RATIO = 0.9\n",
        "n_train_examples = int(len(trainset) * VALID_RATIO)\n",
        "n_valid_examples = len(trainset) - n_train_examples\n",
        "\n",
        "trainset, validset = data.random_split(trainset, \n",
        "                                           [n_train_examples, n_valid_examples])\n",
        "\n",
        "validset = copy.deepcopy(validset)\n",
        "validset.dataset.transform = test_transforms"
      ]
    },
    {
      "cell_type": "code",
      "source": [
        "len(trainset), len(validset), len(testset)"
      ],
      "metadata": {
        "colab": {
          "base_uri": "https://localhost:8080/"
        },
        "id": "W_h-ul9MYUPZ",
        "outputId": "73bdcec8-34b1-4574-cdc6-96e358fc8c33"
      },
      "execution_count": null,
      "outputs": [
        {
          "output_type": "execute_result",
          "data": {
            "text/plain": [
              "(45000, 5000, 10000)"
            ]
          },
          "metadata": {},
          "execution_count": 6
        }
      ]
    },
    {
      "cell_type": "code",
      "source": [
        "BATCH_SIZE = 512\n",
        "\n",
        "trainloader = torch.utils.data.DataLoader(trainset, batch_size=BATCH_SIZE,\n",
        "                                          shuffle=True, num_workers=2)\n",
        "validloader = torch.utils.data.DataLoader(validset, batch_size=BATCH_SIZE,\n",
        "                                          shuffle=False, num_workers=2)\n",
        "testloader = torch.utils.data.DataLoader(testset, batch_size=BATCH_SIZE,\n",
        "                                         shuffle=False, num_workers=2)"
      ],
      "metadata": {
        "id": "uybGoOcRQA6S"
      },
      "execution_count": null,
      "outputs": []
    },
    {
      "cell_type": "markdown",
      "metadata": {
        "papermill": {
          "duration": 0.01586,
          "end_time": "2020-09-18T14:06:42.663889",
          "exception": false,
          "start_time": "2020-09-18T14:06:42.648029",
          "status": "completed"
        },
        "tags": [],
        "id": "H6YIObpwKs_j"
      },
      "source": [
        "# The Model - RESNET18\n"
      ]
    },
    {
      "cell_type": "code",
      "source": [
        "# 3x3 convolution\n",
        "def conv3x3(in_channels, out_channels, stride=1):\n",
        "    return nn.Conv2d(in_channels, out_channels, kernel_size=3, \n",
        "                     stride=stride, padding=1, bias=False)"
      ],
      "metadata": {
        "id": "G9TNZ9fONNbW"
      },
      "execution_count": null,
      "outputs": []
    },
    {
      "cell_type": "code",
      "execution_count": null,
      "metadata": {
        "execution": {
          "iopub.execute_input": "2020-09-18T14:06:42.726092Z",
          "iopub.status.busy": "2020-09-18T14:06:42.719704Z",
          "iopub.status.idle": "2020-09-18T14:06:42.729169Z",
          "shell.execute_reply": "2020-09-18T14:06:42.728568Z"
        },
        "papermill": {
          "duration": 0.048555,
          "end_time": "2020-09-18T14:06:42.729267",
          "exception": false,
          "start_time": "2020-09-18T14:06:42.680712",
          "status": "completed"
        },
        "tags": [],
        "id": "yJJ0Idu8Ks_j"
      },
      "outputs": [],
      "source": [
        "# Residual block\n",
        "class ResidualBlock(nn.Module):\n",
        "    def __init__(self, in_channels, out_channels, stride=1, downsample=None):\n",
        "        super(ResidualBlock, self).__init__()\n",
        "        \n",
        "        self.conv1 = conv3x3(in_channels, out_channels, stride)\n",
        "        self.bn1 = nn.BatchNorm2d(out_channels)\n",
        "        self.dropout1 = nn.Dropout(0.1)\n",
        "        \n",
        "        self.relu = nn.ReLU(inplace=True)\n",
        "        \n",
        "        self.conv2 = conv3x3(out_channels, out_channels)\n",
        "        self.bn2 = nn.BatchNorm2d(out_channels)\n",
        "        self.dropout2 = nn.Dropout(0.1)\n",
        "        \n",
        "        self.downsample = downsample\n",
        "\n",
        "    def forward(self, x):\n",
        "        residual = x\n",
        "\n",
        "        out = self.conv1(x)\n",
        "        out = self.bn1(out)\n",
        "        # out = self.dropout1(out)\n",
        "        out = self.relu(out)\n",
        "        \n",
        "        out = self.conv2(out)\n",
        "        out = self.bn2(out)\n",
        "        # out = self.dropout2(out)\n",
        "        if self.downsample:\n",
        "            residual = self.downsample(x)\n",
        "        out += residual\n",
        "        out = self.relu(out)\n",
        "        \n",
        "        return out\n",
        "\n",
        "# ResNet\n",
        "class ResNet(nn.Module):\n",
        "    def __init__(self, block, layers, num_classes=10):\n",
        "        super(ResNet, self).__init__()\n",
        "        \n",
        "        self.in_channels = 16\n",
        "        \n",
        "        self.conv = conv3x3(in_channels=3, out_channels=16)\n",
        "        self.bn = nn.BatchNorm2d(16)\n",
        "        self.relu = nn.ReLU(inplace=True)\n",
        "\n",
        "        self.layer1 = self.make_layer(block=block, out_channels=16, blocks=layers[0], stride=1)\n",
        "        self.layer2 = self.make_layer(block=block, out_channels=32, blocks=layers[1], stride=2)\n",
        "        self.layer3 = self.make_layer(block=block, out_channels=64, blocks=layers[2], stride=2)\n",
        "        self.layer4 = self.make_layer(block=block, out_channels=128, blocks=layers[3], stride=2)\n",
        "        self.layer5 = self.make_layer(block=block, out_channels=256, blocks=layers[4], stride=2)\n",
        "\n",
        "        # self.avg_pool = nn.AvgPool2d(1)\n",
        "        self.fc = nn.Linear(1024, num_classes)\n",
        "        # self.fc = nn.Linear(128, num_classes)\n",
        "\n",
        "    def make_layer(self, block, out_channels, blocks, stride=1):\n",
        "        downsample = None\n",
        "        if (stride != 1) or (self.in_channels != out_channels):\n",
        "            downsample = nn.Sequential(\n",
        "                conv3x3(self.in_channels, out_channels, stride=stride),\n",
        "                nn.BatchNorm2d(out_channels))\n",
        "        layers = []\n",
        "        layers.append(block(self.in_channels, out_channels, stride, downsample))\n",
        "        self.in_channels = out_channels\n",
        "        for i in range(1, blocks):\n",
        "            layers.append(block(out_channels, out_channels))\n",
        "        return nn.Sequential(*layers)\n",
        "\n",
        "    def forward(self, x):\n",
        "        out = self.conv(x)\n",
        "        out = self.bn(out)\n",
        "        out = self.relu(out)\n",
        "        out = self.layer1(out)\n",
        "        out = self.layer2(out)\n",
        "        out = self.layer3(out)\n",
        "        out = self.layer4(out)\n",
        "        out = self.layer5(out)\n",
        "        # out = self.avg_pool(out)\n",
        "        out = out.view(out.size(0), -1)\n",
        "        out = self.fc(out)\n",
        "        return F.log_softmax(out, dim=-1)\n",
        "\n",
        "def ResNet18():\n",
        "    return ResNet(ResidualBlock, [2, 2, 2, 2, 2])\n",
        "    # return ResNet(ResidualBlock, [2, 2, 2])"
      ]
    },
    {
      "cell_type": "code",
      "execution_count": null,
      "metadata": {
        "execution": {
          "iopub.execute_input": "2020-09-18T14:06:42.764813Z",
          "iopub.status.busy": "2020-09-18T14:06:42.764098Z",
          "iopub.status.idle": "2020-09-18T14:06:48.527600Z",
          "shell.execute_reply": "2020-09-18T14:06:48.528219Z"
        },
        "papermill": {
          "duration": 5.783641,
          "end_time": "2020-09-18T14:06:48.528379",
          "exception": false,
          "start_time": "2020-09-18T14:06:42.744738",
          "status": "completed"
        },
        "tags": [],
        "colab": {
          "base_uri": "https://localhost:8080/"
        },
        "id": "INT7cGhKKs_k",
        "outputId": "0db64e22-4711-4f48-e2f7-a6713e45d55f"
      },
      "outputs": [
        {
          "output_type": "stream",
          "name": "stdout",
          "text": [
            "----------------------------------------------------------------\n",
            "        Layer (type)               Output Shape         Param #\n",
            "================================================================\n",
            "            Conv2d-1           [-1, 16, 32, 32]             432\n",
            "       BatchNorm2d-2           [-1, 16, 32, 32]              32\n",
            "              ReLU-3           [-1, 16, 32, 32]               0\n",
            "            Conv2d-4           [-1, 16, 32, 32]           2,304\n",
            "       BatchNorm2d-5           [-1, 16, 32, 32]              32\n",
            "              ReLU-6           [-1, 16, 32, 32]               0\n",
            "            Conv2d-7           [-1, 16, 32, 32]           2,304\n",
            "       BatchNorm2d-8           [-1, 16, 32, 32]              32\n",
            "              ReLU-9           [-1, 16, 32, 32]               0\n",
            "    ResidualBlock-10           [-1, 16, 32, 32]               0\n",
            "           Conv2d-11           [-1, 16, 32, 32]           2,304\n",
            "      BatchNorm2d-12           [-1, 16, 32, 32]              32\n",
            "             ReLU-13           [-1, 16, 32, 32]               0\n",
            "           Conv2d-14           [-1, 16, 32, 32]           2,304\n",
            "      BatchNorm2d-15           [-1, 16, 32, 32]              32\n",
            "             ReLU-16           [-1, 16, 32, 32]               0\n",
            "    ResidualBlock-17           [-1, 16, 32, 32]               0\n",
            "           Conv2d-18           [-1, 32, 16, 16]           4,608\n",
            "      BatchNorm2d-19           [-1, 32, 16, 16]              64\n",
            "             ReLU-20           [-1, 32, 16, 16]               0\n",
            "           Conv2d-21           [-1, 32, 16, 16]           9,216\n",
            "      BatchNorm2d-22           [-1, 32, 16, 16]              64\n",
            "           Conv2d-23           [-1, 32, 16, 16]           4,608\n",
            "      BatchNorm2d-24           [-1, 32, 16, 16]              64\n",
            "             ReLU-25           [-1, 32, 16, 16]               0\n",
            "    ResidualBlock-26           [-1, 32, 16, 16]               0\n",
            "           Conv2d-27           [-1, 32, 16, 16]           9,216\n",
            "      BatchNorm2d-28           [-1, 32, 16, 16]              64\n",
            "             ReLU-29           [-1, 32, 16, 16]               0\n",
            "           Conv2d-30           [-1, 32, 16, 16]           9,216\n",
            "      BatchNorm2d-31           [-1, 32, 16, 16]              64\n",
            "             ReLU-32           [-1, 32, 16, 16]               0\n",
            "    ResidualBlock-33           [-1, 32, 16, 16]               0\n",
            "           Conv2d-34             [-1, 64, 8, 8]          18,432\n",
            "      BatchNorm2d-35             [-1, 64, 8, 8]             128\n",
            "             ReLU-36             [-1, 64, 8, 8]               0\n",
            "           Conv2d-37             [-1, 64, 8, 8]          36,864\n",
            "      BatchNorm2d-38             [-1, 64, 8, 8]             128\n",
            "           Conv2d-39             [-1, 64, 8, 8]          18,432\n",
            "      BatchNorm2d-40             [-1, 64, 8, 8]             128\n",
            "             ReLU-41             [-1, 64, 8, 8]               0\n",
            "    ResidualBlock-42             [-1, 64, 8, 8]               0\n",
            "           Conv2d-43             [-1, 64, 8, 8]          36,864\n",
            "      BatchNorm2d-44             [-1, 64, 8, 8]             128\n",
            "             ReLU-45             [-1, 64, 8, 8]               0\n",
            "           Conv2d-46             [-1, 64, 8, 8]          36,864\n",
            "      BatchNorm2d-47             [-1, 64, 8, 8]             128\n",
            "             ReLU-48             [-1, 64, 8, 8]               0\n",
            "    ResidualBlock-49             [-1, 64, 8, 8]               0\n",
            "           Conv2d-50            [-1, 128, 4, 4]          73,728\n",
            "      BatchNorm2d-51            [-1, 128, 4, 4]             256\n",
            "             ReLU-52            [-1, 128, 4, 4]               0\n",
            "           Conv2d-53            [-1, 128, 4, 4]         147,456\n",
            "      BatchNorm2d-54            [-1, 128, 4, 4]             256\n",
            "           Conv2d-55            [-1, 128, 4, 4]          73,728\n",
            "      BatchNorm2d-56            [-1, 128, 4, 4]             256\n",
            "             ReLU-57            [-1, 128, 4, 4]               0\n",
            "    ResidualBlock-58            [-1, 128, 4, 4]               0\n",
            "           Conv2d-59            [-1, 128, 4, 4]         147,456\n",
            "      BatchNorm2d-60            [-1, 128, 4, 4]             256\n",
            "             ReLU-61            [-1, 128, 4, 4]               0\n",
            "           Conv2d-62            [-1, 128, 4, 4]         147,456\n",
            "      BatchNorm2d-63            [-1, 128, 4, 4]             256\n",
            "             ReLU-64            [-1, 128, 4, 4]               0\n",
            "    ResidualBlock-65            [-1, 128, 4, 4]               0\n",
            "           Conv2d-66            [-1, 256, 2, 2]         294,912\n",
            "      BatchNorm2d-67            [-1, 256, 2, 2]             512\n",
            "             ReLU-68            [-1, 256, 2, 2]               0\n",
            "           Conv2d-69            [-1, 256, 2, 2]         589,824\n",
            "      BatchNorm2d-70            [-1, 256, 2, 2]             512\n",
            "           Conv2d-71            [-1, 256, 2, 2]         294,912\n",
            "      BatchNorm2d-72            [-1, 256, 2, 2]             512\n",
            "             ReLU-73            [-1, 256, 2, 2]               0\n",
            "    ResidualBlock-74            [-1, 256, 2, 2]               0\n",
            "           Conv2d-75            [-1, 256, 2, 2]         589,824\n",
            "      BatchNorm2d-76            [-1, 256, 2, 2]             512\n",
            "             ReLU-77            [-1, 256, 2, 2]               0\n",
            "           Conv2d-78            [-1, 256, 2, 2]         589,824\n",
            "      BatchNorm2d-79            [-1, 256, 2, 2]             512\n",
            "             ReLU-80            [-1, 256, 2, 2]               0\n",
            "    ResidualBlock-81            [-1, 256, 2, 2]               0\n",
            "           Linear-82                   [-1, 10]          10,250\n",
            "================================================================\n",
            "Total params: 3,158,298\n",
            "Trainable params: 3,158,298\n",
            "Non-trainable params: 0\n",
            "----------------------------------------------------------------\n",
            "Input size (MB): 0.01\n",
            "Forward/backward pass size (MB): 4.00\n",
            "Params size (MB): 12.05\n",
            "Estimated Total Size (MB): 16.06\n",
            "----------------------------------------------------------------\n"
          ]
        }
      ],
      "source": [
        "# Importing Model and printing Summary\n",
        "model = ResNet18().to(device)\n",
        "summary(model, input_size=(3,32,32))"
      ]
    },
    {
      "cell_type": "code",
      "execution_count": null,
      "metadata": {
        "execution": {
          "iopub.execute_input": "2020-09-18T14:06:48.577693Z",
          "iopub.status.busy": "2020-09-18T14:06:48.576994Z",
          "iopub.status.idle": "2020-09-18T14:06:48.581591Z",
          "shell.execute_reply": "2020-09-18T14:06:48.581094Z"
        },
        "papermill": {
          "duration": 0.03332,
          "end_time": "2020-09-18T14:06:48.581710",
          "exception": false,
          "start_time": "2020-09-18T14:06:48.548390",
          "status": "completed"
        },
        "tags": [],
        "id": "-53UyTmsKs_m"
      },
      "outputs": [],
      "source": [
        "from tqdm import tqdm\n",
        "from torch import nn\n",
        "import torch.nn\n",
        "from torch.functional import F\n",
        "import os\n",
        "\n",
        "\n",
        "def model_training(model, device, train_dataloader, optimizer, train_acc, train_losses):\n",
        "            \n",
        "    model.train()\n",
        "    pbar = tqdm(train_dataloader)\n",
        "    correct = 0\n",
        "    processed = 0\n",
        "    running_loss = 0.0\n",
        "\n",
        "    for batch_idx, (data, target) in enumerate(pbar):\n",
        "        data, target = data.to(device), target.to(device)\n",
        "        optimizer.zero_grad()\n",
        "        y_pred = model(data)\n",
        "        loss = F.nll_loss(y_pred, target)\n",
        "        \n",
        "\n",
        "        # train_losses.append(loss.item())\n",
        "        loss.backward()\n",
        "        optimizer.step()\n",
        "\n",
        "        pred = y_pred.argmax(dim=1, keepdim=True)\n",
        "        correct += pred.eq(target.view_as(pred)).sum().item()\n",
        "        processed += len(data)\n",
        "        \n",
        "        # print statistics\n",
        "        \n",
        "        running_loss += loss.item()\n",
        "        pbar.set_description(desc=f'Batch_id={batch_idx} Batch Loss={loss.item()} Running Loss={running_loss} Running Accuracy={100*correct/processed:0.2f}')\n",
        "        # train_acc.append(100*correct/processed)\n",
        "    \n",
        "    train_losses.append(running_loss)\n",
        "    train_acc.append(100*correct/processed)"
      ]
    },
    {
      "cell_type": "code",
      "execution_count": null,
      "metadata": {
        "execution": {
          "iopub.execute_input": "2020-09-18T14:06:48.629732Z",
          "iopub.status.busy": "2020-09-18T14:06:48.628793Z",
          "iopub.status.idle": "2020-09-18T14:06:48.631384Z",
          "shell.execute_reply": "2020-09-18T14:06:48.631909Z"
        },
        "papermill": {
          "duration": 0.03462,
          "end_time": "2020-09-18T14:06:48.632026",
          "exception": false,
          "start_time": "2020-09-18T14:06:48.597406",
          "status": "completed"
        },
        "tags": [],
        "id": "E4BrK-0EKs_n"
      },
      "outputs": [],
      "source": [
        "import torch\n",
        "import os\n",
        "from torch.functional import F\n",
        "\n",
        "cwd = os.getcwd()\n",
        "\n",
        "def model_testing(model, device, test_dataloader, test_acc, test_losses, misclassified = []):\n",
        "    \n",
        "    model.eval()\n",
        "    test_loss = 0\n",
        "    correct = 0\n",
        "    class_correct = list(0. for i in range(10))\n",
        "    class_total = list(0. for i in range(10))\n",
        "    # label = 0\n",
        "    classes = ('plane', 'car', 'bird', 'cat',\n",
        "           'deer', 'dog', 'frog', 'horse', 'ship', 'truck')\n",
        "    \n",
        "    with torch.no_grad():\n",
        "\n",
        "        for index, (data, target) in enumerate(test_dataloader):\n",
        "            data, target = data.to(device), target.to(device)\n",
        "            output = model(data)\n",
        "            pred = output.argmax(dim=1, keepdim=True)\n",
        "            \n",
        "            for d,i,j in zip(data, pred, target):\n",
        "                if i != j:\n",
        "                    misclassified.append([d.cpu(),i[0].cpu(),j.cpu()])\n",
        "\n",
        "            test_loss += F.nll_loss(output, target, reduction='sum').item()\n",
        "            correct += pred.eq(target.view_as(pred)).sum().item()\n",
        "    test_loss /= len(test_dataloader.dataset)\n",
        "    test_losses.append(test_loss)\n",
        "    \n",
        "    print('\\nTest set: Average loss: {:.4f}, Accuracy: {}/{} ({:.2f}%)\\n'.format(\n",
        "        test_loss, correct, len(test_dataloader.dataset),\n",
        "        100. * correct / len(test_dataloader.dataset)))\n",
        "    \n",
        "    test_acc.append(100. * correct / len(test_dataloader.dataset))\n",
        "    return misclassified, correct / len(test_dataloader.dataset)"
      ]
    },
    {
      "cell_type": "code",
      "source": [
        "def model_evaluation(model, device, loader):\n",
        "    \n",
        "    epoch_loss = 0\n",
        "    epoch_acc = 0\n",
        "    \n",
        "    model.eval()\n",
        "    \n",
        "    with torch.no_grad():\n",
        "        \n",
        "        for (x, y) in loader:\n",
        "\n",
        "            x = x.to(device)\n",
        "            y = y.to(device)\n",
        "\n",
        "            y_pred = model(x)\n",
        "            loss = F.nll_loss(y_pred, y)\n",
        "        \n",
        "            pred = y_pred.argmax(dim=1, keepdim=True)\n",
        "            acc = pred.eq(y.view_as(pred)).sum()\n",
        "\n",
        "            epoch_loss += loss.item()\n",
        "            epoch_acc += acc.item()\n",
        "        \n",
        "    print('\\nValidation set: Average loss: {:.4f}, Accuracy: {}/{} ({:.2f}%)\\n'.format(\n",
        "    epoch_loss / len(loader.dataset), epoch_acc, len(loader.dataset),\n",
        "    100. * epoch_acc / len(loader.dataset)))\n",
        "\n",
        "    return epoch_loss, epoch_acc / len(loader.dataset)"
      ],
      "metadata": {
        "id": "ysDy3WkqUGb-"
      },
      "execution_count": null,
      "outputs": []
    },
    {
      "cell_type": "code",
      "source": [
        "# Defining parameters\n",
        "\n",
        "criterion = nn.CrossEntropyLoss()\n",
        "\n",
        "# optimizer = optim.SGD(model.parameters(), lr=0.05, momentum=0.9)\n",
        "optimizer = optim.SGD(model.parameters(), lr=0.01, momentum=0.9)\n",
        "\n",
        "scheduler = ReduceLROnPlateau(optimizer, mode='min', factor=0.1, patience=2, threshold=0.0001, threshold_mode='rel', cooldown=0, min_lr=0, eps=1e-08, verbose=True)\n",
        "# scheduler = ReduceLROnPlateau(optimizer, mode='min', factor=0.1, patience=2, threshold=0.001, threshold_mode='rel', cooldown=0, min_lr=0, eps=1e-08, verbose=True)\n",
        "# scheduler = StepLR(optimizer, step_size=15, gamma=0.1)"
      ],
      "metadata": {
        "id": "L7LSCkvhAdb0"
      },
      "execution_count": null,
      "outputs": []
    },
    {
      "cell_type": "code",
      "source": [
        "import pandas\n",
        "\n",
        "def save_to_csv(csvname, train_losses, train_accs, test_losses, test_accs):\n",
        "  df = pandas.DataFrame()\n",
        "  df[\"epoch\"] = [i+1 for i in range(len(train_losses))]\n",
        "  df[\"train_loss\"] = train_losses\n",
        "  df[\"test_loss\"] = test_losses\n",
        "  df[\"train_acc\"] = train_accs\n",
        "  df[\"test_acc\"] = test_accs\n",
        "  df.to_csv(csvname)"
      ],
      "metadata": {
        "id": "cBQ9kni8wvoY"
      },
      "execution_count": null,
      "outputs": []
    },
    {
      "cell_type": "code",
      "execution_count": null,
      "metadata": {
        "execution": {
          "iopub.execute_input": "2020-09-18T14:06:48.676683Z",
          "iopub.status.busy": "2020-09-18T14:06:48.675972Z",
          "iopub.status.idle": "2020-09-18T14:33:04.548416Z",
          "shell.execute_reply": "2020-09-18T14:33:04.549364Z"
        },
        "papermill": {
          "duration": 1575.900797,
          "end_time": "2020-09-18T14:33:04.549700",
          "exception": false,
          "start_time": "2020-09-18T14:06:48.648903",
          "status": "completed"
        },
        "tags": [],
        "colab": {
          "base_uri": "https://localhost:8080/"
        },
        "id": "rtrFA-RCKs_o",
        "outputId": "79070438-634f-4002-933c-b4c03c09a627"
      },
      "outputs": [
        {
          "output_type": "stream",
          "name": "stdout",
          "text": [
            "EPOCHS : 0\n"
          ]
        },
        {
          "output_type": "stream",
          "name": "stderr",
          "text": [
            "Batch_id=87 Batch Loss=1.533178687095642 Running Loss=160.82053685188293 Running Accuracy=33.47: 100%|██████████| 88/88 [00:30<00:00,  2.93it/s]\n"
          ]
        },
        {
          "output_type": "stream",
          "name": "stdout",
          "text": [
            "\n",
            "Validation set: Average loss: 0.0031, Accuracy: 2237/5000 (44.74%)\n",
            "\n",
            "\n",
            "Test set: Average loss: 1.5387, Accuracy: 4392/10000 (43.92%)\n",
            "\n",
            "EPOCHS : 1\n"
          ]
        },
        {
          "output_type": "stream",
          "name": "stderr",
          "text": [
            "Batch_id=87 Batch Loss=1.3206218481063843 Running Loss=127.25424754619598 Running Accuracy=47.39: 100%|██████████| 88/88 [00:32<00:00,  2.74it/s]\n"
          ]
        },
        {
          "output_type": "stream",
          "name": "stdout",
          "text": [
            "\n",
            "Validation set: Average loss: 0.0026, Accuracy: 2644/5000 (52.88%)\n",
            "\n",
            "\n",
            "Test set: Average loss: 1.3077, Accuracy: 5281/10000 (52.81%)\n",
            "\n",
            "EPOCHS : 2\n"
          ]
        },
        {
          "output_type": "stream",
          "name": "stderr",
          "text": [
            "Batch_id=87 Batch Loss=1.1718289852142334 Running Loss=110.34428369998932 Running Accuracy=54.73: 100%|██████████| 88/88 [00:31<00:00,  2.81it/s]\n"
          ]
        },
        {
          "output_type": "stream",
          "name": "stdout",
          "text": [
            "\n",
            "Validation set: Average loss: 0.0023, Accuracy: 2970/5000 (59.40%)\n",
            "\n",
            "\n",
            "Test set: Average loss: 1.1445, Accuracy: 5856/10000 (58.56%)\n",
            "\n",
            "EPOCHS : 3\n"
          ]
        },
        {
          "output_type": "stream",
          "name": "stderr",
          "text": [
            "Batch_id=87 Batch Loss=0.9845192432403564 Running Loss=97.32170605659485 Running Accuracy=60.29: 100%|██████████| 88/88 [00:29<00:00,  2.94it/s]\n"
          ]
        },
        {
          "output_type": "stream",
          "name": "stdout",
          "text": [
            "\n",
            "Validation set: Average loss: 0.0022, Accuracy: 3107/5000 (62.14%)\n",
            "\n",
            "\n",
            "Test set: Average loss: 1.0886, Accuracy: 6229/10000 (62.29%)\n",
            "\n",
            "EPOCHS : 4\n"
          ]
        },
        {
          "output_type": "stream",
          "name": "stderr",
          "text": [
            "Batch_id=87 Batch Loss=1.0126570463180542 Running Loss=87.80799752473831 Running Accuracy=64.53: 100%|██████████| 88/88 [00:30<00:00,  2.86it/s]\n"
          ]
        },
        {
          "output_type": "stream",
          "name": "stdout",
          "text": [
            "\n",
            "Validation set: Average loss: 0.0019, Accuracy: 3307/5000 (66.14%)\n",
            "\n",
            "\n",
            "Test set: Average loss: 0.9433, Accuracy: 6646/10000 (66.46%)\n",
            "\n",
            "EPOCHS : 5\n"
          ]
        },
        {
          "output_type": "stream",
          "name": "stderr",
          "text": [
            "Batch_id=87 Batch Loss=0.8545123338699341 Running Loss=79.60515213012695 Running Accuracy=68.11: 100%|██████████| 88/88 [00:31<00:00,  2.77it/s]\n"
          ]
        },
        {
          "output_type": "stream",
          "name": "stdout",
          "text": [
            "\n",
            "Validation set: Average loss: 0.0017, Accuracy: 3444/5000 (68.88%)\n",
            "\n",
            "\n",
            "Test set: Average loss: 0.8871, Accuracy: 6890/10000 (68.90%)\n",
            "\n",
            "EPOCHS : 6\n"
          ]
        },
        {
          "output_type": "stream",
          "name": "stderr",
          "text": [
            "Batch_id=87 Batch Loss=0.7885748744010925 Running Loss=73.97141057252884 Running Accuracy=70.31: 100%|██████████| 88/88 [00:29<00:00,  2.95it/s]\n"
          ]
        },
        {
          "output_type": "stream",
          "name": "stdout",
          "text": [
            "\n",
            "Validation set: Average loss: 0.0018, Accuracy: 3381/5000 (67.62%)\n",
            "\n",
            "\n",
            "Test set: Average loss: 0.9499, Accuracy: 6718/10000 (67.18%)\n",
            "\n",
            "EPOCHS : 7\n"
          ]
        },
        {
          "output_type": "stream",
          "name": "stderr",
          "text": [
            "Batch_id=87 Batch Loss=0.7396567463874817 Running Loss=69.27017080783844 Running Accuracy=72.11: 100%|██████████| 88/88 [00:31<00:00,  2.80it/s]\n"
          ]
        },
        {
          "output_type": "stream",
          "name": "stdout",
          "text": [
            "\n",
            "Validation set: Average loss: 0.0015, Accuracy: 3651/5000 (73.02%)\n",
            "\n",
            "\n",
            "Test set: Average loss: 0.7830, Accuracy: 7258/10000 (72.58%)\n",
            "\n",
            "EPOCHS : 8\n"
          ]
        },
        {
          "output_type": "stream",
          "name": "stderr",
          "text": [
            "Batch_id=87 Batch Loss=0.7254542112350464 Running Loss=64.09673744440079 Running Accuracy=74.34: 100%|██████████| 88/88 [00:31<00:00,  2.79it/s]\n"
          ]
        },
        {
          "output_type": "stream",
          "name": "stdout",
          "text": [
            "\n",
            "Validation set: Average loss: 0.0015, Accuracy: 3727/5000 (74.54%)\n",
            "\n",
            "\n",
            "Test set: Average loss: 0.7541, Accuracy: 7413/10000 (74.13%)\n",
            "\n",
            "EPOCHS : 9\n"
          ]
        },
        {
          "output_type": "stream",
          "name": "stderr",
          "text": [
            "Batch_id=87 Batch Loss=0.6977573037147522 Running Loss=60.77505028247833 Running Accuracy=75.78: 100%|██████████| 88/88 [00:30<00:00,  2.89it/s]\n"
          ]
        },
        {
          "output_type": "stream",
          "name": "stdout",
          "text": [
            "\n",
            "Validation set: Average loss: 0.0014, Accuracy: 3791/5000 (75.82%)\n",
            "\n",
            "\n",
            "Test set: Average loss: 0.7165, Accuracy: 7549/10000 (75.49%)\n",
            "\n",
            "EPOCHS : 10\n"
          ]
        },
        {
          "output_type": "stream",
          "name": "stderr",
          "text": [
            "Batch_id=87 Batch Loss=0.6153760552406311 Running Loss=57.030347406864166 Running Accuracy=77.20: 100%|██████████| 88/88 [00:31<00:00,  2.77it/s]\n"
          ]
        },
        {
          "output_type": "stream",
          "name": "stdout",
          "text": [
            "\n",
            "Validation set: Average loss: 0.0013, Accuracy: 3872/5000 (77.44%)\n",
            "\n",
            "\n",
            "Test set: Average loss: 0.6837, Accuracy: 7634/10000 (76.34%)\n",
            "\n",
            "EPOCHS : 11\n"
          ]
        },
        {
          "output_type": "stream",
          "name": "stderr",
          "text": [
            "Batch_id=87 Batch Loss=0.5943223237991333 Running Loss=54.74453654885292 Running Accuracy=77.96: 100%|██████████| 88/88 [00:31<00:00,  2.79it/s]\n"
          ]
        },
        {
          "output_type": "stream",
          "name": "stdout",
          "text": [
            "\n",
            "Validation set: Average loss: 0.0013, Accuracy: 3896/5000 (77.92%)\n",
            "\n",
            "\n",
            "Test set: Average loss: 0.6944, Accuracy: 7679/10000 (76.79%)\n",
            "\n",
            "EPOCHS : 12\n"
          ]
        },
        {
          "output_type": "stream",
          "name": "stderr",
          "text": [
            "Batch_id=87 Batch Loss=0.6166963577270508 Running Loss=51.68217560648918 Running Accuracy=79.25: 100%|██████████| 88/88 [00:30<00:00,  2.87it/s]\n"
          ]
        },
        {
          "output_type": "stream",
          "name": "stdout",
          "text": [
            "\n",
            "Validation set: Average loss: 0.0013, Accuracy: 3877/5000 (77.54%)\n",
            "\n",
            "\n",
            "Test set: Average loss: 0.6956, Accuracy: 7667/10000 (76.67%)\n",
            "\n",
            "EPOCHS : 13\n"
          ]
        },
        {
          "output_type": "stream",
          "name": "stderr",
          "text": [
            "Batch_id=87 Batch Loss=0.5774807929992676 Running Loss=49.22520875930786 Running Accuracy=80.32: 100%|██████████| 88/88 [00:31<00:00,  2.77it/s]\n"
          ]
        },
        {
          "output_type": "stream",
          "name": "stdout",
          "text": [
            "\n",
            "Validation set: Average loss: 0.0013, Accuracy: 3894/5000 (77.88%)\n",
            "\n",
            "\n",
            "Test set: Average loss: 0.6707, Accuracy: 7772/10000 (77.72%)\n",
            "\n",
            "EPOCHS : 14\n"
          ]
        },
        {
          "output_type": "stream",
          "name": "stderr",
          "text": [
            "Batch_id=87 Batch Loss=0.6065275073051453 Running Loss=46.81779929995537 Running Accuracy=81.38: 100%|██████████| 88/88 [00:31<00:00,  2.77it/s]\n"
          ]
        },
        {
          "output_type": "stream",
          "name": "stdout",
          "text": [
            "\n",
            "Validation set: Average loss: 0.0013, Accuracy: 3924/5000 (78.48%)\n",
            "\n",
            "\n",
            "Test set: Average loss: 0.6845, Accuracy: 7704/10000 (77.04%)\n",
            "\n",
            "EPOCHS : 15\n"
          ]
        },
        {
          "output_type": "stream",
          "name": "stderr",
          "text": [
            "Batch_id=87 Batch Loss=0.4993970990180969 Running Loss=44.53881257772446 Running Accuracy=82.19: 100%|██████████| 88/88 [00:31<00:00,  2.83it/s]\n"
          ]
        },
        {
          "output_type": "stream",
          "name": "stdout",
          "text": [
            "\n",
            "Validation set: Average loss: 0.0013, Accuracy: 3929/5000 (78.58%)\n",
            "\n",
            "\n",
            "Test set: Average loss: 0.6757, Accuracy: 7770/10000 (77.70%)\n",
            "\n",
            "EPOCHS : 16\n"
          ]
        },
        {
          "output_type": "stream",
          "name": "stderr",
          "text": [
            "Batch_id=87 Batch Loss=0.5340270400047302 Running Loss=43.286661982536316 Running Accuracy=82.44: 100%|██████████| 88/88 [00:31<00:00,  2.78it/s]\n"
          ]
        },
        {
          "output_type": "stream",
          "name": "stdout",
          "text": [
            "\n",
            "Validation set: Average loss: 0.0012, Accuracy: 3992/5000 (79.84%)\n",
            "\n",
            "\n",
            "Test set: Average loss: 0.6477, Accuracy: 7874/10000 (78.74%)\n",
            "\n",
            "EPOCHS : 17\n"
          ]
        },
        {
          "output_type": "stream",
          "name": "stderr",
          "text": [
            "Batch_id=87 Batch Loss=0.49629202485084534 Running Loss=41.05772063136101 Running Accuracy=83.48: 100%|██████████| 88/88 [00:31<00:00,  2.75it/s]\n"
          ]
        },
        {
          "output_type": "stream",
          "name": "stdout",
          "text": [
            "\n",
            "Validation set: Average loss: 0.0012, Accuracy: 3941/5000 (78.82%)\n",
            "\n",
            "\n",
            "Test set: Average loss: 0.6297, Accuracy: 7932/10000 (79.32%)\n",
            "\n",
            "EPOCHS : 18\n"
          ]
        },
        {
          "output_type": "stream",
          "name": "stderr",
          "text": [
            "Batch_id=87 Batch Loss=0.44800588488578796 Running Loss=39.482764571905136 Running Accuracy=84.01: 100%|██████████| 88/88 [00:30<00:00,  2.87it/s]\n"
          ]
        },
        {
          "output_type": "stream",
          "name": "stdout",
          "text": [
            "\n",
            "Validation set: Average loss: 0.0012, Accuracy: 4012/5000 (80.24%)\n",
            "\n",
            "\n",
            "Test set: Average loss: 0.6064, Accuracy: 8001/10000 (80.01%)\n",
            "\n",
            "EPOCHS : 19\n"
          ]
        },
        {
          "output_type": "stream",
          "name": "stderr",
          "text": [
            "Batch_id=87 Batch Loss=0.4128808081150055 Running Loss=38.02863824367523 Running Accuracy=84.57: 100%|██████████| 88/88 [00:31<00:00,  2.76it/s]\n"
          ]
        },
        {
          "output_type": "stream",
          "name": "stdout",
          "text": [
            "\n",
            "Validation set: Average loss: 0.0013, Accuracy: 3978/5000 (79.56%)\n",
            "\n",
            "\n",
            "Test set: Average loss: 0.6979, Accuracy: 7798/10000 (77.98%)\n",
            "\n",
            "EPOCHS : 20\n"
          ]
        },
        {
          "output_type": "stream",
          "name": "stderr",
          "text": [
            "Batch_id=87 Batch Loss=0.36146196722984314 Running Loss=36.36710104346275 Running Accuracy=85.44: 100%|██████████| 88/88 [00:31<00:00,  2.75it/s]\n"
          ]
        },
        {
          "output_type": "stream",
          "name": "stdout",
          "text": [
            "\n",
            "Validation set: Average loss: 0.0012, Accuracy: 4010/5000 (80.20%)\n",
            "\n",
            "\n",
            "Test set: Average loss: 0.6239, Accuracy: 8015/10000 (80.15%)\n",
            "\n",
            "EPOCHS : 21\n"
          ]
        },
        {
          "output_type": "stream",
          "name": "stderr",
          "text": [
            "Batch_id=87 Batch Loss=0.39267536997795105 Running Loss=35.65307918190956 Running Accuracy=85.67: 100%|██████████| 88/88 [00:30<00:00,  2.88it/s]\n"
          ]
        },
        {
          "output_type": "stream",
          "name": "stdout",
          "text": [
            "\n",
            "Validation set: Average loss: 0.0013, Accuracy: 4021/5000 (80.42%)\n",
            "\n",
            "\n",
            "Test set: Average loss: 0.6639, Accuracy: 7917/10000 (79.17%)\n",
            "\n",
            "EPOCHS : 22\n"
          ]
        },
        {
          "output_type": "stream",
          "name": "stderr",
          "text": [
            "Batch_id=87 Batch Loss=0.35337719321250916 Running Loss=34.17348563671112 Running Accuracy=86.25: 100%|██████████| 88/88 [00:31<00:00,  2.75it/s]\n"
          ]
        },
        {
          "output_type": "stream",
          "name": "stdout",
          "text": [
            "\n",
            "Validation set: Average loss: 0.0013, Accuracy: 3970/5000 (79.40%)\n",
            "\n",
            "\n",
            "Test set: Average loss: 0.6902, Accuracy: 7844/10000 (78.44%)\n",
            "\n",
            "EPOCHS : 23\n"
          ]
        },
        {
          "output_type": "stream",
          "name": "stderr",
          "text": [
            "Batch_id=87 Batch Loss=0.4182548522949219 Running Loss=32.77568516135216 Running Accuracy=86.90: 100%|██████████| 88/88 [00:31<00:00,  2.77it/s]\n"
          ]
        },
        {
          "output_type": "stream",
          "name": "stdout",
          "text": [
            "\n",
            "Validation set: Average loss: 0.0012, Accuracy: 4077/5000 (81.54%)\n",
            "\n",
            "\n",
            "Test set: Average loss: 0.6307, Accuracy: 8042/10000 (80.42%)\n",
            "\n",
            "EPOCHS : 24\n"
          ]
        },
        {
          "output_type": "stream",
          "name": "stderr",
          "text": [
            "Batch_id=87 Batch Loss=0.41881251335144043 Running Loss=30.932879835367203 Running Accuracy=87.54: 100%|██████████| 88/88 [00:30<00:00,  2.91it/s]\n"
          ]
        },
        {
          "output_type": "stream",
          "name": "stdout",
          "text": [
            "\n",
            "Validation set: Average loss: 0.0012, Accuracy: 4064/5000 (81.28%)\n",
            "\n",
            "\n",
            "Test set: Average loss: 0.6407, Accuracy: 8060/10000 (80.60%)\n",
            "\n",
            "EPOCHS : 25\n"
          ]
        },
        {
          "output_type": "stream",
          "name": "stderr",
          "text": [
            "Batch_id=87 Batch Loss=0.3825121521949768 Running Loss=30.307512044906616 Running Accuracy=87.76: 100%|██████████| 88/88 [00:31<00:00,  2.78it/s]\n"
          ]
        },
        {
          "output_type": "stream",
          "name": "stdout",
          "text": [
            "\n",
            "Validation set: Average loss: 0.0013, Accuracy: 4005/5000 (80.10%)\n",
            "\n",
            "\n",
            "Test set: Average loss: 0.6926, Accuracy: 7896/10000 (78.96%)\n",
            "\n",
            "EPOCHS : 26\n"
          ]
        },
        {
          "output_type": "stream",
          "name": "stderr",
          "text": [
            "Batch_id=87 Batch Loss=0.32460319995880127 Running Loss=29.10948197543621 Running Accuracy=88.28: 100%|██████████| 88/88 [00:31<00:00,  2.78it/s]\n"
          ]
        },
        {
          "output_type": "stream",
          "name": "stdout",
          "text": [
            "\n",
            "Validation set: Average loss: 0.0013, Accuracy: 4040/5000 (80.80%)\n",
            "\n",
            "\n",
            "Test set: Average loss: 0.6703, Accuracy: 8032/10000 (80.32%)\n",
            "\n",
            "EPOCHS : 27\n"
          ]
        },
        {
          "output_type": "stream",
          "name": "stderr",
          "text": [
            "Batch_id=87 Batch Loss=0.36590084433555603 Running Loss=28.24385115504265 Running Accuracy=88.61: 100%|██████████| 88/88 [00:30<00:00,  2.90it/s]\n"
          ]
        },
        {
          "output_type": "stream",
          "name": "stdout",
          "text": [
            "\n",
            "Validation set: Average loss: 0.0012, Accuracy: 4124/5000 (82.48%)\n",
            "\n",
            "\n",
            "Test set: Average loss: 0.6545, Accuracy: 8103/10000 (81.03%)\n",
            "\n",
            "EPOCHS : 28\n"
          ]
        },
        {
          "output_type": "stream",
          "name": "stderr",
          "text": [
            "Batch_id=87 Batch Loss=0.3609766960144043 Running Loss=26.861616909503937 Running Accuracy=89.14: 100%|██████████| 88/88 [00:31<00:00,  2.83it/s]\n"
          ]
        },
        {
          "output_type": "stream",
          "name": "stdout",
          "text": [
            "\n",
            "Validation set: Average loss: 0.0013, Accuracy: 4063/5000 (81.26%)\n",
            "\n",
            "\n",
            "Test set: Average loss: 0.7020, Accuracy: 8001/10000 (80.01%)\n",
            "\n",
            "EPOCHS : 29\n"
          ]
        },
        {
          "output_type": "stream",
          "name": "stderr",
          "text": [
            "Batch_id=87 Batch Loss=0.2853444218635559 Running Loss=26.491952121257782 Running Accuracy=89.38: 100%|██████████| 88/88 [00:31<00:00,  2.81it/s]\n"
          ]
        },
        {
          "output_type": "stream",
          "name": "stdout",
          "text": [
            "\n",
            "Validation set: Average loss: 0.0012, Accuracy: 4088/5000 (81.76%)\n",
            "\n",
            "\n",
            "Test set: Average loss: 0.6434, Accuracy: 8108/10000 (81.08%)\n",
            "\n",
            "EPOCHS : 30\n"
          ]
        },
        {
          "output_type": "stream",
          "name": "stderr",
          "text": [
            "Batch_id=87 Batch Loss=0.27582648396492004 Running Loss=24.78780046105385 Running Accuracy=89.98: 100%|██████████| 88/88 [00:30<00:00,  2.90it/s]\n"
          ]
        },
        {
          "output_type": "stream",
          "name": "stdout",
          "text": [
            "\n",
            "Validation set: Average loss: 0.0012, Accuracy: 4097/5000 (81.94%)\n",
            "\n",
            "\n",
            "Test set: Average loss: 0.6691, Accuracy: 8116/10000 (81.16%)\n",
            "\n",
            "EPOCHS : 31\n"
          ]
        },
        {
          "output_type": "stream",
          "name": "stderr",
          "text": [
            "Batch_id=87 Batch Loss=0.2831448018550873 Running Loss=24.323325857520103 Running Accuracy=90.25: 100%|██████████| 88/88 [00:31<00:00,  2.80it/s]\n"
          ]
        },
        {
          "output_type": "stream",
          "name": "stdout",
          "text": [
            "\n",
            "Validation set: Average loss: 0.0013, Accuracy: 4052/5000 (81.04%)\n",
            "\n",
            "\n",
            "Test set: Average loss: 0.6645, Accuracy: 8061/10000 (80.61%)\n",
            "\n",
            "EPOCHS : 32\n"
          ]
        },
        {
          "output_type": "stream",
          "name": "stderr",
          "text": [
            "Batch_id=87 Batch Loss=0.27606549859046936 Running Loss=23.043053463101387 Running Accuracy=90.52: 100%|██████████| 88/88 [00:29<00:00,  2.94it/s]\n"
          ]
        },
        {
          "output_type": "stream",
          "name": "stdout",
          "text": [
            "\n",
            "Validation set: Average loss: 0.0012, Accuracy: 4091/5000 (81.82%)\n",
            "\n",
            "\n",
            "Test set: Average loss: 0.6638, Accuracy: 8126/10000 (81.26%)\n",
            "\n",
            "EPOCHS : 33\n"
          ]
        },
        {
          "output_type": "stream",
          "name": "stderr",
          "text": [
            "Batch_id=87 Batch Loss=0.23807640373706818 Running Loss=22.4855527728796 Running Accuracy=90.82: 100%|██████████| 88/88 [00:30<00:00,  2.92it/s]\n"
          ]
        },
        {
          "output_type": "stream",
          "name": "stdout",
          "text": [
            "\n",
            "Validation set: Average loss: 0.0012, Accuracy: 4067/5000 (81.34%)\n",
            "\n",
            "\n",
            "Test set: Average loss: 0.6651, Accuracy: 8121/10000 (81.21%)\n",
            "\n",
            "EPOCHS : 34\n"
          ]
        },
        {
          "output_type": "stream",
          "name": "stderr",
          "text": [
            "Batch_id=87 Batch Loss=0.23973532021045685 Running Loss=22.38485223054886 Running Accuracy=91.04: 100%|██████████| 88/88 [00:31<00:00,  2.79it/s]\n"
          ]
        },
        {
          "output_type": "stream",
          "name": "stdout",
          "text": [
            "\n",
            "Validation set: Average loss: 0.0012, Accuracy: 4101/5000 (82.02%)\n",
            "\n",
            "\n",
            "Test set: Average loss: 0.6311, Accuracy: 8185/10000 (81.85%)\n",
            "\n",
            "EPOCHS : 35\n"
          ]
        },
        {
          "output_type": "stream",
          "name": "stderr",
          "text": [
            "Batch_id=87 Batch Loss=0.29700881242752075 Running Loss=21.278119310736656 Running Accuracy=91.56: 100%|██████████| 88/88 [00:30<00:00,  2.92it/s]\n"
          ]
        },
        {
          "output_type": "stream",
          "name": "stdout",
          "text": [
            "\n",
            "Validation set: Average loss: 0.0013, Accuracy: 4094/5000 (81.88%)\n",
            "\n",
            "\n",
            "Test set: Average loss: 0.6819, Accuracy: 8129/10000 (81.29%)\n",
            "\n",
            "EPOCHS : 36\n"
          ]
        },
        {
          "output_type": "stream",
          "name": "stderr",
          "text": [
            "Batch_id=87 Batch Loss=0.24956239759922028 Running Loss=20.108641102910042 Running Accuracy=91.89: 100%|██████████| 88/88 [00:31<00:00,  2.81it/s]\n"
          ]
        },
        {
          "output_type": "stream",
          "name": "stdout",
          "text": [
            "\n",
            "Validation set: Average loss: 0.0013, Accuracy: 4065/5000 (81.30%)\n",
            "\n",
            "\n",
            "Test set: Average loss: 0.7329, Accuracy: 8033/10000 (80.33%)\n",
            "\n",
            "EPOCHS : 37\n"
          ]
        },
        {
          "output_type": "stream",
          "name": "stderr",
          "text": [
            "Batch_id=87 Batch Loss=0.2583654820919037 Running Loss=19.867294535040855 Running Accuracy=91.74: 100%|██████████| 88/88 [00:31<00:00,  2.79it/s]\n"
          ]
        },
        {
          "output_type": "stream",
          "name": "stdout",
          "text": [
            "\n",
            "Validation set: Average loss: 0.0013, Accuracy: 4095/5000 (81.90%)\n",
            "\n",
            "\n",
            "Test set: Average loss: 0.7000, Accuracy: 8136/10000 (81.36%)\n",
            "\n",
            "EPOCHS : 38\n"
          ]
        },
        {
          "output_type": "stream",
          "name": "stderr",
          "text": [
            "Batch_id=87 Batch Loss=0.22634907066822052 Running Loss=19.2696775496006 Running Accuracy=92.27: 100%|██████████| 88/88 [00:30<00:00,  2.92it/s]\n"
          ]
        },
        {
          "output_type": "stream",
          "name": "stdout",
          "text": [
            "\n",
            "Validation set: Average loss: 0.0013, Accuracy: 4144/5000 (82.88%)\n",
            "\n",
            "\n",
            "Test set: Average loss: 0.6832, Accuracy: 8179/10000 (81.79%)\n",
            "\n",
            "EPOCHS : 39\n"
          ]
        },
        {
          "output_type": "stream",
          "name": "stderr",
          "text": [
            "Batch_id=87 Batch Loss=0.23078851401805878 Running Loss=18.630986973643303 Running Accuracy=92.31: 100%|██████████| 88/88 [00:30<00:00,  2.84it/s]\n"
          ]
        },
        {
          "output_type": "stream",
          "name": "stdout",
          "text": [
            "\n",
            "Validation set: Average loss: 0.0014, Accuracy: 4093/5000 (81.86%)\n",
            "\n",
            "\n",
            "Test set: Average loss: 0.7537, Accuracy: 8095/10000 (80.95%)\n",
            "\n",
            "EPOCHS : 40\n"
          ]
        },
        {
          "output_type": "stream",
          "name": "stderr",
          "text": [
            "Batch_id=87 Batch Loss=0.19586136937141418 Running Loss=18.08217054605484 Running Accuracy=92.66: 100%|██████████| 88/88 [00:30<00:00,  2.84it/s]\n"
          ]
        },
        {
          "output_type": "stream",
          "name": "stdout",
          "text": [
            "\n",
            "Validation set: Average loss: 0.0012, Accuracy: 4154/5000 (83.08%)\n",
            "\n",
            "\n",
            "Test set: Average loss: 0.6618, Accuracy: 8264/10000 (82.64%)\n",
            "\n",
            "EPOCHS : 41\n"
          ]
        },
        {
          "output_type": "stream",
          "name": "stderr",
          "text": [
            "Batch_id=87 Batch Loss=0.2595674693584442 Running Loss=17.646524220705032 Running Accuracy=92.83: 100%|██████████| 88/88 [00:30<00:00,  2.93it/s]\n"
          ]
        },
        {
          "output_type": "stream",
          "name": "stdout",
          "text": [
            "\n",
            "Validation set: Average loss: 0.0012, Accuracy: 4163/5000 (83.26%)\n",
            "\n",
            "\n",
            "Test set: Average loss: 0.6642, Accuracy: 8211/10000 (82.11%)\n",
            "\n",
            "EPOCHS : 42\n"
          ]
        },
        {
          "output_type": "stream",
          "name": "stderr",
          "text": [
            "Batch_id=87 Batch Loss=0.19901026785373688 Running Loss=17.123542740941048 Running Accuracy=93.09: 100%|██████████| 88/88 [00:31<00:00,  2.79it/s]\n"
          ]
        },
        {
          "output_type": "stream",
          "name": "stdout",
          "text": [
            "\n",
            "Validation set: Average loss: 0.0013, Accuracy: 4117/5000 (82.34%)\n",
            "\n",
            "\n",
            "Test set: Average loss: 0.7099, Accuracy: 8141/10000 (81.41%)\n",
            "\n",
            "EPOCHS : 43\n"
          ]
        },
        {
          "output_type": "stream",
          "name": "stderr",
          "text": [
            "Batch_id=87 Batch Loss=0.1531604528427124 Running Loss=16.603897035121918 Running Accuracy=93.28: 100%|██████████| 88/88 [00:30<00:00,  2.93it/s]\n"
          ]
        },
        {
          "output_type": "stream",
          "name": "stdout",
          "text": [
            "\n",
            "Validation set: Average loss: 0.0014, Accuracy: 4072/5000 (81.44%)\n",
            "\n",
            "\n",
            "Test set: Average loss: 0.7453, Accuracy: 8095/10000 (80.95%)\n",
            "\n",
            "EPOCHS : 44\n"
          ]
        },
        {
          "output_type": "stream",
          "name": "stderr",
          "text": [
            "Batch_id=87 Batch Loss=0.22233857214450836 Running Loss=15.826426811516285 Running Accuracy=93.60: 100%|██████████| 88/88 [00:29<00:00,  2.96it/s]\n"
          ]
        },
        {
          "output_type": "stream",
          "name": "stdout",
          "text": [
            "\n",
            "Validation set: Average loss: 0.0012, Accuracy: 4159/5000 (83.18%)\n",
            "\n",
            "\n",
            "Test set: Average loss: 0.6773, Accuracy: 8259/10000 (82.59%)\n",
            "\n",
            "EPOCHS : 45\n"
          ]
        },
        {
          "output_type": "stream",
          "name": "stderr",
          "text": [
            "Batch_id=87 Batch Loss=0.190532386302948 Running Loss=15.26406355202198 Running Accuracy=93.86: 100%|██████████| 88/88 [00:30<00:00,  2.86it/s]\n"
          ]
        },
        {
          "output_type": "stream",
          "name": "stdout",
          "text": [
            "\n",
            "Validation set: Average loss: 0.0014, Accuracy: 4119/5000 (82.38%)\n",
            "\n",
            "\n",
            "Test set: Average loss: 0.7517, Accuracy: 8160/10000 (81.60%)\n",
            "\n",
            "EPOCHS : 46\n"
          ]
        },
        {
          "output_type": "stream",
          "name": "stderr",
          "text": [
            "Batch_id=87 Batch Loss=0.20982985198497772 Running Loss=14.591292813420296 Running Accuracy=93.98: 100%|██████████| 88/88 [00:30<00:00,  2.93it/s]\n"
          ]
        },
        {
          "output_type": "stream",
          "name": "stdout",
          "text": [
            "\n",
            "Validation set: Average loss: 0.0013, Accuracy: 4159/5000 (83.18%)\n",
            "\n",
            "\n",
            "Test set: Average loss: 0.7085, Accuracy: 8184/10000 (81.84%)\n",
            "\n",
            "EPOCHS : 47\n"
          ]
        },
        {
          "output_type": "stream",
          "name": "stderr",
          "text": [
            "Batch_id=87 Batch Loss=0.1820976883172989 Running Loss=14.385417528450489 Running Accuracy=94.22: 100%|██████████| 88/88 [00:31<00:00,  2.84it/s]\n"
          ]
        },
        {
          "output_type": "stream",
          "name": "stdout",
          "text": [
            "\n",
            "Validation set: Average loss: 0.0014, Accuracy: 4171/5000 (83.42%)\n",
            "\n",
            "\n",
            "Test set: Average loss: 0.7422, Accuracy: 8211/10000 (82.11%)\n",
            "\n",
            "EPOCHS : 48\n"
          ]
        },
        {
          "output_type": "stream",
          "name": "stderr",
          "text": [
            "Batch_id=87 Batch Loss=0.20752063393592834 Running Loss=14.19315978884697 Running Accuracy=94.31: 100%|██████████| 88/88 [00:30<00:00,  2.87it/s]\n"
          ]
        },
        {
          "output_type": "stream",
          "name": "stdout",
          "text": [
            "\n",
            "Validation set: Average loss: 0.0014, Accuracy: 4142/5000 (82.84%)\n",
            "\n",
            "\n",
            "Test set: Average loss: 0.7464, Accuracy: 8175/10000 (81.75%)\n",
            "\n",
            "EPOCHS : 49\n"
          ]
        },
        {
          "output_type": "stream",
          "name": "stderr",
          "text": [
            "Batch_id=87 Batch Loss=0.1720251441001892 Running Loss=13.964108750224113 Running Accuracy=94.37: 100%|██████████| 88/88 [00:29<00:00,  2.97it/s]\n"
          ]
        },
        {
          "output_type": "stream",
          "name": "stdout",
          "text": [
            "\n",
            "Validation set: Average loss: 0.0013, Accuracy: 4169/5000 (83.38%)\n",
            "\n",
            "\n",
            "Test set: Average loss: 0.7296, Accuracy: 8231/10000 (82.31%)\n",
            "\n",
            "EPOCHS : 50\n"
          ]
        },
        {
          "output_type": "stream",
          "name": "stderr",
          "text": [
            "Batch_id=87 Batch Loss=0.15301819145679474 Running Loss=13.769850127398968 Running Accuracy=94.46: 100%|██████████| 88/88 [00:30<00:00,  2.86it/s]\n"
          ]
        },
        {
          "output_type": "stream",
          "name": "stdout",
          "text": [
            "\n",
            "Validation set: Average loss: 0.0013, Accuracy: 4161/5000 (83.22%)\n",
            "\n",
            "\n",
            "Test set: Average loss: 0.7351, Accuracy: 8253/10000 (82.53%)\n",
            "\n",
            "EPOCHS : 51\n"
          ]
        },
        {
          "output_type": "stream",
          "name": "stderr",
          "text": [
            "Batch_id=87 Batch Loss=0.14800839126110077 Running Loss=12.568948060274124 Running Accuracy=94.96: 100%|██████████| 88/88 [00:30<00:00,  2.87it/s]\n"
          ]
        },
        {
          "output_type": "stream",
          "name": "stdout",
          "text": [
            "\n",
            "Validation set: Average loss: 0.0015, Accuracy: 4119/5000 (82.38%)\n",
            "\n",
            "\n",
            "Test set: Average loss: 0.7699, Accuracy: 8166/10000 (81.66%)\n",
            "\n",
            "EPOCHS : 52\n"
          ]
        },
        {
          "output_type": "stream",
          "name": "stderr",
          "text": [
            "Batch_id=87 Batch Loss=0.1450144350528717 Running Loss=12.23320558667183 Running Accuracy=95.08: 100%|██████████| 88/88 [00:30<00:00,  2.93it/s]\n"
          ]
        },
        {
          "output_type": "stream",
          "name": "stdout",
          "text": [
            "\n",
            "Validation set: Average loss: 0.0013, Accuracy: 4178/5000 (83.56%)\n",
            "\n",
            "\n",
            "Test set: Average loss: 0.7271, Accuracy: 8294/10000 (82.94%)\n",
            "\n",
            "EPOCHS : 53\n"
          ]
        },
        {
          "output_type": "stream",
          "name": "stderr",
          "text": [
            "Batch_id=87 Batch Loss=0.15777170658111572 Running Loss=11.97196364402771 Running Accuracy=95.24: 100%|██████████| 88/88 [00:31<00:00,  2.82it/s]\n"
          ]
        },
        {
          "output_type": "stream",
          "name": "stdout",
          "text": [
            "\n",
            "Validation set: Average loss: 0.0013, Accuracy: 4193/5000 (83.86%)\n",
            "\n",
            "\n",
            "Test set: Average loss: 0.7187, Accuracy: 8282/10000 (82.82%)\n",
            "\n",
            "EPOCHS : 54\n"
          ]
        },
        {
          "output_type": "stream",
          "name": "stderr",
          "text": [
            "Batch_id=87 Batch Loss=0.14578847587108612 Running Loss=12.051414892077446 Running Accuracy=95.10: 100%|██████████| 88/88 [00:29<00:00,  2.94it/s]\n"
          ]
        },
        {
          "output_type": "stream",
          "name": "stdout",
          "text": [
            "\n",
            "Validation set: Average loss: 0.0014, Accuracy: 4166/5000 (83.32%)\n",
            "\n",
            "\n",
            "Test set: Average loss: 0.7640, Accuracy: 8180/10000 (81.80%)\n",
            "\n",
            "EPOCHS : 55\n"
          ]
        },
        {
          "output_type": "stream",
          "name": "stderr",
          "text": [
            "Batch_id=87 Batch Loss=0.16455835103988647 Running Loss=11.61720584332943 Running Accuracy=95.29: 100%|██████████| 88/88 [00:30<00:00,  2.86it/s]\n"
          ]
        },
        {
          "output_type": "stream",
          "name": "stdout",
          "text": [
            "\n",
            "Validation set: Average loss: 0.0014, Accuracy: 4179/5000 (83.58%)\n",
            "\n",
            "\n",
            "Test set: Average loss: 0.7402, Accuracy: 8266/10000 (82.66%)\n",
            "\n",
            "EPOCHS : 56\n"
          ]
        },
        {
          "output_type": "stream",
          "name": "stderr",
          "text": [
            "Batch_id=87 Batch Loss=0.13102662563323975 Running Loss=11.025275856256485 Running Accuracy=95.54: 100%|██████████| 88/88 [00:31<00:00,  2.82it/s]\n"
          ]
        },
        {
          "output_type": "stream",
          "name": "stdout",
          "text": [
            "\n",
            "Validation set: Average loss: 0.0013, Accuracy: 4206/5000 (84.12%)\n",
            "\n",
            "\n",
            "Test set: Average loss: 0.7067, Accuracy: 8326/10000 (83.26%)\n",
            "\n",
            "EPOCHS : 57\n"
          ]
        },
        {
          "output_type": "stream",
          "name": "stderr",
          "text": [
            "Batch_id=87 Batch Loss=0.09453301131725311 Running Loss=11.516102276742458 Running Accuracy=95.33: 100%|██████████| 88/88 [00:29<00:00,  2.97it/s]\n"
          ]
        },
        {
          "output_type": "stream",
          "name": "stdout",
          "text": [
            "\n",
            "Validation set: Average loss: 0.0014, Accuracy: 4169/5000 (83.38%)\n",
            "\n",
            "\n",
            "Test set: Average loss: 0.7919, Accuracy: 8241/10000 (82.41%)\n",
            "\n",
            "EPOCHS : 58\n"
          ]
        },
        {
          "output_type": "stream",
          "name": "stderr",
          "text": [
            "Batch_id=87 Batch Loss=0.13058806955814362 Running Loss=10.90847610682249 Running Accuracy=95.53: 100%|██████████| 88/88 [00:31<00:00,  2.81it/s]\n"
          ]
        },
        {
          "output_type": "stream",
          "name": "stdout",
          "text": [
            "\n",
            "Validation set: Average loss: 0.0014, Accuracy: 4169/5000 (83.38%)\n",
            "\n",
            "\n",
            "Test set: Average loss: 0.7505, Accuracy: 8308/10000 (83.08%)\n",
            "\n",
            "EPOCHS : 59\n"
          ]
        },
        {
          "output_type": "stream",
          "name": "stderr",
          "text": [
            "Batch_id=87 Batch Loss=0.10437758266925812 Running Loss=10.172229520976543 Running Accuracy=95.89: 100%|██████████| 88/88 [00:30<00:00,  2.89it/s]\n"
          ]
        },
        {
          "output_type": "stream",
          "name": "stdout",
          "text": [
            "\n",
            "Validation set: Average loss: 0.0014, Accuracy: 4168/5000 (83.36%)\n",
            "\n",
            "\n",
            "Test set: Average loss: 0.7606, Accuracy: 8206/10000 (82.06%)\n",
            "\n",
            "EPOCHS : 60\n"
          ]
        },
        {
          "output_type": "stream",
          "name": "stderr",
          "text": [
            "Batch_id=87 Batch Loss=0.12344255298376083 Running Loss=10.389528825879097 Running Accuracy=95.81: 100%|██████████| 88/88 [00:30<00:00,  2.93it/s]\n"
          ]
        },
        {
          "output_type": "stream",
          "name": "stdout",
          "text": [
            "\n",
            "Validation set: Average loss: 0.0013, Accuracy: 4199/5000 (83.98%)\n",
            "\n",
            "\n",
            "Test set: Average loss: 0.7423, Accuracy: 8274/10000 (82.74%)\n",
            "\n",
            "EPOCHS : 61\n"
          ]
        },
        {
          "output_type": "stream",
          "name": "stderr",
          "text": [
            "Batch_id=87 Batch Loss=0.11852353066205978 Running Loss=10.034887284040451 Running Accuracy=95.96: 100%|██████████| 88/88 [00:31<00:00,  2.84it/s]\n"
          ]
        },
        {
          "output_type": "stream",
          "name": "stdout",
          "text": [
            "\n",
            "Validation set: Average loss: 0.0013, Accuracy: 4186/5000 (83.72%)\n",
            "\n",
            "\n",
            "Test set: Average loss: 0.7259, Accuracy: 8275/10000 (82.75%)\n",
            "\n",
            "EPOCHS : 62\n"
          ]
        },
        {
          "output_type": "stream",
          "name": "stderr",
          "text": [
            "Batch_id=87 Batch Loss=0.11014486849308014 Running Loss=9.729262430220842 Running Accuracy=96.09: 100%|██████████| 88/88 [00:30<00:00,  2.92it/s]\n"
          ]
        },
        {
          "output_type": "stream",
          "name": "stdout",
          "text": [
            "\n",
            "Validation set: Average loss: 0.0014, Accuracy: 4191/5000 (83.82%)\n",
            "\n",
            "\n",
            "Test set: Average loss: 0.7470, Accuracy: 8276/10000 (82.76%)\n",
            "\n",
            "EPOCHS : 63\n"
          ]
        },
        {
          "output_type": "stream",
          "name": "stderr",
          "text": [
            "Batch_id=87 Batch Loss=0.14805231988430023 Running Loss=9.883279256522655 Running Accuracy=96.02: 100%|██████████| 88/88 [00:31<00:00,  2.81it/s]\n"
          ]
        },
        {
          "output_type": "stream",
          "name": "stdout",
          "text": [
            "\n",
            "Validation set: Average loss: 0.0014, Accuracy: 4213/5000 (84.26%)\n",
            "\n",
            "\n",
            "Test set: Average loss: 0.7431, Accuracy: 8301/10000 (83.01%)\n",
            "\n",
            "EPOCHS : 64\n"
          ]
        },
        {
          "output_type": "stream",
          "name": "stderr",
          "text": [
            "Batch_id=87 Batch Loss=0.0864214077591896 Running Loss=9.472432494163513 Running Accuracy=96.25: 100%|██████████| 88/88 [00:31<00:00,  2.78it/s]\n"
          ]
        },
        {
          "output_type": "stream",
          "name": "stdout",
          "text": [
            "\n",
            "Validation set: Average loss: 0.0014, Accuracy: 4202/5000 (84.04%)\n",
            "\n",
            "\n",
            "Test set: Average loss: 0.7429, Accuracy: 8289/10000 (82.89%)\n",
            "\n",
            "EPOCHS : 65\n"
          ]
        },
        {
          "output_type": "stream",
          "name": "stderr",
          "text": [
            "Batch_id=87 Batch Loss=0.084958016872406 Running Loss=9.274137899279594 Running Accuracy=96.32: 100%|██████████| 88/88 [00:30<00:00,  2.92it/s]\n"
          ]
        },
        {
          "output_type": "stream",
          "name": "stdout",
          "text": [
            "\n",
            "Validation set: Average loss: 0.0014, Accuracy: 4202/5000 (84.04%)\n",
            "\n",
            "\n",
            "Test set: Average loss: 0.7335, Accuracy: 8332/10000 (83.32%)\n",
            "\n",
            "EPOCHS : 66\n"
          ]
        },
        {
          "output_type": "stream",
          "name": "stderr",
          "text": [
            "Batch_id=87 Batch Loss=0.04857715219259262 Running Loss=8.66559224948287 Running Accuracy=96.47: 100%|██████████| 88/88 [00:31<00:00,  2.76it/s]\n"
          ]
        },
        {
          "output_type": "stream",
          "name": "stdout",
          "text": [
            "\n",
            "Validation set: Average loss: 0.0014, Accuracy: 4213/5000 (84.26%)\n",
            "\n",
            "\n",
            "Test set: Average loss: 0.7403, Accuracy: 8356/10000 (83.56%)\n",
            "\n",
            "EPOCHS : 67\n"
          ]
        },
        {
          "output_type": "stream",
          "name": "stderr",
          "text": [
            "Batch_id=87 Batch Loss=0.06517712026834488 Running Loss=8.70959983766079 Running Accuracy=96.48: 100%|██████████| 88/88 [00:31<00:00,  2.79it/s]\n"
          ]
        },
        {
          "output_type": "stream",
          "name": "stdout",
          "text": [
            "\n",
            "Validation set: Average loss: 0.0015, Accuracy: 4197/5000 (83.94%)\n",
            "\n",
            "\n",
            "Test set: Average loss: 0.7939, Accuracy: 8245/10000 (82.45%)\n",
            "\n",
            "EPOCHS : 68\n"
          ]
        },
        {
          "output_type": "stream",
          "name": "stderr",
          "text": [
            "Batch_id=87 Batch Loss=0.10146370530128479 Running Loss=8.262398581951857 Running Accuracy=96.58: 100%|██████████| 88/88 [00:30<00:00,  2.86it/s]\n"
          ]
        },
        {
          "output_type": "stream",
          "name": "stdout",
          "text": [
            "\n",
            "Validation set: Average loss: 0.0014, Accuracy: 4236/5000 (84.72%)\n",
            "\n",
            "\n",
            "Test set: Average loss: 0.7779, Accuracy: 8289/10000 (82.89%)\n",
            "\n",
            "EPOCHS : 69\n"
          ]
        },
        {
          "output_type": "stream",
          "name": "stderr",
          "text": [
            "Batch_id=87 Batch Loss=0.09216786175966263 Running Loss=8.407143589109182 Running Accuracy=96.67: 100%|██████████| 88/88 [00:31<00:00,  2.77it/s]\n"
          ]
        },
        {
          "output_type": "stream",
          "name": "stdout",
          "text": [
            "\n",
            "Validation set: Average loss: 0.0014, Accuracy: 4192/5000 (83.84%)\n",
            "\n",
            "\n",
            "Test set: Average loss: 0.7740, Accuracy: 8290/10000 (82.90%)\n",
            "\n",
            "EPOCHS : 70\n"
          ]
        },
        {
          "output_type": "stream",
          "name": "stderr",
          "text": [
            "Batch_id=87 Batch Loss=0.08586664497852325 Running Loss=8.009552504867315 Running Accuracy=96.70: 100%|██████████| 88/88 [00:30<00:00,  2.85it/s]\n"
          ]
        },
        {
          "output_type": "stream",
          "name": "stdout",
          "text": [
            "\n",
            "Validation set: Average loss: 0.0015, Accuracy: 4201/5000 (84.02%)\n",
            "\n",
            "\n",
            "Test set: Average loss: 0.7756, Accuracy: 8317/10000 (83.17%)\n",
            "\n",
            "EPOCHS : 71\n"
          ]
        },
        {
          "output_type": "stream",
          "name": "stderr",
          "text": [
            "Batch_id=87 Batch Loss=0.11325112730264664 Running Loss=7.844544962048531 Running Accuracy=96.91: 100%|██████████| 88/88 [00:30<00:00,  2.84it/s]\n"
          ]
        },
        {
          "output_type": "stream",
          "name": "stdout",
          "text": [
            "\n",
            "Validation set: Average loss: 0.0014, Accuracy: 4244/5000 (84.88%)\n",
            "\n",
            "\n",
            "Test set: Average loss: 0.7619, Accuracy: 8343/10000 (83.43%)\n",
            "\n",
            "EPOCHS : 72\n"
          ]
        },
        {
          "output_type": "stream",
          "name": "stderr",
          "text": [
            "Batch_id=87 Batch Loss=0.04857632890343666 Running Loss=7.803324863314629 Running Accuracy=96.88: 100%|██████████| 88/88 [00:32<00:00,  2.74it/s]\n"
          ]
        },
        {
          "output_type": "stream",
          "name": "stdout",
          "text": [
            "\n",
            "Validation set: Average loss: 0.0015, Accuracy: 4207/5000 (84.14%)\n",
            "\n",
            "\n",
            "Test set: Average loss: 0.7828, Accuracy: 8300/10000 (83.00%)\n",
            "\n",
            "EPOCHS : 73\n"
          ]
        },
        {
          "output_type": "stream",
          "name": "stderr",
          "text": [
            "Batch_id=87 Batch Loss=0.06295560300350189 Running Loss=7.67612523958087 Running Accuracy=96.90: 100%|██████████| 88/88 [00:31<00:00,  2.82it/s]\n"
          ]
        },
        {
          "output_type": "stream",
          "name": "stdout",
          "text": [
            "\n",
            "Validation set: Average loss: 0.0015, Accuracy: 4156/5000 (83.12%)\n",
            "\n",
            "\n",
            "Test set: Average loss: 0.8375, Accuracy: 8262/10000 (82.62%)\n",
            "\n",
            "EPOCHS : 74\n"
          ]
        },
        {
          "output_type": "stream",
          "name": "stderr",
          "text": [
            "Batch_id=87 Batch Loss=0.07175130397081375 Running Loss=7.870756812393665 Running Accuracy=96.86: 100%|██████████| 88/88 [00:30<00:00,  2.87it/s]\n"
          ]
        },
        {
          "output_type": "stream",
          "name": "stdout",
          "text": [
            "\n",
            "Validation set: Average loss: 0.0014, Accuracy: 4212/5000 (84.24%)\n",
            "\n",
            "\n",
            "Test set: Average loss: 0.7760, Accuracy: 8366/10000 (83.66%)\n",
            "\n",
            "EPOCHS : 75\n"
          ]
        },
        {
          "output_type": "stream",
          "name": "stderr",
          "text": [
            "Batch_id=87 Batch Loss=0.11444655060768127 Running Loss=7.293985221534967 Running Accuracy=97.04: 100%|██████████| 88/88 [00:32<00:00,  2.74it/s]\n"
          ]
        },
        {
          "output_type": "stream",
          "name": "stdout",
          "text": [
            "\n",
            "Validation set: Average loss: 0.0015, Accuracy: 4225/5000 (84.50%)\n",
            "\n",
            "\n",
            "Test set: Average loss: 0.8019, Accuracy: 8300/10000 (83.00%)\n",
            "\n",
            "EPOCHS : 76\n"
          ]
        },
        {
          "output_type": "stream",
          "name": "stderr",
          "text": [
            "Batch_id=87 Batch Loss=0.0885753482580185 Running Loss=7.702826526015997 Running Accuracy=96.97: 100%|██████████| 88/88 [00:30<00:00,  2.88it/s]\n"
          ]
        },
        {
          "output_type": "stream",
          "name": "stdout",
          "text": [
            "\n",
            "Validation set: Average loss: 0.0014, Accuracy: 4255/5000 (85.10%)\n",
            "\n",
            "\n",
            "Test set: Average loss: 0.7580, Accuracy: 8347/10000 (83.47%)\n",
            "\n",
            "EPOCHS : 77\n"
          ]
        },
        {
          "output_type": "stream",
          "name": "stderr",
          "text": [
            "Batch_id=87 Batch Loss=0.10490665584802628 Running Loss=7.271196335554123 Running Accuracy=97.19: 100%|██████████| 88/88 [00:31<00:00,  2.78it/s]\n"
          ]
        },
        {
          "output_type": "stream",
          "name": "stdout",
          "text": [
            "\n",
            "Validation set: Average loss: 0.0014, Accuracy: 4228/5000 (84.56%)\n",
            "\n",
            "\n",
            "Test set: Average loss: 0.7452, Accuracy: 8372/10000 (83.72%)\n",
            "\n",
            "EPOCHS : 78\n"
          ]
        },
        {
          "output_type": "stream",
          "name": "stderr",
          "text": [
            "Batch_id=87 Batch Loss=0.07226080447435379 Running Loss=7.088166266679764 Running Accuracy=97.12: 100%|██████████| 88/88 [00:31<00:00,  2.79it/s]\n"
          ]
        },
        {
          "output_type": "stream",
          "name": "stdout",
          "text": [
            "\n",
            "Validation set: Average loss: 0.0014, Accuracy: 4241/5000 (84.82%)\n",
            "\n",
            "\n",
            "Test set: Average loss: 0.7577, Accuracy: 8409/10000 (84.09%)\n",
            "\n",
            "EPOCHS : 79\n"
          ]
        },
        {
          "output_type": "stream",
          "name": "stderr",
          "text": [
            "Batch_id=87 Batch Loss=0.06773585081100464 Running Loss=7.266818713396788 Running Accuracy=97.11: 100%|██████████| 88/88 [00:30<00:00,  2.90it/s]\n"
          ]
        },
        {
          "output_type": "stream",
          "name": "stdout",
          "text": [
            "\n",
            "Validation set: Average loss: 0.0015, Accuracy: 4202/5000 (84.04%)\n",
            "\n",
            "\n",
            "Test set: Average loss: 0.8380, Accuracy: 8272/10000 (82.72%)\n",
            "\n"
          ]
        }
      ],
      "source": [
        "# Training the model\n",
        "\n",
        "train_acc = []\n",
        "train_losses = []\n",
        "valid_accs = []\n",
        "valid_losses = []\n",
        "test_acc = []\n",
        "test_losses = []\n",
        "min_valid_loss = None\n",
        "max_acc = None\n",
        "\n",
        "EPOCHS = 80\n",
        "\n",
        "for i in range(EPOCHS):\n",
        "    print(f'EPOCHS : {i}')\n",
        "    model_training(model, device, trainloader, optimizer, train_acc, train_losses)\n",
        "\n",
        "    # Validating the model for the current epoch\n",
        "    valid_loss, valid_acc = model_evaluation(model, device, validloader)  \n",
        "\n",
        "    valid_losses.append(valid_loss)\n",
        "    valid_accs.append(valid_acc)\n",
        "\n",
        "    if not min_valid_loss:\n",
        "      min_valid_loss = valid_loss\n",
        "    else:\n",
        "      if valid_loss < min_valid_loss:\n",
        "        min_valid_loss = valid_loss\n",
        "        torch.save(model, \"best_model.pickle\")\n",
        "\n",
        "    scheduler.step(train_losses[-1])\n",
        "    # scheduler.step(valid_loss)\n",
        "\n",
        "    misclassified, test_acc2 = model_testing(model, device, testloader, test_acc, test_losses)\n",
        "\n",
        "    if not max_acc:\n",
        "      max_acc = test_acc2\n",
        "    else:\n",
        "      if test_acc2 > max_acc:\n",
        "        max_acc = test_acc2\n",
        "        torch.save(model, \"best_test_acc_model.pickle\")\n",
        "\n",
        "    save_to_csv(\"11_resnet_2_2_2_2_2_inchannels_16.csv\", train_losses, train_acc, test_losses, test_acc)\n",
        "  "
      ]
    },
    {
      "cell_type": "code",
      "source": [
        "# Best model\n",
        "model1 = torch.load(\"best_model.pickle\")\n",
        "model2 = torch.load(\"best_test_acc_model.pickle\")\n",
        "misclassified, _acc = model_testing(model, device, testloader, test_acc, test_losses)\n",
        "misclassified, _acc = model_testing(model2, device, testloader, test_acc, test_losses)"
      ],
      "metadata": {
        "colab": {
          "base_uri": "https://localhost:8080/"
        },
        "id": "ocguQ5Q9p1Kt",
        "outputId": "5f4511b7-e8cd-497f-adc3-727ff419dc9d"
      },
      "execution_count": null,
      "outputs": [
        {
          "output_type": "stream",
          "name": "stdout",
          "text": [
            "\n",
            "Test set: Average loss: 0.8380, Accuracy: 8272/10000 (82.72%)\n",
            "\n",
            "\n",
            "Test set: Average loss: 0.7577, Accuracy: 8409/10000 (84.09%)\n",
            "\n"
          ]
        }
      ]
    },
    {
      "cell_type": "code",
      "execution_count": null,
      "metadata": {
        "execution": {
          "iopub.execute_input": "2020-09-18T14:33:11.004455Z",
          "iopub.status.busy": "2020-09-18T14:33:11.003592Z",
          "iopub.status.idle": "2020-09-18T14:33:11.886161Z",
          "shell.execute_reply": "2020-09-18T14:33:11.885385Z"
        },
        "papermill": {
          "duration": 4.212753,
          "end_time": "2020-09-18T14:33:11.886294",
          "exception": false,
          "start_time": "2020-09-18T14:33:07.673541",
          "status": "completed"
        },
        "tags": [],
        "colab": {
          "base_uri": "https://localhost:8080/",
          "height": 1000
        },
        "id": "3pYBPl8HKs_o",
        "outputId": "fbd89d36-d5f4-45bb-9d75-b98c6ee169cf"
      },
      "outputs": [
        {
          "output_type": "execute_result",
          "data": {
            "text/plain": [
              "[<matplotlib.lines.Line2D at 0x7fd01ae5f250>]"
            ]
          },
          "metadata": {},
          "execution_count": 25
        },
        {
          "output_type": "display_data",
          "data": {
            "text/plain": [
              "<Figure size 1800x1440 with 4 Axes>"
            ],
            "image/png": "[encoded data removed]"
          },
          "metadata": {
            "needs_background": "light"
          }
        }
      ],
      "source": [
        "fig, axs = plt.subplots(2,2, figsize=(25,20))\n",
        "\n",
        "axs[0,0].set_title('Train Losses')\n",
        "axs[0,1].set_title('Training Accuracy')\n",
        "axs[1,0].set_title('Test Losses')\n",
        "axs[1,1].set_title('Test Accuracy')\n",
        "\n",
        "axs[0,0].plot(train_losses)\n",
        "axs[0,1].plot(train_acc)\n",
        "axs[1,0].plot(test_losses)\n",
        "axs[1,1].plot(test_acc)"
      ]
    },
    {
      "cell_type": "code",
      "source": [],
      "metadata": {
        "id": "DlPU6Co4ns_R"
      },
      "execution_count": null,
      "outputs": []
    }
  ],
  "metadata": {
    "kernelspec": {
      "display_name": "Python 3",
      "language": "python",
      "name": "python3"
    },
    "language_info": {
      "codemirror_mode": {
        "name": "ipython",
        "version": 3
      },
      "file_extension": ".py",
      "mimetype": "text/x-python",
      "name": "python",
      "nbconvert_exporter": "python",
      "pygments_lexer": "ipython3",
      "version": "3.7.6"
    },
    "papermill": {
      "duration": 1617.594216,
      "end_time": "2020-09-18T14:33:16.593563",
      "environment_variables": {},
      "exception": null,
      "input_path": "__notebook__.ipynb",
      "output_path": "__notebook__.ipynb",
      "parameters": {},
      "start_time": "2020-09-18T14:06:18.999347",
      "version": "2.1.0"
    },
    "colab": {
      "provenance": []
    },
    "accelerator": "GPU",
    "gpuClass": "standard",
    "widgets": {
      "application/vnd.jupyter.widget-state+json": {
        "88ff645ca106403e985e7791d303ed79": {
          "model_module": "@jupyter-widgets/controls",
          "model_name": "HBoxModel",
          "model_module_version": "1.5.0",
          "state": {
            "_dom_classes": [],
            "_model_module": "@jupyter-widgets/controls",
            "_model_module_version": "1.5.0",
            "_model_name": "HBoxModel",
            "_view_count": null,
            "_view_module": "@jupyter-widgets/controls",
            "_view_module_version": "1.5.0",
            "_view_name": "HBoxView",
            "box_style": "",
            "children": [
              "IPY_MODEL_f8cfe4f1b5b5481d8f1d11d29e2ec983",
              "IPY_MODEL_9e8d949c8c33491ea0e6d9c6b9b2bc7f",
              "IPY_MODEL_820fafe7699e43da93b20fa0c7230d0c"
            ],
            "layout": "IPY_MODEL_24991e3fd4fa46daaac70a5eda634bf7"
          }
        },
        "f8cfe4f1b5b5481d8f1d11d29e2ec983": {
          "model_module": "@jupyter-widgets/controls",
          "model_name": "HTMLModel",
          "model_module_version": "1.5.0",
          "state": {
            "_dom_classes": [],
            "_model_module": "@jupyter-widgets/controls",
            "_model_module_version": "1.5.0",
            "_model_name": "HTMLModel",
            "_view_count": null,
            "_view_module": "@jupyter-widgets/controls",
            "_view_module_version": "1.5.0",
            "_view_name": "HTMLView",
            "description": "",
            "description_tooltip": null,
            "layout": "IPY_MODEL_09eb8baeb028416f866c8b6b2759c7d6",
            "placeholder": "​",
            "style": "IPY_MODEL_5dffbbbee938474d87b9cb534ba9181e",
            "value": "100%"
          }
        },
        "9e8d949c8c33491ea0e6d9c6b9b2bc7f": {
          "model_module": "@jupyter-widgets/controls",
          "model_name": "FloatProgressModel",
          "model_module_version": "1.5.0",
          "state": {
            "_dom_classes": [],
            "_model_module": "@jupyter-widgets/controls",
            "_model_module_version": "1.5.0",
            "_model_name": "FloatProgressModel",
            "_view_count": null,
            "_view_module": "@jupyter-widgets/controls",
            "_view_module_version": "1.5.0",
            "_view_name": "ProgressView",
            "bar_style": "success",
            "description": "",
            "description_tooltip": null,
            "layout": "IPY_MODEL_f27d9be2a9ae40d8bb4266edf2c48212",
            "max": 170498071,
            "min": 0,
            "orientation": "horizontal",
            "style": "IPY_MODEL_9a102181291a47c7aa97df6221439271",
            "value": 170498071
          }
        },
        "820fafe7699e43da93b20fa0c7230d0c": {
          "model_module": "@jupyter-widgets/controls",
          "model_name": "HTMLModel",
          "model_module_version": "1.5.0",
          "state": {
            "_dom_classes": [],
            "_model_module": "@jupyter-widgets/controls",
            "_model_module_version": "1.5.0",
            "_model_name": "HTMLModel",
            "_view_count": null,
            "_view_module": "@jupyter-widgets/controls",
            "_view_module_version": "1.5.0",
            "_view_name": "HTMLView",
            "description": "",
            "description_tooltip": null,
            "layout": "IPY_MODEL_f7c5ff84d0764f069ce9893a04d2ecaf",
            "placeholder": "​",
            "style": "IPY_MODEL_05d03f5653584733b5c797cc44d1f3b3",
            "value": " 170498071/170498071 [00:14&lt;00:00, 13603016.14it/s]"
          }
        },
        "24991e3fd4fa46daaac70a5eda634bf7": {
          "model_module": "@jupyter-widgets/base",
          "model_name": "LayoutModel",
          "model_module_version": "1.2.0",
          "state": {
            "_model_module": "@jupyter-widgets/base",
            "_model_module_version": "1.2.0",
            "_model_name": "LayoutModel",
            "_view_count": null,
            "_view_module": "@jupyter-widgets/base",
            "_view_module_version": "1.2.0",
            "_view_name": "LayoutView",
            "align_content": null,
            "align_items": null,
            "align_self": null,
            "border": null,
            "bottom": null,
            "display": null,
            "flex": null,
            "flex_flow": null,
            "grid_area": null,
            "grid_auto_columns": null,
            "grid_auto_flow": null,
            "grid_auto_rows": null,
            "grid_column": null,
            "grid_gap": null,
            "grid_row": null,
            "grid_template_areas": null,
            "grid_template_columns": null,
            "grid_template_rows": null,
            "height": null,
            "justify_content": null,
            "justify_items": null,
            "left": null,
            "margin": null,
            "max_height": null,
            "max_width": null,
            "min_height": null,
            "min_width": null,
            "object_fit": null,
            "object_position": null,
            "order": null,
            "overflow": null,
            "overflow_x": null,
            "overflow_y": null,
            "padding": null,
            "right": null,
            "top": null,
            "visibility": null,
            "width": null
          }
        },
        "09eb8baeb028416f866c8b6b2759c7d6": {
          "model_module": "@jupyter-widgets/base",
          "model_name": "LayoutModel",
          "model_module_version": "1.2.0",
          "state": {
            "_model_module": "@jupyter-widgets/base",
            "_model_module_version": "1.2.0",
            "_model_name": "LayoutModel",
            "_view_count": null,
            "_view_module": "@jupyter-widgets/base",
            "_view_module_version": "1.2.0",
            "_view_name": "LayoutView",
            "align_content": null,
            "align_items": null,
            "align_self": null,
            "border": null,
            "bottom": null,
            "display": null,
            "flex": null,
            "flex_flow": null,
            "grid_area": null,
            "grid_auto_columns": null,
            "grid_auto_flow": null,
            "grid_auto_rows": null,
            "grid_column": null,
            "grid_gap": null,
            "grid_row": null,
            "grid_template_areas": null,
            "grid_template_columns": null,
            "grid_template_rows": null,
            "height": null,
            "justify_content": null,
            "justify_items": null,
            "left": null,
            "margin": null,
            "max_height": null,
            "max_width": null,
            "min_height": null,
            "min_width": null,
            "object_fit": null,
            "object_position": null,
            "order": null,
            "overflow": null,
            "overflow_x": null,
            "overflow_y": null,
            "padding": null,
            "right": null,
            "top": null,
            "visibility": null,
            "width": null
          }
        },
        "5dffbbbee938474d87b9cb534ba9181e": {
          "model_module": "@jupyter-widgets/controls",
          "model_name": "DescriptionStyleModel",
          "model_module_version": "1.5.0",
          "state": {
            "_model_module": "@jupyter-widgets/controls",
            "_model_module_version": "1.5.0",
            "_model_name": "DescriptionStyleModel",
            "_view_count": null,
            "_view_module": "@jupyter-widgets/base",
            "_view_module_version": "1.2.0",
            "_view_name": "StyleView",
            "description_width": ""
          }
        },
        "f27d9be2a9ae40d8bb4266edf2c48212": {
          "model_module": "@jupyter-widgets/base",
          "model_name": "LayoutModel",
          "model_module_version": "1.2.0",
          "state": {
            "_model_module": "@jupyter-widgets/base",
            "_model_module_version": "1.2.0",
            "_model_name": "LayoutModel",
            "_view_count": null,
            "_view_module": "@jupyter-widgets/base",
            "_view_module_version": "1.2.0",
            "_view_name": "LayoutView",
            "align_content": null,
            "align_items": null,
            "align_self": null,
            "border": null,
            "bottom": null,
            "display": null,
            "flex": null,
            "flex_flow": null,
            "grid_area": null,
            "grid_auto_columns": null,
            "grid_auto_flow": null,
            "grid_auto_rows": null,
            "grid_column": null,
            "grid_gap": null,
            "grid_row": null,
            "grid_template_areas": null,
            "grid_template_columns": null,
            "grid_template_rows": null,
            "height": null,
            "justify_content": null,
            "justify_items": null,
            "left": null,
            "margin": null,
            "max_height": null,
            "max_width": null,
            "min_height": null,
            "min_width": null,
            "object_fit": null,
            "object_position": null,
            "order": null,
            "overflow": null,
            "overflow_x": null,
            "overflow_y": null,
            "padding": null,
            "right": null,
            "top": null,
            "visibility": null,
            "width": null
          }
        },
        "9a102181291a47c7aa97df6221439271": {
          "model_module": "@jupyter-widgets/controls",
          "model_name": "ProgressStyleModel",
          "model_module_version": "1.5.0",
          "state": {
            "_model_module": "@jupyter-widgets/controls",
            "_model_module_version": "1.5.0",
            "_model_name": "ProgressStyleModel",
            "_view_count": null,
            "_view_module": "@jupyter-widgets/base",
            "_view_module_version": "1.2.0",
            "_view_name": "StyleView",
            "bar_color": null,
            "description_width": ""
          }
        },
        "f7c5ff84d0764f069ce9893a04d2ecaf": {
          "model_module": "@jupyter-widgets/base",
          "model_name": "LayoutModel",
          "model_module_version": "1.2.0",
          "state": {
            "_model_module": "@jupyter-widgets/base",
            "_model_module_version": "1.2.0",
            "_model_name": "LayoutModel",
            "_view_count": null,
            "_view_module": "@jupyter-widgets/base",
            "_view_module_version": "1.2.0",
            "_view_name": "LayoutView",
            "align_content": null,
            "align_items": null,
            "align_self": null,
            "border": null,
            "bottom": null,
            "display": null,
            "flex": null,
            "flex_flow": null,
            "grid_area": null,
            "grid_auto_columns": null,
            "grid_auto_flow": null,
            "grid_auto_rows": null,
            "grid_column": null,
            "grid_gap": null,
            "grid_row": null,
            "grid_template_areas": null,
            "grid_template_columns": null,
            "grid_template_rows": null,
            "height": null,
            "justify_content": null,
            "justify_items": null,
            "left": null,
            "margin": null,
            "max_height": null,
            "max_width": null,
            "min_height": null,
            "min_width": null,
            "object_fit": null,
            "object_position": null,
            "order": null,
            "overflow": null,
            "overflow_x": null,
            "overflow_y": null,
            "padding": null,
            "right": null,
            "top": null,
            "visibility": null,
            "width": null
          }
        },
        "05d03f5653584733b5c797cc44d1f3b3": {
          "model_module": "@jupyter-widgets/controls",
          "model_name": "DescriptionStyleModel",
          "model_module_version": "1.5.0",
          "state": {
            "_model_module": "@jupyter-widgets/controls",
            "_model_module_version": "1.5.0",
            "_model_name": "DescriptionStyleModel",
            "_view_count": null,
            "_view_module": "@jupyter-widgets/base",
            "_view_module_version": "1.2.0",
            "_view_name": "StyleView",
            "description_width": ""
          }
        }
      }
    }
  },
  "nbformat": 4,
  "nbformat_minor": 0
}