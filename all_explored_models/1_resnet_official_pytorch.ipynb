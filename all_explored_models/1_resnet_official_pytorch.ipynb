{
  "nbformat": 4,
  "nbformat_minor": 0,
  "metadata": {
    "colab": {
      "provenance": []
    },
    "kernelspec": {
      "name": "python3",
      "display_name": "Python 3"
    },
    "language_info": {
      "name": "python"
    },
    "accelerator": "GPU",
    "gpuClass": "standard",
    "widgets": {
      "application/vnd.jupyter.widget-state+json": {
        "0809a1d51e6e4d22a73df53fc94817d2": {
          "model_module": "@jupyter-widgets/controls",
          "model_name": "HBoxModel",
          "model_module_version": "1.5.0",
          "state": {
            "_dom_classes": [],
            "_model_module": "@jupyter-widgets/controls",
            "_model_module_version": "1.5.0",
            "_model_name": "HBoxModel",
            "_view_count": null,
            "_view_module": "@jupyter-widgets/controls",
            "_view_module_version": "1.5.0",
            "_view_name": "HBoxView",
            "box_style": "",
            "children": [
              "IPY_MODEL_19e93d100a5744e498cc90c32b930672",
              "IPY_MODEL_702dd82a85854aeda66fc0f952118713",
              "IPY_MODEL_6f55e137416d40cc8a7fcaca2c661283"
            ],
            "layout": "IPY_MODEL_497c00f78c33427a94ddac70d613499f"
          }
        },
        "19e93d100a5744e498cc90c32b930672": {
          "model_module": "@jupyter-widgets/controls",
          "model_name": "HTMLModel",
          "model_module_version": "1.5.0",
          "state": {
            "_dom_classes": [],
            "_model_module": "@jupyter-widgets/controls",
            "_model_module_version": "1.5.0",
            "_model_name": "HTMLModel",
            "_view_count": null,
            "_view_module": "@jupyter-widgets/controls",
            "_view_module_version": "1.5.0",
            "_view_name": "HTMLView",
            "description": "",
            "description_tooltip": null,
            "layout": "IPY_MODEL_390aba4d866f4d82b1c0b50cc3f1e9dc",
            "placeholder": "​",
            "style": "IPY_MODEL_4b5a49a29e6b45c5a3ac3d9212bdebaa",
            "value": "100%"
          }
        },
        "702dd82a85854aeda66fc0f952118713": {
          "model_module": "@jupyter-widgets/controls",
          "model_name": "FloatProgressModel",
          "model_module_version": "1.5.0",
          "state": {
            "_dom_classes": [],
            "_model_module": "@jupyter-widgets/controls",
            "_model_module_version": "1.5.0",
            "_model_name": "FloatProgressModel",
            "_view_count": null,
            "_view_module": "@jupyter-widgets/controls",
            "_view_module_version": "1.5.0",
            "_view_name": "ProgressView",
            "bar_style": "success",
            "description": "",
            "description_tooltip": null,
            "layout": "IPY_MODEL_5a520a0e3e8549918a76306323bdd376",
            "max": 170498071,
            "min": 0,
            "orientation": "horizontal",
            "style": "IPY_MODEL_acea5a408f6542aab3c82f37565835ef",
            "value": 170498071
          }
        },
        "6f55e137416d40cc8a7fcaca2c661283": {
          "model_module": "@jupyter-widgets/controls",
          "model_name": "HTMLModel",
          "model_module_version": "1.5.0",
          "state": {
            "_dom_classes": [],
            "_model_module": "@jupyter-widgets/controls",
            "_model_module_version": "1.5.0",
            "_model_name": "HTMLModel",
            "_view_count": null,
            "_view_module": "@jupyter-widgets/controls",
            "_view_module_version": "1.5.0",
            "_view_name": "HTMLView",
            "description": "",
            "description_tooltip": null,
            "layout": "IPY_MODEL_ceaf20fd9c8840b9896ac4dc84a18f01",
            "placeholder": "​",
            "style": "IPY_MODEL_561dbe04731e42e09217295522cd587a",
            "value": " 170498071/170498071 [00:02&lt;00:00, 68927626.70it/s]"
          }
        },
        "497c00f78c33427a94ddac70d613499f": {
          "model_module": "@jupyter-widgets/base",
          "model_name": "LayoutModel",
          "model_module_version": "1.2.0",
          "state": {
            "_model_module": "@jupyter-widgets/base",
            "_model_module_version": "1.2.0",
            "_model_name": "LayoutModel",
            "_view_count": null,
            "_view_module": "@jupyter-widgets/base",
            "_view_module_version": "1.2.0",
            "_view_name": "LayoutView",
            "align_content": null,
            "align_items": null,
            "align_self": null,
            "border": null,
            "bottom": null,
            "display": null,
            "flex": null,
            "flex_flow": null,
            "grid_area": null,
            "grid_auto_columns": null,
            "grid_auto_flow": null,
            "grid_auto_rows": null,
            "grid_column": null,
            "grid_gap": null,
            "grid_row": null,
            "grid_template_areas": null,
            "grid_template_columns": null,
            "grid_template_rows": null,
            "height": null,
            "justify_content": null,
            "justify_items": null,
            "left": null,
            "margin": null,
            "max_height": null,
            "max_width": null,
            "min_height": null,
            "min_width": null,
            "object_fit": null,
            "object_position": null,
            "order": null,
            "overflow": null,
            "overflow_x": null,
            "overflow_y": null,
            "padding": null,
            "right": null,
            "top": null,
            "visibility": null,
            "width": null
          }
        },
        "390aba4d866f4d82b1c0b50cc3f1e9dc": {
          "model_module": "@jupyter-widgets/base",
          "model_name": "LayoutModel",
          "model_module_version": "1.2.0",
          "state": {
            "_model_module": "@jupyter-widgets/base",
            "_model_module_version": "1.2.0",
            "_model_name": "LayoutModel",
            "_view_count": null,
            "_view_module": "@jupyter-widgets/base",
            "_view_module_version": "1.2.0",
            "_view_name": "LayoutView",
            "align_content": null,
            "align_items": null,
            "align_self": null,
            "border": null,
            "bottom": null,
            "display": null,
            "flex": null,
            "flex_flow": null,
            "grid_area": null,
            "grid_auto_columns": null,
            "grid_auto_flow": null,
            "grid_auto_rows": null,
            "grid_column": null,
            "grid_gap": null,
            "grid_row": null,
            "grid_template_areas": null,
            "grid_template_columns": null,
            "grid_template_rows": null,
            "height": null,
            "justify_content": null,
            "justify_items": null,
            "left": null,
            "margin": null,
            "max_height": null,
            "max_width": null,
            "min_height": null,
            "min_width": null,
            "object_fit": null,
            "object_position": null,
            "order": null,
            "overflow": null,
            "overflow_x": null,
            "overflow_y": null,
            "padding": null,
            "right": null,
            "top": null,
            "visibility": null,
            "width": null
          }
        },
        "4b5a49a29e6b45c5a3ac3d9212bdebaa": {
          "model_module": "@jupyter-widgets/controls",
          "model_name": "DescriptionStyleModel",
          "model_module_version": "1.5.0",
          "state": {
            "_model_module": "@jupyter-widgets/controls",
            "_model_module_version": "1.5.0",
            "_model_name": "DescriptionStyleModel",
            "_view_count": null,
            "_view_module": "@jupyter-widgets/base",
            "_view_module_version": "1.2.0",
            "_view_name": "StyleView",
            "description_width": ""
          }
        },
        "5a520a0e3e8549918a76306323bdd376": {
          "model_module": "@jupyter-widgets/base",
          "model_name": "LayoutModel",
          "model_module_version": "1.2.0",
          "state": {
            "_model_module": "@jupyter-widgets/base",
            "_model_module_version": "1.2.0",
            "_model_name": "LayoutModel",
            "_view_count": null,
            "_view_module": "@jupyter-widgets/base",
            "_view_module_version": "1.2.0",
            "_view_name": "LayoutView",
            "align_content": null,
            "align_items": null,
            "align_self": null,
            "border": null,
            "bottom": null,
            "display": null,
            "flex": null,
            "flex_flow": null,
            "grid_area": null,
            "grid_auto_columns": null,
            "grid_auto_flow": null,
            "grid_auto_rows": null,
            "grid_column": null,
            "grid_gap": null,
            "grid_row": null,
            "grid_template_areas": null,
            "grid_template_columns": null,
            "grid_template_rows": null,
            "height": null,
            "justify_content": null,
            "justify_items": null,
            "left": null,
            "margin": null,
            "max_height": null,
            "max_width": null,
            "min_height": null,
            "min_width": null,
            "object_fit": null,
            "object_position": null,
            "order": null,
            "overflow": null,
            "overflow_x": null,
            "overflow_y": null,
            "padding": null,
            "right": null,
            "top": null,
            "visibility": null,
            "width": null
          }
        },
        "acea5a408f6542aab3c82f37565835ef": {
          "model_module": "@jupyter-widgets/controls",
          "model_name": "ProgressStyleModel",
          "model_module_version": "1.5.0",
          "state": {
            "_model_module": "@jupyter-widgets/controls",
            "_model_module_version": "1.5.0",
            "_model_name": "ProgressStyleModel",
            "_view_count": null,
            "_view_module": "@jupyter-widgets/base",
            "_view_module_version": "1.2.0",
            "_view_name": "StyleView",
            "bar_color": null,
            "description_width": ""
          }
        },
        "ceaf20fd9c8840b9896ac4dc84a18f01": {
          "model_module": "@jupyter-widgets/base",
          "model_name": "LayoutModel",
          "model_module_version": "1.2.0",
          "state": {
            "_model_module": "@jupyter-widgets/base",
            "_model_module_version": "1.2.0",
            "_model_name": "LayoutModel",
            "_view_count": null,
            "_view_module": "@jupyter-widgets/base",
            "_view_module_version": "1.2.0",
            "_view_name": "LayoutView",
            "align_content": null,
            "align_items": null,
            "align_self": null,
            "border": null,
            "bottom": null,
            "display": null,
            "flex": null,
            "flex_flow": null,
            "grid_area": null,
            "grid_auto_columns": null,
            "grid_auto_flow": null,
            "grid_auto_rows": null,
            "grid_column": null,
            "grid_gap": null,
            "grid_row": null,
            "grid_template_areas": null,
            "grid_template_columns": null,
            "grid_template_rows": null,
            "height": null,
            "justify_content": null,
            "justify_items": null,
            "left": null,
            "margin": null,
            "max_height": null,
            "max_width": null,
            "min_height": null,
            "min_width": null,
            "object_fit": null,
            "object_position": null,
            "order": null,
            "overflow": null,
            "overflow_x": null,
            "overflow_y": null,
            "padding": null,
            "right": null,
            "top": null,
            "visibility": null,
            "width": null
          }
        },
        "561dbe04731e42e09217295522cd587a": {
          "model_module": "@jupyter-widgets/controls",
          "model_name": "DescriptionStyleModel",
          "model_module_version": "1.5.0",
          "state": {
            "_model_module": "@jupyter-widgets/controls",
            "_model_module_version": "1.5.0",
            "_model_name": "DescriptionStyleModel",
            "_view_count": null,
            "_view_module": "@jupyter-widgets/base",
            "_view_module_version": "1.2.0",
            "_view_name": "StyleView",
            "description_width": ""
          }
        }
      }
    }
  },
  "cells": [
    {
      "cell_type": "code",
      "execution_count": 4,
      "metadata": {
        "id": "vTAMqisnt_eJ"
      },
      "outputs": [],
      "source": [
        "import torch\n",
        "import torch.nn as nn\n",
        "import torchvision\n",
        "import torchvision.transforms as transforms"
      ]
    },
    {
      "cell_type": "code",
      "source": [
        "# Device configuration\n",
        "device = torch.device('cuda' if torch.cuda.is_available() else 'cpu')"
      ],
      "metadata": {
        "id": "FDYayQMRuZJt"
      },
      "execution_count": 5,
      "outputs": []
    },
    {
      "cell_type": "code",
      "source": [
        "# Image preprocessing modules\n",
        "transform = transforms.Compose([\n",
        "    transforms.Pad(4),\n",
        "    transforms.RandomHorizontalFlip(),\n",
        "    transforms.RandomCrop(32),\n",
        "    transforms.ToTensor()])"
      ],
      "metadata": {
        "id": "yKAjCdSeugDT"
      },
      "execution_count": 6,
      "outputs": []
    },
    {
      "cell_type": "code",
      "source": [
        "# CIFAR-10 dataset\n",
        "train_dataset = torchvision.datasets.CIFAR10(root='../../data/',\n",
        "                                             train=True, \n",
        "                                             transform=transform,\n",
        "                                             download=True)\n",
        "\n",
        "test_dataset = torchvision.datasets.CIFAR10(root='../../data/',\n",
        "                                            train=False, \n",
        "                                            transform=transforms.ToTensor())"
      ],
      "metadata": {
        "colab": {
          "base_uri": "https://localhost:8080/",
          "height": 84,
          "referenced_widgets": [
            "0809a1d51e6e4d22a73df53fc94817d2",
            "19e93d100a5744e498cc90c32b930672",
            "702dd82a85854aeda66fc0f952118713",
            "6f55e137416d40cc8a7fcaca2c661283",
            "497c00f78c33427a94ddac70d613499f",
            "390aba4d866f4d82b1c0b50cc3f1e9dc",
            "4b5a49a29e6b45c5a3ac3d9212bdebaa",
            "5a520a0e3e8549918a76306323bdd376",
            "acea5a408f6542aab3c82f37565835ef",
            "ceaf20fd9c8840b9896ac4dc84a18f01",
            "561dbe04731e42e09217295522cd587a"
          ]
        },
        "id": "RoD3LVDiukEt",
        "outputId": "80818e7b-deff-4a2b-eeeb-56d476be21f3"
      },
      "execution_count": 7,
      "outputs": [
        {
          "output_type": "stream",
          "name": "stdout",
          "text": [
            "Downloading https://www.cs.toronto.edu/~kriz/cifar-10-python.tar.gz to ../../data/cifar-10-python.tar.gz\n"
          ]
        },
        {
          "output_type": "display_data",
          "data": {
            "text/plain": [
              "  0%|          | 0/170498071 [00:00<?, ?it/s]"
            ],
            "application/vnd.jupyter.widget-view+json": {
              "version_major": 2,
              "version_minor": 0,
              "model_id": "0809a1d51e6e4d22a73df53fc94817d2"
            }
          },
          "metadata": {}
        },
        {
          "output_type": "stream",
          "name": "stdout",
          "text": [
            "Extracting ../../data/cifar-10-python.tar.gz to ../../data/\n"
          ]
        }
      ]
    },
    {
      "cell_type": "code",
      "source": [
        "# Data loader\n",
        "train_loader = torch.utils.data.DataLoader(dataset=train_dataset,\n",
        "                                           batch_size=100, \n",
        "                                           shuffle=True)\n",
        "\n",
        "test_loader = torch.utils.data.DataLoader(dataset=test_dataset,\n",
        "                                          batch_size=100, \n",
        "                                          shuffle=False)"
      ],
      "metadata": {
        "id": "MwqLo9K4uoGk"
      },
      "execution_count": 8,
      "outputs": []
    },
    {
      "cell_type": "code",
      "source": [
        "# 3x3 convolution\n",
        "def conv3x3(in_channels, out_channels, stride=1):\n",
        "    return nn.Conv2d(in_channels, out_channels, kernel_size=3, \n",
        "                     stride=stride, padding=1, bias=False)"
      ],
      "metadata": {
        "id": "VMo3kO15uxrQ"
      },
      "execution_count": 9,
      "outputs": []
    },
    {
      "cell_type": "code",
      "source": [
        "# Residual block\n",
        "class ResidualBlock(nn.Module):\n",
        "    def __init__(self, in_channels, out_channels, stride=1, downsample=None):\n",
        "        super(ResidualBlock, self).__init__()\n",
        "        self.conv1 = conv3x3(in_channels, out_channels, stride)\n",
        "        self.bn1 = nn.BatchNorm2d(out_channels)\n",
        "        self.relu = nn.ReLU(inplace=True)\n",
        "        self.conv2 = conv3x3(out_channels, out_channels)\n",
        "        self.bn2 = nn.BatchNorm2d(out_channels)\n",
        "        self.downsample = downsample\n",
        "\n",
        "    def forward(self, x):\n",
        "        residual = x\n",
        "        out = self.conv1(x)\n",
        "        out = self.bn1(out)\n",
        "        out = self.relu(out)\n",
        "        out = self.conv2(out)\n",
        "        out = self.bn2(out)\n",
        "        if self.downsample:\n",
        "            residual = self.downsample(x)\n",
        "        out += residual\n",
        "        out = self.relu(out)\n",
        "        return out"
      ],
      "metadata": {
        "id": "u6ASFwKqu6rw"
      },
      "execution_count": 10,
      "outputs": []
    },
    {
      "cell_type": "code",
      "source": [
        "# ResNet\n",
        "class ResNet(nn.Module):\n",
        "    def __init__(self, block, layers, num_classes=10):\n",
        "        super(ResNet, self).__init__()\n",
        "        self.in_channels = 64\n",
        "        self.conv = conv3x3(3, 64)\n",
        "        self.bn = nn.BatchNorm2d(64)\n",
        "        self.relu = nn.ReLU(inplace=True)\n",
        "        self.layer1 = self.make_layer(block, 64, layers[0])\n",
        "        self.layer2 = self.make_layer(block, 128, layers[1], 2)\n",
        "        self.layer3 = self.make_layer(block, 256, layers[2], 2)\n",
        "        self.layer4 = self.make_layer(block, 512, layers[3], 2)\n",
        "        self.avg_pool = nn.AvgPool2d(4)\n",
        "        self.fc = nn.Linear(512, num_classes)\n",
        "\n",
        "    def make_layer(self, block, out_channels, blocks, stride=1):\n",
        "        downsample = None\n",
        "        if (stride != 1) or (self.in_channels != out_channels):\n",
        "            downsample = nn.Sequential(\n",
        "                conv3x3(self.in_channels, out_channels, stride=stride),\n",
        "                nn.BatchNorm2d(out_channels))\n",
        "        layers = []\n",
        "        layers.append(block(self.in_channels, out_channels, stride, downsample))\n",
        "        self.in_channels = out_channels\n",
        "        for i in range(1, blocks):\n",
        "            layers.append(block(out_channels, out_channels))\n",
        "        return nn.Sequential(*layers)\n",
        "\n",
        "    def forward(self, x):\n",
        "        out = self.conv(x)\n",
        "        out = self.bn(out)\n",
        "        out = self.relu(out)\n",
        "        out = self.layer1(out)\n",
        "        out = self.layer2(out)\n",
        "        out = self.layer3(out)\n",
        "        out = self.layer4(out)\n",
        "        out = self.avg_pool(out)\n",
        "        out = out.view(out.size(0), -1)\n",
        "        out = self.fc(out)\n",
        "        return out"
      ],
      "metadata": {
        "id": "6z3jlYSPvWsg"
      },
      "execution_count": 11,
      "outputs": []
    },
    {
      "cell_type": "code",
      "source": [
        "model = ResNet(ResidualBlock, [2, 2, 2, 2]).to(device)\n",
        "learning_rate = 0.001\n",
        "\n",
        "# Loss and optimizer\n",
        "criterion = nn.CrossEntropyLoss()\n",
        "optimizer = torch.optim.Adam(model.parameters(), lr=learning_rate)"
      ],
      "metadata": {
        "id": "VvMrlxOVvgIm"
      },
      "execution_count": 18,
      "outputs": []
    },
    {
      "cell_type": "code",
      "source": [
        "# For updating learning rate\n",
        "def update_lr(optimizer, lr):    \n",
        "    for param_group in optimizer.param_groups:\n",
        "        param_group['lr'] = lr"
      ],
      "metadata": {
        "id": "ZQDCsNdwvp-U"
      },
      "execution_count": 19,
      "outputs": []
    },
    {
      "cell_type": "code",
      "source": [
        "# Hyper-parameters\n",
        "num_epochs = 20\n",
        "\n",
        "# Train the model\n",
        "total_step = len(train_loader)\n",
        "curr_lr = learning_rate\n",
        "for epoch in range(num_epochs):\n",
        "    for i, (images, labels) in enumerate(train_loader):\n",
        "        images = images.to(device)\n",
        "        labels = labels.to(device)\n",
        "\n",
        "        # Forward pass\n",
        "        outputs = model(images)\n",
        "        loss = criterion(outputs, labels)\n",
        "\n",
        "        # Backward and optimize\n",
        "        optimizer.zero_grad()\n",
        "        loss.backward()\n",
        "        optimizer.step()\n",
        "\n",
        "        if (i+1) % 100 == 0:\n",
        "            print (\"Epoch [{}/{}], Step [{}/{}] Loss: {:.4f}\"\n",
        "                   .format(epoch+1, num_epochs, i+1, total_step, loss.item()))\n",
        "\n",
        "    # Decay learning rate\n",
        "    if (epoch+1) % 20 == 0:\n",
        "        curr_lr /= 3\n",
        "        update_lr(optimizer, curr_lr)"
      ],
      "metadata": {
        "colab": {
          "base_uri": "https://localhost:8080/"
        },
        "id": "YV3mpR-EvufO",
        "outputId": "d1f925ca-d12b-4158-9692-d269184bf995"
      },
      "execution_count": 20,
      "outputs": [
        {
          "output_type": "stream",
          "name": "stdout",
          "text": [
            "Epoch [1/20], Step [100/500] Loss: 1.7357\n",
            "Epoch [1/20], Step [200/500] Loss: 1.7948\n",
            "Epoch [1/20], Step [300/500] Loss: 1.2997\n",
            "Epoch [1/20], Step [400/500] Loss: 1.1852\n",
            "Epoch [1/20], Step [500/500] Loss: 1.0556\n",
            "Epoch [2/20], Step [100/500] Loss: 1.1733\n",
            "Epoch [2/20], Step [200/500] Loss: 1.0322\n",
            "Epoch [2/20], Step [300/500] Loss: 1.1364\n",
            "Epoch [2/20], Step [400/500] Loss: 0.9211\n",
            "Epoch [2/20], Step [500/500] Loss: 0.7972\n",
            "Epoch [3/20], Step [100/500] Loss: 0.9824\n",
            "Epoch [3/20], Step [200/500] Loss: 1.0639\n",
            "Epoch [3/20], Step [300/500] Loss: 0.7322\n",
            "Epoch [3/20], Step [400/500] Loss: 0.7211\n",
            "Epoch [3/20], Step [500/500] Loss: 0.6817\n",
            "Epoch [4/20], Step [100/500] Loss: 0.5374\n",
            "Epoch [4/20], Step [200/500] Loss: 0.6583\n",
            "Epoch [4/20], Step [300/500] Loss: 0.5031\n",
            "Epoch [4/20], Step [400/500] Loss: 0.5730\n",
            "Epoch [4/20], Step [500/500] Loss: 0.5935\n",
            "Epoch [5/20], Step [100/500] Loss: 0.6835\n",
            "Epoch [5/20], Step [200/500] Loss: 0.5199\n",
            "Epoch [5/20], Step [300/500] Loss: 0.4268\n",
            "Epoch [5/20], Step [400/500] Loss: 0.6374\n",
            "Epoch [5/20], Step [500/500] Loss: 0.5525\n",
            "Epoch [6/20], Step [100/500] Loss: 0.5000\n",
            "Epoch [6/20], Step [200/500] Loss: 0.5805\n",
            "Epoch [6/20], Step [300/500] Loss: 0.5244\n",
            "Epoch [6/20], Step [400/500] Loss: 0.5350\n",
            "Epoch [6/20], Step [500/500] Loss: 0.5102\n",
            "Epoch [7/20], Step [100/500] Loss: 0.4222\n",
            "Epoch [7/20], Step [200/500] Loss: 0.4857\n",
            "Epoch [7/20], Step [300/500] Loss: 0.5139\n",
            "Epoch [7/20], Step [400/500] Loss: 0.4456\n",
            "Epoch [7/20], Step [500/500] Loss: 0.2802\n",
            "Epoch [8/20], Step [100/500] Loss: 0.3519\n",
            "Epoch [8/20], Step [200/500] Loss: 0.4862\n",
            "Epoch [8/20], Step [300/500] Loss: 0.2969\n",
            "Epoch [8/20], Step [400/500] Loss: 0.3295\n",
            "Epoch [8/20], Step [500/500] Loss: 0.2809\n",
            "Epoch [9/20], Step [100/500] Loss: 0.2389\n",
            "Epoch [9/20], Step [200/500] Loss: 0.4300\n",
            "Epoch [9/20], Step [300/500] Loss: 0.3909\n",
            "Epoch [9/20], Step [400/500] Loss: 0.3898\n",
            "Epoch [9/20], Step [500/500] Loss: 0.2560\n",
            "Epoch [10/20], Step [100/500] Loss: 0.3505\n",
            "Epoch [10/20], Step [200/500] Loss: 0.3904\n",
            "Epoch [10/20], Step [300/500] Loss: 0.3493\n",
            "Epoch [10/20], Step [400/500] Loss: 0.3793\n",
            "Epoch [10/20], Step [500/500] Loss: 0.2718\n",
            "Epoch [11/20], Step [100/500] Loss: 0.2552\n",
            "Epoch [11/20], Step [200/500] Loss: 0.2667\n",
            "Epoch [11/20], Step [300/500] Loss: 0.2261\n",
            "Epoch [11/20], Step [400/500] Loss: 0.2417\n",
            "Epoch [11/20], Step [500/500] Loss: 0.2682\n",
            "Epoch [12/20], Step [100/500] Loss: 0.2355\n",
            "Epoch [12/20], Step [200/500] Loss: 0.1597\n",
            "Epoch [12/20], Step [300/500] Loss: 0.2405\n",
            "Epoch [12/20], Step [400/500] Loss: 0.3356\n",
            "Epoch [12/20], Step [500/500] Loss: 0.3474\n",
            "Epoch [13/20], Step [100/500] Loss: 0.2625\n",
            "Epoch [13/20], Step [200/500] Loss: 0.2258\n",
            "Epoch [13/20], Step [300/500] Loss: 0.2312\n",
            "Epoch [13/20], Step [400/500] Loss: 0.1713\n",
            "Epoch [13/20], Step [500/500] Loss: 0.2154\n",
            "Epoch [14/20], Step [100/500] Loss: 0.3637\n",
            "Epoch [14/20], Step [200/500] Loss: 0.1618\n",
            "Epoch [14/20], Step [300/500] Loss: 0.2376\n",
            "Epoch [14/20], Step [400/500] Loss: 0.2033\n",
            "Epoch [14/20], Step [500/500] Loss: 0.1982\n",
            "Epoch [15/20], Step [100/500] Loss: 0.1762\n",
            "Epoch [15/20], Step [200/500] Loss: 0.1487\n",
            "Epoch [15/20], Step [300/500] Loss: 0.1802\n",
            "Epoch [15/20], Step [400/500] Loss: 0.2483\n",
            "Epoch [15/20], Step [500/500] Loss: 0.1915\n",
            "Epoch [16/20], Step [100/500] Loss: 0.1015\n",
            "Epoch [16/20], Step [200/500] Loss: 0.0754\n",
            "Epoch [16/20], Step [300/500] Loss: 0.3653\n",
            "Epoch [16/20], Step [400/500] Loss: 0.1270\n",
            "Epoch [16/20], Step [500/500] Loss: 0.1020\n",
            "Epoch [17/20], Step [100/500] Loss: 0.3436\n",
            "Epoch [17/20], Step [200/500] Loss: 0.2231\n",
            "Epoch [17/20], Step [300/500] Loss: 0.2024\n",
            "Epoch [17/20], Step [400/500] Loss: 0.1195\n",
            "Epoch [17/20], Step [500/500] Loss: 0.2024\n",
            "Epoch [18/20], Step [100/500] Loss: 0.1524\n",
            "Epoch [18/20], Step [200/500] Loss: 0.1037\n",
            "Epoch [18/20], Step [300/500] Loss: 0.2668\n",
            "Epoch [18/20], Step [400/500] Loss: 0.1294\n",
            "Epoch [18/20], Step [500/500] Loss: 0.2123\n",
            "Epoch [19/20], Step [100/500] Loss: 0.1828\n",
            "Epoch [19/20], Step [200/500] Loss: 0.2661\n",
            "Epoch [19/20], Step [300/500] Loss: 0.1417\n",
            "Epoch [19/20], Step [400/500] Loss: 0.1720\n",
            "Epoch [19/20], Step [500/500] Loss: 0.2022\n",
            "Epoch [20/20], Step [100/500] Loss: 0.1259\n",
            "Epoch [20/20], Step [200/500] Loss: 0.1309\n",
            "Epoch [20/20], Step [300/500] Loss: 0.0756\n",
            "Epoch [20/20], Step [400/500] Loss: 0.1145\n",
            "Epoch [20/20], Step [500/500] Loss: 0.1329\n"
          ]
        }
      ]
    },
    {
      "cell_type": "code",
      "source": [
        "# Test the model\n",
        "model.eval()\n",
        "with torch.no_grad():\n",
        "    correct = 0\n",
        "    total = 0\n",
        "    for images, labels in test_loader:\n",
        "        images = images.to(device)\n",
        "        labels = labels.to(device)\n",
        "        outputs = model(images)\n",
        "        _, predicted = torch.max(outputs.data, 1)\n",
        "        total += labels.size(0)\n",
        "        correct += (predicted == labels).sum().item()\n",
        "\n",
        "    print('Accuracy of the model on the test images: {} %'.format(100 * correct / total))\n",
        "\n",
        "# Save the model checkpoint\n",
        "torch.save(model.state_dict(), 'resnet.ckpt')"
      ],
      "metadata": {
        "colab": {
          "base_uri": "https://localhost:8080/"
        },
        "id": "SvIPDoK7v9MT",
        "outputId": "5a51e7c4-5b6b-4c25-b132-dc06815ea8cb"
      },
      "execution_count": 21,
      "outputs": [
        {
          "output_type": "stream",
          "name": "stdout",
          "text": [
            "Accuracy of the model on the test images: 88.41 %\n"
          ]
        }
      ]
    },
    {
      "cell_type": "code",
      "source": [
        "num_trainable_parameters = sum([p.numel() for p in model.parameters() if p.requires_grad])\n",
        "num_trainable_parameters"
      ],
      "metadata": {
        "colab": {
          "base_uri": "https://localhost:8080/"
        },
        "id": "C1usdLmmwJI9",
        "outputId": "d13a0eb1-fa6f-465c-ad18-149f997a337c"
      },
      "execution_count": 23,
      "outputs": [
        {
          "output_type": "execute_result",
          "data": {
            "text/plain": [
              "12550218"
            ]
          },
          "metadata": {},
          "execution_count": 23
        }
      ]
    },
    {
      "cell_type": "code",
      "source": [],
      "metadata": {
        "id": "WM_7kTvbOKge"
      },
      "execution_count": null,
      "outputs": []
    }
  ]
}