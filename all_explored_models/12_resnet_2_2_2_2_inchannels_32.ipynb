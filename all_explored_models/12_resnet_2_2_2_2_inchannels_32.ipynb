{
  "cells": [
    {
      "cell_type": "markdown",
      "source": [
        "https://www.kaggle.com/code/greatcodes/pytorch-cnn-resnet18-cifar10/notebook\n",
        "\n",
        "https://pytorch-tutorial.readthedocs.io/en/latest/tutorial/chapter03_intermediate/3_2_2_cnn_resnet_cifar10/"
      ],
      "metadata": {
        "id": "TS3R6-AKKuSD"
      }
    },
    {
      "cell_type": "code",
      "execution_count": 1,
      "metadata": {
        "execution": {
          "iopub.execute_input": "2020-09-18T14:06:23.323276Z",
          "iopub.status.busy": "2020-09-18T14:06:23.322403Z",
          "iopub.status.idle": "2020-09-18T14:06:33.073785Z",
          "shell.execute_reply": "2020-09-18T14:06:33.073171Z"
        },
        "papermill": {
          "duration": 9.766997,
          "end_time": "2020-09-18T14:06:33.073915",
          "exception": false,
          "start_time": "2020-09-18T14:06:23.306918",
          "status": "completed"
        },
        "tags": [],
        "colab": {
          "base_uri": "https://localhost:8080/"
        },
        "id": "40qwzP9AKs_c",
        "outputId": "f38b5af3-7a96-4852-94c5-71869c3d5d36"
      },
      "outputs": [
        {
          "output_type": "stream",
          "name": "stdout",
          "text": [
            "Looking in indexes: https://pypi.org/simple, https://us-python.pkg.dev/colab-wheels/public/simple/\n",
            "Requirement already satisfied: torchsummary in /usr/local/lib/python3.7/dist-packages (1.5.1)\n"
          ]
        }
      ],
      "source": [
        "!pip install torchsummary"
      ]
    },
    {
      "cell_type": "code",
      "execution_count": 2,
      "metadata": {
        "_cell_guid": "79c7e3d0-c299-4dcb-8224-4455121ee9b0",
        "_uuid": "d629ff2d2480ee46fbb7e2d37f6b5fab8052498a",
        "execution": {
          "iopub.execute_input": "2020-09-18T14:06:33.110540Z",
          "iopub.status.busy": "2020-09-18T14:06:33.109616Z",
          "iopub.status.idle": "2020-09-18T14:06:34.741497Z",
          "shell.execute_reply": "2020-09-18T14:06:34.742236Z"
        },
        "papermill": {
          "duration": 1.655486,
          "end_time": "2020-09-18T14:06:34.742433",
          "exception": false,
          "start_time": "2020-09-18T14:06:33.086947",
          "status": "completed"
        },
        "tags": [],
        "colab": {
          "base_uri": "https://localhost:8080/"
        },
        "id": "1L1ayeUjKs_d",
        "outputId": "195548c5-bff0-4a57-e8bb-0ff33c4df6b5"
      },
      "outputs": [
        {
          "output_type": "stream",
          "name": "stdout",
          "text": [
            "cuda\n"
          ]
        }
      ],
      "source": [
        "# Importing Libraries\n",
        "import os\n",
        "import copy\n",
        "import random\n",
        "import numpy as np\n",
        "import pandas as pd\n",
        "import torch\n",
        "import torchvision\n",
        "import torchvision.transforms as transforms\n",
        "from torchsummary import summary\n",
        "import torch.utils.data as data\n",
        "import torch.nn as nn\n",
        "import torch.nn.functional as F\n",
        "import torch.optim as optim\n",
        "from torch.optim.lr_scheduler import StepLR, ReduceLROnPlateau\n",
        "\n",
        "import matplotlib.pyplot as plt\n",
        "%matplotlib inline\n",
        "\n",
        "SEED = 1234\n",
        "\n",
        "device = \"cuda\" if torch.cuda.is_available else \"cpu\"\n",
        "print(device)"
      ]
    },
    {
      "cell_type": "code",
      "execution_count": 3,
      "metadata": {
        "execution": {
          "iopub.execute_input": "2020-09-18T14:06:34.781123Z",
          "iopub.status.busy": "2020-09-18T14:06:34.780293Z",
          "iopub.status.idle": "2020-09-18T14:06:34.784939Z",
          "shell.execute_reply": "2020-09-18T14:06:34.784333Z"
        },
        "papermill": {
          "duration": 0.028551,
          "end_time": "2020-09-18T14:06:34.785089",
          "exception": false,
          "start_time": "2020-09-18T14:06:34.756538",
          "status": "completed"
        },
        "tags": [],
        "id": "s_5gkccjKs_e"
      },
      "outputs": [],
      "source": [
        "from torchvision import transforms\n",
        "import numpy as np\n",
        "import torch\n",
        "\n",
        "# Returns a list of transformations when called\n",
        "\n",
        "class GetTransforms():\n",
        "    '''Returns a list of transformations when type as requested amongst train/test\n",
        "       Transforms('train') = list of transforms to apply on training data\n",
        "       Transforms('test') = list of transforms to apply on testing data'''\n",
        "\n",
        "    def __init__(self):\n",
        "        pass\n",
        "\n",
        "    def trainparams(self):\n",
        "        train_transformations = [ #resises the image so it can be perfect for our model.\n",
        "            transforms.RandomHorizontalFlip(), # FLips the image w.r.t horizontal axis\n",
        "            transforms.RandomRotation((-7,7)),     #Rotates the image to a specified angel\n",
        "            transforms.RandomAffine(0, shear=10, scale=(0.8,1.2)), #Performs actions like zooms, change shear angles.\n",
        "            transforms.ColorJitter(brightness=0.2, contrast=0.2, saturation=0.2), # Set the color params\n",
        "            transforms.ToTensor(), # comvert the image to tensor so that it can work with torch\n",
        "            transforms.Normalize((0.491, 0.482, 0.446), (0.247, 0.243, 0.261)) #Normalize all the images\n",
        "            ]\n",
        "\n",
        "        return train_transformations\n",
        "\n",
        "    def testparams(self):\n",
        "        test_transforms = [\n",
        "            transforms.ToTensor(),\n",
        "            transforms.Normalize((0.491, 0.482, 0.446), (0.247, 0.243, 0.261))\n",
        "        ]\n",
        "        return test_transforms"
      ]
    },
    {
      "cell_type": "code",
      "execution_count": 4,
      "metadata": {
        "execution": {
          "iopub.execute_input": "2020-09-18T14:06:34.822176Z",
          "iopub.status.busy": "2020-09-18T14:06:34.821389Z",
          "iopub.status.idle": "2020-09-18T14:06:34.824928Z",
          "shell.execute_reply": "2020-09-18T14:06:34.825448Z"
        },
        "papermill": {
          "duration": 0.026239,
          "end_time": "2020-09-18T14:06:34.825574",
          "exception": false,
          "start_time": "2020-09-18T14:06:34.799335",
          "status": "completed"
        },
        "tags": [],
        "id": "TUmYFrWSKs_g"
      },
      "outputs": [],
      "source": [
        "from torchvision import datasets\n",
        "from torchvision import transforms\n",
        "\n",
        "\n",
        "transformations = GetTransforms()\n",
        "train_transforms = transforms.Compose(transformations.trainparams())\n",
        "test_transforms = transforms.Compose(transformations.testparams())\n",
        "\n",
        "\n",
        "class GetCIFAR10_TrainData():\n",
        "    def __init__(self, dir_name:str):\n",
        "        self.dirname = dir_name\n",
        "\n",
        "    def download_train_data(self):\n",
        "        return datasets.CIFAR10('./data', train=True, download=True, transform=train_transforms)\n",
        "\n",
        "    def download_test_data(self):\n",
        "        return datasets.CIFAR10('./data', train=False, download=True, transform=test_transforms)\n"
      ]
    },
    {
      "cell_type": "code",
      "execution_count": 5,
      "metadata": {
        "execution": {
          "iopub.execute_input": "2020-09-18T14:06:34.859536Z",
          "iopub.status.busy": "2020-09-18T14:06:34.858878Z",
          "iopub.status.idle": "2020-09-18T14:06:42.631720Z",
          "shell.execute_reply": "2020-09-18T14:06:42.631008Z"
        },
        "papermill": {
          "duration": 7.792606,
          "end_time": "2020-09-18T14:06:42.631847",
          "exception": false,
          "start_time": "2020-09-18T14:06:34.839241",
          "status": "completed"
        },
        "tags": [],
        "colab": {
          "base_uri": "https://localhost:8080/",
          "height": 101,
          "referenced_widgets": [
            "f274b59dd53f498e9b6f4f2523026154",
            "876169762de049d89a5a470db6334354",
            "738defe3f5f24d739ce40f1dd24b9352",
            "2ca043217297447aa91192ce90602179",
            "4d7c2782c5f344939afa95c872177b0b",
            "f9dd9695b48c487b93566849a547539d",
            "273dce5fd1d845cf82500e83fde82117",
            "7b4361a3c3b648489f4d8b406c18ab01",
            "6b419fcba0df4982a97b24e18a1adc6b",
            "32652667b7b1411b864721101c291ce1",
            "d0246d4842db4f6495aee6c0c643e68c"
          ]
        },
        "id": "U8mSINXnKs_i",
        "outputId": "0615dd6f-4652-4601-8d9a-eb379e60a8ec"
      },
      "outputs": [
        {
          "output_type": "stream",
          "name": "stdout",
          "text": [
            "Downloading https://www.cs.toronto.edu/~kriz/cifar-10-python.tar.gz to ./data/cifar-10-python.tar.gz\n"
          ]
        },
        {
          "output_type": "display_data",
          "data": {
            "text/plain": [
              "  0%|          | 0/170498071 [00:00<?, ?it/s]"
            ],
            "application/vnd.jupyter.widget-view+json": {
              "version_major": 2,
              "version_minor": 0,
              "model_id": "f274b59dd53f498e9b6f4f2523026154"
            }
          },
          "metadata": {}
        },
        {
          "output_type": "stream",
          "name": "stdout",
          "text": [
            "Extracting ./data/cifar-10-python.tar.gz to ./data\n",
            "Files already downloaded and verified\n"
          ]
        }
      ],
      "source": [
        "cdata = GetCIFAR10_TrainData(os.chdir(\"..\"))\n",
        "trainset = cdata.download_train_data()\n",
        "testset = cdata.download_test_data()\n",
        "\n",
        "VALID_RATIO = 0.9\n",
        "n_train_examples = int(len(trainset) * VALID_RATIO)\n",
        "n_valid_examples = len(trainset) - n_train_examples\n",
        "\n",
        "trainset, validset = data.random_split(trainset, \n",
        "                                           [n_train_examples, n_valid_examples])\n",
        "\n",
        "validset = copy.deepcopy(validset)\n",
        "validset.dataset.transform = test_transforms"
      ]
    },
    {
      "cell_type": "code",
      "source": [
        "len(trainset), len(validset), len(testset)"
      ],
      "metadata": {
        "colab": {
          "base_uri": "https://localhost:8080/"
        },
        "id": "W_h-ul9MYUPZ",
        "outputId": "98727318-5ae6-47d7-fb22-85166c668d43"
      },
      "execution_count": 6,
      "outputs": [
        {
          "output_type": "execute_result",
          "data": {
            "text/plain": [
              "(45000, 5000, 10000)"
            ]
          },
          "metadata": {},
          "execution_count": 6
        }
      ]
    },
    {
      "cell_type": "code",
      "source": [
        "BATCH_SIZE = 512\n",
        "\n",
        "trainloader = torch.utils.data.DataLoader(trainset, batch_size=BATCH_SIZE,\n",
        "                                          shuffle=True, num_workers=2)\n",
        "validloader = torch.utils.data.DataLoader(validset, batch_size=BATCH_SIZE,\n",
        "                                          shuffle=False, num_workers=2)\n",
        "testloader = torch.utils.data.DataLoader(testset, batch_size=BATCH_SIZE,\n",
        "                                         shuffle=False, num_workers=2)"
      ],
      "metadata": {
        "id": "uybGoOcRQA6S"
      },
      "execution_count": 7,
      "outputs": []
    },
    {
      "cell_type": "markdown",
      "metadata": {
        "papermill": {
          "duration": 0.01586,
          "end_time": "2020-09-18T14:06:42.663889",
          "exception": false,
          "start_time": "2020-09-18T14:06:42.648029",
          "status": "completed"
        },
        "tags": [],
        "id": "H6YIObpwKs_j"
      },
      "source": [
        "# The Model - RESNET18\n"
      ]
    },
    {
      "cell_type": "code",
      "source": [
        "# 3x3 convolution\n",
        "def conv3x3(in_channels, out_channels, stride=1):\n",
        "    return nn.Conv2d(in_channels, out_channels, kernel_size=3, \n",
        "                     stride=stride, padding=1, bias=False)"
      ],
      "metadata": {
        "id": "G9TNZ9fONNbW"
      },
      "execution_count": 8,
      "outputs": []
    },
    {
      "cell_type": "code",
      "execution_count": 9,
      "metadata": {
        "execution": {
          "iopub.execute_input": "2020-09-18T14:06:42.726092Z",
          "iopub.status.busy": "2020-09-18T14:06:42.719704Z",
          "iopub.status.idle": "2020-09-18T14:06:42.729169Z",
          "shell.execute_reply": "2020-09-18T14:06:42.728568Z"
        },
        "papermill": {
          "duration": 0.048555,
          "end_time": "2020-09-18T14:06:42.729267",
          "exception": false,
          "start_time": "2020-09-18T14:06:42.680712",
          "status": "completed"
        },
        "tags": [],
        "id": "yJJ0Idu8Ks_j"
      },
      "outputs": [],
      "source": [
        "# Residual block\n",
        "class ResidualBlock(nn.Module):\n",
        "    def __init__(self, in_channels, out_channels, stride=1, downsample=None):\n",
        "        super(ResidualBlock, self).__init__()\n",
        "        \n",
        "        self.conv1 = conv3x3(in_channels, out_channels, stride)\n",
        "        self.bn1 = nn.BatchNorm2d(out_channels)\n",
        "        self.dropout1 = nn.Dropout(0.1)\n",
        "        \n",
        "        self.relu = nn.ReLU(inplace=True)\n",
        "        \n",
        "        self.conv2 = conv3x3(out_channels, out_channels)\n",
        "        self.bn2 = nn.BatchNorm2d(out_channels)\n",
        "        self.dropout2 = nn.Dropout(0.1)\n",
        "        \n",
        "        self.downsample = downsample\n",
        "\n",
        "    def forward(self, x):\n",
        "        residual = x\n",
        "\n",
        "        out = self.conv1(x)\n",
        "        out = self.bn1(out)\n",
        "        # out = self.dropout1(out)\n",
        "        out = self.relu(out)\n",
        "        \n",
        "        out = self.conv2(out)\n",
        "        out = self.bn2(out)\n",
        "        # out = self.dropout2(out)\n",
        "        if self.downsample:\n",
        "            residual = self.downsample(x)\n",
        "        out += residual\n",
        "        out = self.relu(out)\n",
        "        \n",
        "        return out\n",
        "\n",
        "# ResNet\n",
        "class ResNet(nn.Module):\n",
        "    def __init__(self, block, layers, num_classes=10):\n",
        "        super(ResNet, self).__init__()\n",
        "        \n",
        "        self.in_channels = 32\n",
        "        \n",
        "        self.conv = conv3x3(in_channels=3, out_channels=32)\n",
        "        self.bn = nn.BatchNorm2d(32)\n",
        "        self.relu = nn.ReLU(inplace=True)\n",
        "\n",
        "        self.layer1 = self.make_layer(block=block, out_channels=32, blocks=layers[0], stride=1)\n",
        "        self.layer2 = self.make_layer(block=block, out_channels=64, blocks=layers[1], stride=2)\n",
        "        self.layer3 = self.make_layer(block=block, out_channels=128, blocks=layers[2], stride=2)\n",
        "        self.layer4 = self.make_layer(block=block, out_channels=256, blocks=layers[3], stride=2)\n",
        "\n",
        "        self.avg_pool = nn.AvgPool2d(4)\n",
        "        self.fc = nn.Linear(256, num_classes)\n",
        "        # self.fc = nn.Linear(128, num_classes)\n",
        "\n",
        "    def make_layer(self, block, out_channels, blocks, stride=1):\n",
        "        downsample = None\n",
        "        if (stride != 1) or (self.in_channels != out_channels):\n",
        "            downsample = nn.Sequential(\n",
        "                conv3x3(self.in_channels, out_channels, stride=stride),\n",
        "                nn.BatchNorm2d(out_channels))\n",
        "        layers = []\n",
        "        layers.append(block(self.in_channels, out_channels, stride, downsample))\n",
        "        self.in_channels = out_channels\n",
        "        for i in range(1, blocks):\n",
        "            layers.append(block(out_channels, out_channels))\n",
        "        return nn.Sequential(*layers)\n",
        "\n",
        "    def forward(self, x):\n",
        "        out = self.conv(x)\n",
        "        out = self.bn(out)\n",
        "        out = self.relu(out)\n",
        "        out = self.layer1(out)\n",
        "        out = self.layer2(out)\n",
        "        out = self.layer3(out)\n",
        "        out = self.layer4(out)\n",
        "        out = self.avg_pool(out)\n",
        "        out = out.view(out.size(0), -1)\n",
        "        out = self.fc(out)\n",
        "        return F.log_softmax(out, dim=-1)\n",
        "\n",
        "def ResNet18():\n",
        "    return ResNet(ResidualBlock, [4, 6, 7, 2])\n",
        "    # return ResNet(ResidualBlock, [2, 2, 2])"
      ]
    },
    {
      "cell_type": "code",
      "execution_count": 10,
      "metadata": {
        "execution": {
          "iopub.execute_input": "2020-09-18T14:06:42.764813Z",
          "iopub.status.busy": "2020-09-18T14:06:42.764098Z",
          "iopub.status.idle": "2020-09-18T14:06:48.527600Z",
          "shell.execute_reply": "2020-09-18T14:06:48.528219Z"
        },
        "papermill": {
          "duration": 5.783641,
          "end_time": "2020-09-18T14:06:48.528379",
          "exception": false,
          "start_time": "2020-09-18T14:06:42.744738",
          "status": "completed"
        },
        "tags": [],
        "colab": {
          "base_uri": "https://localhost:8080/"
        },
        "id": "INT7cGhKKs_k",
        "outputId": "0808c001-2678-4d5c-a369-333a2d81fcf0"
      },
      "outputs": [
        {
          "output_type": "stream",
          "name": "stdout",
          "text": [
            "----------------------------------------------------------------\n",
            "        Layer (type)               Output Shape         Param #\n",
            "================================================================\n",
            "            Conv2d-1           [-1, 32, 32, 32]             864\n",
            "       BatchNorm2d-2           [-1, 32, 32, 32]              64\n",
            "              ReLU-3           [-1, 32, 32, 32]               0\n",
            "            Conv2d-4           [-1, 32, 32, 32]           9,216\n",
            "       BatchNorm2d-5           [-1, 32, 32, 32]              64\n",
            "              ReLU-6           [-1, 32, 32, 32]               0\n",
            "            Conv2d-7           [-1, 32, 32, 32]           9,216\n",
            "       BatchNorm2d-8           [-1, 32, 32, 32]              64\n",
            "              ReLU-9           [-1, 32, 32, 32]               0\n",
            "    ResidualBlock-10           [-1, 32, 32, 32]               0\n",
            "           Conv2d-11           [-1, 32, 32, 32]           9,216\n",
            "      BatchNorm2d-12           [-1, 32, 32, 32]              64\n",
            "             ReLU-13           [-1, 32, 32, 32]               0\n",
            "           Conv2d-14           [-1, 32, 32, 32]           9,216\n",
            "      BatchNorm2d-15           [-1, 32, 32, 32]              64\n",
            "             ReLU-16           [-1, 32, 32, 32]               0\n",
            "    ResidualBlock-17           [-1, 32, 32, 32]               0\n",
            "           Conv2d-18           [-1, 32, 32, 32]           9,216\n",
            "      BatchNorm2d-19           [-1, 32, 32, 32]              64\n",
            "             ReLU-20           [-1, 32, 32, 32]               0\n",
            "           Conv2d-21           [-1, 32, 32, 32]           9,216\n",
            "      BatchNorm2d-22           [-1, 32, 32, 32]              64\n",
            "             ReLU-23           [-1, 32, 32, 32]               0\n",
            "    ResidualBlock-24           [-1, 32, 32, 32]               0\n",
            "           Conv2d-25           [-1, 32, 32, 32]           9,216\n",
            "      BatchNorm2d-26           [-1, 32, 32, 32]              64\n",
            "             ReLU-27           [-1, 32, 32, 32]               0\n",
            "           Conv2d-28           [-1, 32, 32, 32]           9,216\n",
            "      BatchNorm2d-29           [-1, 32, 32, 32]              64\n",
            "             ReLU-30           [-1, 32, 32, 32]               0\n",
            "    ResidualBlock-31           [-1, 32, 32, 32]               0\n",
            "           Conv2d-32           [-1, 64, 16, 16]          18,432\n",
            "      BatchNorm2d-33           [-1, 64, 16, 16]             128\n",
            "             ReLU-34           [-1, 64, 16, 16]               0\n",
            "           Conv2d-35           [-1, 64, 16, 16]          36,864\n",
            "      BatchNorm2d-36           [-1, 64, 16, 16]             128\n",
            "           Conv2d-37           [-1, 64, 16, 16]          18,432\n",
            "      BatchNorm2d-38           [-1, 64, 16, 16]             128\n",
            "             ReLU-39           [-1, 64, 16, 16]               0\n",
            "    ResidualBlock-40           [-1, 64, 16, 16]               0\n",
            "           Conv2d-41           [-1, 64, 16, 16]          36,864\n",
            "      BatchNorm2d-42           [-1, 64, 16, 16]             128\n",
            "             ReLU-43           [-1, 64, 16, 16]               0\n",
            "           Conv2d-44           [-1, 64, 16, 16]          36,864\n",
            "      BatchNorm2d-45           [-1, 64, 16, 16]             128\n",
            "             ReLU-46           [-1, 64, 16, 16]               0\n",
            "    ResidualBlock-47           [-1, 64, 16, 16]               0\n",
            "           Conv2d-48           [-1, 64, 16, 16]          36,864\n",
            "      BatchNorm2d-49           [-1, 64, 16, 16]             128\n",
            "             ReLU-50           [-1, 64, 16, 16]               0\n",
            "           Conv2d-51           [-1, 64, 16, 16]          36,864\n",
            "      BatchNorm2d-52           [-1, 64, 16, 16]             128\n",
            "             ReLU-53           [-1, 64, 16, 16]               0\n",
            "    ResidualBlock-54           [-1, 64, 16, 16]               0\n",
            "           Conv2d-55           [-1, 64, 16, 16]          36,864\n",
            "      BatchNorm2d-56           [-1, 64, 16, 16]             128\n",
            "             ReLU-57           [-1, 64, 16, 16]               0\n",
            "           Conv2d-58           [-1, 64, 16, 16]          36,864\n",
            "      BatchNorm2d-59           [-1, 64, 16, 16]             128\n",
            "             ReLU-60           [-1, 64, 16, 16]               0\n",
            "    ResidualBlock-61           [-1, 64, 16, 16]               0\n",
            "           Conv2d-62           [-1, 64, 16, 16]          36,864\n",
            "      BatchNorm2d-63           [-1, 64, 16, 16]             128\n",
            "             ReLU-64           [-1, 64, 16, 16]               0\n",
            "           Conv2d-65           [-1, 64, 16, 16]          36,864\n",
            "      BatchNorm2d-66           [-1, 64, 16, 16]             128\n",
            "             ReLU-67           [-1, 64, 16, 16]               0\n",
            "    ResidualBlock-68           [-1, 64, 16, 16]               0\n",
            "           Conv2d-69           [-1, 64, 16, 16]          36,864\n",
            "      BatchNorm2d-70           [-1, 64, 16, 16]             128\n",
            "             ReLU-71           [-1, 64, 16, 16]               0\n",
            "           Conv2d-72           [-1, 64, 16, 16]          36,864\n",
            "      BatchNorm2d-73           [-1, 64, 16, 16]             128\n",
            "             ReLU-74           [-1, 64, 16, 16]               0\n",
            "    ResidualBlock-75           [-1, 64, 16, 16]               0\n",
            "           Conv2d-76            [-1, 128, 8, 8]          73,728\n",
            "      BatchNorm2d-77            [-1, 128, 8, 8]             256\n",
            "             ReLU-78            [-1, 128, 8, 8]               0\n",
            "           Conv2d-79            [-1, 128, 8, 8]         147,456\n",
            "      BatchNorm2d-80            [-1, 128, 8, 8]             256\n",
            "           Conv2d-81            [-1, 128, 8, 8]          73,728\n",
            "      BatchNorm2d-82            [-1, 128, 8, 8]             256\n",
            "             ReLU-83            [-1, 128, 8, 8]               0\n",
            "    ResidualBlock-84            [-1, 128, 8, 8]               0\n",
            "           Conv2d-85            [-1, 128, 8, 8]         147,456\n",
            "      BatchNorm2d-86            [-1, 128, 8, 8]             256\n",
            "             ReLU-87            [-1, 128, 8, 8]               0\n",
            "           Conv2d-88            [-1, 128, 8, 8]         147,456\n",
            "      BatchNorm2d-89            [-1, 128, 8, 8]             256\n",
            "             ReLU-90            [-1, 128, 8, 8]               0\n",
            "    ResidualBlock-91            [-1, 128, 8, 8]               0\n",
            "           Conv2d-92            [-1, 128, 8, 8]         147,456\n",
            "      BatchNorm2d-93            [-1, 128, 8, 8]             256\n",
            "             ReLU-94            [-1, 128, 8, 8]               0\n",
            "           Conv2d-95            [-1, 128, 8, 8]         147,456\n",
            "      BatchNorm2d-96            [-1, 128, 8, 8]             256\n",
            "             ReLU-97            [-1, 128, 8, 8]               0\n",
            "    ResidualBlock-98            [-1, 128, 8, 8]               0\n",
            "           Conv2d-99            [-1, 128, 8, 8]         147,456\n",
            "     BatchNorm2d-100            [-1, 128, 8, 8]             256\n",
            "            ReLU-101            [-1, 128, 8, 8]               0\n",
            "          Conv2d-102            [-1, 128, 8, 8]         147,456\n",
            "     BatchNorm2d-103            [-1, 128, 8, 8]             256\n",
            "            ReLU-104            [-1, 128, 8, 8]               0\n",
            "   ResidualBlock-105            [-1, 128, 8, 8]               0\n",
            "          Conv2d-106            [-1, 128, 8, 8]         147,456\n",
            "     BatchNorm2d-107            [-1, 128, 8, 8]             256\n",
            "            ReLU-108            [-1, 128, 8, 8]               0\n",
            "          Conv2d-109            [-1, 128, 8, 8]         147,456\n",
            "     BatchNorm2d-110            [-1, 128, 8, 8]             256\n",
            "            ReLU-111            [-1, 128, 8, 8]               0\n",
            "   ResidualBlock-112            [-1, 128, 8, 8]               0\n",
            "          Conv2d-113            [-1, 128, 8, 8]         147,456\n",
            "     BatchNorm2d-114            [-1, 128, 8, 8]             256\n",
            "            ReLU-115            [-1, 128, 8, 8]               0\n",
            "          Conv2d-116            [-1, 128, 8, 8]         147,456\n",
            "     BatchNorm2d-117            [-1, 128, 8, 8]             256\n",
            "            ReLU-118            [-1, 128, 8, 8]               0\n",
            "   ResidualBlock-119            [-1, 128, 8, 8]               0\n",
            "          Conv2d-120            [-1, 128, 8, 8]         147,456\n",
            "     BatchNorm2d-121            [-1, 128, 8, 8]             256\n",
            "            ReLU-122            [-1, 128, 8, 8]               0\n",
            "          Conv2d-123            [-1, 128, 8, 8]         147,456\n",
            "     BatchNorm2d-124            [-1, 128, 8, 8]             256\n",
            "            ReLU-125            [-1, 128, 8, 8]               0\n",
            "   ResidualBlock-126            [-1, 128, 8, 8]               0\n",
            "          Conv2d-127            [-1, 256, 4, 4]         294,912\n",
            "     BatchNorm2d-128            [-1, 256, 4, 4]             512\n",
            "            ReLU-129            [-1, 256, 4, 4]               0\n",
            "          Conv2d-130            [-1, 256, 4, 4]         589,824\n",
            "     BatchNorm2d-131            [-1, 256, 4, 4]             512\n",
            "          Conv2d-132            [-1, 256, 4, 4]         294,912\n",
            "     BatchNorm2d-133            [-1, 256, 4, 4]             512\n",
            "            ReLU-134            [-1, 256, 4, 4]               0\n",
            "   ResidualBlock-135            [-1, 256, 4, 4]               0\n",
            "          Conv2d-136            [-1, 256, 4, 4]         589,824\n",
            "     BatchNorm2d-137            [-1, 256, 4, 4]             512\n",
            "            ReLU-138            [-1, 256, 4, 4]               0\n",
            "          Conv2d-139            [-1, 256, 4, 4]         589,824\n",
            "     BatchNorm2d-140            [-1, 256, 4, 4]             512\n",
            "            ReLU-141            [-1, 256, 4, 4]               0\n",
            "   ResidualBlock-142            [-1, 256, 4, 4]               0\n",
            "       AvgPool2d-143            [-1, 256, 1, 1]               0\n",
            "          Linear-144                   [-1, 10]           2,570\n",
            "================================================================\n",
            "Total params: 4,951,850\n",
            "Trainable params: 4,951,850\n",
            "Non-trainable params: 0\n",
            "----------------------------------------------------------------\n",
            "Input size (MB): 0.01\n",
            "Forward/backward pass size (MB): 16.94\n",
            "Params size (MB): 18.89\n",
            "Estimated Total Size (MB): 35.84\n",
            "----------------------------------------------------------------\n"
          ]
        }
      ],
      "source": [
        "# Importing Model and printing Summary\n",
        "model = ResNet18().to(device)\n",
        "summary(model, input_size=(3,32,32))"
      ]
    },
    {
      "cell_type": "code",
      "execution_count": 11,
      "metadata": {
        "execution": {
          "iopub.execute_input": "2020-09-18T14:06:48.577693Z",
          "iopub.status.busy": "2020-09-18T14:06:48.576994Z",
          "iopub.status.idle": "2020-09-18T14:06:48.581591Z",
          "shell.execute_reply": "2020-09-18T14:06:48.581094Z"
        },
        "papermill": {
          "duration": 0.03332,
          "end_time": "2020-09-18T14:06:48.581710",
          "exception": false,
          "start_time": "2020-09-18T14:06:48.548390",
          "status": "completed"
        },
        "tags": [],
        "id": "-53UyTmsKs_m"
      },
      "outputs": [],
      "source": [
        "from tqdm import tqdm\n",
        "from torch import nn\n",
        "import torch.nn\n",
        "from torch.functional import F\n",
        "import os\n",
        "\n",
        "\n",
        "def model_training(model, device, train_dataloader, optimizer, train_acc, train_losses):\n",
        "            \n",
        "    model.train()\n",
        "    pbar = tqdm(train_dataloader)\n",
        "    correct = 0\n",
        "    processed = 0\n",
        "    running_loss = 0.0\n",
        "\n",
        "    for batch_idx, (data, target) in enumerate(pbar):\n",
        "        data, target = data.to(device), target.to(device)\n",
        "        optimizer.zero_grad()\n",
        "        y_pred = model(data)\n",
        "        loss = F.nll_loss(y_pred, target)\n",
        "        \n",
        "\n",
        "        # train_losses.append(loss.item())\n",
        "        loss.backward()\n",
        "        optimizer.step()\n",
        "\n",
        "        pred = y_pred.argmax(dim=1, keepdim=True)\n",
        "        correct += pred.eq(target.view_as(pred)).sum().item()\n",
        "        processed += len(data)\n",
        "        \n",
        "        # print statistics\n",
        "        \n",
        "        running_loss += loss.item()\n",
        "        pbar.set_description(desc=f'Batch_id={batch_idx} Batch Loss={loss.item()} Running Loss={running_loss} Running Accuracy={100*correct/processed:0.2f}')\n",
        "        # train_acc.append(100*correct/processed)\n",
        "    \n",
        "    train_losses.append(running_loss)\n",
        "    train_acc.append(100*correct/processed)"
      ]
    },
    {
      "cell_type": "code",
      "execution_count": 12,
      "metadata": {
        "execution": {
          "iopub.execute_input": "2020-09-18T14:06:48.629732Z",
          "iopub.status.busy": "2020-09-18T14:06:48.628793Z",
          "iopub.status.idle": "2020-09-18T14:06:48.631384Z",
          "shell.execute_reply": "2020-09-18T14:06:48.631909Z"
        },
        "papermill": {
          "duration": 0.03462,
          "end_time": "2020-09-18T14:06:48.632026",
          "exception": false,
          "start_time": "2020-09-18T14:06:48.597406",
          "status": "completed"
        },
        "tags": [],
        "id": "E4BrK-0EKs_n"
      },
      "outputs": [],
      "source": [
        "import torch\n",
        "import os\n",
        "from torch.functional import F\n",
        "\n",
        "cwd = os.getcwd()\n",
        "\n",
        "def model_testing(model, device, test_dataloader, test_acc, test_losses, misclassified = []):\n",
        "    \n",
        "    model.eval()\n",
        "    test_loss = 0\n",
        "    correct = 0\n",
        "    class_correct = list(0. for i in range(10))\n",
        "    class_total = list(0. for i in range(10))\n",
        "    # label = 0\n",
        "    classes = ('plane', 'car', 'bird', 'cat',\n",
        "           'deer', 'dog', 'frog', 'horse', 'ship', 'truck')\n",
        "    \n",
        "    with torch.no_grad():\n",
        "\n",
        "        for index, (data, target) in enumerate(test_dataloader):\n",
        "            data, target = data.to(device), target.to(device)\n",
        "            output = model(data)\n",
        "            pred = output.argmax(dim=1, keepdim=True)\n",
        "            \n",
        "            for d,i,j in zip(data, pred, target):\n",
        "                if i != j:\n",
        "                    misclassified.append([d.cpu(),i[0].cpu(),j.cpu()])\n",
        "\n",
        "            test_loss += F.nll_loss(output, target, reduction='sum').item()\n",
        "            correct += pred.eq(target.view_as(pred)).sum().item()\n",
        "    test_loss /= len(test_dataloader.dataset)\n",
        "    test_losses.append(test_loss)\n",
        "    \n",
        "    print('\\nTest set: Average loss: {:.4f}, Accuracy: {}/{} ({:.2f}%)\\n'.format(\n",
        "        test_loss, correct, len(test_dataloader.dataset),\n",
        "        100. * correct / len(test_dataloader.dataset)))\n",
        "    \n",
        "    test_acc.append(100. * correct / len(test_dataloader.dataset))\n",
        "    return misclassified, correct / len(test_dataloader.dataset)"
      ]
    },
    {
      "cell_type": "code",
      "source": [
        "def model_evaluation(model, device, loader):\n",
        "    \n",
        "    epoch_loss = 0\n",
        "    epoch_acc = 0\n",
        "    \n",
        "    model.eval()\n",
        "    \n",
        "    with torch.no_grad():\n",
        "        \n",
        "        for (x, y) in loader:\n",
        "\n",
        "            x = x.to(device)\n",
        "            y = y.to(device)\n",
        "\n",
        "            y_pred = model(x)\n",
        "            loss = F.nll_loss(y_pred, y)\n",
        "        \n",
        "            pred = y_pred.argmax(dim=1, keepdim=True)\n",
        "            acc = pred.eq(y.view_as(pred)).sum()\n",
        "\n",
        "            epoch_loss += loss.item()\n",
        "            epoch_acc += acc.item()\n",
        "        \n",
        "    print('\\nValidation set: Average loss: {:.4f}, Accuracy: {}/{} ({:.2f}%)\\n'.format(\n",
        "    epoch_loss / len(loader.dataset), epoch_acc, len(loader.dataset),\n",
        "    100. * epoch_acc / len(loader.dataset)))\n",
        "\n",
        "    return epoch_loss, epoch_acc / len(loader.dataset)"
      ],
      "metadata": {
        "id": "ysDy3WkqUGb-"
      },
      "execution_count": 13,
      "outputs": []
    },
    {
      "cell_type": "code",
      "source": [
        "# Defining parameters\n",
        "\n",
        "criterion = nn.CrossEntropyLoss()\n",
        "\n",
        "# optimizer = optim.SGD(model.parameters(), lr=0.05, momentum=0.9)\n",
        "optimizer = optim.SGD(model.parameters(), lr=0.01, momentum=0.9)\n",
        "\n",
        "scheduler = ReduceLROnPlateau(optimizer, mode='min', factor=0.1, patience=2, threshold=0.0001, threshold_mode='rel', cooldown=0, min_lr=0, eps=1e-08, verbose=True)\n",
        "# scheduler = ReduceLROnPlateau(optimizer, mode='min', factor=0.1, patience=2, threshold=0.001, threshold_mode='rel', cooldown=0, min_lr=0, eps=1e-08, verbose=True)\n",
        "# scheduler = StepLR(optimizer, step_size=15, gamma=0.1)"
      ],
      "metadata": {
        "id": "L7LSCkvhAdb0"
      },
      "execution_count": 14,
      "outputs": []
    },
    {
      "cell_type": "code",
      "source": [
        "import pandas\n",
        "\n",
        "def save_to_csv(csvname, train_losses, train_accs, test_losses, test_accs):\n",
        "  df = pandas.DataFrame()\n",
        "  df[\"epoch\"] = [i+1 for i in range(len(train_losses))]\n",
        "  df[\"train_loss\"] = train_losses\n",
        "  df[\"test_loss\"] = test_losses\n",
        "  df[\"train_acc\"] = train_accs\n",
        "  df[\"test_acc\"] = test_accs\n",
        "  df.to_csv(csvname)"
      ],
      "metadata": {
        "id": "NKQh0_0lc7OG"
      },
      "execution_count": 15,
      "outputs": []
    },
    {
      "cell_type": "code",
      "execution_count": 16,
      "metadata": {
        "execution": {
          "iopub.execute_input": "2020-09-18T14:06:48.676683Z",
          "iopub.status.busy": "2020-09-18T14:06:48.675972Z",
          "iopub.status.idle": "2020-09-18T14:33:04.548416Z",
          "shell.execute_reply": "2020-09-18T14:33:04.549364Z"
        },
        "papermill": {
          "duration": 1575.900797,
          "end_time": "2020-09-18T14:33:04.549700",
          "exception": false,
          "start_time": "2020-09-18T14:06:48.648903",
          "status": "completed"
        },
        "tags": [],
        "colab": {
          "base_uri": "https://localhost:8080/"
        },
        "id": "rtrFA-RCKs_o",
        "outputId": "98179374-6a24-4f15-d256-89b055b14684"
      },
      "outputs": [
        {
          "output_type": "stream",
          "name": "stdout",
          "text": [
            "EPOCHS : 0\n"
          ]
        },
        {
          "output_type": "stream",
          "name": "stderr",
          "text": [
            "Batch_id=87 Batch Loss=1.5296087265014648 Running Loss=155.55280578136444 Running Accuracy=33.95: 100%|██████████| 88/88 [00:46<00:00,  1.90it/s]\n"
          ]
        },
        {
          "output_type": "stream",
          "name": "stdout",
          "text": [
            "\n",
            "Validation set: Average loss: 0.0029, Accuracy: 2357/5000 (47.14%)\n",
            "\n",
            "\n",
            "Test set: Average loss: 1.4323, Accuracy: 4648/10000 (46.48%)\n",
            "\n",
            "EPOCHS : 1\n"
          ]
        },
        {
          "output_type": "stream",
          "name": "stderr",
          "text": [
            "Batch_id=87 Batch Loss=1.271203875541687 Running Loss=116.73086941242218 Running Accuracy=51.81: 100%|██████████| 88/88 [00:45<00:00,  1.95it/s]\n"
          ]
        },
        {
          "output_type": "stream",
          "name": "stdout",
          "text": [
            "\n",
            "Validation set: Average loss: 0.0026, Accuracy: 2638/5000 (52.76%)\n",
            "\n",
            "\n",
            "Test set: Average loss: 1.3063, Accuracy: 5222/10000 (52.22%)\n",
            "\n",
            "EPOCHS : 2\n"
          ]
        },
        {
          "output_type": "stream",
          "name": "stderr",
          "text": [
            "Batch_id=87 Batch Loss=0.9230854511260986 Running Loss=98.32372081279755 Running Accuracy=60.18: 100%|██████████| 88/88 [00:45<00:00,  1.95it/s]\n"
          ]
        },
        {
          "output_type": "stream",
          "name": "stdout",
          "text": [
            "\n",
            "Validation set: Average loss: 0.0020, Accuracy: 3214/5000 (64.28%)\n",
            "\n",
            "\n",
            "Test set: Average loss: 1.0062, Accuracy: 6415/10000 (64.15%)\n",
            "\n",
            "EPOCHS : 3\n"
          ]
        },
        {
          "output_type": "stream",
          "name": "stderr",
          "text": [
            "Batch_id=87 Batch Loss=1.0112652778625488 Running Loss=85.37562870979309 Running Accuracy=65.59: 100%|██████████| 88/88 [00:44<00:00,  1.96it/s]\n"
          ]
        },
        {
          "output_type": "stream",
          "name": "stdout",
          "text": [
            "\n",
            "Validation set: Average loss: 0.0019, Accuracy: 3306/5000 (66.12%)\n",
            "\n",
            "\n",
            "Test set: Average loss: 0.9644, Accuracy: 6600/10000 (66.00%)\n",
            "\n",
            "EPOCHS : 4\n"
          ]
        },
        {
          "output_type": "stream",
          "name": "stderr",
          "text": [
            "Batch_id=87 Batch Loss=0.7738590836524963 Running Loss=76.1226499080658 Running Accuracy=69.44: 100%|██████████| 88/88 [00:44<00:00,  1.98it/s]\n"
          ]
        },
        {
          "output_type": "stream",
          "name": "stdout",
          "text": [
            "\n",
            "Validation set: Average loss: 0.0017, Accuracy: 3526/5000 (70.52%)\n",
            "\n",
            "\n",
            "Test set: Average loss: 0.8438, Accuracy: 7023/10000 (70.23%)\n",
            "\n",
            "EPOCHS : 5\n"
          ]
        },
        {
          "output_type": "stream",
          "name": "stderr",
          "text": [
            "Batch_id=87 Batch Loss=0.741563618183136 Running Loss=68.1270204782486 Running Accuracy=72.63: 100%|██████████| 88/88 [00:43<00:00,  2.00it/s]\n"
          ]
        },
        {
          "output_type": "stream",
          "name": "stdout",
          "text": [
            "\n",
            "Validation set: Average loss: 0.0018, Accuracy: 3482/5000 (69.64%)\n",
            "\n",
            "\n",
            "Test set: Average loss: 0.9436, Accuracy: 6910/10000 (69.10%)\n",
            "\n",
            "EPOCHS : 6\n"
          ]
        },
        {
          "output_type": "stream",
          "name": "stderr",
          "text": [
            "Batch_id=87 Batch Loss=0.6433463096618652 Running Loss=62.108815014362335 Running Accuracy=75.35: 100%|██████████| 88/88 [00:44<00:00,  1.99it/s]\n"
          ]
        },
        {
          "output_type": "stream",
          "name": "stdout",
          "text": [
            "\n",
            "Validation set: Average loss: 0.0014, Accuracy: 3747/5000 (74.94%)\n",
            "\n",
            "\n",
            "Test set: Average loss: 0.7441, Accuracy: 7501/10000 (75.01%)\n",
            "\n",
            "EPOCHS : 7\n"
          ]
        },
        {
          "output_type": "stream",
          "name": "stderr",
          "text": [
            "Batch_id=87 Batch Loss=0.6231992244720459 Running Loss=57.190145552158356 Running Accuracy=77.21: 100%|██████████| 88/88 [00:46<00:00,  1.88it/s]\n"
          ]
        },
        {
          "output_type": "stream",
          "name": "stdout",
          "text": [
            "\n",
            "Validation set: Average loss: 0.0019, Accuracy: 3433/5000 (68.66%)\n",
            "\n",
            "\n",
            "Test set: Average loss: 0.9253, Accuracy: 6912/10000 (69.12%)\n",
            "\n",
            "EPOCHS : 8\n"
          ]
        },
        {
          "output_type": "stream",
          "name": "stderr",
          "text": [
            "Batch_id=87 Batch Loss=0.5699613690376282 Running Loss=53.6688916683197 Running Accuracy=78.74: 100%|██████████| 88/88 [00:45<00:00,  1.94it/s]\n"
          ]
        },
        {
          "output_type": "stream",
          "name": "stdout",
          "text": [
            "\n",
            "Validation set: Average loss: 0.0014, Accuracy: 3833/5000 (76.66%)\n",
            "\n",
            "\n",
            "Test set: Average loss: 0.7264, Accuracy: 7574/10000 (75.74%)\n",
            "\n",
            "EPOCHS : 9\n"
          ]
        },
        {
          "output_type": "stream",
          "name": "stderr",
          "text": [
            "Batch_id=87 Batch Loss=0.46419844031333923 Running Loss=50.681207090616226 Running Accuracy=79.84: 100%|██████████| 88/88 [00:45<00:00,  1.92it/s]\n"
          ]
        },
        {
          "output_type": "stream",
          "name": "stdout",
          "text": [
            "\n",
            "Validation set: Average loss: 0.0012, Accuracy: 3985/5000 (79.70%)\n",
            "\n",
            "\n",
            "Test set: Average loss: 0.6445, Accuracy: 7800/10000 (78.00%)\n",
            "\n",
            "EPOCHS : 10\n"
          ]
        },
        {
          "output_type": "stream",
          "name": "stderr",
          "text": [
            "Batch_id=87 Batch Loss=0.5894016623497009 Running Loss=47.24432730674744 Running Accuracy=81.10: 100%|██████████| 88/88 [00:45<00:00,  1.92it/s]\n"
          ]
        },
        {
          "output_type": "stream",
          "name": "stdout",
          "text": [
            "\n",
            "Validation set: Average loss: 0.0011, Accuracy: 4037/5000 (80.74%)\n",
            "\n",
            "\n",
            "Test set: Average loss: 0.5630, Accuracy: 8083/10000 (80.83%)\n",
            "\n",
            "EPOCHS : 11\n"
          ]
        },
        {
          "output_type": "stream",
          "name": "stderr",
          "text": [
            "Batch_id=87 Batch Loss=0.5292217135429382 Running Loss=44.52305814623833 Running Accuracy=82.24: 100%|██████████| 88/88 [00:45<00:00,  1.93it/s]\n"
          ]
        },
        {
          "output_type": "stream",
          "name": "stdout",
          "text": [
            "\n",
            "Validation set: Average loss: 0.0012, Accuracy: 3953/5000 (79.06%)\n",
            "\n",
            "\n",
            "Test set: Average loss: 0.6054, Accuracy: 7888/10000 (78.88%)\n",
            "\n",
            "EPOCHS : 12\n"
          ]
        },
        {
          "output_type": "stream",
          "name": "stderr",
          "text": [
            "Batch_id=87 Batch Loss=0.4866498112678528 Running Loss=41.80185613036156 Running Accuracy=83.17: 100%|██████████| 88/88 [00:45<00:00,  1.93it/s]\n"
          ]
        },
        {
          "output_type": "stream",
          "name": "stdout",
          "text": [
            "\n",
            "Validation set: Average loss: 0.0011, Accuracy: 4031/5000 (80.62%)\n",
            "\n",
            "\n",
            "Test set: Average loss: 0.6155, Accuracy: 7926/10000 (79.26%)\n",
            "\n",
            "EPOCHS : 13\n"
          ]
        },
        {
          "output_type": "stream",
          "name": "stderr",
          "text": [
            "Batch_id=87 Batch Loss=0.4656330645084381 Running Loss=40.62476748228073 Running Accuracy=83.82: 100%|██████████| 88/88 [00:45<00:00,  1.93it/s]\n"
          ]
        },
        {
          "output_type": "stream",
          "name": "stdout",
          "text": [
            "\n",
            "Validation set: Average loss: 0.0011, Accuracy: 4108/5000 (82.16%)\n",
            "\n",
            "\n",
            "Test set: Average loss: 0.5611, Accuracy: 8123/10000 (81.23%)\n",
            "\n",
            "EPOCHS : 14\n"
          ]
        },
        {
          "output_type": "stream",
          "name": "stderr",
          "text": [
            "Batch_id=87 Batch Loss=0.4809301495552063 Running Loss=38.349103540182114 Running Accuracy=84.94: 100%|██████████| 88/88 [00:47<00:00,  1.87it/s]\n"
          ]
        },
        {
          "output_type": "stream",
          "name": "stdout",
          "text": [
            "\n",
            "Validation set: Average loss: 0.0011, Accuracy: 4070/5000 (81.40%)\n",
            "\n",
            "\n",
            "Test set: Average loss: 0.6026, Accuracy: 8080/10000 (80.80%)\n",
            "\n",
            "EPOCHS : 15\n"
          ]
        },
        {
          "output_type": "stream",
          "name": "stderr",
          "text": [
            "Batch_id=87 Batch Loss=0.39303019642829895 Running Loss=37.69826912879944 Running Accuracy=84.87: 100%|██████████| 88/88 [00:45<00:00,  1.93it/s]\n"
          ]
        },
        {
          "output_type": "stream",
          "name": "stdout",
          "text": [
            "\n",
            "Validation set: Average loss: 0.0011, Accuracy: 4122/5000 (82.44%)\n",
            "\n",
            "\n",
            "Test set: Average loss: 0.5539, Accuracy: 8159/10000 (81.59%)\n",
            "\n",
            "EPOCHS : 16\n"
          ]
        },
        {
          "output_type": "stream",
          "name": "stderr",
          "text": [
            "Batch_id=87 Batch Loss=0.3893365263938904 Running Loss=34.99620881676674 Running Accuracy=85.97: 100%|██████████| 88/88 [00:45<00:00,  1.94it/s]\n"
          ]
        },
        {
          "output_type": "stream",
          "name": "stdout",
          "text": [
            "\n",
            "Validation set: Average loss: 0.0012, Accuracy: 4053/5000 (81.06%)\n",
            "\n",
            "\n",
            "Test set: Average loss: 0.6480, Accuracy: 7955/10000 (79.55%)\n",
            "\n",
            "EPOCHS : 17\n"
          ]
        },
        {
          "output_type": "stream",
          "name": "stderr",
          "text": [
            "Batch_id=87 Batch Loss=0.3786093294620514 Running Loss=33.43481287360191 Running Accuracy=86.78: 100%|██████████| 88/88 [00:45<00:00,  1.92it/s]\n"
          ]
        },
        {
          "output_type": "stream",
          "name": "stdout",
          "text": [
            "\n",
            "Validation set: Average loss: 0.0010, Accuracy: 4168/5000 (83.36%)\n",
            "\n",
            "\n",
            "Test set: Average loss: 0.5608, Accuracy: 8204/10000 (82.04%)\n",
            "\n",
            "EPOCHS : 18\n"
          ]
        },
        {
          "output_type": "stream",
          "name": "stderr",
          "text": [
            "Batch_id=87 Batch Loss=0.3297271430492401 Running Loss=32.51637688279152 Running Accuracy=86.98: 100%|██████████| 88/88 [00:45<00:00,  1.93it/s]\n"
          ]
        },
        {
          "output_type": "stream",
          "name": "stdout",
          "text": [
            "\n",
            "Validation set: Average loss: 0.0009, Accuracy: 4266/5000 (85.32%)\n",
            "\n",
            "\n",
            "Test set: Average loss: 0.4880, Accuracy: 8369/10000 (83.69%)\n",
            "\n",
            "EPOCHS : 19\n"
          ]
        },
        {
          "output_type": "stream",
          "name": "stderr",
          "text": [
            "Batch_id=87 Batch Loss=0.43486487865448 Running Loss=31.160917729139328 Running Accuracy=87.51: 100%|██████████| 88/88 [00:45<00:00,  1.92it/s]\n"
          ]
        },
        {
          "output_type": "stream",
          "name": "stdout",
          "text": [
            "\n",
            "Validation set: Average loss: 0.0011, Accuracy: 4109/5000 (82.18%)\n",
            "\n",
            "\n",
            "Test set: Average loss: 0.5592, Accuracy: 8162/10000 (81.62%)\n",
            "\n",
            "EPOCHS : 20\n"
          ]
        },
        {
          "output_type": "stream",
          "name": "stderr",
          "text": [
            "Batch_id=87 Batch Loss=0.3238956928253174 Running Loss=29.78856861591339 Running Accuracy=88.06: 100%|██████████| 88/88 [00:45<00:00,  1.93it/s]\n"
          ]
        },
        {
          "output_type": "stream",
          "name": "stdout",
          "text": [
            "\n",
            "Validation set: Average loss: 0.0010, Accuracy: 4151/5000 (83.02%)\n",
            "\n",
            "\n",
            "Test set: Average loss: 0.5503, Accuracy: 8227/10000 (82.27%)\n",
            "\n",
            "EPOCHS : 21\n"
          ]
        },
        {
          "output_type": "stream",
          "name": "stderr",
          "text": [
            "Batch_id=87 Batch Loss=0.38399288058280945 Running Loss=28.566907346248627 Running Accuracy=88.77: 100%|██████████| 88/88 [00:46<00:00,  1.90it/s]\n"
          ]
        },
        {
          "output_type": "stream",
          "name": "stdout",
          "text": [
            "\n",
            "Validation set: Average loss: 0.0009, Accuracy: 4257/5000 (85.14%)\n",
            "\n",
            "\n",
            "Test set: Average loss: 0.4551, Accuracy: 8487/10000 (84.87%)\n",
            "\n",
            "EPOCHS : 22\n"
          ]
        },
        {
          "output_type": "stream",
          "name": "stderr",
          "text": [
            "Batch_id=87 Batch Loss=0.3300332725048065 Running Loss=27.76033629477024 Running Accuracy=88.96: 100%|██████████| 88/88 [00:45<00:00,  1.92it/s]\n"
          ]
        },
        {
          "output_type": "stream",
          "name": "stdout",
          "text": [
            "\n",
            "Validation set: Average loss: 0.0010, Accuracy: 4147/5000 (82.94%)\n",
            "\n",
            "\n",
            "Test set: Average loss: 0.5386, Accuracy: 8231/10000 (82.31%)\n",
            "\n",
            "EPOCHS : 23\n"
          ]
        },
        {
          "output_type": "stream",
          "name": "stderr",
          "text": [
            "Batch_id=87 Batch Loss=0.3738483488559723 Running Loss=26.510128557682037 Running Accuracy=89.40: 100%|██████████| 88/88 [00:46<00:00,  1.91it/s]\n"
          ]
        },
        {
          "output_type": "stream",
          "name": "stdout",
          "text": [
            "\n",
            "Validation set: Average loss: 0.0009, Accuracy: 4288/5000 (85.76%)\n",
            "\n",
            "\n",
            "Test set: Average loss: 0.4621, Accuracy: 8506/10000 (85.06%)\n",
            "\n",
            "EPOCHS : 24\n"
          ]
        },
        {
          "output_type": "stream",
          "name": "stderr",
          "text": [
            "Batch_id=87 Batch Loss=0.2468928098678589 Running Loss=25.384059563279152 Running Accuracy=89.90: 100%|██████████| 88/88 [00:46<00:00,  1.88it/s]\n"
          ]
        },
        {
          "output_type": "stream",
          "name": "stdout",
          "text": [
            "\n",
            "Validation set: Average loss: 0.0009, Accuracy: 4285/5000 (85.70%)\n",
            "\n",
            "\n",
            "Test set: Average loss: 0.4795, Accuracy: 8471/10000 (84.71%)\n",
            "\n",
            "EPOCHS : 25\n"
          ]
        },
        {
          "output_type": "stream",
          "name": "stderr",
          "text": [
            "Batch_id=87 Batch Loss=0.2721026837825775 Running Loss=24.583565309643745 Running Accuracy=90.03: 100%|██████████| 88/88 [00:45<00:00,  1.94it/s]\n"
          ]
        },
        {
          "output_type": "stream",
          "name": "stdout",
          "text": [
            "\n",
            "Validation set: Average loss: 0.0013, Accuracy: 4048/5000 (80.96%)\n",
            "\n",
            "\n",
            "Test set: Average loss: 0.6847, Accuracy: 8012/10000 (80.12%)\n",
            "\n",
            "EPOCHS : 26\n"
          ]
        },
        {
          "output_type": "stream",
          "name": "stderr",
          "text": [
            "Batch_id=87 Batch Loss=0.2810018062591553 Running Loss=23.896741271018982 Running Accuracy=90.35: 100%|██████████| 88/88 [00:46<00:00,  1.91it/s]\n"
          ]
        },
        {
          "output_type": "stream",
          "name": "stdout",
          "text": [
            "\n",
            "Validation set: Average loss: 0.0009, Accuracy: 4263/5000 (85.26%)\n",
            "\n",
            "\n",
            "Test set: Average loss: 0.5178, Accuracy: 8405/10000 (84.05%)\n",
            "\n",
            "EPOCHS : 27\n"
          ]
        },
        {
          "output_type": "stream",
          "name": "stderr",
          "text": [
            "Batch_id=87 Batch Loss=0.24947883188724518 Running Loss=22.782157972455025 Running Accuracy=90.95: 100%|██████████| 88/88 [00:44<00:00,  1.96it/s]\n"
          ]
        },
        {
          "output_type": "stream",
          "name": "stdout",
          "text": [
            "\n",
            "Validation set: Average loss: 0.0011, Accuracy: 4138/5000 (82.76%)\n",
            "\n",
            "\n",
            "Test set: Average loss: 0.5854, Accuracy: 8242/10000 (82.42%)\n",
            "\n",
            "EPOCHS : 28\n"
          ]
        },
        {
          "output_type": "stream",
          "name": "stderr",
          "text": [
            "Batch_id=87 Batch Loss=0.28354373574256897 Running Loss=21.89918354153633 Running Accuracy=91.24: 100%|██████████| 88/88 [00:46<00:00,  1.91it/s]\n"
          ]
        },
        {
          "output_type": "stream",
          "name": "stdout",
          "text": [
            "\n",
            "Validation set: Average loss: 0.0010, Accuracy: 4243/5000 (84.86%)\n",
            "\n",
            "\n",
            "Test set: Average loss: 0.5381, Accuracy: 8426/10000 (84.26%)\n",
            "\n",
            "EPOCHS : 29\n"
          ]
        },
        {
          "output_type": "stream",
          "name": "stderr",
          "text": [
            "Batch_id=87 Batch Loss=0.2679087221622467 Running Loss=21.285569220781326 Running Accuracy=91.43: 100%|██████████| 88/88 [00:45<00:00,  1.93it/s]\n"
          ]
        },
        {
          "output_type": "stream",
          "name": "stdout",
          "text": [
            "\n",
            "Validation set: Average loss: 0.0007, Accuracy: 4418/5000 (88.36%)\n",
            "\n",
            "\n",
            "Test set: Average loss: 0.4027, Accuracy: 8700/10000 (87.00%)\n",
            "\n",
            "EPOCHS : 30\n"
          ]
        },
        {
          "output_type": "stream",
          "name": "stderr",
          "text": [
            "Batch_id=87 Batch Loss=0.22748512029647827 Running Loss=20.418181985616684 Running Accuracy=91.83: 100%|██████████| 88/88 [00:45<00:00,  1.93it/s]\n"
          ]
        },
        {
          "output_type": "stream",
          "name": "stdout",
          "text": [
            "\n",
            "Validation set: Average loss: 0.0009, Accuracy: 4271/5000 (85.42%)\n",
            "\n",
            "\n",
            "Test set: Average loss: 0.5263, Accuracy: 8423/10000 (84.23%)\n",
            "\n",
            "EPOCHS : 31\n"
          ]
        },
        {
          "output_type": "stream",
          "name": "stderr",
          "text": [
            "Batch_id=87 Batch Loss=0.19722408056259155 Running Loss=20.196137592196465 Running Accuracy=91.81: 100%|██████████| 88/88 [00:46<00:00,  1.90it/s]\n"
          ]
        },
        {
          "output_type": "stream",
          "name": "stdout",
          "text": [
            "\n",
            "Validation set: Average loss: 0.0009, Accuracy: 4325/5000 (86.50%)\n",
            "\n",
            "\n",
            "Test set: Average loss: 0.4800, Accuracy: 8517/10000 (85.17%)\n",
            "\n",
            "EPOCHS : 32\n"
          ]
        },
        {
          "output_type": "stream",
          "name": "stderr",
          "text": [
            "Batch_id=87 Batch Loss=0.21675175428390503 Running Loss=19.213197469711304 Running Accuracy=92.19: 100%|██████████| 88/88 [00:45<00:00,  1.93it/s]\n"
          ]
        },
        {
          "output_type": "stream",
          "name": "stdout",
          "text": [
            "\n",
            "Validation set: Average loss: 0.0008, Accuracy: 4376/5000 (87.52%)\n",
            "\n",
            "\n",
            "Test set: Average loss: 0.4517, Accuracy: 8587/10000 (85.87%)\n",
            "\n",
            "EPOCHS : 33\n"
          ]
        },
        {
          "output_type": "stream",
          "name": "stderr",
          "text": [
            "Batch_id=87 Batch Loss=0.21971632540225983 Running Loss=18.428090006113052 Running Accuracy=92.53: 100%|██████████| 88/88 [00:45<00:00,  1.93it/s]\n"
          ]
        },
        {
          "output_type": "stream",
          "name": "stdout",
          "text": [
            "\n",
            "Validation set: Average loss: 0.0008, Accuracy: 4352/5000 (87.04%)\n",
            "\n",
            "\n",
            "Test set: Average loss: 0.4611, Accuracy: 8612/10000 (86.12%)\n",
            "\n",
            "EPOCHS : 34\n"
          ]
        },
        {
          "output_type": "stream",
          "name": "stderr",
          "text": [
            "Batch_id=87 Batch Loss=0.18187430500984192 Running Loss=18.01723676919937 Running Accuracy=92.73: 100%|██████████| 88/88 [00:45<00:00,  1.93it/s]\n"
          ]
        },
        {
          "output_type": "stream",
          "name": "stdout",
          "text": [
            "\n",
            "Validation set: Average loss: 0.0008, Accuracy: 4378/5000 (87.56%)\n",
            "\n",
            "\n",
            "Test set: Average loss: 0.4572, Accuracy: 8604/10000 (86.04%)\n",
            "\n",
            "EPOCHS : 35\n"
          ]
        },
        {
          "output_type": "stream",
          "name": "stderr",
          "text": [
            "Batch_id=87 Batch Loss=0.17603075504302979 Running Loss=17.109865456819534 Running Accuracy=93.08: 100%|██████████| 88/88 [00:45<00:00,  1.95it/s]\n"
          ]
        },
        {
          "output_type": "stream",
          "name": "stdout",
          "text": [
            "\n",
            "Validation set: Average loss: 0.0009, Accuracy: 4324/5000 (86.48%)\n",
            "\n",
            "\n",
            "Test set: Average loss: 0.4704, Accuracy: 8597/10000 (85.97%)\n",
            "\n",
            "EPOCHS : 36\n"
          ]
        },
        {
          "output_type": "stream",
          "name": "stderr",
          "text": [
            "Batch_id=87 Batch Loss=0.16707198321819305 Running Loss=16.586954459547997 Running Accuracy=93.30: 100%|██████████| 88/88 [00:44<00:00,  1.99it/s]\n"
          ]
        },
        {
          "output_type": "stream",
          "name": "stdout",
          "text": [
            "\n",
            "Validation set: Average loss: 0.0009, Accuracy: 4320/5000 (86.40%)\n",
            "\n",
            "\n",
            "Test set: Average loss: 0.4976, Accuracy: 8540/10000 (85.40%)\n",
            "\n",
            "EPOCHS : 37\n"
          ]
        },
        {
          "output_type": "stream",
          "name": "stderr",
          "text": [
            "Batch_id=87 Batch Loss=0.1969866156578064 Running Loss=15.834511309862137 Running Accuracy=93.70: 100%|██████████| 88/88 [00:43<00:00,  2.02it/s]\n"
          ]
        },
        {
          "output_type": "stream",
          "name": "stdout",
          "text": [
            "\n",
            "Validation set: Average loss: 0.0009, Accuracy: 4315/5000 (86.30%)\n",
            "\n",
            "\n",
            "Test set: Average loss: 0.5111, Accuracy: 8539/10000 (85.39%)\n",
            "\n",
            "EPOCHS : 38\n"
          ]
        },
        {
          "output_type": "stream",
          "name": "stderr",
          "text": [
            "Batch_id=87 Batch Loss=0.15574820339679718 Running Loss=16.20096715539694 Running Accuracy=93.40: 100%|██████████| 88/88 [00:44<00:00,  1.98it/s]\n"
          ]
        },
        {
          "output_type": "stream",
          "name": "stdout",
          "text": [
            "\n",
            "Validation set: Average loss: 0.0007, Accuracy: 4444/5000 (88.88%)\n",
            "\n",
            "\n",
            "Test set: Average loss: 0.4247, Accuracy: 8718/10000 (87.18%)\n",
            "\n",
            "EPOCHS : 39\n"
          ]
        },
        {
          "output_type": "stream",
          "name": "stderr",
          "text": [
            "Batch_id=87 Batch Loss=0.17567230761051178 Running Loss=15.297408603131771 Running Accuracy=93.80: 100%|██████████| 88/88 [00:44<00:00,  1.99it/s]\n"
          ]
        },
        {
          "output_type": "stream",
          "name": "stdout",
          "text": [
            "\n",
            "Validation set: Average loss: 0.0009, Accuracy: 4308/5000 (86.16%)\n",
            "\n",
            "\n",
            "Test set: Average loss: 0.5110, Accuracy: 8569/10000 (85.69%)\n",
            "\n",
            "EPOCHS : 40\n"
          ]
        },
        {
          "output_type": "stream",
          "name": "stderr",
          "text": [
            "Batch_id=87 Batch Loss=0.17006400227546692 Running Loss=14.315079107880592 Running Accuracy=94.34: 100%|██████████| 88/88 [00:44<00:00,  1.97it/s]\n"
          ]
        },
        {
          "output_type": "stream",
          "name": "stdout",
          "text": [
            "\n",
            "Validation set: Average loss: 0.0009, Accuracy: 4361/5000 (87.22%)\n",
            "\n",
            "\n",
            "Test set: Average loss: 0.4991, Accuracy: 8559/10000 (85.59%)\n",
            "\n",
            "EPOCHS : 41\n"
          ]
        },
        {
          "output_type": "stream",
          "name": "stderr",
          "text": [
            "Batch_id=87 Batch Loss=0.1285538524389267 Running Loss=14.32049885392189 Running Accuracy=94.17: 100%|██████████| 88/88 [00:44<00:00,  1.98it/s]\n"
          ]
        },
        {
          "output_type": "stream",
          "name": "stdout",
          "text": [
            "\n",
            "Validation set: Average loss: 0.0011, Accuracy: 4218/5000 (84.36%)\n",
            "\n",
            "\n",
            "Test set: Average loss: 0.6091, Accuracy: 8363/10000 (83.63%)\n",
            "\n",
            "EPOCHS : 42\n"
          ]
        },
        {
          "output_type": "stream",
          "name": "stderr",
          "text": [
            "Batch_id=87 Batch Loss=0.17962415516376495 Running Loss=13.622296996414661 Running Accuracy=94.63: 100%|██████████| 88/88 [00:45<00:00,  1.92it/s]\n"
          ]
        },
        {
          "output_type": "stream",
          "name": "stdout",
          "text": [
            "\n",
            "Validation set: Average loss: 0.0009, Accuracy: 4370/5000 (87.40%)\n",
            "\n",
            "\n",
            "Test set: Average loss: 0.4755, Accuracy: 8652/10000 (86.52%)\n",
            "\n",
            "EPOCHS : 43\n"
          ]
        },
        {
          "output_type": "stream",
          "name": "stderr",
          "text": [
            "Batch_id=87 Batch Loss=0.15485621988773346 Running Loss=13.022463947534561 Running Accuracy=94.79: 100%|██████████| 88/88 [00:44<00:00,  1.98it/s]\n"
          ]
        },
        {
          "output_type": "stream",
          "name": "stdout",
          "text": [
            "\n",
            "Validation set: Average loss: 0.0008, Accuracy: 4405/5000 (88.10%)\n",
            "\n",
            "\n",
            "Test set: Average loss: 0.4344, Accuracy: 8723/10000 (87.23%)\n",
            "\n",
            "EPOCHS : 44\n"
          ]
        },
        {
          "output_type": "stream",
          "name": "stderr",
          "text": [
            "Batch_id=87 Batch Loss=0.17390041053295135 Running Loss=13.056647598743439 Running Accuracy=94.74: 100%|██████████| 88/88 [00:44<00:00,  1.97it/s]\n"
          ]
        },
        {
          "output_type": "stream",
          "name": "stdout",
          "text": [
            "\n",
            "Validation set: Average loss: 0.0008, Accuracy: 4412/5000 (88.24%)\n",
            "\n",
            "\n",
            "Test set: Average loss: 0.4326, Accuracy: 8748/10000 (87.48%)\n",
            "\n",
            "EPOCHS : 45\n"
          ]
        },
        {
          "output_type": "stream",
          "name": "stderr",
          "text": [
            "Batch_id=87 Batch Loss=0.18658587336540222 Running Loss=12.912600107491016 Running Accuracy=94.75: 100%|██████████| 88/88 [00:45<00:00,  1.93it/s]\n"
          ]
        },
        {
          "output_type": "stream",
          "name": "stdout",
          "text": [
            "\n",
            "Validation set: Average loss: 0.0008, Accuracy: 4432/5000 (88.64%)\n",
            "\n",
            "\n",
            "Test set: Average loss: 0.4487, Accuracy: 8728/10000 (87.28%)\n",
            "\n",
            "EPOCHS : 46\n"
          ]
        },
        {
          "output_type": "stream",
          "name": "stderr",
          "text": [
            "Batch_id=87 Batch Loss=0.16482703387737274 Running Loss=12.185560129582882 Running Accuracy=95.03: 100%|██████████| 88/88 [00:44<00:00,  1.97it/s]\n"
          ]
        },
        {
          "output_type": "stream",
          "name": "stdout",
          "text": [
            "\n",
            "Validation set: Average loss: 0.0009, Accuracy: 4378/5000 (87.56%)\n",
            "\n",
            "\n",
            "Test set: Average loss: 0.4807, Accuracy: 8665/10000 (86.65%)\n",
            "\n",
            "EPOCHS : 47\n"
          ]
        },
        {
          "output_type": "stream",
          "name": "stderr",
          "text": [
            "Batch_id=87 Batch Loss=0.13301314413547516 Running Loss=11.936986684799194 Running Accuracy=95.14: 100%|██████████| 88/88 [00:44<00:00,  1.99it/s]\n"
          ]
        },
        {
          "output_type": "stream",
          "name": "stdout",
          "text": [
            "\n",
            "Validation set: Average loss: 0.0009, Accuracy: 4338/5000 (86.76%)\n",
            "\n",
            "\n",
            "Test set: Average loss: 0.5217, Accuracy: 8602/10000 (86.02%)\n",
            "\n",
            "EPOCHS : 48\n"
          ]
        },
        {
          "output_type": "stream",
          "name": "stderr",
          "text": [
            "Batch_id=87 Batch Loss=0.12147975713014603 Running Loss=11.89654491096735 Running Accuracy=95.23: 100%|██████████| 88/88 [00:44<00:00,  2.00it/s]\n"
          ]
        },
        {
          "output_type": "stream",
          "name": "stdout",
          "text": [
            "\n",
            "Validation set: Average loss: 0.0011, Accuracy: 4279/5000 (85.58%)\n",
            "\n",
            "\n",
            "Test set: Average loss: 0.5897, Accuracy: 8422/10000 (84.22%)\n",
            "\n",
            "EPOCHS : 49\n"
          ]
        },
        {
          "output_type": "stream",
          "name": "stderr",
          "text": [
            "Batch_id=87 Batch Loss=0.1055050790309906 Running Loss=11.302980817854404 Running Accuracy=95.48: 100%|██████████| 88/88 [00:46<00:00,  1.90it/s]\n"
          ]
        },
        {
          "output_type": "stream",
          "name": "stdout",
          "text": [
            "\n",
            "Validation set: Average loss: 0.0009, Accuracy: 4397/5000 (87.94%)\n",
            "\n",
            "\n",
            "Test set: Average loss: 0.4881, Accuracy: 8627/10000 (86.27%)\n",
            "\n",
            "EPOCHS : 50\n"
          ]
        },
        {
          "output_type": "stream",
          "name": "stderr",
          "text": [
            "Batch_id=87 Batch Loss=0.1497359424829483 Running Loss=11.086706593632698 Running Accuracy=95.60: 100%|██████████| 88/88 [00:45<00:00,  1.95it/s]\n"
          ]
        },
        {
          "output_type": "stream",
          "name": "stdout",
          "text": [
            "\n",
            "Validation set: Average loss: 0.0011, Accuracy: 4290/5000 (85.80%)\n",
            "\n",
            "\n",
            "Test set: Average loss: 0.5790, Accuracy: 8489/10000 (84.89%)\n",
            "\n",
            "EPOCHS : 51\n"
          ]
        },
        {
          "output_type": "stream",
          "name": "stderr",
          "text": [
            "Batch_id=87 Batch Loss=0.10252860188484192 Running Loss=11.054316401481628 Running Accuracy=95.48: 100%|██████████| 88/88 [00:44<00:00,  1.96it/s]\n"
          ]
        },
        {
          "output_type": "stream",
          "name": "stdout",
          "text": [
            "\n",
            "Validation set: Average loss: 0.0011, Accuracy: 4304/5000 (86.08%)\n",
            "\n",
            "\n",
            "Test set: Average loss: 0.5899, Accuracy: 8473/10000 (84.73%)\n",
            "\n",
            "EPOCHS : 52\n"
          ]
        },
        {
          "output_type": "stream",
          "name": "stderr",
          "text": [
            "Batch_id=87 Batch Loss=0.09346731007099152 Running Loss=10.262692928314209 Running Accuracy=95.76: 100%|██████████| 88/88 [00:45<00:00,  1.92it/s]\n"
          ]
        },
        {
          "output_type": "stream",
          "name": "stdout",
          "text": [
            "\n",
            "Validation set: Average loss: 0.0009, Accuracy: 4417/5000 (88.34%)\n",
            "\n",
            "\n",
            "Test set: Average loss: 0.4905, Accuracy: 8694/10000 (86.94%)\n",
            "\n",
            "EPOCHS : 53\n"
          ]
        },
        {
          "output_type": "stream",
          "name": "stderr",
          "text": [
            "Batch_id=87 Batch Loss=0.12100031226873398 Running Loss=10.54791708290577 Running Accuracy=95.81: 100%|██████████| 88/88 [00:44<00:00,  1.96it/s]\n"
          ]
        },
        {
          "output_type": "stream",
          "name": "stdout",
          "text": [
            "\n",
            "Validation set: Average loss: 0.0008, Accuracy: 4394/5000 (87.88%)\n",
            "\n",
            "\n",
            "Test set: Average loss: 0.4692, Accuracy: 8735/10000 (87.35%)\n",
            "\n",
            "EPOCHS : 54\n"
          ]
        },
        {
          "output_type": "stream",
          "name": "stderr",
          "text": [
            "Batch_id=87 Batch Loss=0.08734691143035889 Running Loss=10.121537193655968 Running Accuracy=95.83: 100%|██████████| 88/88 [00:45<00:00,  1.94it/s]\n"
          ]
        },
        {
          "output_type": "stream",
          "name": "stdout",
          "text": [
            "\n",
            "Validation set: Average loss: 0.0009, Accuracy: 4341/5000 (86.82%)\n",
            "\n",
            "\n",
            "Test set: Average loss: 0.4978, Accuracy: 8645/10000 (86.45%)\n",
            "\n",
            "EPOCHS : 55\n"
          ]
        },
        {
          "output_type": "stream",
          "name": "stderr",
          "text": [
            "Batch_id=87 Batch Loss=0.09614967554807663 Running Loss=9.41738822311163 Running Accuracy=96.27: 100%|██████████| 88/88 [00:44<00:00,  1.97it/s]\n"
          ]
        },
        {
          "output_type": "stream",
          "name": "stdout",
          "text": [
            "\n",
            "Validation set: Average loss: 0.0008, Accuracy: 4447/5000 (88.94%)\n",
            "\n",
            "\n",
            "Test set: Average loss: 0.4706, Accuracy: 8766/10000 (87.66%)\n",
            "\n",
            "EPOCHS : 56\n"
          ]
        },
        {
          "output_type": "stream",
          "name": "stderr",
          "text": [
            "Batch_id=87 Batch Loss=0.08611800521612167 Running Loss=8.616334564983845 Running Accuracy=96.60: 100%|██████████| 88/88 [00:44<00:00,  1.96it/s]\n"
          ]
        },
        {
          "output_type": "stream",
          "name": "stdout",
          "text": [
            "\n",
            "Validation set: Average loss: 0.0009, Accuracy: 4415/5000 (88.30%)\n",
            "\n",
            "\n",
            "Test set: Average loss: 0.4984, Accuracy: 8702/10000 (87.02%)\n",
            "\n",
            "EPOCHS : 57\n"
          ]
        },
        {
          "output_type": "stream",
          "name": "stderr",
          "text": [
            "Batch_id=87 Batch Loss=0.11634145677089691 Running Loss=8.982176579535007 Running Accuracy=96.48: 100%|██████████| 88/88 [00:44<00:00,  1.97it/s]\n"
          ]
        },
        {
          "output_type": "stream",
          "name": "stdout",
          "text": [
            "\n",
            "Validation set: Average loss: 0.0009, Accuracy: 4389/5000 (87.78%)\n",
            "\n",
            "\n",
            "Test set: Average loss: 0.4961, Accuracy: 8646/10000 (86.46%)\n",
            "\n",
            "EPOCHS : 58\n"
          ]
        },
        {
          "output_type": "stream",
          "name": "stderr",
          "text": [
            "Batch_id=87 Batch Loss=0.08574965596199036 Running Loss=8.62243838608265 Running Accuracy=96.53: 100%|██████████| 88/88 [00:45<00:00,  1.94it/s]\n"
          ]
        },
        {
          "output_type": "stream",
          "name": "stdout",
          "text": [
            "\n",
            "Validation set: Average loss: 0.0008, Accuracy: 4453/5000 (89.06%)\n",
            "\n",
            "\n",
            "Test set: Average loss: 0.4582, Accuracy: 8800/10000 (88.00%)\n",
            "\n",
            "EPOCHS : 59\n"
          ]
        },
        {
          "output_type": "stream",
          "name": "stderr",
          "text": [
            "Batch_id=87 Batch Loss=0.1170661598443985 Running Loss=8.455412670969963 Running Accuracy=96.55: 100%|██████████| 88/88 [00:44<00:00,  1.96it/s]\n"
          ]
        },
        {
          "output_type": "stream",
          "name": "stdout",
          "text": [
            "\n",
            "Validation set: Average loss: 0.0010, Accuracy: 4370/5000 (87.40%)\n",
            "\n",
            "\n",
            "Test set: Average loss: 0.5421, Accuracy: 8611/10000 (86.11%)\n",
            "\n",
            "EPOCHS : 60\n"
          ]
        },
        {
          "output_type": "stream",
          "name": "stderr",
          "text": [
            "Batch_id=87 Batch Loss=0.08566022664308548 Running Loss=8.364674985408783 Running Accuracy=96.69: 100%|██████████| 88/88 [00:46<00:00,  1.90it/s]\n"
          ]
        },
        {
          "output_type": "stream",
          "name": "stdout",
          "text": [
            "\n",
            "Validation set: Average loss: 0.0009, Accuracy: 4368/5000 (87.36%)\n",
            "\n",
            "\n",
            "Test set: Average loss: 0.5309, Accuracy: 8650/10000 (86.50%)\n",
            "\n",
            "EPOCHS : 61\n"
          ]
        },
        {
          "output_type": "stream",
          "name": "stderr",
          "text": [
            "Batch_id=87 Batch Loss=0.15730011463165283 Running Loss=8.148044604808092 Running Accuracy=96.79: 100%|██████████| 88/88 [00:44<00:00,  2.00it/s]\n"
          ]
        },
        {
          "output_type": "stream",
          "name": "stdout",
          "text": [
            "\n",
            "Validation set: Average loss: 0.0009, Accuracy: 4411/5000 (88.22%)\n",
            "\n",
            "\n",
            "Test set: Average loss: 0.5342, Accuracy: 8682/10000 (86.82%)\n",
            "\n",
            "EPOCHS : 62\n"
          ]
        },
        {
          "output_type": "stream",
          "name": "stderr",
          "text": [
            "Batch_id=87 Batch Loss=0.0806630402803421 Running Loss=8.17750521749258 Running Accuracy=96.74: 100%|██████████| 88/88 [00:44<00:00,  1.99it/s]\n"
          ]
        },
        {
          "output_type": "stream",
          "name": "stdout",
          "text": [
            "\n",
            "Validation set: Average loss: 0.0008, Accuracy: 4441/5000 (88.82%)\n",
            "\n",
            "\n",
            "Test set: Average loss: 0.4654, Accuracy: 8758/10000 (87.58%)\n",
            "\n",
            "EPOCHS : 63\n"
          ]
        },
        {
          "output_type": "stream",
          "name": "stderr",
          "text": [
            "Batch_id=87 Batch Loss=0.11186522245407104 Running Loss=7.947704203426838 Running Accuracy=96.77: 100%|██████████| 88/88 [00:44<00:00,  1.97it/s]\n"
          ]
        },
        {
          "output_type": "stream",
          "name": "stdout",
          "text": [
            "\n",
            "Validation set: Average loss: 0.0009, Accuracy: 4425/5000 (88.50%)\n",
            "\n",
            "\n",
            "Test set: Average loss: 0.4919, Accuracy: 8759/10000 (87.59%)\n",
            "\n",
            "EPOCHS : 64\n"
          ]
        },
        {
          "output_type": "stream",
          "name": "stderr",
          "text": [
            "Batch_id=87 Batch Loss=0.07143102586269379 Running Loss=7.600564617663622 Running Accuracy=96.98: 100%|██████████| 88/88 [00:43<00:00,  2.01it/s]\n"
          ]
        },
        {
          "output_type": "stream",
          "name": "stdout",
          "text": [
            "\n",
            "Validation set: Average loss: 0.0008, Accuracy: 4442/5000 (88.84%)\n",
            "\n",
            "\n",
            "Test set: Average loss: 0.4827, Accuracy: 8763/10000 (87.63%)\n",
            "\n",
            "EPOCHS : 65\n"
          ]
        },
        {
          "output_type": "stream",
          "name": "stderr",
          "text": [
            "Batch_id=87 Batch Loss=0.08489195257425308 Running Loss=7.667497336864471 Running Accuracy=97.01: 100%|██████████| 88/88 [00:43<00:00,  2.02it/s]\n"
          ]
        },
        {
          "output_type": "stream",
          "name": "stdout",
          "text": [
            "\n",
            "Validation set: Average loss: 0.0009, Accuracy: 4419/5000 (88.38%)\n",
            "\n",
            "\n",
            "Test set: Average loss: 0.4936, Accuracy: 8716/10000 (87.16%)\n",
            "\n",
            "EPOCHS : 66\n"
          ]
        },
        {
          "output_type": "stream",
          "name": "stderr",
          "text": [
            "Batch_id=87 Batch Loss=0.1047423705458641 Running Loss=7.905076798051596 Running Accuracy=96.89: 100%|██████████| 88/88 [00:43<00:00,  2.02it/s]\n"
          ]
        },
        {
          "output_type": "stream",
          "name": "stdout",
          "text": [
            "\n",
            "Validation set: Average loss: 0.0011, Accuracy: 4288/5000 (85.76%)\n",
            "\n",
            "\n",
            "Test set: Average loss: 0.5836, Accuracy: 8542/10000 (85.42%)\n",
            "\n",
            "EPOCHS : 67\n"
          ]
        },
        {
          "output_type": "stream",
          "name": "stderr",
          "text": [
            "Batch_id=87 Batch Loss=0.08865166455507278 Running Loss=7.1351727694272995 Running Accuracy=97.20: 100%|██████████| 88/88 [00:44<00:00,  1.98it/s]\n"
          ]
        },
        {
          "output_type": "stream",
          "name": "stdout",
          "text": [
            "\n",
            "Validation set: Average loss: 0.0008, Accuracy: 4476/5000 (89.52%)\n",
            "\n",
            "\n",
            "Test set: Average loss: 0.4595, Accuracy: 8789/10000 (87.89%)\n",
            "\n",
            "EPOCHS : 68\n"
          ]
        },
        {
          "output_type": "stream",
          "name": "stderr",
          "text": [
            "Batch_id=87 Batch Loss=0.06459210813045502 Running Loss=6.625645708292723 Running Accuracy=97.39: 100%|██████████| 88/88 [00:44<00:00,  1.98it/s]\n"
          ]
        },
        {
          "output_type": "stream",
          "name": "stdout",
          "text": [
            "\n",
            "Validation set: Average loss: 0.0010, Accuracy: 4397/5000 (87.94%)\n",
            "\n",
            "\n",
            "Test set: Average loss: 0.5530, Accuracy: 8683/10000 (86.83%)\n",
            "\n",
            "EPOCHS : 69\n"
          ]
        },
        {
          "output_type": "stream",
          "name": "stderr",
          "text": [
            "Batch_id=87 Batch Loss=0.07399657368659973 Running Loss=6.784013252705336 Running Accuracy=97.21: 100%|██████████| 88/88 [00:44<00:00,  1.98it/s]\n"
          ]
        },
        {
          "output_type": "stream",
          "name": "stdout",
          "text": [
            "\n",
            "Validation set: Average loss: 0.0009, Accuracy: 4389/5000 (87.78%)\n",
            "\n",
            "\n",
            "Test set: Average loss: 0.5268, Accuracy: 8709/10000 (87.09%)\n",
            "\n",
            "EPOCHS : 70\n"
          ]
        },
        {
          "output_type": "stream",
          "name": "stderr",
          "text": [
            "Batch_id=87 Batch Loss=0.07134187966585159 Running Loss=6.560276009142399 Running Accuracy=97.40: 100%|██████████| 88/88 [00:45<00:00,  1.92it/s]\n"
          ]
        },
        {
          "output_type": "stream",
          "name": "stdout",
          "text": [
            "\n",
            "Validation set: Average loss: 0.0008, Accuracy: 4501/5000 (90.02%)\n",
            "\n",
            "\n",
            "Test set: Average loss: 0.4708, Accuracy: 8820/10000 (88.20%)\n",
            "\n",
            "EPOCHS : 71\n"
          ]
        },
        {
          "output_type": "stream",
          "name": "stderr",
          "text": [
            "Batch_id=87 Batch Loss=0.08027122914791107 Running Loss=6.705123286694288 Running Accuracy=97.35: 100%|██████████| 88/88 [00:44<00:00,  1.96it/s]\n"
          ]
        },
        {
          "output_type": "stream",
          "name": "stdout",
          "text": [
            "\n",
            "Validation set: Average loss: 0.0009, Accuracy: 4437/5000 (88.74%)\n",
            "\n",
            "\n",
            "Test set: Average loss: 0.5056, Accuracy: 8765/10000 (87.65%)\n",
            "\n",
            "EPOCHS : 72\n"
          ]
        },
        {
          "output_type": "stream",
          "name": "stderr",
          "text": [
            "Batch_id=87 Batch Loss=0.08249791711568832 Running Loss=6.234429936856031 Running Accuracy=97.58: 100%|██████████| 88/88 [00:44<00:00,  1.97it/s]\n"
          ]
        },
        {
          "output_type": "stream",
          "name": "stdout",
          "text": [
            "\n",
            "Validation set: Average loss: 0.0009, Accuracy: 4423/5000 (88.46%)\n",
            "\n",
            "\n",
            "Test set: Average loss: 0.5247, Accuracy: 8710/10000 (87.10%)\n",
            "\n",
            "EPOCHS : 73\n"
          ]
        },
        {
          "output_type": "stream",
          "name": "stderr",
          "text": [
            "Batch_id=87 Batch Loss=0.05645202472805977 Running Loss=6.529179956763983 Running Accuracy=97.35: 100%|██████████| 88/88 [00:45<00:00,  1.95it/s]\n"
          ]
        },
        {
          "output_type": "stream",
          "name": "stdout",
          "text": [
            "\n",
            "Validation set: Average loss: 0.0009, Accuracy: 4438/5000 (88.76%)\n",
            "\n",
            "\n",
            "Test set: Average loss: 0.5099, Accuracy: 8737/10000 (87.37%)\n",
            "\n",
            "EPOCHS : 74\n"
          ]
        },
        {
          "output_type": "stream",
          "name": "stderr",
          "text": [
            "Batch_id=87 Batch Loss=0.07711256295442581 Running Loss=5.890403378754854 Running Accuracy=97.66: 100%|██████████| 88/88 [00:46<00:00,  1.91it/s]\n"
          ]
        },
        {
          "output_type": "stream",
          "name": "stdout",
          "text": [
            "\n",
            "Validation set: Average loss: 0.0009, Accuracy: 4429/5000 (88.58%)\n",
            "\n",
            "\n",
            "Test set: Average loss: 0.5303, Accuracy: 8727/10000 (87.27%)\n",
            "\n",
            "EPOCHS : 75\n"
          ]
        },
        {
          "output_type": "stream",
          "name": "stderr",
          "text": [
            "Batch_id=87 Batch Loss=0.06986203789710999 Running Loss=5.889244951307774 Running Accuracy=97.65: 100%|██████████| 88/88 [00:44<00:00,  1.96it/s]\n"
          ]
        },
        {
          "output_type": "stream",
          "name": "stdout",
          "text": [
            "\n",
            "Validation set: Average loss: 0.0009, Accuracy: 4425/5000 (88.50%)\n",
            "\n",
            "\n",
            "Test set: Average loss: 0.4890, Accuracy: 8780/10000 (87.80%)\n",
            "\n",
            "EPOCHS : 76\n"
          ]
        },
        {
          "output_type": "stream",
          "name": "stderr",
          "text": [
            "Batch_id=87 Batch Loss=0.07073282450437546 Running Loss=5.713030315935612 Running Accuracy=97.74: 100%|██████████| 88/88 [00:44<00:00,  1.97it/s]\n"
          ]
        },
        {
          "output_type": "stream",
          "name": "stdout",
          "text": [
            "\n",
            "Validation set: Average loss: 0.0010, Accuracy: 4416/5000 (88.32%)\n",
            "\n",
            "\n",
            "Test set: Average loss: 0.5599, Accuracy: 8706/10000 (87.06%)\n",
            "\n",
            "EPOCHS : 77\n"
          ]
        },
        {
          "output_type": "stream",
          "name": "stderr",
          "text": [
            "Batch_id=87 Batch Loss=0.06528966128826141 Running Loss=5.867250625044107 Running Accuracy=97.64: 100%|██████████| 88/88 [00:43<00:00,  2.02it/s]\n"
          ]
        },
        {
          "output_type": "stream",
          "name": "stdout",
          "text": [
            "\n",
            "Validation set: Average loss: 0.0008, Accuracy: 4483/5000 (89.66%)\n",
            "\n",
            "\n",
            "Test set: Average loss: 0.4870, Accuracy: 8853/10000 (88.53%)\n",
            "\n",
            "EPOCHS : 78\n"
          ]
        },
        {
          "output_type": "stream",
          "name": "stderr",
          "text": [
            "Batch_id=87 Batch Loss=0.08202335238456726 Running Loss=5.808167431503534 Running Accuracy=97.74: 100%|██████████| 88/88 [00:44<00:00,  1.99it/s]\n"
          ]
        },
        {
          "output_type": "stream",
          "name": "stdout",
          "text": [
            "\n",
            "Validation set: Average loss: 0.0008, Accuracy: 4482/5000 (89.64%)\n",
            "\n",
            "\n",
            "Test set: Average loss: 0.4772, Accuracy: 8831/10000 (88.31%)\n",
            "\n",
            "EPOCHS : 79\n"
          ]
        },
        {
          "output_type": "stream",
          "name": "stderr",
          "text": [
            "Batch_id=87 Batch Loss=0.0825200155377388 Running Loss=5.652682032436132 Running Accuracy=97.72: 100%|██████████| 88/88 [00:43<00:00,  2.03it/s]\n"
          ]
        },
        {
          "output_type": "stream",
          "name": "stdout",
          "text": [
            "\n",
            "Validation set: Average loss: 0.0009, Accuracy: 4456/5000 (89.12%)\n",
            "\n",
            "\n",
            "Test set: Average loss: 0.4786, Accuracy: 8820/10000 (88.20%)\n",
            "\n",
            "EPOCHS : 80\n"
          ]
        },
        {
          "output_type": "stream",
          "name": "stderr",
          "text": [
            "Batch_id=87 Batch Loss=0.0919019877910614 Running Loss=5.308032460510731 Running Accuracy=97.96: 100%|██████████| 88/88 [00:42<00:00,  2.06it/s]\n"
          ]
        },
        {
          "output_type": "stream",
          "name": "stdout",
          "text": [
            "\n",
            "Validation set: Average loss: 0.0010, Accuracy: 4415/5000 (88.30%)\n",
            "\n",
            "\n",
            "Test set: Average loss: 0.5164, Accuracy: 8733/10000 (87.33%)\n",
            "\n",
            "EPOCHS : 81\n"
          ]
        },
        {
          "output_type": "stream",
          "name": "stderr",
          "text": [
            "Batch_id=87 Batch Loss=0.02769191935658455 Running Loss=5.2028593942523 Running Accuracy=97.97: 100%|██████████| 88/88 [00:45<00:00,  1.94it/s]\n"
          ]
        },
        {
          "output_type": "stream",
          "name": "stdout",
          "text": [
            "\n",
            "Validation set: Average loss: 0.0009, Accuracy: 4426/5000 (88.52%)\n",
            "\n",
            "\n",
            "Test set: Average loss: 0.5220, Accuracy: 8752/10000 (87.52%)\n",
            "\n",
            "EPOCHS : 82\n"
          ]
        },
        {
          "output_type": "stream",
          "name": "stderr",
          "text": [
            "Batch_id=87 Batch Loss=0.060446057468652725 Running Loss=5.447277411818504 Running Accuracy=97.90: 100%|██████████| 88/88 [00:44<00:00,  1.97it/s]\n"
          ]
        },
        {
          "output_type": "stream",
          "name": "stdout",
          "text": [
            "\n",
            "Validation set: Average loss: 0.0008, Accuracy: 4483/5000 (89.66%)\n",
            "\n",
            "\n",
            "Test set: Average loss: 0.4995, Accuracy: 8814/10000 (88.14%)\n",
            "\n",
            "EPOCHS : 83\n"
          ]
        },
        {
          "output_type": "stream",
          "name": "stderr",
          "text": [
            "Batch_id=87 Batch Loss=0.06223557889461517 Running Loss=5.021903499960899 Running Accuracy=98.04: 100%|██████████| 88/88 [00:43<00:00,  2.02it/s]\n"
          ]
        },
        {
          "output_type": "stream",
          "name": "stdout",
          "text": [
            "\n",
            "Validation set: Average loss: 0.0009, Accuracy: 4445/5000 (88.90%)\n",
            "\n",
            "\n",
            "Test set: Average loss: 0.5439, Accuracy: 8748/10000 (87.48%)\n",
            "\n",
            "EPOCHS : 84\n"
          ]
        },
        {
          "output_type": "stream",
          "name": "stderr",
          "text": [
            "Batch_id=87 Batch Loss=0.061963148415088654 Running Loss=5.121657177805901 Running Accuracy=98.00: 100%|██████████| 88/88 [00:43<00:00,  2.04it/s]\n"
          ]
        },
        {
          "output_type": "stream",
          "name": "stdout",
          "text": [
            "\n",
            "Validation set: Average loss: 0.0009, Accuracy: 4444/5000 (88.88%)\n",
            "\n",
            "\n",
            "Test set: Average loss: 0.5275, Accuracy: 8769/10000 (87.69%)\n",
            "\n",
            "EPOCHS : 85\n"
          ]
        },
        {
          "output_type": "stream",
          "name": "stderr",
          "text": [
            "Batch_id=87 Batch Loss=0.05258775129914284 Running Loss=4.791909251362085 Running Accuracy=98.12: 100%|██████████| 88/88 [00:44<00:00,  1.99it/s]\n"
          ]
        },
        {
          "output_type": "stream",
          "name": "stdout",
          "text": [
            "\n",
            "Validation set: Average loss: 0.0008, Accuracy: 4499/5000 (89.98%)\n",
            "\n",
            "\n",
            "Test set: Average loss: 0.4606, Accuracy: 8862/10000 (88.62%)\n",
            "\n",
            "EPOCHS : 86\n"
          ]
        },
        {
          "output_type": "stream",
          "name": "stderr",
          "text": [
            "Batch_id=87 Batch Loss=0.07173348218202591 Running Loss=4.911355225369334 Running Accuracy=98.01: 100%|██████████| 88/88 [00:44<00:00,  2.00it/s]\n"
          ]
        },
        {
          "output_type": "stream",
          "name": "stdout",
          "text": [
            "\n",
            "Validation set: Average loss: 0.0010, Accuracy: 4433/5000 (88.66%)\n",
            "\n",
            "\n",
            "Test set: Average loss: 0.5469, Accuracy: 8763/10000 (87.63%)\n",
            "\n",
            "EPOCHS : 87\n"
          ]
        },
        {
          "output_type": "stream",
          "name": "stderr",
          "text": [
            "Batch_id=87 Batch Loss=0.056025099009275436 Running Loss=4.735644435510039 Running Accuracy=98.12: 100%|██████████| 88/88 [00:45<00:00,  1.94it/s]\n"
          ]
        },
        {
          "output_type": "stream",
          "name": "stdout",
          "text": [
            "\n",
            "Validation set: Average loss: 0.0008, Accuracy: 4480/5000 (89.60%)\n",
            "\n",
            "\n",
            "Test set: Average loss: 0.4809, Accuracy: 8842/10000 (88.42%)\n",
            "\n",
            "EPOCHS : 88\n"
          ]
        },
        {
          "output_type": "stream",
          "name": "stderr",
          "text": [
            "Batch_id=87 Batch Loss=0.07339676469564438 Running Loss=4.894755087792873 Running Accuracy=97.95: 100%|██████████| 88/88 [00:43<00:00,  2.04it/s]\n"
          ]
        },
        {
          "output_type": "stream",
          "name": "stdout",
          "text": [
            "\n",
            "Validation set: Average loss: 0.0009, Accuracy: 4483/5000 (89.66%)\n",
            "\n",
            "\n",
            "Test set: Average loss: 0.5092, Accuracy: 8838/10000 (88.38%)\n",
            "\n",
            "EPOCHS : 89\n"
          ]
        },
        {
          "output_type": "stream",
          "name": "stderr",
          "text": [
            "Batch_id=87 Batch Loss=0.05805028975009918 Running Loss=4.802237890660763 Running Accuracy=98.08: 100%|██████████| 88/88 [00:45<00:00,  1.92it/s]\n"
          ]
        },
        {
          "output_type": "stream",
          "name": "stdout",
          "text": [
            "\n",
            "Validation set: Average loss: 0.0010, Accuracy: 4434/5000 (88.68%)\n",
            "\n",
            "\n",
            "Test set: Average loss: 0.5383, Accuracy: 8725/10000 (87.25%)\n",
            "\n",
            "EPOCHS : 90\n"
          ]
        },
        {
          "output_type": "stream",
          "name": "stderr",
          "text": [
            "Batch_id=87 Batch Loss=0.05072690173983574 Running Loss=4.472138682380319 Running Accuracy=98.25: 100%|██████████| 88/88 [00:43<00:00,  2.01it/s]\n"
          ]
        },
        {
          "output_type": "stream",
          "name": "stdout",
          "text": [
            "\n",
            "Validation set: Average loss: 0.0009, Accuracy: 4468/5000 (89.36%)\n",
            "\n",
            "\n",
            "Test set: Average loss: 0.4843, Accuracy: 8840/10000 (88.40%)\n",
            "\n",
            "EPOCHS : 91\n"
          ]
        },
        {
          "output_type": "stream",
          "name": "stderr",
          "text": [
            "Batch_id=87 Batch Loss=0.06512333452701569 Running Loss=4.533462373539805 Running Accuracy=98.24: 100%|██████████| 88/88 [00:43<00:00,  2.03it/s]\n"
          ]
        },
        {
          "output_type": "stream",
          "name": "stdout",
          "text": [
            "\n",
            "Validation set: Average loss: 0.0008, Accuracy: 4523/5000 (90.46%)\n",
            "\n",
            "\n",
            "Test set: Average loss: 0.4671, Accuracy: 8861/10000 (88.61%)\n",
            "\n",
            "EPOCHS : 92\n"
          ]
        },
        {
          "output_type": "stream",
          "name": "stderr",
          "text": [
            "Batch_id=87 Batch Loss=0.051024049520492554 Running Loss=4.664260542020202 Running Accuracy=98.16: 100%|██████████| 88/88 [00:45<00:00,  1.94it/s]\n"
          ]
        },
        {
          "output_type": "stream",
          "name": "stdout",
          "text": [
            "\n",
            "Validation set: Average loss: 0.0008, Accuracy: 4498/5000 (89.96%)\n",
            "\n",
            "\n",
            "Test set: Average loss: 0.4825, Accuracy: 8856/10000 (88.56%)\n",
            "\n",
            "EPOCHS : 93\n"
          ]
        },
        {
          "output_type": "stream",
          "name": "stderr",
          "text": [
            "Batch_id=87 Batch Loss=0.06431563943624496 Running Loss=4.790986981242895 Running Accuracy=98.15: 100%|██████████| 88/88 [00:45<00:00,  1.93it/s]\n"
          ]
        },
        {
          "output_type": "stream",
          "name": "stdout",
          "text": [
            "\n",
            "Validation set: Average loss: 0.0009, Accuracy: 4466/5000 (89.32%)\n",
            "\n",
            "Epoch 00094: reducing learning rate of group 0 to 1.0000e-03.\n",
            "\n",
            "Test set: Average loss: 0.5110, Accuracy: 8783/10000 (87.83%)\n",
            "\n",
            "EPOCHS : 94\n"
          ]
        },
        {
          "output_type": "stream",
          "name": "stderr",
          "text": [
            "Batch_id=87 Batch Loss=0.028965475037693977 Running Loss=3.1954235145822167 Running Accuracy=98.77: 100%|██████████| 88/88 [00:45<00:00,  1.95it/s]\n"
          ]
        },
        {
          "output_type": "stream",
          "name": "stdout",
          "text": [
            "\n",
            "Validation set: Average loss: 0.0007, Accuracy: 4553/5000 (91.06%)\n",
            "\n",
            "\n",
            "Test set: Average loss: 0.4173, Accuracy: 8964/10000 (89.64%)\n",
            "\n",
            "EPOCHS : 95\n"
          ]
        },
        {
          "output_type": "stream",
          "name": "stderr",
          "text": [
            "Batch_id=87 Batch Loss=0.018583565950393677 Running Loss=2.213301360607147 Running Accuracy=99.23: 100%|██████████| 88/88 [00:44<00:00,  1.96it/s]\n"
          ]
        },
        {
          "output_type": "stream",
          "name": "stdout",
          "text": [
            "\n",
            "Validation set: Average loss: 0.0007, Accuracy: 4557/5000 (91.14%)\n",
            "\n",
            "\n",
            "Test set: Average loss: 0.4135, Accuracy: 8968/10000 (89.68%)\n",
            "\n",
            "EPOCHS : 96\n"
          ]
        },
        {
          "output_type": "stream",
          "name": "stderr",
          "text": [
            "Batch_id=87 Batch Loss=0.028803229331970215 Running Loss=2.1645198855549097 Running Accuracy=99.22: 100%|██████████| 88/88 [00:45<00:00,  1.92it/s]\n"
          ]
        },
        {
          "output_type": "stream",
          "name": "stdout",
          "text": [
            "\n",
            "Validation set: Average loss: 0.0007, Accuracy: 4575/5000 (91.50%)\n",
            "\n",
            "\n",
            "Test set: Average loss: 0.4045, Accuracy: 9000/10000 (90.00%)\n",
            "\n",
            "EPOCHS : 97\n"
          ]
        },
        {
          "output_type": "stream",
          "name": "stderr",
          "text": [
            "Batch_id=87 Batch Loss=0.019564444199204445 Running Loss=1.979174475185573 Running Accuracy=99.29: 100%|██████████| 88/88 [00:42<00:00,  2.06it/s]\n"
          ]
        },
        {
          "output_type": "stream",
          "name": "stdout",
          "text": [
            "\n",
            "Validation set: Average loss: 0.0007, Accuracy: 4573/5000 (91.46%)\n",
            "\n",
            "\n",
            "Test set: Average loss: 0.4043, Accuracy: 8993/10000 (89.93%)\n",
            "\n",
            "EPOCHS : 98\n"
          ]
        },
        {
          "output_type": "stream",
          "name": "stderr",
          "text": [
            "Batch_id=87 Batch Loss=0.015665290877223015 Running Loss=1.752573762089014 Running Accuracy=99.38: 100%|██████████| 88/88 [00:44<00:00,  1.98it/s]\n"
          ]
        },
        {
          "output_type": "stream",
          "name": "stdout",
          "text": [
            "\n",
            "Validation set: Average loss: 0.0007, Accuracy: 4575/5000 (91.50%)\n",
            "\n",
            "\n",
            "Test set: Average loss: 0.4054, Accuracy: 9001/10000 (90.01%)\n",
            "\n",
            "EPOCHS : 99\n"
          ]
        },
        {
          "output_type": "stream",
          "name": "stderr",
          "text": [
            "Batch_id=87 Batch Loss=0.017650771886110306 Running Loss=1.6281226305291057 Running Accuracy=99.44: 100%|██████████| 88/88 [00:44<00:00,  1.97it/s]\n"
          ]
        },
        {
          "output_type": "stream",
          "name": "stdout",
          "text": [
            "\n",
            "Validation set: Average loss: 0.0007, Accuracy: 4588/5000 (91.76%)\n",
            "\n",
            "\n",
            "Test set: Average loss: 0.4079, Accuracy: 8999/10000 (89.99%)\n",
            "\n",
            "EPOCHS : 100\n"
          ]
        },
        {
          "output_type": "stream",
          "name": "stderr",
          "text": [
            "Batch_id=87 Batch Loss=0.02586347423493862 Running Loss=1.6464018542319536 Running Accuracy=99.44: 100%|██████████| 88/88 [00:44<00:00,  1.96it/s]\n"
          ]
        },
        {
          "output_type": "stream",
          "name": "stdout",
          "text": [
            "\n",
            "Validation set: Average loss: 0.0007, Accuracy: 4576/5000 (91.52%)\n",
            "\n",
            "\n",
            "Test set: Average loss: 0.4048, Accuracy: 8995/10000 (89.95%)\n",
            "\n",
            "EPOCHS : 101\n"
          ]
        },
        {
          "output_type": "stream",
          "name": "stderr",
          "text": [
            "Batch_id=87 Batch Loss=0.016839774325489998 Running Loss=1.5181043706834316 Running Accuracy=99.47: 100%|██████████| 88/88 [00:44<00:00,  1.99it/s]\n"
          ]
        },
        {
          "output_type": "stream",
          "name": "stdout",
          "text": [
            "\n",
            "Validation set: Average loss: 0.0007, Accuracy: 4572/5000 (91.44%)\n",
            "\n",
            "\n",
            "Test set: Average loss: 0.4000, Accuracy: 9014/10000 (90.14%)\n",
            "\n",
            "EPOCHS : 102\n"
          ]
        },
        {
          "output_type": "stream",
          "name": "stderr",
          "text": [
            "Batch_id=87 Batch Loss=0.017781974747776985 Running Loss=1.4111607819795609 Running Accuracy=99.51: 100%|██████████| 88/88 [00:44<00:00,  1.97it/s]\n"
          ]
        },
        {
          "output_type": "stream",
          "name": "stdout",
          "text": [
            "\n",
            "Validation set: Average loss: 0.0007, Accuracy: 4580/5000 (91.60%)\n",
            "\n",
            "\n",
            "Test set: Average loss: 0.4011, Accuracy: 9012/10000 (90.12%)\n",
            "\n",
            "EPOCHS : 103\n"
          ]
        },
        {
          "output_type": "stream",
          "name": "stderr",
          "text": [
            "Batch_id=87 Batch Loss=0.019495859742164612 Running Loss=1.4520291169174016 Running Accuracy=99.52: 100%|██████████| 88/88 [00:44<00:00,  1.99it/s]\n"
          ]
        },
        {
          "output_type": "stream",
          "name": "stdout",
          "text": [
            "\n",
            "Validation set: Average loss: 0.0007, Accuracy: 4585/5000 (91.70%)\n",
            "\n",
            "\n",
            "Test set: Average loss: 0.4058, Accuracy: 9004/10000 (90.04%)\n",
            "\n",
            "EPOCHS : 104\n"
          ]
        },
        {
          "output_type": "stream",
          "name": "stderr",
          "text": [
            "Batch_id=87 Batch Loss=0.02817896567285061 Running Loss=1.3371639675460756 Running Accuracy=99.59: 100%|██████████| 88/88 [00:46<00:00,  1.91it/s]\n"
          ]
        },
        {
          "output_type": "stream",
          "name": "stdout",
          "text": [
            "\n",
            "Validation set: Average loss: 0.0007, Accuracy: 4596/5000 (91.92%)\n",
            "\n",
            "\n",
            "Test set: Average loss: 0.4014, Accuracy: 9025/10000 (90.25%)\n",
            "\n",
            "EPOCHS : 105\n"
          ]
        },
        {
          "output_type": "stream",
          "name": "stderr",
          "text": [
            "Batch_id=87 Batch Loss=0.012045527808368206 Running Loss=1.4104245607741177 Running Accuracy=99.54: 100%|██████████| 88/88 [00:44<00:00,  1.98it/s]\n"
          ]
        },
        {
          "output_type": "stream",
          "name": "stdout",
          "text": [
            "\n",
            "Validation set: Average loss: 0.0007, Accuracy: 4593/5000 (91.86%)\n",
            "\n",
            "\n",
            "Test set: Average loss: 0.4048, Accuracy: 9007/10000 (90.07%)\n",
            "\n",
            "EPOCHS : 106\n"
          ]
        },
        {
          "output_type": "stream",
          "name": "stderr",
          "text": [
            "Batch_id=87 Batch Loss=0.019826721400022507 Running Loss=1.3377557755447924 Running Accuracy=99.57: 100%|██████████| 88/88 [00:44<00:00,  1.96it/s]\n"
          ]
        },
        {
          "output_type": "stream",
          "name": "stdout",
          "text": [
            "\n",
            "Validation set: Average loss: 0.0007, Accuracy: 4582/5000 (91.64%)\n",
            "\n",
            "\n",
            "Test set: Average loss: 0.4066, Accuracy: 8997/10000 (89.97%)\n",
            "\n",
            "EPOCHS : 107\n"
          ]
        },
        {
          "output_type": "stream",
          "name": "stderr",
          "text": [
            "Batch_id=87 Batch Loss=0.014973643235862255 Running Loss=1.3334679948166013 Running Accuracy=99.54: 100%|██████████| 88/88 [00:45<00:00,  1.93it/s]\n"
          ]
        },
        {
          "output_type": "stream",
          "name": "stdout",
          "text": [
            "\n",
            "Validation set: Average loss: 0.0007, Accuracy: 4582/5000 (91.64%)\n",
            "\n",
            "\n",
            "Test set: Average loss: 0.4055, Accuracy: 8995/10000 (89.95%)\n",
            "\n",
            "EPOCHS : 108\n"
          ]
        },
        {
          "output_type": "stream",
          "name": "stderr",
          "text": [
            "Batch_id=87 Batch Loss=0.01191947516053915 Running Loss=1.2204613243229687 Running Accuracy=99.59: 100%|██████████| 88/88 [00:46<00:00,  1.91it/s]\n"
          ]
        },
        {
          "output_type": "stream",
          "name": "stdout",
          "text": [
            "\n",
            "Validation set: Average loss: 0.0007, Accuracy: 4584/5000 (91.68%)\n",
            "\n",
            "\n",
            "Test set: Average loss: 0.4078, Accuracy: 9002/10000 (90.02%)\n",
            "\n",
            "EPOCHS : 109\n"
          ]
        },
        {
          "output_type": "stream",
          "name": "stderr",
          "text": [
            "Batch_id=87 Batch Loss=0.019794177263975143 Running Loss=1.3106485377065837 Running Accuracy=99.54: 100%|██████████| 88/88 [00:44<00:00,  1.97it/s]\n"
          ]
        },
        {
          "output_type": "stream",
          "name": "stdout",
          "text": [
            "\n",
            "Validation set: Average loss: 0.0007, Accuracy: 4582/5000 (91.64%)\n",
            "\n",
            "\n",
            "Test set: Average loss: 0.4068, Accuracy: 9010/10000 (90.10%)\n",
            "\n",
            "EPOCHS : 110\n"
          ]
        },
        {
          "output_type": "stream",
          "name": "stderr",
          "text": [
            "Batch_id=87 Batch Loss=0.021094907075166702 Running Loss=1.2407579263672233 Running Accuracy=99.61: 100%|██████████| 88/88 [00:45<00:00,  1.91it/s]\n"
          ]
        },
        {
          "output_type": "stream",
          "name": "stdout",
          "text": [
            "\n",
            "Validation set: Average loss: 0.0007, Accuracy: 4582/5000 (91.64%)\n",
            "\n",
            "\n",
            "Test set: Average loss: 0.4051, Accuracy: 9007/10000 (90.07%)\n",
            "\n",
            "EPOCHS : 111\n"
          ]
        },
        {
          "output_type": "stream",
          "name": "stderr",
          "text": [
            "Batch_id=87 Batch Loss=0.0119697330519557 Running Loss=1.1493305158801377 Running Accuracy=99.60: 100%|██████████| 88/88 [00:44<00:00,  2.00it/s]\n"
          ]
        },
        {
          "output_type": "stream",
          "name": "stdout",
          "text": [
            "\n",
            "Validation set: Average loss: 0.0007, Accuracy: 4580/5000 (91.60%)\n",
            "\n",
            "\n",
            "Test set: Average loss: 0.4045, Accuracy: 9015/10000 (90.15%)\n",
            "\n",
            "EPOCHS : 112\n"
          ]
        },
        {
          "output_type": "stream",
          "name": "stderr",
          "text": [
            "Batch_id=87 Batch Loss=0.023439444601535797 Running Loss=1.350935589056462 Running Accuracy=99.56: 100%|██████████| 88/88 [00:45<00:00,  1.92it/s]\n"
          ]
        },
        {
          "output_type": "stream",
          "name": "stdout",
          "text": [
            "\n",
            "Validation set: Average loss: 0.0007, Accuracy: 4582/5000 (91.64%)\n",
            "\n",
            "\n",
            "Test set: Average loss: 0.4031, Accuracy: 9016/10000 (90.16%)\n",
            "\n",
            "EPOCHS : 113\n"
          ]
        },
        {
          "output_type": "stream",
          "name": "stderr",
          "text": [
            "Batch_id=87 Batch Loss=0.027395978569984436 Running Loss=1.1751713808625937 Running Accuracy=99.58: 100%|██████████| 88/88 [00:44<00:00,  1.98it/s]\n"
          ]
        },
        {
          "output_type": "stream",
          "name": "stdout",
          "text": [
            "\n",
            "Validation set: Average loss: 0.0007, Accuracy: 4592/5000 (91.84%)\n",
            "\n",
            "\n",
            "Test set: Average loss: 0.4053, Accuracy: 9016/10000 (90.16%)\n",
            "\n",
            "EPOCHS : 114\n"
          ]
        },
        {
          "output_type": "stream",
          "name": "stderr",
          "text": [
            "Batch_id=87 Batch Loss=0.011383694596588612 Running Loss=1.072921065846458 Running Accuracy=99.64: 100%|██████████| 88/88 [00:45<00:00,  1.94it/s]\n"
          ]
        },
        {
          "output_type": "stream",
          "name": "stdout",
          "text": [
            "\n",
            "Validation set: Average loss: 0.0007, Accuracy: 4587/5000 (91.74%)\n",
            "\n",
            "\n",
            "Test set: Average loss: 0.4056, Accuracy: 9023/10000 (90.23%)\n",
            "\n",
            "EPOCHS : 115\n"
          ]
        },
        {
          "output_type": "stream",
          "name": "stderr",
          "text": [
            "Batch_id=87 Batch Loss=0.01797054521739483 Running Loss=1.1811565794050694 Running Accuracy=99.60: 100%|██████████| 88/88 [00:45<00:00,  1.95it/s]\n"
          ]
        },
        {
          "output_type": "stream",
          "name": "stdout",
          "text": [
            "\n",
            "Validation set: Average loss: 0.0007, Accuracy: 4581/5000 (91.62%)\n",
            "\n",
            "\n",
            "Test set: Average loss: 0.4050, Accuracy: 9025/10000 (90.25%)\n",
            "\n",
            "EPOCHS : 116\n"
          ]
        },
        {
          "output_type": "stream",
          "name": "stderr",
          "text": [
            "Batch_id=87 Batch Loss=0.018939927220344543 Running Loss=1.0792617690749466 Running Accuracy=99.62: 100%|██████████| 88/88 [00:45<00:00,  1.95it/s]\n"
          ]
        },
        {
          "output_type": "stream",
          "name": "stdout",
          "text": [
            "\n",
            "Validation set: Average loss: 0.0007, Accuracy: 4585/5000 (91.70%)\n",
            "\n",
            "\n",
            "Test set: Average loss: 0.4053, Accuracy: 9014/10000 (90.14%)\n",
            "\n",
            "EPOCHS : 117\n"
          ]
        },
        {
          "output_type": "stream",
          "name": "stderr",
          "text": [
            "Batch_id=87 Batch Loss=0.015235367231070995 Running Loss=1.0398562597110868 Running Accuracy=99.65: 100%|██████████| 88/88 [00:46<00:00,  1.90it/s]\n"
          ]
        },
        {
          "output_type": "stream",
          "name": "stdout",
          "text": [
            "\n",
            "Validation set: Average loss: 0.0007, Accuracy: 4581/5000 (91.62%)\n",
            "\n",
            "\n",
            "Test set: Average loss: 0.4085, Accuracy: 9001/10000 (90.01%)\n",
            "\n",
            "EPOCHS : 118\n"
          ]
        },
        {
          "output_type": "stream",
          "name": "stderr",
          "text": [
            "Batch_id=87 Batch Loss=0.03420797735452652 Running Loss=1.1412254348397255 Running Accuracy=99.62: 100%|██████████| 88/88 [00:45<00:00,  1.94it/s]\n"
          ]
        },
        {
          "output_type": "stream",
          "name": "stdout",
          "text": [
            "\n",
            "Validation set: Average loss: 0.0007, Accuracy: 4584/5000 (91.68%)\n",
            "\n",
            "\n",
            "Test set: Average loss: 0.4066, Accuracy: 9021/10000 (90.21%)\n",
            "\n",
            "EPOCHS : 119\n"
          ]
        },
        {
          "output_type": "stream",
          "name": "stderr",
          "text": [
            "Batch_id=87 Batch Loss=0.014480812475085258 Running Loss=1.0304651272017509 Running Accuracy=99.65: 100%|██████████| 88/88 [00:46<00:00,  1.88it/s]\n"
          ]
        },
        {
          "output_type": "stream",
          "name": "stdout",
          "text": [
            "\n",
            "Validation set: Average loss: 0.0007, Accuracy: 4582/5000 (91.64%)\n",
            "\n",
            "\n",
            "Test set: Average loss: 0.4075, Accuracy: 9020/10000 (90.20%)\n",
            "\n"
          ]
        }
      ],
      "source": [
        "# Training the model\n",
        "\n",
        "train_acc = []\n",
        "train_losses = []\n",
        "valid_accs = []\n",
        "valid_losses = []\n",
        "test_acc = []\n",
        "test_losses = []\n",
        "min_valid_loss = None\n",
        "max_acc = None\n",
        "\n",
        "EPOCHS = 120\n",
        "\n",
        "for i in range(EPOCHS):\n",
        "    print(f'EPOCHS : {i}')\n",
        "    model_training(model, device, trainloader, optimizer, train_acc, train_losses)\n",
        "\n",
        "    # Validating the model for the current epoch\n",
        "    valid_loss, valid_acc = model_evaluation(model, device, validloader)  \n",
        "\n",
        "    valid_losses.append(valid_loss)\n",
        "    valid_accs.append(valid_acc)\n",
        "\n",
        "    if not min_valid_loss:\n",
        "      min_valid_loss = valid_loss\n",
        "    else:\n",
        "      if valid_loss < min_valid_loss:\n",
        "        min_valid_loss = valid_loss\n",
        "        torch.save(model, \"best_model.pickle\")\n",
        "\n",
        "    scheduler.step(train_losses[-1])\n",
        "    # scheduler.step(valid_loss)\n",
        "\n",
        "    misclassified, test_acc2 = model_testing(model, device, testloader, test_acc, test_losses)\n",
        "\n",
        "    if not max_acc:\n",
        "      max_acc = test_acc2\n",
        "    else:\n",
        "      if test_acc2 > max_acc:\n",
        "        max_acc = test_acc2\n",
        "        torch.save(model, \"best_test_acc_model.pickle\")\n",
        "\n",
        "    save_to_csv(\"12_resnet_2_2_2_2_inchannels_32.csv\", train_losses, train_acc, test_losses, test_acc)\n",
        "  "
      ]
    },
    {
      "cell_type": "code",
      "source": [
        "# Best model\n",
        "model1 = torch.load(\"best_model.pickle\")\n",
        "model2 = torch.load(\"best_test_acc_model.pickle\")\n",
        "misclassified, _acc = model_testing(model1, device, testloader, test_acc, test_losses)\n",
        "misclassified, _acc = model_testing(model2, device, testloader, test_acc, test_losses)"
      ],
      "metadata": {
        "colab": {
          "base_uri": "https://localhost:8080/"
        },
        "id": "ocguQ5Q9p1Kt",
        "outputId": "8e2b2352-c777-40d4-e3c8-ac9607c2a07c"
      },
      "execution_count": 19,
      "outputs": [
        {
          "output_type": "stream",
          "name": "stdout",
          "text": [
            "\n",
            "Test set: Average loss: 0.4014, Accuracy: 9025/10000 (90.25%)\n",
            "\n",
            "\n",
            "Test set: Average loss: 0.4014, Accuracy: 9025/10000 (90.25%)\n",
            "\n"
          ]
        }
      ]
    },
    {
      "cell_type": "code",
      "execution_count": 18,
      "metadata": {
        "execution": {
          "iopub.execute_input": "2020-09-18T14:33:11.004455Z",
          "iopub.status.busy": "2020-09-18T14:33:11.003592Z",
          "iopub.status.idle": "2020-09-18T14:33:11.886161Z",
          "shell.execute_reply": "2020-09-18T14:33:11.885385Z"
        },
        "papermill": {
          "duration": 4.212753,
          "end_time": "2020-09-18T14:33:11.886294",
          "exception": false,
          "start_time": "2020-09-18T14:33:07.673541",
          "status": "completed"
        },
        "tags": [],
        "colab": {
          "base_uri": "https://localhost:8080/",
          "height": 1000
        },
        "id": "3pYBPl8HKs_o",
        "outputId": "96c01f35-845f-40d7-cae7-e5e622149a14"
      },
      "outputs": [
        {
          "output_type": "execute_result",
          "data": {
            "text/plain": [
              "[<matplotlib.lines.Line2D at 0x7f2f9a7ff650>]"
            ]
          },
          "metadata": {},
          "execution_count": 18
        },
        {
          "output_type": "display_data",
          "data": {
            "text/plain": [
              "<Figure size 1800x1440 with 4 Axes>"
            ],
            "image/png": "[encoded data removed]"
          },
          "metadata": {
            "needs_background": "light"
          }
        }
      ],
      "source": [
        "fig, axs = plt.subplots(2,2, figsize=(25,20))\n",
        "\n",
        "axs[0,0].set_title('Train Losses')\n",
        "axs[0,1].set_title('Training Accuracy')\n",
        "axs[1,0].set_title('Test Losses')\n",
        "axs[1,1].set_title('Test Accuracy')\n",
        "\n",
        "axs[0,0].plot(train_losses)\n",
        "axs[0,1].plot(train_acc)\n",
        "axs[1,0].plot(test_losses)\n",
        "axs[1,1].plot(test_acc)"
      ]
    },
    {
      "cell_type": "code",
      "source": [],
      "metadata": {
        "id": "DlPU6Co4ns_R"
      },
      "execution_count": null,
      "outputs": []
    }
  ],
  "metadata": {
    "kernelspec": {
      "display_name": "Python 3",
      "language": "python",
      "name": "python3"
    },
    "language_info": {
      "codemirror_mode": {
        "name": "ipython",
        "version": 3
      },
      "file_extension": ".py",
      "mimetype": "text/x-python",
      "name": "python",
      "nbconvert_exporter": "python",
      "pygments_lexer": "ipython3",
      "version": "3.7.6"
    },
    "papermill": {
      "duration": 1617.594216,
      "end_time": "2020-09-18T14:33:16.593563",
      "environment_variables": {},
      "exception": null,
      "input_path": "__notebook__.ipynb",
      "output_path": "__notebook__.ipynb",
      "parameters": {},
      "start_time": "2020-09-18T14:06:18.999347",
      "version": "2.1.0"
    },
    "colab": {
      "provenance": []
    },
    "accelerator": "GPU",
    "gpuClass": "standard",
    "widgets": {
      "application/vnd.jupyter.widget-state+json": {
        "f274b59dd53f498e9b6f4f2523026154": {
          "model_module": "@jupyter-widgets/controls",
          "model_name": "HBoxModel",
          "model_module_version": "1.5.0",
          "state": {
            "_dom_classes": [],
            "_model_module": "@jupyter-widgets/controls",
            "_model_module_version": "1.5.0",
            "_model_name": "HBoxModel",
            "_view_count": null,
            "_view_module": "@jupyter-widgets/controls",
            "_view_module_version": "1.5.0",
            "_view_name": "HBoxView",
            "box_style": "",
            "children": [
              "IPY_MODEL_876169762de049d89a5a470db6334354",
              "IPY_MODEL_738defe3f5f24d739ce40f1dd24b9352",
              "IPY_MODEL_2ca043217297447aa91192ce90602179"
            ],
            "layout": "IPY_MODEL_4d7c2782c5f344939afa95c872177b0b"
          }
        },
        "876169762de049d89a5a470db6334354": {
          "model_module": "@jupyter-widgets/controls",
          "model_name": "HTMLModel",
          "model_module_version": "1.5.0",
          "state": {
            "_dom_classes": [],
            "_model_module": "@jupyter-widgets/controls",
            "_model_module_version": "1.5.0",
            "_model_name": "HTMLModel",
            "_view_count": null,
            "_view_module": "@jupyter-widgets/controls",
            "_view_module_version": "1.5.0",
            "_view_name": "HTMLView",
            "description": "",
            "description_tooltip": null,
            "layout": "IPY_MODEL_f9dd9695b48c487b93566849a547539d",
            "placeholder": "​",
            "style": "IPY_MODEL_273dce5fd1d845cf82500e83fde82117",
            "value": "100%"
          }
        },
        "738defe3f5f24d739ce40f1dd24b9352": {
          "model_module": "@jupyter-widgets/controls",
          "model_name": "FloatProgressModel",
          "model_module_version": "1.5.0",
          "state": {
            "_dom_classes": [],
            "_model_module": "@jupyter-widgets/controls",
            "_model_module_version": "1.5.0",
            "_model_name": "FloatProgressModel",
            "_view_count": null,
            "_view_module": "@jupyter-widgets/controls",
            "_view_module_version": "1.5.0",
            "_view_name": "ProgressView",
            "bar_style": "success",
            "description": "",
            "description_tooltip": null,
            "layout": "IPY_MODEL_7b4361a3c3b648489f4d8b406c18ab01",
            "max": 170498071,
            "min": 0,
            "orientation": "horizontal",
            "style": "IPY_MODEL_6b419fcba0df4982a97b24e18a1adc6b",
            "value": 170498071
          }
        },
        "2ca043217297447aa91192ce90602179": {
          "model_module": "@jupyter-widgets/controls",
          "model_name": "HTMLModel",
          "model_module_version": "1.5.0",
          "state": {
            "_dom_classes": [],
            "_model_module": "@jupyter-widgets/controls",
            "_model_module_version": "1.5.0",
            "_model_name": "HTMLModel",
            "_view_count": null,
            "_view_module": "@jupyter-widgets/controls",
            "_view_module_version": "1.5.0",
            "_view_name": "HTMLView",
            "description": "",
            "description_tooltip": null,
            "layout": "IPY_MODEL_32652667b7b1411b864721101c291ce1",
            "placeholder": "​",
            "style": "IPY_MODEL_d0246d4842db4f6495aee6c0c643e68c",
            "value": " 170498071/170498071 [00:01&lt;00:00, 96483180.20it/s]"
          }
        },
        "4d7c2782c5f344939afa95c872177b0b": {
          "model_module": "@jupyter-widgets/base",
          "model_name": "LayoutModel",
          "model_module_version": "1.2.0",
          "state": {
            "_model_module": "@jupyter-widgets/base",
            "_model_module_version": "1.2.0",
            "_model_name": "LayoutModel",
            "_view_count": null,
            "_view_module": "@jupyter-widgets/base",
            "_view_module_version": "1.2.0",
            "_view_name": "LayoutView",
            "align_content": null,
            "align_items": null,
            "align_self": null,
            "border": null,
            "bottom": null,
            "display": null,
            "flex": null,
            "flex_flow": null,
            "grid_area": null,
            "grid_auto_columns": null,
            "grid_auto_flow": null,
            "grid_auto_rows": null,
            "grid_column": null,
            "grid_gap": null,
            "grid_row": null,
            "grid_template_areas": null,
            "grid_template_columns": null,
            "grid_template_rows": null,
            "height": null,
            "justify_content": null,
            "justify_items": null,
            "left": null,
            "margin": null,
            "max_height": null,
            "max_width": null,
            "min_height": null,
            "min_width": null,
            "object_fit": null,
            "object_position": null,
            "order": null,
            "overflow": null,
            "overflow_x": null,
            "overflow_y": null,
            "padding": null,
            "right": null,
            "top": null,
            "visibility": null,
            "width": null
          }
        },
        "f9dd9695b48c487b93566849a547539d": {
          "model_module": "@jupyter-widgets/base",
          "model_name": "LayoutModel",
          "model_module_version": "1.2.0",
          "state": {
            "_model_module": "@jupyter-widgets/base",
            "_model_module_version": "1.2.0",
            "_model_name": "LayoutModel",
            "_view_count": null,
            "_view_module": "@jupyter-widgets/base",
            "_view_module_version": "1.2.0",
            "_view_name": "LayoutView",
            "align_content": null,
            "align_items": null,
            "align_self": null,
            "border": null,
            "bottom": null,
            "display": null,
            "flex": null,
            "flex_flow": null,
            "grid_area": null,
            "grid_auto_columns": null,
            "grid_auto_flow": null,
            "grid_auto_rows": null,
            "grid_column": null,
            "grid_gap": null,
            "grid_row": null,
            "grid_template_areas": null,
            "grid_template_columns": null,
            "grid_template_rows": null,
            "height": null,
            "justify_content": null,
            "justify_items": null,
            "left": null,
            "margin": null,
            "max_height": null,
            "max_width": null,
            "min_height": null,
            "min_width": null,
            "object_fit": null,
            "object_position": null,
            "order": null,
            "overflow": null,
            "overflow_x": null,
            "overflow_y": null,
            "padding": null,
            "right": null,
            "top": null,
            "visibility": null,
            "width": null
          }
        },
        "273dce5fd1d845cf82500e83fde82117": {
          "model_module": "@jupyter-widgets/controls",
          "model_name": "DescriptionStyleModel",
          "model_module_version": "1.5.0",
          "state": {
            "_model_module": "@jupyter-widgets/controls",
            "_model_module_version": "1.5.0",
            "_model_name": "DescriptionStyleModel",
            "_view_count": null,
            "_view_module": "@jupyter-widgets/base",
            "_view_module_version": "1.2.0",
            "_view_name": "StyleView",
            "description_width": ""
          }
        },
        "7b4361a3c3b648489f4d8b406c18ab01": {
          "model_module": "@jupyter-widgets/base",
          "model_name": "LayoutModel",
          "model_module_version": "1.2.0",
          "state": {
            "_model_module": "@jupyter-widgets/base",
            "_model_module_version": "1.2.0",
            "_model_name": "LayoutModel",
            "_view_count": null,
            "_view_module": "@jupyter-widgets/base",
            "_view_module_version": "1.2.0",
            "_view_name": "LayoutView",
            "align_content": null,
            "align_items": null,
            "align_self": null,
            "border": null,
            "bottom": null,
            "display": null,
            "flex": null,
            "flex_flow": null,
            "grid_area": null,
            "grid_auto_columns": null,
            "grid_auto_flow": null,
            "grid_auto_rows": null,
            "grid_column": null,
            "grid_gap": null,
            "grid_row": null,
            "grid_template_areas": null,
            "grid_template_columns": null,
            "grid_template_rows": null,
            "height": null,
            "justify_content": null,
            "justify_items": null,
            "left": null,
            "margin": null,
            "max_height": null,
            "max_width": null,
            "min_height": null,
            "min_width": null,
            "object_fit": null,
            "object_position": null,
            "order": null,
            "overflow": null,
            "overflow_x": null,
            "overflow_y": null,
            "padding": null,
            "right": null,
            "top": null,
            "visibility": null,
            "width": null
          }
        },
        "6b419fcba0df4982a97b24e18a1adc6b": {
          "model_module": "@jupyter-widgets/controls",
          "model_name": "ProgressStyleModel",
          "model_module_version": "1.5.0",
          "state": {
            "_model_module": "@jupyter-widgets/controls",
            "_model_module_version": "1.5.0",
            "_model_name": "ProgressStyleModel",
            "_view_count": null,
            "_view_module": "@jupyter-widgets/base",
            "_view_module_version": "1.2.0",
            "_view_name": "StyleView",
            "bar_color": null,
            "description_width": ""
          }
        },
        "32652667b7b1411b864721101c291ce1": {
          "model_module": "@jupyter-widgets/base",
          "model_name": "LayoutModel",
          "model_module_version": "1.2.0",
          "state": {
            "_model_module": "@jupyter-widgets/base",
            "_model_module_version": "1.2.0",
            "_model_name": "LayoutModel",
            "_view_count": null,
            "_view_module": "@jupyter-widgets/base",
            "_view_module_version": "1.2.0",
            "_view_name": "LayoutView",
            "align_content": null,
            "align_items": null,
            "align_self": null,
            "border": null,
            "bottom": null,
            "display": null,
            "flex": null,
            "flex_flow": null,
            "grid_area": null,
            "grid_auto_columns": null,
            "grid_auto_flow": null,
            "grid_auto_rows": null,
            "grid_column": null,
            "grid_gap": null,
            "grid_row": null,
            "grid_template_areas": null,
            "grid_template_columns": null,
            "grid_template_rows": null,
            "height": null,
            "justify_content": null,
            "justify_items": null,
            "left": null,
            "margin": null,
            "max_height": null,
            "max_width": null,
            "min_height": null,
            "min_width": null,
            "object_fit": null,
            "object_position": null,
            "order": null,
            "overflow": null,
            "overflow_x": null,
            "overflow_y": null,
            "padding": null,
            "right": null,
            "top": null,
            "visibility": null,
            "width": null
          }
        },
        "d0246d4842db4f6495aee6c0c643e68c": {
          "model_module": "@jupyter-widgets/controls",
          "model_name": "DescriptionStyleModel",
          "model_module_version": "1.5.0",
          "state": {
            "_model_module": "@jupyter-widgets/controls",
            "_model_module_version": "1.5.0",
            "_model_name": "DescriptionStyleModel",
            "_view_count": null,
            "_view_module": "@jupyter-widgets/base",
            "_view_module_version": "1.2.0",
            "_view_name": "StyleView",
            "description_width": ""
          }
        }
      }
    }
  },
  "nbformat": 4,
  "nbformat_minor": 0
}