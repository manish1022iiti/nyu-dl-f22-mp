{
  "cells": [
    {
      "cell_type": "markdown",
      "source": [
        "https://www.kaggle.com/code/greatcodes/pytorch-cnn-resnet18-cifar10/notebook\n",
        "\n",
        "https://pytorch-tutorial.readthedocs.io/en/latest/tutorial/chapter03_intermediate/3_2_2_cnn_resnet_cifar10/"
      ],
      "metadata": {
        "id": "TS3R6-AKKuSD"
      }
    },
    {
      "cell_type": "code",
      "execution_count": 1,
      "metadata": {
        "execution": {
          "iopub.execute_input": "2020-09-18T14:06:23.323276Z",
          "iopub.status.busy": "2020-09-18T14:06:23.322403Z",
          "iopub.status.idle": "2020-09-18T14:06:33.073785Z",
          "shell.execute_reply": "2020-09-18T14:06:33.073171Z"
        },
        "papermill": {
          "duration": 9.766997,
          "end_time": "2020-09-18T14:06:33.073915",
          "exception": false,
          "start_time": "2020-09-18T14:06:23.306918",
          "status": "completed"
        },
        "tags": [],
        "colab": {
          "base_uri": "https://localhost:8080/"
        },
        "id": "40qwzP9AKs_c",
        "outputId": "a53dcd8d-0a64-47f7-e804-489efc80c550"
      },
      "outputs": [
        {
          "output_type": "stream",
          "name": "stdout",
          "text": [
            "Looking in indexes: https://pypi.org/simple, https://us-python.pkg.dev/colab-wheels/public/simple/\n",
            "Requirement already satisfied: torchsummary in /usr/local/lib/python3.7/dist-packages (1.5.1)\n"
          ]
        }
      ],
      "source": [
        "!pip install torchsummary"
      ]
    },
    {
      "cell_type": "code",
      "execution_count": 2,
      "metadata": {
        "_cell_guid": "79c7e3d0-c299-4dcb-8224-4455121ee9b0",
        "_uuid": "d629ff2d2480ee46fbb7e2d37f6b5fab8052498a",
        "execution": {
          "iopub.execute_input": "2020-09-18T14:06:33.110540Z",
          "iopub.status.busy": "2020-09-18T14:06:33.109616Z",
          "iopub.status.idle": "2020-09-18T14:06:34.741497Z",
          "shell.execute_reply": "2020-09-18T14:06:34.742236Z"
        },
        "papermill": {
          "duration": 1.655486,
          "end_time": "2020-09-18T14:06:34.742433",
          "exception": false,
          "start_time": "2020-09-18T14:06:33.086947",
          "status": "completed"
        },
        "tags": [],
        "colab": {
          "base_uri": "https://localhost:8080/"
        },
        "id": "1L1ayeUjKs_d",
        "outputId": "135f0cb4-d8b2-42de-f70f-2cd272642354"
      },
      "outputs": [
        {
          "output_type": "stream",
          "name": "stdout",
          "text": [
            "cuda\n"
          ]
        }
      ],
      "source": [
        "# Importing Libraries\n",
        "import os\n",
        "import copy\n",
        "import random\n",
        "import numpy as np\n",
        "import pandas as pd\n",
        "import torch\n",
        "import torchvision\n",
        "import torchvision.transforms as transforms\n",
        "from torchsummary import summary\n",
        "import torch.utils.data as data\n",
        "import torch.nn as nn\n",
        "import torch.nn.functional as F\n",
        "import torch.optim as optim\n",
        "from torch.optim.lr_scheduler import StepLR, ReduceLROnPlateau\n",
        "\n",
        "import matplotlib.pyplot as plt\n",
        "%matplotlib inline\n",
        "\n",
        "SEED = 1234\n",
        "\n",
        "device = \"cuda\" if torch.cuda.is_available else \"cpu\"\n",
        "print(device)"
      ]
    },
    {
      "cell_type": "code",
      "execution_count": 3,
      "metadata": {
        "execution": {
          "iopub.execute_input": "2020-09-18T14:06:34.781123Z",
          "iopub.status.busy": "2020-09-18T14:06:34.780293Z",
          "iopub.status.idle": "2020-09-18T14:06:34.784939Z",
          "shell.execute_reply": "2020-09-18T14:06:34.784333Z"
        },
        "papermill": {
          "duration": 0.028551,
          "end_time": "2020-09-18T14:06:34.785089",
          "exception": false,
          "start_time": "2020-09-18T14:06:34.756538",
          "status": "completed"
        },
        "tags": [],
        "id": "s_5gkccjKs_e"
      },
      "outputs": [],
      "source": [
        "from torchvision import transforms\n",
        "import numpy as np\n",
        "import torch\n",
        "\n",
        "# Returns a list of transformations when called\n",
        "\n",
        "class GetTransforms():\n",
        "    '''Returns a list of transformations when type as requested amongst train/test\n",
        "       Transforms('train') = list of transforms to apply on training data\n",
        "       Transforms('test') = list of transforms to apply on testing data'''\n",
        "\n",
        "    def __init__(self):\n",
        "        pass\n",
        "\n",
        "    def trainparams(self):\n",
        "        train_transformations = [ #resises the image so it can be perfect for our model.\n",
        "            transforms.RandomHorizontalFlip(), # FLips the image w.r.t horizontal axis\n",
        "            transforms.RandomRotation((-7,7)),     #Rotates the image to a specified angel\n",
        "            transforms.RandomAffine(0, shear=10, scale=(0.8,1.2)), #Performs actions like zooms, change shear angles.\n",
        "            transforms.ColorJitter(brightness=0.2, contrast=0.2, saturation=0.2), # Set the color params\n",
        "            transforms.ToTensor(), # comvert the image to tensor so that it can work with torch\n",
        "            transforms.Normalize((0.491, 0.482, 0.446), (0.247, 0.243, 0.261)) #Normalize all the images\n",
        "            ]\n",
        "\n",
        "        return train_transformations\n",
        "\n",
        "    def testparams(self):\n",
        "        test_transforms = [\n",
        "            transforms.ToTensor(),\n",
        "            transforms.Normalize((0.491, 0.482, 0.446), (0.247, 0.243, 0.261))\n",
        "        ]\n",
        "        return test_transforms"
      ]
    },
    {
      "cell_type": "code",
      "execution_count": 4,
      "metadata": {
        "execution": {
          "iopub.execute_input": "2020-09-18T14:06:34.822176Z",
          "iopub.status.busy": "2020-09-18T14:06:34.821389Z",
          "iopub.status.idle": "2020-09-18T14:06:34.824928Z",
          "shell.execute_reply": "2020-09-18T14:06:34.825448Z"
        },
        "papermill": {
          "duration": 0.026239,
          "end_time": "2020-09-18T14:06:34.825574",
          "exception": false,
          "start_time": "2020-09-18T14:06:34.799335",
          "status": "completed"
        },
        "tags": [],
        "id": "TUmYFrWSKs_g"
      },
      "outputs": [],
      "source": [
        "from torchvision import datasets\n",
        "from torchvision import transforms\n",
        "\n",
        "\n",
        "transformations = GetTransforms()\n",
        "train_transforms = transforms.Compose(transformations.trainparams())\n",
        "test_transforms = transforms.Compose(transformations.testparams())\n",
        "\n",
        "\n",
        "class GetCIFAR10_TrainData():\n",
        "    def __init__(self, dir_name:str):\n",
        "        self.dirname = dir_name\n",
        "\n",
        "    def download_train_data(self):\n",
        "        return datasets.CIFAR10('./data', train=True, download=True, transform=train_transforms)\n",
        "\n",
        "    def download_test_data(self):\n",
        "        return datasets.CIFAR10('./data', train=False, download=True, transform=test_transforms)\n"
      ]
    },
    {
      "cell_type": "code",
      "execution_count": 5,
      "metadata": {
        "execution": {
          "iopub.execute_input": "2020-09-18T14:06:34.859536Z",
          "iopub.status.busy": "2020-09-18T14:06:34.858878Z",
          "iopub.status.idle": "2020-09-18T14:06:42.631720Z",
          "shell.execute_reply": "2020-09-18T14:06:42.631008Z"
        },
        "papermill": {
          "duration": 7.792606,
          "end_time": "2020-09-18T14:06:42.631847",
          "exception": false,
          "start_time": "2020-09-18T14:06:34.839241",
          "status": "completed"
        },
        "tags": [],
        "colab": {
          "base_uri": "https://localhost:8080/",
          "height": 101,
          "referenced_widgets": [
            "a37259e65c424e158dd3ea414113d6eb",
            "45c2b2fe15194ce18e0964e18ec09382",
            "de34b6f2a3a549699a38f01d355ad6c4",
            "cd7f3e18ca1749988649742c60108880",
            "b5c252a0d09e4e00a80af2a593ad46c0",
            "2da549cab37f47609e68e7a25d1ae2e0",
            "1d4dfcd8e7394c9a808478d913665a54",
            "3e314d7a24274b5cb4eb8d83d9b4af83",
            "304ee936088a4d54856163dabf829d44",
            "e25792994a634152ac74cc7b8ac8499b",
            "81aca401f11a4136bbfb025baf9233bb"
          ]
        },
        "id": "U8mSINXnKs_i",
        "outputId": "0f54c227-3a5d-45ff-bf20-9c902bec6da7"
      },
      "outputs": [
        {
          "output_type": "stream",
          "name": "stdout",
          "text": [
            "Downloading https://www.cs.toronto.edu/~kriz/cifar-10-python.tar.gz to ./data/cifar-10-python.tar.gz\n"
          ]
        },
        {
          "output_type": "display_data",
          "data": {
            "text/plain": [
              "  0%|          | 0/170498071 [00:00<?, ?it/s]"
            ],
            "application/vnd.jupyter.widget-view+json": {
              "version_major": 2,
              "version_minor": 0,
              "model_id": "a37259e65c424e158dd3ea414113d6eb"
            }
          },
          "metadata": {}
        },
        {
          "output_type": "stream",
          "name": "stdout",
          "text": [
            "Extracting ./data/cifar-10-python.tar.gz to ./data\n",
            "Files already downloaded and verified\n"
          ]
        }
      ],
      "source": [
        "cdata = GetCIFAR10_TrainData(os.chdir(\"..\"))\n",
        "trainset = cdata.download_train_data()\n",
        "testset = cdata.download_test_data()\n",
        "\n",
        "VALID_RATIO = 0.9\n",
        "n_train_examples = int(len(trainset) * VALID_RATIO)\n",
        "n_valid_examples = len(trainset) - n_train_examples\n",
        "\n",
        "trainset, validset = data.random_split(trainset, \n",
        "                                           [n_train_examples, n_valid_examples])\n",
        "\n",
        "validset = copy.deepcopy(validset)\n",
        "validset.dataset.transform = test_transforms"
      ]
    },
    {
      "cell_type": "code",
      "source": [
        "len(trainset), len(validset), len(testset)"
      ],
      "metadata": {
        "colab": {
          "base_uri": "https://localhost:8080/"
        },
        "id": "W_h-ul9MYUPZ",
        "outputId": "7dcc4465-bdec-47b2-9087-8f90f0785aa4"
      },
      "execution_count": null,
      "outputs": [
        {
          "output_type": "execute_result",
          "data": {
            "text/plain": [
              "(45000, 5000, 10000)"
            ]
          },
          "metadata": {},
          "execution_count": 7
        }
      ]
    },
    {
      "cell_type": "code",
      "source": [
        "BATCH_SIZE = 512\n",
        "\n",
        "trainloader = torch.utils.data.DataLoader(trainset, batch_size=BATCH_SIZE,\n",
        "                                          shuffle=True, num_workers=2)\n",
        "validloader = torch.utils.data.DataLoader(validset, batch_size=BATCH_SIZE,\n",
        "                                          shuffle=False, num_workers=2)\n",
        "testloader = torch.utils.data.DataLoader(testset, batch_size=BATCH_SIZE,\n",
        "                                         shuffle=False, num_workers=2)"
      ],
      "metadata": {
        "id": "uybGoOcRQA6S"
      },
      "execution_count": 6,
      "outputs": []
    },
    {
      "cell_type": "markdown",
      "metadata": {
        "papermill": {
          "duration": 0.01586,
          "end_time": "2020-09-18T14:06:42.663889",
          "exception": false,
          "start_time": "2020-09-18T14:06:42.648029",
          "status": "completed"
        },
        "tags": [],
        "id": "H6YIObpwKs_j"
      },
      "source": [
        "# The Model - RESNET18\n"
      ]
    },
    {
      "cell_type": "code",
      "source": [
        "# 3x3 convolution\n",
        "def conv3x3(in_channels, out_channels, stride=1):\n",
        "    return nn.Conv2d(in_channels, out_channels, kernel_size=3, \n",
        "                     stride=stride, padding=1, bias=False)"
      ],
      "metadata": {
        "id": "G9TNZ9fONNbW"
      },
      "execution_count": 7,
      "outputs": []
    },
    {
      "cell_type": "code",
      "execution_count": 16,
      "metadata": {
        "execution": {
          "iopub.execute_input": "2020-09-18T14:06:42.726092Z",
          "iopub.status.busy": "2020-09-18T14:06:42.719704Z",
          "iopub.status.idle": "2020-09-18T14:06:42.729169Z",
          "shell.execute_reply": "2020-09-18T14:06:42.728568Z"
        },
        "papermill": {
          "duration": 0.048555,
          "end_time": "2020-09-18T14:06:42.729267",
          "exception": false,
          "start_time": "2020-09-18T14:06:42.680712",
          "status": "completed"
        },
        "tags": [],
        "id": "yJJ0Idu8Ks_j"
      },
      "outputs": [],
      "source": [
        "# Residual block\n",
        "class ResidualBlock(nn.Module):\n",
        "    def __init__(self, in_channels, out_channels, stride=1, downsample=None):\n",
        "        super(ResidualBlock, self).__init__()\n",
        "        \n",
        "        self.conv1 = conv3x3(in_channels, out_channels, stride)\n",
        "        self.bn1 = nn.BatchNorm2d(out_channels)\n",
        "        self.dropout1 = nn.Dropout(0.1)\n",
        "        \n",
        "        self.relu = nn.ReLU(inplace=True)\n",
        "        \n",
        "        self.conv2 = conv3x3(out_channels, out_channels)\n",
        "        self.bn2 = nn.BatchNorm2d(out_channels)\n",
        "        self.dropout2 = nn.Dropout(0.1)\n",
        "        \n",
        "        self.downsample = downsample\n",
        "\n",
        "    def forward(self, x):\n",
        "        residual = x\n",
        "\n",
        "        out = self.conv1(x)\n",
        "        out = self.bn1(out)\n",
        "        # out = self.dropout1(out)\n",
        "        out = self.relu(out)\n",
        "        \n",
        "        out = self.conv2(out)\n",
        "        out = self.bn2(out)\n",
        "        # out = self.dropout2(out)\n",
        "        if self.downsample:\n",
        "            residual = self.downsample(x)\n",
        "        out += residual\n",
        "        out = self.relu(out)\n",
        "        \n",
        "        return out\n",
        "\n",
        "# ResNet\n",
        "class ResNet(nn.Module):\n",
        "    def __init__(self, block, layers, num_classes=10):\n",
        "        super(ResNet, self).__init__()\n",
        "        \n",
        "        self.in_channels = 64\n",
        "        \n",
        "        self.conv = conv3x3(in_channels=3, out_channels=64)\n",
        "        self.bn = nn.BatchNorm2d(64)\n",
        "        self.relu = nn.ReLU(inplace=True)\n",
        "\n",
        "        self.layer1 = self.make_layer(block=block, out_channels=64, blocks=layers[0], stride=1)\n",
        "        self.layer2 = self.make_layer(block=block, out_channels=128, blocks=layers[1], stride=2)\n",
        "        self.layer3 = self.make_layer(block=block, out_channels=256, blocks=layers[2], stride=2)\n",
        "        # self.layer4 = self.make_layer(block=block, out_channels=512, blocks=layers[3], stride=2)\n",
        "\n",
        "        self.avg_pool = nn.AvgPool2d(4)\n",
        "        # self.fc = nn.Linear(256, num_classes)\n",
        "        self.fc = nn.Linear(1024, num_classes)\n",
        "\n",
        "    def make_layer(self, block, out_channels, blocks, stride=1):\n",
        "        downsample = None\n",
        "        if (stride != 1) or (self.in_channels != out_channels):\n",
        "            downsample = nn.Sequential(\n",
        "                conv3x3(self.in_channels, out_channels, stride=stride),\n",
        "                nn.BatchNorm2d(out_channels))\n",
        "        layers = []\n",
        "        layers.append(block(self.in_channels, out_channels, stride, downsample))\n",
        "        self.in_channels = out_channels\n",
        "        for i in range(1, blocks):\n",
        "            layers.append(block(out_channels, out_channels))\n",
        "        return nn.Sequential(*layers)\n",
        "\n",
        "    def forward(self, x):\n",
        "        out = self.conv(x)\n",
        "        out = self.bn(out)\n",
        "        out = self.relu(out)\n",
        "        out = self.layer1(out)\n",
        "        out = self.layer2(out)\n",
        "        out = self.layer3(out)\n",
        "        # out = self.layer4(out)\n",
        "        out = self.avg_pool(out)\n",
        "        out = out.view(out.size(0), -1)\n",
        "        out = self.fc(out)\n",
        "        return F.log_softmax(out, dim=-1)\n",
        "\n",
        "def ResNet18():\n",
        "    # return ResNet(ResidualBlock, [2, 2, 2, 2])\n",
        "    return ResNet(ResidualBlock, [2, 2, 2])"
      ]
    },
    {
      "cell_type": "code",
      "execution_count": 17,
      "metadata": {
        "execution": {
          "iopub.execute_input": "2020-09-18T14:06:42.764813Z",
          "iopub.status.busy": "2020-09-18T14:06:42.764098Z",
          "iopub.status.idle": "2020-09-18T14:06:48.527600Z",
          "shell.execute_reply": "2020-09-18T14:06:48.528219Z"
        },
        "papermill": {
          "duration": 5.783641,
          "end_time": "2020-09-18T14:06:48.528379",
          "exception": false,
          "start_time": "2020-09-18T14:06:42.744738",
          "status": "completed"
        },
        "tags": [],
        "colab": {
          "base_uri": "https://localhost:8080/"
        },
        "id": "INT7cGhKKs_k",
        "outputId": "a7868a1d-45dc-4da0-cd28-1eb2c26d972d"
      },
      "outputs": [
        {
          "output_type": "stream",
          "name": "stdout",
          "text": [
            "----------------------------------------------------------------\n",
            "        Layer (type)               Output Shape         Param #\n",
            "================================================================\n",
            "            Conv2d-1           [-1, 64, 32, 32]           1,728\n",
            "       BatchNorm2d-2           [-1, 64, 32, 32]             128\n",
            "              ReLU-3           [-1, 64, 32, 32]               0\n",
            "            Conv2d-4           [-1, 64, 32, 32]          36,864\n",
            "       BatchNorm2d-5           [-1, 64, 32, 32]             128\n",
            "              ReLU-6           [-1, 64, 32, 32]               0\n",
            "            Conv2d-7           [-1, 64, 32, 32]          36,864\n",
            "       BatchNorm2d-8           [-1, 64, 32, 32]             128\n",
            "              ReLU-9           [-1, 64, 32, 32]               0\n",
            "    ResidualBlock-10           [-1, 64, 32, 32]               0\n",
            "           Conv2d-11           [-1, 64, 32, 32]          36,864\n",
            "      BatchNorm2d-12           [-1, 64, 32, 32]             128\n",
            "             ReLU-13           [-1, 64, 32, 32]               0\n",
            "           Conv2d-14           [-1, 64, 32, 32]          36,864\n",
            "      BatchNorm2d-15           [-1, 64, 32, 32]             128\n",
            "             ReLU-16           [-1, 64, 32, 32]               0\n",
            "    ResidualBlock-17           [-1, 64, 32, 32]               0\n",
            "           Conv2d-18          [-1, 128, 16, 16]          73,728\n",
            "      BatchNorm2d-19          [-1, 128, 16, 16]             256\n",
            "             ReLU-20          [-1, 128, 16, 16]               0\n",
            "           Conv2d-21          [-1, 128, 16, 16]         147,456\n",
            "      BatchNorm2d-22          [-1, 128, 16, 16]             256\n",
            "           Conv2d-23          [-1, 128, 16, 16]          73,728\n",
            "      BatchNorm2d-24          [-1, 128, 16, 16]             256\n",
            "             ReLU-25          [-1, 128, 16, 16]               0\n",
            "    ResidualBlock-26          [-1, 128, 16, 16]               0\n",
            "           Conv2d-27          [-1, 128, 16, 16]         147,456\n",
            "      BatchNorm2d-28          [-1, 128, 16, 16]             256\n",
            "             ReLU-29          [-1, 128, 16, 16]               0\n",
            "           Conv2d-30          [-1, 128, 16, 16]         147,456\n",
            "      BatchNorm2d-31          [-1, 128, 16, 16]             256\n",
            "             ReLU-32          [-1, 128, 16, 16]               0\n",
            "    ResidualBlock-33          [-1, 128, 16, 16]               0\n",
            "           Conv2d-34            [-1, 256, 8, 8]         294,912\n",
            "      BatchNorm2d-35            [-1, 256, 8, 8]             512\n",
            "             ReLU-36            [-1, 256, 8, 8]               0\n",
            "           Conv2d-37            [-1, 256, 8, 8]         589,824\n",
            "      BatchNorm2d-38            [-1, 256, 8, 8]             512\n",
            "           Conv2d-39            [-1, 256, 8, 8]         294,912\n",
            "      BatchNorm2d-40            [-1, 256, 8, 8]             512\n",
            "             ReLU-41            [-1, 256, 8, 8]               0\n",
            "    ResidualBlock-42            [-1, 256, 8, 8]               0\n",
            "           Conv2d-43            [-1, 256, 8, 8]         589,824\n",
            "      BatchNorm2d-44            [-1, 256, 8, 8]             512\n",
            "             ReLU-45            [-1, 256, 8, 8]               0\n",
            "           Conv2d-46            [-1, 256, 8, 8]         589,824\n",
            "      BatchNorm2d-47            [-1, 256, 8, 8]             512\n",
            "             ReLU-48            [-1, 256, 8, 8]               0\n",
            "    ResidualBlock-49            [-1, 256, 8, 8]               0\n",
            "        AvgPool2d-50            [-1, 256, 2, 2]               0\n",
            "           Linear-51                   [-1, 10]          10,250\n",
            "================================================================\n",
            "Total params: 3,113,034\n",
            "Trainable params: 3,113,034\n",
            "Non-trainable params: 0\n",
            "----------------------------------------------------------------\n",
            "Input size (MB): 0.01\n",
            "Forward/backward pass size (MB): 14.51\n",
            "Params size (MB): 11.88\n",
            "Estimated Total Size (MB): 26.39\n",
            "----------------------------------------------------------------\n"
          ]
        }
      ],
      "source": [
        "# Importing Model and printing Summary\n",
        "model = ResNet18().to(device)\n",
        "summary(model, input_size=(3,32,32))"
      ]
    },
    {
      "cell_type": "code",
      "execution_count": 18,
      "metadata": {
        "execution": {
          "iopub.execute_input": "2020-09-18T14:06:48.577693Z",
          "iopub.status.busy": "2020-09-18T14:06:48.576994Z",
          "iopub.status.idle": "2020-09-18T14:06:48.581591Z",
          "shell.execute_reply": "2020-09-18T14:06:48.581094Z"
        },
        "papermill": {
          "duration": 0.03332,
          "end_time": "2020-09-18T14:06:48.581710",
          "exception": false,
          "start_time": "2020-09-18T14:06:48.548390",
          "status": "completed"
        },
        "tags": [],
        "id": "-53UyTmsKs_m"
      },
      "outputs": [],
      "source": [
        "from tqdm import tqdm\n",
        "from torch import nn\n",
        "import torch.nn\n",
        "from torch.functional import F\n",
        "import os\n",
        "\n",
        "\n",
        "def model_training(model, device, train_dataloader, optimizer, train_acc, train_losses):\n",
        "            \n",
        "    model.train()\n",
        "    pbar = tqdm(train_dataloader)\n",
        "    correct = 0\n",
        "    processed = 0\n",
        "    running_loss = 0.0\n",
        "\n",
        "    for batch_idx, (data, target) in enumerate(pbar):\n",
        "        data, target = data.to(device), target.to(device)\n",
        "        optimizer.zero_grad()\n",
        "        y_pred = model(data)\n",
        "        loss = F.nll_loss(y_pred, target)\n",
        "        \n",
        "\n",
        "        train_losses.append(loss.item())\n",
        "        loss.backward()\n",
        "        optimizer.step()\n",
        "\n",
        "        pred = y_pred.argmax(dim=1, keepdim=True)\n",
        "        correct += pred.eq(target.view_as(pred)).sum().item()\n",
        "        processed += len(data)\n",
        "        # print statistics\n",
        "        running_loss += loss.item()\n",
        "        pbar.set_description(desc=f'Loss={loss.item()} Batch_id={batch_idx} Accuracy={100*correct/processed:0.2f}')\n",
        "        train_acc.append(100*correct/processed)"
      ]
    },
    {
      "cell_type": "code",
      "execution_count": 19,
      "metadata": {
        "execution": {
          "iopub.execute_input": "2020-09-18T14:06:48.629732Z",
          "iopub.status.busy": "2020-09-18T14:06:48.628793Z",
          "iopub.status.idle": "2020-09-18T14:06:48.631384Z",
          "shell.execute_reply": "2020-09-18T14:06:48.631909Z"
        },
        "papermill": {
          "duration": 0.03462,
          "end_time": "2020-09-18T14:06:48.632026",
          "exception": false,
          "start_time": "2020-09-18T14:06:48.597406",
          "status": "completed"
        },
        "tags": [],
        "id": "E4BrK-0EKs_n"
      },
      "outputs": [],
      "source": [
        "import torch\n",
        "import os\n",
        "from torch.functional import F\n",
        "\n",
        "cwd = os.getcwd()\n",
        "\n",
        "def model_testing(model, device, test_dataloader, test_acc, test_losses, misclassified = []):\n",
        "    \n",
        "    model.eval()\n",
        "    test_loss = 0\n",
        "    correct = 0\n",
        "    class_correct = list(0. for i in range(10))\n",
        "    class_total = list(0. for i in range(10))\n",
        "    # label = 0\n",
        "    classes = ('plane', 'car', 'bird', 'cat',\n",
        "           'deer', 'dog', 'frog', 'horse', 'ship', 'truck')\n",
        "    \n",
        "    with torch.no_grad():\n",
        "\n",
        "        for index, (data, target) in enumerate(test_dataloader):\n",
        "            data, target = data.to(device), target.to(device)\n",
        "            output = model(data)\n",
        "            pred = output.argmax(dim=1, keepdim=True)\n",
        "            \n",
        "            for d,i,j in zip(data, pred, target):\n",
        "                if i != j:\n",
        "                    misclassified.append([d.cpu(),i[0].cpu(),j.cpu()])\n",
        "\n",
        "            test_loss += F.nll_loss(output, target, reduction='sum').item()\n",
        "            correct += pred.eq(target.view_as(pred)).sum().item()\n",
        "    test_loss /= len(test_dataloader.dataset)\n",
        "    test_losses.append(test_loss)\n",
        "    \n",
        "    print('\\nTest set: Average loss: {:.4f}, Accuracy: {}/{} ({:.2f}%)\\n'.format(\n",
        "        test_loss, correct, len(test_dataloader.dataset),\n",
        "        100. * correct / len(test_dataloader.dataset)))\n",
        "    \n",
        "    test_acc.append(100. * correct / len(test_dataloader.dataset))\n",
        "    return misclassified"
      ]
    },
    {
      "cell_type": "code",
      "source": [
        "def model_evaluation(model, device, loader):\n",
        "    \n",
        "    epoch_loss = 0\n",
        "    epoch_acc = 0\n",
        "    \n",
        "    model.eval()\n",
        "    \n",
        "    with torch.no_grad():\n",
        "        \n",
        "        for (x, y) in loader:\n",
        "\n",
        "            x = x.to(device)\n",
        "            y = y.to(device)\n",
        "\n",
        "            y_pred = model(x)\n",
        "            loss = F.nll_loss(y_pred, y)\n",
        "        \n",
        "            pred = y_pred.argmax(dim=1, keepdim=True)\n",
        "            acc = pred.eq(y.view_as(pred)).sum()\n",
        "\n",
        "            epoch_loss += loss.item()\n",
        "            epoch_acc += acc.item()\n",
        "        \n",
        "    print('\\nValidation set: Average loss: {:.4f}, Accuracy: {}/{} ({:.2f}%)\\n'.format(\n",
        "    epoch_loss / len(loader.dataset), epoch_acc, len(loader.dataset),\n",
        "    100. * epoch_acc / len(loader.dataset)))\n",
        "\n",
        "    return epoch_loss / len(loader.dataset), epoch_acc / len(loader.dataset)"
      ],
      "metadata": {
        "id": "ysDy3WkqUGb-"
      },
      "execution_count": 20,
      "outputs": []
    },
    {
      "cell_type": "code",
      "execution_count": 23,
      "metadata": {
        "execution": {
          "iopub.execute_input": "2020-09-18T14:06:48.676683Z",
          "iopub.status.busy": "2020-09-18T14:06:48.675972Z",
          "iopub.status.idle": "2020-09-18T14:33:04.548416Z",
          "shell.execute_reply": "2020-09-18T14:33:04.549364Z"
        },
        "papermill": {
          "duration": 1575.900797,
          "end_time": "2020-09-18T14:33:04.549700",
          "exception": false,
          "start_time": "2020-09-18T14:06:48.648903",
          "status": "completed"
        },
        "tags": [],
        "colab": {
          "base_uri": "https://localhost:8080/"
        },
        "id": "rtrFA-RCKs_o",
        "outputId": "e4fb94d7-f0fb-4139-b7f6-39e388d24033"
      },
      "outputs": [
        {
          "output_type": "stream",
          "name": "stdout",
          "text": [
            "EPOCHS : 0\n"
          ]
        },
        {
          "output_type": "stream",
          "name": "stderr",
          "text": [
            "Loss=0.298887699842453 Batch_id=87 Accuracy=89.97: 100%|██████████| 88/88 [00:36<00:00,  2.44it/s]\n"
          ]
        },
        {
          "output_type": "stream",
          "name": "stdout",
          "text": [
            "\n",
            "Validation set: Average loss: 0.0009, Accuracy: 4273/5000 (85.46%)\n",
            "\n",
            "\n",
            "Test set: Average loss: 0.4764, Accuracy: 8512/10000 (85.12%)\n",
            "\n",
            "EPOCHS : 1\n"
          ]
        },
        {
          "output_type": "stream",
          "name": "stderr",
          "text": [
            "Loss=0.2981129288673401 Batch_id=87 Accuracy=89.81: 100%|██████████| 88/88 [00:35<00:00,  2.47it/s]\n"
          ]
        },
        {
          "output_type": "stream",
          "name": "stdout",
          "text": [
            "\n",
            "Validation set: Average loss: 0.0009, Accuracy: 4264/5000 (85.28%)\n",
            "\n",
            "\n",
            "Test set: Average loss: 0.4626, Accuracy: 8532/10000 (85.32%)\n",
            "\n",
            "EPOCHS : 2\n"
          ]
        },
        {
          "output_type": "stream",
          "name": "stderr",
          "text": [
            "Loss=0.25335824489593506 Batch_id=87 Accuracy=90.38: 100%|██████████| 88/88 [00:35<00:00,  2.48it/s]\n"
          ]
        },
        {
          "output_type": "stream",
          "name": "stdout",
          "text": [
            "\n",
            "Validation set: Average loss: 0.0009, Accuracy: 4290/5000 (85.80%)\n",
            "\n",
            "\n",
            "Test set: Average loss: 0.4429, Accuracy: 8614/10000 (86.14%)\n",
            "\n",
            "EPOCHS : 3\n"
          ]
        },
        {
          "output_type": "stream",
          "name": "stderr",
          "text": [
            "Loss=0.28099241852760315 Batch_id=87 Accuracy=90.74: 100%|██████████| 88/88 [00:35<00:00,  2.46it/s]\n"
          ]
        },
        {
          "output_type": "stream",
          "name": "stdout",
          "text": [
            "\n",
            "Validation set: Average loss: 0.0008, Accuracy: 4313/5000 (86.26%)\n",
            "\n",
            "\n",
            "Test set: Average loss: 0.4331, Accuracy: 8625/10000 (86.25%)\n",
            "\n",
            "EPOCHS : 4\n"
          ]
        },
        {
          "output_type": "stream",
          "name": "stderr",
          "text": [
            "Loss=0.32031285762786865 Batch_id=87 Accuracy=91.21: 100%|██████████| 88/88 [00:35<00:00,  2.47it/s]\n"
          ]
        },
        {
          "output_type": "stream",
          "name": "stdout",
          "text": [
            "\n",
            "Validation set: Average loss: 0.0008, Accuracy: 4345/5000 (86.90%)\n",
            "\n",
            "\n",
            "Test set: Average loss: 0.4347, Accuracy: 8673/10000 (86.73%)\n",
            "\n",
            "EPOCHS : 5\n"
          ]
        },
        {
          "output_type": "stream",
          "name": "stderr",
          "text": [
            "Loss=0.17366833984851837 Batch_id=87 Accuracy=91.39: 100%|██████████| 88/88 [00:35<00:00,  2.47it/s]\n"
          ]
        },
        {
          "output_type": "stream",
          "name": "stdout",
          "text": [
            "\n",
            "Validation set: Average loss: 0.0008, Accuracy: 4326/5000 (86.52%)\n",
            "\n",
            "\n",
            "Test set: Average loss: 0.4167, Accuracy: 8728/10000 (87.28%)\n",
            "\n",
            "EPOCHS : 6\n"
          ]
        },
        {
          "output_type": "stream",
          "name": "stderr",
          "text": [
            "Loss=0.282592236995697 Batch_id=87 Accuracy=91.91: 100%|██████████| 88/88 [00:35<00:00,  2.47it/s]\n"
          ]
        },
        {
          "output_type": "stream",
          "name": "stdout",
          "text": [
            "\n",
            "Validation set: Average loss: 0.0008, Accuracy: 4351/5000 (87.02%)\n",
            "\n",
            "\n",
            "Test set: Average loss: 0.4146, Accuracy: 8662/10000 (86.62%)\n",
            "\n",
            "EPOCHS : 7\n"
          ]
        },
        {
          "output_type": "stream",
          "name": "stderr",
          "text": [
            "Loss=0.2301790565252304 Batch_id=87 Accuracy=91.92: 100%|██████████| 88/88 [00:35<00:00,  2.46it/s]\n"
          ]
        },
        {
          "output_type": "stream",
          "name": "stdout",
          "text": [
            "\n",
            "Validation set: Average loss: 0.0008, Accuracy: 4365/5000 (87.30%)\n",
            "\n",
            "\n",
            "Test set: Average loss: 0.4210, Accuracy: 8688/10000 (86.88%)\n",
            "\n",
            "EPOCHS : 8\n"
          ]
        },
        {
          "output_type": "stream",
          "name": "stderr",
          "text": [
            "Loss=0.19738075137138367 Batch_id=87 Accuracy=92.35: 100%|██████████| 88/88 [00:35<00:00,  2.46it/s]\n"
          ]
        },
        {
          "output_type": "stream",
          "name": "stdout",
          "text": [
            "\n",
            "Validation set: Average loss: 0.0008, Accuracy: 4399/5000 (87.98%)\n",
            "\n",
            "Epoch 00009: reducing learning rate of group 0 to 5.0000e-04.\n",
            "\n",
            "Test set: Average loss: 0.3883, Accuracy: 8778/10000 (87.78%)\n",
            "\n",
            "EPOCHS : 9\n"
          ]
        },
        {
          "output_type": "stream",
          "name": "stderr",
          "text": [
            "Loss=0.16154111921787262 Batch_id=87 Accuracy=94.22: 100%|██████████| 88/88 [00:35<00:00,  2.46it/s]\n"
          ]
        },
        {
          "output_type": "stream",
          "name": "stdout",
          "text": [
            "\n",
            "Validation set: Average loss: 0.0006, Accuracy: 4493/5000 (89.86%)\n",
            "\n",
            "\n",
            "Test set: Average loss: 0.3085, Accuracy: 9019/10000 (90.19%)\n",
            "\n",
            "EPOCHS : 10\n"
          ]
        },
        {
          "output_type": "stream",
          "name": "stderr",
          "text": [
            "Loss=0.1467628926038742 Batch_id=87 Accuracy=95.05: 100%|██████████| 88/88 [00:35<00:00,  2.47it/s]\n"
          ]
        },
        {
          "output_type": "stream",
          "name": "stdout",
          "text": [
            "\n",
            "Validation set: Average loss: 0.0006, Accuracy: 4513/5000 (90.26%)\n",
            "\n",
            "\n",
            "Test set: Average loss: 0.3017, Accuracy: 9036/10000 (90.36%)\n",
            "\n",
            "EPOCHS : 11\n"
          ]
        },
        {
          "output_type": "stream",
          "name": "stderr",
          "text": [
            "Loss=0.13408519327640533 Batch_id=87 Accuracy=95.40: 100%|██████████| 88/88 [00:35<00:00,  2.47it/s]\n"
          ]
        },
        {
          "output_type": "stream",
          "name": "stdout",
          "text": [
            "\n",
            "Validation set: Average loss: 0.0006, Accuracy: 4518/5000 (90.36%)\n",
            "\n",
            "\n",
            "Test set: Average loss: 0.3003, Accuracy: 9032/10000 (90.32%)\n",
            "\n",
            "EPOCHS : 12\n"
          ]
        },
        {
          "output_type": "stream",
          "name": "stderr",
          "text": [
            "Loss=0.11111806333065033 Batch_id=87 Accuracy=95.47: 100%|██████████| 88/88 [00:35<00:00,  2.46it/s]\n"
          ]
        },
        {
          "output_type": "stream",
          "name": "stdout",
          "text": [
            "\n",
            "Validation set: Average loss: 0.0006, Accuracy: 4520/5000 (90.40%)\n",
            "\n",
            "\n",
            "Test set: Average loss: 0.3006, Accuracy: 9047/10000 (90.47%)\n",
            "\n",
            "EPOCHS : 13\n"
          ]
        },
        {
          "output_type": "stream",
          "name": "stderr",
          "text": [
            "Loss=0.14924854040145874 Batch_id=87 Accuracy=95.63: 100%|██████████| 88/88 [00:35<00:00,  2.47it/s]\n"
          ]
        },
        {
          "output_type": "stream",
          "name": "stdout",
          "text": [
            "\n",
            "Validation set: Average loss: 0.0006, Accuracy: 4530/5000 (90.60%)\n",
            "\n",
            "\n",
            "Test set: Average loss: 0.2964, Accuracy: 9054/10000 (90.54%)\n",
            "\n",
            "EPOCHS : 14\n"
          ]
        },
        {
          "output_type": "stream",
          "name": "stderr",
          "text": [
            "Loss=0.09969531744718552 Batch_id=87 Accuracy=95.56: 100%|██████████| 88/88 [00:35<00:00,  2.47it/s]\n"
          ]
        },
        {
          "output_type": "stream",
          "name": "stdout",
          "text": [
            "\n",
            "Validation set: Average loss: 0.0006, Accuracy: 4535/5000 (90.70%)\n",
            "\n",
            "\n",
            "Test set: Average loss: 0.2988, Accuracy: 9035/10000 (90.35%)\n",
            "\n",
            "EPOCHS : 15\n"
          ]
        },
        {
          "output_type": "stream",
          "name": "stderr",
          "text": [
            "Loss=0.15422001481056213 Batch_id=87 Accuracy=95.78: 100%|██████████| 88/88 [00:35<00:00,  2.47it/s]\n"
          ]
        },
        {
          "output_type": "stream",
          "name": "stdout",
          "text": [
            "\n",
            "Validation set: Average loss: 0.0006, Accuracy: 4516/5000 (90.32%)\n",
            "\n",
            "\n",
            "Test set: Average loss: 0.2976, Accuracy: 9041/10000 (90.41%)\n",
            "\n",
            "EPOCHS : 16\n"
          ]
        },
        {
          "output_type": "stream",
          "name": "stderr",
          "text": [
            "Loss=0.12776793539524078 Batch_id=87 Accuracy=95.95: 100%|██████████| 88/88 [00:35<00:00,  2.46it/s]\n"
          ]
        },
        {
          "output_type": "stream",
          "name": "stdout",
          "text": [
            "\n",
            "Validation set: Average loss: 0.0006, Accuracy: 4523/5000 (90.46%)\n",
            "\n",
            "\n",
            "Test set: Average loss: 0.2962, Accuracy: 9052/10000 (90.52%)\n",
            "\n",
            "EPOCHS : 17\n"
          ]
        },
        {
          "output_type": "stream",
          "name": "stderr",
          "text": [
            "Loss=0.12350722402334213 Batch_id=87 Accuracy=96.08: 100%|██████████| 88/88 [00:35<00:00,  2.46it/s]\n"
          ]
        },
        {
          "output_type": "stream",
          "name": "stdout",
          "text": [
            "\n",
            "Validation set: Average loss: 0.0006, Accuracy: 4520/5000 (90.40%)\n",
            "\n",
            "Epoch 00018: reducing learning rate of group 0 to 2.5000e-05.\n",
            "\n",
            "Test set: Average loss: 0.2952, Accuracy: 9054/10000 (90.54%)\n",
            "\n",
            "EPOCHS : 18\n"
          ]
        },
        {
          "output_type": "stream",
          "name": "stderr",
          "text": [
            "Loss=0.14224375784397125 Batch_id=87 Accuracy=96.05: 100%|██████████| 88/88 [00:35<00:00,  2.47it/s]\n"
          ]
        },
        {
          "output_type": "stream",
          "name": "stdout",
          "text": [
            "\n",
            "Validation set: Average loss: 0.0006, Accuracy: 4528/5000 (90.56%)\n",
            "\n",
            "\n",
            "Test set: Average loss: 0.2934, Accuracy: 9056/10000 (90.56%)\n",
            "\n",
            "EPOCHS : 19\n"
          ]
        },
        {
          "output_type": "stream",
          "name": "stderr",
          "text": [
            "Loss=0.1593792885541916 Batch_id=87 Accuracy=96.00: 100%|██████████| 88/88 [00:35<00:00,  2.47it/s]\n"
          ]
        },
        {
          "output_type": "stream",
          "name": "stdout",
          "text": [
            "\n",
            "Validation set: Average loss: 0.0006, Accuracy: 4529/5000 (90.58%)\n",
            "\n",
            "\n",
            "Test set: Average loss: 0.2929, Accuracy: 9056/10000 (90.56%)\n",
            "\n",
            "EPOCHS : 20\n"
          ]
        },
        {
          "output_type": "stream",
          "name": "stderr",
          "text": [
            "Loss=0.12193109840154648 Batch_id=87 Accuracy=96.02: 100%|██████████| 88/88 [00:35<00:00,  2.46it/s]\n"
          ]
        },
        {
          "output_type": "stream",
          "name": "stdout",
          "text": [
            "\n",
            "Validation set: Average loss: 0.0006, Accuracy: 4528/5000 (90.56%)\n",
            "\n",
            "Epoch 00021: reducing learning rate of group 0 to 1.2500e-06.\n",
            "\n",
            "Test set: Average loss: 0.2930, Accuracy: 9061/10000 (90.61%)\n",
            "\n",
            "EPOCHS : 21\n"
          ]
        },
        {
          "output_type": "stream",
          "name": "stderr",
          "text": [
            "Loss=0.1469707489013672 Batch_id=87 Accuracy=96.12: 100%|██████████| 88/88 [00:35<00:00,  2.48it/s]\n"
          ]
        },
        {
          "output_type": "stream",
          "name": "stdout",
          "text": [
            "\n",
            "Validation set: Average loss: 0.0006, Accuracy: 4523/5000 (90.46%)\n",
            "\n",
            "\n",
            "Test set: Average loss: 0.2945, Accuracy: 9054/10000 (90.54%)\n",
            "\n",
            "EPOCHS : 22\n"
          ]
        },
        {
          "output_type": "stream",
          "name": "stderr",
          "text": [
            "Loss=0.10766169428825378 Batch_id=87 Accuracy=96.01: 100%|██████████| 88/88 [00:35<00:00,  2.46it/s]\n"
          ]
        },
        {
          "output_type": "stream",
          "name": "stdout",
          "text": [
            "\n",
            "Validation set: Average loss: 0.0006, Accuracy: 4528/5000 (90.56%)\n",
            "\n",
            "\n",
            "Test set: Average loss: 0.2928, Accuracy: 9051/10000 (90.51%)\n",
            "\n",
            "EPOCHS : 23\n"
          ]
        },
        {
          "output_type": "stream",
          "name": "stderr",
          "text": [
            "Loss=0.11962193995714188 Batch_id=87 Accuracy=96.02: 100%|██████████| 88/88 [00:35<00:00,  2.48it/s]\n"
          ]
        },
        {
          "output_type": "stream",
          "name": "stdout",
          "text": [
            "\n",
            "Validation set: Average loss: 0.0006, Accuracy: 4527/5000 (90.54%)\n",
            "\n",
            "Epoch 00024: reducing learning rate of group 0 to 6.2500e-08.\n",
            "\n",
            "Test set: Average loss: 0.2933, Accuracy: 9060/10000 (90.60%)\n",
            "\n",
            "EPOCHS : 24\n"
          ]
        },
        {
          "output_type": "stream",
          "name": "stderr",
          "text": [
            "Loss=0.11549177020788193 Batch_id=87 Accuracy=96.08: 100%|██████████| 88/88 [00:35<00:00,  2.47it/s]\n"
          ]
        },
        {
          "output_type": "stream",
          "name": "stdout",
          "text": [
            "\n",
            "Validation set: Average loss: 0.0006, Accuracy: 4529/5000 (90.58%)\n",
            "\n",
            "\n",
            "Test set: Average loss: 0.2930, Accuracy: 9055/10000 (90.55%)\n",
            "\n",
            "EPOCHS : 25\n"
          ]
        },
        {
          "output_type": "stream",
          "name": "stderr",
          "text": [
            "Loss=0.15349888801574707 Batch_id=87 Accuracy=96.00: 100%|██████████| 88/88 [00:35<00:00,  2.46it/s]\n"
          ]
        },
        {
          "output_type": "stream",
          "name": "stdout",
          "text": [
            "\n",
            "Validation set: Average loss: 0.0006, Accuracy: 4529/5000 (90.58%)\n",
            "\n",
            "\n",
            "Test set: Average loss: 0.2931, Accuracy: 9056/10000 (90.56%)\n",
            "\n",
            "EPOCHS : 26\n"
          ]
        },
        {
          "output_type": "stream",
          "name": "stderr",
          "text": [
            "Loss=0.14157523214817047 Batch_id=87 Accuracy=96.28: 100%|██████████| 88/88 [00:35<00:00,  2.46it/s]\n"
          ]
        },
        {
          "output_type": "stream",
          "name": "stdout",
          "text": [
            "\n",
            "Validation set: Average loss: 0.0006, Accuracy: 4530/5000 (90.60%)\n",
            "\n",
            "Epoch 00027: reducing learning rate of group 0 to 3.1250e-09.\n",
            "\n",
            "Test set: Average loss: 0.2929, Accuracy: 9056/10000 (90.56%)\n",
            "\n",
            "EPOCHS : 27\n"
          ]
        },
        {
          "output_type": "stream",
          "name": "stderr",
          "text": [
            "Loss=0.10871491581201553 Batch_id=87 Accuracy=96.00: 100%|██████████| 88/88 [00:35<00:00,  2.46it/s]\n"
          ]
        },
        {
          "output_type": "stream",
          "name": "stdout",
          "text": [
            "\n",
            "Validation set: Average loss: 0.0006, Accuracy: 4529/5000 (90.58%)\n",
            "\n",
            "\n",
            "Test set: Average loss: 0.2935, Accuracy: 9050/10000 (90.50%)\n",
            "\n",
            "EPOCHS : 28\n"
          ]
        },
        {
          "output_type": "stream",
          "name": "stderr",
          "text": [
            "Loss=0.17259056866168976 Batch_id=87 Accuracy=96.10: 100%|██████████| 88/88 [00:35<00:00,  2.46it/s]\n"
          ]
        },
        {
          "output_type": "stream",
          "name": "stdout",
          "text": [
            "\n",
            "Validation set: Average loss: 0.0006, Accuracy: 4527/5000 (90.54%)\n",
            "\n",
            "\n",
            "Test set: Average loss: 0.2931, Accuracy: 9051/10000 (90.51%)\n",
            "\n",
            "EPOCHS : 29\n"
          ]
        },
        {
          "output_type": "stream",
          "name": "stderr",
          "text": [
            "Loss=0.1152537614107132 Batch_id=87 Accuracy=95.98: 100%|██████████| 88/88 [00:35<00:00,  2.46it/s]\n"
          ]
        },
        {
          "output_type": "stream",
          "name": "stdout",
          "text": [
            "\n",
            "Validation set: Average loss: 0.0006, Accuracy: 4525/5000 (90.50%)\n",
            "\n",
            "\n",
            "Test set: Average loss: 0.2938, Accuracy: 9055/10000 (90.55%)\n",
            "\n",
            "EPOCHS : 30\n"
          ]
        },
        {
          "output_type": "stream",
          "name": "stderr",
          "text": [
            "Loss=0.1171237900853157 Batch_id=87 Accuracy=95.97: 100%|██████████| 88/88 [00:35<00:00,  2.47it/s]\n"
          ]
        },
        {
          "output_type": "stream",
          "name": "stdout",
          "text": [
            "\n",
            "Validation set: Average loss: 0.0006, Accuracy: 4525/5000 (90.50%)\n",
            "\n",
            "\n",
            "Test set: Average loss: 0.2938, Accuracy: 9059/10000 (90.59%)\n",
            "\n",
            "EPOCHS : 31\n"
          ]
        },
        {
          "output_type": "stream",
          "name": "stderr",
          "text": [
            "Loss=0.13253119587898254 Batch_id=87 Accuracy=95.91: 100%|██████████| 88/88 [00:35<00:00,  2.47it/s]\n"
          ]
        },
        {
          "output_type": "stream",
          "name": "stdout",
          "text": [
            "\n",
            "Validation set: Average loss: 0.0006, Accuracy: 4532/5000 (90.64%)\n",
            "\n",
            "\n",
            "Test set: Average loss: 0.2931, Accuracy: 9056/10000 (90.56%)\n",
            "\n",
            "EPOCHS : 32\n"
          ]
        },
        {
          "output_type": "stream",
          "name": "stderr",
          "text": [
            "Loss=0.12380511313676834 Batch_id=87 Accuracy=96.05: 100%|██████████| 88/88 [00:35<00:00,  2.47it/s]\n"
          ]
        },
        {
          "output_type": "stream",
          "name": "stdout",
          "text": [
            "\n",
            "Validation set: Average loss: 0.0006, Accuracy: 4527/5000 (90.54%)\n",
            "\n",
            "\n",
            "Test set: Average loss: 0.2931, Accuracy: 9054/10000 (90.54%)\n",
            "\n",
            "EPOCHS : 33\n"
          ]
        },
        {
          "output_type": "stream",
          "name": "stderr",
          "text": [
            "Loss=0.11300012469291687 Batch_id=87 Accuracy=96.01: 100%|██████████| 88/88 [00:35<00:00,  2.46it/s]\n"
          ]
        },
        {
          "output_type": "stream",
          "name": "stdout",
          "text": [
            "\n",
            "Validation set: Average loss: 0.0006, Accuracy: 4525/5000 (90.50%)\n",
            "\n",
            "\n",
            "Test set: Average loss: 0.2940, Accuracy: 9058/10000 (90.58%)\n",
            "\n",
            "EPOCHS : 34\n"
          ]
        },
        {
          "output_type": "stream",
          "name": "stderr",
          "text": [
            "Loss=0.14878766238689423 Batch_id=87 Accuracy=95.98: 100%|██████████| 88/88 [00:35<00:00,  2.47it/s]\n"
          ]
        },
        {
          "output_type": "stream",
          "name": "stdout",
          "text": [
            "\n",
            "Validation set: Average loss: 0.0006, Accuracy: 4526/5000 (90.52%)\n",
            "\n",
            "\n",
            "Test set: Average loss: 0.2935, Accuracy: 9056/10000 (90.56%)\n",
            "\n",
            "EPOCHS : 35\n"
          ]
        },
        {
          "output_type": "stream",
          "name": "stderr",
          "text": [
            "Loss=0.13955187797546387 Batch_id=87 Accuracy=96.17: 100%|██████████| 88/88 [00:35<00:00,  2.47it/s]\n"
          ]
        },
        {
          "output_type": "stream",
          "name": "stdout",
          "text": [
            "\n",
            "Validation set: Average loss: 0.0006, Accuracy: 4528/5000 (90.56%)\n",
            "\n",
            "\n",
            "Test set: Average loss: 0.2931, Accuracy: 9058/10000 (90.58%)\n",
            "\n",
            "EPOCHS : 36\n"
          ]
        },
        {
          "output_type": "stream",
          "name": "stderr",
          "text": [
            "Loss=0.1057622954249382 Batch_id=87 Accuracy=96.18: 100%|██████████| 88/88 [00:35<00:00,  2.46it/s]\n"
          ]
        },
        {
          "output_type": "stream",
          "name": "stdout",
          "text": [
            "\n",
            "Validation set: Average loss: 0.0006, Accuracy: 4526/5000 (90.52%)\n",
            "\n",
            "\n",
            "Test set: Average loss: 0.2935, Accuracy: 9061/10000 (90.61%)\n",
            "\n",
            "EPOCHS : 37\n"
          ]
        },
        {
          "output_type": "stream",
          "name": "stderr",
          "text": [
            "Loss=0.11367309838533401 Batch_id=87 Accuracy=96.20: 100%|██████████| 88/88 [00:35<00:00,  2.46it/s]\n"
          ]
        },
        {
          "output_type": "stream",
          "name": "stdout",
          "text": [
            "\n",
            "Validation set: Average loss: 0.0006, Accuracy: 4523/5000 (90.46%)\n",
            "\n",
            "\n",
            "Test set: Average loss: 0.2938, Accuracy: 9054/10000 (90.54%)\n",
            "\n",
            "EPOCHS : 38\n"
          ]
        },
        {
          "output_type": "stream",
          "name": "stderr",
          "text": [
            "Loss=0.14975713193416595 Batch_id=87 Accuracy=95.89: 100%|██████████| 88/88 [00:35<00:00,  2.47it/s]\n"
          ]
        },
        {
          "output_type": "stream",
          "name": "stdout",
          "text": [
            "\n",
            "Validation set: Average loss: 0.0006, Accuracy: 4525/5000 (90.50%)\n",
            "\n",
            "\n",
            "Test set: Average loss: 0.2935, Accuracy: 9061/10000 (90.61%)\n",
            "\n",
            "EPOCHS : 39\n"
          ]
        },
        {
          "output_type": "stream",
          "name": "stderr",
          "text": [
            "Loss=0.12279129028320312 Batch_id=87 Accuracy=95.99: 100%|██████████| 88/88 [00:35<00:00,  2.46it/s]\n"
          ]
        },
        {
          "output_type": "stream",
          "name": "stdout",
          "text": [
            "\n",
            "Validation set: Average loss: 0.0006, Accuracy: 4526/5000 (90.52%)\n",
            "\n",
            "\n",
            "Test set: Average loss: 0.2935, Accuracy: 9050/10000 (90.50%)\n",
            "\n"
          ]
        }
      ],
      "source": [
        "# Training the model\n",
        "\n",
        "criterion = nn.CrossEntropyLoss()\n",
        "optimizer = optim.SGD(model.parameters(), lr=0.01, momentum=0.9)\n",
        "scheduler = ReduceLROnPlateau(optimizer, mode='min', factor=0.05, patience=2, threshold=0.0001, threshold_mode='rel', cooldown=0, min_lr=0, eps=1e-08, verbose=True)\n",
        "# scheduler = StepLR(optimizer, step_size=15, gamma=0.1)\n",
        "\n",
        "train_acc = []\n",
        "train_losses = []\n",
        "valid_accs = []\n",
        "valid_losses = []\n",
        "test_acc = []\n",
        "test_losses = []\n",
        "min_valid_loss = None\n",
        "\n",
        "EPOCHS = 40\n",
        "\n",
        "for i in range(EPOCHS):\n",
        "    print(f'EPOCHS : {i}')\n",
        "    model_training(model, device, trainloader, optimizer, train_acc, train_losses)\n",
        "\n",
        "    # Validating the model for the current epoch\n",
        "    valid_loss, valid_acc = model_evaluation(model, device, validloader)  \n",
        "\n",
        "    valid_losses.append(valid_loss)\n",
        "    valid_accs.append(valid_acc)\n",
        "\n",
        "    if not min_valid_loss:\n",
        "      min_valid_loss = valid_loss\n",
        "    else:\n",
        "      if valid_loss < min_valid_loss:\n",
        "        min_valid_loss = valid_loss\n",
        "        torch.save(model, \"best_model.pickle\")\n",
        "\n",
        "    scheduler.step(train_losses[-1])\n",
        "    misclassified = model_testing(model, device, testloader, test_acc, test_losses)"
      ]
    },
    {
      "cell_type": "code",
      "source": [
        "# Best model\n",
        "model = torch.load(\"best_model.pickle\")\n",
        "misclassified = model_testing(model, device, testloader, test_acc, test_losses)"
      ],
      "metadata": {
        "colab": {
          "base_uri": "https://localhost:8080/"
        },
        "id": "ocguQ5Q9p1Kt",
        "outputId": "91638185-8c0d-40ac-9a13-9ceaa5bc5997"
      },
      "execution_count": 25,
      "outputs": [
        {
          "output_type": "stream",
          "name": "stdout",
          "text": [
            "\n",
            "Test set: Average loss: 0.2931, Accuracy: 9056/10000 (90.56%)\n",
            "\n"
          ]
        }
      ]
    },
    {
      "cell_type": "code",
      "execution_count": 26,
      "metadata": {
        "execution": {
          "iopub.execute_input": "2020-09-18T14:33:11.004455Z",
          "iopub.status.busy": "2020-09-18T14:33:11.003592Z",
          "iopub.status.idle": "2020-09-18T14:33:11.886161Z",
          "shell.execute_reply": "2020-09-18T14:33:11.885385Z"
        },
        "papermill": {
          "duration": 4.212753,
          "end_time": "2020-09-18T14:33:11.886294",
          "exception": false,
          "start_time": "2020-09-18T14:33:07.673541",
          "status": "completed"
        },
        "tags": [],
        "colab": {
          "base_uri": "https://localhost:8080/",
          "height": 1000
        },
        "id": "3pYBPl8HKs_o",
        "outputId": "3f75d5a1-bf7b-4287-c932-7f510fef5726"
      },
      "outputs": [
        {
          "output_type": "execute_result",
          "data": {
            "text/plain": [
              "[<matplotlib.lines.Line2D at 0x7f6122aa1350>]"
            ]
          },
          "metadata": {},
          "execution_count": 26
        },
        {
          "output_type": "display_data",
          "data": {
            "text/plain": [
              "<Figure size 1800x1440 with 4 Axes>"
            ],
            "image/png": "[encoded data removed]"
          },
          "metadata": {
            "needs_background": "light"
          }
        }
      ],
      "source": [
        "fig, axs = plt.subplots(2,2, figsize=(25,20))\n",
        "\n",
        "axs[0,0].set_title('Train Losses')\n",
        "axs[0,1].set_title('Training Accuracy')\n",
        "axs[1,0].set_title('Test Losses')\n",
        "axs[1,1].set_title('Test Accuracy')\n",
        "\n",
        "axs[0,0].plot(train_losses)\n",
        "axs[0,1].plot(train_acc)\n",
        "axs[1,0].plot(test_losses)\n",
        "axs[1,1].plot(test_acc)"
      ]
    },
    {
      "cell_type": "code",
      "source": [],
      "metadata": {
        "id": "DlPU6Co4ns_R"
      },
      "execution_count": null,
      "outputs": []
    }
  ],
  "metadata": {
    "kernelspec": {
      "display_name": "Python 3",
      "language": "python",
      "name": "python3"
    },
    "language_info": {
      "codemirror_mode": {
        "name": "ipython",
        "version": 3
      },
      "file_extension": ".py",
      "mimetype": "text/x-python",
      "name": "python",
      "nbconvert_exporter": "python",
      "pygments_lexer": "ipython3",
      "version": "3.7.6"
    },
    "papermill": {
      "duration": 1617.594216,
      "end_time": "2020-09-18T14:33:16.593563",
      "environment_variables": {},
      "exception": null,
      "input_path": "__notebook__.ipynb",
      "output_path": "__notebook__.ipynb",
      "parameters": {},
      "start_time": "2020-09-18T14:06:18.999347",
      "version": "2.1.0"
    },
    "colab": {
      "provenance": [],
      "machine_shape": "hm"
    },
    "accelerator": "GPU",
    "gpuClass": "standard",
    "widgets": {
      "application/vnd.jupyter.widget-state+json": {
        "a37259e65c424e158dd3ea414113d6eb": {
          "model_module": "@jupyter-widgets/controls",
          "model_name": "HBoxModel",
          "model_module_version": "1.5.0",
          "state": {
            "_dom_classes": [],
            "_model_module": "@jupyter-widgets/controls",
            "_model_module_version": "1.5.0",
            "_model_name": "HBoxModel",
            "_view_count": null,
            "_view_module": "@jupyter-widgets/controls",
            "_view_module_version": "1.5.0",
            "_view_name": "HBoxView",
            "box_style": "",
            "children": [
              "IPY_MODEL_45c2b2fe15194ce18e0964e18ec09382",
              "IPY_MODEL_de34b6f2a3a549699a38f01d355ad6c4",
              "IPY_MODEL_cd7f3e18ca1749988649742c60108880"
            ],
            "layout": "IPY_MODEL_b5c252a0d09e4e00a80af2a593ad46c0"
          }
        },
        "45c2b2fe15194ce18e0964e18ec09382": {
          "model_module": "@jupyter-widgets/controls",
          "model_name": "HTMLModel",
          "model_module_version": "1.5.0",
          "state": {
            "_dom_classes": [],
            "_model_module": "@jupyter-widgets/controls",
            "_model_module_version": "1.5.0",
            "_model_name": "HTMLModel",
            "_view_count": null,
            "_view_module": "@jupyter-widgets/controls",
            "_view_module_version": "1.5.0",
            "_view_name": "HTMLView",
            "description": "",
            "description_tooltip": null,
            "layout": "IPY_MODEL_2da549cab37f47609e68e7a25d1ae2e0",
            "placeholder": "​",
            "style": "IPY_MODEL_1d4dfcd8e7394c9a808478d913665a54",
            "value": "100%"
          }
        },
        "de34b6f2a3a549699a38f01d355ad6c4": {
          "model_module": "@jupyter-widgets/controls",
          "model_name": "FloatProgressModel",
          "model_module_version": "1.5.0",
          "state": {
            "_dom_classes": [],
            "_model_module": "@jupyter-widgets/controls",
            "_model_module_version": "1.5.0",
            "_model_name": "FloatProgressModel",
            "_view_count": null,
            "_view_module": "@jupyter-widgets/controls",
            "_view_module_version": "1.5.0",
            "_view_name": "ProgressView",
            "bar_style": "success",
            "description": "",
            "description_tooltip": null,
            "layout": "IPY_MODEL_3e314d7a24274b5cb4eb8d83d9b4af83",
            "max": 170498071,
            "min": 0,
            "orientation": "horizontal",
            "style": "IPY_MODEL_304ee936088a4d54856163dabf829d44",
            "value": 170498071
          }
        },
        "cd7f3e18ca1749988649742c60108880": {
          "model_module": "@jupyter-widgets/controls",
          "model_name": "HTMLModel",
          "model_module_version": "1.5.0",
          "state": {
            "_dom_classes": [],
            "_model_module": "@jupyter-widgets/controls",
            "_model_module_version": "1.5.0",
            "_model_name": "HTMLModel",
            "_view_count": null,
            "_view_module": "@jupyter-widgets/controls",
            "_view_module_version": "1.5.0",
            "_view_name": "HTMLView",
            "description": "",
            "description_tooltip": null,
            "layout": "IPY_MODEL_e25792994a634152ac74cc7b8ac8499b",
            "placeholder": "​",
            "style": "IPY_MODEL_81aca401f11a4136bbfb025baf9233bb",
            "value": " 170498071/170498071 [00:10&lt;00:00, 17240234.36it/s]"
          }
        },
        "b5c252a0d09e4e00a80af2a593ad46c0": {
          "model_module": "@jupyter-widgets/base",
          "model_name": "LayoutModel",
          "model_module_version": "1.2.0",
          "state": {
            "_model_module": "@jupyter-widgets/base",
            "_model_module_version": "1.2.0",
            "_model_name": "LayoutModel",
            "_view_count": null,
            "_view_module": "@jupyter-widgets/base",
            "_view_module_version": "1.2.0",
            "_view_name": "LayoutView",
            "align_content": null,
            "align_items": null,
            "align_self": null,
            "border": null,
            "bottom": null,
            "display": null,
            "flex": null,
            "flex_flow": null,
            "grid_area": null,
            "grid_auto_columns": null,
            "grid_auto_flow": null,
            "grid_auto_rows": null,
            "grid_column": null,
            "grid_gap": null,
            "grid_row": null,
            "grid_template_areas": null,
            "grid_template_columns": null,
            "grid_template_rows": null,
            "height": null,
            "justify_content": null,
            "justify_items": null,
            "left": null,
            "margin": null,
            "max_height": null,
            "max_width": null,
            "min_height": null,
            "min_width": null,
            "object_fit": null,
            "object_position": null,
            "order": null,
            "overflow": null,
            "overflow_x": null,
            "overflow_y": null,
            "padding": null,
            "right": null,
            "top": null,
            "visibility": null,
            "width": null
          }
        },
        "2da549cab37f47609e68e7a25d1ae2e0": {
          "model_module": "@jupyter-widgets/base",
          "model_name": "LayoutModel",
          "model_module_version": "1.2.0",
          "state": {
            "_model_module": "@jupyter-widgets/base",
            "_model_module_version": "1.2.0",
            "_model_name": "LayoutModel",
            "_view_count": null,
            "_view_module": "@jupyter-widgets/base",
            "_view_module_version": "1.2.0",
            "_view_name": "LayoutView",
            "align_content": null,
            "align_items": null,
            "align_self": null,
            "border": null,
            "bottom": null,
            "display": null,
            "flex": null,
            "flex_flow": null,
            "grid_area": null,
            "grid_auto_columns": null,
            "grid_auto_flow": null,
            "grid_auto_rows": null,
            "grid_column": null,
            "grid_gap": null,
            "grid_row": null,
            "grid_template_areas": null,
            "grid_template_columns": null,
            "grid_template_rows": null,
            "height": null,
            "justify_content": null,
            "justify_items": null,
            "left": null,
            "margin": null,
            "max_height": null,
            "max_width": null,
            "min_height": null,
            "min_width": null,
            "object_fit": null,
            "object_position": null,
            "order": null,
            "overflow": null,
            "overflow_x": null,
            "overflow_y": null,
            "padding": null,
            "right": null,
            "top": null,
            "visibility": null,
            "width": null
          }
        },
        "1d4dfcd8e7394c9a808478d913665a54": {
          "model_module": "@jupyter-widgets/controls",
          "model_name": "DescriptionStyleModel",
          "model_module_version": "1.5.0",
          "state": {
            "_model_module": "@jupyter-widgets/controls",
            "_model_module_version": "1.5.0",
            "_model_name": "DescriptionStyleModel",
            "_view_count": null,
            "_view_module": "@jupyter-widgets/base",
            "_view_module_version": "1.2.0",
            "_view_name": "StyleView",
            "description_width": ""
          }
        },
        "3e314d7a24274b5cb4eb8d83d9b4af83": {
          "model_module": "@jupyter-widgets/base",
          "model_name": "LayoutModel",
          "model_module_version": "1.2.0",
          "state": {
            "_model_module": "@jupyter-widgets/base",
            "_model_module_version": "1.2.0",
            "_model_name": "LayoutModel",
            "_view_count": null,
            "_view_module": "@jupyter-widgets/base",
            "_view_module_version": "1.2.0",
            "_view_name": "LayoutView",
            "align_content": null,
            "align_items": null,
            "align_self": null,
            "border": null,
            "bottom": null,
            "display": null,
            "flex": null,
            "flex_flow": null,
            "grid_area": null,
            "grid_auto_columns": null,
            "grid_auto_flow": null,
            "grid_auto_rows": null,
            "grid_column": null,
            "grid_gap": null,
            "grid_row": null,
            "grid_template_areas": null,
            "grid_template_columns": null,
            "grid_template_rows": null,
            "height": null,
            "justify_content": null,
            "justify_items": null,
            "left": null,
            "margin": null,
            "max_height": null,
            "max_width": null,
            "min_height": null,
            "min_width": null,
            "object_fit": null,
            "object_position": null,
            "order": null,
            "overflow": null,
            "overflow_x": null,
            "overflow_y": null,
            "padding": null,
            "right": null,
            "top": null,
            "visibility": null,
            "width": null
          }
        },
        "304ee936088a4d54856163dabf829d44": {
          "model_module": "@jupyter-widgets/controls",
          "model_name": "ProgressStyleModel",
          "model_module_version": "1.5.0",
          "state": {
            "_model_module": "@jupyter-widgets/controls",
            "_model_module_version": "1.5.0",
            "_model_name": "ProgressStyleModel",
            "_view_count": null,
            "_view_module": "@jupyter-widgets/base",
            "_view_module_version": "1.2.0",
            "_view_name": "StyleView",
            "bar_color": null,
            "description_width": ""
          }
        },
        "e25792994a634152ac74cc7b8ac8499b": {
          "model_module": "@jupyter-widgets/base",
          "model_name": "LayoutModel",
          "model_module_version": "1.2.0",
          "state": {
            "_model_module": "@jupyter-widgets/base",
            "_model_module_version": "1.2.0",
            "_model_name": "LayoutModel",
            "_view_count": null,
            "_view_module": "@jupyter-widgets/base",
            "_view_module_version": "1.2.0",
            "_view_name": "LayoutView",
            "align_content": null,
            "align_items": null,
            "align_self": null,
            "border": null,
            "bottom": null,
            "display": null,
            "flex": null,
            "flex_flow": null,
            "grid_area": null,
            "grid_auto_columns": null,
            "grid_auto_flow": null,
            "grid_auto_rows": null,
            "grid_column": null,
            "grid_gap": null,
            "grid_row": null,
            "grid_template_areas": null,
            "grid_template_columns": null,
            "grid_template_rows": null,
            "height": null,
            "justify_content": null,
            "justify_items": null,
            "left": null,
            "margin": null,
            "max_height": null,
            "max_width": null,
            "min_height": null,
            "min_width": null,
            "object_fit": null,
            "object_position": null,
            "order": null,
            "overflow": null,
            "overflow_x": null,
            "overflow_y": null,
            "padding": null,
            "right": null,
            "top": null,
            "visibility": null,
            "width": null
          }
        },
        "81aca401f11a4136bbfb025baf9233bb": {
          "model_module": "@jupyter-widgets/controls",
          "model_name": "DescriptionStyleModel",
          "model_module_version": "1.5.0",
          "state": {
            "_model_module": "@jupyter-widgets/controls",
            "_model_module_version": "1.5.0",
            "_model_name": "DescriptionStyleModel",
            "_view_count": null,
            "_view_module": "@jupyter-widgets/base",
            "_view_module_version": "1.2.0",
            "_view_name": "StyleView",
            "description_width": ""
          }
        }
      }
    }
  },
  "nbformat": 4,
  "nbformat_minor": 0
}