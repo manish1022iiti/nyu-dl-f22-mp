{
  "cells": [
    {
      "cell_type": "markdown",
      "source": [
        "https://www.kaggle.com/code/greatcodes/pytorch-cnn-resnet18-cifar10/notebook\n",
        "\n",
        "https://pytorch-tutorial.readthedocs.io/en/latest/tutorial/chapter03_intermediate/3_2_2_cnn_resnet_cifar10/"
      ],
      "metadata": {
        "id": "TS3R6-AKKuSD"
      }
    },
    {
      "cell_type": "code",
      "execution_count": 1,
      "metadata": {
        "execution": {
          "iopub.execute_input": "2020-09-18T14:06:23.323276Z",
          "iopub.status.busy": "2020-09-18T14:06:23.322403Z",
          "iopub.status.idle": "2020-09-18T14:06:33.073785Z",
          "shell.execute_reply": "2020-09-18T14:06:33.073171Z"
        },
        "papermill": {
          "duration": 9.766997,
          "end_time": "2020-09-18T14:06:33.073915",
          "exception": false,
          "start_time": "2020-09-18T14:06:23.306918",
          "status": "completed"
        },
        "tags": [],
        "colab": {
          "base_uri": "https://localhost:8080/"
        },
        "id": "40qwzP9AKs_c",
        "outputId": "a081f14f-60b2-4075-c3f8-330f6bce33f5"
      },
      "outputs": [
        {
          "output_type": "stream",
          "name": "stdout",
          "text": [
            "Looking in indexes: https://pypi.org/simple, https://us-python.pkg.dev/colab-wheels/public/simple/\n",
            "Requirement already satisfied: torchsummary in /usr/local/lib/python3.7/dist-packages (1.5.1)\n"
          ]
        }
      ],
      "source": [
        "!pip install torchsummary"
      ]
    },
    {
      "cell_type": "code",
      "execution_count": 2,
      "metadata": {
        "_cell_guid": "79c7e3d0-c299-4dcb-8224-4455121ee9b0",
        "_uuid": "d629ff2d2480ee46fbb7e2d37f6b5fab8052498a",
        "execution": {
          "iopub.execute_input": "2020-09-18T14:06:33.110540Z",
          "iopub.status.busy": "2020-09-18T14:06:33.109616Z",
          "iopub.status.idle": "2020-09-18T14:06:34.741497Z",
          "shell.execute_reply": "2020-09-18T14:06:34.742236Z"
        },
        "papermill": {
          "duration": 1.655486,
          "end_time": "2020-09-18T14:06:34.742433",
          "exception": false,
          "start_time": "2020-09-18T14:06:33.086947",
          "status": "completed"
        },
        "tags": [],
        "colab": {
          "base_uri": "https://localhost:8080/"
        },
        "id": "1L1ayeUjKs_d",
        "outputId": "1c953423-6697-4c42-de84-8a2d3403dead"
      },
      "outputs": [
        {
          "output_type": "stream",
          "name": "stdout",
          "text": [
            "cuda\n"
          ]
        }
      ],
      "source": [
        "# Importing Libraries\n",
        "import os\n",
        "import copy\n",
        "import random\n",
        "import numpy as np\n",
        "import pandas as pd\n",
        "import torch\n",
        "import torchvision\n",
        "import torchvision.transforms as transforms\n",
        "from torchsummary import summary\n",
        "import torch.utils.data as data\n",
        "import torch.nn as nn\n",
        "import torch.nn.functional as F\n",
        "import torch.optim as optim\n",
        "from torch.optim.lr_scheduler import StepLR, ReduceLROnPlateau\n",
        "\n",
        "import matplotlib.pyplot as plt\n",
        "%matplotlib inline\n",
        "\n",
        "SEED = 1234\n",
        "\n",
        "device = \"cuda\" if torch.cuda.is_available else \"cpu\"\n",
        "print(device)"
      ]
    },
    {
      "cell_type": "code",
      "execution_count": 3,
      "metadata": {
        "execution": {
          "iopub.execute_input": "2020-09-18T14:06:34.781123Z",
          "iopub.status.busy": "2020-09-18T14:06:34.780293Z",
          "iopub.status.idle": "2020-09-18T14:06:34.784939Z",
          "shell.execute_reply": "2020-09-18T14:06:34.784333Z"
        },
        "papermill": {
          "duration": 0.028551,
          "end_time": "2020-09-18T14:06:34.785089",
          "exception": false,
          "start_time": "2020-09-18T14:06:34.756538",
          "status": "completed"
        },
        "tags": [],
        "id": "s_5gkccjKs_e"
      },
      "outputs": [],
      "source": [
        "from torchvision import transforms\n",
        "import numpy as np\n",
        "import torch\n",
        "\n",
        "# Returns a list of transformations when called\n",
        "\n",
        "class GetTransforms():\n",
        "    '''Returns a list of transformations when type as requested amongst train/test\n",
        "       Transforms('train') = list of transforms to apply on training data\n",
        "       Transforms('test') = list of transforms to apply on testing data'''\n",
        "\n",
        "    def __init__(self):\n",
        "        pass\n",
        "\n",
        "    def trainparams(self):\n",
        "        train_transformations = [ #resises the image so it can be perfect for our model.\n",
        "            transforms.RandomHorizontalFlip(), # FLips the image w.r.t horizontal axis\n",
        "            transforms.RandomRotation((-7,7)),     #Rotates the image to a specified angel\n",
        "            transforms.RandomAffine(0, shear=10, scale=(0.8,1.2)), #Performs actions like zooms, change shear angles.\n",
        "            transforms.ColorJitter(brightness=0.2, contrast=0.2, saturation=0.2), # Set the color params\n",
        "            transforms.ToTensor(), # comvert the image to tensor so that it can work with torch\n",
        "            transforms.Normalize((0.491, 0.482, 0.446), (0.247, 0.243, 0.261)) #Normalize all the images\n",
        "            ]\n",
        "\n",
        "        return train_transformations\n",
        "\n",
        "    def testparams(self):\n",
        "        test_transforms = [\n",
        "            transforms.ToTensor(),\n",
        "            transforms.Normalize((0.491, 0.482, 0.446), (0.247, 0.243, 0.261))\n",
        "        ]\n",
        "        return test_transforms"
      ]
    },
    {
      "cell_type": "code",
      "execution_count": 4,
      "metadata": {
        "execution": {
          "iopub.execute_input": "2020-09-18T14:06:34.822176Z",
          "iopub.status.busy": "2020-09-18T14:06:34.821389Z",
          "iopub.status.idle": "2020-09-18T14:06:34.824928Z",
          "shell.execute_reply": "2020-09-18T14:06:34.825448Z"
        },
        "papermill": {
          "duration": 0.026239,
          "end_time": "2020-09-18T14:06:34.825574",
          "exception": false,
          "start_time": "2020-09-18T14:06:34.799335",
          "status": "completed"
        },
        "tags": [],
        "id": "TUmYFrWSKs_g"
      },
      "outputs": [],
      "source": [
        "from torchvision import datasets\n",
        "from torchvision import transforms\n",
        "\n",
        "\n",
        "transformations = GetTransforms()\n",
        "train_transforms = transforms.Compose(transformations.trainparams())\n",
        "test_transforms = transforms.Compose(transformations.testparams())\n",
        "\n",
        "\n",
        "class GetCIFAR10_TrainData():\n",
        "    def __init__(self, dir_name:str):\n",
        "        self.dirname = dir_name\n",
        "\n",
        "    def download_train_data(self):\n",
        "        return datasets.CIFAR10('./data', train=True, download=True, transform=train_transforms)\n",
        "\n",
        "    def download_test_data(self):\n",
        "        return datasets.CIFAR10('./data', train=False, download=True, transform=test_transforms)\n"
      ]
    },
    {
      "cell_type": "code",
      "execution_count": 5,
      "metadata": {
        "execution": {
          "iopub.execute_input": "2020-09-18T14:06:34.859536Z",
          "iopub.status.busy": "2020-09-18T14:06:34.858878Z",
          "iopub.status.idle": "2020-09-18T14:06:42.631720Z",
          "shell.execute_reply": "2020-09-18T14:06:42.631008Z"
        },
        "papermill": {
          "duration": 7.792606,
          "end_time": "2020-09-18T14:06:42.631847",
          "exception": false,
          "start_time": "2020-09-18T14:06:34.839241",
          "status": "completed"
        },
        "tags": [],
        "colab": {
          "base_uri": "https://localhost:8080/",
          "height": 101,
          "referenced_widgets": [
            "90ec0d9bffd54e198fd00631e2c29577",
            "30af251b3f0f4f1e9d2355128fc433ae",
            "9c922f54f25e4e1aa29bc3ada385b209",
            "143c08d5e3d84e8c821355c2c0ed9d34",
            "3e4d5914773a4144beb784b38dbed63a",
            "3aee527ad9584bb8906c630dde863122",
            "4bf5e060ff194548b7e109a003aedf2d",
            "a1289ceb79aa4b2cb37558cd5765ca8d",
            "2955a7480bc242c8b4e60b341db0e1c9",
            "f76f00621c384dd3b6e232b3a4b1706b",
            "bce2c903aec84a9c92369395ea3bf26d"
          ]
        },
        "id": "U8mSINXnKs_i",
        "outputId": "751d6aa9-011f-4a53-bade-62599e31945f"
      },
      "outputs": [
        {
          "output_type": "stream",
          "name": "stdout",
          "text": [
            "Downloading https://www.cs.toronto.edu/~kriz/cifar-10-python.tar.gz to ./data/cifar-10-python.tar.gz\n"
          ]
        },
        {
          "output_type": "display_data",
          "data": {
            "text/plain": [
              "  0%|          | 0/170498071 [00:00<?, ?it/s]"
            ],
            "application/vnd.jupyter.widget-view+json": {
              "version_major": 2,
              "version_minor": 0,
              "model_id": "90ec0d9bffd54e198fd00631e2c29577"
            }
          },
          "metadata": {}
        },
        {
          "output_type": "stream",
          "name": "stdout",
          "text": [
            "Extracting ./data/cifar-10-python.tar.gz to ./data\n",
            "Files already downloaded and verified\n"
          ]
        }
      ],
      "source": [
        "cdata = GetCIFAR10_TrainData(os.chdir(\"..\"))\n",
        "trainset = cdata.download_train_data()\n",
        "testset = cdata.download_test_data()\n",
        "\n",
        "VALID_RATIO = 0.9\n",
        "n_train_examples = int(len(trainset) * VALID_RATIO)\n",
        "n_valid_examples = len(trainset) - n_train_examples\n",
        "\n",
        "trainset, validset = data.random_split(trainset, \n",
        "                                           [n_train_examples, n_valid_examples])\n",
        "\n",
        "validset = copy.deepcopy(validset)\n",
        "validset.dataset.transform = test_transforms"
      ]
    },
    {
      "cell_type": "code",
      "source": [
        "len(trainset), len(validset), len(testset)"
      ],
      "metadata": {
        "colab": {
          "base_uri": "https://localhost:8080/"
        },
        "id": "W_h-ul9MYUPZ",
        "outputId": "a0c6be1c-5a88-4c98-a3ee-8de9a23176d6"
      },
      "execution_count": 6,
      "outputs": [
        {
          "output_type": "execute_result",
          "data": {
            "text/plain": [
              "(45000, 5000, 10000)"
            ]
          },
          "metadata": {},
          "execution_count": 6
        }
      ]
    },
    {
      "cell_type": "code",
      "source": [
        "BATCH_SIZE = 512\n",
        "\n",
        "trainloader = torch.utils.data.DataLoader(trainset, batch_size=BATCH_SIZE,\n",
        "                                          shuffle=True, num_workers=2)\n",
        "validloader = torch.utils.data.DataLoader(validset, batch_size=BATCH_SIZE,\n",
        "                                          shuffle=False, num_workers=2)\n",
        "testloader = torch.utils.data.DataLoader(testset, batch_size=BATCH_SIZE,\n",
        "                                         shuffle=False, num_workers=2)"
      ],
      "metadata": {
        "id": "uybGoOcRQA6S"
      },
      "execution_count": 7,
      "outputs": []
    },
    {
      "cell_type": "markdown",
      "metadata": {
        "papermill": {
          "duration": 0.01586,
          "end_time": "2020-09-18T14:06:42.663889",
          "exception": false,
          "start_time": "2020-09-18T14:06:42.648029",
          "status": "completed"
        },
        "tags": [],
        "id": "H6YIObpwKs_j"
      },
      "source": [
        "# The Model - RESNET18\n"
      ]
    },
    {
      "cell_type": "code",
      "source": [
        "# 3x3 convolution\n",
        "def conv3x3(in_channels, out_channels, stride=1):\n",
        "    return nn.Conv2d(in_channels, out_channels, kernel_size=3, \n",
        "                     stride=stride, padding=1, bias=False)"
      ],
      "metadata": {
        "id": "G9TNZ9fONNbW"
      },
      "execution_count": 8,
      "outputs": []
    },
    {
      "cell_type": "code",
      "execution_count": 9,
      "metadata": {
        "execution": {
          "iopub.execute_input": "2020-09-18T14:06:42.726092Z",
          "iopub.status.busy": "2020-09-18T14:06:42.719704Z",
          "iopub.status.idle": "2020-09-18T14:06:42.729169Z",
          "shell.execute_reply": "2020-09-18T14:06:42.728568Z"
        },
        "papermill": {
          "duration": 0.048555,
          "end_time": "2020-09-18T14:06:42.729267",
          "exception": false,
          "start_time": "2020-09-18T14:06:42.680712",
          "status": "completed"
        },
        "tags": [],
        "id": "yJJ0Idu8Ks_j"
      },
      "outputs": [],
      "source": [
        "# Residual block\n",
        "class ResidualBlock(nn.Module):\n",
        "    def __init__(self, in_channels, out_channels, stride=1, downsample=None):\n",
        "        super(ResidualBlock, self).__init__()\n",
        "        \n",
        "        self.conv1 = conv3x3(in_channels, out_channels, stride)\n",
        "        self.bn1 = nn.BatchNorm2d(out_channels)\n",
        "        self.dropout1 = nn.Dropout(0.1)\n",
        "        \n",
        "        self.relu = nn.ReLU(inplace=True)\n",
        "        \n",
        "        self.conv2 = conv3x3(out_channels, out_channels)\n",
        "        self.bn2 = nn.BatchNorm2d(out_channels)\n",
        "        self.dropout2 = nn.Dropout(0.1)\n",
        "        \n",
        "        self.downsample = downsample\n",
        "\n",
        "    def forward(self, x):\n",
        "        residual = x\n",
        "\n",
        "        out = self.conv1(x)\n",
        "        out = self.bn1(out)\n",
        "        # out = self.dropout1(out)\n",
        "        out = self.relu(out)\n",
        "        \n",
        "        out = self.conv2(out)\n",
        "        out = self.bn2(out)\n",
        "        # out = self.dropout2(out)\n",
        "        if self.downsample:\n",
        "            residual = self.downsample(x)\n",
        "        out += residual\n",
        "        out = self.relu(out)\n",
        "        \n",
        "        return out\n",
        "\n",
        "# ResNet\n",
        "class ResNet(nn.Module):\n",
        "    def __init__(self, block, layers, num_classes=10):\n",
        "        super(ResNet, self).__init__()\n",
        "        \n",
        "        self.in_channels = 64\n",
        "        \n",
        "        self.conv = conv3x3(in_channels=3, out_channels=64)\n",
        "        self.bn = nn.BatchNorm2d(64)\n",
        "        self.relu = nn.ReLU(inplace=True)\n",
        "\n",
        "        self.layer1 = self.make_layer(block=block, out_channels=64, blocks=layers[0], stride=1)\n",
        "        self.layer2 = self.make_layer(block=block, out_channels=128, blocks=layers[1], stride=2)\n",
        "        self.layer3 = self.make_layer(block=block, out_channels=256, blocks=layers[2], stride=2)\n",
        "        # self.layer4 = self.make_layer(block=block, out_channels=512, blocks=layers[3], stride=2)\n",
        "\n",
        "        self.avg_pool = nn.AvgPool2d(4)\n",
        "        # self.fc = nn.Linear(256, num_classes)\n",
        "        self.fc = nn.Linear(1024, num_classes)\n",
        "\n",
        "    def make_layer(self, block, out_channels, blocks, stride=1):\n",
        "        downsample = None\n",
        "        if (stride != 1) or (self.in_channels != out_channels):\n",
        "            downsample = nn.Sequential(\n",
        "                conv3x3(self.in_channels, out_channels, stride=stride),\n",
        "                nn.BatchNorm2d(out_channels))\n",
        "        layers = []\n",
        "        layers.append(block(self.in_channels, out_channels, stride, downsample))\n",
        "        self.in_channels = out_channels\n",
        "        for i in range(1, blocks):\n",
        "            layers.append(block(out_channels, out_channels))\n",
        "        return nn.Sequential(*layers)\n",
        "\n",
        "    def forward(self, x):\n",
        "        out = self.conv(x)\n",
        "        out = self.bn(out)\n",
        "        out = self.relu(out)\n",
        "        out = self.layer1(out)\n",
        "        out = self.layer2(out)\n",
        "        out = self.layer3(out)\n",
        "        # out = self.layer4(out)\n",
        "        out = self.avg_pool(out)\n",
        "        out = out.view(out.size(0), -1)\n",
        "        out = self.fc(out)\n",
        "        return F.log_softmax(out, dim=-1)\n",
        "\n",
        "def ResNet18():\n",
        "    # return ResNet(ResidualBlock, [2, 2, 2, 2])\n",
        "    return ResNet(ResidualBlock, [2, 2, 2])"
      ]
    },
    {
      "cell_type": "code",
      "execution_count": 10,
      "metadata": {
        "execution": {
          "iopub.execute_input": "2020-09-18T14:06:42.764813Z",
          "iopub.status.busy": "2020-09-18T14:06:42.764098Z",
          "iopub.status.idle": "2020-09-18T14:06:48.527600Z",
          "shell.execute_reply": "2020-09-18T14:06:48.528219Z"
        },
        "papermill": {
          "duration": 5.783641,
          "end_time": "2020-09-18T14:06:48.528379",
          "exception": false,
          "start_time": "2020-09-18T14:06:42.744738",
          "status": "completed"
        },
        "tags": [],
        "colab": {
          "base_uri": "https://localhost:8080/"
        },
        "id": "INT7cGhKKs_k",
        "outputId": "1fddabf9-490f-440f-df46-7620783b7fa0"
      },
      "outputs": [
        {
          "output_type": "stream",
          "name": "stdout",
          "text": [
            "----------------------------------------------------------------\n",
            "        Layer (type)               Output Shape         Param #\n",
            "================================================================\n",
            "            Conv2d-1           [-1, 64, 32, 32]           1,728\n",
            "       BatchNorm2d-2           [-1, 64, 32, 32]             128\n",
            "              ReLU-3           [-1, 64, 32, 32]               0\n",
            "            Conv2d-4           [-1, 64, 32, 32]          36,864\n",
            "       BatchNorm2d-5           [-1, 64, 32, 32]             128\n",
            "              ReLU-6           [-1, 64, 32, 32]               0\n",
            "            Conv2d-7           [-1, 64, 32, 32]          36,864\n",
            "       BatchNorm2d-8           [-1, 64, 32, 32]             128\n",
            "              ReLU-9           [-1, 64, 32, 32]               0\n",
            "    ResidualBlock-10           [-1, 64, 32, 32]               0\n",
            "           Conv2d-11           [-1, 64, 32, 32]          36,864\n",
            "      BatchNorm2d-12           [-1, 64, 32, 32]             128\n",
            "             ReLU-13           [-1, 64, 32, 32]               0\n",
            "           Conv2d-14           [-1, 64, 32, 32]          36,864\n",
            "      BatchNorm2d-15           [-1, 64, 32, 32]             128\n",
            "             ReLU-16           [-1, 64, 32, 32]               0\n",
            "    ResidualBlock-17           [-1, 64, 32, 32]               0\n",
            "           Conv2d-18          [-1, 128, 16, 16]          73,728\n",
            "      BatchNorm2d-19          [-1, 128, 16, 16]             256\n",
            "             ReLU-20          [-1, 128, 16, 16]               0\n",
            "           Conv2d-21          [-1, 128, 16, 16]         147,456\n",
            "      BatchNorm2d-22          [-1, 128, 16, 16]             256\n",
            "           Conv2d-23          [-1, 128, 16, 16]          73,728\n",
            "      BatchNorm2d-24          [-1, 128, 16, 16]             256\n",
            "             ReLU-25          [-1, 128, 16, 16]               0\n",
            "    ResidualBlock-26          [-1, 128, 16, 16]               0\n",
            "           Conv2d-27          [-1, 128, 16, 16]         147,456\n",
            "      BatchNorm2d-28          [-1, 128, 16, 16]             256\n",
            "             ReLU-29          [-1, 128, 16, 16]               0\n",
            "           Conv2d-30          [-1, 128, 16, 16]         147,456\n",
            "      BatchNorm2d-31          [-1, 128, 16, 16]             256\n",
            "             ReLU-32          [-1, 128, 16, 16]               0\n",
            "    ResidualBlock-33          [-1, 128, 16, 16]               0\n",
            "           Conv2d-34            [-1, 256, 8, 8]         294,912\n",
            "      BatchNorm2d-35            [-1, 256, 8, 8]             512\n",
            "             ReLU-36            [-1, 256, 8, 8]               0\n",
            "           Conv2d-37            [-1, 256, 8, 8]         589,824\n",
            "      BatchNorm2d-38            [-1, 256, 8, 8]             512\n",
            "           Conv2d-39            [-1, 256, 8, 8]         294,912\n",
            "      BatchNorm2d-40            [-1, 256, 8, 8]             512\n",
            "             ReLU-41            [-1, 256, 8, 8]               0\n",
            "    ResidualBlock-42            [-1, 256, 8, 8]               0\n",
            "           Conv2d-43            [-1, 256, 8, 8]         589,824\n",
            "      BatchNorm2d-44            [-1, 256, 8, 8]             512\n",
            "             ReLU-45            [-1, 256, 8, 8]               0\n",
            "           Conv2d-46            [-1, 256, 8, 8]         589,824\n",
            "      BatchNorm2d-47            [-1, 256, 8, 8]             512\n",
            "             ReLU-48            [-1, 256, 8, 8]               0\n",
            "    ResidualBlock-49            [-1, 256, 8, 8]               0\n",
            "        AvgPool2d-50            [-1, 256, 2, 2]               0\n",
            "           Linear-51                   [-1, 10]          10,250\n",
            "================================================================\n",
            "Total params: 3,113,034\n",
            "Trainable params: 3,113,034\n",
            "Non-trainable params: 0\n",
            "----------------------------------------------------------------\n",
            "Input size (MB): 0.01\n",
            "Forward/backward pass size (MB): 14.51\n",
            "Params size (MB): 11.88\n",
            "Estimated Total Size (MB): 26.39\n",
            "----------------------------------------------------------------\n"
          ]
        }
      ],
      "source": [
        "# Importing Model and printing Summary\n",
        "model = ResNet18().to(device)\n",
        "summary(model, input_size=(3,32,32))"
      ]
    },
    {
      "cell_type": "code",
      "execution_count": 11,
      "metadata": {
        "execution": {
          "iopub.execute_input": "2020-09-18T14:06:48.577693Z",
          "iopub.status.busy": "2020-09-18T14:06:48.576994Z",
          "iopub.status.idle": "2020-09-18T14:06:48.581591Z",
          "shell.execute_reply": "2020-09-18T14:06:48.581094Z"
        },
        "papermill": {
          "duration": 0.03332,
          "end_time": "2020-09-18T14:06:48.581710",
          "exception": false,
          "start_time": "2020-09-18T14:06:48.548390",
          "status": "completed"
        },
        "tags": [],
        "id": "-53UyTmsKs_m"
      },
      "outputs": [],
      "source": [
        "from tqdm import tqdm\n",
        "from torch import nn\n",
        "import torch.nn\n",
        "from torch.functional import F\n",
        "import os\n",
        "\n",
        "\n",
        "def model_training(model, device, train_dataloader, optimizer, train_acc, train_losses):\n",
        "            \n",
        "    model.train()\n",
        "    pbar = tqdm(train_dataloader)\n",
        "    correct = 0\n",
        "    processed = 0\n",
        "    running_loss = 0.0\n",
        "\n",
        "    for batch_idx, (data, target) in enumerate(pbar):\n",
        "        data, target = data.to(device), target.to(device)\n",
        "        optimizer.zero_grad()\n",
        "        y_pred = model(data)\n",
        "        loss = F.nll_loss(y_pred, target)\n",
        "        \n",
        "\n",
        "        # train_losses.append(loss.item())\n",
        "        loss.backward()\n",
        "        optimizer.step()\n",
        "\n",
        "        pred = y_pred.argmax(dim=1, keepdim=True)\n",
        "        correct += pred.eq(target.view_as(pred)).sum().item()\n",
        "        processed += len(data)\n",
        "        \n",
        "        # print statistics\n",
        "        \n",
        "        running_loss += loss.item()\n",
        "        pbar.set_description(desc=f'Batch_id={batch_idx} Batch Loss={loss.item()} Running Loss={running_loss} Running Accuracy={100*correct/processed:0.2f}')\n",
        "        # train_acc.append(100*correct/processed)\n",
        "    \n",
        "    train_losses.append(running_loss)\n",
        "    train_acc.append(100*correct/processed)"
      ]
    },
    {
      "cell_type": "code",
      "execution_count": 12,
      "metadata": {
        "execution": {
          "iopub.execute_input": "2020-09-18T14:06:48.629732Z",
          "iopub.status.busy": "2020-09-18T14:06:48.628793Z",
          "iopub.status.idle": "2020-09-18T14:06:48.631384Z",
          "shell.execute_reply": "2020-09-18T14:06:48.631909Z"
        },
        "papermill": {
          "duration": 0.03462,
          "end_time": "2020-09-18T14:06:48.632026",
          "exception": false,
          "start_time": "2020-09-18T14:06:48.597406",
          "status": "completed"
        },
        "tags": [],
        "id": "E4BrK-0EKs_n"
      },
      "outputs": [],
      "source": [
        "import torch\n",
        "import os\n",
        "from torch.functional import F\n",
        "\n",
        "cwd = os.getcwd()\n",
        "\n",
        "def model_testing(model, device, test_dataloader, test_acc, test_losses, misclassified = []):\n",
        "    \n",
        "    model.eval()\n",
        "    test_loss = 0\n",
        "    correct = 0\n",
        "    class_correct = list(0. for i in range(10))\n",
        "    class_total = list(0. for i in range(10))\n",
        "    # label = 0\n",
        "    classes = ('plane', 'car', 'bird', 'cat',\n",
        "           'deer', 'dog', 'frog', 'horse', 'ship', 'truck')\n",
        "    \n",
        "    with torch.no_grad():\n",
        "\n",
        "        for index, (data, target) in enumerate(test_dataloader):\n",
        "            data, target = data.to(device), target.to(device)\n",
        "            output = model(data)\n",
        "            pred = output.argmax(dim=1, keepdim=True)\n",
        "            \n",
        "            for d,i,j in zip(data, pred, target):\n",
        "                if i != j:\n",
        "                    misclassified.append([d.cpu(),i[0].cpu(),j.cpu()])\n",
        "\n",
        "            test_loss += F.nll_loss(output, target, reduction='sum').item()\n",
        "            correct += pred.eq(target.view_as(pred)).sum().item()\n",
        "    test_loss /= len(test_dataloader.dataset)\n",
        "    test_losses.append(test_loss)\n",
        "    \n",
        "    print('\\nTest set: Average loss: {:.4f}, Accuracy: {}/{} ({:.2f}%)\\n'.format(\n",
        "        test_loss, correct, len(test_dataloader.dataset),\n",
        "        100. * correct / len(test_dataloader.dataset)))\n",
        "    \n",
        "    test_acc.append(100. * correct / len(test_dataloader.dataset))\n",
        "    return misclassified, correct / len(test_dataloader.dataset)"
      ]
    },
    {
      "cell_type": "code",
      "source": [
        "def model_evaluation(model, device, loader):\n",
        "    \n",
        "    epoch_loss = 0\n",
        "    epoch_acc = 0\n",
        "    \n",
        "    model.eval()\n",
        "    \n",
        "    with torch.no_grad():\n",
        "        \n",
        "        for (x, y) in loader:\n",
        "\n",
        "            x = x.to(device)\n",
        "            y = y.to(device)\n",
        "\n",
        "            y_pred = model(x)\n",
        "            loss = F.nll_loss(y_pred, y)\n",
        "        \n",
        "            pred = y_pred.argmax(dim=1, keepdim=True)\n",
        "            acc = pred.eq(y.view_as(pred)).sum()\n",
        "\n",
        "            epoch_loss += loss.item()\n",
        "            epoch_acc += acc.item()\n",
        "        \n",
        "    print('\\nValidation set: Average loss: {:.4f}, Accuracy: {}/{} ({:.2f}%)\\n'.format(\n",
        "    epoch_loss / len(loader.dataset), epoch_acc, len(loader.dataset),\n",
        "    100. * epoch_acc / len(loader.dataset)))\n",
        "\n",
        "    return epoch_loss, epoch_acc / len(loader.dataset)"
      ],
      "metadata": {
        "id": "ysDy3WkqUGb-"
      },
      "execution_count": 13,
      "outputs": []
    },
    {
      "cell_type": "code",
      "source": [
        "# Defining parameters\n",
        "\n",
        "criterion = nn.CrossEntropyLoss()\n",
        "\n",
        "# optimizer = optim.SGD(model.parameters(), lr=0.05, momentum=0.9)\n",
        "optimizer = optim.SGD(model.parameters(), lr=0.01, momentum=0.9)\n",
        "\n",
        "scheduler = ReduceLROnPlateau(optimizer, mode='min', factor=0.1, patience=2, threshold=0.0001, threshold_mode='rel', cooldown=0, min_lr=0, eps=1e-08, verbose=True)\n",
        "# scheduler = ReduceLROnPlateau(optimizer, mode='min', factor=0.1, patience=2, threshold=0.001, threshold_mode='rel', cooldown=0, min_lr=0, eps=1e-08, verbose=True)\n",
        "# scheduler = StepLR(optimizer, step_size=15, gamma=0.1)"
      ],
      "metadata": {
        "id": "L7LSCkvhAdb0"
      },
      "execution_count": 14,
      "outputs": []
    },
    {
      "cell_type": "code",
      "source": [
        "import pandas\n",
        "\n",
        "def save_to_csv(csvname, train_losses, train_accs, test_losses, test_accs):\n",
        "  df = pandas.DataFrame()\n",
        "  df[\"epoch\"] = [i+1 for i in range(len(train_losses))]\n",
        "  df[\"train_loss\"] = train_losses\n",
        "  df[\"test_loss\"] = test_losses\n",
        "  df[\"train_acc\"] = train_accs\n",
        "  df[\"test_acc\"] = test_accs\n",
        "  df.to_csv(csvname)"
      ],
      "metadata": {
        "id": "Kr0VgNqKx3Z2"
      },
      "execution_count": 15,
      "outputs": []
    },
    {
      "cell_type": "code",
      "execution_count": 16,
      "metadata": {
        "execution": {
          "iopub.execute_input": "2020-09-18T14:06:48.676683Z",
          "iopub.status.busy": "2020-09-18T14:06:48.675972Z",
          "iopub.status.idle": "2020-09-18T14:33:04.548416Z",
          "shell.execute_reply": "2020-09-18T14:33:04.549364Z"
        },
        "papermill": {
          "duration": 1575.900797,
          "end_time": "2020-09-18T14:33:04.549700",
          "exception": false,
          "start_time": "2020-09-18T14:06:48.648903",
          "status": "completed"
        },
        "tags": [],
        "colab": {
          "base_uri": "https://localhost:8080/"
        },
        "id": "rtrFA-RCKs_o",
        "outputId": "664d2048-1abc-4daf-838e-f4226b67acd6"
      },
      "outputs": [
        {
          "output_type": "stream",
          "name": "stdout",
          "text": [
            "EPOCHS : 0\n"
          ]
        },
        {
          "output_type": "stream",
          "name": "stderr",
          "text": [
            "Batch_id=87 Batch Loss=1.3700350522994995 Running Loss=142.80884385108948 Running Accuracy=40.35: 100%|██████████| 88/88 [00:35<00:00,  2.45it/s]\n"
          ]
        },
        {
          "output_type": "stream",
          "name": "stdout",
          "text": [
            "\n",
            "Validation set: Average loss: 0.0027, Accuracy: 2557/5000 (51.14%)\n",
            "\n",
            "\n",
            "Test set: Average loss: 1.3184, Accuracy: 5207/10000 (52.07%)\n",
            "\n",
            "EPOCHS : 1\n"
          ]
        },
        {
          "output_type": "stream",
          "name": "stderr",
          "text": [
            "Batch_id=87 Batch Loss=0.9870185852050781 Running Loss=102.41353684663773 Running Accuracy=57.83: 100%|██████████| 88/88 [00:38<00:00,  2.29it/s]\n"
          ]
        },
        {
          "output_type": "stream",
          "name": "stdout",
          "text": [
            "\n",
            "Validation set: Average loss: 0.0021, Accuracy: 3135/5000 (62.70%)\n",
            "\n",
            "\n",
            "Test set: Average loss: 1.0260, Accuracy: 6300/10000 (63.00%)\n",
            "\n",
            "EPOCHS : 2\n"
          ]
        },
        {
          "output_type": "stream",
          "name": "stderr",
          "text": [
            "Batch_id=87 Batch Loss=0.950271725654602 Running Loss=82.26363748311996 Running Accuracy=66.98: 100%|██████████| 88/88 [00:37<00:00,  2.32it/s]\n"
          ]
        },
        {
          "output_type": "stream",
          "name": "stdout",
          "text": [
            "\n",
            "Validation set: Average loss: 0.0018, Accuracy: 3380/5000 (67.60%)\n",
            "\n",
            "\n",
            "Test set: Average loss: 0.8769, Accuracy: 6935/10000 (69.35%)\n",
            "\n",
            "EPOCHS : 3\n"
          ]
        },
        {
          "output_type": "stream",
          "name": "stderr",
          "text": [
            "Batch_id=87 Batch Loss=0.6662694215774536 Running Loss=71.3948346376419 Running Accuracy=71.50: 100%|██████████| 88/88 [00:38<00:00,  2.26it/s]\n"
          ]
        },
        {
          "output_type": "stream",
          "name": "stdout",
          "text": [
            "\n",
            "Validation set: Average loss: 0.0018, Accuracy: 3516/5000 (70.32%)\n",
            "\n",
            "\n",
            "Test set: Average loss: 0.8782, Accuracy: 7031/10000 (70.31%)\n",
            "\n",
            "EPOCHS : 4\n"
          ]
        },
        {
          "output_type": "stream",
          "name": "stderr",
          "text": [
            "Batch_id=87 Batch Loss=0.6766982674598694 Running Loss=63.905062794685364 Running Accuracy=74.47: 100%|██████████| 88/88 [00:37<00:00,  2.33it/s]\n"
          ]
        },
        {
          "output_type": "stream",
          "name": "stdout",
          "text": [
            "\n",
            "Validation set: Average loss: 0.0016, Accuracy: 3611/5000 (72.22%)\n",
            "\n",
            "\n",
            "Test set: Average loss: 0.7908, Accuracy: 7348/10000 (73.48%)\n",
            "\n",
            "EPOCHS : 5\n"
          ]
        },
        {
          "output_type": "stream",
          "name": "stderr",
          "text": [
            "Batch_id=87 Batch Loss=0.7144725322723389 Running Loss=58.27175015211105 Running Accuracy=76.81: 100%|██████████| 88/88 [00:37<00:00,  2.37it/s]\n"
          ]
        },
        {
          "output_type": "stream",
          "name": "stdout",
          "text": [
            "\n",
            "Validation set: Average loss: 0.0013, Accuracy: 3839/5000 (76.78%)\n",
            "\n",
            "\n",
            "Test set: Average loss: 0.6366, Accuracy: 7793/10000 (77.93%)\n",
            "\n",
            "EPOCHS : 6\n"
          ]
        },
        {
          "output_type": "stream",
          "name": "stderr",
          "text": [
            "Batch_id=87 Batch Loss=0.6295957565307617 Running Loss=52.98610618710518 Running Accuracy=78.82: 100%|██████████| 88/88 [00:36<00:00,  2.39it/s]\n"
          ]
        },
        {
          "output_type": "stream",
          "name": "stdout",
          "text": [
            "\n",
            "Validation set: Average loss: 0.0013, Accuracy: 3916/5000 (78.32%)\n",
            "\n",
            "\n",
            "Test set: Average loss: 0.6290, Accuracy: 7880/10000 (78.80%)\n",
            "\n",
            "EPOCHS : 7\n"
          ]
        },
        {
          "output_type": "stream",
          "name": "stderr",
          "text": [
            "Batch_id=87 Batch Loss=0.5622908473014832 Running Loss=50.337855875492096 Running Accuracy=79.97: 100%|██████████| 88/88 [00:37<00:00,  2.33it/s]\n"
          ]
        },
        {
          "output_type": "stream",
          "name": "stdout",
          "text": [
            "\n",
            "Validation set: Average loss: 0.0012, Accuracy: 4021/5000 (80.42%)\n",
            "\n",
            "\n",
            "Test set: Average loss: 0.5528, Accuracy: 8119/10000 (81.19%)\n",
            "\n",
            "EPOCHS : 8\n"
          ]
        },
        {
          "output_type": "stream",
          "name": "stderr",
          "text": [
            "Batch_id=87 Batch Loss=0.5015421509742737 Running Loss=47.34160390496254 Running Accuracy=81.22: 100%|██████████| 88/88 [00:38<00:00,  2.26it/s]\n"
          ]
        },
        {
          "output_type": "stream",
          "name": "stdout",
          "text": [
            "\n",
            "Validation set: Average loss: 0.0011, Accuracy: 4071/5000 (81.42%)\n",
            "\n",
            "\n",
            "Test set: Average loss: 0.5171, Accuracy: 8247/10000 (82.47%)\n",
            "\n",
            "EPOCHS : 9\n"
          ]
        },
        {
          "output_type": "stream",
          "name": "stderr",
          "text": [
            "Batch_id=87 Batch Loss=0.4743088483810425 Running Loss=45.135711163282394 Running Accuracy=81.94: 100%|██████████| 88/88 [00:37<00:00,  2.35it/s]\n"
          ]
        },
        {
          "output_type": "stream",
          "name": "stdout",
          "text": [
            "\n",
            "Validation set: Average loss: 0.0013, Accuracy: 3952/5000 (79.04%)\n",
            "\n",
            "\n",
            "Test set: Average loss: 0.6256, Accuracy: 7911/10000 (79.11%)\n",
            "\n",
            "EPOCHS : 10\n"
          ]
        },
        {
          "output_type": "stream",
          "name": "stderr",
          "text": [
            "Batch_id=87 Batch Loss=0.46113237738609314 Running Loss=41.859487891197205 Running Accuracy=83.42: 100%|██████████| 88/88 [00:37<00:00,  2.32it/s]\n"
          ]
        },
        {
          "output_type": "stream",
          "name": "stdout",
          "text": [
            "\n",
            "Validation set: Average loss: 0.0010, Accuracy: 4159/5000 (83.18%)\n",
            "\n",
            "\n",
            "Test set: Average loss: 0.4865, Accuracy: 8372/10000 (83.72%)\n",
            "\n",
            "EPOCHS : 11\n"
          ]
        },
        {
          "output_type": "stream",
          "name": "stderr",
          "text": [
            "Batch_id=87 Batch Loss=0.5025734305381775 Running Loss=39.85951009392738 Running Accuracy=84.32: 100%|██████████| 88/88 [00:37<00:00,  2.38it/s]\n"
          ]
        },
        {
          "output_type": "stream",
          "name": "stdout",
          "text": [
            "\n",
            "Validation set: Average loss: 0.0013, Accuracy: 3922/5000 (78.44%)\n",
            "\n",
            "\n",
            "Test set: Average loss: 0.6272, Accuracy: 7911/10000 (79.11%)\n",
            "\n",
            "EPOCHS : 12\n"
          ]
        },
        {
          "output_type": "stream",
          "name": "stderr",
          "text": [
            "Batch_id=87 Batch Loss=0.4450671672821045 Running Loss=37.844900608062744 Running Accuracy=84.94: 100%|██████████| 88/88 [00:37<00:00,  2.37it/s]\n"
          ]
        },
        {
          "output_type": "stream",
          "name": "stdout",
          "text": [
            "\n",
            "Validation set: Average loss: 0.0010, Accuracy: 4160/5000 (83.20%)\n",
            "\n",
            "\n",
            "Test set: Average loss: 0.5076, Accuracy: 8341/10000 (83.41%)\n",
            "\n",
            "EPOCHS : 13\n"
          ]
        },
        {
          "output_type": "stream",
          "name": "stderr",
          "text": [
            "Batch_id=87 Batch Loss=0.3655441403388977 Running Loss=35.790935069322586 Running Accuracy=85.94: 100%|██████████| 88/88 [00:38<00:00,  2.26it/s]\n"
          ]
        },
        {
          "output_type": "stream",
          "name": "stdout",
          "text": [
            "\n",
            "Validation set: Average loss: 0.0009, Accuracy: 4233/5000 (84.66%)\n",
            "\n",
            "\n",
            "Test set: Average loss: 0.4623, Accuracy: 8453/10000 (84.53%)\n",
            "\n",
            "EPOCHS : 14\n"
          ]
        },
        {
          "output_type": "stream",
          "name": "stderr",
          "text": [
            "Batch_id=87 Batch Loss=0.4594862163066864 Running Loss=34.88301593065262 Running Accuracy=86.12: 100%|██████████| 88/88 [00:37<00:00,  2.32it/s]\n"
          ]
        },
        {
          "output_type": "stream",
          "name": "stdout",
          "text": [
            "\n",
            "Validation set: Average loss: 0.0012, Accuracy: 4049/5000 (80.98%)\n",
            "\n",
            "\n",
            "Test set: Average loss: 0.5990, Accuracy: 8095/10000 (80.95%)\n",
            "\n",
            "EPOCHS : 15\n"
          ]
        },
        {
          "output_type": "stream",
          "name": "stderr",
          "text": [
            "Batch_id=87 Batch Loss=0.3930264413356781 Running Loss=33.806387811899185 Running Accuracy=86.63: 100%|██████████| 88/88 [00:37<00:00,  2.32it/s]\n"
          ]
        },
        {
          "output_type": "stream",
          "name": "stdout",
          "text": [
            "\n",
            "Validation set: Average loss: 0.0010, Accuracy: 4196/5000 (83.92%)\n",
            "\n",
            "\n",
            "Test set: Average loss: 0.4779, Accuracy: 8404/10000 (84.04%)\n",
            "\n",
            "EPOCHS : 16\n"
          ]
        },
        {
          "output_type": "stream",
          "name": "stderr",
          "text": [
            "Batch_id=87 Batch Loss=0.3403630554676056 Running Loss=31.200519114732742 Running Accuracy=87.45: 100%|██████████| 88/88 [00:37<00:00,  2.34it/s]\n"
          ]
        },
        {
          "output_type": "stream",
          "name": "stdout",
          "text": [
            "\n",
            "Validation set: Average loss: 0.0009, Accuracy: 4225/5000 (84.50%)\n",
            "\n",
            "\n",
            "Test set: Average loss: 0.4748, Accuracy: 8402/10000 (84.02%)\n",
            "\n",
            "EPOCHS : 17\n"
          ]
        },
        {
          "output_type": "stream",
          "name": "stderr",
          "text": [
            "Batch_id=87 Batch Loss=0.29257023334503174 Running Loss=30.437849313020706 Running Accuracy=87.90: 100%|██████████| 88/88 [00:37<00:00,  2.33it/s]\n"
          ]
        },
        {
          "output_type": "stream",
          "name": "stdout",
          "text": [
            "\n",
            "Validation set: Average loss: 0.0011, Accuracy: 4118/5000 (82.36%)\n",
            "\n",
            "\n",
            "Test set: Average loss: 0.5203, Accuracy: 8321/10000 (83.21%)\n",
            "\n",
            "EPOCHS : 18\n"
          ]
        },
        {
          "output_type": "stream",
          "name": "stderr",
          "text": [
            "Batch_id=87 Batch Loss=0.3303871750831604 Running Loss=29.197197645902634 Running Accuracy=88.37: 100%|██████████| 88/88 [00:38<00:00,  2.31it/s]\n"
          ]
        },
        {
          "output_type": "stream",
          "name": "stdout",
          "text": [
            "\n",
            "Validation set: Average loss: 0.0010, Accuracy: 4175/5000 (83.50%)\n",
            "\n",
            "\n",
            "Test set: Average loss: 0.4773, Accuracy: 8432/10000 (84.32%)\n",
            "\n",
            "EPOCHS : 19\n"
          ]
        },
        {
          "output_type": "stream",
          "name": "stderr",
          "text": [
            "Batch_id=87 Batch Loss=0.29099419713020325 Running Loss=28.5127155482769 Running Accuracy=88.73: 100%|██████████| 88/88 [00:37<00:00,  2.33it/s]\n"
          ]
        },
        {
          "output_type": "stream",
          "name": "stdout",
          "text": [
            "\n",
            "Validation set: Average loss: 0.0011, Accuracy: 4130/5000 (82.60%)\n",
            "\n",
            "\n",
            "Test set: Average loss: 0.5345, Accuracy: 8322/10000 (83.22%)\n",
            "\n",
            "EPOCHS : 20\n"
          ]
        },
        {
          "output_type": "stream",
          "name": "stderr",
          "text": [
            "Batch_id=87 Batch Loss=0.27984264492988586 Running Loss=27.191461876034737 Running Accuracy=89.17: 100%|██████████| 88/88 [00:37<00:00,  2.35it/s]\n"
          ]
        },
        {
          "output_type": "stream",
          "name": "stdout",
          "text": [
            "\n",
            "Validation set: Average loss: 0.0008, Accuracy: 4290/5000 (85.80%)\n",
            "\n",
            "\n",
            "Test set: Average loss: 0.4272, Accuracy: 8604/10000 (86.04%)\n",
            "\n",
            "EPOCHS : 21\n"
          ]
        },
        {
          "output_type": "stream",
          "name": "stderr",
          "text": [
            "Batch_id=87 Batch Loss=0.37802988290786743 Running Loss=26.218340411782265 Running Accuracy=89.51: 100%|██████████| 88/88 [00:37<00:00,  2.32it/s]\n"
          ]
        },
        {
          "output_type": "stream",
          "name": "stdout",
          "text": [
            "\n",
            "Validation set: Average loss: 0.0009, Accuracy: 4260/5000 (85.20%)\n",
            "\n",
            "\n",
            "Test set: Average loss: 0.4229, Accuracy: 8630/10000 (86.30%)\n",
            "\n",
            "EPOCHS : 22\n"
          ]
        },
        {
          "output_type": "stream",
          "name": "stderr",
          "text": [
            "Batch_id=87 Batch Loss=0.28857725858688354 Running Loss=25.01831927895546 Running Accuracy=89.85: 100%|██████████| 88/88 [00:37<00:00,  2.32it/s]\n"
          ]
        },
        {
          "output_type": "stream",
          "name": "stdout",
          "text": [
            "\n",
            "Validation set: Average loss: 0.0008, Accuracy: 4323/5000 (86.46%)\n",
            "\n",
            "\n",
            "Test set: Average loss: 0.4312, Accuracy: 8624/10000 (86.24%)\n",
            "\n",
            "EPOCHS : 23\n"
          ]
        },
        {
          "output_type": "stream",
          "name": "stderr",
          "text": [
            "Batch_id=87 Batch Loss=0.2714390754699707 Running Loss=24.421127185225487 Running Accuracy=90.03: 100%|██████████| 88/88 [00:38<00:00,  2.28it/s]\n"
          ]
        },
        {
          "output_type": "stream",
          "name": "stdout",
          "text": [
            "\n",
            "Validation set: Average loss: 0.0008, Accuracy: 4342/5000 (86.84%)\n",
            "\n",
            "\n",
            "Test set: Average loss: 0.4025, Accuracy: 8721/10000 (87.21%)\n",
            "\n",
            "EPOCHS : 24\n"
          ]
        },
        {
          "output_type": "stream",
          "name": "stderr",
          "text": [
            "Batch_id=87 Batch Loss=0.2839818000793457 Running Loss=24.296620026230812 Running Accuracy=90.26: 100%|██████████| 88/88 [00:36<00:00,  2.39it/s]\n"
          ]
        },
        {
          "output_type": "stream",
          "name": "stdout",
          "text": [
            "\n",
            "Validation set: Average loss: 0.0008, Accuracy: 4312/5000 (86.24%)\n",
            "\n",
            "\n",
            "Test set: Average loss: 0.4085, Accuracy: 8644/10000 (86.44%)\n",
            "\n",
            "EPOCHS : 25\n"
          ]
        },
        {
          "output_type": "stream",
          "name": "stderr",
          "text": [
            "Batch_id=87 Batch Loss=0.3204561769962311 Running Loss=23.464241206645966 Running Accuracy=90.65: 100%|██████████| 88/88 [00:38<00:00,  2.30it/s]\n"
          ]
        },
        {
          "output_type": "stream",
          "name": "stdout",
          "text": [
            "\n",
            "Validation set: Average loss: 0.0009, Accuracy: 4295/5000 (85.90%)\n",
            "\n",
            "\n",
            "Test set: Average loss: 0.4130, Accuracy: 8677/10000 (86.77%)\n",
            "\n",
            "EPOCHS : 26\n"
          ]
        },
        {
          "output_type": "stream",
          "name": "stderr",
          "text": [
            "Batch_id=87 Batch Loss=0.2640599310398102 Running Loss=21.940065041184425 Running Accuracy=91.33: 100%|██████████| 88/88 [00:38<00:00,  2.30it/s]\n"
          ]
        },
        {
          "output_type": "stream",
          "name": "stdout",
          "text": [
            "\n",
            "Validation set: Average loss: 0.0008, Accuracy: 4324/5000 (86.48%)\n",
            "\n",
            "\n",
            "Test set: Average loss: 0.4087, Accuracy: 8714/10000 (87.14%)\n",
            "\n",
            "EPOCHS : 27\n"
          ]
        },
        {
          "output_type": "stream",
          "name": "stderr",
          "text": [
            "Batch_id=87 Batch Loss=0.20344102382659912 Running Loss=21.080412939190865 Running Accuracy=91.52: 100%|██████████| 88/88 [00:39<00:00,  2.24it/s]\n"
          ]
        },
        {
          "output_type": "stream",
          "name": "stdout",
          "text": [
            "\n",
            "Validation set: Average loss: 0.0009, Accuracy: 4279/5000 (85.58%)\n",
            "\n",
            "\n",
            "Test set: Average loss: 0.4684, Accuracy: 8607/10000 (86.07%)\n",
            "\n",
            "EPOCHS : 28\n"
          ]
        },
        {
          "output_type": "stream",
          "name": "stderr",
          "text": [
            "Batch_id=87 Batch Loss=0.24511228501796722 Running Loss=21.06234447658062 Running Accuracy=91.48: 100%|██████████| 88/88 [00:38<00:00,  2.30it/s]\n"
          ]
        },
        {
          "output_type": "stream",
          "name": "stdout",
          "text": [
            "\n",
            "Validation set: Average loss: 0.0008, Accuracy: 4364/5000 (87.28%)\n",
            "\n",
            "\n",
            "Test set: Average loss: 0.4064, Accuracy: 8718/10000 (87.18%)\n",
            "\n",
            "EPOCHS : 29\n"
          ]
        },
        {
          "output_type": "stream",
          "name": "stderr",
          "text": [
            "Batch_id=87 Batch Loss=0.2372945249080658 Running Loss=20.219393745064735 Running Accuracy=91.84: 100%|██████████| 88/88 [00:38<00:00,  2.30it/s]\n"
          ]
        },
        {
          "output_type": "stream",
          "name": "stdout",
          "text": [
            "\n",
            "Validation set: Average loss: 0.0008, Accuracy: 4361/5000 (87.22%)\n",
            "\n",
            "\n",
            "Test set: Average loss: 0.4078, Accuracy: 8741/10000 (87.41%)\n",
            "\n",
            "EPOCHS : 30\n"
          ]
        },
        {
          "output_type": "stream",
          "name": "stderr",
          "text": [
            "Batch_id=87 Batch Loss=0.23117423057556152 Running Loss=18.920374378561974 Running Accuracy=92.38: 100%|██████████| 88/88 [00:36<00:00,  2.40it/s]\n"
          ]
        },
        {
          "output_type": "stream",
          "name": "stdout",
          "text": [
            "\n",
            "Validation set: Average loss: 0.0009, Accuracy: 4293/5000 (85.86%)\n",
            "\n",
            "\n",
            "Test set: Average loss: 0.4774, Accuracy: 8598/10000 (85.98%)\n",
            "\n",
            "EPOCHS : 31\n"
          ]
        },
        {
          "output_type": "stream",
          "name": "stderr",
          "text": [
            "Batch_id=87 Batch Loss=0.19353118538856506 Running Loss=18.18788269162178 Running Accuracy=92.74: 100%|██████████| 88/88 [00:37<00:00,  2.33it/s]\n"
          ]
        },
        {
          "output_type": "stream",
          "name": "stdout",
          "text": [
            "\n",
            "Validation set: Average loss: 0.0008, Accuracy: 4383/5000 (87.66%)\n",
            "\n",
            "\n",
            "Test set: Average loss: 0.4007, Accuracy: 8724/10000 (87.24%)\n",
            "\n",
            "EPOCHS : 32\n"
          ]
        },
        {
          "output_type": "stream",
          "name": "stderr",
          "text": [
            "Batch_id=87 Batch Loss=0.19379167258739471 Running Loss=17.733213365077972 Running Accuracy=92.87: 100%|██████████| 88/88 [00:39<00:00,  2.24it/s]\n"
          ]
        },
        {
          "output_type": "stream",
          "name": "stdout",
          "text": [
            "\n",
            "Validation set: Average loss: 0.0008, Accuracy: 4409/5000 (88.18%)\n",
            "\n",
            "\n",
            "Test set: Average loss: 0.3964, Accuracy: 8774/10000 (87.74%)\n",
            "\n",
            "EPOCHS : 33\n"
          ]
        },
        {
          "output_type": "stream",
          "name": "stderr",
          "text": [
            "Batch_id=87 Batch Loss=0.2063794732093811 Running Loss=17.462573170661926 Running Accuracy=92.98: 100%|██████████| 88/88 [00:38<00:00,  2.29it/s]\n"
          ]
        },
        {
          "output_type": "stream",
          "name": "stdout",
          "text": [
            "\n",
            "Validation set: Average loss: 0.0009, Accuracy: 4327/5000 (86.54%)\n",
            "\n",
            "\n",
            "Test set: Average loss: 0.4649, Accuracy: 8600/10000 (86.00%)\n",
            "\n",
            "EPOCHS : 34\n"
          ]
        },
        {
          "output_type": "stream",
          "name": "stderr",
          "text": [
            "Batch_id=87 Batch Loss=0.22086037695407867 Running Loss=16.97115235030651 Running Accuracy=93.13: 100%|██████████| 88/88 [00:37<00:00,  2.32it/s]\n"
          ]
        },
        {
          "output_type": "stream",
          "name": "stdout",
          "text": [
            "\n",
            "Validation set: Average loss: 0.0008, Accuracy: 4385/5000 (87.70%)\n",
            "\n",
            "\n",
            "Test set: Average loss: 0.4182, Accuracy: 8715/10000 (87.15%)\n",
            "\n",
            "EPOCHS : 35\n"
          ]
        },
        {
          "output_type": "stream",
          "name": "stderr",
          "text": [
            "Batch_id=87 Batch Loss=0.21068967878818512 Running Loss=16.665044993162155 Running Accuracy=93.34: 100%|██████████| 88/88 [00:38<00:00,  2.27it/s]\n"
          ]
        },
        {
          "output_type": "stream",
          "name": "stdout",
          "text": [
            "\n",
            "Validation set: Average loss: 0.0009, Accuracy: 4361/5000 (87.22%)\n",
            "\n",
            "\n",
            "Test set: Average loss: 0.4301, Accuracy: 8743/10000 (87.43%)\n",
            "\n",
            "EPOCHS : 36\n"
          ]
        },
        {
          "output_type": "stream",
          "name": "stderr",
          "text": [
            "Batch_id=87 Batch Loss=0.16265878081321716 Running Loss=15.465861305594444 Running Accuracy=93.78: 100%|██████████| 88/88 [00:37<00:00,  2.33it/s]\n"
          ]
        },
        {
          "output_type": "stream",
          "name": "stdout",
          "text": [
            "\n",
            "Validation set: Average loss: 0.0008, Accuracy: 4431/5000 (88.62%)\n",
            "\n",
            "\n",
            "Test set: Average loss: 0.3931, Accuracy: 8821/10000 (88.21%)\n",
            "\n",
            "EPOCHS : 37\n"
          ]
        },
        {
          "output_type": "stream",
          "name": "stderr",
          "text": [
            "Batch_id=87 Batch Loss=0.18382085859775543 Running Loss=15.765758894383907 Running Accuracy=93.70: 100%|██████████| 88/88 [00:37<00:00,  2.33it/s]\n"
          ]
        },
        {
          "output_type": "stream",
          "name": "stdout",
          "text": [
            "\n",
            "Validation set: Average loss: 0.0009, Accuracy: 4308/5000 (86.16%)\n",
            "\n",
            "\n",
            "Test set: Average loss: 0.4757, Accuracy: 8589/10000 (85.89%)\n",
            "\n",
            "EPOCHS : 38\n"
          ]
        },
        {
          "output_type": "stream",
          "name": "stderr",
          "text": [
            "Batch_id=87 Batch Loss=0.1863168478012085 Running Loss=14.787983365356922 Running Accuracy=94.13: 100%|██████████| 88/88 [00:37<00:00,  2.32it/s]\n"
          ]
        },
        {
          "output_type": "stream",
          "name": "stdout",
          "text": [
            "\n",
            "Validation set: Average loss: 0.0008, Accuracy: 4404/5000 (88.08%)\n",
            "\n",
            "\n",
            "Test set: Average loss: 0.3854, Accuracy: 8815/10000 (88.15%)\n",
            "\n",
            "EPOCHS : 39\n"
          ]
        },
        {
          "output_type": "stream",
          "name": "stderr",
          "text": [
            "Batch_id=87 Batch Loss=0.1673453450202942 Running Loss=14.53375093638897 Running Accuracy=94.14: 100%|██████████| 88/88 [00:37<00:00,  2.34it/s]\n"
          ]
        },
        {
          "output_type": "stream",
          "name": "stdout",
          "text": [
            "\n",
            "Validation set: Average loss: 0.0009, Accuracy: 4337/5000 (86.74%)\n",
            "\n",
            "\n",
            "Test set: Average loss: 0.4618, Accuracy: 8679/10000 (86.79%)\n",
            "\n",
            "EPOCHS : 40\n"
          ]
        },
        {
          "output_type": "stream",
          "name": "stderr",
          "text": [
            "Batch_id=87 Batch Loss=0.21260720491409302 Running Loss=13.678135119378567 Running Accuracy=94.45: 100%|██████████| 88/88 [00:37<00:00,  2.37it/s]\n"
          ]
        },
        {
          "output_type": "stream",
          "name": "stdout",
          "text": [
            "\n",
            "Validation set: Average loss: 0.0009, Accuracy: 4314/5000 (86.28%)\n",
            "\n",
            "\n",
            "Test set: Average loss: 0.4622, Accuracy: 8674/10000 (86.74%)\n",
            "\n",
            "EPOCHS : 41\n"
          ]
        },
        {
          "output_type": "stream",
          "name": "stderr",
          "text": [
            "Batch_id=87 Batch Loss=0.14290741086006165 Running Loss=13.854275770485401 Running Accuracy=94.39: 100%|██████████| 88/88 [00:36<00:00,  2.39it/s]\n"
          ]
        },
        {
          "output_type": "stream",
          "name": "stdout",
          "text": [
            "\n",
            "Validation set: Average loss: 0.0008, Accuracy: 4379/5000 (87.58%)\n",
            "\n",
            "\n",
            "Test set: Average loss: 0.4273, Accuracy: 8759/10000 (87.59%)\n",
            "\n",
            "EPOCHS : 42\n"
          ]
        },
        {
          "output_type": "stream",
          "name": "stderr",
          "text": [
            "Batch_id=87 Batch Loss=0.15276044607162476 Running Loss=13.321062333881855 Running Accuracy=94.70: 100%|██████████| 88/88 [00:38<00:00,  2.26it/s]\n"
          ]
        },
        {
          "output_type": "stream",
          "name": "stdout",
          "text": [
            "\n",
            "Validation set: Average loss: 0.0008, Accuracy: 4407/5000 (88.14%)\n",
            "\n",
            "\n",
            "Test set: Average loss: 0.4220, Accuracy: 8769/10000 (87.69%)\n",
            "\n",
            "EPOCHS : 43\n"
          ]
        },
        {
          "output_type": "stream",
          "name": "stderr",
          "text": [
            "Batch_id=87 Batch Loss=0.1706351935863495 Running Loss=12.915097519755363 Running Accuracy=94.84: 100%|██████████| 88/88 [00:37<00:00,  2.33it/s]\n"
          ]
        },
        {
          "output_type": "stream",
          "name": "stdout",
          "text": [
            "\n",
            "Validation set: Average loss: 0.0009, Accuracy: 4386/5000 (87.72%)\n",
            "\n",
            "\n",
            "Test set: Average loss: 0.4412, Accuracy: 8742/10000 (87.42%)\n",
            "\n",
            "EPOCHS : 44\n"
          ]
        },
        {
          "output_type": "stream",
          "name": "stderr",
          "text": [
            "Batch_id=87 Batch Loss=0.1645675152540207 Running Loss=12.04229125380516 Running Accuracy=95.11: 100%|██████████| 88/88 [00:38<00:00,  2.27it/s]\n"
          ]
        },
        {
          "output_type": "stream",
          "name": "stdout",
          "text": [
            "\n",
            "Validation set: Average loss: 0.0009, Accuracy: 4400/5000 (88.00%)\n",
            "\n",
            "\n",
            "Test set: Average loss: 0.4201, Accuracy: 8820/10000 (88.20%)\n",
            "\n",
            "EPOCHS : 45\n"
          ]
        },
        {
          "output_type": "stream",
          "name": "stderr",
          "text": [
            "Batch_id=87 Batch Loss=0.16711753606796265 Running Loss=12.316711112856865 Running Accuracy=95.05: 100%|██████████| 88/88 [00:37<00:00,  2.33it/s]\n"
          ]
        },
        {
          "output_type": "stream",
          "name": "stdout",
          "text": [
            "\n",
            "Validation set: Average loss: 0.0008, Accuracy: 4401/5000 (88.02%)\n",
            "\n",
            "\n",
            "Test set: Average loss: 0.4041, Accuracy: 8849/10000 (88.49%)\n",
            "\n",
            "EPOCHS : 46\n"
          ]
        },
        {
          "output_type": "stream",
          "name": "stderr",
          "text": [
            "Batch_id=87 Batch Loss=0.1371605098247528 Running Loss=11.377396181225777 Running Accuracy=95.48: 100%|██████████| 88/88 [00:37<00:00,  2.36it/s]\n"
          ]
        },
        {
          "output_type": "stream",
          "name": "stdout",
          "text": [
            "\n",
            "Validation set: Average loss: 0.0007, Accuracy: 4466/5000 (89.32%)\n",
            "\n",
            "\n",
            "Test set: Average loss: 0.3675, Accuracy: 8923/10000 (89.23%)\n",
            "\n",
            "EPOCHS : 47\n"
          ]
        },
        {
          "output_type": "stream",
          "name": "stderr",
          "text": [
            "Batch_id=87 Batch Loss=0.12034260481595993 Running Loss=12.045526996254921 Running Accuracy=95.21: 100%|██████████| 88/88 [00:37<00:00,  2.34it/s]\n"
          ]
        },
        {
          "output_type": "stream",
          "name": "stdout",
          "text": [
            "\n",
            "Validation set: Average loss: 0.0008, Accuracy: 4429/5000 (88.58%)\n",
            "\n",
            "\n",
            "Test set: Average loss: 0.4118, Accuracy: 8819/10000 (88.19%)\n",
            "\n",
            "EPOCHS : 48\n"
          ]
        },
        {
          "output_type": "stream",
          "name": "stderr",
          "text": [
            "Batch_id=87 Batch Loss=0.1394987404346466 Running Loss=10.93754506856203 Running Accuracy=95.68: 100%|██████████| 88/88 [00:37<00:00,  2.33it/s]\n"
          ]
        },
        {
          "output_type": "stream",
          "name": "stdout",
          "text": [
            "\n",
            "Validation set: Average loss: 0.0007, Accuracy: 4438/5000 (88.76%)\n",
            "\n",
            "\n",
            "Test set: Average loss: 0.3760, Accuracy: 8917/10000 (89.17%)\n",
            "\n",
            "EPOCHS : 49\n"
          ]
        },
        {
          "output_type": "stream",
          "name": "stderr",
          "text": [
            "Batch_id=87 Batch Loss=0.1300889104604721 Running Loss=11.003946527838707 Running Accuracy=95.65: 100%|██████████| 88/88 [00:37<00:00,  2.33it/s]\n"
          ]
        },
        {
          "output_type": "stream",
          "name": "stdout",
          "text": [
            "\n",
            "Validation set: Average loss: 0.0008, Accuracy: 4461/5000 (89.22%)\n",
            "\n",
            "\n",
            "Test set: Average loss: 0.3753, Accuracy: 8923/10000 (89.23%)\n",
            "\n",
            "EPOCHS : 50\n"
          ]
        },
        {
          "output_type": "stream",
          "name": "stderr",
          "text": [
            "Batch_id=87 Batch Loss=0.10399258136749268 Running Loss=10.73470152914524 Running Accuracy=95.60: 100%|██████████| 88/88 [00:37<00:00,  2.32it/s]\n"
          ]
        },
        {
          "output_type": "stream",
          "name": "stdout",
          "text": [
            "\n",
            "Validation set: Average loss: 0.0008, Accuracy: 4432/5000 (88.64%)\n",
            "\n",
            "\n",
            "Test set: Average loss: 0.3941, Accuracy: 8887/10000 (88.87%)\n",
            "\n",
            "EPOCHS : 51\n"
          ]
        },
        {
          "output_type": "stream",
          "name": "stderr",
          "text": [
            "Batch_id=87 Batch Loss=0.08205319195985794 Running Loss=10.219572968780994 Running Accuracy=95.92: 100%|██████████| 88/88 [00:37<00:00,  2.36it/s]\n"
          ]
        },
        {
          "output_type": "stream",
          "name": "stdout",
          "text": [
            "\n",
            "Validation set: Average loss: 0.0008, Accuracy: 4399/5000 (87.98%)\n",
            "\n",
            "\n",
            "Test set: Average loss: 0.4249, Accuracy: 8772/10000 (87.72%)\n",
            "\n",
            "EPOCHS : 52\n"
          ]
        },
        {
          "output_type": "stream",
          "name": "stderr",
          "text": [
            "Batch_id=87 Batch Loss=0.13264763355255127 Running Loss=10.058917507529259 Running Accuracy=96.06: 100%|██████████| 88/88 [00:37<00:00,  2.33it/s]\n"
          ]
        },
        {
          "output_type": "stream",
          "name": "stdout",
          "text": [
            "\n",
            "Validation set: Average loss: 0.0007, Accuracy: 4469/5000 (89.38%)\n",
            "\n",
            "\n",
            "Test set: Average loss: 0.3665, Accuracy: 8948/10000 (89.48%)\n",
            "\n",
            "EPOCHS : 53\n"
          ]
        },
        {
          "output_type": "stream",
          "name": "stderr",
          "text": [
            "Batch_id=87 Batch Loss=0.13807076215744019 Running Loss=9.999112337827682 Running Accuracy=95.91: 100%|██████████| 88/88 [00:37<00:00,  2.35it/s]\n"
          ]
        },
        {
          "output_type": "stream",
          "name": "stdout",
          "text": [
            "\n",
            "Validation set: Average loss: 0.0009, Accuracy: 4380/5000 (87.60%)\n",
            "\n",
            "\n",
            "Test set: Average loss: 0.4547, Accuracy: 8789/10000 (87.89%)\n",
            "\n",
            "EPOCHS : 54\n"
          ]
        },
        {
          "output_type": "stream",
          "name": "stderr",
          "text": [
            "Batch_id=87 Batch Loss=0.10386306047439575 Running Loss=9.711436167359352 Running Accuracy=96.26: 100%|██████████| 88/88 [00:37<00:00,  2.34it/s]\n"
          ]
        },
        {
          "output_type": "stream",
          "name": "stdout",
          "text": [
            "\n",
            "Validation set: Average loss: 0.0008, Accuracy: 4454/5000 (89.08%)\n",
            "\n",
            "\n",
            "Test set: Average loss: 0.3835, Accuracy: 8920/10000 (89.20%)\n",
            "\n",
            "EPOCHS : 55\n"
          ]
        },
        {
          "output_type": "stream",
          "name": "stderr",
          "text": [
            "Batch_id=87 Batch Loss=0.08968468010425568 Running Loss=9.329402089118958 Running Accuracy=96.19: 100%|██████████| 88/88 [00:37<00:00,  2.35it/s]\n"
          ]
        },
        {
          "output_type": "stream",
          "name": "stdout",
          "text": [
            "\n",
            "Validation set: Average loss: 0.0008, Accuracy: 4424/5000 (88.48%)\n",
            "\n",
            "\n",
            "Test set: Average loss: 0.4012, Accuracy: 8905/10000 (89.05%)\n",
            "\n",
            "EPOCHS : 56\n"
          ]
        },
        {
          "output_type": "stream",
          "name": "stderr",
          "text": [
            "Batch_id=87 Batch Loss=0.07136350870132446 Running Loss=8.709704600274563 Running Accuracy=96.45: 100%|██████████| 88/88 [00:37<00:00,  2.33it/s]\n"
          ]
        },
        {
          "output_type": "stream",
          "name": "stdout",
          "text": [
            "\n",
            "Validation set: Average loss: 0.0008, Accuracy: 4476/5000 (89.52%)\n",
            "\n",
            "\n",
            "Test set: Average loss: 0.3969, Accuracy: 8905/10000 (89.05%)\n",
            "\n",
            "EPOCHS : 57\n"
          ]
        },
        {
          "output_type": "stream",
          "name": "stderr",
          "text": [
            "Batch_id=87 Batch Loss=0.11529067158699036 Running Loss=8.716946929693222 Running Accuracy=96.46: 100%|██████████| 88/88 [00:38<00:00,  2.28it/s]\n"
          ]
        },
        {
          "output_type": "stream",
          "name": "stdout",
          "text": [
            "\n",
            "Validation set: Average loss: 0.0008, Accuracy: 4471/5000 (89.42%)\n",
            "\n",
            "\n",
            "Test set: Average loss: 0.3956, Accuracy: 8904/10000 (89.04%)\n",
            "\n",
            "EPOCHS : 58\n"
          ]
        },
        {
          "output_type": "stream",
          "name": "stderr",
          "text": [
            "Batch_id=87 Batch Loss=0.12529610097408295 Running Loss=8.33097655326128 Running Accuracy=96.71: 100%|██████████| 88/88 [00:37<00:00,  2.34it/s]\n"
          ]
        },
        {
          "output_type": "stream",
          "name": "stdout",
          "text": [
            "\n",
            "Validation set: Average loss: 0.0008, Accuracy: 4481/5000 (89.62%)\n",
            "\n",
            "\n",
            "Test set: Average loss: 0.3731, Accuracy: 8962/10000 (89.62%)\n",
            "\n",
            "EPOCHS : 59\n"
          ]
        },
        {
          "output_type": "stream",
          "name": "stderr",
          "text": [
            "Batch_id=87 Batch Loss=0.12079057097434998 Running Loss=8.417611997574568 Running Accuracy=96.59: 100%|██████████| 88/88 [00:38<00:00,  2.30it/s]\n"
          ]
        },
        {
          "output_type": "stream",
          "name": "stdout",
          "text": [
            "\n",
            "Validation set: Average loss: 0.0009, Accuracy: 4406/5000 (88.12%)\n",
            "\n",
            "\n",
            "Test set: Average loss: 0.4410, Accuracy: 8849/10000 (88.49%)\n",
            "\n",
            "EPOCHS : 60\n"
          ]
        },
        {
          "output_type": "stream",
          "name": "stderr",
          "text": [
            "Batch_id=87 Batch Loss=0.07246547192335129 Running Loss=7.87898538261652 Running Accuracy=96.82: 100%|██████████| 88/88 [00:36<00:00,  2.39it/s]\n"
          ]
        },
        {
          "output_type": "stream",
          "name": "stdout",
          "text": [
            "\n",
            "Validation set: Average loss: 0.0008, Accuracy: 4456/5000 (89.12%)\n",
            "\n",
            "\n",
            "Test set: Average loss: 0.4043, Accuracy: 8893/10000 (88.93%)\n",
            "\n",
            "EPOCHS : 61\n"
          ]
        },
        {
          "output_type": "stream",
          "name": "stderr",
          "text": [
            "Batch_id=87 Batch Loss=0.10682042688131332 Running Loss=7.683021996170282 Running Accuracy=96.90: 100%|██████████| 88/88 [00:37<00:00,  2.37it/s]\n"
          ]
        },
        {
          "output_type": "stream",
          "name": "stdout",
          "text": [
            "\n",
            "Validation set: Average loss: 0.0008, Accuracy: 4480/5000 (89.60%)\n",
            "\n",
            "\n",
            "Test set: Average loss: 0.3793, Accuracy: 8953/10000 (89.53%)\n",
            "\n",
            "EPOCHS : 62\n"
          ]
        },
        {
          "output_type": "stream",
          "name": "stderr",
          "text": [
            "Batch_id=87 Batch Loss=0.09441082924604416 Running Loss=7.58298597112298 Running Accuracy=97.05: 100%|██████████| 88/88 [00:39<00:00,  2.26it/s]\n"
          ]
        },
        {
          "output_type": "stream",
          "name": "stdout",
          "text": [
            "\n",
            "Validation set: Average loss: 0.0008, Accuracy: 4464/5000 (89.28%)\n",
            "\n",
            "\n",
            "Test set: Average loss: 0.4198, Accuracy: 8897/10000 (88.97%)\n",
            "\n",
            "EPOCHS : 63\n"
          ]
        },
        {
          "output_type": "stream",
          "name": "stderr",
          "text": [
            "Batch_id=87 Batch Loss=0.0879184827208519 Running Loss=7.410453964024782 Running Accuracy=97.08: 100%|██████████| 88/88 [00:37<00:00,  2.32it/s]\n"
          ]
        },
        {
          "output_type": "stream",
          "name": "stdout",
          "text": [
            "\n",
            "Validation set: Average loss: 0.0008, Accuracy: 4469/5000 (89.38%)\n",
            "\n",
            "\n",
            "Test set: Average loss: 0.3892, Accuracy: 8956/10000 (89.56%)\n",
            "\n",
            "EPOCHS : 64\n"
          ]
        },
        {
          "output_type": "stream",
          "name": "stderr",
          "text": [
            "Batch_id=87 Batch Loss=0.07817068696022034 Running Loss=7.76490043848753 Running Accuracy=96.91: 100%|██████████| 88/88 [00:37<00:00,  2.33it/s]\n"
          ]
        },
        {
          "output_type": "stream",
          "name": "stdout",
          "text": [
            "\n",
            "Validation set: Average loss: 0.0009, Accuracy: 4430/5000 (88.60%)\n",
            "\n",
            "\n",
            "Test set: Average loss: 0.4619, Accuracy: 8830/10000 (88.30%)\n",
            "\n",
            "EPOCHS : 65\n"
          ]
        },
        {
          "output_type": "stream",
          "name": "stderr",
          "text": [
            "Batch_id=87 Batch Loss=0.07610750943422318 Running Loss=7.221429985016584 Running Accuracy=97.14: 100%|██████████| 88/88 [00:38<00:00,  2.30it/s]\n"
          ]
        },
        {
          "output_type": "stream",
          "name": "stdout",
          "text": [
            "\n",
            "Validation set: Average loss: 0.0007, Accuracy: 4481/5000 (89.62%)\n",
            "\n",
            "\n",
            "Test set: Average loss: 0.3578, Accuracy: 9025/10000 (90.25%)\n",
            "\n",
            "EPOCHS : 66\n"
          ]
        },
        {
          "output_type": "stream",
          "name": "stderr",
          "text": [
            "Batch_id=87 Batch Loss=0.15089334547519684 Running Loss=7.108788471668959 Running Accuracy=97.14: 100%|██████████| 88/88 [00:37<00:00,  2.36it/s]\n"
          ]
        },
        {
          "output_type": "stream",
          "name": "stdout",
          "text": [
            "\n",
            "Validation set: Average loss: 0.0008, Accuracy: 4455/5000 (89.10%)\n",
            "\n",
            "\n",
            "Test set: Average loss: 0.4071, Accuracy: 8935/10000 (89.35%)\n",
            "\n",
            "EPOCHS : 67\n"
          ]
        },
        {
          "output_type": "stream",
          "name": "stderr",
          "text": [
            "Batch_id=87 Batch Loss=0.06311705708503723 Running Loss=6.620337583124638 Running Accuracy=97.36: 100%|██████████| 88/88 [00:38<00:00,  2.30it/s]\n"
          ]
        },
        {
          "output_type": "stream",
          "name": "stdout",
          "text": [
            "\n",
            "Validation set: Average loss: 0.0007, Accuracy: 4485/5000 (89.70%)\n",
            "\n",
            "\n",
            "Test set: Average loss: 0.3945, Accuracy: 8945/10000 (89.45%)\n",
            "\n",
            "EPOCHS : 68\n"
          ]
        },
        {
          "output_type": "stream",
          "name": "stderr",
          "text": [
            "Batch_id=87 Batch Loss=0.06258411705493927 Running Loss=6.13424614071846 Running Accuracy=97.57: 100%|██████████| 88/88 [00:37<00:00,  2.32it/s]\n"
          ]
        },
        {
          "output_type": "stream",
          "name": "stdout",
          "text": [
            "\n",
            "Validation set: Average loss: 0.0007, Accuracy: 4509/5000 (90.18%)\n",
            "\n",
            "\n",
            "Test set: Average loss: 0.3668, Accuracy: 9013/10000 (90.13%)\n",
            "\n",
            "EPOCHS : 69\n"
          ]
        },
        {
          "output_type": "stream",
          "name": "stderr",
          "text": [
            "Batch_id=87 Batch Loss=0.049436889588832855 Running Loss=6.353303387761116 Running Accuracy=97.50: 100%|██████████| 88/88 [00:38<00:00,  2.29it/s]\n"
          ]
        },
        {
          "output_type": "stream",
          "name": "stdout",
          "text": [
            "\n",
            "Validation set: Average loss: 0.0008, Accuracy: 4488/5000 (89.76%)\n",
            "\n",
            "\n",
            "Test set: Average loss: 0.4131, Accuracy: 8972/10000 (89.72%)\n",
            "\n",
            "EPOCHS : 70\n"
          ]
        },
        {
          "output_type": "stream",
          "name": "stderr",
          "text": [
            "Batch_id=87 Batch Loss=0.09053268283605576 Running Loss=6.303316444158554 Running Accuracy=97.50: 100%|██████████| 88/88 [00:38<00:00,  2.31it/s]\n"
          ]
        },
        {
          "output_type": "stream",
          "name": "stdout",
          "text": [
            "\n",
            "Validation set: Average loss: 0.0008, Accuracy: 4450/5000 (89.00%)\n",
            "\n",
            "\n",
            "Test set: Average loss: 0.4348, Accuracy: 8912/10000 (89.12%)\n",
            "\n",
            "EPOCHS : 71\n"
          ]
        },
        {
          "output_type": "stream",
          "name": "stderr",
          "text": [
            "Batch_id=87 Batch Loss=0.059870168566703796 Running Loss=6.211975663900375 Running Accuracy=97.55: 100%|██████████| 88/88 [00:37<00:00,  2.37it/s]\n"
          ]
        },
        {
          "output_type": "stream",
          "name": "stdout",
          "text": [
            "\n",
            "Validation set: Average loss: 0.0008, Accuracy: 4463/5000 (89.26%)\n",
            "\n",
            "Epoch 00072: reducing learning rate of group 0 to 1.0000e-03.\n",
            "\n",
            "Test set: Average loss: 0.4095, Accuracy: 8958/10000 (89.58%)\n",
            "\n",
            "EPOCHS : 72\n"
          ]
        },
        {
          "output_type": "stream",
          "name": "stderr",
          "text": [
            "Batch_id=87 Batch Loss=0.056440066546201706 Running Loss=4.401388477534056 Running Accuracy=98.31: 100%|██████████| 88/88 [00:40<00:00,  2.19it/s]\n"
          ]
        },
        {
          "output_type": "stream",
          "name": "stdout",
          "text": [
            "\n",
            "Validation set: Average loss: 0.0006, Accuracy: 4580/5000 (91.60%)\n",
            "\n",
            "\n",
            "Test set: Average loss: 0.3131, Accuracy: 9158/10000 (91.58%)\n",
            "\n",
            "EPOCHS : 73\n"
          ]
        },
        {
          "output_type": "stream",
          "name": "stderr",
          "text": [
            "Batch_id=87 Batch Loss=0.033252641558647156 Running Loss=3.4138150457292795 Running Accuracy=98.79: 100%|██████████| 88/88 [00:37<00:00,  2.34it/s]\n"
          ]
        },
        {
          "output_type": "stream",
          "name": "stdout",
          "text": [
            "\n",
            "Validation set: Average loss: 0.0006, Accuracy: 4576/5000 (91.52%)\n",
            "\n",
            "\n",
            "Test set: Average loss: 0.3112, Accuracy: 9165/10000 (91.65%)\n",
            "\n",
            "EPOCHS : 74\n"
          ]
        },
        {
          "output_type": "stream",
          "name": "stderr",
          "text": [
            "Batch_id=87 Batch Loss=0.0383010059595108 Running Loss=2.9523888314142823 Running Accuracy=99.05: 100%|██████████| 88/88 [00:38<00:00,  2.29it/s]\n"
          ]
        },
        {
          "output_type": "stream",
          "name": "stdout",
          "text": [
            "\n",
            "Validation set: Average loss: 0.0006, Accuracy: 4578/5000 (91.56%)\n",
            "\n",
            "\n",
            "Test set: Average loss: 0.3109, Accuracy: 9177/10000 (91.77%)\n",
            "\n",
            "EPOCHS : 75\n"
          ]
        },
        {
          "output_type": "stream",
          "name": "stderr",
          "text": [
            "Batch_id=87 Batch Loss=0.045424334704875946 Running Loss=2.9335634987801313 Running Accuracy=99.04: 100%|██████████| 88/88 [00:37<00:00,  2.32it/s]\n"
          ]
        },
        {
          "output_type": "stream",
          "name": "stdout",
          "text": [
            "\n",
            "Validation set: Average loss: 0.0006, Accuracy: 4587/5000 (91.74%)\n",
            "\n",
            "\n",
            "Test set: Average loss: 0.3100, Accuracy: 9178/10000 (91.78%)\n",
            "\n",
            "EPOCHS : 76\n"
          ]
        },
        {
          "output_type": "stream",
          "name": "stderr",
          "text": [
            "Batch_id=87 Batch Loss=0.030471039935946465 Running Loss=2.7784674568101764 Running Accuracy=99.12: 100%|██████████| 88/88 [00:38<00:00,  2.31it/s]\n"
          ]
        },
        {
          "output_type": "stream",
          "name": "stdout",
          "text": [
            "\n",
            "Validation set: Average loss: 0.0006, Accuracy: 4587/5000 (91.74%)\n",
            "\n",
            "\n",
            "Test set: Average loss: 0.3101, Accuracy: 9165/10000 (91.65%)\n",
            "\n",
            "EPOCHS : 77\n"
          ]
        },
        {
          "output_type": "stream",
          "name": "stderr",
          "text": [
            "Batch_id=87 Batch Loss=0.04004392400383949 Running Loss=2.6589160077273846 Running Accuracy=99.12: 100%|██████████| 88/88 [00:38<00:00,  2.30it/s]\n"
          ]
        },
        {
          "output_type": "stream",
          "name": "stdout",
          "text": [
            "\n",
            "Validation set: Average loss: 0.0006, Accuracy: 4593/5000 (91.86%)\n",
            "\n",
            "\n",
            "Test set: Average loss: 0.3093, Accuracy: 9163/10000 (91.63%)\n",
            "\n",
            "EPOCHS : 78\n"
          ]
        },
        {
          "output_type": "stream",
          "name": "stderr",
          "text": [
            "Batch_id=87 Batch Loss=0.023576775565743446 Running Loss=2.561784088611603 Running Accuracy=99.17: 100%|██████████| 88/88 [00:36<00:00,  2.38it/s]\n"
          ]
        },
        {
          "output_type": "stream",
          "name": "stdout",
          "text": [
            "\n",
            "Validation set: Average loss: 0.0006, Accuracy: 4594/5000 (91.88%)\n",
            "\n",
            "\n",
            "Test set: Average loss: 0.3090, Accuracy: 9185/10000 (91.85%)\n",
            "\n",
            "EPOCHS : 79\n"
          ]
        },
        {
          "output_type": "stream",
          "name": "stderr",
          "text": [
            "Batch_id=87 Batch Loss=0.035717837512493134 Running Loss=2.5188288437202573 Running Accuracy=99.18: 100%|██████████| 88/88 [00:37<00:00,  2.32it/s]\n"
          ]
        },
        {
          "output_type": "stream",
          "name": "stdout",
          "text": [
            "\n",
            "Validation set: Average loss: 0.0006, Accuracy: 4587/5000 (91.74%)\n",
            "\n",
            "\n",
            "Test set: Average loss: 0.3116, Accuracy: 9177/10000 (91.77%)\n",
            "\n",
            "EPOCHS : 80\n"
          ]
        },
        {
          "output_type": "stream",
          "name": "stderr",
          "text": [
            "Batch_id=87 Batch Loss=0.017039304599165916 Running Loss=2.5584083683788776 Running Accuracy=99.15: 100%|██████████| 88/88 [00:37<00:00,  2.32it/s]\n"
          ]
        },
        {
          "output_type": "stream",
          "name": "stdout",
          "text": [
            "\n",
            "Validation set: Average loss: 0.0006, Accuracy: 4582/5000 (91.64%)\n",
            "\n",
            "\n",
            "Test set: Average loss: 0.3061, Accuracy: 9194/10000 (91.94%)\n",
            "\n",
            "EPOCHS : 81\n"
          ]
        },
        {
          "output_type": "stream",
          "name": "stderr",
          "text": [
            "Batch_id=87 Batch Loss=0.029213922098279 Running Loss=2.43502008728683 Running Accuracy=99.19: 100%|██████████| 88/88 [00:37<00:00,  2.34it/s]\n"
          ]
        },
        {
          "output_type": "stream",
          "name": "stdout",
          "text": [
            "\n",
            "Validation set: Average loss: 0.0006, Accuracy: 4597/5000 (91.94%)\n",
            "\n",
            "\n",
            "Test set: Average loss: 0.3061, Accuracy: 9195/10000 (91.95%)\n",
            "\n",
            "EPOCHS : 82\n"
          ]
        },
        {
          "output_type": "stream",
          "name": "stderr",
          "text": [
            "Batch_id=87 Batch Loss=0.03301810845732689 Running Loss=2.341465385630727 Running Accuracy=99.28: 100%|██████████| 88/88 [00:37<00:00,  2.33it/s]\n"
          ]
        },
        {
          "output_type": "stream",
          "name": "stdout",
          "text": [
            "\n",
            "Validation set: Average loss: 0.0006, Accuracy: 4595/5000 (91.90%)\n",
            "\n",
            "\n",
            "Test set: Average loss: 0.3102, Accuracy: 9185/10000 (91.85%)\n",
            "\n",
            "EPOCHS : 83\n"
          ]
        },
        {
          "output_type": "stream",
          "name": "stderr",
          "text": [
            "Batch_id=87 Batch Loss=0.025021445006132126 Running Loss=2.3680091397836804 Running Accuracy=99.27: 100%|██████████| 88/88 [00:36<00:00,  2.38it/s]\n"
          ]
        },
        {
          "output_type": "stream",
          "name": "stdout",
          "text": [
            "\n",
            "Validation set: Average loss: 0.0006, Accuracy: 4596/5000 (91.92%)\n",
            "\n",
            "\n",
            "Test set: Average loss: 0.3092, Accuracy: 9182/10000 (91.82%)\n",
            "\n",
            "EPOCHS : 84\n"
          ]
        },
        {
          "output_type": "stream",
          "name": "stderr",
          "text": [
            "Batch_id=87 Batch Loss=0.019168870523571968 Running Loss=2.344503498636186 Running Accuracy=99.31: 100%|██████████| 88/88 [00:37<00:00,  2.32it/s]\n"
          ]
        },
        {
          "output_type": "stream",
          "name": "stdout",
          "text": [
            "\n",
            "Validation set: Average loss: 0.0006, Accuracy: 4585/5000 (91.70%)\n",
            "\n",
            "\n",
            "Test set: Average loss: 0.3099, Accuracy: 9193/10000 (91.93%)\n",
            "\n",
            "EPOCHS : 85\n"
          ]
        },
        {
          "output_type": "stream",
          "name": "stderr",
          "text": [
            "Batch_id=87 Batch Loss=0.017042987048625946 Running Loss=2.3098886972293258 Running Accuracy=99.27: 100%|██████████| 88/88 [00:37<00:00,  2.34it/s]\n"
          ]
        },
        {
          "output_type": "stream",
          "name": "stdout",
          "text": [
            "\n",
            "Validation set: Average loss: 0.0006, Accuracy: 4598/5000 (91.96%)\n",
            "\n",
            "\n",
            "Test set: Average loss: 0.3112, Accuracy: 9197/10000 (91.97%)\n",
            "\n",
            "EPOCHS : 86\n"
          ]
        },
        {
          "output_type": "stream",
          "name": "stderr",
          "text": [
            "Batch_id=87 Batch Loss=0.03183664008975029 Running Loss=2.2141615888103843 Running Accuracy=99.35: 100%|██████████| 88/88 [00:37<00:00,  2.34it/s]\n"
          ]
        },
        {
          "output_type": "stream",
          "name": "stdout",
          "text": [
            "\n",
            "Validation set: Average loss: 0.0006, Accuracy: 4590/5000 (91.80%)\n",
            "\n",
            "\n",
            "Test set: Average loss: 0.3120, Accuracy: 9183/10000 (91.83%)\n",
            "\n",
            "EPOCHS : 87\n"
          ]
        },
        {
          "output_type": "stream",
          "name": "stderr",
          "text": [
            "Batch_id=87 Batch Loss=0.020431499928236008 Running Loss=2.230724222958088 Running Accuracy=99.31: 100%|██████████| 88/88 [00:37<00:00,  2.32it/s]\n"
          ]
        },
        {
          "output_type": "stream",
          "name": "stdout",
          "text": [
            "\n",
            "Validation set: Average loss: 0.0006, Accuracy: 4584/5000 (91.68%)\n",
            "\n",
            "\n",
            "Test set: Average loss: 0.3090, Accuracy: 9192/10000 (91.92%)\n",
            "\n",
            "EPOCHS : 88\n"
          ]
        },
        {
          "output_type": "stream",
          "name": "stderr",
          "text": [
            "Batch_id=87 Batch Loss=0.052854642271995544 Running Loss=2.267234353348613 Running Accuracy=99.30: 100%|██████████| 88/88 [00:37<00:00,  2.38it/s]\n"
          ]
        },
        {
          "output_type": "stream",
          "name": "stdout",
          "text": [
            "\n",
            "Validation set: Average loss: 0.0006, Accuracy: 4587/5000 (91.74%)\n",
            "\n",
            "\n",
            "Test set: Average loss: 0.3099, Accuracy: 9188/10000 (91.88%)\n",
            "\n",
            "EPOCHS : 89\n"
          ]
        },
        {
          "output_type": "stream",
          "name": "stderr",
          "text": [
            "Batch_id=87 Batch Loss=0.033698275685310364 Running Loss=2.194830307736993 Running Accuracy=99.34: 100%|██████████| 88/88 [00:37<00:00,  2.32it/s]\n"
          ]
        },
        {
          "output_type": "stream",
          "name": "stdout",
          "text": [
            "\n",
            "Validation set: Average loss: 0.0006, Accuracy: 4590/5000 (91.80%)\n",
            "\n",
            "\n",
            "Test set: Average loss: 0.3118, Accuracy: 9185/10000 (91.85%)\n",
            "\n",
            "EPOCHS : 90\n"
          ]
        },
        {
          "output_type": "stream",
          "name": "stderr",
          "text": [
            "Batch_id=87 Batch Loss=0.020467763766646385 Running Loss=2.1125418981537223 Running Accuracy=99.41: 100%|██████████| 88/88 [00:37<00:00,  2.32it/s]\n"
          ]
        },
        {
          "output_type": "stream",
          "name": "stdout",
          "text": [
            "\n",
            "Validation set: Average loss: 0.0006, Accuracy: 4592/5000 (91.84%)\n",
            "\n",
            "\n",
            "Test set: Average loss: 0.3080, Accuracy: 9182/10000 (91.82%)\n",
            "\n",
            "EPOCHS : 91\n"
          ]
        },
        {
          "output_type": "stream",
          "name": "stderr",
          "text": [
            "Batch_id=87 Batch Loss=0.010571055114269257 Running Loss=2.1560547091066837 Running Accuracy=99.34: 100%|██████████| 88/88 [00:37<00:00,  2.33it/s]\n"
          ]
        },
        {
          "output_type": "stream",
          "name": "stdout",
          "text": [
            "\n",
            "Validation set: Average loss: 0.0006, Accuracy: 4592/5000 (91.84%)\n",
            "\n",
            "\n",
            "Test set: Average loss: 0.3131, Accuracy: 9190/10000 (91.90%)\n",
            "\n",
            "EPOCHS : 92\n"
          ]
        },
        {
          "output_type": "stream",
          "name": "stderr",
          "text": [
            "Batch_id=87 Batch Loss=0.02445848658680916 Running Loss=2.067247813567519 Running Accuracy=99.38: 100%|██████████| 88/88 [00:37<00:00,  2.32it/s]\n"
          ]
        },
        {
          "output_type": "stream",
          "name": "stdout",
          "text": [
            "\n",
            "Validation set: Average loss: 0.0006, Accuracy: 4599/5000 (91.98%)\n",
            "\n",
            "\n",
            "Test set: Average loss: 0.3136, Accuracy: 9190/10000 (91.90%)\n",
            "\n",
            "EPOCHS : 93\n"
          ]
        },
        {
          "output_type": "stream",
          "name": "stderr",
          "text": [
            "Batch_id=87 Batch Loss=0.022858619689941406 Running Loss=2.162474723532796 Running Accuracy=99.31: 100%|██████████| 88/88 [00:36<00:00,  2.39it/s]\n"
          ]
        },
        {
          "output_type": "stream",
          "name": "stdout",
          "text": [
            "\n",
            "Validation set: Average loss: 0.0006, Accuracy: 4596/5000 (91.92%)\n",
            "\n",
            "\n",
            "Test set: Average loss: 0.3120, Accuracy: 9185/10000 (91.85%)\n",
            "\n",
            "EPOCHS : 94\n"
          ]
        },
        {
          "output_type": "stream",
          "name": "stderr",
          "text": [
            "Batch_id=87 Batch Loss=0.02097460813820362 Running Loss=2.0002207858487964 Running Accuracy=99.42: 100%|██████████| 88/88 [00:37<00:00,  2.33it/s]\n"
          ]
        },
        {
          "output_type": "stream",
          "name": "stdout",
          "text": [
            "\n",
            "Validation set: Average loss: 0.0006, Accuracy: 4598/5000 (91.96%)\n",
            "\n",
            "\n",
            "Test set: Average loss: 0.3143, Accuracy: 9186/10000 (91.86%)\n",
            "\n",
            "EPOCHS : 95\n"
          ]
        },
        {
          "output_type": "stream",
          "name": "stderr",
          "text": [
            "Batch_id=87 Batch Loss=0.01545597892254591 Running Loss=2.160781489685178 Running Accuracy=99.28: 100%|██████████| 88/88 [00:37<00:00,  2.33it/s]\n"
          ]
        },
        {
          "output_type": "stream",
          "name": "stdout",
          "text": [
            "\n",
            "Validation set: Average loss: 0.0006, Accuracy: 4593/5000 (91.86%)\n",
            "\n",
            "\n",
            "Test set: Average loss: 0.3129, Accuracy: 9196/10000 (91.96%)\n",
            "\n",
            "EPOCHS : 96\n"
          ]
        },
        {
          "output_type": "stream",
          "name": "stderr",
          "text": [
            "Batch_id=87 Batch Loss=0.019002366811037064 Running Loss=1.9913042793050408 Running Accuracy=99.40: 100%|██████████| 88/88 [00:37<00:00,  2.35it/s]\n"
          ]
        },
        {
          "output_type": "stream",
          "name": "stdout",
          "text": [
            "\n",
            "Validation set: Average loss: 0.0006, Accuracy: 4598/5000 (91.96%)\n",
            "\n",
            "\n",
            "Test set: Average loss: 0.3128, Accuracy: 9179/10000 (91.79%)\n",
            "\n",
            "EPOCHS : 97\n"
          ]
        },
        {
          "output_type": "stream",
          "name": "stderr",
          "text": [
            "Batch_id=87 Batch Loss=0.02053362876176834 Running Loss=2.0671048164367676 Running Accuracy=99.36: 100%|██████████| 88/88 [00:37<00:00,  2.32it/s]\n"
          ]
        },
        {
          "output_type": "stream",
          "name": "stdout",
          "text": [
            "\n",
            "Validation set: Average loss: 0.0006, Accuracy: 4595/5000 (91.90%)\n",
            "\n",
            "\n",
            "Test set: Average loss: 0.3135, Accuracy: 9196/10000 (91.96%)\n",
            "\n",
            "EPOCHS : 98\n"
          ]
        },
        {
          "output_type": "stream",
          "name": "stderr",
          "text": [
            "Batch_id=87 Batch Loss=0.028578724712133408 Running Loss=1.9305143523961306 Running Accuracy=99.42: 100%|██████████| 88/88 [00:37<00:00,  2.38it/s]\n"
          ]
        },
        {
          "output_type": "stream",
          "name": "stdout",
          "text": [
            "\n",
            "Validation set: Average loss: 0.0006, Accuracy: 4587/5000 (91.74%)\n",
            "\n",
            "\n",
            "Test set: Average loss: 0.3182, Accuracy: 9178/10000 (91.78%)\n",
            "\n",
            "EPOCHS : 99\n"
          ]
        },
        {
          "output_type": "stream",
          "name": "stderr",
          "text": [
            "Batch_id=87 Batch Loss=0.019984111189842224 Running Loss=1.9526029815897346 Running Accuracy=99.38: 100%|██████████| 88/88 [00:37<00:00,  2.33it/s]\n"
          ]
        },
        {
          "output_type": "stream",
          "name": "stdout",
          "text": [
            "\n",
            "Validation set: Average loss: 0.0006, Accuracy: 4589/5000 (91.78%)\n",
            "\n",
            "\n",
            "Test set: Average loss: 0.3154, Accuracy: 9188/10000 (91.88%)\n",
            "\n",
            "EPOCHS : 100\n"
          ]
        },
        {
          "output_type": "stream",
          "name": "stderr",
          "text": [
            "Batch_id=87 Batch Loss=0.01791257970035076 Running Loss=1.8483393620699644 Running Accuracy=99.46: 100%|██████████| 88/88 [00:37<00:00,  2.34it/s]\n"
          ]
        },
        {
          "output_type": "stream",
          "name": "stdout",
          "text": [
            "\n",
            "Validation set: Average loss: 0.0006, Accuracy: 4591/5000 (91.82%)\n",
            "\n",
            "\n",
            "Test set: Average loss: 0.3120, Accuracy: 9203/10000 (92.03%)\n",
            "\n",
            "EPOCHS : 101\n"
          ]
        },
        {
          "output_type": "stream",
          "name": "stderr",
          "text": [
            "Batch_id=87 Batch Loss=0.034859560430049896 Running Loss=1.9279806418344378 Running Accuracy=99.41: 100%|██████████| 88/88 [00:37<00:00,  2.32it/s]\n"
          ]
        },
        {
          "output_type": "stream",
          "name": "stdout",
          "text": [
            "\n",
            "Validation set: Average loss: 0.0006, Accuracy: 4592/5000 (91.84%)\n",
            "\n",
            "\n",
            "Test set: Average loss: 0.3136, Accuracy: 9183/10000 (91.83%)\n",
            "\n",
            "EPOCHS : 102\n"
          ]
        },
        {
          "output_type": "stream",
          "name": "stderr",
          "text": [
            "Batch_id=87 Batch Loss=0.01551729068160057 Running Loss=1.8993020569905639 Running Accuracy=99.44: 100%|██████████| 88/88 [00:37<00:00,  2.35it/s]\n"
          ]
        },
        {
          "output_type": "stream",
          "name": "stdout",
          "text": [
            "\n",
            "Validation set: Average loss: 0.0006, Accuracy: 4585/5000 (91.70%)\n",
            "\n",
            "\n",
            "Test set: Average loss: 0.3164, Accuracy: 9187/10000 (91.87%)\n",
            "\n",
            "EPOCHS : 103\n"
          ]
        },
        {
          "output_type": "stream",
          "name": "stderr",
          "text": [
            "Batch_id=87 Batch Loss=0.01601850427687168 Running Loss=1.9021049747243524 Running Accuracy=99.40: 100%|██████████| 88/88 [00:37<00:00,  2.37it/s]\n"
          ]
        },
        {
          "output_type": "stream",
          "name": "stdout",
          "text": [
            "\n",
            "Validation set: Average loss: 0.0006, Accuracy: 4594/5000 (91.88%)\n",
            "\n",
            "Epoch 00104: reducing learning rate of group 0 to 1.0000e-04.\n",
            "\n",
            "Test set: Average loss: 0.3208, Accuracy: 9180/10000 (91.80%)\n",
            "\n",
            "EPOCHS : 104\n"
          ]
        },
        {
          "output_type": "stream",
          "name": "stderr",
          "text": [
            "Batch_id=87 Batch Loss=0.01982387900352478 Running Loss=1.8686895538121462 Running Accuracy=99.44: 100%|██████████| 88/88 [00:37<00:00,  2.35it/s]\n"
          ]
        },
        {
          "output_type": "stream",
          "name": "stdout",
          "text": [
            "\n",
            "Validation set: Average loss: 0.0006, Accuracy: 4589/5000 (91.78%)\n",
            "\n",
            "\n",
            "Test set: Average loss: 0.3147, Accuracy: 9197/10000 (91.97%)\n",
            "\n",
            "EPOCHS : 105\n"
          ]
        },
        {
          "output_type": "stream",
          "name": "stderr",
          "text": [
            "Batch_id=87 Batch Loss=0.02030142769217491 Running Loss=1.8457522690296173 Running Accuracy=99.45: 100%|██████████| 88/88 [00:37<00:00,  2.33it/s]\n"
          ]
        },
        {
          "output_type": "stream",
          "name": "stdout",
          "text": [
            "\n",
            "Validation set: Average loss: 0.0006, Accuracy: 4595/5000 (91.90%)\n",
            "\n",
            "\n",
            "Test set: Average loss: 0.3156, Accuracy: 9189/10000 (91.89%)\n",
            "\n",
            "EPOCHS : 106\n"
          ]
        },
        {
          "output_type": "stream",
          "name": "stderr",
          "text": [
            "Batch_id=87 Batch Loss=0.014939156360924244 Running Loss=1.769125634804368 Running Accuracy=99.54: 100%|██████████| 88/88 [00:37<00:00,  2.36it/s]\n"
          ]
        },
        {
          "output_type": "stream",
          "name": "stdout",
          "text": [
            "\n",
            "Validation set: Average loss: 0.0006, Accuracy: 4593/5000 (91.86%)\n",
            "\n",
            "\n",
            "Test set: Average loss: 0.3148, Accuracy: 9186/10000 (91.86%)\n",
            "\n",
            "EPOCHS : 107\n"
          ]
        },
        {
          "output_type": "stream",
          "name": "stderr",
          "text": [
            "Batch_id=87 Batch Loss=0.02197127975523472 Running Loss=1.8248330987989902 Running Accuracy=99.42: 100%|██████████| 88/88 [00:37<00:00,  2.32it/s]\n"
          ]
        },
        {
          "output_type": "stream",
          "name": "stdout",
          "text": [
            "\n",
            "Validation set: Average loss: 0.0006, Accuracy: 4593/5000 (91.86%)\n",
            "\n",
            "\n",
            "Test set: Average loss: 0.3147, Accuracy: 9195/10000 (91.95%)\n",
            "\n",
            "EPOCHS : 108\n"
          ]
        },
        {
          "output_type": "stream",
          "name": "stderr",
          "text": [
            "Batch_id=87 Batch Loss=0.013959513045847416 Running Loss=1.6771220620721579 Running Accuracy=99.54: 100%|██████████| 88/88 [00:37<00:00,  2.32it/s]\n"
          ]
        },
        {
          "output_type": "stream",
          "name": "stdout",
          "text": [
            "\n",
            "Validation set: Average loss: 0.0006, Accuracy: 4590/5000 (91.80%)\n",
            "\n",
            "\n",
            "Test set: Average loss: 0.3140, Accuracy: 9192/10000 (91.92%)\n",
            "\n",
            "EPOCHS : 109\n"
          ]
        },
        {
          "output_type": "stream",
          "name": "stderr",
          "text": [
            "Batch_id=87 Batch Loss=0.021605847403407097 Running Loss=1.783116809092462 Running Accuracy=99.49: 100%|██████████| 88/88 [00:37<00:00,  2.33it/s]\n"
          ]
        },
        {
          "output_type": "stream",
          "name": "stdout",
          "text": [
            "\n",
            "Validation set: Average loss: 0.0006, Accuracy: 4595/5000 (91.90%)\n",
            "\n",
            "\n",
            "Test set: Average loss: 0.3159, Accuracy: 9188/10000 (91.88%)\n",
            "\n",
            "EPOCHS : 110\n"
          ]
        },
        {
          "output_type": "stream",
          "name": "stderr",
          "text": [
            "Batch_id=87 Batch Loss=0.018254093825817108 Running Loss=1.882328082807362 Running Accuracy=99.41: 100%|██████████| 88/88 [00:38<00:00,  2.32it/s]\n"
          ]
        },
        {
          "output_type": "stream",
          "name": "stdout",
          "text": [
            "\n",
            "Validation set: Average loss: 0.0006, Accuracy: 4596/5000 (91.92%)\n",
            "\n",
            "\n",
            "Test set: Average loss: 0.3137, Accuracy: 9189/10000 (91.89%)\n",
            "\n",
            "EPOCHS : 111\n"
          ]
        },
        {
          "output_type": "stream",
          "name": "stderr",
          "text": [
            "Batch_id=87 Batch Loss=0.03365548700094223 Running Loss=1.8241520747542381 Running Accuracy=99.46: 100%|██████████| 88/88 [00:36<00:00,  2.38it/s]\n"
          ]
        },
        {
          "output_type": "stream",
          "name": "stdout",
          "text": [
            "\n",
            "Validation set: Average loss: 0.0006, Accuracy: 4601/5000 (92.02%)\n",
            "\n",
            "Epoch 00112: reducing learning rate of group 0 to 1.0000e-05.\n",
            "\n",
            "Test set: Average loss: 0.3129, Accuracy: 9191/10000 (91.91%)\n",
            "\n",
            "EPOCHS : 112\n"
          ]
        },
        {
          "output_type": "stream",
          "name": "stderr",
          "text": [
            "Batch_id=87 Batch Loss=0.016765350475907326 Running Loss=1.7694796361029148 Running Accuracy=99.46: 100%|██████████| 88/88 [00:37<00:00,  2.34it/s]\n"
          ]
        },
        {
          "output_type": "stream",
          "name": "stdout",
          "text": [
            "\n",
            "Validation set: Average loss: 0.0006, Accuracy: 4600/5000 (92.00%)\n",
            "\n",
            "\n",
            "Test set: Average loss: 0.3128, Accuracy: 9195/10000 (91.95%)\n",
            "\n",
            "EPOCHS : 113\n"
          ]
        },
        {
          "output_type": "stream",
          "name": "stderr",
          "text": [
            "Batch_id=87 Batch Loss=0.028173470869660378 Running Loss=1.8198554506525397 Running Accuracy=99.48: 100%|██████████| 88/88 [00:38<00:00,  2.31it/s]\n"
          ]
        },
        {
          "output_type": "stream",
          "name": "stdout",
          "text": [
            "\n",
            "Validation set: Average loss: 0.0006, Accuracy: 4600/5000 (92.00%)\n",
            "\n",
            "\n",
            "Test set: Average loss: 0.3143, Accuracy: 9192/10000 (91.92%)\n",
            "\n",
            "EPOCHS : 114\n"
          ]
        },
        {
          "output_type": "stream",
          "name": "stderr",
          "text": [
            "Batch_id=87 Batch Loss=0.030673280358314514 Running Loss=1.813309500925243 Running Accuracy=99.43: 100%|██████████| 88/88 [00:37<00:00,  2.36it/s]\n"
          ]
        },
        {
          "output_type": "stream",
          "name": "stdout",
          "text": [
            "\n",
            "Validation set: Average loss: 0.0006, Accuracy: 4600/5000 (92.00%)\n",
            "\n",
            "Epoch 00115: reducing learning rate of group 0 to 1.0000e-06.\n",
            "\n",
            "Test set: Average loss: 0.3134, Accuracy: 9189/10000 (91.89%)\n",
            "\n",
            "EPOCHS : 115\n"
          ]
        },
        {
          "output_type": "stream",
          "name": "stderr",
          "text": [
            "Batch_id=87 Batch Loss=0.012123077176511288 Running Loss=1.6976667745038867 Running Accuracy=99.54: 100%|██████████| 88/88 [00:37<00:00,  2.34it/s]\n"
          ]
        },
        {
          "output_type": "stream",
          "name": "stdout",
          "text": [
            "\n",
            "Validation set: Average loss: 0.0006, Accuracy: 4598/5000 (91.96%)\n",
            "\n",
            "\n",
            "Test set: Average loss: 0.3136, Accuracy: 9189/10000 (91.89%)\n",
            "\n",
            "EPOCHS : 116\n"
          ]
        },
        {
          "output_type": "stream",
          "name": "stderr",
          "text": [
            "Batch_id=87 Batch Loss=0.025487452745437622 Running Loss=1.8055365718901157 Running Accuracy=99.44: 100%|██████████| 88/88 [00:36<00:00,  2.38it/s]\n"
          ]
        },
        {
          "output_type": "stream",
          "name": "stdout",
          "text": [
            "\n",
            "Validation set: Average loss: 0.0006, Accuracy: 4599/5000 (91.98%)\n",
            "\n",
            "\n",
            "Test set: Average loss: 0.3136, Accuracy: 9193/10000 (91.93%)\n",
            "\n",
            "EPOCHS : 117\n"
          ]
        },
        {
          "output_type": "stream",
          "name": "stderr",
          "text": [
            "Batch_id=87 Batch Loss=0.01813306286931038 Running Loss=1.7412509992718697 Running Accuracy=99.47: 100%|██████████| 88/88 [00:37<00:00,  2.33it/s]\n"
          ]
        },
        {
          "output_type": "stream",
          "name": "stdout",
          "text": [
            "\n",
            "Validation set: Average loss: 0.0006, Accuracy: 4596/5000 (91.92%)\n",
            "\n",
            "Epoch 00118: reducing learning rate of group 0 to 1.0000e-07.\n",
            "\n",
            "Test set: Average loss: 0.3141, Accuracy: 9192/10000 (91.92%)\n",
            "\n",
            "EPOCHS : 118\n"
          ]
        },
        {
          "output_type": "stream",
          "name": "stderr",
          "text": [
            "Batch_id=87 Batch Loss=0.01634523831307888 Running Loss=1.7957828566432 Running Accuracy=99.50: 100%|██████████| 88/88 [00:37<00:00,  2.33it/s]\n"
          ]
        },
        {
          "output_type": "stream",
          "name": "stdout",
          "text": [
            "\n",
            "Validation set: Average loss: 0.0006, Accuracy: 4602/5000 (92.04%)\n",
            "\n",
            "\n",
            "Test set: Average loss: 0.3139, Accuracy: 9190/10000 (91.90%)\n",
            "\n",
            "EPOCHS : 119\n"
          ]
        },
        {
          "output_type": "stream",
          "name": "stderr",
          "text": [
            "Batch_id=87 Batch Loss=0.013905312865972519 Running Loss=1.7828077487647533 Running Accuracy=99.50: 100%|██████████| 88/88 [00:37<00:00,  2.34it/s]\n"
          ]
        },
        {
          "output_type": "stream",
          "name": "stdout",
          "text": [
            "\n",
            "Validation set: Average loss: 0.0006, Accuracy: 4600/5000 (92.00%)\n",
            "\n",
            "\n",
            "Test set: Average loss: 0.3138, Accuracy: 9191/10000 (91.91%)\n",
            "\n"
          ]
        }
      ],
      "source": [
        "# Training the model\n",
        "\n",
        "train_acc = []\n",
        "train_losses = []\n",
        "valid_accs = []\n",
        "valid_losses = []\n",
        "test_acc = []\n",
        "test_losses = []\n",
        "min_valid_loss = None\n",
        "max_acc = None\n",
        "\n",
        "EPOCHS = 120\n",
        "\n",
        "for i in range(EPOCHS):\n",
        "    print(f'EPOCHS : {i}')\n",
        "    model_training(model, device, trainloader, optimizer, train_acc, train_losses)\n",
        "\n",
        "    # Validating the model for the current epoch\n",
        "    valid_loss, valid_acc = model_evaluation(model, device, validloader)  \n",
        "\n",
        "    valid_losses.append(valid_loss)\n",
        "    valid_accs.append(valid_acc)\n",
        "\n",
        "    if not min_valid_loss:\n",
        "      min_valid_loss = valid_loss\n",
        "    else:\n",
        "      if valid_loss < min_valid_loss:\n",
        "        min_valid_loss = valid_loss\n",
        "        torch.save(model, \"best_model.pickle\")\n",
        "\n",
        "    scheduler.step(train_losses[-1])\n",
        "    # scheduler.step(valid_loss)\n",
        "\n",
        "    misclassified, test_acc2 = model_testing(model, device, testloader, test_acc, test_losses)\n",
        "\n",
        "    if not max_acc:\n",
        "      max_acc = test_acc2\n",
        "    else:\n",
        "      if test_acc2 > max_acc:\n",
        "        max_acc = test_acc2\n",
        "        torch.save(model, \"best_test_acc_model.pickle\")\n",
        "\n",
        "    save_to_csv(\"9_resnet_2_2_2_inchannels_64.csv\", train_losses, train_acc, test_losses, test_acc)\n",
        "  "
      ]
    },
    {
      "cell_type": "code",
      "source": [
        "# Best model\n",
        "model1 = torch.load(\"best_model.pickle\")\n",
        "model2 = torch.load(\"best_test_acc_model.pickle\")\n",
        "misclassified, _acc = model_testing(model1, device, testloader, test_acc, test_losses)\n",
        "misclassified, _acc = model_testing(model2, device, testloader, test_acc, test_losses)"
      ],
      "metadata": {
        "colab": {
          "base_uri": "https://localhost:8080/"
        },
        "id": "ocguQ5Q9p1Kt",
        "outputId": "50d7eab5-24d1-4240-ece5-22983c268024"
      },
      "execution_count": 19,
      "outputs": [
        {
          "output_type": "stream",
          "name": "stdout",
          "text": [
            "\n",
            "Test set: Average loss: 0.3061, Accuracy: 9195/10000 (91.95%)\n",
            "\n",
            "\n",
            "Test set: Average loss: 0.3120, Accuracy: 9203/10000 (92.03%)\n",
            "\n"
          ]
        }
      ]
    },
    {
      "cell_type": "code",
      "execution_count": 20,
      "metadata": {
        "execution": {
          "iopub.execute_input": "2020-09-18T14:33:11.004455Z",
          "iopub.status.busy": "2020-09-18T14:33:11.003592Z",
          "iopub.status.idle": "2020-09-18T14:33:11.886161Z",
          "shell.execute_reply": "2020-09-18T14:33:11.885385Z"
        },
        "papermill": {
          "duration": 4.212753,
          "end_time": "2020-09-18T14:33:11.886294",
          "exception": false,
          "start_time": "2020-09-18T14:33:07.673541",
          "status": "completed"
        },
        "tags": [],
        "colab": {
          "base_uri": "https://localhost:8080/",
          "height": 1000
        },
        "id": "3pYBPl8HKs_o",
        "outputId": "f0c6414e-b556-4f4f-d5ce-1a8152fad34f"
      },
      "outputs": [
        {
          "output_type": "execute_result",
          "data": {
            "text/plain": [
              "[<matplotlib.lines.Line2D at 0x7f600bff2bd0>]"
            ]
          },
          "metadata": {},
          "execution_count": 20
        },
        {
          "output_type": "display_data",
          "data": {
            "text/plain": [
              "<Figure size 1800x1440 with 4 Axes>"
            ],
            "image/png": "[encoded data removed]"
          },
          "metadata": {
            "needs_background": "light"
          }
        }
      ],
      "source": [
        "fig, axs = plt.subplots(2,2, figsize=(25,20))\n",
        "\n",
        "axs[0,0].set_title('Train Losses')\n",
        "axs[0,1].set_title('Training Accuracy')\n",
        "axs[1,0].set_title('Test Losses')\n",
        "axs[1,1].set_title('Test Accuracy')\n",
        "\n",
        "axs[0,0].plot(train_losses)\n",
        "axs[0,1].plot(train_acc)\n",
        "axs[1,0].plot(test_losses)\n",
        "axs[1,1].plot(test_acc)"
      ]
    },
    {
      "cell_type": "code",
      "source": [],
      "metadata": {
        "id": "DlPU6Co4ns_R"
      },
      "execution_count": 18,
      "outputs": []
    }
  ],
  "metadata": {
    "kernelspec": {
      "display_name": "Python 3",
      "language": "python",
      "name": "python3"
    },
    "language_info": {
      "codemirror_mode": {
        "name": "ipython",
        "version": 3
      },
      "file_extension": ".py",
      "mimetype": "text/x-python",
      "name": "python",
      "nbconvert_exporter": "python",
      "pygments_lexer": "ipython3",
      "version": "3.7.6"
    },
    "papermill": {
      "duration": 1617.594216,
      "end_time": "2020-09-18T14:33:16.593563",
      "environment_variables": {},
      "exception": null,
      "input_path": "__notebook__.ipynb",
      "output_path": "__notebook__.ipynb",
      "parameters": {},
      "start_time": "2020-09-18T14:06:18.999347",
      "version": "2.1.0"
    },
    "colab": {
      "provenance": []
    },
    "accelerator": "GPU",
    "gpuClass": "standard",
    "widgets": {
      "application/vnd.jupyter.widget-state+json": {
        "90ec0d9bffd54e198fd00631e2c29577": {
          "model_module": "@jupyter-widgets/controls",
          "model_name": "HBoxModel",
          "model_module_version": "1.5.0",
          "state": {
            "_dom_classes": [],
            "_model_module": "@jupyter-widgets/controls",
            "_model_module_version": "1.5.0",
            "_model_name": "HBoxModel",
            "_view_count": null,
            "_view_module": "@jupyter-widgets/controls",
            "_view_module_version": "1.5.0",
            "_view_name": "HBoxView",
            "box_style": "",
            "children": [
              "IPY_MODEL_30af251b3f0f4f1e9d2355128fc433ae",
              "IPY_MODEL_9c922f54f25e4e1aa29bc3ada385b209",
              "IPY_MODEL_143c08d5e3d84e8c821355c2c0ed9d34"
            ],
            "layout": "IPY_MODEL_3e4d5914773a4144beb784b38dbed63a"
          }
        },
        "30af251b3f0f4f1e9d2355128fc433ae": {
          "model_module": "@jupyter-widgets/controls",
          "model_name": "HTMLModel",
          "model_module_version": "1.5.0",
          "state": {
            "_dom_classes": [],
            "_model_module": "@jupyter-widgets/controls",
            "_model_module_version": "1.5.0",
            "_model_name": "HTMLModel",
            "_view_count": null,
            "_view_module": "@jupyter-widgets/controls",
            "_view_module_version": "1.5.0",
            "_view_name": "HTMLView",
            "description": "",
            "description_tooltip": null,
            "layout": "IPY_MODEL_3aee527ad9584bb8906c630dde863122",
            "placeholder": "​",
            "style": "IPY_MODEL_4bf5e060ff194548b7e109a003aedf2d",
            "value": "100%"
          }
        },
        "9c922f54f25e4e1aa29bc3ada385b209": {
          "model_module": "@jupyter-widgets/controls",
          "model_name": "FloatProgressModel",
          "model_module_version": "1.5.0",
          "state": {
            "_dom_classes": [],
            "_model_module": "@jupyter-widgets/controls",
            "_model_module_version": "1.5.0",
            "_model_name": "FloatProgressModel",
            "_view_count": null,
            "_view_module": "@jupyter-widgets/controls",
            "_view_module_version": "1.5.0",
            "_view_name": "ProgressView",
            "bar_style": "success",
            "description": "",
            "description_tooltip": null,
            "layout": "IPY_MODEL_a1289ceb79aa4b2cb37558cd5765ca8d",
            "max": 170498071,
            "min": 0,
            "orientation": "horizontal",
            "style": "IPY_MODEL_2955a7480bc242c8b4e60b341db0e1c9",
            "value": 170498071
          }
        },
        "143c08d5e3d84e8c821355c2c0ed9d34": {
          "model_module": "@jupyter-widgets/controls",
          "model_name": "HTMLModel",
          "model_module_version": "1.5.0",
          "state": {
            "_dom_classes": [],
            "_model_module": "@jupyter-widgets/controls",
            "_model_module_version": "1.5.0",
            "_model_name": "HTMLModel",
            "_view_count": null,
            "_view_module": "@jupyter-widgets/controls",
            "_view_module_version": "1.5.0",
            "_view_name": "HTMLView",
            "description": "",
            "description_tooltip": null,
            "layout": "IPY_MODEL_f76f00621c384dd3b6e232b3a4b1706b",
            "placeholder": "​",
            "style": "IPY_MODEL_bce2c903aec84a9c92369395ea3bf26d",
            "value": " 170498071/170498071 [00:05&lt;00:00, 32259136.81it/s]"
          }
        },
        "3e4d5914773a4144beb784b38dbed63a": {
          "model_module": "@jupyter-widgets/base",
          "model_name": "LayoutModel",
          "model_module_version": "1.2.0",
          "state": {
            "_model_module": "@jupyter-widgets/base",
            "_model_module_version": "1.2.0",
            "_model_name": "LayoutModel",
            "_view_count": null,
            "_view_module": "@jupyter-widgets/base",
            "_view_module_version": "1.2.0",
            "_view_name": "LayoutView",
            "align_content": null,
            "align_items": null,
            "align_self": null,
            "border": null,
            "bottom": null,
            "display": null,
            "flex": null,
            "flex_flow": null,
            "grid_area": null,
            "grid_auto_columns": null,
            "grid_auto_flow": null,
            "grid_auto_rows": null,
            "grid_column": null,
            "grid_gap": null,
            "grid_row": null,
            "grid_template_areas": null,
            "grid_template_columns": null,
            "grid_template_rows": null,
            "height": null,
            "justify_content": null,
            "justify_items": null,
            "left": null,
            "margin": null,
            "max_height": null,
            "max_width": null,
            "min_height": null,
            "min_width": null,
            "object_fit": null,
            "object_position": null,
            "order": null,
            "overflow": null,
            "overflow_x": null,
            "overflow_y": null,
            "padding": null,
            "right": null,
            "top": null,
            "visibility": null,
            "width": null
          }
        },
        "3aee527ad9584bb8906c630dde863122": {
          "model_module": "@jupyter-widgets/base",
          "model_name": "LayoutModel",
          "model_module_version": "1.2.0",
          "state": {
            "_model_module": "@jupyter-widgets/base",
            "_model_module_version": "1.2.0",
            "_model_name": "LayoutModel",
            "_view_count": null,
            "_view_module": "@jupyter-widgets/base",
            "_view_module_version": "1.2.0",
            "_view_name": "LayoutView",
            "align_content": null,
            "align_items": null,
            "align_self": null,
            "border": null,
            "bottom": null,
            "display": null,
            "flex": null,
            "flex_flow": null,
            "grid_area": null,
            "grid_auto_columns": null,
            "grid_auto_flow": null,
            "grid_auto_rows": null,
            "grid_column": null,
            "grid_gap": null,
            "grid_row": null,
            "grid_template_areas": null,
            "grid_template_columns": null,
            "grid_template_rows": null,
            "height": null,
            "justify_content": null,
            "justify_items": null,
            "left": null,
            "margin": null,
            "max_height": null,
            "max_width": null,
            "min_height": null,
            "min_width": null,
            "object_fit": null,
            "object_position": null,
            "order": null,
            "overflow": null,
            "overflow_x": null,
            "overflow_y": null,
            "padding": null,
            "right": null,
            "top": null,
            "visibility": null,
            "width": null
          }
        },
        "4bf5e060ff194548b7e109a003aedf2d": {
          "model_module": "@jupyter-widgets/controls",
          "model_name": "DescriptionStyleModel",
          "model_module_version": "1.5.0",
          "state": {
            "_model_module": "@jupyter-widgets/controls",
            "_model_module_version": "1.5.0",
            "_model_name": "DescriptionStyleModel",
            "_view_count": null,
            "_view_module": "@jupyter-widgets/base",
            "_view_module_version": "1.2.0",
            "_view_name": "StyleView",
            "description_width": ""
          }
        },
        "a1289ceb79aa4b2cb37558cd5765ca8d": {
          "model_module": "@jupyter-widgets/base",
          "model_name": "LayoutModel",
          "model_module_version": "1.2.0",
          "state": {
            "_model_module": "@jupyter-widgets/base",
            "_model_module_version": "1.2.0",
            "_model_name": "LayoutModel",
            "_view_count": null,
            "_view_module": "@jupyter-widgets/base",
            "_view_module_version": "1.2.0",
            "_view_name": "LayoutView",
            "align_content": null,
            "align_items": null,
            "align_self": null,
            "border": null,
            "bottom": null,
            "display": null,
            "flex": null,
            "flex_flow": null,
            "grid_area": null,
            "grid_auto_columns": null,
            "grid_auto_flow": null,
            "grid_auto_rows": null,
            "grid_column": null,
            "grid_gap": null,
            "grid_row": null,
            "grid_template_areas": null,
            "grid_template_columns": null,
            "grid_template_rows": null,
            "height": null,
            "justify_content": null,
            "justify_items": null,
            "left": null,
            "margin": null,
            "max_height": null,
            "max_width": null,
            "min_height": null,
            "min_width": null,
            "object_fit": null,
            "object_position": null,
            "order": null,
            "overflow": null,
            "overflow_x": null,
            "overflow_y": null,
            "padding": null,
            "right": null,
            "top": null,
            "visibility": null,
            "width": null
          }
        },
        "2955a7480bc242c8b4e60b341db0e1c9": {
          "model_module": "@jupyter-widgets/controls",
          "model_name": "ProgressStyleModel",
          "model_module_version": "1.5.0",
          "state": {
            "_model_module": "@jupyter-widgets/controls",
            "_model_module_version": "1.5.0",
            "_model_name": "ProgressStyleModel",
            "_view_count": null,
            "_view_module": "@jupyter-widgets/base",
            "_view_module_version": "1.2.0",
            "_view_name": "StyleView",
            "bar_color": null,
            "description_width": ""
          }
        },
        "f76f00621c384dd3b6e232b3a4b1706b": {
          "model_module": "@jupyter-widgets/base",
          "model_name": "LayoutModel",
          "model_module_version": "1.2.0",
          "state": {
            "_model_module": "@jupyter-widgets/base",
            "_model_module_version": "1.2.0",
            "_model_name": "LayoutModel",
            "_view_count": null,
            "_view_module": "@jupyter-widgets/base",
            "_view_module_version": "1.2.0",
            "_view_name": "LayoutView",
            "align_content": null,
            "align_items": null,
            "align_self": null,
            "border": null,
            "bottom": null,
            "display": null,
            "flex": null,
            "flex_flow": null,
            "grid_area": null,
            "grid_auto_columns": null,
            "grid_auto_flow": null,
            "grid_auto_rows": null,
            "grid_column": null,
            "grid_gap": null,
            "grid_row": null,
            "grid_template_areas": null,
            "grid_template_columns": null,
            "grid_template_rows": null,
            "height": null,
            "justify_content": null,
            "justify_items": null,
            "left": null,
            "margin": null,
            "max_height": null,
            "max_width": null,
            "min_height": null,
            "min_width": null,
            "object_fit": null,
            "object_position": null,
            "order": null,
            "overflow": null,
            "overflow_x": null,
            "overflow_y": null,
            "padding": null,
            "right": null,
            "top": null,
            "visibility": null,
            "width": null
          }
        },
        "bce2c903aec84a9c92369395ea3bf26d": {
          "model_module": "@jupyter-widgets/controls",
          "model_name": "DescriptionStyleModel",
          "model_module_version": "1.5.0",
          "state": {
            "_model_module": "@jupyter-widgets/controls",
            "_model_module_version": "1.5.0",
            "_model_name": "DescriptionStyleModel",
            "_view_count": null,
            "_view_module": "@jupyter-widgets/base",
            "_view_module_version": "1.2.0",
            "_view_name": "StyleView",
            "description_width": ""
          }
        }
      }
    }
  },
  "nbformat": 4,
  "nbformat_minor": 0
}